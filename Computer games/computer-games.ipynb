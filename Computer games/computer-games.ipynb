{
 "cells": [
  {
   "cell_type": "markdown",
   "metadata": {},
   "source": [
    "Вы работаете в интернет-магазине «Стримчик», который продаёт по всему миру компьютерные игры. Из открытых источников доступны исторические данные о продажах игр, оценки пользователей и экспертов, жанры и платформы (например, Xbox или PlayStation). Вам нужно выявить определяющие успешность игры закономерности. Это позволит сделать ставку на потенциально популярный продукт и спланировать рекламные кампании.\n",
    "Перед вами данные до 2016 года. Представим, что сейчас декабрь 2016 г., и вы планируете кампанию на 2017-й. Нужно отработать принцип работы с данными. Неважно, прогнозируете ли вы продажи на 2017 год по данным 2016-го или же 2027-й — по данным 2026 года.\n",
    "В наборе данных попадается аббревиатура ESRB (Entertainment Software Rating Board) — это ассоциация, определяющая возрастной рейтинг компьютерных игр. ESRB оценивает игровой контент и присваивает ему подходящую возрастную категорию, например, «Для взрослых», «Для детей младшего возраста» или «Для подростков»."
   ]
  },
  {
   "cell_type": "markdown",
   "metadata": {},
   "source": [
    "Описание данных:\n",
    "- Name — название игры\n",
    "- Platform — платформа\n",
    "- Year_of_Release — год выпуска\n",
    "- Genre — жанр игры\n",
    "- NA_sales — продажи в Северной Америке (миллионы проданных копий)\n",
    "- EU_sales — продажи в Европе (миллионы проданных копий)\n",
    "- JP_sales — продажи в Японии (миллионы проданных копий)\n",
    "- Other_sales — продажи в других странах (миллионы проданных копий)\n",
    "- Critic_Score — оценка критиков (максимум 100)\n",
    "- User_Score — оценка пользователей (максимум 10)\n",
    "- Rating — рейтинг от организации ESRB (англ. Entertainment Software Rating Board). Эта ассоциация определяет рейтинг компьютерных игр и присваивает им подходящую возрастную категорию."
   ]
  },
  {
   "cell_type": "markdown",
   "metadata": {},
   "source": [
    "# 1. Откройте файл с данными и изучите общую информацию"
   ]
  },
  {
   "cell_type": "code",
   "execution_count": 1,
   "metadata": {},
   "outputs": [],
   "source": [
    "import pandas as pd\n",
    "import numpy as np\n",
    "import seaborn as sns\n",
    "import matplotlib.pyplot as plt\n",
    "from scipy import stats as st"
   ]
  },
  {
   "cell_type": "code",
   "execution_count": 2,
   "metadata": {},
   "outputs": [],
   "source": [
    "\n",
    "try:\n",
    "    df = pd.read_csv('/datasets/games.csv')\n",
    "except:\n",
    "    df = pd.read_csv('D:/Yandex/games.csv')"
   ]
  },
  {
   "cell_type": "code",
   "execution_count": 3,
   "metadata": {},
   "outputs": [
    {
     "data": {
      "text/html": [
       "<div>\n",
       "<style scoped>\n",
       "    .dataframe tbody tr th:only-of-type {\n",
       "        vertical-align: middle;\n",
       "    }\n",
       "\n",
       "    .dataframe tbody tr th {\n",
       "        vertical-align: top;\n",
       "    }\n",
       "\n",
       "    .dataframe thead th {\n",
       "        text-align: right;\n",
       "    }\n",
       "</style>\n",
       "<table border=\"1\" class=\"dataframe\">\n",
       "  <thead>\n",
       "    <tr style=\"text-align: right;\">\n",
       "      <th></th>\n",
       "      <th>Name</th>\n",
       "      <th>Platform</th>\n",
       "      <th>Year_of_Release</th>\n",
       "      <th>Genre</th>\n",
       "      <th>NA_sales</th>\n",
       "      <th>EU_sales</th>\n",
       "      <th>JP_sales</th>\n",
       "      <th>Other_sales</th>\n",
       "      <th>Critic_Score</th>\n",
       "      <th>User_Score</th>\n",
       "      <th>Rating</th>\n",
       "    </tr>\n",
       "  </thead>\n",
       "  <tbody>\n",
       "    <tr>\n",
       "      <th>0</th>\n",
       "      <td>Wii Sports</td>\n",
       "      <td>Wii</td>\n",
       "      <td>2006.0</td>\n",
       "      <td>Sports</td>\n",
       "      <td>41.36</td>\n",
       "      <td>28.96</td>\n",
       "      <td>3.77</td>\n",
       "      <td>8.45</td>\n",
       "      <td>76.0</td>\n",
       "      <td>8</td>\n",
       "      <td>E</td>\n",
       "    </tr>\n",
       "    <tr>\n",
       "      <th>1</th>\n",
       "      <td>Super Mario Bros.</td>\n",
       "      <td>NES</td>\n",
       "      <td>1985.0</td>\n",
       "      <td>Platform</td>\n",
       "      <td>29.08</td>\n",
       "      <td>3.58</td>\n",
       "      <td>6.81</td>\n",
       "      <td>0.77</td>\n",
       "      <td>NaN</td>\n",
       "      <td>NaN</td>\n",
       "      <td>NaN</td>\n",
       "    </tr>\n",
       "    <tr>\n",
       "      <th>2</th>\n",
       "      <td>Mario Kart Wii</td>\n",
       "      <td>Wii</td>\n",
       "      <td>2008.0</td>\n",
       "      <td>Racing</td>\n",
       "      <td>15.68</td>\n",
       "      <td>12.76</td>\n",
       "      <td>3.79</td>\n",
       "      <td>3.29</td>\n",
       "      <td>82.0</td>\n",
       "      <td>8.3</td>\n",
       "      <td>E</td>\n",
       "    </tr>\n",
       "    <tr>\n",
       "      <th>3</th>\n",
       "      <td>Wii Sports Resort</td>\n",
       "      <td>Wii</td>\n",
       "      <td>2009.0</td>\n",
       "      <td>Sports</td>\n",
       "      <td>15.61</td>\n",
       "      <td>10.93</td>\n",
       "      <td>3.28</td>\n",
       "      <td>2.95</td>\n",
       "      <td>80.0</td>\n",
       "      <td>8</td>\n",
       "      <td>E</td>\n",
       "    </tr>\n",
       "    <tr>\n",
       "      <th>4</th>\n",
       "      <td>Pokemon Red/Pokemon Blue</td>\n",
       "      <td>GB</td>\n",
       "      <td>1996.0</td>\n",
       "      <td>Role-Playing</td>\n",
       "      <td>11.27</td>\n",
       "      <td>8.89</td>\n",
       "      <td>10.22</td>\n",
       "      <td>1.00</td>\n",
       "      <td>NaN</td>\n",
       "      <td>NaN</td>\n",
       "      <td>NaN</td>\n",
       "    </tr>\n",
       "    <tr>\n",
       "      <th>5</th>\n",
       "      <td>Tetris</td>\n",
       "      <td>GB</td>\n",
       "      <td>1989.0</td>\n",
       "      <td>Puzzle</td>\n",
       "      <td>23.20</td>\n",
       "      <td>2.26</td>\n",
       "      <td>4.22</td>\n",
       "      <td>0.58</td>\n",
       "      <td>NaN</td>\n",
       "      <td>NaN</td>\n",
       "      <td>NaN</td>\n",
       "    </tr>\n",
       "    <tr>\n",
       "      <th>6</th>\n",
       "      <td>New Super Mario Bros.</td>\n",
       "      <td>DS</td>\n",
       "      <td>2006.0</td>\n",
       "      <td>Platform</td>\n",
       "      <td>11.28</td>\n",
       "      <td>9.14</td>\n",
       "      <td>6.50</td>\n",
       "      <td>2.88</td>\n",
       "      <td>89.0</td>\n",
       "      <td>8.5</td>\n",
       "      <td>E</td>\n",
       "    </tr>\n",
       "    <tr>\n",
       "      <th>7</th>\n",
       "      <td>Wii Play</td>\n",
       "      <td>Wii</td>\n",
       "      <td>2006.0</td>\n",
       "      <td>Misc</td>\n",
       "      <td>13.96</td>\n",
       "      <td>9.18</td>\n",
       "      <td>2.93</td>\n",
       "      <td>2.84</td>\n",
       "      <td>58.0</td>\n",
       "      <td>6.6</td>\n",
       "      <td>E</td>\n",
       "    </tr>\n",
       "    <tr>\n",
       "      <th>8</th>\n",
       "      <td>New Super Mario Bros. Wii</td>\n",
       "      <td>Wii</td>\n",
       "      <td>2009.0</td>\n",
       "      <td>Platform</td>\n",
       "      <td>14.44</td>\n",
       "      <td>6.94</td>\n",
       "      <td>4.70</td>\n",
       "      <td>2.24</td>\n",
       "      <td>87.0</td>\n",
       "      <td>8.4</td>\n",
       "      <td>E</td>\n",
       "    </tr>\n",
       "    <tr>\n",
       "      <th>9</th>\n",
       "      <td>Duck Hunt</td>\n",
       "      <td>NES</td>\n",
       "      <td>1984.0</td>\n",
       "      <td>Shooter</td>\n",
       "      <td>26.93</td>\n",
       "      <td>0.63</td>\n",
       "      <td>0.28</td>\n",
       "      <td>0.47</td>\n",
       "      <td>NaN</td>\n",
       "      <td>NaN</td>\n",
       "      <td>NaN</td>\n",
       "    </tr>\n",
       "    <tr>\n",
       "      <th>10</th>\n",
       "      <td>Nintendogs</td>\n",
       "      <td>DS</td>\n",
       "      <td>2005.0</td>\n",
       "      <td>Simulation</td>\n",
       "      <td>9.05</td>\n",
       "      <td>10.95</td>\n",
       "      <td>1.93</td>\n",
       "      <td>2.74</td>\n",
       "      <td>NaN</td>\n",
       "      <td>NaN</td>\n",
       "      <td>NaN</td>\n",
       "    </tr>\n",
       "    <tr>\n",
       "      <th>11</th>\n",
       "      <td>Mario Kart DS</td>\n",
       "      <td>DS</td>\n",
       "      <td>2005.0</td>\n",
       "      <td>Racing</td>\n",
       "      <td>9.71</td>\n",
       "      <td>7.47</td>\n",
       "      <td>4.13</td>\n",
       "      <td>1.90</td>\n",
       "      <td>91.0</td>\n",
       "      <td>8.6</td>\n",
       "      <td>E</td>\n",
       "    </tr>\n",
       "    <tr>\n",
       "      <th>12</th>\n",
       "      <td>Pokemon Gold/Pokemon Silver</td>\n",
       "      <td>GB</td>\n",
       "      <td>1999.0</td>\n",
       "      <td>Role-Playing</td>\n",
       "      <td>9.00</td>\n",
       "      <td>6.18</td>\n",
       "      <td>7.20</td>\n",
       "      <td>0.71</td>\n",
       "      <td>NaN</td>\n",
       "      <td>NaN</td>\n",
       "      <td>NaN</td>\n",
       "    </tr>\n",
       "    <tr>\n",
       "      <th>13</th>\n",
       "      <td>Wii Fit</td>\n",
       "      <td>Wii</td>\n",
       "      <td>2007.0</td>\n",
       "      <td>Sports</td>\n",
       "      <td>8.92</td>\n",
       "      <td>8.03</td>\n",
       "      <td>3.60</td>\n",
       "      <td>2.15</td>\n",
       "      <td>80.0</td>\n",
       "      <td>7.7</td>\n",
       "      <td>E</td>\n",
       "    </tr>\n",
       "    <tr>\n",
       "      <th>14</th>\n",
       "      <td>Kinect Adventures!</td>\n",
       "      <td>X360</td>\n",
       "      <td>2010.0</td>\n",
       "      <td>Misc</td>\n",
       "      <td>15.00</td>\n",
       "      <td>4.89</td>\n",
       "      <td>0.24</td>\n",
       "      <td>1.69</td>\n",
       "      <td>61.0</td>\n",
       "      <td>6.3</td>\n",
       "      <td>E</td>\n",
       "    </tr>\n",
       "  </tbody>\n",
       "</table>\n",
       "</div>"
      ],
      "text/plain": [
       "                           Name Platform  Year_of_Release         Genre  \\\n",
       "0                    Wii Sports      Wii           2006.0        Sports   \n",
       "1             Super Mario Bros.      NES           1985.0      Platform   \n",
       "2                Mario Kart Wii      Wii           2008.0        Racing   \n",
       "3             Wii Sports Resort      Wii           2009.0        Sports   \n",
       "4      Pokemon Red/Pokemon Blue       GB           1996.0  Role-Playing   \n",
       "5                        Tetris       GB           1989.0        Puzzle   \n",
       "6         New Super Mario Bros.       DS           2006.0      Platform   \n",
       "7                      Wii Play      Wii           2006.0          Misc   \n",
       "8     New Super Mario Bros. Wii      Wii           2009.0      Platform   \n",
       "9                     Duck Hunt      NES           1984.0       Shooter   \n",
       "10                   Nintendogs       DS           2005.0    Simulation   \n",
       "11                Mario Kart DS       DS           2005.0        Racing   \n",
       "12  Pokemon Gold/Pokemon Silver       GB           1999.0  Role-Playing   \n",
       "13                      Wii Fit      Wii           2007.0        Sports   \n",
       "14           Kinect Adventures!     X360           2010.0          Misc   \n",
       "\n",
       "    NA_sales  EU_sales  JP_sales  Other_sales  Critic_Score User_Score Rating  \n",
       "0      41.36     28.96      3.77         8.45          76.0          8      E  \n",
       "1      29.08      3.58      6.81         0.77           NaN        NaN    NaN  \n",
       "2      15.68     12.76      3.79         3.29          82.0        8.3      E  \n",
       "3      15.61     10.93      3.28         2.95          80.0          8      E  \n",
       "4      11.27      8.89     10.22         1.00           NaN        NaN    NaN  \n",
       "5      23.20      2.26      4.22         0.58           NaN        NaN    NaN  \n",
       "6      11.28      9.14      6.50         2.88          89.0        8.5      E  \n",
       "7      13.96      9.18      2.93         2.84          58.0        6.6      E  \n",
       "8      14.44      6.94      4.70         2.24          87.0        8.4      E  \n",
       "9      26.93      0.63      0.28         0.47           NaN        NaN    NaN  \n",
       "10      9.05     10.95      1.93         2.74           NaN        NaN    NaN  \n",
       "11      9.71      7.47      4.13         1.90          91.0        8.6      E  \n",
       "12      9.00      6.18      7.20         0.71           NaN        NaN    NaN  \n",
       "13      8.92      8.03      3.60         2.15          80.0        7.7      E  \n",
       "14     15.00      4.89      0.24         1.69          61.0        6.3      E  "
      ]
     },
     "execution_count": 3,
     "metadata": {},
     "output_type": "execute_result"
    }
   ],
   "source": [
    "df.head(15)"
   ]
  },
  {
   "cell_type": "code",
   "execution_count": 4,
   "metadata": {},
   "outputs": [
    {
     "data": {
      "text/html": [
       "<div>\n",
       "<style scoped>\n",
       "    .dataframe tbody tr th:only-of-type {\n",
       "        vertical-align: middle;\n",
       "    }\n",
       "\n",
       "    .dataframe tbody tr th {\n",
       "        vertical-align: top;\n",
       "    }\n",
       "\n",
       "    .dataframe thead th {\n",
       "        text-align: right;\n",
       "    }\n",
       "</style>\n",
       "<table border=\"1\" class=\"dataframe\">\n",
       "  <thead>\n",
       "    <tr style=\"text-align: right;\">\n",
       "      <th></th>\n",
       "      <th>Name</th>\n",
       "      <th>Platform</th>\n",
       "      <th>Year_of_Release</th>\n",
       "      <th>Genre</th>\n",
       "      <th>NA_sales</th>\n",
       "      <th>EU_sales</th>\n",
       "      <th>JP_sales</th>\n",
       "      <th>Other_sales</th>\n",
       "      <th>Critic_Score</th>\n",
       "      <th>User_Score</th>\n",
       "      <th>Rating</th>\n",
       "    </tr>\n",
       "  </thead>\n",
       "  <tbody>\n",
       "    <tr>\n",
       "      <th>16700</th>\n",
       "      <td>Mezase!! Tsuri Master DS</td>\n",
       "      <td>DS</td>\n",
       "      <td>2009.0</td>\n",
       "      <td>Sports</td>\n",
       "      <td>0.00</td>\n",
       "      <td>0.00</td>\n",
       "      <td>0.01</td>\n",
       "      <td>0.0</td>\n",
       "      <td>NaN</td>\n",
       "      <td>NaN</td>\n",
       "      <td>NaN</td>\n",
       "    </tr>\n",
       "    <tr>\n",
       "      <th>16701</th>\n",
       "      <td>Eiyuu Densetsu: Sora no Kiseki Material Collec...</td>\n",
       "      <td>PSP</td>\n",
       "      <td>2007.0</td>\n",
       "      <td>Role-Playing</td>\n",
       "      <td>0.00</td>\n",
       "      <td>0.00</td>\n",
       "      <td>0.01</td>\n",
       "      <td>0.0</td>\n",
       "      <td>NaN</td>\n",
       "      <td>NaN</td>\n",
       "      <td>NaN</td>\n",
       "    </tr>\n",
       "    <tr>\n",
       "      <th>16702</th>\n",
       "      <td>STORM: Frontline Nation</td>\n",
       "      <td>PC</td>\n",
       "      <td>2011.0</td>\n",
       "      <td>Strategy</td>\n",
       "      <td>0.00</td>\n",
       "      <td>0.01</td>\n",
       "      <td>0.00</td>\n",
       "      <td>0.0</td>\n",
       "      <td>60.0</td>\n",
       "      <td>7.2</td>\n",
       "      <td>E10+</td>\n",
       "    </tr>\n",
       "    <tr>\n",
       "      <th>16703</th>\n",
       "      <td>Strawberry Nauts</td>\n",
       "      <td>PSV</td>\n",
       "      <td>2016.0</td>\n",
       "      <td>Adventure</td>\n",
       "      <td>0.00</td>\n",
       "      <td>0.00</td>\n",
       "      <td>0.01</td>\n",
       "      <td>0.0</td>\n",
       "      <td>NaN</td>\n",
       "      <td>NaN</td>\n",
       "      <td>NaN</td>\n",
       "    </tr>\n",
       "    <tr>\n",
       "      <th>16704</th>\n",
       "      <td>Plushees</td>\n",
       "      <td>DS</td>\n",
       "      <td>2008.0</td>\n",
       "      <td>Simulation</td>\n",
       "      <td>0.01</td>\n",
       "      <td>0.00</td>\n",
       "      <td>0.00</td>\n",
       "      <td>0.0</td>\n",
       "      <td>NaN</td>\n",
       "      <td>tbd</td>\n",
       "      <td>E</td>\n",
       "    </tr>\n",
       "    <tr>\n",
       "      <th>16705</th>\n",
       "      <td>15 Days</td>\n",
       "      <td>PC</td>\n",
       "      <td>2009.0</td>\n",
       "      <td>Adventure</td>\n",
       "      <td>0.00</td>\n",
       "      <td>0.01</td>\n",
       "      <td>0.00</td>\n",
       "      <td>0.0</td>\n",
       "      <td>63.0</td>\n",
       "      <td>5.8</td>\n",
       "      <td>NaN</td>\n",
       "    </tr>\n",
       "    <tr>\n",
       "      <th>16706</th>\n",
       "      <td>Men in Black II: Alien Escape</td>\n",
       "      <td>GC</td>\n",
       "      <td>2003.0</td>\n",
       "      <td>Shooter</td>\n",
       "      <td>0.01</td>\n",
       "      <td>0.00</td>\n",
       "      <td>0.00</td>\n",
       "      <td>0.0</td>\n",
       "      <td>NaN</td>\n",
       "      <td>tbd</td>\n",
       "      <td>T</td>\n",
       "    </tr>\n",
       "    <tr>\n",
       "      <th>16707</th>\n",
       "      <td>Aiyoku no Eustia</td>\n",
       "      <td>PSV</td>\n",
       "      <td>2014.0</td>\n",
       "      <td>Misc</td>\n",
       "      <td>0.00</td>\n",
       "      <td>0.00</td>\n",
       "      <td>0.01</td>\n",
       "      <td>0.0</td>\n",
       "      <td>NaN</td>\n",
       "      <td>NaN</td>\n",
       "      <td>NaN</td>\n",
       "    </tr>\n",
       "    <tr>\n",
       "      <th>16708</th>\n",
       "      <td>Woody Woodpecker in Crazy Castle 5</td>\n",
       "      <td>GBA</td>\n",
       "      <td>2002.0</td>\n",
       "      <td>Platform</td>\n",
       "      <td>0.01</td>\n",
       "      <td>0.00</td>\n",
       "      <td>0.00</td>\n",
       "      <td>0.0</td>\n",
       "      <td>NaN</td>\n",
       "      <td>NaN</td>\n",
       "      <td>NaN</td>\n",
       "    </tr>\n",
       "    <tr>\n",
       "      <th>16709</th>\n",
       "      <td>SCORE International Baja 1000: The Official Game</td>\n",
       "      <td>PS2</td>\n",
       "      <td>2008.0</td>\n",
       "      <td>Racing</td>\n",
       "      <td>0.00</td>\n",
       "      <td>0.00</td>\n",
       "      <td>0.00</td>\n",
       "      <td>0.0</td>\n",
       "      <td>NaN</td>\n",
       "      <td>NaN</td>\n",
       "      <td>NaN</td>\n",
       "    </tr>\n",
       "    <tr>\n",
       "      <th>16710</th>\n",
       "      <td>Samurai Warriors: Sanada Maru</td>\n",
       "      <td>PS3</td>\n",
       "      <td>2016.0</td>\n",
       "      <td>Action</td>\n",
       "      <td>0.00</td>\n",
       "      <td>0.00</td>\n",
       "      <td>0.01</td>\n",
       "      <td>0.0</td>\n",
       "      <td>NaN</td>\n",
       "      <td>NaN</td>\n",
       "      <td>NaN</td>\n",
       "    </tr>\n",
       "    <tr>\n",
       "      <th>16711</th>\n",
       "      <td>LMA Manager 2007</td>\n",
       "      <td>X360</td>\n",
       "      <td>2006.0</td>\n",
       "      <td>Sports</td>\n",
       "      <td>0.00</td>\n",
       "      <td>0.01</td>\n",
       "      <td>0.00</td>\n",
       "      <td>0.0</td>\n",
       "      <td>NaN</td>\n",
       "      <td>NaN</td>\n",
       "      <td>NaN</td>\n",
       "    </tr>\n",
       "    <tr>\n",
       "      <th>16712</th>\n",
       "      <td>Haitaka no Psychedelica</td>\n",
       "      <td>PSV</td>\n",
       "      <td>2016.0</td>\n",
       "      <td>Adventure</td>\n",
       "      <td>0.00</td>\n",
       "      <td>0.00</td>\n",
       "      <td>0.01</td>\n",
       "      <td>0.0</td>\n",
       "      <td>NaN</td>\n",
       "      <td>NaN</td>\n",
       "      <td>NaN</td>\n",
       "    </tr>\n",
       "    <tr>\n",
       "      <th>16713</th>\n",
       "      <td>Spirits &amp; Spells</td>\n",
       "      <td>GBA</td>\n",
       "      <td>2003.0</td>\n",
       "      <td>Platform</td>\n",
       "      <td>0.01</td>\n",
       "      <td>0.00</td>\n",
       "      <td>0.00</td>\n",
       "      <td>0.0</td>\n",
       "      <td>NaN</td>\n",
       "      <td>NaN</td>\n",
       "      <td>NaN</td>\n",
       "    </tr>\n",
       "    <tr>\n",
       "      <th>16714</th>\n",
       "      <td>Winning Post 8 2016</td>\n",
       "      <td>PSV</td>\n",
       "      <td>2016.0</td>\n",
       "      <td>Simulation</td>\n",
       "      <td>0.00</td>\n",
       "      <td>0.00</td>\n",
       "      <td>0.01</td>\n",
       "      <td>0.0</td>\n",
       "      <td>NaN</td>\n",
       "      <td>NaN</td>\n",
       "      <td>NaN</td>\n",
       "    </tr>\n",
       "  </tbody>\n",
       "</table>\n",
       "</div>"
      ],
      "text/plain": [
       "                                                    Name Platform  \\\n",
       "16700                           Mezase!! Tsuri Master DS       DS   \n",
       "16701  Eiyuu Densetsu: Sora no Kiseki Material Collec...      PSP   \n",
       "16702                            STORM: Frontline Nation       PC   \n",
       "16703                                   Strawberry Nauts      PSV   \n",
       "16704                                           Plushees       DS   \n",
       "16705                                            15 Days       PC   \n",
       "16706                      Men in Black II: Alien Escape       GC   \n",
       "16707                                   Aiyoku no Eustia      PSV   \n",
       "16708                 Woody Woodpecker in Crazy Castle 5      GBA   \n",
       "16709   SCORE International Baja 1000: The Official Game      PS2   \n",
       "16710                      Samurai Warriors: Sanada Maru      PS3   \n",
       "16711                                   LMA Manager 2007     X360   \n",
       "16712                            Haitaka no Psychedelica      PSV   \n",
       "16713                                   Spirits & Spells      GBA   \n",
       "16714                                Winning Post 8 2016      PSV   \n",
       "\n",
       "       Year_of_Release         Genre  NA_sales  EU_sales  JP_sales  \\\n",
       "16700           2009.0        Sports      0.00      0.00      0.01   \n",
       "16701           2007.0  Role-Playing      0.00      0.00      0.01   \n",
       "16702           2011.0      Strategy      0.00      0.01      0.00   \n",
       "16703           2016.0     Adventure      0.00      0.00      0.01   \n",
       "16704           2008.0    Simulation      0.01      0.00      0.00   \n",
       "16705           2009.0     Adventure      0.00      0.01      0.00   \n",
       "16706           2003.0       Shooter      0.01      0.00      0.00   \n",
       "16707           2014.0          Misc      0.00      0.00      0.01   \n",
       "16708           2002.0      Platform      0.01      0.00      0.00   \n",
       "16709           2008.0        Racing      0.00      0.00      0.00   \n",
       "16710           2016.0        Action      0.00      0.00      0.01   \n",
       "16711           2006.0        Sports      0.00      0.01      0.00   \n",
       "16712           2016.0     Adventure      0.00      0.00      0.01   \n",
       "16713           2003.0      Platform      0.01      0.00      0.00   \n",
       "16714           2016.0    Simulation      0.00      0.00      0.01   \n",
       "\n",
       "       Other_sales  Critic_Score User_Score Rating  \n",
       "16700          0.0           NaN        NaN    NaN  \n",
       "16701          0.0           NaN        NaN    NaN  \n",
       "16702          0.0          60.0        7.2   E10+  \n",
       "16703          0.0           NaN        NaN    NaN  \n",
       "16704          0.0           NaN        tbd      E  \n",
       "16705          0.0          63.0        5.8    NaN  \n",
       "16706          0.0           NaN        tbd      T  \n",
       "16707          0.0           NaN        NaN    NaN  \n",
       "16708          0.0           NaN        NaN    NaN  \n",
       "16709          0.0           NaN        NaN    NaN  \n",
       "16710          0.0           NaN        NaN    NaN  \n",
       "16711          0.0           NaN        NaN    NaN  \n",
       "16712          0.0           NaN        NaN    NaN  \n",
       "16713          0.0           NaN        NaN    NaN  \n",
       "16714          0.0           NaN        NaN    NaN  "
      ]
     },
     "execution_count": 4,
     "metadata": {},
     "output_type": "execute_result"
    }
   ],
   "source": [
    "df.tail(15)"
   ]
  },
  {
   "cell_type": "code",
   "execution_count": 5,
   "metadata": {},
   "outputs": [
    {
     "name": "stdout",
     "output_type": "stream",
     "text": [
      "<class 'pandas.core.frame.DataFrame'>\n",
      "RangeIndex: 16715 entries, 0 to 16714\n",
      "Data columns (total 11 columns):\n",
      " #   Column           Non-Null Count  Dtype  \n",
      "---  ------           --------------  -----  \n",
      " 0   Name             16713 non-null  object \n",
      " 1   Platform         16715 non-null  object \n",
      " 2   Year_of_Release  16446 non-null  float64\n",
      " 3   Genre            16713 non-null  object \n",
      " 4   NA_sales         16715 non-null  float64\n",
      " 5   EU_sales         16715 non-null  float64\n",
      " 6   JP_sales         16715 non-null  float64\n",
      " 7   Other_sales      16715 non-null  float64\n",
      " 8   Critic_Score     8137 non-null   float64\n",
      " 9   User_Score       10014 non-null  object \n",
      " 10  Rating           9949 non-null   object \n",
      "dtypes: float64(6), object(5)\n",
      "memory usage: 1.4+ MB\n"
     ]
    }
   ],
   "source": [
    "df.info()"
   ]
  },
  {
   "cell_type": "code",
   "execution_count": 6,
   "metadata": {},
   "outputs": [
    {
     "data": {
      "image/png": "[encoded data removed]",
      "text/plain": [
       "<Figure size 1080x1440 with 6 Axes>"
      ]
     },
     "metadata": {
      "needs_background": "light"
     },
     "output_type": "display_data"
    }
   ],
   "source": [
    "df.hist(figsize=(15, 20));"
   ]
  },
  {
   "cell_type": "markdown",
   "metadata": {},
   "source": [
    "Привести к нижнему регистру названия столбцов. Изменить тип данных в Year_of_Release на int. Обработать пропуски, там где это возможно."
   ]
  },
  {
   "cell_type": "markdown",
   "metadata": {},
   "source": [
    "# 2. Подготовьте данные"
   ]
  },
  {
   "cell_type": "code",
   "execution_count": 7,
   "metadata": {},
   "outputs": [],
   "source": [
    "# Замените названия столбцов (приведите к нижнему регистру)\n",
    "df.columns = df.columns.str.lower()"
   ]
  },
  {
   "cell_type": "code",
   "execution_count": 8,
   "metadata": {},
   "outputs": [],
   "source": [
    "# Обработайте пропуски при необходимости:\n",
    "df.isnull().sum()\n",
    "df.duplicated().sum()\n",
    "df.dropna(subset=['name', 'year_of_release', 'genre'], inplace=True)"
   ]
  },
  {
   "cell_type": "code",
   "execution_count": 9,
   "metadata": {},
   "outputs": [
    {
     "data": {
      "text/html": [
       "<style  type=\"text/css\" >\n",
       "#T_a803e_row0_col0,#T_a803e_row1_col0,#T_a803e_row2_col0,#T_a803e_row3_col0,#T_a803e_row4_col0,#T_a803e_row5_col0,#T_a803e_row6_col0,#T_a803e_row7_col0{\n",
       "            background-color:  #3b4cc0;\n",
       "            color:  #f1f1f1;\n",
       "        }#T_a803e_row8_col0{\n",
       "            background-color:  #b40426;\n",
       "            color:  #f1f1f1;\n",
       "        }#T_a803e_row9_col0{\n",
       "            background-color:  #f08b6e;\n",
       "            color:  #000000;\n",
       "        }#T_a803e_row10_col0{\n",
       "            background-color:  #ed8366;\n",
       "            color:  #000000;\n",
       "        }</style><table id=\"T_a803e_\" ><thead>    <tr>        <th class=\"blank level0\" ></th>        <th class=\"col_heading level0 col0\" >0</th>    </tr></thead><tbody>\n",
       "                <tr>\n",
       "                        <th id=\"T_a803e_level0_row0\" class=\"row_heading level0 row0\" >name</th>\n",
       "                        <td id=\"T_a803e_row0_col0\" class=\"data row0 col0\" >0.000000</td>\n",
       "            </tr>\n",
       "            <tr>\n",
       "                        <th id=\"T_a803e_level0_row1\" class=\"row_heading level0 row1\" >platform</th>\n",
       "                        <td id=\"T_a803e_row1_col0\" class=\"data row1 col0\" >0.000000</td>\n",
       "            </tr>\n",
       "            <tr>\n",
       "                        <th id=\"T_a803e_level0_row2\" class=\"row_heading level0 row2\" >year_of_release</th>\n",
       "                        <td id=\"T_a803e_row2_col0\" class=\"data row2 col0\" >0.000000</td>\n",
       "            </tr>\n",
       "            <tr>\n",
       "                        <th id=\"T_a803e_level0_row3\" class=\"row_heading level0 row3\" >genre</th>\n",
       "                        <td id=\"T_a803e_row3_col0\" class=\"data row3 col0\" >0.000000</td>\n",
       "            </tr>\n",
       "            <tr>\n",
       "                        <th id=\"T_a803e_level0_row4\" class=\"row_heading level0 row4\" >na_sales</th>\n",
       "                        <td id=\"T_a803e_row4_col0\" class=\"data row4 col0\" >0.000000</td>\n",
       "            </tr>\n",
       "            <tr>\n",
       "                        <th id=\"T_a803e_level0_row5\" class=\"row_heading level0 row5\" >eu_sales</th>\n",
       "                        <td id=\"T_a803e_row5_col0\" class=\"data row5 col0\" >0.000000</td>\n",
       "            </tr>\n",
       "            <tr>\n",
       "                        <th id=\"T_a803e_level0_row6\" class=\"row_heading level0 row6\" >jp_sales</th>\n",
       "                        <td id=\"T_a803e_row6_col0\" class=\"data row6 col0\" >0.000000</td>\n",
       "            </tr>\n",
       "            <tr>\n",
       "                        <th id=\"T_a803e_level0_row7\" class=\"row_heading level0 row7\" >other_sales</th>\n",
       "                        <td id=\"T_a803e_row7_col0\" class=\"data row7 col0\" >0.000000</td>\n",
       "            </tr>\n",
       "            <tr>\n",
       "                        <th id=\"T_a803e_level0_row8\" class=\"row_heading level0 row8\" >critic_score</th>\n",
       "                        <td id=\"T_a803e_row8_col0\" class=\"data row8 col0\" >51.000000</td>\n",
       "            </tr>\n",
       "            <tr>\n",
       "                        <th id=\"T_a803e_level0_row9\" class=\"row_heading level0 row9\" >user_score</th>\n",
       "                        <td id=\"T_a803e_row9_col0\" class=\"data row9 col0\" >40.000000</td>\n",
       "            </tr>\n",
       "            <tr>\n",
       "                        <th id=\"T_a803e_level0_row10\" class=\"row_heading level0 row10\" >rating</th>\n",
       "                        <td id=\"T_a803e_row10_col0\" class=\"data row10 col0\" >41.000000</td>\n",
       "            </tr>\n",
       "    </tbody></table>"
      ],
      "text/plain": [
       "<pandas.io.formats.style.Styler at 0x7f686ae30850>"
      ]
     },
     "execution_count": 9,
     "metadata": {},
     "output_type": "execute_result"
    }
   ],
   "source": [
    "pd.DataFrame(round(df.isna().mean()*100,)).style.background_gradient('coolwarm')"
   ]
  },
  {
   "cell_type": "code",
   "execution_count": 10,
   "metadata": {},
   "outputs": [],
   "source": [
    "# Преобразуйте данные в нужные типы. Опишите, в каких столбцах заменили тип данных и почему\n",
    "df['year_of_release'] = df['year_of_release'].astype('int')"
   ]
  },
  {
   "cell_type": "markdown",
   "metadata": {},
   "source": [
    "Год выпуска меняем на целочисленное значение."
   ]
  },
  {
   "cell_type": "code",
   "execution_count": 11,
   "metadata": {},
   "outputs": [
    {
     "data": {
      "text/plain": [
       "array([2006, 1985, 2008, 2009, 1996, 1989, 1984, 2005, 1999, 2007, 2010,\n",
       "       2013, 2004, 1990, 1988, 2002, 2001, 2011, 1998, 2015, 2012, 2014,\n",
       "       1992, 1997, 1993, 1994, 1982, 2016, 2003, 1986, 2000, 1995, 1991,\n",
       "       1981, 1987, 1980, 1983])"
      ]
     },
     "execution_count": 11,
     "metadata": {},
     "output_type": "execute_result"
    }
   ],
   "source": [
    "df['year_of_release'].unique()"
   ]
  },
  {
   "cell_type": "code",
   "execution_count": 12,
   "metadata": {},
   "outputs": [],
   "source": [
    "# tbd To Be Determined означает будет определено, в данный момент неизвестно\n",
    "df.loc[df['user_score'] == 'tbd', 'user_score'] = 'nan'\n",
    "df['user_score'] = df['user_score'].astype('float')"
   ]
  },
  {
   "cell_type": "code",
   "execution_count": 13,
   "metadata": {},
   "outputs": [
    {
     "data": {
      "text/plain": [
       "array([8. , nan, 8.3, 8.5, 6.6, 8.4, 8.6, 7.7, 6.3, 7.4, 8.2, 9. , 7.9,\n",
       "       8.1, 8.7, 7.1, 3.4, 5.3, 4.8, 3.2, 8.9, 6.4, 7.8, 7.5, 2.6, 7.2,\n",
       "       9.2, 7. , 7.3, 4.3, 7.6, 5.7, 5. , 9.1, 6.5, 8.8, 6.9, 9.4, 6.8,\n",
       "       6.1, 6.7, 5.4, 4. , 4.9, 4.5, 9.3, 6.2, 4.2, 6. , 3.7, 4.1, 5.8,\n",
       "       5.6, 5.5, 4.4, 4.6, 5.9, 3.9, 3.1, 2.9, 5.2, 3.3, 4.7, 5.1, 3.5,\n",
       "       2.5, 1.9, 3. , 2.7, 2.2, 2. , 9.5, 2.1, 3.6, 2.8, 1.8, 3.8, 0. ,\n",
       "       1.6, 9.6, 2.4, 1.7, 1.1, 0.3, 1.5, 0.7, 1.2, 2.3, 0.5, 1.3, 0.2,\n",
       "       0.6, 1.4, 0.9, 1. , 9.7])"
      ]
     },
     "execution_count": 13,
     "metadata": {},
     "output_type": "execute_result"
    }
   ],
   "source": [
    "df['user_score'].unique()"
   ]
  },
  {
   "cell_type": "code",
   "execution_count": 14,
   "metadata": {},
   "outputs": [],
   "source": [
    "# Посчитайте суммарные продажи во всех регионах и запишите их в отдельный столбец\n",
    "df['total_sales'] = df['na_sales'] + df['eu_sales'] + df['jp_sales'] + df['other_sales']"
   ]
  },
  {
   "cell_type": "code",
   "execution_count": 15,
   "metadata": {},
   "outputs": [
    {
     "data": {
      "text/html": [
       "<div>\n",
       "<style scoped>\n",
       "    .dataframe tbody tr th:only-of-type {\n",
       "        vertical-align: middle;\n",
       "    }\n",
       "\n",
       "    .dataframe tbody tr th {\n",
       "        vertical-align: top;\n",
       "    }\n",
       "\n",
       "    .dataframe thead th {\n",
       "        text-align: right;\n",
       "    }\n",
       "</style>\n",
       "<table border=\"1\" class=\"dataframe\">\n",
       "  <thead>\n",
       "    <tr style=\"text-align: right;\">\n",
       "      <th></th>\n",
       "      <th>name</th>\n",
       "      <th>platform</th>\n",
       "      <th>year_of_release</th>\n",
       "      <th>genre</th>\n",
       "      <th>na_sales</th>\n",
       "      <th>eu_sales</th>\n",
       "      <th>jp_sales</th>\n",
       "      <th>other_sales</th>\n",
       "      <th>critic_score</th>\n",
       "      <th>user_score</th>\n",
       "      <th>rating</th>\n",
       "      <th>total_sales</th>\n",
       "    </tr>\n",
       "  </thead>\n",
       "  <tbody>\n",
       "    <tr>\n",
       "      <th>0</th>\n",
       "      <td>Wii Sports</td>\n",
       "      <td>Wii</td>\n",
       "      <td>2006</td>\n",
       "      <td>Sports</td>\n",
       "      <td>41.36</td>\n",
       "      <td>28.96</td>\n",
       "      <td>3.77</td>\n",
       "      <td>8.45</td>\n",
       "      <td>76.0</td>\n",
       "      <td>8.0</td>\n",
       "      <td>E</td>\n",
       "      <td>82.54</td>\n",
       "    </tr>\n",
       "    <tr>\n",
       "      <th>1</th>\n",
       "      <td>Super Mario Bros.</td>\n",
       "      <td>NES</td>\n",
       "      <td>1985</td>\n",
       "      <td>Platform</td>\n",
       "      <td>29.08</td>\n",
       "      <td>3.58</td>\n",
       "      <td>6.81</td>\n",
       "      <td>0.77</td>\n",
       "      <td>NaN</td>\n",
       "      <td>NaN</td>\n",
       "      <td>NaN</td>\n",
       "      <td>40.24</td>\n",
       "    </tr>\n",
       "    <tr>\n",
       "      <th>2</th>\n",
       "      <td>Mario Kart Wii</td>\n",
       "      <td>Wii</td>\n",
       "      <td>2008</td>\n",
       "      <td>Racing</td>\n",
       "      <td>15.68</td>\n",
       "      <td>12.76</td>\n",
       "      <td>3.79</td>\n",
       "      <td>3.29</td>\n",
       "      <td>82.0</td>\n",
       "      <td>8.3</td>\n",
       "      <td>E</td>\n",
       "      <td>35.52</td>\n",
       "    </tr>\n",
       "    <tr>\n",
       "      <th>3</th>\n",
       "      <td>Wii Sports Resort</td>\n",
       "      <td>Wii</td>\n",
       "      <td>2009</td>\n",
       "      <td>Sports</td>\n",
       "      <td>15.61</td>\n",
       "      <td>10.93</td>\n",
       "      <td>3.28</td>\n",
       "      <td>2.95</td>\n",
       "      <td>80.0</td>\n",
       "      <td>8.0</td>\n",
       "      <td>E</td>\n",
       "      <td>32.77</td>\n",
       "    </tr>\n",
       "    <tr>\n",
       "      <th>4</th>\n",
       "      <td>Pokemon Red/Pokemon Blue</td>\n",
       "      <td>GB</td>\n",
       "      <td>1996</td>\n",
       "      <td>Role-Playing</td>\n",
       "      <td>11.27</td>\n",
       "      <td>8.89</td>\n",
       "      <td>10.22</td>\n",
       "      <td>1.00</td>\n",
       "      <td>NaN</td>\n",
       "      <td>NaN</td>\n",
       "      <td>NaN</td>\n",
       "      <td>31.38</td>\n",
       "    </tr>\n",
       "    <tr>\n",
       "      <th>...</th>\n",
       "      <td>...</td>\n",
       "      <td>...</td>\n",
       "      <td>...</td>\n",
       "      <td>...</td>\n",
       "      <td>...</td>\n",
       "      <td>...</td>\n",
       "      <td>...</td>\n",
       "      <td>...</td>\n",
       "      <td>...</td>\n",
       "      <td>...</td>\n",
       "      <td>...</td>\n",
       "      <td>...</td>\n",
       "    </tr>\n",
       "    <tr>\n",
       "      <th>16710</th>\n",
       "      <td>Samurai Warriors: Sanada Maru</td>\n",
       "      <td>PS3</td>\n",
       "      <td>2016</td>\n",
       "      <td>Action</td>\n",
       "      <td>0.00</td>\n",
       "      <td>0.00</td>\n",
       "      <td>0.01</td>\n",
       "      <td>0.00</td>\n",
       "      <td>NaN</td>\n",
       "      <td>NaN</td>\n",
       "      <td>NaN</td>\n",
       "      <td>0.01</td>\n",
       "    </tr>\n",
       "    <tr>\n",
       "      <th>16711</th>\n",
       "      <td>LMA Manager 2007</td>\n",
       "      <td>X360</td>\n",
       "      <td>2006</td>\n",
       "      <td>Sports</td>\n",
       "      <td>0.00</td>\n",
       "      <td>0.01</td>\n",
       "      <td>0.00</td>\n",
       "      <td>0.00</td>\n",
       "      <td>NaN</td>\n",
       "      <td>NaN</td>\n",
       "      <td>NaN</td>\n",
       "      <td>0.01</td>\n",
       "    </tr>\n",
       "    <tr>\n",
       "      <th>16712</th>\n",
       "      <td>Haitaka no Psychedelica</td>\n",
       "      <td>PSV</td>\n",
       "      <td>2016</td>\n",
       "      <td>Adventure</td>\n",
       "      <td>0.00</td>\n",
       "      <td>0.00</td>\n",
       "      <td>0.01</td>\n",
       "      <td>0.00</td>\n",
       "      <td>NaN</td>\n",
       "      <td>NaN</td>\n",
       "      <td>NaN</td>\n",
       "      <td>0.01</td>\n",
       "    </tr>\n",
       "    <tr>\n",
       "      <th>16713</th>\n",
       "      <td>Spirits &amp; Spells</td>\n",
       "      <td>GBA</td>\n",
       "      <td>2003</td>\n",
       "      <td>Platform</td>\n",
       "      <td>0.01</td>\n",
       "      <td>0.00</td>\n",
       "      <td>0.00</td>\n",
       "      <td>0.00</td>\n",
       "      <td>NaN</td>\n",
       "      <td>NaN</td>\n",
       "      <td>NaN</td>\n",
       "      <td>0.01</td>\n",
       "    </tr>\n",
       "    <tr>\n",
       "      <th>16714</th>\n",
       "      <td>Winning Post 8 2016</td>\n",
       "      <td>PSV</td>\n",
       "      <td>2016</td>\n",
       "      <td>Simulation</td>\n",
       "      <td>0.00</td>\n",
       "      <td>0.00</td>\n",
       "      <td>0.01</td>\n",
       "      <td>0.00</td>\n",
       "      <td>NaN</td>\n",
       "      <td>NaN</td>\n",
       "      <td>NaN</td>\n",
       "      <td>0.01</td>\n",
       "    </tr>\n",
       "  </tbody>\n",
       "</table>\n",
       "<p>16444 rows × 12 columns</p>\n",
       "</div>"
      ],
      "text/plain": [
       "                                name platform  year_of_release         genre  \\\n",
       "0                         Wii Sports      Wii             2006        Sports   \n",
       "1                  Super Mario Bros.      NES             1985      Platform   \n",
       "2                     Mario Kart Wii      Wii             2008        Racing   \n",
       "3                  Wii Sports Resort      Wii             2009        Sports   \n",
       "4           Pokemon Red/Pokemon Blue       GB             1996  Role-Playing   \n",
       "...                              ...      ...              ...           ...   \n",
       "16710  Samurai Warriors: Sanada Maru      PS3             2016        Action   \n",
       "16711               LMA Manager 2007     X360             2006        Sports   \n",
       "16712        Haitaka no Psychedelica      PSV             2016     Adventure   \n",
       "16713               Spirits & Spells      GBA             2003      Platform   \n",
       "16714            Winning Post 8 2016      PSV             2016    Simulation   \n",
       "\n",
       "       na_sales  eu_sales  jp_sales  other_sales  critic_score  user_score  \\\n",
       "0         41.36     28.96      3.77         8.45          76.0         8.0   \n",
       "1         29.08      3.58      6.81         0.77           NaN         NaN   \n",
       "2         15.68     12.76      3.79         3.29          82.0         8.3   \n",
       "3         15.61     10.93      3.28         2.95          80.0         8.0   \n",
       "4         11.27      8.89     10.22         1.00           NaN         NaN   \n",
       "...         ...       ...       ...          ...           ...         ...   \n",
       "16710      0.00      0.00      0.01         0.00           NaN         NaN   \n",
       "16711      0.00      0.01      0.00         0.00           NaN         NaN   \n",
       "16712      0.00      0.00      0.01         0.00           NaN         NaN   \n",
       "16713      0.01      0.00      0.00         0.00           NaN         NaN   \n",
       "16714      0.00      0.00      0.01         0.00           NaN         NaN   \n",
       "\n",
       "      rating  total_sales  \n",
       "0          E        82.54  \n",
       "1        NaN        40.24  \n",
       "2          E        35.52  \n",
       "3          E        32.77  \n",
       "4        NaN        31.38  \n",
       "...      ...          ...  \n",
       "16710    NaN         0.01  \n",
       "16711    NaN         0.01  \n",
       "16712    NaN         0.01  \n",
       "16713    NaN         0.01  \n",
       "16714    NaN         0.01  \n",
       "\n",
       "[16444 rows x 12 columns]"
      ]
     },
     "execution_count": 15,
     "metadata": {},
     "output_type": "execute_result"
    }
   ],
   "source": [
    "df"
   ]
  },
  {
   "cell_type": "markdown",
   "metadata": {},
   "source": [
    "Привели к нижнему регистру названия столбцов. Обработали пропуски. tbd заменили на nan. Изменили формат данных и добавили столбец с суммарными продажами."
   ]
  },
  {
   "cell_type": "markdown",
   "metadata": {},
   "source": [
    "# Шаг 3. Проведите исследовательский анализ данных"
   ]
  },
  {
   "cell_type": "code",
   "execution_count": 16,
   "metadata": {},
   "outputs": [
    {
     "data": {
      "image/png": "[encoded data removed]",
      "text/plain": [
       "<Figure size 432x288 with 1 Axes>"
      ]
     },
     "metadata": {
      "needs_background": "light"
     },
     "output_type": "display_data"
    }
   ],
   "source": [
    "# Посмотрите, сколько игр выпускалось в разные годы. Важны ли данные за все периоды?\n",
    "df.hist('year_of_release');"
   ]
  },
  {
   "cell_type": "code",
   "execution_count": 17,
   "metadata": {},
   "outputs": [
    {
     "data": {
      "image/png": "[encoded data removed]",
      "text/plain": [
       "<Figure size 432x288 with 1 Axes>"
      ]
     },
     "metadata": {
      "needs_background": "light"
     },
     "output_type": "display_data"
    }
   ],
   "source": [
    "df.boxplot('year_of_release');"
   ]
  },
  {
   "cell_type": "code",
   "execution_count": 18,
   "metadata": {},
   "outputs": [
    {
     "data": {
      "text/plain": [
       "array([2006, 2008, 2009, 1996, 2005, 1999, 2007, 2010, 2013, 2004, 2002,\n",
       "       2001, 2011, 1998, 2015, 2012, 2014, 1997, 2016, 2003, 2000, 1995])"
      ]
     },
     "execution_count": 18,
     "metadata": {},
     "output_type": "execute_result"
    }
   ],
   "source": [
    "df.drop(index=df.query('year_of_release < 1995').index,inplace=True)\n",
    "df['year_of_release'].unique()"
   ]
  },
  {
   "cell_type": "code",
   "execution_count": 19,
   "metadata": {},
   "outputs": [
    {
     "data": {
      "text/html": [
       "<div>\n",
       "<style scoped>\n",
       "    .dataframe tbody tr th:only-of-type {\n",
       "        vertical-align: middle;\n",
       "    }\n",
       "\n",
       "    .dataframe tbody tr th {\n",
       "        vertical-align: top;\n",
       "    }\n",
       "\n",
       "    .dataframe thead th {\n",
       "        text-align: right;\n",
       "    }\n",
       "</style>\n",
       "<table border=\"1\" class=\"dataframe\">\n",
       "  <thead>\n",
       "    <tr style=\"text-align: right;\">\n",
       "      <th></th>\n",
       "      <th>total_sales</th>\n",
       "    </tr>\n",
       "    <tr>\n",
       "      <th>platform</th>\n",
       "      <th></th>\n",
       "    </tr>\n",
       "  </thead>\n",
       "  <tbody>\n",
       "    <tr>\n",
       "      <th>PS2</th>\n",
       "      <td>1233.56</td>\n",
       "    </tr>\n",
       "    <tr>\n",
       "      <th>X360</th>\n",
       "      <td>961.24</td>\n",
       "    </tr>\n",
       "    <tr>\n",
       "      <th>PS3</th>\n",
       "      <td>931.34</td>\n",
       "    </tr>\n",
       "    <tr>\n",
       "      <th>Wii</th>\n",
       "      <td>891.18</td>\n",
       "    </tr>\n",
       "    <tr>\n",
       "      <th>DS</th>\n",
       "      <td>802.76</td>\n",
       "    </tr>\n",
       "    <tr>\n",
       "      <th>PS</th>\n",
       "      <td>721.55</td>\n",
       "    </tr>\n",
       "    <tr>\n",
       "      <th>PS4</th>\n",
       "      <td>314.14</td>\n",
       "    </tr>\n",
       "    <tr>\n",
       "      <th>GBA</th>\n",
       "      <td>312.88</td>\n",
       "    </tr>\n",
       "    <tr>\n",
       "      <th>PSP</th>\n",
       "      <td>289.53</td>\n",
       "    </tr>\n",
       "    <tr>\n",
       "      <th>3DS</th>\n",
       "      <td>257.81</td>\n",
       "    </tr>\n",
       "    <tr>\n",
       "      <th>XB</th>\n",
       "      <td>251.57</td>\n",
       "    </tr>\n",
       "    <tr>\n",
       "      <th>PC</th>\n",
       "      <td>239.79</td>\n",
       "    </tr>\n",
       "    <tr>\n",
       "      <th>N64</th>\n",
       "      <td>218.01</td>\n",
       "    </tr>\n",
       "    <tr>\n",
       "      <th>GC</th>\n",
       "      <td>196.73</td>\n",
       "    </tr>\n",
       "    <tr>\n",
       "      <th>XOne</th>\n",
       "      <td>159.32</td>\n",
       "    </tr>\n",
       "    <tr>\n",
       "      <th>GB</th>\n",
       "      <td>139.90</td>\n",
       "    </tr>\n",
       "    <tr>\n",
       "      <th>WiiU</th>\n",
       "      <td>82.19</td>\n",
       "    </tr>\n",
       "    <tr>\n",
       "      <th>PSV</th>\n",
       "      <td>53.81</td>\n",
       "    </tr>\n",
       "    <tr>\n",
       "      <th>SNES</th>\n",
       "      <td>49.59</td>\n",
       "    </tr>\n",
       "    <tr>\n",
       "      <th>SAT</th>\n",
       "      <td>29.94</td>\n",
       "    </tr>\n",
       "    <tr>\n",
       "      <th>DC</th>\n",
       "      <td>15.95</td>\n",
       "    </tr>\n",
       "    <tr>\n",
       "      <th>WS</th>\n",
       "      <td>1.42</td>\n",
       "    </tr>\n",
       "    <tr>\n",
       "      <th>NG</th>\n",
       "      <td>0.43</td>\n",
       "    </tr>\n",
       "    <tr>\n",
       "      <th>TG16</th>\n",
       "      <td>0.16</td>\n",
       "    </tr>\n",
       "    <tr>\n",
       "      <th>3DO</th>\n",
       "      <td>0.08</td>\n",
       "    </tr>\n",
       "    <tr>\n",
       "      <th>PCFX</th>\n",
       "      <td>0.03</td>\n",
       "    </tr>\n",
       "  </tbody>\n",
       "</table>\n",
       "</div>"
      ],
      "text/plain": [
       "          total_sales\n",
       "platform             \n",
       "PS2           1233.56\n",
       "X360           961.24\n",
       "PS3            931.34\n",
       "Wii            891.18\n",
       "DS             802.76\n",
       "PS             721.55\n",
       "PS4            314.14\n",
       "GBA            312.88\n",
       "PSP            289.53\n",
       "3DS            257.81\n",
       "XB             251.57\n",
       "PC             239.79\n",
       "N64            218.01\n",
       "GC             196.73\n",
       "XOne           159.32\n",
       "GB             139.90\n",
       "WiiU            82.19\n",
       "PSV             53.81\n",
       "SNES            49.59\n",
       "SAT             29.94\n",
       "DC              15.95\n",
       "WS               1.42\n",
       "NG               0.43\n",
       "TG16             0.16\n",
       "3DO              0.08\n",
       "PCFX             0.03"
      ]
     },
     "execution_count": 19,
     "metadata": {},
     "output_type": "execute_result"
    }
   ],
   "source": [
    "# Посмотрите, как менялись продажи по платформам. Выберите платформы с наибольшими суммарными продажами и постройте распределение по годам. За какой характерный срок появляются новые и исчезают старые платформы?\n",
    "df.pivot_table(index='platform', values='total_sales', aggfunc='sum').sort_values(by='total_sales', ascending=False)"
   ]
  },
  {
   "cell_type": "code",
   "execution_count": 20,
   "metadata": {},
   "outputs": [
    {
     "data": {
      "image/png": "[encoded data removed]",
      "text/plain": [
       "<Figure size 936x288 with 1 Axes>"
      ]
     },
     "metadata": {
      "needs_background": "light"
     },
     "output_type": "display_data"
    },
    {
     "data": {
      "image/png": "[encoded data removed]",
      "text/plain": [
       "<Figure size 936x288 with 1 Axes>"
      ]
     },
     "metadata": {
      "needs_background": "light"
     },
     "output_type": "display_data"
    },
    {
     "data": {
      "image/png": "[encoded data removed]",
      "text/plain": [
       "<Figure size 936x288 with 1 Axes>"
      ]
     },
     "metadata": {
      "needs_background": "light"
     },
     "output_type": "display_data"
    },
    {
     "data": {
      "image/png": "[encoded data removed]",
      "text/plain": [
       "<Figure size 936x288 with 1 Axes>"
      ]
     },
     "metadata": {
      "needs_background": "light"
     },
     "output_type": "display_data"
    },
    {
     "data": {
      "image/png": "[encoded data removed]",
      "text/plain": [
       "<Figure size 936x288 with 1 Axes>"
      ]
     },
     "metadata": {
      "needs_background": "light"
     },
     "output_type": "display_data"
    },
    {
     "data": {
      "image/png": "[encoded data removed]",
      "text/plain": [
       "<Figure size 936x288 with 1 Axes>"
      ]
     },
     "metadata": {
      "needs_background": "light"
     },
     "output_type": "display_data"
    },
    {
     "data": {
      "image/png": "[encoded data removed]",
      "text/plain": [
       "<Figure size 936x288 with 1 Axes>"
      ]
     },
     "metadata": {
      "needs_background": "light"
     },
     "output_type": "display_data"
    },
    {
     "data": {
      "image/png": "[encoded data removed]",
      "text/plain": [
       "<Figure size 936x288 with 1 Axes>"
      ]
     },
     "metadata": {
      "needs_background": "light"
     },
     "output_type": "display_data"
    },
    {
     "data": {
      "image/png": "[encoded data removed]",
      "text/plain": [
       "<Figure size 936x288 with 1 Axes>"
      ]
     },
     "metadata": {
      "needs_background": "light"
     },
     "output_type": "display_data"
    },
    {
     "data": {
      "image/png": "[encoded data removed]",
      "text/plain": [
       "<Figure size 936x288 with 1 Axes>"
      ]
     },
     "metadata": {
      "needs_background": "light"
     },
     "output_type": "display_data"
    },
    {
     "data": {
      "image/png": "[encoded data removed]",
      "text/plain": [
       "<Figure size 936x288 with 1 Axes>"
      ]
     },
     "metadata": {
      "needs_background": "light"
     },
     "output_type": "display_data"
    },
    {
     "data": {
      "image/png": "[encoded data removed]",
      "text/plain": [
       "<Figure size 936x288 with 1 Axes>"
      ]
     },
     "metadata": {
      "needs_background": "light"
     },
     "output_type": "display_data"
    }
   ],
   "source": [
    "top = [\"PS2\", \"X360\", \"PS3\", \"Wii\", \"DS\", \"PS\", \"PS4\", \"GBA\", \"PSP\", \"3DS\", \"XB\", \"PC\"]\n",
    "for platform in top:\n",
    "    df[df['platform'] == platform].pivot_table(index='year_of_release', values='total_sales', aggfunc='sum').plot(kind='bar', figsize=(13,4))\n",
    "    plt.title(platform)"
   ]
  },
  {
   "cell_type": "markdown",
   "metadata": {},
   "source": [
    "Срок жизни платформы примерно 10 лет.\n",
    "PC - главный долгожитель, от рассвета до заката."
   ]
  },
  {
   "cell_type": "code",
   "execution_count": 21,
   "metadata": {},
   "outputs": [
    {
     "name": "stdout",
     "output_type": "stream",
     "text": [
      "<class 'pandas.core.frame.DataFrame'>\n",
      "RangeIndex: 502 entries, 0 to 501\n",
      "Data columns (total 12 columns):\n",
      " #   Column           Non-Null Count  Dtype  \n",
      "---  ------           --------------  -----  \n",
      " 0   name             502 non-null    object \n",
      " 1   platform         502 non-null    object \n",
      " 2   year_of_release  502 non-null    int64  \n",
      " 3   genre            502 non-null    object \n",
      " 4   na_sales         502 non-null    float64\n",
      " 5   eu_sales         502 non-null    float64\n",
      " 6   jp_sales         502 non-null    float64\n",
      " 7   other_sales      502 non-null    float64\n",
      " 8   critic_score     232 non-null    float64\n",
      " 9   user_score       262 non-null    float64\n",
      " 10  rating           280 non-null    object \n",
      " 11  total_sales      502 non-null    float64\n",
      "dtypes: float64(7), int64(1), object(4)\n",
      "memory usage: 47.2+ KB\n"
     ]
    }
   ],
   "source": [
    "# Возьмите данные за соответствующий актуальный период. Актуальный период определите самостоятельно в результате исследования предыдущих вопросов. Основной фактор — эти данные помогут построить прогноз на 2017 год.\n",
    "df2016 = df[df['year_of_release'] == 2016].reset_index(drop=True)\n",
    "df2016.info()"
   ]
  },
  {
   "cell_type": "code",
   "execution_count": 22,
   "metadata": {},
   "outputs": [
    {
     "data": {
      "text/html": [
       "<div>\n",
       "<style scoped>\n",
       "    .dataframe tbody tr th:only-of-type {\n",
       "        vertical-align: middle;\n",
       "    }\n",
       "\n",
       "    .dataframe tbody tr th {\n",
       "        vertical-align: top;\n",
       "    }\n",
       "\n",
       "    .dataframe thead th {\n",
       "        text-align: right;\n",
       "    }\n",
       "</style>\n",
       "<table border=\"1\" class=\"dataframe\">\n",
       "  <thead>\n",
       "    <tr style=\"text-align: right;\">\n",
       "      <th></th>\n",
       "      <th>name</th>\n",
       "      <th>platform</th>\n",
       "      <th>year_of_release</th>\n",
       "      <th>genre</th>\n",
       "      <th>na_sales</th>\n",
       "      <th>eu_sales</th>\n",
       "      <th>jp_sales</th>\n",
       "      <th>other_sales</th>\n",
       "      <th>critic_score</th>\n",
       "      <th>user_score</th>\n",
       "      <th>rating</th>\n",
       "      <th>total_sales</th>\n",
       "    </tr>\n",
       "  </thead>\n",
       "  <tbody>\n",
       "    <tr>\n",
       "      <th>0</th>\n",
       "      <td>FIFA 17</td>\n",
       "      <td>PS4</td>\n",
       "      <td>2016</td>\n",
       "      <td>Sports</td>\n",
       "      <td>0.66</td>\n",
       "      <td>5.75</td>\n",
       "      <td>0.08</td>\n",
       "      <td>1.11</td>\n",
       "      <td>85.0</td>\n",
       "      <td>5.0</td>\n",
       "      <td>E</td>\n",
       "      <td>7.60</td>\n",
       "    </tr>\n",
       "    <tr>\n",
       "      <th>1</th>\n",
       "      <td>Pokemon Sun/Moon</td>\n",
       "      <td>3DS</td>\n",
       "      <td>2016</td>\n",
       "      <td>Role-Playing</td>\n",
       "      <td>2.98</td>\n",
       "      <td>1.45</td>\n",
       "      <td>2.26</td>\n",
       "      <td>0.45</td>\n",
       "      <td>NaN</td>\n",
       "      <td>NaN</td>\n",
       "      <td>NaN</td>\n",
       "      <td>7.14</td>\n",
       "    </tr>\n",
       "    <tr>\n",
       "      <th>2</th>\n",
       "      <td>Uncharted 4: A Thief's End</td>\n",
       "      <td>PS4</td>\n",
       "      <td>2016</td>\n",
       "      <td>Shooter</td>\n",
       "      <td>1.85</td>\n",
       "      <td>2.50</td>\n",
       "      <td>0.19</td>\n",
       "      <td>0.85</td>\n",
       "      <td>93.0</td>\n",
       "      <td>7.9</td>\n",
       "      <td>T</td>\n",
       "      <td>5.39</td>\n",
       "    </tr>\n",
       "    <tr>\n",
       "      <th>3</th>\n",
       "      <td>Call of Duty: Infinite Warfare</td>\n",
       "      <td>PS4</td>\n",
       "      <td>2016</td>\n",
       "      <td>Shooter</td>\n",
       "      <td>1.61</td>\n",
       "      <td>2.00</td>\n",
       "      <td>0.15</td>\n",
       "      <td>0.71</td>\n",
       "      <td>77.0</td>\n",
       "      <td>3.4</td>\n",
       "      <td>M</td>\n",
       "      <td>4.47</td>\n",
       "    </tr>\n",
       "    <tr>\n",
       "      <th>4</th>\n",
       "      <td>Battlefield 1</td>\n",
       "      <td>PS4</td>\n",
       "      <td>2016</td>\n",
       "      <td>Shooter</td>\n",
       "      <td>1.10</td>\n",
       "      <td>2.15</td>\n",
       "      <td>0.21</td>\n",
       "      <td>0.61</td>\n",
       "      <td>88.0</td>\n",
       "      <td>8.4</td>\n",
       "      <td>M</td>\n",
       "      <td>4.07</td>\n",
       "    </tr>\n",
       "    <tr>\n",
       "      <th>...</th>\n",
       "      <td>...</td>\n",
       "      <td>...</td>\n",
       "      <td>...</td>\n",
       "      <td>...</td>\n",
       "      <td>...</td>\n",
       "      <td>...</td>\n",
       "      <td>...</td>\n",
       "      <td>...</td>\n",
       "      <td>...</td>\n",
       "      <td>...</td>\n",
       "      <td>...</td>\n",
       "      <td>...</td>\n",
       "    </tr>\n",
       "    <tr>\n",
       "      <th>497</th>\n",
       "      <td>The Longest 5 Minutes</td>\n",
       "      <td>PSV</td>\n",
       "      <td>2016</td>\n",
       "      <td>Action</td>\n",
       "      <td>0.00</td>\n",
       "      <td>0.00</td>\n",
       "      <td>0.01</td>\n",
       "      <td>0.00</td>\n",
       "      <td>NaN</td>\n",
       "      <td>NaN</td>\n",
       "      <td>NaN</td>\n",
       "      <td>0.01</td>\n",
       "    </tr>\n",
       "    <tr>\n",
       "      <th>498</th>\n",
       "      <td>Strawberry Nauts</td>\n",
       "      <td>PSV</td>\n",
       "      <td>2016</td>\n",
       "      <td>Adventure</td>\n",
       "      <td>0.00</td>\n",
       "      <td>0.00</td>\n",
       "      <td>0.01</td>\n",
       "      <td>0.00</td>\n",
       "      <td>NaN</td>\n",
       "      <td>NaN</td>\n",
       "      <td>NaN</td>\n",
       "      <td>0.01</td>\n",
       "    </tr>\n",
       "    <tr>\n",
       "      <th>499</th>\n",
       "      <td>Samurai Warriors: Sanada Maru</td>\n",
       "      <td>PS3</td>\n",
       "      <td>2016</td>\n",
       "      <td>Action</td>\n",
       "      <td>0.00</td>\n",
       "      <td>0.00</td>\n",
       "      <td>0.01</td>\n",
       "      <td>0.00</td>\n",
       "      <td>NaN</td>\n",
       "      <td>NaN</td>\n",
       "      <td>NaN</td>\n",
       "      <td>0.01</td>\n",
       "    </tr>\n",
       "    <tr>\n",
       "      <th>500</th>\n",
       "      <td>Haitaka no Psychedelica</td>\n",
       "      <td>PSV</td>\n",
       "      <td>2016</td>\n",
       "      <td>Adventure</td>\n",
       "      <td>0.00</td>\n",
       "      <td>0.00</td>\n",
       "      <td>0.01</td>\n",
       "      <td>0.00</td>\n",
       "      <td>NaN</td>\n",
       "      <td>NaN</td>\n",
       "      <td>NaN</td>\n",
       "      <td>0.01</td>\n",
       "    </tr>\n",
       "    <tr>\n",
       "      <th>501</th>\n",
       "      <td>Winning Post 8 2016</td>\n",
       "      <td>PSV</td>\n",
       "      <td>2016</td>\n",
       "      <td>Simulation</td>\n",
       "      <td>0.00</td>\n",
       "      <td>0.00</td>\n",
       "      <td>0.01</td>\n",
       "      <td>0.00</td>\n",
       "      <td>NaN</td>\n",
       "      <td>NaN</td>\n",
       "      <td>NaN</td>\n",
       "      <td>0.01</td>\n",
       "    </tr>\n",
       "  </tbody>\n",
       "</table>\n",
       "<p>502 rows × 12 columns</p>\n",
       "</div>"
      ],
      "text/plain": [
       "                               name platform  year_of_release         genre  \\\n",
       "0                           FIFA 17      PS4             2016        Sports   \n",
       "1                  Pokemon Sun/Moon      3DS             2016  Role-Playing   \n",
       "2        Uncharted 4: A Thief's End      PS4             2016       Shooter   \n",
       "3    Call of Duty: Infinite Warfare      PS4             2016       Shooter   \n",
       "4                     Battlefield 1      PS4             2016       Shooter   \n",
       "..                              ...      ...              ...           ...   \n",
       "497           The Longest 5 Minutes      PSV             2016        Action   \n",
       "498                Strawberry Nauts      PSV             2016     Adventure   \n",
       "499   Samurai Warriors: Sanada Maru      PS3             2016        Action   \n",
       "500         Haitaka no Psychedelica      PSV             2016     Adventure   \n",
       "501             Winning Post 8 2016      PSV             2016    Simulation   \n",
       "\n",
       "     na_sales  eu_sales  jp_sales  other_sales  critic_score  user_score  \\\n",
       "0        0.66      5.75      0.08         1.11          85.0         5.0   \n",
       "1        2.98      1.45      2.26         0.45           NaN         NaN   \n",
       "2        1.85      2.50      0.19         0.85          93.0         7.9   \n",
       "3        1.61      2.00      0.15         0.71          77.0         3.4   \n",
       "4        1.10      2.15      0.21         0.61          88.0         8.4   \n",
       "..        ...       ...       ...          ...           ...         ...   \n",
       "497      0.00      0.00      0.01         0.00           NaN         NaN   \n",
       "498      0.00      0.00      0.01         0.00           NaN         NaN   \n",
       "499      0.00      0.00      0.01         0.00           NaN         NaN   \n",
       "500      0.00      0.00      0.01         0.00           NaN         NaN   \n",
       "501      0.00      0.00      0.01         0.00           NaN         NaN   \n",
       "\n",
       "    rating  total_sales  \n",
       "0        E         7.60  \n",
       "1      NaN         7.14  \n",
       "2        T         5.39  \n",
       "3        M         4.47  \n",
       "4        M         4.07  \n",
       "..     ...          ...  \n",
       "497    NaN         0.01  \n",
       "498    NaN         0.01  \n",
       "499    NaN         0.01  \n",
       "500    NaN         0.01  \n",
       "501    NaN         0.01  \n",
       "\n",
       "[502 rows x 12 columns]"
      ]
     },
     "execution_count": 22,
     "metadata": {},
     "output_type": "execute_result"
    }
   ],
   "source": [
    "df2016"
   ]
  },
  {
   "cell_type": "code",
   "execution_count": 23,
   "metadata": {},
   "outputs": [
    {
     "data": {
      "text/plain": [
       "array(['PS4', '3DS', 'XOne', 'WiiU', 'PS3', 'PC', 'X360', 'PSV', 'Wii'],\n",
       "      dtype=object)"
      ]
     },
     "execution_count": 23,
     "metadata": {},
     "output_type": "execute_result"
    }
   ],
   "source": [
    "# Какие платформы лидируют по продажам, растут или падают? Выберите несколько потенциально прибыльных платформ.\n",
    "df2016['platform'].unique()"
   ]
  },
  {
   "cell_type": "code",
   "execution_count": 24,
   "metadata": {},
   "outputs": [
    {
     "data": {
      "text/html": [
       "<div>\n",
       "<style scoped>\n",
       "    .dataframe tbody tr th:only-of-type {\n",
       "        vertical-align: middle;\n",
       "    }\n",
       "\n",
       "    .dataframe tbody tr th {\n",
       "        vertical-align: top;\n",
       "    }\n",
       "\n",
       "    .dataframe thead th {\n",
       "        text-align: right;\n",
       "    }\n",
       "</style>\n",
       "<table border=\"1\" class=\"dataframe\">\n",
       "  <thead>\n",
       "    <tr style=\"text-align: right;\">\n",
       "      <th></th>\n",
       "      <th>count</th>\n",
       "      <th>mean</th>\n",
       "      <th>std</th>\n",
       "      <th>min</th>\n",
       "      <th>25%</th>\n",
       "      <th>50%</th>\n",
       "      <th>75%</th>\n",
       "      <th>max</th>\n",
       "    </tr>\n",
       "    <tr>\n",
       "      <th>platform</th>\n",
       "      <th></th>\n",
       "      <th></th>\n",
       "      <th></th>\n",
       "      <th></th>\n",
       "      <th></th>\n",
       "      <th></th>\n",
       "      <th></th>\n",
       "      <th></th>\n",
       "    </tr>\n",
       "  </thead>\n",
       "  <tbody>\n",
       "    <tr>\n",
       "      <th>3DS</th>\n",
       "      <td>46.0</td>\n",
       "      <td>0.329130</td>\n",
       "      <td>1.058533</td>\n",
       "      <td>0.01</td>\n",
       "      <td>0.0300</td>\n",
       "      <td>0.080</td>\n",
       "      <td>0.2100</td>\n",
       "      <td>7.14</td>\n",
       "    </tr>\n",
       "    <tr>\n",
       "      <th>PC</th>\n",
       "      <td>54.0</td>\n",
       "      <td>0.097222</td>\n",
       "      <td>0.135916</td>\n",
       "      <td>0.01</td>\n",
       "      <td>0.0200</td>\n",
       "      <td>0.035</td>\n",
       "      <td>0.1200</td>\n",
       "      <td>0.65</td>\n",
       "    </tr>\n",
       "    <tr>\n",
       "      <th>PS3</th>\n",
       "      <td>38.0</td>\n",
       "      <td>0.094737</td>\n",
       "      <td>0.120556</td>\n",
       "      <td>0.01</td>\n",
       "      <td>0.0300</td>\n",
       "      <td>0.065</td>\n",
       "      <td>0.1200</td>\n",
       "      <td>0.73</td>\n",
       "    </tr>\n",
       "    <tr>\n",
       "      <th>PS4</th>\n",
       "      <td>164.0</td>\n",
       "      <td>0.422256</td>\n",
       "      <td>0.968877</td>\n",
       "      <td>0.01</td>\n",
       "      <td>0.0300</td>\n",
       "      <td>0.085</td>\n",
       "      <td>0.3525</td>\n",
       "      <td>7.60</td>\n",
       "    </tr>\n",
       "    <tr>\n",
       "      <th>PSV</th>\n",
       "      <td>85.0</td>\n",
       "      <td>0.050000</td>\n",
       "      <td>0.056273</td>\n",
       "      <td>0.01</td>\n",
       "      <td>0.0200</td>\n",
       "      <td>0.030</td>\n",
       "      <td>0.0600</td>\n",
       "      <td>0.30</td>\n",
       "    </tr>\n",
       "    <tr>\n",
       "      <th>Wii</th>\n",
       "      <td>1.0</td>\n",
       "      <td>0.180000</td>\n",
       "      <td>NaN</td>\n",
       "      <td>0.18</td>\n",
       "      <td>0.1800</td>\n",
       "      <td>0.180</td>\n",
       "      <td>0.1800</td>\n",
       "      <td>0.18</td>\n",
       "    </tr>\n",
       "    <tr>\n",
       "      <th>WiiU</th>\n",
       "      <td>14.0</td>\n",
       "      <td>0.328571</td>\n",
       "      <td>0.348135</td>\n",
       "      <td>0.01</td>\n",
       "      <td>0.0475</td>\n",
       "      <td>0.215</td>\n",
       "      <td>0.4075</td>\n",
       "      <td>1.03</td>\n",
       "    </tr>\n",
       "    <tr>\n",
       "      <th>X360</th>\n",
       "      <td>13.0</td>\n",
       "      <td>0.116923</td>\n",
       "      <td>0.114483</td>\n",
       "      <td>0.02</td>\n",
       "      <td>0.0400</td>\n",
       "      <td>0.100</td>\n",
       "      <td>0.1200</td>\n",
       "      <td>0.38</td>\n",
       "    </tr>\n",
       "    <tr>\n",
       "      <th>XOne</th>\n",
       "      <td>87.0</td>\n",
       "      <td>0.300575</td>\n",
       "      <td>0.549133</td>\n",
       "      <td>0.01</td>\n",
       "      <td>0.0200</td>\n",
       "      <td>0.060</td>\n",
       "      <td>0.2750</td>\n",
       "      <td>2.65</td>\n",
       "    </tr>\n",
       "  </tbody>\n",
       "</table>\n",
       "</div>"
      ],
      "text/plain": [
       "          count      mean       std   min     25%    50%     75%   max\n",
       "platform                                                              \n",
       "3DS        46.0  0.329130  1.058533  0.01  0.0300  0.080  0.2100  7.14\n",
       "PC         54.0  0.097222  0.135916  0.01  0.0200  0.035  0.1200  0.65\n",
       "PS3        38.0  0.094737  0.120556  0.01  0.0300  0.065  0.1200  0.73\n",
       "PS4       164.0  0.422256  0.968877  0.01  0.0300  0.085  0.3525  7.60\n",
       "PSV        85.0  0.050000  0.056273  0.01  0.0200  0.030  0.0600  0.30\n",
       "Wii         1.0  0.180000       NaN  0.18  0.1800  0.180  0.1800  0.18\n",
       "WiiU       14.0  0.328571  0.348135  0.01  0.0475  0.215  0.4075  1.03\n",
       "X360       13.0  0.116923  0.114483  0.02  0.0400  0.100  0.1200  0.38\n",
       "XOne       87.0  0.300575  0.549133  0.01  0.0200  0.060  0.2750  2.65"
      ]
     },
     "execution_count": 24,
     "metadata": {},
     "output_type": "execute_result"
    }
   ],
   "source": [
    "df2016.groupby('platform')['total_sales'].describe()"
   ]
  },
  {
   "cell_type": "markdown",
   "metadata": {},
   "source": [
    "Можно веделить двух основных конкурентов: PS4 и XOne."
   ]
  },
  {
   "cell_type": "code",
   "execution_count": 25,
   "metadata": {},
   "outputs": [
    {
     "data": {
      "image/png": "[encoded data removed]",
      "text/plain": [
       "<Figure size 1080x360 with 1 Axes>"
      ]
     },
     "metadata": {
      "needs_background": "light"
     },
     "output_type": "display_data"
    }
   ],
   "source": [
    "# Постройте график «ящик с усами» по глобальным продажам игр в разбивке по платформам. Опишите результат.\n",
    "plt.figure(figsize=(15, 5))\n",
    "sns.boxplot(data=df2016, x='platform', y='total_sales')\n",
    "plt.ylim(0, 1);"
   ]
  },
  {
   "cell_type": "markdown",
   "metadata": {},
   "source": [
    "Лидеры: PS4, XOne, WiiU, 3DS."
   ]
  },
  {
   "cell_type": "code",
   "execution_count": 26,
   "metadata": {},
   "outputs": [
    {
     "data": {
      "image/png": "[encoded data removed]",
      "text/plain": [
       "<Figure size 432x288 with 1 Axes>"
      ]
     },
     "metadata": {
      "needs_background": "light"
     },
     "output_type": "display_data"
    },
    {
     "data": {
      "image/png": "[encoded data removed]",
      "text/plain": [
       "<Figure size 432x288 with 1 Axes>"
      ]
     },
     "metadata": {
      "needs_background": "light"
     },
     "output_type": "display_data"
    }
   ],
   "source": [
    "# Посмотрите, как влияют на продажи внутри одной популярной платформы отзывы пользователей и критиков. Постройте диаграмму рассеяния и посчитайте корреляцию между отзывами и продажами. Сформулируйте выводы.\n",
    "df2016[df2016['platform'] == 'PS4'].pivot_table(index='user_score', values='total_sales').plot(grid=True)\n",
    "df2016[df2016['platform'] == 'PS4'].plot(x='user_score', y='total_sales', kind='scatter', grid=True, alpha=0.3, color='purple');"
   ]
  },
  {
   "cell_type": "code",
   "execution_count": 27,
   "metadata": {},
   "outputs": [
    {
     "data": {
      "image/png": "[encoded data removed]",
      "text/plain": [
       "<Figure size 432x288 with 1 Axes>"
      ]
     },
     "metadata": {
      "needs_background": "light"
     },
     "output_type": "display_data"
    },
    {
     "data": {
      "image/png": "[encoded data removed]",
      "text/plain": [
       "<Figure size 432x288 with 1 Axes>"
      ]
     },
     "metadata": {
      "needs_background": "light"
     },
     "output_type": "display_data"
    }
   ],
   "source": [
    "df2016[df2016['platform'] == 'PS4'].pivot_table(index='critic_score', values='total_sales').plot(grid=True)\n",
    "df2016[df2016['platform'] == 'PS4'].plot(x='critic_score', y='total_sales', kind='scatter', grid=True, alpha=0.3, color='purple');"
   ]
  },
  {
   "cell_type": "code",
   "execution_count": 28,
   "metadata": {},
   "outputs": [
    {
     "data": {
      "text/html": [
       "<div>\n",
       "<style scoped>\n",
       "    .dataframe tbody tr th:only-of-type {\n",
       "        vertical-align: middle;\n",
       "    }\n",
       "\n",
       "    .dataframe tbody tr th {\n",
       "        vertical-align: top;\n",
       "    }\n",
       "\n",
       "    .dataframe thead th {\n",
       "        text-align: right;\n",
       "    }\n",
       "</style>\n",
       "<table border=\"1\" class=\"dataframe\">\n",
       "  <thead>\n",
       "    <tr style=\"text-align: right;\">\n",
       "      <th></th>\n",
       "      <th>total_sales</th>\n",
       "      <th>critic_score</th>\n",
       "      <th>user_score</th>\n",
       "    </tr>\n",
       "  </thead>\n",
       "  <tbody>\n",
       "    <tr>\n",
       "      <th>total_sales</th>\n",
       "      <td>1.000000</td>\n",
       "      <td>0.375695</td>\n",
       "      <td>-0.122461</td>\n",
       "    </tr>\n",
       "    <tr>\n",
       "      <th>critic_score</th>\n",
       "      <td>0.375695</td>\n",
       "      <td>1.000000</td>\n",
       "      <td>0.480147</td>\n",
       "    </tr>\n",
       "    <tr>\n",
       "      <th>user_score</th>\n",
       "      <td>-0.122461</td>\n",
       "      <td>0.480147</td>\n",
       "      <td>1.000000</td>\n",
       "    </tr>\n",
       "  </tbody>\n",
       "</table>\n",
       "</div>"
      ],
      "text/plain": [
       "              total_sales  critic_score  user_score\n",
       "total_sales      1.000000      0.375695   -0.122461\n",
       "critic_score     0.375695      1.000000    0.480147\n",
       "user_score      -0.122461      0.480147    1.000000"
      ]
     },
     "execution_count": 28,
     "metadata": {},
     "output_type": "execute_result"
    }
   ],
   "source": [
    "df2016[df2016['platform'] == 'PS4'][['total_sales', 'critic_score', 'user_score']].corr()"
   ]
  },
  {
   "cell_type": "markdown",
   "metadata": {},
   "source": [
    "Корреляция есть между отзывами критиков и продажами, отзывы пользователей практически не влияют на продажи."
   ]
  },
  {
   "cell_type": "code",
   "execution_count": 29,
   "metadata": {},
   "outputs": [
    {
     "data": {
      "text/html": [
       "<div>\n",
       "<style scoped>\n",
       "    .dataframe tbody tr th:only-of-type {\n",
       "        vertical-align: middle;\n",
       "    }\n",
       "\n",
       "    .dataframe tbody tr th {\n",
       "        vertical-align: top;\n",
       "    }\n",
       "\n",
       "    .dataframe thead th {\n",
       "        text-align: right;\n",
       "    }\n",
       "</style>\n",
       "<table border=\"1\" class=\"dataframe\">\n",
       "  <thead>\n",
       "    <tr style=\"text-align: right;\">\n",
       "      <th></th>\n",
       "      <th>total_sales</th>\n",
       "      <th>critic_score</th>\n",
       "      <th>user_score</th>\n",
       "    </tr>\n",
       "  </thead>\n",
       "  <tbody>\n",
       "    <tr>\n",
       "      <th>total_sales</th>\n",
       "      <td>1.000000</td>\n",
       "      <td>0.412005</td>\n",
       "      <td>-0.130303</td>\n",
       "    </tr>\n",
       "    <tr>\n",
       "      <th>critic_score</th>\n",
       "      <td>0.412005</td>\n",
       "      <td>1.000000</td>\n",
       "      <td>0.426034</td>\n",
       "    </tr>\n",
       "    <tr>\n",
       "      <th>user_score</th>\n",
       "      <td>-0.130303</td>\n",
       "      <td>0.426034</td>\n",
       "      <td>1.000000</td>\n",
       "    </tr>\n",
       "  </tbody>\n",
       "</table>\n",
       "</div>"
      ],
      "text/plain": [
       "              total_sales  critic_score  user_score\n",
       "total_sales      1.000000      0.412005   -0.130303\n",
       "critic_score     0.412005      1.000000    0.426034\n",
       "user_score      -0.130303      0.426034    1.000000"
      ]
     },
     "execution_count": 29,
     "metadata": {},
     "output_type": "execute_result"
    }
   ],
   "source": [
    "# Соотнесите выводы с продажами игр на других платформах.\n",
    "df2016[df2016['platform'] == 'XOne'][['total_sales', 'critic_score', 'user_score']].corr()"
   ]
  },
  {
   "cell_type": "code",
   "execution_count": 30,
   "metadata": {},
   "outputs": [
    {
     "data": {
      "text/html": [
       "<div>\n",
       "<style scoped>\n",
       "    .dataframe tbody tr th:only-of-type {\n",
       "        vertical-align: middle;\n",
       "    }\n",
       "\n",
       "    .dataframe tbody tr th {\n",
       "        vertical-align: top;\n",
       "    }\n",
       "\n",
       "    .dataframe thead th {\n",
       "        text-align: right;\n",
       "    }\n",
       "</style>\n",
       "<table border=\"1\" class=\"dataframe\">\n",
       "  <thead>\n",
       "    <tr style=\"text-align: right;\">\n",
       "      <th></th>\n",
       "      <th>total_sales</th>\n",
       "      <th>critic_score</th>\n",
       "      <th>user_score</th>\n",
       "    </tr>\n",
       "  </thead>\n",
       "  <tbody>\n",
       "    <tr>\n",
       "      <th>total_sales</th>\n",
       "      <td>1.00000</td>\n",
       "      <td>0.486490</td>\n",
       "      <td>0.437630</td>\n",
       "    </tr>\n",
       "    <tr>\n",
       "      <th>critic_score</th>\n",
       "      <td>0.48649</td>\n",
       "      <td>1.000000</td>\n",
       "      <td>0.935733</td>\n",
       "    </tr>\n",
       "    <tr>\n",
       "      <th>user_score</th>\n",
       "      <td>0.43763</td>\n",
       "      <td>0.935733</td>\n",
       "      <td>1.000000</td>\n",
       "    </tr>\n",
       "  </tbody>\n",
       "</table>\n",
       "</div>"
      ],
      "text/plain": [
       "              total_sales  critic_score  user_score\n",
       "total_sales       1.00000      0.486490    0.437630\n",
       "critic_score      0.48649      1.000000    0.935733\n",
       "user_score        0.43763      0.935733    1.000000"
      ]
     },
     "execution_count": 30,
     "metadata": {},
     "output_type": "execute_result"
    }
   ],
   "source": [
    "df2016[df2016['platform'] == 'WiiU'][['total_sales', 'critic_score', 'user_score']].corr()"
   ]
  },
  {
   "cell_type": "code",
   "execution_count": 31,
   "metadata": {},
   "outputs": [
    {
     "data": {
      "text/html": [
       "<div>\n",
       "<style scoped>\n",
       "    .dataframe tbody tr th:only-of-type {\n",
       "        vertical-align: middle;\n",
       "    }\n",
       "\n",
       "    .dataframe tbody tr th {\n",
       "        vertical-align: top;\n",
       "    }\n",
       "\n",
       "    .dataframe thead th {\n",
       "        text-align: right;\n",
       "    }\n",
       "</style>\n",
       "<table border=\"1\" class=\"dataframe\">\n",
       "  <thead>\n",
       "    <tr style=\"text-align: right;\">\n",
       "      <th></th>\n",
       "      <th>total_sales</th>\n",
       "      <th>critic_score</th>\n",
       "      <th>user_score</th>\n",
       "    </tr>\n",
       "  </thead>\n",
       "  <tbody>\n",
       "    <tr>\n",
       "      <th>total_sales</th>\n",
       "      <td>1.000000</td>\n",
       "      <td>0.254152</td>\n",
       "      <td>0.116183</td>\n",
       "    </tr>\n",
       "    <tr>\n",
       "      <th>critic_score</th>\n",
       "      <td>0.254152</td>\n",
       "      <td>1.000000</td>\n",
       "      <td>0.465728</td>\n",
       "    </tr>\n",
       "    <tr>\n",
       "      <th>user_score</th>\n",
       "      <td>0.116183</td>\n",
       "      <td>0.465728</td>\n",
       "      <td>1.000000</td>\n",
       "    </tr>\n",
       "  </tbody>\n",
       "</table>\n",
       "</div>"
      ],
      "text/plain": [
       "              total_sales  critic_score  user_score\n",
       "total_sales      1.000000      0.254152    0.116183\n",
       "critic_score     0.254152      1.000000    0.465728\n",
       "user_score       0.116183      0.465728    1.000000"
      ]
     },
     "execution_count": 31,
     "metadata": {},
     "output_type": "execute_result"
    }
   ],
   "source": [
    "df2016[df2016['platform'] == 'PC'][['total_sales', 'critic_score', 'user_score']].corr()"
   ]
  },
  {
   "cell_type": "code",
   "execution_count": 32,
   "metadata": {},
   "outputs": [
    {
     "data": {
      "text/html": [
       "<div>\n",
       "<style scoped>\n",
       "    .dataframe tbody tr th:only-of-type {\n",
       "        vertical-align: middle;\n",
       "    }\n",
       "\n",
       "    .dataframe tbody tr th {\n",
       "        vertical-align: top;\n",
       "    }\n",
       "\n",
       "    .dataframe thead th {\n",
       "        text-align: right;\n",
       "    }\n",
       "</style>\n",
       "<table border=\"1\" class=\"dataframe\">\n",
       "  <thead>\n",
       "    <tr style=\"text-align: right;\">\n",
       "      <th></th>\n",
       "      <th>total_sales</th>\n",
       "      <th>critic_score</th>\n",
       "      <th>user_score</th>\n",
       "    </tr>\n",
       "  </thead>\n",
       "  <tbody>\n",
       "    <tr>\n",
       "      <th>total_sales</th>\n",
       "      <td>1.000000</td>\n",
       "      <td>0.338408</td>\n",
       "      <td>0.373365</td>\n",
       "    </tr>\n",
       "    <tr>\n",
       "      <th>critic_score</th>\n",
       "      <td>0.338408</td>\n",
       "      <td>1.000000</td>\n",
       "      <td>0.721313</td>\n",
       "    </tr>\n",
       "    <tr>\n",
       "      <th>user_score</th>\n",
       "      <td>0.373365</td>\n",
       "      <td>0.721313</td>\n",
       "      <td>1.000000</td>\n",
       "    </tr>\n",
       "  </tbody>\n",
       "</table>\n",
       "</div>"
      ],
      "text/plain": [
       "              total_sales  critic_score  user_score\n",
       "total_sales      1.000000      0.338408    0.373365\n",
       "critic_score     0.338408      1.000000    0.721313\n",
       "user_score       0.373365      0.721313    1.000000"
      ]
     },
     "execution_count": 32,
     "metadata": {},
     "output_type": "execute_result"
    }
   ],
   "source": [
    "df2016[df2016['platform'] == '3DS'][['total_sales', 'critic_score', 'user_score']].corr()"
   ]
  },
  {
   "cell_type": "markdown",
   "metadata": {},
   "source": [
    "Корреляция есть между отзывами критиков и продажами, отзывы пользователей практически не влияют на продажи. \n",
    "Исключение: WiiU и 3DS, где оценка пользователей также важна."
   ]
  },
  {
   "cell_type": "code",
   "execution_count": 33,
   "metadata": {},
   "outputs": [
    {
     "data": {
      "image/png": "[encoded data removed]",
      "text/plain": [
       "<Figure size 1080x360 with 1 Axes>"
      ]
     },
     "metadata": {
      "needs_background": "light"
     },
     "output_type": "display_data"
    }
   ],
   "source": [
    "# Посмотрите на общее распределение игр по жанрам. Что можно сказать о самых прибыльных жанрах? Выделяются ли жанры с высокими и низкими продажами?\n",
    "df2016.pivot_table(index='genre', values='name', aggfunc='count').sort_values(by='name', ascending=False).plot.bar(figsize=(15,5));"
   ]
  },
  {
   "cell_type": "code",
   "execution_count": 34,
   "metadata": {},
   "outputs": [
    {
     "data": {
      "text/html": [
       "<div>\n",
       "<style scoped>\n",
       "    .dataframe tbody tr th:only-of-type {\n",
       "        vertical-align: middle;\n",
       "    }\n",
       "\n",
       "    .dataframe tbody tr th {\n",
       "        vertical-align: top;\n",
       "    }\n",
       "\n",
       "    .dataframe thead th {\n",
       "        text-align: right;\n",
       "    }\n",
       "</style>\n",
       "<table border=\"1\" class=\"dataframe\">\n",
       "  <thead>\n",
       "    <tr style=\"text-align: right;\">\n",
       "      <th></th>\n",
       "      <th>name</th>\n",
       "    </tr>\n",
       "    <tr>\n",
       "      <th>genre</th>\n",
       "      <th></th>\n",
       "    </tr>\n",
       "  </thead>\n",
       "  <tbody>\n",
       "    <tr>\n",
       "      <th>Action</th>\n",
       "      <td>178</td>\n",
       "    </tr>\n",
       "    <tr>\n",
       "      <th>Adventure</th>\n",
       "      <td>56</td>\n",
       "    </tr>\n",
       "    <tr>\n",
       "      <th>Role-Playing</th>\n",
       "      <td>54</td>\n",
       "    </tr>\n",
       "    <tr>\n",
       "      <th>Sports</th>\n",
       "      <td>48</td>\n",
       "    </tr>\n",
       "    <tr>\n",
       "      <th>Shooter</th>\n",
       "      <td>47</td>\n",
       "    </tr>\n",
       "    <tr>\n",
       "      <th>Misc</th>\n",
       "      <td>32</td>\n",
       "    </tr>\n",
       "    <tr>\n",
       "      <th>Racing</th>\n",
       "      <td>24</td>\n",
       "    </tr>\n",
       "    <tr>\n",
       "      <th>Simulation</th>\n",
       "      <td>18</td>\n",
       "    </tr>\n",
       "    <tr>\n",
       "      <th>Fighting</th>\n",
       "      <td>16</td>\n",
       "    </tr>\n",
       "    <tr>\n",
       "      <th>Platform</th>\n",
       "      <td>15</td>\n",
       "    </tr>\n",
       "    <tr>\n",
       "      <th>Strategy</th>\n",
       "      <td>13</td>\n",
       "    </tr>\n",
       "    <tr>\n",
       "      <th>Puzzle</th>\n",
       "      <td>1</td>\n",
       "    </tr>\n",
       "  </tbody>\n",
       "</table>\n",
       "</div>"
      ],
      "text/plain": [
       "              name\n",
       "genre             \n",
       "Action         178\n",
       "Adventure       56\n",
       "Role-Playing    54\n",
       "Sports          48\n",
       "Shooter         47\n",
       "Misc            32\n",
       "Racing          24\n",
       "Simulation      18\n",
       "Fighting        16\n",
       "Platform        15\n",
       "Strategy        13\n",
       "Puzzle           1"
      ]
     },
     "execution_count": 34,
     "metadata": {},
     "output_type": "execute_result"
    }
   ],
   "source": [
    "df2016.pivot_table(index='genre', values='name', aggfunc='count').sort_values(by='name', ascending=False)"
   ]
  },
  {
   "cell_type": "markdown",
   "metadata": {},
   "source": [
    "Можно выделить пять жанров игр:\n",
    "- Action\t   178\n",
    "- Adventure\t   56\n",
    "- Role-Playing 54\n",
    "- Sports\t   48\n",
    "- Shooter\t   47"
   ]
  },
  {
   "cell_type": "code",
   "execution_count": 35,
   "metadata": {},
   "outputs": [
    {
     "data": {
      "image/png": "[encoded data removed]",
      "text/plain": [
       "<Figure size 1080x360 with 1 Axes>"
      ]
     },
     "metadata": {
      "needs_background": "light"
     },
     "output_type": "display_data"
    }
   ],
   "source": [
    "df2016.pivot_table(index='genre', values='total_sales', aggfunc='sum').sort_values(by='total_sales', ascending=False).plot.bar(figsize=(15,5), color='purple');"
   ]
  },
  {
   "cell_type": "code",
   "execution_count": 36,
   "metadata": {},
   "outputs": [
    {
     "data": {
      "text/html": [
       "<div>\n",
       "<style scoped>\n",
       "    .dataframe tbody tr th:only-of-type {\n",
       "        vertical-align: middle;\n",
       "    }\n",
       "\n",
       "    .dataframe tbody tr th {\n",
       "        vertical-align: top;\n",
       "    }\n",
       "\n",
       "    .dataframe thead th {\n",
       "        text-align: right;\n",
       "    }\n",
       "</style>\n",
       "<table border=\"1\" class=\"dataframe\">\n",
       "  <thead>\n",
       "    <tr style=\"text-align: right;\">\n",
       "      <th></th>\n",
       "      <th>total_sales</th>\n",
       "    </tr>\n",
       "    <tr>\n",
       "      <th>genre</th>\n",
       "      <th></th>\n",
       "    </tr>\n",
       "  </thead>\n",
       "  <tbody>\n",
       "    <tr>\n",
       "      <th>Shooter</th>\n",
       "      <td>38.22</td>\n",
       "    </tr>\n",
       "    <tr>\n",
       "      <th>Action</th>\n",
       "      <td>30.11</td>\n",
       "    </tr>\n",
       "    <tr>\n",
       "      <th>Sports</th>\n",
       "      <td>23.49</td>\n",
       "    </tr>\n",
       "    <tr>\n",
       "      <th>Role-Playing</th>\n",
       "      <td>18.18</td>\n",
       "    </tr>\n",
       "    <tr>\n",
       "      <th>Fighting</th>\n",
       "      <td>4.47</td>\n",
       "    </tr>\n",
       "    <tr>\n",
       "      <th>Adventure</th>\n",
       "      <td>3.82</td>\n",
       "    </tr>\n",
       "    <tr>\n",
       "      <th>Platform</th>\n",
       "      <td>3.23</td>\n",
       "    </tr>\n",
       "    <tr>\n",
       "      <th>Racing</th>\n",
       "      <td>2.79</td>\n",
       "    </tr>\n",
       "    <tr>\n",
       "      <th>Misc</th>\n",
       "      <td>2.60</td>\n",
       "    </tr>\n",
       "    <tr>\n",
       "      <th>Simulation</th>\n",
       "      <td>1.89</td>\n",
       "    </tr>\n",
       "    <tr>\n",
       "      <th>Strategy</th>\n",
       "      <td>1.13</td>\n",
       "    </tr>\n",
       "    <tr>\n",
       "      <th>Puzzle</th>\n",
       "      <td>0.01</td>\n",
       "    </tr>\n",
       "  </tbody>\n",
       "</table>\n",
       "</div>"
      ],
      "text/plain": [
       "              total_sales\n",
       "genre                    \n",
       "Shooter             38.22\n",
       "Action              30.11\n",
       "Sports              23.49\n",
       "Role-Playing        18.18\n",
       "Fighting             4.47\n",
       "Adventure            3.82\n",
       "Platform             3.23\n",
       "Racing               2.79\n",
       "Misc                 2.60\n",
       "Simulation           1.89\n",
       "Strategy             1.13\n",
       "Puzzle               0.01"
      ]
     },
     "execution_count": 36,
     "metadata": {},
     "output_type": "execute_result"
    }
   ],
   "source": [
    "df2016.pivot_table(index='genre', values='total_sales', aggfunc='sum').sort_values(by='total_sales', ascending=False)"
   ]
  },
  {
   "cell_type": "code",
   "execution_count": 37,
   "metadata": {},
   "outputs": [
    {
     "data": {
      "image/png": "[encoded data removed]",
      "text/plain": [
       "<Figure size 1080x360 with 1 Axes>"
      ]
     },
     "metadata": {
      "needs_background": "light"
     },
     "output_type": "display_data"
    }
   ],
   "source": [
    "plt.figure(figsize=(15, 5))\n",
    "sns.boxplot(data=df2016, x='genre', y='total_sales')\n",
    "plt.ylim(0, 1);"
   ]
  },
  {
   "cell_type": "code",
   "execution_count": 38,
   "metadata": {},
   "outputs": [
    {
     "data": {
      "text/html": [
       "<div>\n",
       "<style scoped>\n",
       "    .dataframe tbody tr th:only-of-type {\n",
       "        vertical-align: middle;\n",
       "    }\n",
       "\n",
       "    .dataframe tbody tr th {\n",
       "        vertical-align: top;\n",
       "    }\n",
       "\n",
       "    .dataframe thead tr th {\n",
       "        text-align: left;\n",
       "    }\n",
       "\n",
       "    .dataframe thead tr:last-of-type th {\n",
       "        text-align: right;\n",
       "    }\n",
       "</style>\n",
       "<table border=\"1\" class=\"dataframe\">\n",
       "  <thead>\n",
       "    <tr>\n",
       "      <th></th>\n",
       "      <th>median</th>\n",
       "      <th>mean</th>\n",
       "    </tr>\n",
       "    <tr>\n",
       "      <th></th>\n",
       "      <th>total_sales</th>\n",
       "      <th>total_sales</th>\n",
       "    </tr>\n",
       "    <tr>\n",
       "      <th>genre</th>\n",
       "      <th></th>\n",
       "      <th></th>\n",
       "    </tr>\n",
       "  </thead>\n",
       "  <tbody>\n",
       "    <tr>\n",
       "      <th>Action</th>\n",
       "      <td>0.050</td>\n",
       "      <td>0.169157</td>\n",
       "    </tr>\n",
       "    <tr>\n",
       "      <th>Adventure</th>\n",
       "      <td>0.020</td>\n",
       "      <td>0.068214</td>\n",
       "    </tr>\n",
       "    <tr>\n",
       "      <th>Fighting</th>\n",
       "      <td>0.085</td>\n",
       "      <td>0.279375</td>\n",
       "    </tr>\n",
       "    <tr>\n",
       "      <th>Misc</th>\n",
       "      <td>0.040</td>\n",
       "      <td>0.081250</td>\n",
       "    </tr>\n",
       "    <tr>\n",
       "      <th>Platform</th>\n",
       "      <td>0.100</td>\n",
       "      <td>0.215333</td>\n",
       "    </tr>\n",
       "    <tr>\n",
       "      <th>Puzzle</th>\n",
       "      <td>0.010</td>\n",
       "      <td>0.010000</td>\n",
       "    </tr>\n",
       "    <tr>\n",
       "      <th>Racing</th>\n",
       "      <td>0.050</td>\n",
       "      <td>0.116250</td>\n",
       "    </tr>\n",
       "    <tr>\n",
       "      <th>Role-Playing</th>\n",
       "      <td>0.120</td>\n",
       "      <td>0.336667</td>\n",
       "    </tr>\n",
       "    <tr>\n",
       "      <th>Shooter</th>\n",
       "      <td>0.240</td>\n",
       "      <td>0.813191</td>\n",
       "    </tr>\n",
       "    <tr>\n",
       "      <th>Simulation</th>\n",
       "      <td>0.025</td>\n",
       "      <td>0.105000</td>\n",
       "    </tr>\n",
       "    <tr>\n",
       "      <th>Sports</th>\n",
       "      <td>0.120</td>\n",
       "      <td>0.489375</td>\n",
       "    </tr>\n",
       "    <tr>\n",
       "      <th>Strategy</th>\n",
       "      <td>0.060</td>\n",
       "      <td>0.086923</td>\n",
       "    </tr>\n",
       "  </tbody>\n",
       "</table>\n",
       "</div>"
      ],
      "text/plain": [
       "                  median        mean\n",
       "             total_sales total_sales\n",
       "genre                               \n",
       "Action             0.050    0.169157\n",
       "Adventure          0.020    0.068214\n",
       "Fighting           0.085    0.279375\n",
       "Misc               0.040    0.081250\n",
       "Platform           0.100    0.215333\n",
       "Puzzle             0.010    0.010000\n",
       "Racing             0.050    0.116250\n",
       "Role-Playing       0.120    0.336667\n",
       "Shooter            0.240    0.813191\n",
       "Simulation         0.025    0.105000\n",
       "Sports             0.120    0.489375\n",
       "Strategy           0.060    0.086923"
      ]
     },
     "execution_count": 38,
     "metadata": {},
     "output_type": "execute_result"
    }
   ],
   "source": [
    "df2016.pivot_table(index='genre', values=['total_sales'], aggfunc=['median', 'mean'])"
   ]
  },
  {
   "cell_type": "markdown",
   "metadata": {},
   "source": [
    "Топ прибыльных жанров:\n",
    "- Shooter\n",
    "- Sports\n",
    "- Role-Playing"
   ]
  },
  {
   "cell_type": "markdown",
   "metadata": {},
   "source": [
    "Платформа: PS4, XOne, WiiU, 3DS, PC.\n",
    "Жанр: Shooter, Sports, Role-Playing.\n",
    "Оценка критиков от 67."
   ]
  },
  {
   "cell_type": "markdown",
   "metadata": {},
   "source": [
    "# 4. Составьте портрет пользователя каждого региона"
   ]
  },
  {
   "cell_type": "markdown",
   "metadata": {},
   "source": [
    "Определите для пользователя каждого региона (NA, EU, JP):"
   ]
  },
  {
   "cell_type": "code",
   "execution_count": 39,
   "metadata": {},
   "outputs": [
    {
     "data": {
      "text/html": [
       "<div>\n",
       "<style scoped>\n",
       "    .dataframe tbody tr th:only-of-type {\n",
       "        vertical-align: middle;\n",
       "    }\n",
       "\n",
       "    .dataframe tbody tr th {\n",
       "        vertical-align: top;\n",
       "    }\n",
       "\n",
       "    .dataframe thead th {\n",
       "        text-align: right;\n",
       "    }\n",
       "</style>\n",
       "<table border=\"1\" class=\"dataframe\">\n",
       "  <thead>\n",
       "    <tr style=\"text-align: right;\">\n",
       "      <th></th>\n",
       "      <th>na_sales</th>\n",
       "    </tr>\n",
       "    <tr>\n",
       "      <th>platform</th>\n",
       "      <th></th>\n",
       "    </tr>\n",
       "  </thead>\n",
       "  <tbody>\n",
       "    <tr>\n",
       "      <th>PS4</th>\n",
       "      <td>21.49</td>\n",
       "    </tr>\n",
       "    <tr>\n",
       "      <th>XOne</th>\n",
       "      <td>14.27</td>\n",
       "    </tr>\n",
       "    <tr>\n",
       "      <th>3DS</th>\n",
       "      <td>4.14</td>\n",
       "    </tr>\n",
       "    <tr>\n",
       "      <th>WiiU</th>\n",
       "      <td>2.10</td>\n",
       "    </tr>\n",
       "    <tr>\n",
       "      <th>PC</th>\n",
       "      <td>1.36</td>\n",
       "    </tr>\n",
       "  </tbody>\n",
       "</table>\n",
       "</div>"
      ],
      "text/plain": [
       "          na_sales\n",
       "platform          \n",
       "PS4          21.49\n",
       "XOne         14.27\n",
       "3DS           4.14\n",
       "WiiU          2.10\n",
       "PC            1.36"
      ]
     },
     "execution_count": 39,
     "metadata": {},
     "output_type": "execute_result"
    }
   ],
   "source": [
    "# Самые популярные платформы (топ-5). Опишите различия в долях продаж.\n",
    "df2016.pivot_table(index='platform', values='na_sales', aggfunc='sum').sort_values('na_sales', ascending=False).head()"
   ]
  },
  {
   "cell_type": "code",
   "execution_count": 40,
   "metadata": {},
   "outputs": [
    {
     "data": {
      "text/html": [
       "<div>\n",
       "<style scoped>\n",
       "    .dataframe tbody tr th:only-of-type {\n",
       "        vertical-align: middle;\n",
       "    }\n",
       "\n",
       "    .dataframe tbody tr th {\n",
       "        vertical-align: top;\n",
       "    }\n",
       "\n",
       "    .dataframe thead th {\n",
       "        text-align: right;\n",
       "    }\n",
       "</style>\n",
       "<table border=\"1\" class=\"dataframe\">\n",
       "  <thead>\n",
       "    <tr style=\"text-align: right;\">\n",
       "      <th></th>\n",
       "      <th>eu_sales</th>\n",
       "    </tr>\n",
       "    <tr>\n",
       "      <th>platform</th>\n",
       "      <th></th>\n",
       "    </tr>\n",
       "  </thead>\n",
       "  <tbody>\n",
       "    <tr>\n",
       "      <th>PS4</th>\n",
       "      <td>31.78</td>\n",
       "    </tr>\n",
       "    <tr>\n",
       "      <th>XOne</th>\n",
       "      <td>9.63</td>\n",
       "    </tr>\n",
       "    <tr>\n",
       "      <th>PC</th>\n",
       "      <td>3.53</td>\n",
       "    </tr>\n",
       "    <tr>\n",
       "      <th>3DS</th>\n",
       "      <td>2.33</td>\n",
       "    </tr>\n",
       "    <tr>\n",
       "      <th>WiiU</th>\n",
       "      <td>1.48</td>\n",
       "    </tr>\n",
       "  </tbody>\n",
       "</table>\n",
       "</div>"
      ],
      "text/plain": [
       "          eu_sales\n",
       "platform          \n",
       "PS4          31.78\n",
       "XOne          9.63\n",
       "PC            3.53\n",
       "3DS           2.33\n",
       "WiiU          1.48"
      ]
     },
     "execution_count": 40,
     "metadata": {},
     "output_type": "execute_result"
    }
   ],
   "source": [
    "df2016.pivot_table(index='platform', values='eu_sales', aggfunc='sum').sort_values('eu_sales', ascending=False).head()"
   ]
  },
  {
   "cell_type": "code",
   "execution_count": 41,
   "metadata": {},
   "outputs": [
    {
     "data": {
      "text/html": [
       "<div>\n",
       "<style scoped>\n",
       "    .dataframe tbody tr th:only-of-type {\n",
       "        vertical-align: middle;\n",
       "    }\n",
       "\n",
       "    .dataframe tbody tr th {\n",
       "        vertical-align: top;\n",
       "    }\n",
       "\n",
       "    .dataframe thead th {\n",
       "        text-align: right;\n",
       "    }\n",
       "</style>\n",
       "<table border=\"1\" class=\"dataframe\">\n",
       "  <thead>\n",
       "    <tr style=\"text-align: right;\">\n",
       "      <th></th>\n",
       "      <th>jp_sales</th>\n",
       "    </tr>\n",
       "    <tr>\n",
       "      <th>platform</th>\n",
       "      <th></th>\n",
       "    </tr>\n",
       "  </thead>\n",
       "  <tbody>\n",
       "    <tr>\n",
       "      <th>3DS</th>\n",
       "      <td>8.03</td>\n",
       "    </tr>\n",
       "    <tr>\n",
       "      <th>PS4</th>\n",
       "      <td>5.74</td>\n",
       "    </tr>\n",
       "    <tr>\n",
       "      <th>PSV</th>\n",
       "      <td>3.56</td>\n",
       "    </tr>\n",
       "    <tr>\n",
       "      <th>PS3</th>\n",
       "      <td>1.30</td>\n",
       "    </tr>\n",
       "    <tr>\n",
       "      <th>WiiU</th>\n",
       "      <td>0.67</td>\n",
       "    </tr>\n",
       "  </tbody>\n",
       "</table>\n",
       "</div>"
      ],
      "text/plain": [
       "          jp_sales\n",
       "platform          \n",
       "3DS           8.03\n",
       "PS4           5.74\n",
       "PSV           3.56\n",
       "PS3           1.30\n",
       "WiiU          0.67"
      ]
     },
     "execution_count": 41,
     "metadata": {},
     "output_type": "execute_result"
    }
   ],
   "source": [
    "df2016.pivot_table(index='platform', values='jp_sales', aggfunc='sum').sort_values('jp_sales', ascending=False).head()"
   ]
  },
  {
   "cell_type": "markdown",
   "metadata": {},
   "source": [
    "В NA и EU идентичный топ 5 платформ, самая популярная платформа PS4. В JP на первом месте 3DS, 2-4 место занимают разновидности PlayStation(родина)."
   ]
  },
  {
   "cell_type": "code",
   "execution_count": 42,
   "metadata": {},
   "outputs": [
    {
     "data": {
      "text/html": [
       "<div>\n",
       "<style scoped>\n",
       "    .dataframe tbody tr th:only-of-type {\n",
       "        vertical-align: middle;\n",
       "    }\n",
       "\n",
       "    .dataframe tbody tr th {\n",
       "        vertical-align: top;\n",
       "    }\n",
       "\n",
       "    .dataframe thead th {\n",
       "        text-align: right;\n",
       "    }\n",
       "</style>\n",
       "<table border=\"1\" class=\"dataframe\">\n",
       "  <thead>\n",
       "    <tr style=\"text-align: right;\">\n",
       "      <th></th>\n",
       "      <th>na_sales</th>\n",
       "    </tr>\n",
       "    <tr>\n",
       "      <th>genre</th>\n",
       "      <th></th>\n",
       "    </tr>\n",
       "  </thead>\n",
       "  <tbody>\n",
       "    <tr>\n",
       "      <th>Shooter</th>\n",
       "      <td>16.24</td>\n",
       "    </tr>\n",
       "    <tr>\n",
       "      <th>Action</th>\n",
       "      <td>9.29</td>\n",
       "    </tr>\n",
       "    <tr>\n",
       "      <th>Sports</th>\n",
       "      <td>7.54</td>\n",
       "    </tr>\n",
       "    <tr>\n",
       "      <th>Role-Playing</th>\n",
       "      <td>5.89</td>\n",
       "    </tr>\n",
       "    <tr>\n",
       "      <th>Fighting</th>\n",
       "      <td>1.84</td>\n",
       "    </tr>\n",
       "  </tbody>\n",
       "</table>\n",
       "</div>"
      ],
      "text/plain": [
       "              na_sales\n",
       "genre                 \n",
       "Shooter          16.24\n",
       "Action            9.29\n",
       "Sports            7.54\n",
       "Role-Playing      5.89\n",
       "Fighting          1.84"
      ]
     },
     "execution_count": 42,
     "metadata": {},
     "output_type": "execute_result"
    }
   ],
   "source": [
    "# Самые популярные жанры (топ-5). Поясните разницу.\n",
    "df2016.pivot_table(index='genre', values='na_sales', aggfunc='sum').sort_values('na_sales', ascending=False).head()"
   ]
  },
  {
   "cell_type": "code",
   "execution_count": 43,
   "metadata": {},
   "outputs": [
    {
     "data": {
      "text/html": [
       "<div>\n",
       "<style scoped>\n",
       "    .dataframe tbody tr th:only-of-type {\n",
       "        vertical-align: middle;\n",
       "    }\n",
       "\n",
       "    .dataframe tbody tr th {\n",
       "        vertical-align: top;\n",
       "    }\n",
       "\n",
       "    .dataframe thead th {\n",
       "        text-align: right;\n",
       "    }\n",
       "</style>\n",
       "<table border=\"1\" class=\"dataframe\">\n",
       "  <thead>\n",
       "    <tr style=\"text-align: right;\">\n",
       "      <th></th>\n",
       "      <th>eu_sales</th>\n",
       "    </tr>\n",
       "    <tr>\n",
       "      <th>genre</th>\n",
       "      <th></th>\n",
       "    </tr>\n",
       "  </thead>\n",
       "  <tbody>\n",
       "    <tr>\n",
       "      <th>Shooter</th>\n",
       "      <td>15.90</td>\n",
       "    </tr>\n",
       "    <tr>\n",
       "      <th>Sports</th>\n",
       "      <td>12.01</td>\n",
       "    </tr>\n",
       "    <tr>\n",
       "      <th>Action</th>\n",
       "      <td>10.68</td>\n",
       "    </tr>\n",
       "    <tr>\n",
       "      <th>Role-Playing</th>\n",
       "      <td>4.28</td>\n",
       "    </tr>\n",
       "    <tr>\n",
       "      <th>Racing</th>\n",
       "      <td>1.77</td>\n",
       "    </tr>\n",
       "  </tbody>\n",
       "</table>\n",
       "</div>"
      ],
      "text/plain": [
       "              eu_sales\n",
       "genre                 \n",
       "Shooter          15.90\n",
       "Sports           12.01\n",
       "Action           10.68\n",
       "Role-Playing      4.28\n",
       "Racing            1.77"
      ]
     },
     "execution_count": 43,
     "metadata": {},
     "output_type": "execute_result"
    }
   ],
   "source": [
    "df2016.pivot_table(index='genre', values='eu_sales', aggfunc='sum').sort_values('eu_sales', ascending=False).head()"
   ]
  },
  {
   "cell_type": "code",
   "execution_count": 44,
   "metadata": {},
   "outputs": [
    {
     "data": {
      "text/html": [
       "<div>\n",
       "<style scoped>\n",
       "    .dataframe tbody tr th:only-of-type {\n",
       "        vertical-align: middle;\n",
       "    }\n",
       "\n",
       "    .dataframe tbody tr th {\n",
       "        vertical-align: top;\n",
       "    }\n",
       "\n",
       "    .dataframe thead th {\n",
       "        text-align: right;\n",
       "    }\n",
       "</style>\n",
       "<table border=\"1\" class=\"dataframe\">\n",
       "  <thead>\n",
       "    <tr style=\"text-align: right;\">\n",
       "      <th></th>\n",
       "      <th>jp_sales</th>\n",
       "    </tr>\n",
       "    <tr>\n",
       "      <th>genre</th>\n",
       "      <th></th>\n",
       "    </tr>\n",
       "  </thead>\n",
       "  <tbody>\n",
       "    <tr>\n",
       "      <th>Action</th>\n",
       "      <td>7.07</td>\n",
       "    </tr>\n",
       "    <tr>\n",
       "      <th>Role-Playing</th>\n",
       "      <td>6.61</td>\n",
       "    </tr>\n",
       "    <tr>\n",
       "      <th>Adventure</th>\n",
       "      <td>1.18</td>\n",
       "    </tr>\n",
       "    <tr>\n",
       "      <th>Shooter</th>\n",
       "      <td>1.06</td>\n",
       "    </tr>\n",
       "    <tr>\n",
       "      <th>Misc</th>\n",
       "      <td>1.04</td>\n",
       "    </tr>\n",
       "  </tbody>\n",
       "</table>\n",
       "</div>"
      ],
      "text/plain": [
       "              jp_sales\n",
       "genre                 \n",
       "Action            7.07\n",
       "Role-Playing      6.61\n",
       "Adventure         1.18\n",
       "Shooter           1.06\n",
       "Misc              1.04"
      ]
     },
     "execution_count": 44,
     "metadata": {},
     "output_type": "execute_result"
    }
   ],
   "source": [
    "df2016.pivot_table(index='genre', values='jp_sales', aggfunc='sum').sort_values('jp_sales', ascending=False).head()"
   ]
  },
  {
   "cell_type": "markdown",
   "metadata": {},
   "source": [
    "Топ 4 в NA и EU идентичный, отличается только жанр на 5 месте Fighting и Racing соответственно.\n",
    "В JP подавляющее большинство за Action и Role-Playing. На 5 месте Misc."
   ]
  },
  {
   "cell_type": "code",
   "execution_count": 45,
   "metadata": {},
   "outputs": [
    {
     "data": {
      "text/html": [
       "<div>\n",
       "<style scoped>\n",
       "    .dataframe tbody tr th:only-of-type {\n",
       "        vertical-align: middle;\n",
       "    }\n",
       "\n",
       "    .dataframe tbody tr th {\n",
       "        vertical-align: top;\n",
       "    }\n",
       "\n",
       "    .dataframe thead th {\n",
       "        text-align: right;\n",
       "    }\n",
       "</style>\n",
       "<table border=\"1\" class=\"dataframe\">\n",
       "  <thead>\n",
       "    <tr style=\"text-align: right;\">\n",
       "      <th></th>\n",
       "      <th>na_sales</th>\n",
       "    </tr>\n",
       "    <tr>\n",
       "      <th>rating</th>\n",
       "      <th></th>\n",
       "    </tr>\n",
       "  </thead>\n",
       "  <tbody>\n",
       "    <tr>\n",
       "      <th>M</th>\n",
       "      <td>15.67</td>\n",
       "    </tr>\n",
       "    <tr>\n",
       "      <th>T</th>\n",
       "      <td>8.95</td>\n",
       "    </tr>\n",
       "    <tr>\n",
       "      <th>E</th>\n",
       "      <td>7.97</td>\n",
       "    </tr>\n",
       "    <tr>\n",
       "      <th>E10+</th>\n",
       "      <td>3.81</td>\n",
       "    </tr>\n",
       "  </tbody>\n",
       "</table>\n",
       "</div>"
      ],
      "text/plain": [
       "        na_sales\n",
       "rating          \n",
       "M          15.67\n",
       "T           8.95\n",
       "E           7.97\n",
       "E10+        3.81"
      ]
     },
     "execution_count": 45,
     "metadata": {},
     "output_type": "execute_result"
    }
   ],
   "source": [
    "# Влияет ли рейтинг ESRB на продажи в отдельном регионе?\n",
    "df2016[['na_sales', 'rating']].pivot_table(index='rating', values='na_sales', aggfunc='sum').sort_values(by='na_sales', ascending=False)"
   ]
  },
  {
   "cell_type": "code",
   "execution_count": 46,
   "metadata": {},
   "outputs": [
    {
     "data": {
      "text/html": [
       "<div>\n",
       "<style scoped>\n",
       "    .dataframe tbody tr th:only-of-type {\n",
       "        vertical-align: middle;\n",
       "    }\n",
       "\n",
       "    .dataframe tbody tr th {\n",
       "        vertical-align: top;\n",
       "    }\n",
       "\n",
       "    .dataframe thead th {\n",
       "        text-align: right;\n",
       "    }\n",
       "</style>\n",
       "<table border=\"1\" class=\"dataframe\">\n",
       "  <thead>\n",
       "    <tr style=\"text-align: right;\">\n",
       "      <th></th>\n",
       "      <th>eu_sales</th>\n",
       "    </tr>\n",
       "    <tr>\n",
       "      <th>rating</th>\n",
       "      <th></th>\n",
       "    </tr>\n",
       "  </thead>\n",
       "  <tbody>\n",
       "    <tr>\n",
       "      <th>M</th>\n",
       "      <td>16.54</td>\n",
       "    </tr>\n",
       "    <tr>\n",
       "      <th>E</th>\n",
       "      <td>13.61</td>\n",
       "    </tr>\n",
       "    <tr>\n",
       "      <th>T</th>\n",
       "      <td>9.79</td>\n",
       "    </tr>\n",
       "    <tr>\n",
       "      <th>E10+</th>\n",
       "      <td>3.81</td>\n",
       "    </tr>\n",
       "  </tbody>\n",
       "</table>\n",
       "</div>"
      ],
      "text/plain": [
       "        eu_sales\n",
       "rating          \n",
       "M          16.54\n",
       "E          13.61\n",
       "T           9.79\n",
       "E10+        3.81"
      ]
     },
     "execution_count": 46,
     "metadata": {},
     "output_type": "execute_result"
    }
   ],
   "source": [
    "df2016[['eu_sales', 'rating']].pivot_table(index='rating', values='eu_sales', aggfunc='sum').sort_values(by='eu_sales', ascending=False)"
   ]
  },
  {
   "cell_type": "code",
   "execution_count": 47,
   "metadata": {},
   "outputs": [
    {
     "data": {
      "text/html": [
       "<div>\n",
       "<style scoped>\n",
       "    .dataframe tbody tr th:only-of-type {\n",
       "        vertical-align: middle;\n",
       "    }\n",
       "\n",
       "    .dataframe tbody tr th {\n",
       "        vertical-align: top;\n",
       "    }\n",
       "\n",
       "    .dataframe thead th {\n",
       "        text-align: right;\n",
       "    }\n",
       "</style>\n",
       "<table border=\"1\" class=\"dataframe\">\n",
       "  <thead>\n",
       "    <tr style=\"text-align: right;\">\n",
       "      <th></th>\n",
       "      <th>jp_sales</th>\n",
       "    </tr>\n",
       "    <tr>\n",
       "      <th>rating</th>\n",
       "      <th></th>\n",
       "    </tr>\n",
       "  </thead>\n",
       "  <tbody>\n",
       "    <tr>\n",
       "      <th>T</th>\n",
       "      <td>2.27</td>\n",
       "    </tr>\n",
       "    <tr>\n",
       "      <th>M</th>\n",
       "      <td>1.20</td>\n",
       "    </tr>\n",
       "    <tr>\n",
       "      <th>E</th>\n",
       "      <td>1.07</td>\n",
       "    </tr>\n",
       "    <tr>\n",
       "      <th>E10+</th>\n",
       "      <td>0.45</td>\n",
       "    </tr>\n",
       "  </tbody>\n",
       "</table>\n",
       "</div>"
      ],
      "text/plain": [
       "        jp_sales\n",
       "rating          \n",
       "T           2.27\n",
       "M           1.20\n",
       "E           1.07\n",
       "E10+        0.45"
      ]
     },
     "execution_count": 47,
     "metadata": {},
     "output_type": "execute_result"
    }
   ],
   "source": [
    "df2016[['jp_sales', 'rating']].pivot_table(index='rating', values='jp_sales', aggfunc='sum').sort_values(by='jp_sales', ascending=False)"
   ]
  },
  {
   "cell_type": "markdown",
   "metadata": {},
   "source": [
    "В NA и EU преобладают игры с рейтингом M. В JP с рейтингом T, особенность Японского рынка.\n",
    "\n",
    "- M Mature Для взрослых\n",
    "- T Teen Для подростков\n",
    "- E Everyone Для всех\n",
    "- E10+ Everyone 10 and older Для всех от 10 лет и старше"
   ]
  },
  {
   "cell_type": "markdown",
   "metadata": {},
   "source": [
    "# 5. Проверьте гипотезы"
   ]
  },
  {
   "cell_type": "code",
   "execution_count": 48,
   "metadata": {},
   "outputs": [
    {
     "name": "stdout",
     "output_type": "stream",
     "text": [
      "p-значение: 0.33981967396516377\n",
      "Не получилось отвергнуть нулевую гипотезу\n"
     ]
    }
   ],
   "source": [
    "# Средние пользовательские рейтинги платформ Xbox One и PC одинаковые;\n",
    "alpha = .05\n",
    "\n",
    "results = st.ttest_ind(df2016[df2016['platform'] == 'XOne']['user_score'].dropna(), df2016[df2016['platform'] == 'PC']['user_score'].dropna())\n",
    "\n",
    "print('p-значение:', results.pvalue)\n",
    "\n",
    "if results.pvalue < alpha:\n",
    "    print(\"Отвергаем нулевую гипотезу\")\n",
    "else:\n",
    "    print(\"Не получилось отвергнуть нулевую гипотезу\")"
   ]
  },
  {
   "cell_type": "markdown",
   "metadata": {},
   "source": [
    "Не получилось отвергнуть нулевую гипотезу, средние пользовательские рейтинги платформ Xbox One и PC одинаковые.\n",
    "\n",
    "Нулевая гипотеза: средние пользовательские рейтинги платформ Xbox One и PC одинаковые.\n",
    "Альтернативная гипотеза: средние пользовательские рейтинги платформ Xbox One и PC разные."
   ]
  },
  {
   "cell_type": "code",
   "execution_count": 49,
   "metadata": {},
   "outputs": [
    {
     "name": "stdout",
     "output_type": "stream",
     "text": [
      "p-значение: 0.000347482871898091\n",
      "Отвергаем нулевую гипотезу\n"
     ]
    }
   ],
   "source": [
    "# Средние пользовательские рейтинги жанров Action (англ. «действие», экшен-игры) и Sports (англ. «спортивные соревнования») разные.\n",
    "alpha = .05\n",
    "\n",
    "results = st.ttest_ind(df2016[df2016['genre'] == 'Action']['user_score'].dropna(), df2016[df2016['genre'] == 'Sports']['user_score'].dropna())\n",
    "\n",
    "print('p-значение:', results.pvalue)\n",
    "\n",
    "if results.pvalue < alpha:\n",
    "    print(\"Отвергаем нулевую гипотезу\")\n",
    "else:\n",
    "    print(\"Не получилось отвергнуть нулевую гипотезу\")"
   ]
  },
  {
   "cell_type": "markdown",
   "metadata": {},
   "source": [
    "Отвергаем нулевую гипотезу, средние пользовательские рейтинги жанров Action и Sports разные.\n",
    "\n",
    "Нулевая гипотеза: средние пользовательские рейтинги жанров Action и Sports одинаковые.\n",
    "Альтернативная гипотеза: средние пользовательские рейтинги жанров Action и Sports разные."
   ]
  },
  {
   "cell_type": "markdown",
   "metadata": {},
   "source": [
    "# 6. Напишите общий вывод"
   ]
  },
  {
   "cell_type": "markdown",
   "metadata": {},
   "source": [
    "Срок жизни платформы примерно 10 лет. PC - главный долгожитель.\n",
    "Корреляция есть между отзывами критиков и продажами, отзывы пользователей практически не влияют на продажи. Исключение: WiiU и 3DS, где оценка пользователей также важна.\n",
    "В NA и EU идентичный топ 5 платформ, самая популярная платформа PS4. В JP на первом месте 3DS, 2-4 место занимают разновидности PlayStation.\n",
    "Топ 4 жанра в NA и EU идентичный, отличается только жанр на 5 месте Fighting и Racing соответственно. В JP подавляющее большинство за Action и Role-Playing. На 5 месте Misc.\n",
    "В NA и EU преобладают игры с рейтингом M. В JP с рейтингом T, особенность Японского рынка.\n",
    "\n",
    "\n",
    "Не получилось отвергнуть нулевую гипотезу, средние пользовательские рейтинги платформ Xbox One и PC одинаковые.\n",
    "\n",
    "Отвергаем нулевую гипотезу, средние пользовательские рейтинги жанров Action и Sports разные.\n",
    "\n",
    "Основные закономерности определяющие успешность игры.\n",
    "\n",
    "Жанр:\n",
    "- Shooter\n",
    "- Sports\n",
    "- Role-Playing\n",
    "\n",
    "Платформа:\n",
    "- PS4\n",
    "- XOne\n",
    "- WiiU\n",
    "- 3DS\n",
    "\n",
    "Оценка критиков от 67.\n",
    "\n",
    "Рейтинг ESRB:\n",
    "M Mature Для взрослых\n",
    "T Teen Для подростков\n",
    "E Everyone Для всех\n",
    "\n",
    "Если потребуется выделить только одну игру: жанр - Shooter, платформа - PS4, оценка критиков > 90, рейтинг ESRB M Mature Для взрослых."
   ]
  }
 ],
 "metadata": {
  "ExecuteTimeLog": [
   {
    "duration": 1363,
    "start_time": "2023-02-15T14:46:47.983Z"
   },
   {
    "duration": 205,
    "start_time": "2023-02-15T14:46:49.349Z"
   },
   {
    "duration": 10,
    "start_time": "2023-02-15T14:46:49.555Z"
   },
   {
    "duration": 28,
    "start_time": "2023-02-15T14:46:49.567Z"
   },
   {
    "duration": 124,
    "start_time": "2023-02-15T14:46:49.597Z"
   },
   {
    "duration": 0,
    "start_time": "2023-02-15T14:46:49.723Z"
   },
   {
    "duration": 0,
    "start_time": "2023-02-15T14:46:49.724Z"
   },
   {
    "duration": 0,
    "start_time": "2023-02-15T14:46:49.725Z"
   },
   {
    "duration": 0,
    "start_time": "2023-02-15T14:46:49.727Z"
   },
   {
    "duration": 8,
    "start_time": "2023-02-15T14:49:25.233Z"
   },
   {
    "duration": 5,
    "start_time": "2023-02-15T14:49:33.670Z"
   },
   {
    "duration": 1192,
    "start_time": "2023-02-15T14:51:36.245Z"
   },
   {
    "duration": 60,
    "start_time": "2023-02-15T14:51:37.440Z"
   },
   {
    "duration": 6,
    "start_time": "2023-02-15T14:51:37.502Z"
   },
   {
    "duration": 18,
    "start_time": "2023-02-15T14:51:37.511Z"
   },
   {
    "duration": 23,
    "start_time": "2023-02-15T14:51:37.532Z"
   },
   {
    "duration": 133,
    "start_time": "2023-02-15T14:51:37.557Z"
   },
   {
    "duration": 0,
    "start_time": "2023-02-15T14:51:37.692Z"
   },
   {
    "duration": 0,
    "start_time": "2023-02-15T14:51:37.694Z"
   },
   {
    "duration": 0,
    "start_time": "2023-02-15T14:51:37.696Z"
   },
   {
    "duration": 1,
    "start_time": "2023-02-15T14:51:37.697Z"
   },
   {
    "duration": 1144,
    "start_time": "2023-02-15T14:51:57.541Z"
   },
   {
    "duration": 53,
    "start_time": "2023-02-15T14:51:58.687Z"
   },
   {
    "duration": 6,
    "start_time": "2023-02-15T14:51:58.741Z"
   },
   {
    "duration": 20,
    "start_time": "2023-02-15T14:51:58.749Z"
   },
   {
    "duration": 15,
    "start_time": "2023-02-15T14:51:58.770Z"
   },
   {
    "duration": 755,
    "start_time": "2023-02-15T14:51:58.787Z"
   },
   {
    "duration": 9,
    "start_time": "2023-02-15T14:51:59.544Z"
   },
   {
    "duration": 62,
    "start_time": "2023-02-15T14:51:59.554Z"
   },
   {
    "duration": 15,
    "start_time": "2023-02-15T14:51:59.618Z"
   },
   {
    "duration": 2,
    "start_time": "2023-02-15T14:51:59.635Z"
   },
   {
    "duration": 19,
    "start_time": "2023-02-15T14:57:32.672Z"
   },
   {
    "duration": 57,
    "start_time": "2023-02-15T20:30:17.873Z"
   },
   {
    "duration": 1256,
    "start_time": "2023-02-15T20:30:27.541Z"
   },
   {
    "duration": 197,
    "start_time": "2023-02-15T20:30:28.799Z"
   },
   {
    "duration": 3,
    "start_time": "2023-02-15T20:30:28.998Z"
   },
   {
    "duration": 10,
    "start_time": "2023-02-15T20:30:29.003Z"
   },
   {
    "duration": 21,
    "start_time": "2023-02-15T20:30:29.014Z"
   },
   {
    "duration": 17,
    "start_time": "2023-02-15T20:30:29.037Z"
   },
   {
    "duration": 15,
    "start_time": "2023-02-15T20:30:29.056Z"
   },
   {
    "duration": 773,
    "start_time": "2023-02-15T20:30:29.092Z"
   },
   {
    "duration": 8,
    "start_time": "2023-02-15T20:30:29.867Z"
   },
   {
    "duration": 59,
    "start_time": "2023-02-15T20:30:29.877Z"
   },
   {
    "duration": 16,
    "start_time": "2023-02-15T20:30:29.937Z"
   },
   {
    "duration": 3,
    "start_time": "2023-02-15T20:30:29.955Z"
   },
   {
    "duration": 1174,
    "start_time": "2023-02-15T20:32:17.965Z"
   },
   {
    "duration": 52,
    "start_time": "2023-02-15T20:32:19.141Z"
   },
   {
    "duration": 3,
    "start_time": "2023-02-15T20:32:19.195Z"
   },
   {
    "duration": 16,
    "start_time": "2023-02-15T20:32:19.200Z"
   },
   {
    "duration": 32,
    "start_time": "2023-02-15T20:32:19.218Z"
   },
   {
    "duration": 22,
    "start_time": "2023-02-15T20:32:19.252Z"
   },
   {
    "duration": 20,
    "start_time": "2023-02-15T20:32:19.276Z"
   },
   {
    "duration": 732,
    "start_time": "2023-02-15T20:32:19.297Z"
   },
   {
    "duration": 9,
    "start_time": "2023-02-15T20:32:20.030Z"
   },
   {
    "duration": 112,
    "start_time": "2023-02-15T20:32:20.042Z"
   },
   {
    "duration": 0,
    "start_time": "2023-02-15T20:32:20.156Z"
   },
   {
    "duration": 0,
    "start_time": "2023-02-15T20:32:20.158Z"
   },
   {
    "duration": 53,
    "start_time": "2023-02-15T20:33:03.122Z"
   },
   {
    "duration": 1136,
    "start_time": "2023-02-15T21:36:10.615Z"
   },
   {
    "duration": 51,
    "start_time": "2023-02-15T21:36:11.753Z"
   },
   {
    "duration": 5,
    "start_time": "2023-02-15T21:36:11.806Z"
   },
   {
    "duration": 20,
    "start_time": "2023-02-15T21:36:11.813Z"
   },
   {
    "duration": 16,
    "start_time": "2023-02-15T21:36:11.835Z"
   },
   {
    "duration": 16,
    "start_time": "2023-02-15T21:36:11.853Z"
   },
   {
    "duration": 752,
    "start_time": "2023-02-15T21:36:11.871Z"
   },
   {
    "duration": 10,
    "start_time": "2023-02-15T21:36:12.625Z"
   },
   {
    "duration": 70,
    "start_time": "2023-02-15T21:36:12.637Z"
   },
   {
    "duration": 16,
    "start_time": "2023-02-15T21:36:12.710Z"
   },
   {
    "duration": 2,
    "start_time": "2023-02-15T21:36:12.728Z"
   },
   {
    "duration": 6,
    "start_time": "2023-02-15T21:36:12.732Z"
   },
   {
    "duration": 122,
    "start_time": "2023-02-15T21:36:12.740Z"
   },
   {
    "duration": 0,
    "start_time": "2023-02-15T21:36:12.864Z"
   },
   {
    "duration": 0,
    "start_time": "2023-02-15T21:36:12.865Z"
   },
   {
    "duration": 13,
    "start_time": "2023-02-15T22:08:54.651Z"
   },
   {
    "duration": 1095,
    "start_time": "2023-02-15T22:09:02.334Z"
   },
   {
    "duration": 50,
    "start_time": "2023-02-15T22:09:03.431Z"
   },
   {
    "duration": 5,
    "start_time": "2023-02-15T22:09:03.483Z"
   },
   {
    "duration": 22,
    "start_time": "2023-02-15T22:09:03.491Z"
   },
   {
    "duration": 17,
    "start_time": "2023-02-15T22:09:03.515Z"
   },
   {
    "duration": 17,
    "start_time": "2023-02-15T22:09:03.533Z"
   },
   {
    "duration": 779,
    "start_time": "2023-02-15T22:09:03.551Z"
   },
   {
    "duration": 8,
    "start_time": "2023-02-15T22:09:04.331Z"
   },
   {
    "duration": 63,
    "start_time": "2023-02-15T22:09:04.341Z"
   },
   {
    "duration": 15,
    "start_time": "2023-02-15T22:09:04.406Z"
   },
   {
    "duration": 2,
    "start_time": "2023-02-15T22:09:04.422Z"
   },
   {
    "duration": 5,
    "start_time": "2023-02-15T22:09:04.426Z"
   },
   {
    "duration": 124,
    "start_time": "2023-02-15T22:09:04.432Z"
   },
   {
    "duration": 0,
    "start_time": "2023-02-15T22:09:04.557Z"
   },
   {
    "duration": 0,
    "start_time": "2023-02-15T22:09:04.558Z"
   },
   {
    "duration": 1152,
    "start_time": "2023-02-15T22:09:14.487Z"
   },
   {
    "duration": 54,
    "start_time": "2023-02-15T22:09:15.641Z"
   },
   {
    "duration": 6,
    "start_time": "2023-02-15T22:09:15.697Z"
   },
   {
    "duration": 29,
    "start_time": "2023-02-15T22:09:15.704Z"
   },
   {
    "duration": 19,
    "start_time": "2023-02-15T22:09:15.735Z"
   },
   {
    "duration": 18,
    "start_time": "2023-02-15T22:09:15.756Z"
   },
   {
    "duration": 786,
    "start_time": "2023-02-15T22:09:15.792Z"
   },
   {
    "duration": 14,
    "start_time": "2023-02-15T22:09:16.580Z"
   },
   {
    "duration": 53,
    "start_time": "2023-02-15T22:09:16.596Z"
   },
   {
    "duration": 14,
    "start_time": "2023-02-15T22:09:16.650Z"
   },
   {
    "duration": 7,
    "start_time": "2023-02-15T22:09:16.665Z"
   },
   {
    "duration": 19,
    "start_time": "2023-02-15T22:09:16.673Z"
   },
   {
    "duration": 102,
    "start_time": "2023-02-15T22:09:16.693Z"
   },
   {
    "duration": 0,
    "start_time": "2023-02-15T22:09:16.797Z"
   },
   {
    "duration": 0,
    "start_time": "2023-02-15T22:09:16.798Z"
   },
   {
    "duration": 1365,
    "start_time": "2023-02-16T07:48:23.901Z"
   },
   {
    "duration": 204,
    "start_time": "2023-02-16T07:48:25.269Z"
   },
   {
    "duration": 5,
    "start_time": "2023-02-16T07:48:25.477Z"
   },
   {
    "duration": 24,
    "start_time": "2023-02-16T07:48:25.484Z"
   },
   {
    "duration": 17,
    "start_time": "2023-02-16T07:48:25.509Z"
   },
   {
    "duration": 31,
    "start_time": "2023-02-16T07:48:25.528Z"
   },
   {
    "duration": 795,
    "start_time": "2023-02-16T07:48:25.560Z"
   },
   {
    "duration": 12,
    "start_time": "2023-02-16T07:48:26.358Z"
   },
   {
    "duration": 90,
    "start_time": "2023-02-16T07:48:26.373Z"
   },
   {
    "duration": 19,
    "start_time": "2023-02-16T07:48:26.468Z"
   },
   {
    "duration": 13,
    "start_time": "2023-02-16T07:48:26.489Z"
   },
   {
    "duration": 7,
    "start_time": "2023-02-16T07:48:26.504Z"
   },
   {
    "duration": 124,
    "start_time": "2023-02-16T07:48:26.513Z"
   },
   {
    "duration": 0,
    "start_time": "2023-02-16T07:48:26.640Z"
   },
   {
    "duration": 0,
    "start_time": "2023-02-16T07:48:26.642Z"
   },
   {
    "duration": 15,
    "start_time": "2023-02-16T07:49:16.337Z"
   },
   {
    "duration": 8,
    "start_time": "2023-02-16T07:49:29.590Z"
   },
   {
    "duration": 11,
    "start_time": "2023-02-16T07:49:48.536Z"
   },
   {
    "duration": 18,
    "start_time": "2023-02-16T07:50:43.125Z"
   },
   {
    "duration": 15,
    "start_time": "2023-02-16T07:51:48.841Z"
   },
   {
    "duration": 8,
    "start_time": "2023-02-16T07:53:10.212Z"
   },
   {
    "duration": 12,
    "start_time": "2023-02-16T07:53:19.362Z"
   },
   {
    "duration": 13,
    "start_time": "2023-02-16T07:55:55.907Z"
   },
   {
    "duration": 1213,
    "start_time": "2023-02-16T07:56:03.357Z"
   },
   {
    "duration": 58,
    "start_time": "2023-02-16T07:56:04.573Z"
   },
   {
    "duration": 9,
    "start_time": "2023-02-16T07:56:04.632Z"
   },
   {
    "duration": 26,
    "start_time": "2023-02-16T07:56:04.642Z"
   },
   {
    "duration": 24,
    "start_time": "2023-02-16T07:56:04.671Z"
   },
   {
    "duration": 17,
    "start_time": "2023-02-16T07:56:04.697Z"
   },
   {
    "duration": 804,
    "start_time": "2023-02-16T07:56:04.716Z"
   },
   {
    "duration": 10,
    "start_time": "2023-02-16T07:56:05.522Z"
   },
   {
    "duration": 60,
    "start_time": "2023-02-16T07:56:05.533Z"
   },
   {
    "duration": 16,
    "start_time": "2023-02-16T07:56:05.595Z"
   },
   {
    "duration": 2,
    "start_time": "2023-02-16T07:56:05.613Z"
   },
   {
    "duration": 6,
    "start_time": "2023-02-16T07:56:05.617Z"
   },
   {
    "duration": 150,
    "start_time": "2023-02-16T07:56:05.624Z"
   },
   {
    "duration": 0,
    "start_time": "2023-02-16T07:56:05.776Z"
   },
   {
    "duration": 0,
    "start_time": "2023-02-16T07:56:05.777Z"
   },
   {
    "duration": 14,
    "start_time": "2023-02-16T07:56:12.503Z"
   },
   {
    "duration": 8,
    "start_time": "2023-02-16T07:57:28.774Z"
   },
   {
    "duration": 9,
    "start_time": "2023-02-16T07:57:39.372Z"
   },
   {
    "duration": 9,
    "start_time": "2023-02-16T07:57:48.441Z"
   },
   {
    "duration": 8,
    "start_time": "2023-02-16T07:58:18.465Z"
   },
   {
    "duration": 1091,
    "start_time": "2023-02-16T07:58:30.089Z"
   },
   {
    "duration": 54,
    "start_time": "2023-02-16T07:58:31.182Z"
   },
   {
    "duration": 5,
    "start_time": "2023-02-16T07:58:31.238Z"
   },
   {
    "duration": 44,
    "start_time": "2023-02-16T07:58:31.244Z"
   },
   {
    "duration": 32,
    "start_time": "2023-02-16T07:58:31.290Z"
   },
   {
    "duration": 34,
    "start_time": "2023-02-16T07:58:31.324Z"
   },
   {
    "duration": 774,
    "start_time": "2023-02-16T07:58:31.360Z"
   },
   {
    "duration": 14,
    "start_time": "2023-02-16T07:58:32.136Z"
   },
   {
    "duration": 113,
    "start_time": "2023-02-16T07:58:32.152Z"
   },
   {
    "duration": 0,
    "start_time": "2023-02-16T07:58:32.267Z"
   },
   {
    "duration": 0,
    "start_time": "2023-02-16T07:58:32.268Z"
   },
   {
    "duration": 0,
    "start_time": "2023-02-16T07:58:32.270Z"
   },
   {
    "duration": 0,
    "start_time": "2023-02-16T07:58:32.271Z"
   },
   {
    "duration": 0,
    "start_time": "2023-02-16T07:58:32.272Z"
   },
   {
    "duration": 0,
    "start_time": "2023-02-16T07:58:32.273Z"
   },
   {
    "duration": 0,
    "start_time": "2023-02-16T07:58:32.274Z"
   },
   {
    "duration": 22,
    "start_time": "2023-02-16T08:00:36.659Z"
   },
   {
    "duration": 1123,
    "start_time": "2023-02-16T08:05:13.807Z"
   },
   {
    "duration": 55,
    "start_time": "2023-02-16T08:05:14.932Z"
   },
   {
    "duration": 7,
    "start_time": "2023-02-16T08:05:14.989Z"
   },
   {
    "duration": 39,
    "start_time": "2023-02-16T08:05:14.998Z"
   },
   {
    "duration": 18,
    "start_time": "2023-02-16T08:05:15.039Z"
   },
   {
    "duration": 32,
    "start_time": "2023-02-16T08:05:15.058Z"
   },
   {
    "duration": 805,
    "start_time": "2023-02-16T08:05:15.092Z"
   },
   {
    "duration": 10,
    "start_time": "2023-02-16T08:05:15.899Z"
   },
   {
    "duration": 66,
    "start_time": "2023-02-16T08:05:15.910Z"
   },
   {
    "duration": 15,
    "start_time": "2023-02-16T08:05:15.977Z"
   },
   {
    "duration": 2,
    "start_time": "2023-02-16T08:05:15.994Z"
   },
   {
    "duration": 2886,
    "start_time": "2023-02-16T08:05:15.997Z"
   },
   {
    "duration": 0,
    "start_time": "2023-02-16T08:05:18.885Z"
   },
   {
    "duration": 1,
    "start_time": "2023-02-16T08:05:18.886Z"
   },
   {
    "duration": 0,
    "start_time": "2023-02-16T08:05:18.887Z"
   },
   {
    "duration": 1129,
    "start_time": "2023-02-16T08:06:39.350Z"
   },
   {
    "duration": 55,
    "start_time": "2023-02-16T08:06:40.481Z"
   },
   {
    "duration": 6,
    "start_time": "2023-02-16T08:06:40.538Z"
   },
   {
    "duration": 28,
    "start_time": "2023-02-16T08:06:40.546Z"
   },
   {
    "duration": 17,
    "start_time": "2023-02-16T08:06:40.576Z"
   },
   {
    "duration": 19,
    "start_time": "2023-02-16T08:06:40.594Z"
   },
   {
    "duration": 753,
    "start_time": "2023-02-16T08:06:40.615Z"
   },
   {
    "duration": 10,
    "start_time": "2023-02-16T08:06:41.370Z"
   },
   {
    "duration": 71,
    "start_time": "2023-02-16T08:06:41.381Z"
   },
   {
    "duration": 15,
    "start_time": "2023-02-16T08:06:41.454Z"
   },
   {
    "duration": 3,
    "start_time": "2023-02-16T08:06:41.470Z"
   },
   {
    "duration": 18,
    "start_time": "2023-02-16T08:06:41.474Z"
   },
   {
    "duration": 8,
    "start_time": "2023-02-16T08:06:41.493Z"
   },
   {
    "duration": 112,
    "start_time": "2023-02-16T08:06:41.503Z"
   },
   {
    "duration": 0,
    "start_time": "2023-02-16T08:06:41.617Z"
   },
   {
    "duration": 6,
    "start_time": "2023-02-16T08:08:42.984Z"
   },
   {
    "duration": 1128,
    "start_time": "2023-02-16T08:10:55.094Z"
   },
   {
    "duration": 92,
    "start_time": "2023-02-16T08:10:56.225Z"
   },
   {
    "duration": 8,
    "start_time": "2023-02-16T08:10:56.319Z"
   },
   {
    "duration": 38,
    "start_time": "2023-02-16T08:10:56.330Z"
   },
   {
    "duration": 29,
    "start_time": "2023-02-16T08:10:56.370Z"
   },
   {
    "duration": 27,
    "start_time": "2023-02-16T08:10:56.401Z"
   },
   {
    "duration": 803,
    "start_time": "2023-02-16T08:10:56.430Z"
   },
   {
    "duration": 15,
    "start_time": "2023-02-16T08:10:57.234Z"
   },
   {
    "duration": 56,
    "start_time": "2023-02-16T08:10:57.251Z"
   },
   {
    "duration": 38,
    "start_time": "2023-02-16T08:10:57.310Z"
   },
   {
    "duration": 3,
    "start_time": "2023-02-16T08:10:57.350Z"
   },
   {
    "duration": 6,
    "start_time": "2023-02-16T08:10:57.354Z"
   },
   {
    "duration": 9,
    "start_time": "2023-02-16T08:10:57.363Z"
   },
   {
    "duration": 7,
    "start_time": "2023-02-16T08:10:57.373Z"
   },
   {
    "duration": 7,
    "start_time": "2023-02-16T08:10:57.382Z"
   },
   {
    "duration": 4,
    "start_time": "2023-02-16T08:10:57.390Z"
   },
   {
    "duration": 1205,
    "start_time": "2023-02-16T08:11:27.995Z"
   },
   {
    "duration": 60,
    "start_time": "2023-02-16T08:11:29.203Z"
   },
   {
    "duration": 8,
    "start_time": "2023-02-16T08:11:29.265Z"
   },
   {
    "duration": 40,
    "start_time": "2023-02-16T08:11:29.276Z"
   },
   {
    "duration": 27,
    "start_time": "2023-02-16T08:11:29.319Z"
   },
   {
    "duration": 26,
    "start_time": "2023-02-16T08:11:29.349Z"
   },
   {
    "duration": 791,
    "start_time": "2023-02-16T08:11:29.377Z"
   },
   {
    "duration": 12,
    "start_time": "2023-02-16T08:11:30.170Z"
   },
   {
    "duration": 80,
    "start_time": "2023-02-16T08:11:30.184Z"
   },
   {
    "duration": 18,
    "start_time": "2023-02-16T08:11:30.265Z"
   },
   {
    "duration": 3,
    "start_time": "2023-02-16T08:11:30.285Z"
   },
   {
    "duration": 20,
    "start_time": "2023-02-16T08:11:30.290Z"
   },
   {
    "duration": 36,
    "start_time": "2023-02-16T08:11:30.313Z"
   },
   {
    "duration": 69,
    "start_time": "2023-02-16T08:11:30.353Z"
   },
   {
    "duration": 46,
    "start_time": "2023-02-16T08:11:30.425Z"
   },
   {
    "duration": 23,
    "start_time": "2023-02-16T08:11:30.473Z"
   },
   {
    "duration": 1190,
    "start_time": "2023-02-16T08:11:58.014Z"
   },
   {
    "duration": 55,
    "start_time": "2023-02-16T08:11:59.206Z"
   },
   {
    "duration": 7,
    "start_time": "2023-02-16T08:11:59.263Z"
   },
   {
    "duration": 29,
    "start_time": "2023-02-16T08:11:59.272Z"
   },
   {
    "duration": 20,
    "start_time": "2023-02-16T08:11:59.302Z"
   },
   {
    "duration": 33,
    "start_time": "2023-02-16T08:11:59.324Z"
   },
   {
    "duration": 844,
    "start_time": "2023-02-16T08:11:59.360Z"
   },
   {
    "duration": 15,
    "start_time": "2023-02-16T08:12:00.205Z"
   },
   {
    "duration": 100,
    "start_time": "2023-02-16T08:12:00.222Z"
   },
   {
    "duration": 39,
    "start_time": "2023-02-16T08:12:00.325Z"
   },
   {
    "duration": 3,
    "start_time": "2023-02-16T08:12:00.368Z"
   },
   {
    "duration": 24,
    "start_time": "2023-02-16T08:12:00.373Z"
   },
   {
    "duration": 19,
    "start_time": "2023-02-16T08:12:00.399Z"
   },
   {
    "duration": 41,
    "start_time": "2023-02-16T08:12:00.420Z"
   },
   {
    "duration": 22,
    "start_time": "2023-02-16T08:12:00.464Z"
   },
   {
    "duration": 13,
    "start_time": "2023-02-16T08:12:00.488Z"
   },
   {
    "duration": 39,
    "start_time": "2023-02-16T08:12:00.503Z"
   },
   {
    "duration": 1136,
    "start_time": "2023-02-16T08:17:42.561Z"
   },
   {
    "duration": 55,
    "start_time": "2023-02-16T08:17:43.699Z"
   },
   {
    "duration": 6,
    "start_time": "2023-02-16T08:17:43.755Z"
   },
   {
    "duration": 30,
    "start_time": "2023-02-16T08:17:43.763Z"
   },
   {
    "duration": 19,
    "start_time": "2023-02-16T08:17:43.794Z"
   },
   {
    "duration": 18,
    "start_time": "2023-02-16T08:17:43.815Z"
   },
   {
    "duration": 754,
    "start_time": "2023-02-16T08:17:43.835Z"
   },
   {
    "duration": 10,
    "start_time": "2023-02-16T08:17:44.591Z"
   },
   {
    "duration": 64,
    "start_time": "2023-02-16T08:17:44.603Z"
   },
   {
    "duration": 15,
    "start_time": "2023-02-16T08:17:44.670Z"
   },
   {
    "duration": 3,
    "start_time": "2023-02-16T08:17:44.686Z"
   },
   {
    "duration": 15,
    "start_time": "2023-02-16T08:17:44.690Z"
   },
   {
    "duration": 17,
    "start_time": "2023-02-16T08:17:44.706Z"
   },
   {
    "duration": 21,
    "start_time": "2023-02-16T08:17:44.725Z"
   },
   {
    "duration": 25,
    "start_time": "2023-02-16T08:17:44.747Z"
   },
   {
    "duration": 32,
    "start_time": "2023-02-16T08:17:44.774Z"
   },
   {
    "duration": 32,
    "start_time": "2023-02-16T08:17:44.808Z"
   },
   {
    "duration": 1147,
    "start_time": "2023-02-16T08:18:09.445Z"
   },
   {
    "duration": 53,
    "start_time": "2023-02-16T08:18:10.594Z"
   },
   {
    "duration": 5,
    "start_time": "2023-02-16T08:18:10.649Z"
   },
   {
    "duration": 26,
    "start_time": "2023-02-16T08:18:10.655Z"
   },
   {
    "duration": 17,
    "start_time": "2023-02-16T08:18:10.683Z"
   },
   {
    "duration": 17,
    "start_time": "2023-02-16T08:18:10.701Z"
   },
   {
    "duration": 754,
    "start_time": "2023-02-16T08:18:10.719Z"
   },
   {
    "duration": 9,
    "start_time": "2023-02-16T08:18:11.475Z"
   },
   {
    "duration": 65,
    "start_time": "2023-02-16T08:18:11.486Z"
   },
   {
    "duration": 16,
    "start_time": "2023-02-16T08:18:11.552Z"
   },
   {
    "duration": 2,
    "start_time": "2023-02-16T08:18:11.570Z"
   },
   {
    "duration": 11,
    "start_time": "2023-02-16T08:18:11.574Z"
   },
   {
    "duration": 9,
    "start_time": "2023-02-16T08:18:11.587Z"
   },
   {
    "duration": 10,
    "start_time": "2023-02-16T08:18:11.600Z"
   },
   {
    "duration": 6,
    "start_time": "2023-02-16T08:18:11.612Z"
   },
   {
    "duration": 5,
    "start_time": "2023-02-16T08:18:11.620Z"
   },
   {
    "duration": 27,
    "start_time": "2023-02-16T08:18:11.627Z"
   },
   {
    "duration": 15,
    "start_time": "2023-02-16T08:41:50.148Z"
   },
   {
    "duration": 1268,
    "start_time": "2023-02-16T08:42:10.482Z"
   },
   {
    "duration": 66,
    "start_time": "2023-02-16T08:42:11.760Z"
   },
   {
    "duration": 6,
    "start_time": "2023-02-16T08:42:11.828Z"
   },
   {
    "duration": 45,
    "start_time": "2023-02-16T08:42:11.837Z"
   },
   {
    "duration": 18,
    "start_time": "2023-02-16T08:42:11.884Z"
   },
   {
    "duration": 25,
    "start_time": "2023-02-16T08:42:11.904Z"
   },
   {
    "duration": 891,
    "start_time": "2023-02-16T08:42:11.931Z"
   },
   {
    "duration": 10,
    "start_time": "2023-02-16T08:42:12.824Z"
   },
   {
    "duration": 80,
    "start_time": "2023-02-16T08:42:12.836Z"
   },
   {
    "duration": 16,
    "start_time": "2023-02-16T08:42:12.918Z"
   },
   {
    "duration": 3,
    "start_time": "2023-02-16T08:42:12.935Z"
   },
   {
    "duration": 16,
    "start_time": "2023-02-16T08:42:12.952Z"
   },
   {
    "duration": 10,
    "start_time": "2023-02-16T08:42:12.972Z"
   },
   {
    "duration": 11,
    "start_time": "2023-02-16T08:42:12.985Z"
   },
   {
    "duration": 10,
    "start_time": "2023-02-16T08:42:12.998Z"
   },
   {
    "duration": 7,
    "start_time": "2023-02-16T08:42:13.010Z"
   },
   {
    "duration": 14,
    "start_time": "2023-02-16T08:42:13.019Z"
   },
   {
    "duration": 23,
    "start_time": "2023-02-16T08:42:13.035Z"
   },
   {
    "duration": 1175,
    "start_time": "2023-02-16T08:44:01.802Z"
   },
   {
    "duration": 54,
    "start_time": "2023-02-16T08:44:02.979Z"
   },
   {
    "duration": 6,
    "start_time": "2023-02-16T08:44:03.038Z"
   },
   {
    "duration": 38,
    "start_time": "2023-02-16T08:44:03.045Z"
   },
   {
    "duration": 16,
    "start_time": "2023-02-16T08:44:03.085Z"
   },
   {
    "duration": 19,
    "start_time": "2023-02-16T08:44:03.102Z"
   },
   {
    "duration": 821,
    "start_time": "2023-02-16T08:44:03.123Z"
   },
   {
    "duration": 22,
    "start_time": "2023-02-16T08:44:03.946Z"
   },
   {
    "duration": 49,
    "start_time": "2023-02-16T08:44:03.970Z"
   },
   {
    "duration": 32,
    "start_time": "2023-02-16T08:44:04.020Z"
   },
   {
    "duration": 7,
    "start_time": "2023-02-16T08:44:04.057Z"
   },
   {
    "duration": 8,
    "start_time": "2023-02-16T08:44:04.065Z"
   },
   {
    "duration": 11,
    "start_time": "2023-02-16T08:44:04.074Z"
   },
   {
    "duration": 5,
    "start_time": "2023-02-16T08:44:04.086Z"
   },
   {
    "duration": 6,
    "start_time": "2023-02-16T08:44:04.092Z"
   },
   {
    "duration": 3,
    "start_time": "2023-02-16T08:44:04.101Z"
   },
   {
    "duration": 10,
    "start_time": "2023-02-16T08:44:04.106Z"
   },
   {
    "duration": 7,
    "start_time": "2023-02-16T08:44:04.117Z"
   },
   {
    "duration": 17,
    "start_time": "2023-02-16T08:44:04.153Z"
   },
   {
    "duration": 1179,
    "start_time": "2023-02-16T09:11:06.437Z"
   },
   {
    "duration": 55,
    "start_time": "2023-02-16T09:11:07.618Z"
   },
   {
    "duration": 6,
    "start_time": "2023-02-16T09:11:07.674Z"
   },
   {
    "duration": 26,
    "start_time": "2023-02-16T09:11:07.682Z"
   },
   {
    "duration": 17,
    "start_time": "2023-02-16T09:11:07.711Z"
   },
   {
    "duration": 28,
    "start_time": "2023-02-16T09:11:07.730Z"
   },
   {
    "duration": 801,
    "start_time": "2023-02-16T09:11:07.760Z"
   },
   {
    "duration": 11,
    "start_time": "2023-02-16T09:11:08.563Z"
   },
   {
    "duration": 75,
    "start_time": "2023-02-16T09:11:08.576Z"
   },
   {
    "duration": 17,
    "start_time": "2023-02-16T09:11:08.652Z"
   },
   {
    "duration": 3,
    "start_time": "2023-02-16T09:11:08.670Z"
   },
   {
    "duration": 11,
    "start_time": "2023-02-16T09:11:08.674Z"
   },
   {
    "duration": 10,
    "start_time": "2023-02-16T09:11:08.687Z"
   },
   {
    "duration": 6,
    "start_time": "2023-02-16T09:11:08.700Z"
   },
   {
    "duration": 14,
    "start_time": "2023-02-16T09:11:08.708Z"
   },
   {
    "duration": 4,
    "start_time": "2023-02-16T09:11:08.724Z"
   },
   {
    "duration": 20,
    "start_time": "2023-02-16T09:11:08.729Z"
   },
   {
    "duration": 12,
    "start_time": "2023-02-16T09:11:08.752Z"
   },
   {
    "duration": 6,
    "start_time": "2023-02-16T09:19:42.589Z"
   },
   {
    "duration": 1123,
    "start_time": "2023-02-16T09:21:27.683Z"
   },
   {
    "duration": 55,
    "start_time": "2023-02-16T09:21:28.809Z"
   },
   {
    "duration": 6,
    "start_time": "2023-02-16T09:21:28.866Z"
   },
   {
    "duration": 23,
    "start_time": "2023-02-16T09:21:28.875Z"
   },
   {
    "duration": 19,
    "start_time": "2023-02-16T09:21:28.900Z"
   },
   {
    "duration": 38,
    "start_time": "2023-02-16T09:21:28.921Z"
   },
   {
    "duration": 743,
    "start_time": "2023-02-16T09:21:28.961Z"
   },
   {
    "duration": 10,
    "start_time": "2023-02-16T09:21:29.705Z"
   },
   {
    "duration": 63,
    "start_time": "2023-02-16T09:21:29.717Z"
   },
   {
    "duration": 15,
    "start_time": "2023-02-16T09:21:29.782Z"
   },
   {
    "duration": 2,
    "start_time": "2023-02-16T09:21:29.798Z"
   },
   {
    "duration": 7,
    "start_time": "2023-02-16T09:21:29.802Z"
   },
   {
    "duration": 14,
    "start_time": "2023-02-16T09:21:29.810Z"
   },
   {
    "duration": 22,
    "start_time": "2023-02-16T09:21:29.826Z"
   },
   {
    "duration": 2,
    "start_time": "2023-02-16T09:21:29.850Z"
   },
   {
    "duration": 103,
    "start_time": "2023-02-16T09:25:31.552Z"
   },
   {
    "duration": 5,
    "start_time": "2023-02-16T09:25:38.035Z"
   },
   {
    "duration": 6,
    "start_time": "2023-02-16T09:35:37.106Z"
   },
   {
    "duration": 1175,
    "start_time": "2023-02-16T09:35:42.204Z"
   },
   {
    "duration": 56,
    "start_time": "2023-02-16T09:35:43.381Z"
   },
   {
    "duration": 5,
    "start_time": "2023-02-16T09:35:43.439Z"
   },
   {
    "duration": 46,
    "start_time": "2023-02-16T09:35:43.446Z"
   },
   {
    "duration": 16,
    "start_time": "2023-02-16T09:35:43.494Z"
   },
   {
    "duration": 41,
    "start_time": "2023-02-16T09:35:43.512Z"
   },
   {
    "duration": 778,
    "start_time": "2023-02-16T09:35:43.555Z"
   },
   {
    "duration": 15,
    "start_time": "2023-02-16T09:35:44.334Z"
   },
   {
    "duration": 74,
    "start_time": "2023-02-16T09:35:44.350Z"
   },
   {
    "duration": 16,
    "start_time": "2023-02-16T09:35:44.425Z"
   },
   {
    "duration": 3,
    "start_time": "2023-02-16T09:35:44.442Z"
   },
   {
    "duration": 12,
    "start_time": "2023-02-16T09:35:44.446Z"
   },
   {
    "duration": 4,
    "start_time": "2023-02-16T09:35:44.459Z"
   },
   {
    "duration": 6,
    "start_time": "2023-02-16T09:35:44.465Z"
   },
   {
    "duration": 11,
    "start_time": "2023-02-16T09:35:44.473Z"
   },
   {
    "duration": 15,
    "start_time": "2023-02-16T09:35:44.485Z"
   },
   {
    "duration": 5,
    "start_time": "2023-02-16T09:35:51.116Z"
   },
   {
    "duration": 1180,
    "start_time": "2023-02-16T09:36:00.839Z"
   },
   {
    "duration": 58,
    "start_time": "2023-02-16T09:36:02.020Z"
   },
   {
    "duration": 5,
    "start_time": "2023-02-16T09:36:02.080Z"
   },
   {
    "duration": 51,
    "start_time": "2023-02-16T09:36:02.086Z"
   },
   {
    "duration": 25,
    "start_time": "2023-02-16T09:36:02.139Z"
   },
   {
    "duration": 47,
    "start_time": "2023-02-16T09:36:02.166Z"
   },
   {
    "duration": 737,
    "start_time": "2023-02-16T09:36:02.215Z"
   },
   {
    "duration": 9,
    "start_time": "2023-02-16T09:36:02.954Z"
   },
   {
    "duration": 52,
    "start_time": "2023-02-16T09:36:02.965Z"
   },
   {
    "duration": 32,
    "start_time": "2023-02-16T09:36:03.018Z"
   },
   {
    "duration": 3,
    "start_time": "2023-02-16T09:36:03.051Z"
   },
   {
    "duration": 29,
    "start_time": "2023-02-16T09:36:03.056Z"
   },
   {
    "duration": 15,
    "start_time": "2023-02-16T09:36:03.087Z"
   },
   {
    "duration": 18,
    "start_time": "2023-02-16T09:36:03.104Z"
   },
   {
    "duration": 6,
    "start_time": "2023-02-16T09:36:03.124Z"
   },
   {
    "duration": 98,
    "start_time": "2023-02-16T09:36:03.131Z"
   },
   {
    "duration": 0,
    "start_time": "2023-02-16T09:36:03.230Z"
   },
   {
    "duration": 1131,
    "start_time": "2023-02-16T09:36:15.046Z"
   },
   {
    "duration": 55,
    "start_time": "2023-02-16T09:36:16.179Z"
   },
   {
    "duration": 5,
    "start_time": "2023-02-16T09:36:16.236Z"
   },
   {
    "duration": 22,
    "start_time": "2023-02-16T09:36:16.242Z"
   },
   {
    "duration": 15,
    "start_time": "2023-02-16T09:36:16.266Z"
   },
   {
    "duration": 15,
    "start_time": "2023-02-16T09:36:16.283Z"
   },
   {
    "duration": 824,
    "start_time": "2023-02-16T09:36:16.300Z"
   },
   {
    "duration": 9,
    "start_time": "2023-02-16T09:36:17.126Z"
   },
   {
    "duration": 60,
    "start_time": "2023-02-16T09:36:17.137Z"
   },
   {
    "duration": 15,
    "start_time": "2023-02-16T09:36:17.198Z"
   },
   {
    "duration": 3,
    "start_time": "2023-02-16T09:36:17.215Z"
   },
   {
    "duration": 28,
    "start_time": "2023-02-16T09:36:17.220Z"
   },
   {
    "duration": 4,
    "start_time": "2023-02-16T09:36:17.250Z"
   },
   {
    "duration": 6,
    "start_time": "2023-02-16T09:36:17.256Z"
   },
   {
    "duration": 7,
    "start_time": "2023-02-16T09:36:17.264Z"
   },
   {
    "duration": 14,
    "start_time": "2023-02-16T09:36:17.273Z"
   },
   {
    "duration": 19,
    "start_time": "2023-02-16T09:36:17.289Z"
   },
   {
    "duration": 7,
    "start_time": "2023-02-16T09:42:58.391Z"
   },
   {
    "duration": 7,
    "start_time": "2023-02-16T09:46:38.348Z"
   },
   {
    "duration": 1182,
    "start_time": "2023-02-16T09:47:00.835Z"
   },
   {
    "duration": 56,
    "start_time": "2023-02-16T09:47:02.019Z"
   },
   {
    "duration": 6,
    "start_time": "2023-02-16T09:47:02.076Z"
   },
   {
    "duration": 33,
    "start_time": "2023-02-16T09:47:02.083Z"
   },
   {
    "duration": 18,
    "start_time": "2023-02-16T09:47:02.118Z"
   },
   {
    "duration": 18,
    "start_time": "2023-02-16T09:47:02.138Z"
   },
   {
    "duration": 758,
    "start_time": "2023-02-16T09:47:02.157Z"
   },
   {
    "duration": 9,
    "start_time": "2023-02-16T09:47:02.917Z"
   },
   {
    "duration": 64,
    "start_time": "2023-02-16T09:47:02.928Z"
   },
   {
    "duration": 15,
    "start_time": "2023-02-16T09:47:02.993Z"
   },
   {
    "duration": 4,
    "start_time": "2023-02-16T09:47:03.010Z"
   },
   {
    "duration": 13,
    "start_time": "2023-02-16T09:47:03.016Z"
   },
   {
    "duration": 22,
    "start_time": "2023-02-16T09:47:03.030Z"
   },
   {
    "duration": 13,
    "start_time": "2023-02-16T09:47:03.054Z"
   },
   {
    "duration": 13,
    "start_time": "2023-02-16T09:47:03.068Z"
   },
   {
    "duration": 5,
    "start_time": "2023-02-16T09:47:03.082Z"
   },
   {
    "duration": 17,
    "start_time": "2023-02-16T09:47:03.089Z"
   },
   {
    "duration": 1132,
    "start_time": "2023-02-16T09:50:12.870Z"
   },
   {
    "duration": 54,
    "start_time": "2023-02-16T09:50:14.004Z"
   },
   {
    "duration": 5,
    "start_time": "2023-02-16T09:50:14.060Z"
   },
   {
    "duration": 51,
    "start_time": "2023-02-16T09:50:14.067Z"
   },
   {
    "duration": 28,
    "start_time": "2023-02-16T09:50:14.120Z"
   },
   {
    "duration": 37,
    "start_time": "2023-02-16T09:50:14.150Z"
   },
   {
    "duration": 734,
    "start_time": "2023-02-16T09:50:14.189Z"
   },
   {
    "duration": 9,
    "start_time": "2023-02-16T09:50:14.924Z"
   },
   {
    "duration": 72,
    "start_time": "2023-02-16T09:50:14.934Z"
   },
   {
    "duration": 16,
    "start_time": "2023-02-16T09:50:15.009Z"
   },
   {
    "duration": 18,
    "start_time": "2023-02-16T09:50:15.027Z"
   },
   {
    "duration": 41,
    "start_time": "2023-02-16T09:50:15.047Z"
   },
   {
    "duration": 24,
    "start_time": "2023-02-16T09:50:15.090Z"
   },
   {
    "duration": 27,
    "start_time": "2023-02-16T09:50:15.115Z"
   },
   {
    "duration": 508,
    "start_time": "2023-02-16T09:50:15.143Z"
   },
   {
    "duration": 0,
    "start_time": "2023-02-16T09:50:15.653Z"
   },
   {
    "duration": 0,
    "start_time": "2023-02-16T09:50:15.654Z"
   },
   {
    "duration": 1201,
    "start_time": "2023-02-16T09:50:29.607Z"
   },
   {
    "duration": 55,
    "start_time": "2023-02-16T09:50:30.810Z"
   },
   {
    "duration": 6,
    "start_time": "2023-02-16T09:50:30.867Z"
   },
   {
    "duration": 52,
    "start_time": "2023-02-16T09:50:30.874Z"
   },
   {
    "duration": 48,
    "start_time": "2023-02-16T09:50:30.928Z"
   },
   {
    "duration": 50,
    "start_time": "2023-02-16T09:50:30.978Z"
   },
   {
    "duration": 758,
    "start_time": "2023-02-16T09:50:31.029Z"
   },
   {
    "duration": 10,
    "start_time": "2023-02-16T09:50:31.788Z"
   },
   {
    "duration": 79,
    "start_time": "2023-02-16T09:50:31.800Z"
   },
   {
    "duration": 16,
    "start_time": "2023-02-16T09:50:31.881Z"
   },
   {
    "duration": 32,
    "start_time": "2023-02-16T09:50:31.898Z"
   },
   {
    "duration": 63,
    "start_time": "2023-02-16T09:50:31.931Z"
   },
   {
    "duration": 30,
    "start_time": "2023-02-16T09:50:31.996Z"
   },
   {
    "duration": 52,
    "start_time": "2023-02-16T09:50:32.029Z"
   },
   {
    "duration": 33,
    "start_time": "2023-02-16T09:50:32.083Z"
   },
   {
    "duration": 23,
    "start_time": "2023-02-16T09:50:32.118Z"
   },
   {
    "duration": 30,
    "start_time": "2023-02-16T09:50:32.143Z"
   },
   {
    "duration": 1287,
    "start_time": "2023-02-16T09:53:54.597Z"
   },
   {
    "duration": 55,
    "start_time": "2023-02-16T09:53:55.886Z"
   },
   {
    "duration": 6,
    "start_time": "2023-02-16T09:53:55.942Z"
   },
   {
    "duration": 24,
    "start_time": "2023-02-16T09:53:55.949Z"
   },
   {
    "duration": 16,
    "start_time": "2023-02-16T09:53:55.975Z"
   },
   {
    "duration": 14,
    "start_time": "2023-02-16T09:53:55.993Z"
   },
   {
    "duration": 826,
    "start_time": "2023-02-16T09:53:56.009Z"
   },
   {
    "duration": 14,
    "start_time": "2023-02-16T09:53:56.837Z"
   },
   {
    "duration": 52,
    "start_time": "2023-02-16T09:53:56.853Z"
   },
   {
    "duration": 16,
    "start_time": "2023-02-16T09:53:56.907Z"
   },
   {
    "duration": 4,
    "start_time": "2023-02-16T09:53:56.924Z"
   },
   {
    "duration": 9,
    "start_time": "2023-02-16T09:53:56.949Z"
   },
   {
    "duration": 4,
    "start_time": "2023-02-16T09:53:56.960Z"
   },
   {
    "duration": 9,
    "start_time": "2023-02-16T09:53:56.967Z"
   },
   {
    "duration": 11,
    "start_time": "2023-02-16T09:53:56.977Z"
   },
   {
    "duration": 7,
    "start_time": "2023-02-16T09:53:56.990Z"
   },
   {
    "duration": 8,
    "start_time": "2023-02-16T09:53:56.998Z"
   },
   {
    "duration": 8,
    "start_time": "2023-02-16T09:53:57.007Z"
   },
   {
    "duration": 6,
    "start_time": "2023-02-16T09:53:57.016Z"
   },
   {
    "duration": 7,
    "start_time": "2023-02-16T09:53:57.023Z"
   },
   {
    "duration": 11,
    "start_time": "2023-02-16T09:53:57.048Z"
   },
   {
    "duration": 9,
    "start_time": "2023-02-16T09:53:57.061Z"
   },
   {
    "duration": 5,
    "start_time": "2023-02-16T09:53:57.072Z"
   },
   {
    "duration": 14,
    "start_time": "2023-02-16T09:53:57.079Z"
   },
   {
    "duration": 11,
    "start_time": "2023-02-16T09:53:57.095Z"
   },
   {
    "duration": 15,
    "start_time": "2023-02-16T09:53:57.107Z"
   },
   {
    "duration": 97,
    "start_time": "2023-02-16T10:23:49.230Z"
   },
   {
    "duration": 40,
    "start_time": "2023-02-16T10:23:56.888Z"
   },
   {
    "duration": 35,
    "start_time": "2023-02-16T10:24:17.959Z"
   },
   {
    "duration": 1124,
    "start_time": "2023-02-16T10:24:22.871Z"
   },
   {
    "duration": 65,
    "start_time": "2023-02-16T10:24:23.997Z"
   },
   {
    "duration": 6,
    "start_time": "2023-02-16T10:24:24.064Z"
   },
   {
    "duration": 23,
    "start_time": "2023-02-16T10:24:24.072Z"
   },
   {
    "duration": 16,
    "start_time": "2023-02-16T10:24:24.097Z"
   },
   {
    "duration": 16,
    "start_time": "2023-02-16T10:24:24.115Z"
   },
   {
    "duration": 759,
    "start_time": "2023-02-16T10:24:24.132Z"
   },
   {
    "duration": 10,
    "start_time": "2023-02-16T10:24:24.893Z"
   },
   {
    "duration": 68,
    "start_time": "2023-02-16T10:24:24.905Z"
   },
   {
    "duration": 18,
    "start_time": "2023-02-16T10:24:24.976Z"
   },
   {
    "duration": 4,
    "start_time": "2023-02-16T10:24:24.995Z"
   },
   {
    "duration": 25,
    "start_time": "2023-02-16T10:24:25.000Z"
   },
   {
    "duration": 21,
    "start_time": "2023-02-16T10:24:25.027Z"
   },
   {
    "duration": 5,
    "start_time": "2023-02-16T10:24:25.050Z"
   },
   {
    "duration": 16,
    "start_time": "2023-02-16T10:24:25.057Z"
   },
   {
    "duration": 17,
    "start_time": "2023-02-16T10:24:25.075Z"
   },
   {
    "duration": 51,
    "start_time": "2023-02-16T10:24:25.093Z"
   },
   {
    "duration": 2,
    "start_time": "2023-02-16T10:24:25.145Z"
   },
   {
    "duration": 4,
    "start_time": "2023-02-16T10:24:25.149Z"
   },
   {
    "duration": 4,
    "start_time": "2023-02-16T10:24:25.155Z"
   },
   {
    "duration": 5,
    "start_time": "2023-02-16T10:24:25.161Z"
   },
   {
    "duration": 12,
    "start_time": "2023-02-16T10:24:25.168Z"
   },
   {
    "duration": 14,
    "start_time": "2023-02-16T10:24:25.181Z"
   },
   {
    "duration": 5,
    "start_time": "2023-02-16T10:24:25.197Z"
   },
   {
    "duration": 12,
    "start_time": "2023-02-16T10:24:25.203Z"
   },
   {
    "duration": 5,
    "start_time": "2023-02-16T10:24:25.216Z"
   },
   {
    "duration": 7,
    "start_time": "2023-02-16T10:24:25.223Z"
   },
   {
    "duration": 4,
    "start_time": "2023-02-16T10:24:25.233Z"
   },
   {
    "duration": 4,
    "start_time": "2023-02-16T10:24:25.239Z"
   },
   {
    "duration": 5,
    "start_time": "2023-02-16T10:24:25.245Z"
   },
   {
    "duration": 5,
    "start_time": "2023-02-16T10:24:25.251Z"
   },
   {
    "duration": 142,
    "start_time": "2023-02-16T10:29:09.240Z"
   },
   {
    "duration": 114,
    "start_time": "2023-02-16T10:37:24.972Z"
   },
   {
    "duration": 11,
    "start_time": "2023-02-16T10:37:35.647Z"
   },
   {
    "duration": 117,
    "start_time": "2023-02-16T10:39:38.976Z"
   },
   {
    "duration": 1264,
    "start_time": "2023-02-16T10:42:25.479Z"
   },
   {
    "duration": 52,
    "start_time": "2023-02-16T10:42:26.745Z"
   },
   {
    "duration": 5,
    "start_time": "2023-02-16T10:42:26.799Z"
   },
   {
    "duration": 22,
    "start_time": "2023-02-16T10:42:26.807Z"
   },
   {
    "duration": 18,
    "start_time": "2023-02-16T10:42:26.831Z"
   },
   {
    "duration": 20,
    "start_time": "2023-02-16T10:42:26.851Z"
   },
   {
    "duration": 820,
    "start_time": "2023-02-16T10:42:26.872Z"
   },
   {
    "duration": 10,
    "start_time": "2023-02-16T10:42:27.694Z"
   },
   {
    "duration": 65,
    "start_time": "2023-02-16T10:42:27.706Z"
   },
   {
    "duration": 16,
    "start_time": "2023-02-16T10:42:27.774Z"
   },
   {
    "duration": 4,
    "start_time": "2023-02-16T10:42:27.792Z"
   },
   {
    "duration": 17,
    "start_time": "2023-02-16T10:42:27.797Z"
   },
   {
    "duration": 12,
    "start_time": "2023-02-16T10:42:27.816Z"
   },
   {
    "duration": 23,
    "start_time": "2023-02-16T10:42:27.829Z"
   },
   {
    "duration": 14,
    "start_time": "2023-02-16T10:42:27.854Z"
   },
   {
    "duration": 8,
    "start_time": "2023-02-16T10:42:27.870Z"
   },
   {
    "duration": 43,
    "start_time": "2023-02-16T10:42:27.880Z"
   },
   {
    "duration": 182,
    "start_time": "2023-02-16T10:42:27.924Z"
   },
   {
    "duration": 119,
    "start_time": "2023-02-16T10:42:28.108Z"
   },
   {
    "duration": 2,
    "start_time": "2023-02-16T10:42:28.229Z"
   },
   {
    "duration": 5,
    "start_time": "2023-02-16T10:42:28.233Z"
   },
   {
    "duration": 2,
    "start_time": "2023-02-16T10:42:28.249Z"
   },
   {
    "duration": 10,
    "start_time": "2023-02-16T10:42:28.252Z"
   },
   {
    "duration": 6,
    "start_time": "2023-02-16T10:42:28.263Z"
   },
   {
    "duration": 9,
    "start_time": "2023-02-16T10:42:28.271Z"
   },
   {
    "duration": 5,
    "start_time": "2023-02-16T10:42:28.282Z"
   },
   {
    "duration": 5,
    "start_time": "2023-02-16T10:42:28.289Z"
   },
   {
    "duration": 4,
    "start_time": "2023-02-16T10:42:28.297Z"
   },
   {
    "duration": 4,
    "start_time": "2023-02-16T10:42:28.303Z"
   },
   {
    "duration": 7,
    "start_time": "2023-02-16T10:42:28.309Z"
   },
   {
    "duration": 6,
    "start_time": "2023-02-16T10:42:28.317Z"
   },
   {
    "duration": 7,
    "start_time": "2023-02-16T10:42:28.324Z"
   },
   {
    "duration": 324,
    "start_time": "2023-02-16T10:54:51.367Z"
   },
   {
    "duration": 440,
    "start_time": "2023-02-16T10:55:45.337Z"
   },
   {
    "duration": 293,
    "start_time": "2023-02-16T13:36:27.402Z"
   },
   {
    "duration": 192,
    "start_time": "2023-02-16T13:36:34.089Z"
   },
   {
    "duration": 357,
    "start_time": "2023-02-16T13:36:42.684Z"
   },
   {
    "duration": 13,
    "start_time": "2023-02-16T17:05:21.430Z"
   },
   {
    "duration": 22,
    "start_time": "2023-02-16T17:05:41.444Z"
   },
   {
    "duration": 14,
    "start_time": "2023-02-16T17:05:46.784Z"
   },
   {
    "duration": 11,
    "start_time": "2023-02-16T17:11:21.397Z"
   },
   {
    "duration": 619,
    "start_time": "2023-02-16T17:11:35.161Z"
   },
   {
    "duration": 638,
    "start_time": "2023-02-16T17:11:54.566Z"
   },
   {
    "duration": 550,
    "start_time": "2023-02-16T17:14:27.846Z"
   },
   {
    "duration": 536,
    "start_time": "2023-02-16T17:14:50.063Z"
   },
   {
    "duration": 1345,
    "start_time": "2023-02-16T21:07:45.824Z"
   },
   {
    "duration": 58,
    "start_time": "2023-02-16T21:07:47.178Z"
   },
   {
    "duration": 6,
    "start_time": "2023-02-16T21:07:47.237Z"
   },
   {
    "duration": 58,
    "start_time": "2023-02-16T21:07:47.245Z"
   },
   {
    "duration": 21,
    "start_time": "2023-02-16T21:07:47.305Z"
   },
   {
    "duration": 22,
    "start_time": "2023-02-16T21:07:47.328Z"
   },
   {
    "duration": 887,
    "start_time": "2023-02-16T21:07:47.357Z"
   },
   {
    "duration": 23,
    "start_time": "2023-02-16T21:07:48.246Z"
   },
   {
    "duration": 73,
    "start_time": "2023-02-16T21:07:48.274Z"
   },
   {
    "duration": 33,
    "start_time": "2023-02-16T21:07:48.356Z"
   },
   {
    "duration": 5,
    "start_time": "2023-02-16T21:07:48.391Z"
   },
   {
    "duration": 16,
    "start_time": "2023-02-16T21:07:48.398Z"
   },
   {
    "duration": 6,
    "start_time": "2023-02-16T21:07:48.416Z"
   },
   {
    "duration": 7,
    "start_time": "2023-02-16T21:07:48.425Z"
   },
   {
    "duration": 59,
    "start_time": "2023-02-16T21:07:48.434Z"
   },
   {
    "duration": 6,
    "start_time": "2023-02-16T21:07:48.495Z"
   },
   {
    "duration": 41,
    "start_time": "2023-02-16T21:07:48.503Z"
   },
   {
    "duration": 153,
    "start_time": "2023-02-16T21:07:48.546Z"
   },
   {
    "duration": 140,
    "start_time": "2023-02-16T21:07:48.701Z"
   },
   {
    "duration": 1341,
    "start_time": "2023-02-16T21:10:24.625Z"
   },
   {
    "duration": 66,
    "start_time": "2023-02-16T21:10:25.979Z"
   },
   {
    "duration": 21,
    "start_time": "2023-02-16T21:10:26.046Z"
   },
   {
    "duration": 53,
    "start_time": "2023-02-16T21:10:26.073Z"
   },
   {
    "duration": 38,
    "start_time": "2023-02-16T21:10:26.129Z"
   },
   {
    "duration": 36,
    "start_time": "2023-02-16T21:10:26.169Z"
   },
   {
    "duration": 1030,
    "start_time": "2023-02-16T21:10:26.208Z"
   },
   {
    "duration": 24,
    "start_time": "2023-02-16T21:10:27.239Z"
   },
   {
    "duration": 94,
    "start_time": "2023-02-16T21:10:27.265Z"
   },
   {
    "duration": 25,
    "start_time": "2023-02-16T21:10:27.360Z"
   },
   {
    "duration": 24,
    "start_time": "2023-02-16T21:10:27.388Z"
   },
   {
    "duration": 19,
    "start_time": "2023-02-16T21:10:27.414Z"
   },
   {
    "duration": 19,
    "start_time": "2023-02-16T21:10:27.435Z"
   },
   {
    "duration": 50,
    "start_time": "2023-02-16T21:10:27.458Z"
   },
   {
    "duration": 12,
    "start_time": "2023-02-16T21:10:27.509Z"
   },
   {
    "duration": 13,
    "start_time": "2023-02-16T21:10:27.523Z"
   },
   {
    "duration": 55,
    "start_time": "2023-02-16T21:10:27.538Z"
   },
   {
    "duration": 434,
    "start_time": "2023-02-16T21:10:27.597Z"
   },
   {
    "duration": 171,
    "start_time": "2023-02-16T21:10:28.033Z"
   },
   {
    "duration": 249859,
    "start_time": "2023-02-16T21:10:28.206Z"
   },
   {
    "duration": 4,
    "start_time": "2023-02-16T21:14:38.267Z"
   },
   {
    "duration": 404,
    "start_time": "2023-02-16T21:14:38.277Z"
   },
   {
    "duration": 126,
    "start_time": "2023-02-16T21:14:38.683Z"
   },
   {
    "duration": 0,
    "start_time": "2023-02-16T21:14:38.812Z"
   },
   {
    "duration": 0,
    "start_time": "2023-02-16T21:14:38.814Z"
   },
   {
    "duration": 0,
    "start_time": "2023-02-16T21:14:38.815Z"
   },
   {
    "duration": 0,
    "start_time": "2023-02-16T21:14:38.817Z"
   },
   {
    "duration": 0,
    "start_time": "2023-02-16T21:14:38.818Z"
   },
   {
    "duration": 0,
    "start_time": "2023-02-16T21:14:38.820Z"
   },
   {
    "duration": 0,
    "start_time": "2023-02-16T21:14:38.822Z"
   },
   {
    "duration": 0,
    "start_time": "2023-02-16T21:14:38.824Z"
   },
   {
    "duration": 0,
    "start_time": "2023-02-16T21:14:38.850Z"
   },
   {
    "duration": 0,
    "start_time": "2023-02-16T21:14:38.856Z"
   },
   {
    "duration": 0,
    "start_time": "2023-02-16T21:14:38.859Z"
   },
   {
    "duration": 0,
    "start_time": "2023-02-16T21:14:38.860Z"
   },
   {
    "duration": 0,
    "start_time": "2023-02-16T21:14:38.861Z"
   },
   {
    "duration": 44,
    "start_time": "2023-02-17T07:30:24.599Z"
   },
   {
    "duration": 1417,
    "start_time": "2023-02-17T07:30:34.487Z"
   },
   {
    "duration": 224,
    "start_time": "2023-02-17T07:30:35.906Z"
   },
   {
    "duration": 7,
    "start_time": "2023-02-17T07:30:36.132Z"
   },
   {
    "duration": 25,
    "start_time": "2023-02-17T07:30:36.140Z"
   },
   {
    "duration": 21,
    "start_time": "2023-02-17T07:30:36.167Z"
   },
   {
    "duration": 16,
    "start_time": "2023-02-17T07:30:36.190Z"
   },
   {
    "duration": 831,
    "start_time": "2023-02-17T07:30:36.208Z"
   },
   {
    "duration": 11,
    "start_time": "2023-02-17T07:30:37.041Z"
   },
   {
    "duration": 66,
    "start_time": "2023-02-17T07:30:37.054Z"
   },
   {
    "duration": 15,
    "start_time": "2023-02-17T07:30:37.121Z"
   },
   {
    "duration": 3,
    "start_time": "2023-02-17T07:30:37.137Z"
   },
   {
    "duration": 30,
    "start_time": "2023-02-17T07:30:37.141Z"
   },
   {
    "duration": 12,
    "start_time": "2023-02-17T07:30:37.175Z"
   },
   {
    "duration": 7,
    "start_time": "2023-02-17T07:30:37.190Z"
   },
   {
    "duration": 7,
    "start_time": "2023-02-17T07:30:37.198Z"
   },
   {
    "duration": 10,
    "start_time": "2023-02-17T07:30:37.206Z"
   },
   {
    "duration": 24,
    "start_time": "2023-02-17T07:30:37.218Z"
   },
   {
    "duration": 44,
    "start_time": "2023-02-17T07:30:37.244Z"
   },
   {
    "duration": 156,
    "start_time": "2023-02-17T07:30:37.289Z"
   },
   {
    "duration": 135,
    "start_time": "2023-02-17T07:30:37.447Z"
   },
   {
    "duration": 176,
    "start_time": "2023-02-17T07:30:37.583Z"
   },
   {
    "duration": 222744,
    "start_time": "2023-02-17T07:30:37.761Z"
   },
   {
    "duration": 2,
    "start_time": "2023-02-17T07:34:20.507Z"
   },
   {
    "duration": 348,
    "start_time": "2023-02-17T07:34:20.511Z"
   },
   {
    "duration": 124,
    "start_time": "2023-02-17T07:34:20.861Z"
   },
   {
    "duration": 0,
    "start_time": "2023-02-17T07:34:20.987Z"
   },
   {
    "duration": 0,
    "start_time": "2023-02-17T07:34:20.989Z"
   },
   {
    "duration": 0,
    "start_time": "2023-02-17T07:34:20.989Z"
   },
   {
    "duration": 0,
    "start_time": "2023-02-17T07:34:20.990Z"
   },
   {
    "duration": 0,
    "start_time": "2023-02-17T07:34:20.992Z"
   },
   {
    "duration": 0,
    "start_time": "2023-02-17T07:34:20.993Z"
   },
   {
    "duration": 0,
    "start_time": "2023-02-17T07:34:20.995Z"
   },
   {
    "duration": 0,
    "start_time": "2023-02-17T07:34:20.997Z"
   },
   {
    "duration": 0,
    "start_time": "2023-02-17T07:34:20.998Z"
   },
   {
    "duration": 0,
    "start_time": "2023-02-17T07:34:20.999Z"
   },
   {
    "duration": 0,
    "start_time": "2023-02-17T07:34:21.001Z"
   },
   {
    "duration": 0,
    "start_time": "2023-02-17T07:34:21.004Z"
   },
   {
    "duration": 1274,
    "start_time": "2023-02-17T11:10:03.926Z"
   },
   {
    "duration": 59,
    "start_time": "2023-02-17T11:10:05.202Z"
   },
   {
    "duration": 17,
    "start_time": "2023-02-17T11:10:05.263Z"
   },
   {
    "duration": 48,
    "start_time": "2023-02-17T11:10:05.283Z"
   },
   {
    "duration": 27,
    "start_time": "2023-02-17T11:10:05.333Z"
   },
   {
    "duration": 34,
    "start_time": "2023-02-17T11:10:05.362Z"
   },
   {
    "duration": 846,
    "start_time": "2023-02-17T11:10:05.398Z"
   },
   {
    "duration": 9,
    "start_time": "2023-02-17T11:10:06.246Z"
   },
   {
    "duration": 64,
    "start_time": "2023-02-17T11:10:06.270Z"
   },
   {
    "duration": 16,
    "start_time": "2023-02-17T11:10:06.337Z"
   },
   {
    "duration": 7,
    "start_time": "2023-02-17T11:10:06.366Z"
   },
   {
    "duration": 31,
    "start_time": "2023-02-17T11:10:06.375Z"
   },
   {
    "duration": 4,
    "start_time": "2023-02-17T11:10:06.408Z"
   },
   {
    "duration": 10,
    "start_time": "2023-02-17T11:10:06.413Z"
   },
   {
    "duration": 9,
    "start_time": "2023-02-17T11:10:06.424Z"
   },
   {
    "duration": 17,
    "start_time": "2023-02-17T11:10:06.434Z"
   },
   {
    "duration": 8,
    "start_time": "2023-02-17T11:10:06.453Z"
   },
   {
    "duration": 41,
    "start_time": "2023-02-17T11:10:06.463Z"
   },
   {
    "duration": 158,
    "start_time": "2023-02-17T11:10:06.505Z"
   },
   {
    "duration": 136,
    "start_time": "2023-02-17T11:10:06.668Z"
   },
   {
    "duration": 182,
    "start_time": "2023-02-17T11:10:06.807Z"
   },
   {
    "duration": 1165,
    "start_time": "2023-02-17T11:13:37.432Z"
   },
   {
    "duration": 52,
    "start_time": "2023-02-17T11:13:38.599Z"
   },
   {
    "duration": 6,
    "start_time": "2023-02-17T11:13:38.656Z"
   },
   {
    "duration": 33,
    "start_time": "2023-02-17T11:13:38.663Z"
   },
   {
    "duration": 15,
    "start_time": "2023-02-17T11:13:38.698Z"
   },
   {
    "duration": 14,
    "start_time": "2023-02-17T11:13:38.715Z"
   },
   {
    "duration": 742,
    "start_time": "2023-02-17T11:13:38.730Z"
   },
   {
    "duration": 14,
    "start_time": "2023-02-17T11:13:39.474Z"
   },
   {
    "duration": 51,
    "start_time": "2023-02-17T11:13:39.491Z"
   },
   {
    "duration": 32,
    "start_time": "2023-02-17T11:13:39.543Z"
   },
   {
    "duration": 5,
    "start_time": "2023-02-17T11:13:39.577Z"
   },
   {
    "duration": 12,
    "start_time": "2023-02-17T11:13:39.584Z"
   },
   {
    "duration": 5,
    "start_time": "2023-02-17T11:13:39.597Z"
   },
   {
    "duration": 7,
    "start_time": "2023-02-17T11:13:39.603Z"
   },
   {
    "duration": 6,
    "start_time": "2023-02-17T11:13:39.612Z"
   },
   {
    "duration": 13,
    "start_time": "2023-02-17T11:13:39.619Z"
   },
   {
    "duration": 8,
    "start_time": "2023-02-17T11:13:39.634Z"
   },
   {
    "duration": 45,
    "start_time": "2023-02-17T11:13:39.644Z"
   },
   {
    "duration": 132,
    "start_time": "2023-02-17T11:13:39.690Z"
   },
   {
    "duration": 130,
    "start_time": "2023-02-17T11:13:39.824Z"
   },
   {
    "duration": 182,
    "start_time": "2023-02-17T11:13:39.956Z"
   },
   {
    "duration": 3,
    "start_time": "2023-02-17T11:13:40.140Z"
   },
   {
    "duration": 434,
    "start_time": "2023-02-17T11:13:40.144Z"
   },
   {
    "duration": 2,
    "start_time": "2023-02-17T11:13:40.584Z"
   },
   {
    "duration": 5,
    "start_time": "2023-02-17T11:13:40.588Z"
   },
   {
    "duration": 8,
    "start_time": "2023-02-17T11:13:40.594Z"
   },
   {
    "duration": 5,
    "start_time": "2023-02-17T11:13:40.604Z"
   },
   {
    "duration": 6,
    "start_time": "2023-02-17T11:13:40.610Z"
   },
   {
    "duration": 12,
    "start_time": "2023-02-17T11:13:40.618Z"
   },
   {
    "duration": 20,
    "start_time": "2023-02-17T11:13:40.631Z"
   },
   {
    "duration": 10,
    "start_time": "2023-02-17T11:13:40.652Z"
   },
   {
    "duration": 17,
    "start_time": "2023-02-17T11:13:40.664Z"
   },
   {
    "duration": 5,
    "start_time": "2023-02-17T11:13:40.683Z"
   },
   {
    "duration": 7,
    "start_time": "2023-02-17T11:13:40.690Z"
   },
   {
    "duration": 7,
    "start_time": "2023-02-17T11:13:40.699Z"
   },
   {
    "duration": 135,
    "start_time": "2023-02-17T12:04:22.637Z"
   },
   {
    "duration": 1438,
    "start_time": "2023-02-18T10:09:44.647Z"
   },
   {
    "duration": 242,
    "start_time": "2023-02-18T10:09:46.088Z"
   },
   {
    "duration": 12,
    "start_time": "2023-02-18T10:09:46.332Z"
   },
   {
    "duration": 31,
    "start_time": "2023-02-18T10:09:46.347Z"
   },
   {
    "duration": 22,
    "start_time": "2023-02-18T10:09:46.380Z"
   },
   {
    "duration": 47,
    "start_time": "2023-02-18T10:09:46.403Z"
   },
   {
    "duration": 935,
    "start_time": "2023-02-18T10:09:46.453Z"
   },
   {
    "duration": 3,
    "start_time": "2023-02-18T10:09:47.390Z"
   },
   {
    "duration": 68,
    "start_time": "2023-02-18T10:09:47.395Z"
   },
   {
    "duration": 64,
    "start_time": "2023-02-18T10:09:47.465Z"
   },
   {
    "duration": 5,
    "start_time": "2023-02-18T10:09:47.532Z"
   },
   {
    "duration": 9,
    "start_time": "2023-02-18T10:09:47.539Z"
   },
   {
    "duration": 8,
    "start_time": "2023-02-18T10:09:47.551Z"
   },
   {
    "duration": 16,
    "start_time": "2023-02-18T10:09:47.560Z"
   },
   {
    "duration": 5,
    "start_time": "2023-02-18T10:09:47.578Z"
   },
   {
    "duration": 69,
    "start_time": "2023-02-18T10:09:47.585Z"
   },
   {
    "duration": 204,
    "start_time": "2023-02-18T10:09:47.656Z"
   },
   {
    "duration": 161,
    "start_time": "2023-02-18T10:09:47.861Z"
   },
   {
    "duration": 193,
    "start_time": "2023-02-18T10:09:48.026Z"
   },
   {
    "duration": 3,
    "start_time": "2023-02-18T10:09:48.224Z"
   },
   {
    "duration": 509,
    "start_time": "2023-02-18T10:09:48.230Z"
   },
   {
    "duration": 184,
    "start_time": "2023-02-18T10:09:48.741Z"
   },
   {
    "duration": 0,
    "start_time": "2023-02-18T10:09:48.928Z"
   },
   {
    "duration": 0,
    "start_time": "2023-02-18T10:09:48.929Z"
   },
   {
    "duration": 0,
    "start_time": "2023-02-18T10:09:48.930Z"
   },
   {
    "duration": 0,
    "start_time": "2023-02-18T10:09:48.932Z"
   },
   {
    "duration": 0,
    "start_time": "2023-02-18T10:09:48.933Z"
   },
   {
    "duration": 0,
    "start_time": "2023-02-18T10:09:48.935Z"
   },
   {
    "duration": 0,
    "start_time": "2023-02-18T10:09:48.936Z"
   },
   {
    "duration": 0,
    "start_time": "2023-02-18T10:09:48.938Z"
   },
   {
    "duration": 0,
    "start_time": "2023-02-18T10:09:48.939Z"
   },
   {
    "duration": 0,
    "start_time": "2023-02-18T10:09:48.941Z"
   },
   {
    "duration": 0,
    "start_time": "2023-02-18T10:09:48.942Z"
   },
   {
    "duration": 0,
    "start_time": "2023-02-18T10:09:48.943Z"
   },
   {
    "duration": 12,
    "start_time": "2023-02-18T10:41:42.091Z"
   },
   {
    "duration": 172,
    "start_time": "2023-02-18T10:42:33.860Z"
   },
   {
    "duration": 10,
    "start_time": "2023-02-18T10:46:09.968Z"
   },
   {
    "duration": 9,
    "start_time": "2023-02-18T11:05:52.353Z"
   },
   {
    "duration": 668,
    "start_time": "2023-02-18T11:37:57.911Z"
   },
   {
    "duration": 158,
    "start_time": "2023-02-18T11:38:19.874Z"
   },
   {
    "duration": 753,
    "start_time": "2023-02-18T11:38:39.921Z"
   },
   {
    "duration": 11,
    "start_time": "2023-02-18T11:41:33.829Z"
   },
   {
    "duration": 745,
    "start_time": "2023-02-18T11:41:46.449Z"
   },
   {
    "duration": 47,
    "start_time": "2023-02-18T16:10:14.095Z"
   },
   {
    "duration": 1321,
    "start_time": "2023-02-18T16:10:22.178Z"
   },
   {
    "duration": 199,
    "start_time": "2023-02-18T16:10:23.501Z"
   },
   {
    "duration": 6,
    "start_time": "2023-02-18T16:10:23.702Z"
   },
   {
    "duration": 21,
    "start_time": "2023-02-18T16:10:23.710Z"
   },
   {
    "duration": 15,
    "start_time": "2023-02-18T16:10:23.732Z"
   },
   {
    "duration": 16,
    "start_time": "2023-02-18T16:10:23.748Z"
   },
   {
    "duration": 716,
    "start_time": "2023-02-18T16:10:23.766Z"
   },
   {
    "duration": 3,
    "start_time": "2023-02-18T16:10:24.484Z"
   },
   {
    "duration": 37,
    "start_time": "2023-02-18T16:10:24.488Z"
   },
   {
    "duration": 63,
    "start_time": "2023-02-18T16:10:24.529Z"
   },
   {
    "duration": 5,
    "start_time": "2023-02-18T16:10:24.594Z"
   },
   {
    "duration": 30,
    "start_time": "2023-02-18T16:10:24.601Z"
   },
   {
    "duration": 14,
    "start_time": "2023-02-18T16:10:24.633Z"
   },
   {
    "duration": 12,
    "start_time": "2023-02-18T16:10:24.649Z"
   },
   {
    "duration": 10,
    "start_time": "2023-02-18T16:10:24.662Z"
   },
   {
    "duration": 53,
    "start_time": "2023-02-18T16:10:24.673Z"
   },
   {
    "duration": 136,
    "start_time": "2023-02-18T16:10:24.729Z"
   },
   {
    "duration": 111,
    "start_time": "2023-02-18T16:10:24.866Z"
   },
   {
    "duration": 179,
    "start_time": "2023-02-18T16:10:24.979Z"
   },
   {
    "duration": 2,
    "start_time": "2023-02-18T16:10:25.160Z"
   },
   {
    "duration": 699,
    "start_time": "2023-02-18T16:10:25.164Z"
   },
   {
    "duration": 143,
    "start_time": "2023-02-18T16:10:25.865Z"
   },
   {
    "duration": 305,
    "start_time": "2023-02-18T16:10:26.010Z"
   },
   {
    "duration": 18,
    "start_time": "2023-02-18T16:10:26.316Z"
   },
   {
    "duration": 3,
    "start_time": "2023-02-18T16:10:26.336Z"
   },
   {
    "duration": 5,
    "start_time": "2023-02-18T16:10:26.341Z"
   },
   {
    "duration": 8,
    "start_time": "2023-02-18T16:10:26.348Z"
   },
   {
    "duration": 2,
    "start_time": "2023-02-18T16:10:26.361Z"
   },
   {
    "duration": 6,
    "start_time": "2023-02-18T16:10:26.365Z"
   },
   {
    "duration": 16,
    "start_time": "2023-02-18T16:10:26.374Z"
   },
   {
    "duration": 6,
    "start_time": "2023-02-18T16:10:26.392Z"
   },
   {
    "duration": 21,
    "start_time": "2023-02-18T16:10:26.400Z"
   },
   {
    "duration": 12,
    "start_time": "2023-02-18T16:10:26.422Z"
   },
   {
    "duration": 7,
    "start_time": "2023-02-18T16:10:26.436Z"
   },
   {
    "duration": 10,
    "start_time": "2023-02-18T16:10:26.445Z"
   },
   {
    "duration": 11,
    "start_time": "2023-02-18T16:10:26.457Z"
   },
   {
    "duration": 340,
    "start_time": "2023-02-18T16:41:24.060Z"
   },
   {
    "duration": 428,
    "start_time": "2023-02-18T16:42:04.462Z"
   },
   {
    "duration": 350,
    "start_time": "2023-02-18T16:42:19.759Z"
   },
   {
    "duration": 340,
    "start_time": "2023-02-18T16:42:34.090Z"
   },
   {
    "duration": 277,
    "start_time": "2023-02-18T16:42:47.029Z"
   },
   {
    "duration": 300,
    "start_time": "2023-02-18T16:42:54.634Z"
   },
   {
    "duration": 167,
    "start_time": "2023-02-18T16:45:06.243Z"
   },
   {
    "duration": 72,
    "start_time": "2023-02-18T16:46:47.737Z"
   },
   {
    "duration": 70,
    "start_time": "2023-02-18T16:47:07.631Z"
   },
   {
    "duration": 15,
    "start_time": "2023-02-18T16:52:33.451Z"
   },
   {
    "duration": 1240,
    "start_time": "2023-02-18T16:52:43.887Z"
   },
   {
    "duration": 54,
    "start_time": "2023-02-18T16:52:45.129Z"
   },
   {
    "duration": 5,
    "start_time": "2023-02-18T16:52:45.185Z"
   },
   {
    "duration": 33,
    "start_time": "2023-02-18T16:52:45.192Z"
   },
   {
    "duration": 18,
    "start_time": "2023-02-18T16:52:45.227Z"
   },
   {
    "duration": 15,
    "start_time": "2023-02-18T16:52:45.247Z"
   },
   {
    "duration": 738,
    "start_time": "2023-02-18T16:52:45.263Z"
   },
   {
    "duration": 3,
    "start_time": "2023-02-18T16:52:46.003Z"
   },
   {
    "duration": 31,
    "start_time": "2023-02-18T16:52:46.008Z"
   },
   {
    "duration": 48,
    "start_time": "2023-02-18T16:52:46.041Z"
   },
   {
    "duration": 4,
    "start_time": "2023-02-18T16:52:46.090Z"
   },
   {
    "duration": 7,
    "start_time": "2023-02-18T16:52:46.095Z"
   },
   {
    "duration": 5,
    "start_time": "2023-02-18T16:52:46.121Z"
   },
   {
    "duration": 9,
    "start_time": "2023-02-18T16:52:46.127Z"
   },
   {
    "duration": 6,
    "start_time": "2023-02-18T16:52:46.138Z"
   },
   {
    "duration": 35,
    "start_time": "2023-02-18T16:52:46.146Z"
   },
   {
    "duration": 157,
    "start_time": "2023-02-18T16:52:46.183Z"
   },
   {
    "duration": 116,
    "start_time": "2023-02-18T16:52:46.342Z"
   },
   {
    "duration": 162,
    "start_time": "2023-02-18T16:52:46.459Z"
   },
   {
    "duration": 2,
    "start_time": "2023-02-18T16:52:46.622Z"
   },
   {
    "duration": 382,
    "start_time": "2023-02-18T16:52:46.626Z"
   },
   {
    "duration": 21,
    "start_time": "2023-02-18T16:52:47.010Z"
   },
   {
    "duration": 9,
    "start_time": "2023-02-18T16:52:47.032Z"
   },
   {
    "duration": 7,
    "start_time": "2023-02-18T16:52:47.043Z"
   },
   {
    "duration": 14,
    "start_time": "2023-02-18T16:52:47.051Z"
   },
   {
    "duration": 4,
    "start_time": "2023-02-18T16:52:47.067Z"
   },
   {
    "duration": 5,
    "start_time": "2023-02-18T16:52:47.072Z"
   },
   {
    "duration": 3,
    "start_time": "2023-02-18T16:52:47.080Z"
   },
   {
    "duration": 5,
    "start_time": "2023-02-18T16:52:47.084Z"
   },
   {
    "duration": 4,
    "start_time": "2023-02-18T16:52:47.090Z"
   },
   {
    "duration": 166,
    "start_time": "2023-02-18T16:52:47.095Z"
   },
   {
    "duration": 3,
    "start_time": "2023-02-18T16:52:47.262Z"
   },
   {
    "duration": 11,
    "start_time": "2023-02-18T16:52:47.266Z"
   },
   {
    "duration": 4,
    "start_time": "2023-02-18T16:52:47.279Z"
   },
   {
    "duration": 6,
    "start_time": "2023-02-18T16:52:47.284Z"
   },
   {
    "duration": 5,
    "start_time": "2023-02-18T16:52:47.291Z"
   },
   {
    "duration": 4,
    "start_time": "2023-02-18T16:52:47.298Z"
   },
   {
    "duration": 13,
    "start_time": "2023-02-18T16:54:12.427Z"
   },
   {
    "duration": 4,
    "start_time": "2023-02-18T16:54:55.751Z"
   },
   {
    "duration": 274,
    "start_time": "2023-02-18T16:57:17.144Z"
   },
   {
    "duration": 246,
    "start_time": "2023-02-18T16:57:29.655Z"
   },
   {
    "duration": 260,
    "start_time": "2023-02-18T16:57:42.676Z"
   },
   {
    "duration": 267,
    "start_time": "2023-02-18T16:58:00.002Z"
   },
   {
    "duration": 461,
    "start_time": "2023-02-18T16:58:34.452Z"
   },
   {
    "duration": 276,
    "start_time": "2023-02-18T16:58:42.363Z"
   },
   {
    "duration": 293,
    "start_time": "2023-02-18T16:58:56.461Z"
   },
   {
    "duration": 299,
    "start_time": "2023-02-18T16:59:32.450Z"
   },
   {
    "duration": 262,
    "start_time": "2023-02-18T17:00:16.615Z"
   },
   {
    "duration": 256,
    "start_time": "2023-02-18T17:00:28.756Z"
   },
   {
    "duration": 401,
    "start_time": "2023-02-18T17:00:35.862Z"
   },
   {
    "duration": 6,
    "start_time": "2023-02-18T17:15:33.311Z"
   },
   {
    "duration": 13,
    "start_time": "2023-02-18T17:18:25.137Z"
   },
   {
    "duration": 13,
    "start_time": "2023-02-18T17:18:44.071Z"
   },
   {
    "duration": 11,
    "start_time": "2023-02-18T17:23:09.236Z"
   },
   {
    "duration": 33,
    "start_time": "2023-02-18T17:23:17.093Z"
   },
   {
    "duration": 15,
    "start_time": "2023-02-18T17:58:58.090Z"
   },
   {
    "duration": 16,
    "start_time": "2023-02-18T17:59:01.301Z"
   },
   {
    "duration": 10,
    "start_time": "2023-02-18T17:59:10.241Z"
   },
   {
    "duration": 14,
    "start_time": "2023-02-18T17:59:17.298Z"
   },
   {
    "duration": 16,
    "start_time": "2023-02-18T17:59:21.867Z"
   },
   {
    "duration": 14,
    "start_time": "2023-02-18T17:59:26.866Z"
   },
   {
    "duration": 1134,
    "start_time": "2023-02-18T18:24:10.742Z"
   },
   {
    "duration": 53,
    "start_time": "2023-02-18T18:24:11.878Z"
   },
   {
    "duration": 6,
    "start_time": "2023-02-18T18:24:11.933Z"
   },
   {
    "duration": 24,
    "start_time": "2023-02-18T18:24:11.941Z"
   },
   {
    "duration": 17,
    "start_time": "2023-02-18T18:24:11.967Z"
   },
   {
    "duration": 35,
    "start_time": "2023-02-18T18:24:11.986Z"
   },
   {
    "duration": 744,
    "start_time": "2023-02-18T18:24:12.023Z"
   },
   {
    "duration": 3,
    "start_time": "2023-02-18T18:24:12.769Z"
   },
   {
    "duration": 30,
    "start_time": "2023-02-18T18:24:12.773Z"
   },
   {
    "duration": 60,
    "start_time": "2023-02-18T18:24:12.805Z"
   },
   {
    "duration": 4,
    "start_time": "2023-02-18T18:24:12.867Z"
   },
   {
    "duration": 9,
    "start_time": "2023-02-18T18:24:12.872Z"
   },
   {
    "duration": 5,
    "start_time": "2023-02-18T18:24:12.883Z"
   },
   {
    "duration": 8,
    "start_time": "2023-02-18T18:24:12.890Z"
   },
   {
    "duration": 22,
    "start_time": "2023-02-18T18:24:12.900Z"
   },
   {
    "duration": 34,
    "start_time": "2023-02-18T18:24:12.924Z"
   },
   {
    "duration": 135,
    "start_time": "2023-02-18T18:24:12.959Z"
   },
   {
    "duration": 119,
    "start_time": "2023-02-18T18:24:13.096Z"
   },
   {
    "duration": 160,
    "start_time": "2023-02-18T18:24:13.221Z"
   },
   {
    "duration": 2,
    "start_time": "2023-02-18T18:24:13.383Z"
   },
   {
    "duration": 417,
    "start_time": "2023-02-18T18:24:13.387Z"
   },
   {
    "duration": 25,
    "start_time": "2023-02-18T18:24:13.805Z"
   },
   {
    "duration": 3,
    "start_time": "2023-02-18T18:24:13.832Z"
   },
   {
    "duration": 5,
    "start_time": "2023-02-18T18:24:13.837Z"
   },
   {
    "duration": 17,
    "start_time": "2023-02-18T18:24:13.843Z"
   },
   {
    "duration": 3,
    "start_time": "2023-02-18T18:24:13.861Z"
   },
   {
    "duration": 7,
    "start_time": "2023-02-18T18:24:13.865Z"
   },
   {
    "duration": 7,
    "start_time": "2023-02-18T18:24:13.875Z"
   },
   {
    "duration": 5,
    "start_time": "2023-02-18T18:24:13.883Z"
   },
   {
    "duration": 286,
    "start_time": "2023-02-18T18:24:13.889Z"
   },
   {
    "duration": 3,
    "start_time": "2023-02-18T18:24:14.176Z"
   },
   {
    "duration": 7,
    "start_time": "2023-02-18T18:24:14.180Z"
   },
   {
    "duration": 5,
    "start_time": "2023-02-18T18:24:14.189Z"
   },
   {
    "duration": 7,
    "start_time": "2023-02-18T18:24:14.196Z"
   },
   {
    "duration": 25,
    "start_time": "2023-02-18T18:24:14.204Z"
   },
   {
    "duration": 38,
    "start_time": "2023-02-18T18:24:14.230Z"
   },
   {
    "duration": 13,
    "start_time": "2023-02-18T18:24:14.269Z"
   },
   {
    "duration": 18,
    "start_time": "2023-02-18T18:24:14.283Z"
   },
   {
    "duration": 16,
    "start_time": "2023-02-18T18:24:14.322Z"
   },
   {
    "duration": 27,
    "start_time": "2023-02-18T18:24:14.340Z"
   },
   {
    "duration": 18,
    "start_time": "2023-02-18T18:24:14.369Z"
   },
   {
    "duration": 16,
    "start_time": "2023-02-18T18:24:14.388Z"
   },
   {
    "duration": 26,
    "start_time": "2023-02-18T18:24:14.420Z"
   },
   {
    "duration": 28,
    "start_time": "2023-02-18T18:24:14.448Z"
   },
   {
    "duration": 20,
    "start_time": "2023-02-18T18:24:14.479Z"
   },
   {
    "duration": 139,
    "start_time": "2023-02-18T18:24:14.501Z"
   },
   {
    "duration": 0,
    "start_time": "2023-02-18T18:24:14.642Z"
   },
   {
    "duration": 1081,
    "start_time": "2023-02-18T18:27:26.680Z"
   },
   {
    "duration": 54,
    "start_time": "2023-02-18T18:27:27.763Z"
   },
   {
    "duration": 6,
    "start_time": "2023-02-18T18:27:27.818Z"
   },
   {
    "duration": 22,
    "start_time": "2023-02-18T18:27:27.825Z"
   },
   {
    "duration": 18,
    "start_time": "2023-02-18T18:27:27.848Z"
   },
   {
    "duration": 15,
    "start_time": "2023-02-18T18:27:27.868Z"
   },
   {
    "duration": 758,
    "start_time": "2023-02-18T18:27:27.885Z"
   },
   {
    "duration": 3,
    "start_time": "2023-02-18T18:27:28.645Z"
   },
   {
    "duration": 35,
    "start_time": "2023-02-18T18:27:28.649Z"
   },
   {
    "duration": 58,
    "start_time": "2023-02-18T18:27:28.686Z"
   },
   {
    "duration": 3,
    "start_time": "2023-02-18T18:27:28.746Z"
   },
   {
    "duration": 9,
    "start_time": "2023-02-18T18:27:28.750Z"
   },
   {
    "duration": 10,
    "start_time": "2023-02-18T18:27:28.760Z"
   },
   {
    "duration": 13,
    "start_time": "2023-02-18T18:27:28.771Z"
   },
   {
    "duration": 12,
    "start_time": "2023-02-18T18:27:28.785Z"
   },
   {
    "duration": 41,
    "start_time": "2023-02-18T18:27:28.799Z"
   },
   {
    "duration": 136,
    "start_time": "2023-02-18T18:27:28.841Z"
   },
   {
    "duration": 120,
    "start_time": "2023-02-18T18:27:28.979Z"
   },
   {
    "duration": 154,
    "start_time": "2023-02-18T18:27:29.100Z"
   },
   {
    "duration": 3,
    "start_time": "2023-02-18T18:27:29.255Z"
   },
   {
    "duration": 386,
    "start_time": "2023-02-18T18:27:29.259Z"
   },
   {
    "duration": 16,
    "start_time": "2023-02-18T18:27:29.647Z"
   },
   {
    "duration": 2,
    "start_time": "2023-02-18T18:27:29.664Z"
   },
   {
    "duration": 5,
    "start_time": "2023-02-18T18:27:29.668Z"
   },
   {
    "duration": 15,
    "start_time": "2023-02-18T18:27:29.674Z"
   },
   {
    "duration": 2,
    "start_time": "2023-02-18T18:27:29.691Z"
   },
   {
    "duration": 29,
    "start_time": "2023-02-18T18:27:29.694Z"
   },
   {
    "duration": 6,
    "start_time": "2023-02-18T18:27:29.726Z"
   },
   {
    "duration": 3,
    "start_time": "2023-02-18T18:27:29.734Z"
   },
   {
    "duration": 265,
    "start_time": "2023-02-18T18:27:29.739Z"
   },
   {
    "duration": 3,
    "start_time": "2023-02-18T18:27:30.006Z"
   },
   {
    "duration": 13,
    "start_time": "2023-02-18T18:27:30.010Z"
   },
   {
    "duration": 18,
    "start_time": "2023-02-18T18:27:30.024Z"
   },
   {
    "duration": 10,
    "start_time": "2023-02-18T18:27:30.044Z"
   },
   {
    "duration": 30,
    "start_time": "2023-02-18T18:27:30.055Z"
   },
   {
    "duration": 54,
    "start_time": "2023-02-18T18:27:30.086Z"
   },
   {
    "duration": 14,
    "start_time": "2023-02-18T18:27:30.141Z"
   },
   {
    "duration": 22,
    "start_time": "2023-02-18T18:27:30.156Z"
   },
   {
    "duration": 12,
    "start_time": "2023-02-18T18:27:30.180Z"
   },
   {
    "duration": 27,
    "start_time": "2023-02-18T18:27:30.194Z"
   },
   {
    "duration": 32,
    "start_time": "2023-02-18T18:27:30.223Z"
   },
   {
    "duration": 52,
    "start_time": "2023-02-18T18:27:30.256Z"
   },
   {
    "duration": 39,
    "start_time": "2023-02-18T18:27:30.309Z"
   },
   {
    "duration": 37,
    "start_time": "2023-02-18T18:27:30.350Z"
   },
   {
    "duration": 17,
    "start_time": "2023-02-18T18:27:30.389Z"
   },
   {
    "duration": 18,
    "start_time": "2023-02-18T18:27:30.408Z"
   },
   {
    "duration": 26,
    "start_time": "2023-02-18T18:27:30.428Z"
   },
   {
    "duration": 8,
    "start_time": "2023-02-18T18:28:46.122Z"
   },
   {
    "duration": 8,
    "start_time": "2023-02-18T18:29:28.517Z"
   },
   {
    "duration": 1185,
    "start_time": "2023-02-18T18:29:39.214Z"
   },
   {
    "duration": 56,
    "start_time": "2023-02-18T18:29:40.401Z"
   },
   {
    "duration": 6,
    "start_time": "2023-02-18T18:29:40.459Z"
   },
   {
    "duration": 22,
    "start_time": "2023-02-18T18:29:40.467Z"
   },
   {
    "duration": 18,
    "start_time": "2023-02-18T18:29:40.491Z"
   },
   {
    "duration": 27,
    "start_time": "2023-02-18T18:29:40.510Z"
   },
   {
    "duration": 825,
    "start_time": "2023-02-18T18:29:40.539Z"
   },
   {
    "duration": 4,
    "start_time": "2023-02-18T18:29:41.365Z"
   },
   {
    "duration": 30,
    "start_time": "2023-02-18T18:29:41.370Z"
   },
   {
    "duration": 66,
    "start_time": "2023-02-18T18:29:41.403Z"
   },
   {
    "duration": 4,
    "start_time": "2023-02-18T18:29:41.470Z"
   },
   {
    "duration": 10,
    "start_time": "2023-02-18T18:29:41.476Z"
   },
   {
    "duration": 7,
    "start_time": "2023-02-18T18:29:41.488Z"
   },
   {
    "duration": 27,
    "start_time": "2023-02-18T18:29:41.497Z"
   },
   {
    "duration": 4,
    "start_time": "2023-02-18T18:29:41.526Z"
   },
   {
    "duration": 42,
    "start_time": "2023-02-18T18:29:41.532Z"
   },
   {
    "duration": 160,
    "start_time": "2023-02-18T18:29:41.576Z"
   },
   {
    "duration": 130,
    "start_time": "2023-02-18T18:29:41.738Z"
   },
   {
    "duration": 184,
    "start_time": "2023-02-18T18:29:41.870Z"
   },
   {
    "duration": 3,
    "start_time": "2023-02-18T18:29:42.055Z"
   },
   {
    "duration": 432,
    "start_time": "2023-02-18T18:29:42.059Z"
   },
   {
    "duration": 18,
    "start_time": "2023-02-18T18:29:42.493Z"
   },
   {
    "duration": 3,
    "start_time": "2023-02-18T18:29:42.521Z"
   },
   {
    "duration": 5,
    "start_time": "2023-02-18T18:29:42.525Z"
   },
   {
    "duration": 14,
    "start_time": "2023-02-18T18:29:42.532Z"
   },
   {
    "duration": 3,
    "start_time": "2023-02-18T18:29:42.547Z"
   },
   {
    "duration": 5,
    "start_time": "2023-02-18T18:29:42.551Z"
   },
   {
    "duration": 6,
    "start_time": "2023-02-18T18:29:42.559Z"
   },
   {
    "duration": 3,
    "start_time": "2023-02-18T18:29:42.567Z"
   },
   {
    "duration": 377,
    "start_time": "2023-02-18T18:29:42.572Z"
   },
   {
    "duration": 4,
    "start_time": "2023-02-18T18:29:42.950Z"
   },
   {
    "duration": 7,
    "start_time": "2023-02-18T18:29:42.955Z"
   },
   {
    "duration": 5,
    "start_time": "2023-02-18T18:29:42.963Z"
   },
   {
    "duration": 9,
    "start_time": "2023-02-18T18:29:42.969Z"
   },
   {
    "duration": 15,
    "start_time": "2023-02-18T18:29:42.980Z"
   },
   {
    "duration": 60,
    "start_time": "2023-02-18T18:29:42.997Z"
   },
   {
    "duration": 14,
    "start_time": "2023-02-18T18:29:43.059Z"
   },
   {
    "duration": 17,
    "start_time": "2023-02-18T18:29:43.075Z"
   },
   {
    "duration": 39,
    "start_time": "2023-02-18T18:29:43.093Z"
   },
   {
    "duration": 15,
    "start_time": "2023-02-18T18:29:43.134Z"
   },
   {
    "duration": 14,
    "start_time": "2023-02-18T18:29:43.150Z"
   },
   {
    "duration": 14,
    "start_time": "2023-02-18T18:29:43.166Z"
   },
   {
    "duration": 47,
    "start_time": "2023-02-18T18:29:43.182Z"
   },
   {
    "duration": 18,
    "start_time": "2023-02-18T18:29:43.231Z"
   },
   {
    "duration": 17,
    "start_time": "2023-02-18T18:29:43.251Z"
   },
   {
    "duration": 7,
    "start_time": "2023-02-18T18:29:43.270Z"
   },
   {
    "duration": 42,
    "start_time": "2023-02-18T18:29:43.279Z"
   },
   {
    "duration": 10,
    "start_time": "2023-02-18T19:42:21.509Z"
   },
   {
    "duration": 12,
    "start_time": "2023-02-18T19:42:41.994Z"
   },
   {
    "duration": 73,
    "start_time": "2023-02-18T20:10:07.471Z"
   },
   {
    "duration": 1182,
    "start_time": "2023-02-18T20:10:27.487Z"
   },
   {
    "duration": 54,
    "start_time": "2023-02-18T20:10:28.671Z"
   },
   {
    "duration": 6,
    "start_time": "2023-02-18T20:10:28.730Z"
   },
   {
    "duration": 23,
    "start_time": "2023-02-18T20:10:28.737Z"
   },
   {
    "duration": 19,
    "start_time": "2023-02-18T20:10:28.761Z"
   },
   {
    "duration": 15,
    "start_time": "2023-02-18T20:10:28.781Z"
   },
   {
    "duration": 765,
    "start_time": "2023-02-18T20:10:28.797Z"
   },
   {
    "duration": 5,
    "start_time": "2023-02-18T20:10:29.564Z"
   },
   {
    "duration": 33,
    "start_time": "2023-02-18T20:10:29.572Z"
   },
   {
    "duration": 65,
    "start_time": "2023-02-18T20:10:29.607Z"
   },
   {
    "duration": 4,
    "start_time": "2023-02-18T20:10:29.674Z"
   },
   {
    "duration": 11,
    "start_time": "2023-02-18T20:10:29.680Z"
   },
   {
    "duration": 6,
    "start_time": "2023-02-18T20:10:29.693Z"
   },
   {
    "duration": 27,
    "start_time": "2023-02-18T20:10:29.701Z"
   },
   {
    "duration": 5,
    "start_time": "2023-02-18T20:10:29.730Z"
   },
   {
    "duration": 45,
    "start_time": "2023-02-18T20:10:29.737Z"
   },
   {
    "duration": 144,
    "start_time": "2023-02-18T20:10:29.784Z"
   },
   {
    "duration": 119,
    "start_time": "2023-02-18T20:10:29.929Z"
   },
   {
    "duration": 163,
    "start_time": "2023-02-18T20:10:30.050Z"
   },
   {
    "duration": 7,
    "start_time": "2023-02-18T20:10:30.215Z"
   },
   {
    "duration": 394,
    "start_time": "2023-02-18T20:10:30.223Z"
   },
   {
    "duration": 16,
    "start_time": "2023-02-18T20:10:30.620Z"
   },
   {
    "duration": 11,
    "start_time": "2023-02-18T20:10:30.638Z"
   },
   {
    "duration": 24,
    "start_time": "2023-02-18T20:10:30.651Z"
   },
   {
    "duration": 34,
    "start_time": "2023-02-18T20:10:30.677Z"
   },
   {
    "duration": 24,
    "start_time": "2023-02-18T20:10:30.713Z"
   },
   {
    "duration": 7,
    "start_time": "2023-02-18T20:10:30.741Z"
   },
   {
    "duration": 14,
    "start_time": "2023-02-18T20:10:30.750Z"
   },
   {
    "duration": 29,
    "start_time": "2023-02-18T20:10:30.766Z"
   },
   {
    "duration": 292,
    "start_time": "2023-02-18T20:10:30.797Z"
   },
   {
    "duration": 2,
    "start_time": "2023-02-18T20:10:31.091Z"
   },
   {
    "duration": 17,
    "start_time": "2023-02-18T20:10:31.095Z"
   },
   {
    "duration": 9,
    "start_time": "2023-02-18T20:10:31.114Z"
   },
   {
    "duration": 36,
    "start_time": "2023-02-18T20:10:31.125Z"
   },
   {
    "duration": 26,
    "start_time": "2023-02-18T20:10:31.163Z"
   },
   {
    "duration": 61,
    "start_time": "2023-02-18T20:10:31.191Z"
   },
   {
    "duration": 15,
    "start_time": "2023-02-18T20:10:31.253Z"
   },
   {
    "duration": 22,
    "start_time": "2023-02-18T20:10:31.269Z"
   },
   {
    "duration": 35,
    "start_time": "2023-02-18T20:10:31.292Z"
   },
   {
    "duration": 13,
    "start_time": "2023-02-18T20:10:31.328Z"
   },
   {
    "duration": 30,
    "start_time": "2023-02-18T20:10:31.342Z"
   },
   {
    "duration": 13,
    "start_time": "2023-02-18T20:10:31.373Z"
   },
   {
    "duration": 37,
    "start_time": "2023-02-18T20:10:31.388Z"
   },
   {
    "duration": 20,
    "start_time": "2023-02-18T20:10:31.426Z"
   },
   {
    "duration": 17,
    "start_time": "2023-02-18T20:10:31.448Z"
   },
   {
    "duration": 14,
    "start_time": "2023-02-18T20:10:31.466Z"
   },
   {
    "duration": 77,
    "start_time": "2023-02-18T20:10:31.481Z"
   },
   {
    "duration": 10,
    "start_time": "2023-02-18T20:30:05.102Z"
   },
   {
    "duration": 7,
    "start_time": "2023-02-18T20:30:17.569Z"
   },
   {
    "duration": 7,
    "start_time": "2023-02-18T20:30:44.931Z"
   },
   {
    "duration": 7,
    "start_time": "2023-02-18T20:30:51.659Z"
   },
   {
    "duration": 9,
    "start_time": "2023-02-18T20:30:57.793Z"
   },
   {
    "duration": 8,
    "start_time": "2023-02-18T20:31:09.137Z"
   },
   {
    "duration": 8,
    "start_time": "2023-02-18T20:31:16.721Z"
   },
   {
    "duration": 1115,
    "start_time": "2023-02-18T20:31:47.845Z"
   },
   {
    "duration": 53,
    "start_time": "2023-02-18T20:31:48.962Z"
   },
   {
    "duration": 5,
    "start_time": "2023-02-18T20:31:49.016Z"
   },
   {
    "duration": 21,
    "start_time": "2023-02-18T20:31:49.023Z"
   },
   {
    "duration": 17,
    "start_time": "2023-02-18T20:31:49.045Z"
   },
   {
    "duration": 16,
    "start_time": "2023-02-18T20:31:49.063Z"
   },
   {
    "duration": 739,
    "start_time": "2023-02-18T20:31:49.081Z"
   },
   {
    "duration": 4,
    "start_time": "2023-02-18T20:31:49.822Z"
   },
   {
    "duration": 30,
    "start_time": "2023-02-18T20:31:49.828Z"
   },
   {
    "duration": 64,
    "start_time": "2023-02-18T20:31:49.861Z"
   },
   {
    "duration": 3,
    "start_time": "2023-02-18T20:31:49.927Z"
   },
   {
    "duration": 20,
    "start_time": "2023-02-18T20:31:49.932Z"
   },
   {
    "duration": 18,
    "start_time": "2023-02-18T20:31:49.954Z"
   },
   {
    "duration": 18,
    "start_time": "2023-02-18T20:31:49.974Z"
   },
   {
    "duration": 4,
    "start_time": "2023-02-18T20:31:49.994Z"
   },
   {
    "duration": 45,
    "start_time": "2023-02-18T20:31:50.000Z"
   },
   {
    "duration": 136,
    "start_time": "2023-02-18T20:31:50.046Z"
   },
   {
    "duration": 114,
    "start_time": "2023-02-18T20:31:50.184Z"
   },
   {
    "duration": 160,
    "start_time": "2023-02-18T20:31:50.300Z"
   },
   {
    "duration": 2,
    "start_time": "2023-02-18T20:31:50.462Z"
   },
   {
    "duration": 385,
    "start_time": "2023-02-18T20:31:50.466Z"
   },
   {
    "duration": 17,
    "start_time": "2023-02-18T20:31:50.852Z"
   },
   {
    "duration": 3,
    "start_time": "2023-02-18T20:31:50.871Z"
   },
   {
    "duration": 9,
    "start_time": "2023-02-18T20:31:50.875Z"
   },
   {
    "duration": 15,
    "start_time": "2023-02-18T20:31:50.886Z"
   },
   {
    "duration": 3,
    "start_time": "2023-02-18T20:31:50.902Z"
   },
   {
    "duration": 2,
    "start_time": "2023-02-18T20:31:50.922Z"
   },
   {
    "duration": 10,
    "start_time": "2023-02-18T20:31:50.928Z"
   },
   {
    "duration": 10,
    "start_time": "2023-02-18T20:31:50.940Z"
   },
   {
    "duration": 305,
    "start_time": "2023-02-18T20:31:50.952Z"
   },
   {
    "duration": 4,
    "start_time": "2023-02-18T20:31:51.258Z"
   },
   {
    "duration": 7,
    "start_time": "2023-02-18T20:31:51.263Z"
   },
   {
    "duration": 13,
    "start_time": "2023-02-18T20:31:51.272Z"
   },
   {
    "duration": 11,
    "start_time": "2023-02-18T20:31:51.287Z"
   },
   {
    "duration": 22,
    "start_time": "2023-02-18T20:31:51.300Z"
   },
   {
    "duration": 36,
    "start_time": "2023-02-18T20:31:51.324Z"
   },
   {
    "duration": 15,
    "start_time": "2023-02-18T20:31:51.362Z"
   },
   {
    "duration": 18,
    "start_time": "2023-02-18T20:31:51.378Z"
   },
   {
    "duration": 13,
    "start_time": "2023-02-18T20:31:51.421Z"
   },
   {
    "duration": 14,
    "start_time": "2023-02-18T20:31:51.436Z"
   },
   {
    "duration": 23,
    "start_time": "2023-02-18T20:31:51.452Z"
   },
   {
    "duration": 13,
    "start_time": "2023-02-18T20:31:51.477Z"
   },
   {
    "duration": 32,
    "start_time": "2023-02-18T20:31:51.492Z"
   },
   {
    "duration": 15,
    "start_time": "2023-02-18T20:31:51.525Z"
   },
   {
    "duration": 19,
    "start_time": "2023-02-18T20:31:51.541Z"
   },
   {
    "duration": 7,
    "start_time": "2023-02-18T20:31:51.561Z"
   },
   {
    "duration": 10,
    "start_time": "2023-02-18T20:31:51.569Z"
   },
   {
    "duration": 13,
    "start_time": "2023-02-18T20:48:10.269Z"
   },
   {
    "duration": 1097,
    "start_time": "2023-02-18T20:48:15.656Z"
   },
   {
    "duration": 53,
    "start_time": "2023-02-18T20:48:16.755Z"
   },
   {
    "duration": 6,
    "start_time": "2023-02-18T20:48:16.810Z"
   },
   {
    "duration": 20,
    "start_time": "2023-02-18T20:48:16.819Z"
   },
   {
    "duration": 17,
    "start_time": "2023-02-18T20:48:16.840Z"
   },
   {
    "duration": 17,
    "start_time": "2023-02-18T20:48:16.859Z"
   },
   {
    "duration": 720,
    "start_time": "2023-02-18T20:48:16.878Z"
   },
   {
    "duration": 3,
    "start_time": "2023-02-18T20:48:17.600Z"
   },
   {
    "duration": 37,
    "start_time": "2023-02-18T20:48:17.605Z"
   },
   {
    "duration": 49,
    "start_time": "2023-02-18T20:48:17.645Z"
   },
   {
    "duration": 4,
    "start_time": "2023-02-18T20:48:17.695Z"
   },
   {
    "duration": 21,
    "start_time": "2023-02-18T20:48:17.701Z"
   },
   {
    "duration": 6,
    "start_time": "2023-02-18T20:48:17.723Z"
   },
   {
    "duration": 8,
    "start_time": "2023-02-18T20:48:17.730Z"
   },
   {
    "duration": 4,
    "start_time": "2023-02-18T20:48:17.739Z"
   },
   {
    "duration": 37,
    "start_time": "2023-02-18T20:48:17.745Z"
   },
   {
    "duration": 163,
    "start_time": "2023-02-18T20:48:17.784Z"
   },
   {
    "duration": 113,
    "start_time": "2023-02-18T20:48:17.949Z"
   },
   {
    "duration": 156,
    "start_time": "2023-02-18T20:48:18.064Z"
   },
   {
    "duration": 2,
    "start_time": "2023-02-18T20:48:18.222Z"
   },
   {
    "duration": 381,
    "start_time": "2023-02-18T20:48:18.226Z"
   },
   {
    "duration": 20,
    "start_time": "2023-02-18T20:48:18.609Z"
   },
   {
    "duration": 2,
    "start_time": "2023-02-18T20:48:18.631Z"
   },
   {
    "duration": 5,
    "start_time": "2023-02-18T20:48:18.635Z"
   },
   {
    "duration": 14,
    "start_time": "2023-02-18T20:48:18.641Z"
   },
   {
    "duration": 2,
    "start_time": "2023-02-18T20:48:18.657Z"
   },
   {
    "duration": 8,
    "start_time": "2023-02-18T20:48:18.660Z"
   },
   {
    "duration": 7,
    "start_time": "2023-02-18T20:48:18.672Z"
   },
   {
    "duration": 4,
    "start_time": "2023-02-18T20:48:18.681Z"
   },
   {
    "duration": 269,
    "start_time": "2023-02-18T20:48:18.686Z"
   },
   {
    "duration": 3,
    "start_time": "2023-02-18T20:48:18.957Z"
   },
   {
    "duration": 5,
    "start_time": "2023-02-18T20:48:18.962Z"
   },
   {
    "duration": 7,
    "start_time": "2023-02-18T20:48:18.968Z"
   },
   {
    "duration": 7,
    "start_time": "2023-02-18T20:48:18.976Z"
   },
   {
    "duration": 13,
    "start_time": "2023-02-18T20:48:18.985Z"
   },
   {
    "duration": 56,
    "start_time": "2023-02-18T20:48:19.000Z"
   },
   {
    "duration": 12,
    "start_time": "2023-02-18T20:48:19.058Z"
   },
   {
    "duration": 13,
    "start_time": "2023-02-18T20:48:19.071Z"
   },
   {
    "duration": 11,
    "start_time": "2023-02-18T20:48:19.086Z"
   },
   {
    "duration": 33,
    "start_time": "2023-02-18T20:48:19.099Z"
   },
   {
    "duration": 13,
    "start_time": "2023-02-18T20:48:19.133Z"
   },
   {
    "duration": 11,
    "start_time": "2023-02-18T20:48:19.148Z"
   },
   {
    "duration": 15,
    "start_time": "2023-02-18T20:48:19.161Z"
   },
   {
    "duration": 45,
    "start_time": "2023-02-18T20:48:19.177Z"
   },
   {
    "duration": 15,
    "start_time": "2023-02-18T20:48:19.224Z"
   },
   {
    "duration": 6,
    "start_time": "2023-02-18T20:48:19.241Z"
   },
   {
    "duration": 8,
    "start_time": "2023-02-18T20:48:19.248Z"
   },
   {
    "duration": 21,
    "start_time": "2023-02-18T20:49:07.415Z"
   },
   {
    "duration": 12,
    "start_time": "2023-02-18T20:49:18.786Z"
   },
   {
    "duration": 11,
    "start_time": "2023-02-18T20:49:23.621Z"
   },
   {
    "duration": 1181,
    "start_time": "2023-02-18T20:49:29.494Z"
   },
   {
    "duration": 55,
    "start_time": "2023-02-18T20:49:30.677Z"
   },
   {
    "duration": 6,
    "start_time": "2023-02-18T20:49:30.734Z"
   },
   {
    "duration": 39,
    "start_time": "2023-02-18T20:49:30.742Z"
   },
   {
    "duration": 32,
    "start_time": "2023-02-18T20:49:30.782Z"
   },
   {
    "duration": 51,
    "start_time": "2023-02-18T20:49:30.815Z"
   },
   {
    "duration": 743,
    "start_time": "2023-02-18T20:49:30.869Z"
   },
   {
    "duration": 3,
    "start_time": "2023-02-18T20:49:31.614Z"
   },
   {
    "duration": 50,
    "start_time": "2023-02-18T20:49:31.620Z"
   },
   {
    "duration": 50,
    "start_time": "2023-02-18T20:49:31.673Z"
   },
   {
    "duration": 4,
    "start_time": "2023-02-18T20:49:31.725Z"
   },
   {
    "duration": 17,
    "start_time": "2023-02-18T20:49:31.731Z"
   },
   {
    "duration": 10,
    "start_time": "2023-02-18T20:49:31.749Z"
   },
   {
    "duration": 13,
    "start_time": "2023-02-18T20:49:31.760Z"
   },
   {
    "duration": 5,
    "start_time": "2023-02-18T20:49:31.774Z"
   },
   {
    "duration": 42,
    "start_time": "2023-02-18T20:49:31.780Z"
   },
   {
    "duration": 141,
    "start_time": "2023-02-18T20:49:31.824Z"
   },
   {
    "duration": 116,
    "start_time": "2023-02-18T20:49:31.966Z"
   },
   {
    "duration": 158,
    "start_time": "2023-02-18T20:49:32.083Z"
   },
   {
    "duration": 3,
    "start_time": "2023-02-18T20:49:32.242Z"
   },
   {
    "duration": 394,
    "start_time": "2023-02-18T20:49:32.246Z"
   },
   {
    "duration": 15,
    "start_time": "2023-02-18T20:49:32.642Z"
   },
   {
    "duration": 3,
    "start_time": "2023-02-18T20:49:32.659Z"
   },
   {
    "duration": 6,
    "start_time": "2023-02-18T20:49:32.664Z"
   },
   {
    "duration": 17,
    "start_time": "2023-02-18T20:49:32.671Z"
   },
   {
    "duration": 39,
    "start_time": "2023-02-18T20:49:32.689Z"
   },
   {
    "duration": 7,
    "start_time": "2023-02-18T20:49:32.730Z"
   },
   {
    "duration": 3,
    "start_time": "2023-02-18T20:49:32.740Z"
   },
   {
    "duration": 8,
    "start_time": "2023-02-18T20:49:32.744Z"
   },
   {
    "duration": 6,
    "start_time": "2023-02-18T20:49:32.753Z"
   },
   {
    "duration": 261,
    "start_time": "2023-02-18T20:49:32.761Z"
   },
   {
    "duration": 4,
    "start_time": "2023-02-18T20:49:33.024Z"
   },
   {
    "duration": 10,
    "start_time": "2023-02-18T20:49:33.029Z"
   },
   {
    "duration": 6,
    "start_time": "2023-02-18T20:49:33.041Z"
   },
   {
    "duration": 9,
    "start_time": "2023-02-18T20:49:33.049Z"
   },
   {
    "duration": 15,
    "start_time": "2023-02-18T20:49:33.060Z"
   },
   {
    "duration": 52,
    "start_time": "2023-02-18T20:49:33.077Z"
   },
   {
    "duration": 14,
    "start_time": "2023-02-18T20:49:33.131Z"
   },
   {
    "duration": 16,
    "start_time": "2023-02-18T20:49:33.146Z"
   },
   {
    "duration": 14,
    "start_time": "2023-02-18T20:49:33.164Z"
   },
   {
    "duration": 14,
    "start_time": "2023-02-18T20:49:33.180Z"
   },
   {
    "duration": 36,
    "start_time": "2023-02-18T20:49:33.195Z"
   },
   {
    "duration": 15,
    "start_time": "2023-02-18T20:49:33.232Z"
   },
   {
    "duration": 27,
    "start_time": "2023-02-18T20:49:33.249Z"
   },
   {
    "duration": 14,
    "start_time": "2023-02-18T20:49:33.278Z"
   },
   {
    "duration": 34,
    "start_time": "2023-02-18T20:49:33.294Z"
   },
   {
    "duration": 8,
    "start_time": "2023-02-18T20:49:33.330Z"
   },
   {
    "duration": 12,
    "start_time": "2023-02-18T20:49:33.339Z"
   },
   {
    "duration": 1156,
    "start_time": "2023-02-19T00:26:50.609Z"
   },
   {
    "duration": 53,
    "start_time": "2023-02-19T00:26:51.767Z"
   },
   {
    "duration": 5,
    "start_time": "2023-02-19T00:26:51.822Z"
   },
   {
    "duration": 20,
    "start_time": "2023-02-19T00:26:51.829Z"
   },
   {
    "duration": 17,
    "start_time": "2023-02-19T00:26:51.850Z"
   },
   {
    "duration": 24,
    "start_time": "2023-02-19T00:26:51.868Z"
   },
   {
    "duration": 735,
    "start_time": "2023-02-19T00:26:51.894Z"
   },
   {
    "duration": 4,
    "start_time": "2023-02-19T00:26:52.630Z"
   },
   {
    "duration": 27,
    "start_time": "2023-02-19T00:26:52.635Z"
   },
   {
    "duration": 66,
    "start_time": "2023-02-19T00:26:52.664Z"
   },
   {
    "duration": 4,
    "start_time": "2023-02-19T00:26:52.731Z"
   },
   {
    "duration": 15,
    "start_time": "2023-02-19T00:26:52.736Z"
   },
   {
    "duration": 11,
    "start_time": "2023-02-19T00:26:52.752Z"
   },
   {
    "duration": 7,
    "start_time": "2023-02-19T00:26:52.764Z"
   },
   {
    "duration": 4,
    "start_time": "2023-02-19T00:26:52.772Z"
   },
   {
    "duration": 47,
    "start_time": "2023-02-19T00:26:52.777Z"
   },
   {
    "duration": 140,
    "start_time": "2023-02-19T00:26:52.826Z"
   },
   {
    "duration": 107,
    "start_time": "2023-02-19T00:26:52.968Z"
   },
   {
    "duration": 153,
    "start_time": "2023-02-19T00:26:53.077Z"
   },
   {
    "duration": 2,
    "start_time": "2023-02-19T00:26:53.231Z"
   },
   {
    "duration": 375,
    "start_time": "2023-02-19T00:26:53.234Z"
   },
   {
    "duration": 1089,
    "start_time": "2023-02-19T00:28:05.846Z"
   },
   {
    "duration": 51,
    "start_time": "2023-02-19T00:28:06.937Z"
   },
   {
    "duration": 5,
    "start_time": "2023-02-19T00:28:06.990Z"
   },
   {
    "duration": 20,
    "start_time": "2023-02-19T00:28:06.997Z"
   },
   {
    "duration": 15,
    "start_time": "2023-02-19T00:28:07.018Z"
   },
   {
    "duration": 14,
    "start_time": "2023-02-19T00:28:07.035Z"
   },
   {
    "duration": 709,
    "start_time": "2023-02-19T00:28:07.051Z"
   },
   {
    "duration": 3,
    "start_time": "2023-02-19T00:28:07.762Z"
   },
   {
    "duration": 25,
    "start_time": "2023-02-19T00:28:07.766Z"
   },
   {
    "duration": 59,
    "start_time": "2023-02-19T00:28:07.793Z"
   },
   {
    "duration": 3,
    "start_time": "2023-02-19T00:28:07.854Z"
   },
   {
    "duration": 6,
    "start_time": "2023-02-19T00:28:07.858Z"
   },
   {
    "duration": 6,
    "start_time": "2023-02-19T00:28:07.865Z"
   },
   {
    "duration": 7,
    "start_time": "2023-02-19T00:28:07.873Z"
   },
   {
    "duration": 4,
    "start_time": "2023-02-19T00:28:07.881Z"
   },
   {
    "duration": 58,
    "start_time": "2023-02-19T00:28:07.887Z"
   },
   {
    "duration": 129,
    "start_time": "2023-02-19T00:28:07.946Z"
   },
   {
    "duration": 109,
    "start_time": "2023-02-19T00:28:08.077Z"
   },
   {
    "duration": 156,
    "start_time": "2023-02-19T00:28:08.188Z"
   },
   {
    "duration": 2,
    "start_time": "2023-02-19T00:28:08.346Z"
   },
   {
    "duration": 384,
    "start_time": "2023-02-19T00:28:08.350Z"
   },
   {
    "duration": 17,
    "start_time": "2023-02-19T00:28:08.735Z"
   },
   {
    "duration": 2,
    "start_time": "2023-02-19T00:28:08.754Z"
   },
   {
    "duration": 5,
    "start_time": "2023-02-19T00:28:08.757Z"
   },
   {
    "duration": 12,
    "start_time": "2023-02-19T00:28:08.763Z"
   },
   {
    "duration": 19,
    "start_time": "2023-02-19T00:28:08.776Z"
   },
   {
    "duration": 3,
    "start_time": "2023-02-19T00:28:08.821Z"
   },
   {
    "duration": 3,
    "start_time": "2023-02-19T00:28:08.827Z"
   },
   {
    "duration": 7,
    "start_time": "2023-02-19T00:28:08.831Z"
   },
   {
    "duration": 4,
    "start_time": "2023-02-19T00:28:08.839Z"
   },
   {
    "duration": 259,
    "start_time": "2023-02-19T00:28:08.844Z"
   },
   {
    "duration": 2,
    "start_time": "2023-02-19T00:28:09.105Z"
   },
   {
    "duration": 8,
    "start_time": "2023-02-19T00:28:09.108Z"
   },
   {
    "duration": 3,
    "start_time": "2023-02-19T00:28:09.121Z"
   },
   {
    "duration": 13,
    "start_time": "2023-02-19T00:28:09.125Z"
   },
   {
    "duration": 15,
    "start_time": "2023-02-19T00:28:09.139Z"
   },
   {
    "duration": 34,
    "start_time": "2023-02-19T00:28:09.156Z"
   },
   {
    "duration": 30,
    "start_time": "2023-02-19T00:28:09.192Z"
   },
   {
    "duration": 14,
    "start_time": "2023-02-19T00:28:09.224Z"
   },
   {
    "duration": 12,
    "start_time": "2023-02-19T00:28:09.240Z"
   },
   {
    "duration": 12,
    "start_time": "2023-02-19T00:28:09.254Z"
   },
   {
    "duration": 12,
    "start_time": "2023-02-19T00:28:09.268Z"
   },
   {
    "duration": 12,
    "start_time": "2023-02-19T00:28:09.281Z"
   },
   {
    "duration": 15,
    "start_time": "2023-02-19T00:28:09.321Z"
   },
   {
    "duration": 27,
    "start_time": "2023-02-19T00:28:09.337Z"
   },
   {
    "duration": 18,
    "start_time": "2023-02-19T00:28:09.365Z"
   },
   {
    "duration": 6,
    "start_time": "2023-02-19T00:28:09.385Z"
   },
   {
    "duration": 9,
    "start_time": "2023-02-19T00:28:09.392Z"
   },
   {
    "duration": 51,
    "start_time": "2023-02-19T15:48:31.863Z"
   },
   {
    "duration": 7,
    "start_time": "2023-02-19T15:48:45.866Z"
   },
   {
    "duration": 1393,
    "start_time": "2023-02-19T15:48:56.531Z"
   },
   {
    "duration": 100,
    "start_time": "2023-02-19T15:48:57.926Z"
   },
   {
    "duration": 6,
    "start_time": "2023-02-19T15:48:58.028Z"
   },
   {
    "duration": 32,
    "start_time": "2023-02-19T15:48:58.036Z"
   },
   {
    "duration": 22,
    "start_time": "2023-02-19T15:48:58.069Z"
   },
   {
    "duration": 16,
    "start_time": "2023-02-19T15:48:58.092Z"
   },
   {
    "duration": 770,
    "start_time": "2023-02-19T15:48:58.110Z"
   },
   {
    "duration": 3,
    "start_time": "2023-02-19T15:48:58.882Z"
   },
   {
    "duration": 27,
    "start_time": "2023-02-19T15:48:58.887Z"
   },
   {
    "duration": 66,
    "start_time": "2023-02-19T15:48:58.916Z"
   },
   {
    "duration": 3,
    "start_time": "2023-02-19T15:48:58.983Z"
   },
   {
    "duration": 11,
    "start_time": "2023-02-19T15:48:58.988Z"
   },
   {
    "duration": 33,
    "start_time": "2023-02-19T15:48:59.001Z"
   },
   {
    "duration": 9,
    "start_time": "2023-02-19T15:48:59.036Z"
   },
   {
    "duration": 4,
    "start_time": "2023-02-19T15:48:59.047Z"
   },
   {
    "duration": 42,
    "start_time": "2023-02-19T15:48:59.052Z"
   },
   {
    "duration": 140,
    "start_time": "2023-02-19T15:48:59.095Z"
   },
   {
    "duration": 120,
    "start_time": "2023-02-19T15:48:59.237Z"
   },
   {
    "duration": 102,
    "start_time": "2023-02-19T15:48:59.359Z"
   },
   {
    "duration": 0,
    "start_time": "2023-02-19T15:48:59.463Z"
   },
   {
    "duration": 0,
    "start_time": "2023-02-19T15:48:59.464Z"
   },
   {
    "duration": 0,
    "start_time": "2023-02-19T15:48:59.465Z"
   },
   {
    "duration": 0,
    "start_time": "2023-02-19T15:48:59.466Z"
   },
   {
    "duration": 0,
    "start_time": "2023-02-19T15:48:59.467Z"
   },
   {
    "duration": 0,
    "start_time": "2023-02-19T15:48:59.468Z"
   },
   {
    "duration": 0,
    "start_time": "2023-02-19T15:48:59.469Z"
   },
   {
    "duration": 0,
    "start_time": "2023-02-19T15:48:59.470Z"
   },
   {
    "duration": 0,
    "start_time": "2023-02-19T15:48:59.471Z"
   },
   {
    "duration": 0,
    "start_time": "2023-02-19T15:48:59.472Z"
   },
   {
    "duration": 0,
    "start_time": "2023-02-19T15:48:59.474Z"
   },
   {
    "duration": 0,
    "start_time": "2023-02-19T15:48:59.475Z"
   },
   {
    "duration": 0,
    "start_time": "2023-02-19T15:48:59.476Z"
   },
   {
    "duration": 0,
    "start_time": "2023-02-19T15:48:59.477Z"
   },
   {
    "duration": 0,
    "start_time": "2023-02-19T15:48:59.478Z"
   },
   {
    "duration": 0,
    "start_time": "2023-02-19T15:48:59.479Z"
   },
   {
    "duration": 0,
    "start_time": "2023-02-19T15:48:59.480Z"
   },
   {
    "duration": 0,
    "start_time": "2023-02-19T15:48:59.482Z"
   },
   {
    "duration": 0,
    "start_time": "2023-02-19T15:48:59.483Z"
   },
   {
    "duration": 0,
    "start_time": "2023-02-19T15:48:59.484Z"
   },
   {
    "duration": 0,
    "start_time": "2023-02-19T15:48:59.486Z"
   },
   {
    "duration": 0,
    "start_time": "2023-02-19T15:48:59.487Z"
   },
   {
    "duration": 0,
    "start_time": "2023-02-19T15:48:59.487Z"
   },
   {
    "duration": 0,
    "start_time": "2023-02-19T15:48:59.488Z"
   },
   {
    "duration": 0,
    "start_time": "2023-02-19T15:48:59.490Z"
   },
   {
    "duration": 0,
    "start_time": "2023-02-19T15:48:59.492Z"
   },
   {
    "duration": 0,
    "start_time": "2023-02-19T15:48:59.493Z"
   },
   {
    "duration": 1196,
    "start_time": "2023-02-19T15:59:30.039Z"
   },
   {
    "duration": 49,
    "start_time": "2023-02-19T15:59:31.237Z"
   },
   {
    "duration": 6,
    "start_time": "2023-02-19T15:59:31.287Z"
   },
   {
    "duration": 25,
    "start_time": "2023-02-19T15:59:31.295Z"
   },
   {
    "duration": 28,
    "start_time": "2023-02-19T15:59:31.322Z"
   },
   {
    "duration": 33,
    "start_time": "2023-02-19T15:59:31.352Z"
   },
   {
    "duration": 800,
    "start_time": "2023-02-19T15:59:31.387Z"
   },
   {
    "duration": 3,
    "start_time": "2023-02-19T15:59:32.189Z"
   },
   {
    "duration": 34,
    "start_time": "2023-02-19T15:59:32.194Z"
   },
   {
    "duration": 62,
    "start_time": "2023-02-19T15:59:32.231Z"
   },
   {
    "duration": 4,
    "start_time": "2023-02-19T15:59:32.295Z"
   },
   {
    "duration": 8,
    "start_time": "2023-02-19T15:59:32.300Z"
   },
   {
    "duration": 6,
    "start_time": "2023-02-19T15:59:32.309Z"
   },
   {
    "duration": 15,
    "start_time": "2023-02-19T15:59:32.317Z"
   },
   {
    "duration": 19,
    "start_time": "2023-02-19T15:59:32.334Z"
   },
   {
    "duration": 35,
    "start_time": "2023-02-19T15:59:32.355Z"
   },
   {
    "duration": 144,
    "start_time": "2023-02-19T15:59:32.392Z"
   },
   {
    "duration": 125,
    "start_time": "2023-02-19T15:59:32.538Z"
   },
   {
    "duration": 15,
    "start_time": "2023-02-19T15:59:32.665Z"
   },
   {
    "duration": 3,
    "start_time": "2023-02-19T15:59:32.681Z"
   },
   {
    "duration": 43,
    "start_time": "2023-02-19T15:59:32.686Z"
   },
   {
    "duration": 3,
    "start_time": "2023-02-19T15:59:32.731Z"
   },
   {
    "duration": 19,
    "start_time": "2023-02-19T15:59:32.735Z"
   },
   {
    "duration": 30,
    "start_time": "2023-02-19T15:59:32.756Z"
   },
   {
    "duration": 24,
    "start_time": "2023-02-19T15:59:32.788Z"
   },
   {
    "duration": 17,
    "start_time": "2023-02-19T15:59:32.814Z"
   },
   {
    "duration": 30,
    "start_time": "2023-02-19T15:59:32.833Z"
   },
   {
    "duration": 18,
    "start_time": "2023-02-19T15:59:32.866Z"
   },
   {
    "duration": 272,
    "start_time": "2023-02-19T15:59:32.886Z"
   },
   {
    "duration": 2,
    "start_time": "2023-02-19T15:59:33.159Z"
   },
   {
    "duration": 8,
    "start_time": "2023-02-19T15:59:33.163Z"
   },
   {
    "duration": 10,
    "start_time": "2023-02-19T15:59:33.173Z"
   },
   {
    "duration": 8,
    "start_time": "2023-02-19T15:59:33.184Z"
   },
   {
    "duration": 16,
    "start_time": "2023-02-19T15:59:33.194Z"
   },
   {
    "duration": 65,
    "start_time": "2023-02-19T15:59:33.212Z"
   },
   {
    "duration": 13,
    "start_time": "2023-02-19T15:59:33.279Z"
   },
   {
    "duration": 112,
    "start_time": "2023-02-19T15:59:33.294Z"
   },
   {
    "duration": 12,
    "start_time": "2023-02-19T15:59:33.408Z"
   },
   {
    "duration": 15,
    "start_time": "2023-02-19T15:59:33.422Z"
   },
   {
    "duration": 13,
    "start_time": "2023-02-19T15:59:33.453Z"
   },
   {
    "duration": 14,
    "start_time": "2023-02-19T15:59:33.468Z"
   },
   {
    "duration": 24,
    "start_time": "2023-02-19T15:59:33.483Z"
   },
   {
    "duration": 18,
    "start_time": "2023-02-19T15:59:33.515Z"
   },
   {
    "duration": 16,
    "start_time": "2023-02-19T15:59:33.554Z"
   },
   {
    "duration": 7,
    "start_time": "2023-02-19T15:59:33.572Z"
   },
   {
    "duration": 10,
    "start_time": "2023-02-19T15:59:33.581Z"
   },
   {
    "duration": 18,
    "start_time": "2023-02-19T16:03:22.428Z"
   },
   {
    "duration": 10,
    "start_time": "2023-02-19T16:04:05.245Z"
   },
   {
    "duration": 108,
    "start_time": "2023-02-19T17:46:43.530Z"
   },
   {
    "duration": 305,
    "start_time": "2023-02-19T17:47:10.474Z"
   },
   {
    "duration": 14,
    "start_time": "2023-02-19T17:49:39.905Z"
   },
   {
    "duration": 293,
    "start_time": "2023-02-19T17:49:44.028Z"
   },
   {
    "duration": 9,
    "start_time": "2023-02-19T18:17:53.967Z"
   },
   {
    "duration": 11,
    "start_time": "2023-02-19T18:18:03.299Z"
   },
   {
    "duration": 231,
    "start_time": "2023-02-19T18:24:02.359Z"
   },
   {
    "duration": 60,
    "start_time": "2023-02-19T18:27:47.766Z"
   },
   {
    "duration": 229,
    "start_time": "2023-02-19T18:27:54.195Z"
   },
   {
    "duration": 248,
    "start_time": "2023-02-19T18:32:01.905Z"
   },
   {
    "duration": 1139,
    "start_time": "2023-02-19T20:00:28.516Z"
   },
   {
    "duration": 66,
    "start_time": "2023-02-19T20:00:29.657Z"
   },
   {
    "duration": 8,
    "start_time": "2023-02-19T20:00:29.724Z"
   },
   {
    "duration": 40,
    "start_time": "2023-02-19T20:00:29.733Z"
   },
   {
    "duration": 31,
    "start_time": "2023-02-19T20:00:29.775Z"
   },
   {
    "duration": 32,
    "start_time": "2023-02-19T20:00:29.808Z"
   },
   {
    "duration": 840,
    "start_time": "2023-02-19T20:00:29.843Z"
   },
   {
    "duration": 4,
    "start_time": "2023-02-19T20:00:30.685Z"
   },
   {
    "duration": 64,
    "start_time": "2023-02-19T20:00:30.691Z"
   },
   {
    "duration": 80,
    "start_time": "2023-02-19T20:00:30.757Z"
   },
   {
    "duration": 5,
    "start_time": "2023-02-19T20:00:30.839Z"
   },
   {
    "duration": 32,
    "start_time": "2023-02-19T20:00:30.847Z"
   },
   {
    "duration": 23,
    "start_time": "2023-02-19T20:00:30.881Z"
   },
   {
    "duration": 20,
    "start_time": "2023-02-19T20:00:30.908Z"
   },
   {
    "duration": 21,
    "start_time": "2023-02-19T20:00:30.930Z"
   },
   {
    "duration": 102,
    "start_time": "2023-02-19T20:00:30.953Z"
   },
   {
    "duration": 166,
    "start_time": "2023-02-19T20:00:31.057Z"
   },
   {
    "duration": 138,
    "start_time": "2023-02-19T20:00:31.225Z"
   },
   {
    "duration": 13,
    "start_time": "2023-02-19T20:00:31.365Z"
   },
   {
    "duration": 10,
    "start_time": "2023-02-19T20:00:31.379Z"
   },
   {
    "duration": 27,
    "start_time": "2023-02-19T20:00:31.390Z"
   },
   {
    "duration": 23,
    "start_time": "2023-02-19T20:00:31.419Z"
   },
   {
    "duration": 25,
    "start_time": "2023-02-19T20:00:31.444Z"
   },
   {
    "duration": 54,
    "start_time": "2023-02-19T20:00:31.472Z"
   },
   {
    "duration": 8,
    "start_time": "2023-02-19T20:00:31.529Z"
   },
   {
    "duration": 8,
    "start_time": "2023-02-19T20:00:31.543Z"
   },
   {
    "duration": 24,
    "start_time": "2023-02-19T20:00:31.552Z"
   },
   {
    "duration": 28,
    "start_time": "2023-02-19T20:00:31.578Z"
   },
   {
    "duration": 332,
    "start_time": "2023-02-19T20:00:31.609Z"
   },
   {
    "duration": 10,
    "start_time": "2023-02-19T20:00:31.943Z"
   },
   {
    "duration": 17,
    "start_time": "2023-02-19T20:00:31.955Z"
   },
   {
    "duration": 14,
    "start_time": "2023-02-19T20:00:31.974Z"
   },
   {
    "duration": 24,
    "start_time": "2023-02-19T20:00:31.990Z"
   },
   {
    "duration": 56,
    "start_time": "2023-02-19T20:00:32.016Z"
   },
   {
    "duration": 148,
    "start_time": "2023-02-19T20:00:32.074Z"
   },
   {
    "duration": 19,
    "start_time": "2023-02-19T20:00:32.224Z"
   },
   {
    "duration": 19,
    "start_time": "2023-02-19T20:00:32.252Z"
   },
   {
    "duration": 18,
    "start_time": "2023-02-19T20:00:32.273Z"
   },
   {
    "duration": 23,
    "start_time": "2023-02-19T20:00:32.294Z"
   },
   {
    "duration": 41,
    "start_time": "2023-02-19T20:00:32.319Z"
   },
   {
    "duration": 17,
    "start_time": "2023-02-19T20:00:32.365Z"
   },
   {
    "duration": 27,
    "start_time": "2023-02-19T20:00:32.385Z"
   },
   {
    "duration": 75,
    "start_time": "2023-02-19T20:00:32.413Z"
   },
   {
    "duration": 35,
    "start_time": "2023-02-19T20:00:32.490Z"
   },
   {
    "duration": 26,
    "start_time": "2023-02-19T20:00:32.528Z"
   },
   {
    "duration": 40,
    "start_time": "2023-02-19T20:00:32.557Z"
   },
   {
    "duration": 1238,
    "start_time": "2023-02-19T20:01:15.620Z"
   },
   {
    "duration": 51,
    "start_time": "2023-02-19T20:01:16.860Z"
   },
   {
    "duration": 6,
    "start_time": "2023-02-19T20:01:16.913Z"
   },
   {
    "duration": 23,
    "start_time": "2023-02-19T20:01:16.921Z"
   },
   {
    "duration": 22,
    "start_time": "2023-02-19T20:01:16.946Z"
   },
   {
    "duration": 27,
    "start_time": "2023-02-19T20:01:16.970Z"
   },
   {
    "duration": 927,
    "start_time": "2023-02-19T20:01:16.999Z"
   },
   {
    "duration": 5,
    "start_time": "2023-02-19T20:01:17.928Z"
   },
   {
    "duration": 45,
    "start_time": "2023-02-19T20:01:17.936Z"
   },
   {
    "duration": 75,
    "start_time": "2023-02-19T20:01:17.984Z"
   },
   {
    "duration": 4,
    "start_time": "2023-02-19T20:01:18.061Z"
   },
   {
    "duration": 10,
    "start_time": "2023-02-19T20:01:18.066Z"
   },
   {
    "duration": 6,
    "start_time": "2023-02-19T20:01:18.078Z"
   },
   {
    "duration": 10,
    "start_time": "2023-02-19T20:01:18.085Z"
   },
   {
    "duration": 5,
    "start_time": "2023-02-19T20:01:18.097Z"
   },
   {
    "duration": 73,
    "start_time": "2023-02-19T20:01:18.104Z"
   },
   {
    "duration": 144,
    "start_time": "2023-02-19T20:01:18.180Z"
   },
   {
    "duration": 127,
    "start_time": "2023-02-19T20:01:18.326Z"
   },
   {
    "duration": 12,
    "start_time": "2023-02-19T20:01:18.455Z"
   },
   {
    "duration": 4,
    "start_time": "2023-02-19T20:01:18.469Z"
   },
   {
    "duration": 17,
    "start_time": "2023-02-19T20:01:18.475Z"
   },
   {
    "duration": 2,
    "start_time": "2023-02-19T20:01:18.494Z"
   },
   {
    "duration": 14,
    "start_time": "2023-02-19T20:01:18.498Z"
   },
   {
    "duration": 57,
    "start_time": "2023-02-19T20:01:18.514Z"
   },
   {
    "duration": 7,
    "start_time": "2023-02-19T20:01:18.573Z"
   },
   {
    "duration": 4,
    "start_time": "2023-02-19T20:01:18.583Z"
   },
   {
    "duration": 7,
    "start_time": "2023-02-19T20:01:18.589Z"
   },
   {
    "duration": 3,
    "start_time": "2023-02-19T20:01:18.601Z"
   },
   {
    "duration": 296,
    "start_time": "2023-02-19T20:01:18.606Z"
   },
   {
    "duration": 3,
    "start_time": "2023-02-19T20:01:18.903Z"
   },
   {
    "duration": 5,
    "start_time": "2023-02-19T20:01:18.907Z"
   },
   {
    "duration": 4,
    "start_time": "2023-02-19T20:01:18.914Z"
   },
   {
    "duration": 8,
    "start_time": "2023-02-19T20:01:18.919Z"
   },
   {
    "duration": 31,
    "start_time": "2023-02-19T20:01:18.928Z"
   },
   {
    "duration": 37,
    "start_time": "2023-02-19T20:01:18.960Z"
   },
   {
    "duration": 12,
    "start_time": "2023-02-19T20:01:18.998Z"
   },
   {
    "duration": 115,
    "start_time": "2023-02-19T20:01:19.012Z"
   },
   {
    "duration": 17,
    "start_time": "2023-02-19T20:01:19.128Z"
   },
   {
    "duration": 12,
    "start_time": "2023-02-19T20:01:19.153Z"
   },
   {
    "duration": 14,
    "start_time": "2023-02-19T20:01:19.167Z"
   },
   {
    "duration": 16,
    "start_time": "2023-02-19T20:01:19.183Z"
   },
   {
    "duration": 17,
    "start_time": "2023-02-19T20:01:19.201Z"
   },
   {
    "duration": 41,
    "start_time": "2023-02-19T20:01:19.219Z"
   },
   {
    "duration": 16,
    "start_time": "2023-02-19T20:01:19.262Z"
   },
   {
    "duration": 8,
    "start_time": "2023-02-19T20:01:19.280Z"
   },
   {
    "duration": 10,
    "start_time": "2023-02-19T20:01:19.290Z"
   },
   {
    "duration": 1127,
    "start_time": "2023-02-19T20:04:39.281Z"
   },
   {
    "duration": 48,
    "start_time": "2023-02-19T20:04:40.410Z"
   },
   {
    "duration": 5,
    "start_time": "2023-02-19T20:04:40.460Z"
   },
   {
    "duration": 24,
    "start_time": "2023-02-19T20:04:40.467Z"
   },
   {
    "duration": 17,
    "start_time": "2023-02-19T20:04:40.493Z"
   },
   {
    "duration": 15,
    "start_time": "2023-02-19T20:04:40.511Z"
   },
   {
    "duration": 775,
    "start_time": "2023-02-19T20:04:40.528Z"
   },
   {
    "duration": 4,
    "start_time": "2023-02-19T20:04:41.305Z"
   },
   {
    "duration": 27,
    "start_time": "2023-02-19T20:04:41.310Z"
   },
   {
    "duration": 50,
    "start_time": "2023-02-19T20:04:41.352Z"
   },
   {
    "duration": 4,
    "start_time": "2023-02-19T20:04:41.403Z"
   },
   {
    "duration": 9,
    "start_time": "2023-02-19T20:04:41.408Z"
   },
   {
    "duration": 10,
    "start_time": "2023-02-19T20:04:41.418Z"
   },
   {
    "duration": 25,
    "start_time": "2023-02-19T20:04:41.429Z"
   },
   {
    "duration": 4,
    "start_time": "2023-02-19T20:04:41.456Z"
   },
   {
    "duration": 50,
    "start_time": "2023-02-19T20:04:41.462Z"
   },
   {
    "duration": 160,
    "start_time": "2023-02-19T20:04:41.514Z"
   },
   {
    "duration": 125,
    "start_time": "2023-02-19T20:04:41.676Z"
   },
   {
    "duration": 12,
    "start_time": "2023-02-19T20:04:41.803Z"
   },
   {
    "duration": 2,
    "start_time": "2023-02-19T20:04:41.818Z"
   },
   {
    "duration": 43,
    "start_time": "2023-02-19T20:04:41.822Z"
   },
   {
    "duration": 3,
    "start_time": "2023-02-19T20:04:41.867Z"
   },
   {
    "duration": 14,
    "start_time": "2023-02-19T20:04:41.872Z"
   },
   {
    "duration": 22,
    "start_time": "2023-02-19T20:04:41.887Z"
   },
   {
    "duration": 2,
    "start_time": "2023-02-19T20:04:41.911Z"
   },
   {
    "duration": 7,
    "start_time": "2023-02-19T20:04:41.915Z"
   },
   {
    "duration": 31,
    "start_time": "2023-02-19T20:04:41.924Z"
   },
   {
    "duration": 2,
    "start_time": "2023-02-19T20:04:41.959Z"
   },
   {
    "duration": 339,
    "start_time": "2023-02-19T20:04:41.963Z"
   },
   {
    "duration": 3,
    "start_time": "2023-02-19T20:04:42.303Z"
   },
   {
    "duration": 46,
    "start_time": "2023-02-19T20:04:42.307Z"
   },
   {
    "duration": 3,
    "start_time": "2023-02-19T20:04:42.355Z"
   },
   {
    "duration": 9,
    "start_time": "2023-02-19T20:04:42.360Z"
   },
   {
    "duration": 16,
    "start_time": "2023-02-19T20:04:42.370Z"
   },
   {
    "duration": 39,
    "start_time": "2023-02-19T20:04:42.387Z"
   },
   {
    "duration": 35,
    "start_time": "2023-02-19T20:04:42.428Z"
   },
   {
    "duration": 103,
    "start_time": "2023-02-19T20:04:42.465Z"
   },
   {
    "duration": 17,
    "start_time": "2023-02-19T20:04:42.570Z"
   },
   {
    "duration": 13,
    "start_time": "2023-02-19T20:04:42.589Z"
   },
   {
    "duration": 13,
    "start_time": "2023-02-19T20:04:42.603Z"
   },
   {
    "duration": 37,
    "start_time": "2023-02-19T20:04:42.617Z"
   },
   {
    "duration": 16,
    "start_time": "2023-02-19T20:04:42.656Z"
   },
   {
    "duration": 15,
    "start_time": "2023-02-19T20:04:42.674Z"
   },
   {
    "duration": 15,
    "start_time": "2023-02-19T20:04:42.690Z"
   },
   {
    "duration": 7,
    "start_time": "2023-02-19T20:04:42.707Z"
   },
   {
    "duration": 41,
    "start_time": "2023-02-19T20:04:42.715Z"
   },
   {
    "duration": 376,
    "start_time": "2023-02-19T20:59:36.110Z"
   },
   {
    "duration": 383,
    "start_time": "2023-02-19T21:00:33.763Z"
   },
   {
    "duration": 468,
    "start_time": "2023-02-19T21:19:30.242Z"
   },
   {
    "duration": 505,
    "start_time": "2023-02-19T21:20:44.243Z"
   },
   {
    "duration": 2289,
    "start_time": "2023-02-19T22:14:29.856Z"
   },
   {
    "duration": 2290,
    "start_time": "2023-02-19T22:17:02.652Z"
   },
   {
    "duration": 35,
    "start_time": "2023-02-19T22:23:14.118Z"
   },
   {
    "duration": 116,
    "start_time": "2023-02-19T22:24:12.000Z"
   },
   {
    "duration": 29,
    "start_time": "2023-02-19T22:24:28.982Z"
   },
   {
    "duration": 39,
    "start_time": "2023-02-19T22:24:34.421Z"
   },
   {
    "duration": 43,
    "start_time": "2023-02-20T07:48:55.169Z"
   },
   {
    "duration": 6,
    "start_time": "2023-02-20T07:49:18.152Z"
   },
   {
    "duration": 1257,
    "start_time": "2023-02-20T07:49:26.503Z"
   },
   {
    "duration": 90,
    "start_time": "2023-02-20T07:49:27.762Z"
   },
   {
    "duration": 5,
    "start_time": "2023-02-20T07:49:27.854Z"
   },
   {
    "duration": 22,
    "start_time": "2023-02-20T07:49:27.862Z"
   },
   {
    "duration": 16,
    "start_time": "2023-02-20T07:49:27.885Z"
   },
   {
    "duration": 15,
    "start_time": "2023-02-20T07:49:27.903Z"
   },
   {
    "duration": 724,
    "start_time": "2023-02-20T07:49:27.920Z"
   },
   {
    "duration": 4,
    "start_time": "2023-02-20T07:49:28.646Z"
   },
   {
    "duration": 29,
    "start_time": "2023-02-20T07:49:28.652Z"
   },
   {
    "duration": 64,
    "start_time": "2023-02-20T07:49:28.683Z"
   },
   {
    "duration": 4,
    "start_time": "2023-02-20T07:49:28.748Z"
   },
   {
    "duration": 7,
    "start_time": "2023-02-20T07:49:28.754Z"
   },
   {
    "duration": 7,
    "start_time": "2023-02-20T07:49:28.762Z"
   },
   {
    "duration": 8,
    "start_time": "2023-02-20T07:49:28.770Z"
   },
   {
    "duration": 4,
    "start_time": "2023-02-20T07:49:28.780Z"
   },
   {
    "duration": 54,
    "start_time": "2023-02-20T07:49:28.785Z"
   },
   {
    "duration": 134,
    "start_time": "2023-02-20T07:49:28.841Z"
   },
   {
    "duration": 115,
    "start_time": "2023-02-20T07:49:28.977Z"
   },
   {
    "duration": 10,
    "start_time": "2023-02-20T07:49:29.094Z"
   },
   {
    "duration": 2,
    "start_time": "2023-02-20T07:49:29.105Z"
   },
   {
    "duration": 34,
    "start_time": "2023-02-20T07:49:29.108Z"
   },
   {
    "duration": 2068,
    "start_time": "2023-02-20T07:49:29.143Z"
   },
   {
    "duration": 2,
    "start_time": "2023-02-20T07:49:31.213Z"
   },
   {
    "duration": 32,
    "start_time": "2023-02-20T07:49:31.217Z"
   },
   {
    "duration": 29,
    "start_time": "2023-02-20T07:49:31.251Z"
   },
   {
    "duration": 22,
    "start_time": "2023-02-20T07:49:31.282Z"
   },
   {
    "duration": 8,
    "start_time": "2023-02-20T07:49:31.306Z"
   },
   {
    "duration": 24,
    "start_time": "2023-02-20T07:49:31.317Z"
   },
   {
    "duration": 15,
    "start_time": "2023-02-20T07:49:31.342Z"
   },
   {
    "duration": 209,
    "start_time": "2023-02-20T07:49:31.359Z"
   },
   {
    "duration": 28,
    "start_time": "2023-02-20T07:49:31.570Z"
   },
   {
    "duration": 2,
    "start_time": "2023-02-20T07:49:31.599Z"
   },
   {
    "duration": 33,
    "start_time": "2023-02-20T07:49:31.603Z"
   },
   {
    "duration": 18,
    "start_time": "2023-02-20T07:49:31.637Z"
   },
   {
    "duration": 14,
    "start_time": "2023-02-20T07:49:31.656Z"
   },
   {
    "duration": 49,
    "start_time": "2023-02-20T07:49:31.671Z"
   },
   {
    "duration": 45,
    "start_time": "2023-02-20T07:49:31.722Z"
   },
   {
    "duration": 12,
    "start_time": "2023-02-20T07:49:31.769Z"
   },
   {
    "duration": 17,
    "start_time": "2023-02-20T07:49:31.782Z"
   },
   {
    "duration": 20,
    "start_time": "2023-02-20T07:49:31.800Z"
   },
   {
    "duration": 23,
    "start_time": "2023-02-20T07:49:31.821Z"
   },
   {
    "duration": 14,
    "start_time": "2023-02-20T07:49:31.846Z"
   },
   {
    "duration": 15,
    "start_time": "2023-02-20T07:49:31.861Z"
   },
   {
    "duration": 28,
    "start_time": "2023-02-20T07:49:31.877Z"
   },
   {
    "duration": 20,
    "start_time": "2023-02-20T07:49:31.906Z"
   },
   {
    "duration": 21,
    "start_time": "2023-02-20T07:49:31.927Z"
   },
   {
    "duration": 7,
    "start_time": "2023-02-20T07:49:31.950Z"
   },
   {
    "duration": 9,
    "start_time": "2023-02-20T07:49:31.959Z"
   },
   {
    "duration": 219,
    "start_time": "2023-02-20T07:57:25.612Z"
   },
   {
    "duration": 224,
    "start_time": "2023-02-20T07:57:31.100Z"
   },
   {
    "duration": 7,
    "start_time": "2023-02-20T07:59:35.397Z"
   },
   {
    "duration": 214,
    "start_time": "2023-02-20T08:00:59.988Z"
   },
   {
    "duration": 93,
    "start_time": "2023-02-20T08:01:27.960Z"
   },
   {
    "duration": 162,
    "start_time": "2023-02-20T08:01:58.957Z"
   },
   {
    "duration": 44,
    "start_time": "2023-02-20T08:02:12.908Z"
   },
   {
    "duration": 10,
    "start_time": "2023-02-20T08:05:18.193Z"
   },
   {
    "duration": 5,
    "start_time": "2023-02-20T08:09:51.012Z"
   },
   {
    "duration": 5,
    "start_time": "2023-02-20T08:10:00.713Z"
   },
   {
    "duration": 267,
    "start_time": "2023-02-20T08:20:56.018Z"
   },
   {
    "duration": 264,
    "start_time": "2023-02-20T08:21:32.068Z"
   },
   {
    "duration": 259,
    "start_time": "2023-02-20T08:21:41.219Z"
   },
   {
    "duration": 255,
    "start_time": "2023-02-20T08:21:51.616Z"
   },
   {
    "duration": 259,
    "start_time": "2023-02-20T08:21:56.896Z"
   },
   {
    "duration": 921,
    "start_time": "2023-02-20T08:23:17.127Z"
   },
   {
    "duration": 714,
    "start_time": "2023-02-20T08:24:13.469Z"
   },
   {
    "duration": 275,
    "start_time": "2023-02-20T08:41:32.910Z"
   },
   {
    "duration": 294,
    "start_time": "2023-02-20T08:44:19.509Z"
   },
   {
    "duration": 275,
    "start_time": "2023-02-20T08:44:33.691Z"
   },
   {
    "duration": 291,
    "start_time": "2023-02-20T08:46:25.667Z"
   },
   {
    "duration": 345,
    "start_time": "2023-02-20T08:46:37.922Z"
   },
   {
    "duration": 383,
    "start_time": "2023-02-20T08:48:05.885Z"
   },
   {
    "duration": 262,
    "start_time": "2023-02-20T08:52:55.227Z"
   },
   {
    "duration": 45,
    "start_time": "2023-02-20T08:54:47.586Z"
   },
   {
    "duration": 46,
    "start_time": "2023-02-20T08:55:09.763Z"
   },
   {
    "duration": 40,
    "start_time": "2023-02-20T08:55:40.559Z"
   },
   {
    "duration": 11,
    "start_time": "2023-02-20T08:56:01.281Z"
   },
   {
    "duration": 10,
    "start_time": "2023-02-20T08:56:24.928Z"
   },
   {
    "duration": 17,
    "start_time": "2023-02-20T08:56:55.981Z"
   },
   {
    "duration": 45,
    "start_time": "2023-02-20T08:57:04.908Z"
   },
   {
    "duration": 14,
    "start_time": "2023-02-20T08:57:09.572Z"
   },
   {
    "duration": 10,
    "start_time": "2023-02-20T08:59:19.668Z"
   },
   {
    "duration": 14,
    "start_time": "2023-02-20T09:00:04.173Z"
   },
   {
    "duration": 14,
    "start_time": "2023-02-20T09:00:15.708Z"
   },
   {
    "duration": 9,
    "start_time": "2023-02-20T09:00:49.766Z"
   },
   {
    "duration": 10,
    "start_time": "2023-02-20T09:01:34.107Z"
   },
   {
    "duration": 10,
    "start_time": "2023-02-20T09:03:20.816Z"
   },
   {
    "duration": 378,
    "start_time": "2023-02-20T09:25:25.291Z"
   },
   {
    "duration": 366,
    "start_time": "2023-02-20T09:25:34.615Z"
   },
   {
    "duration": 399,
    "start_time": "2023-02-20T09:26:08.951Z"
   },
   {
    "duration": 3,
    "start_time": "2023-02-20T09:27:50.488Z"
   },
   {
    "duration": 230,
    "start_time": "2023-02-20T09:27:55.455Z"
   },
   {
    "duration": 240,
    "start_time": "2023-02-20T09:28:11.750Z"
   },
   {
    "duration": 11,
    "start_time": "2023-02-20T09:29:48.793Z"
   },
   {
    "duration": 8,
    "start_time": "2023-02-20T09:30:48.011Z"
   },
   {
    "duration": 33,
    "start_time": "2023-02-20T09:34:31.415Z"
   },
   {
    "duration": 31,
    "start_time": "2023-02-20T09:34:36.391Z"
   },
   {
    "duration": 14,
    "start_time": "2023-02-20T09:37:21.387Z"
   },
   {
    "duration": 14,
    "start_time": "2023-02-20T09:42:46.526Z"
   },
   {
    "duration": 14,
    "start_time": "2023-02-20T09:43:50.563Z"
   },
   {
    "duration": 15,
    "start_time": "2023-02-20T09:44:16.515Z"
   },
   {
    "duration": 24,
    "start_time": "2023-02-20T09:44:23.568Z"
   },
   {
    "duration": 16,
    "start_time": "2023-02-20T09:44:29.212Z"
   },
   {
    "duration": 13,
    "start_time": "2023-02-20T09:45:16.270Z"
   },
   {
    "duration": 7,
    "start_time": "2023-02-20T09:51:24.251Z"
   },
   {
    "duration": 7,
    "start_time": "2023-02-20T09:51:33.453Z"
   },
   {
    "duration": 7,
    "start_time": "2023-02-20T09:51:45.289Z"
   },
   {
    "duration": 7,
    "start_time": "2023-02-20T09:51:56.498Z"
   },
   {
    "duration": 7,
    "start_time": "2023-02-20T09:52:11.952Z"
   },
   {
    "duration": 396,
    "start_time": "2023-02-20T09:54:16.189Z"
   },
   {
    "duration": 9,
    "start_time": "2023-02-20T09:55:18.077Z"
   },
   {
    "duration": 7,
    "start_time": "2023-02-20T09:57:47.531Z"
   },
   {
    "duration": 8,
    "start_time": "2023-02-20T10:11:40.578Z"
   },
   {
    "duration": 8,
    "start_time": "2023-02-20T10:24:24.583Z"
   },
   {
    "duration": 12,
    "start_time": "2023-02-20T10:24:34.662Z"
   },
   {
    "duration": 9,
    "start_time": "2023-02-20T10:25:55.968Z"
   },
   {
    "duration": 9,
    "start_time": "2023-02-20T10:26:57.666Z"
   },
   {
    "duration": 1208,
    "start_time": "2023-02-20T10:27:23.907Z"
   },
   {
    "duration": 57,
    "start_time": "2023-02-20T10:27:25.117Z"
   },
   {
    "duration": 6,
    "start_time": "2023-02-20T10:27:25.176Z"
   },
   {
    "duration": 21,
    "start_time": "2023-02-20T10:27:25.184Z"
   },
   {
    "duration": 17,
    "start_time": "2023-02-20T10:27:25.207Z"
   },
   {
    "duration": 17,
    "start_time": "2023-02-20T10:27:25.237Z"
   },
   {
    "duration": 743,
    "start_time": "2023-02-20T10:27:25.255Z"
   },
   {
    "duration": 4,
    "start_time": "2023-02-20T10:27:26.002Z"
   },
   {
    "duration": 37,
    "start_time": "2023-02-20T10:27:26.008Z"
   },
   {
    "duration": 48,
    "start_time": "2023-02-20T10:27:26.048Z"
   },
   {
    "duration": 4,
    "start_time": "2023-02-20T10:27:26.097Z"
   },
   {
    "duration": 8,
    "start_time": "2023-02-20T10:27:26.103Z"
   },
   {
    "duration": 26,
    "start_time": "2023-02-20T10:27:26.112Z"
   },
   {
    "duration": 8,
    "start_time": "2023-02-20T10:27:26.140Z"
   },
   {
    "duration": 7,
    "start_time": "2023-02-20T10:27:26.150Z"
   },
   {
    "duration": 46,
    "start_time": "2023-02-20T10:27:26.159Z"
   },
   {
    "duration": 159,
    "start_time": "2023-02-20T10:27:26.207Z"
   },
   {
    "duration": 117,
    "start_time": "2023-02-20T10:27:26.367Z"
   },
   {
    "duration": 12,
    "start_time": "2023-02-20T10:27:26.485Z"
   },
   {
    "duration": 3,
    "start_time": "2023-02-20T10:27:26.498Z"
   },
   {
    "duration": 35,
    "start_time": "2023-02-20T10:27:26.503Z"
   },
   {
    "duration": 2085,
    "start_time": "2023-02-20T10:27:26.539Z"
   },
   {
    "duration": 3,
    "start_time": "2023-02-20T10:27:28.625Z"
   },
   {
    "duration": 18,
    "start_time": "2023-02-20T10:27:28.629Z"
   },
   {
    "duration": 22,
    "start_time": "2023-02-20T10:27:28.649Z"
   },
   {
    "duration": 3,
    "start_time": "2023-02-20T10:27:28.673Z"
   },
   {
    "duration": 6,
    "start_time": "2023-02-20T10:27:28.678Z"
   },
   {
    "duration": 8,
    "start_time": "2023-02-20T10:27:28.688Z"
   },
   {
    "duration": 65,
    "start_time": "2023-02-20T10:27:28.697Z"
   },
   {
    "duration": 3,
    "start_time": "2023-02-20T10:27:28.764Z"
   },
   {
    "duration": 246,
    "start_time": "2023-02-20T10:27:28.768Z"
   },
   {
    "duration": 3,
    "start_time": "2023-02-20T10:27:29.016Z"
   },
   {
    "duration": 283,
    "start_time": "2023-02-20T10:27:29.021Z"
   },
   {
    "duration": 272,
    "start_time": "2023-02-20T10:27:29.306Z"
   },
   {
    "duration": 11,
    "start_time": "2023-02-20T10:27:29.580Z"
   },
   {
    "duration": 6,
    "start_time": "2023-02-20T10:27:29.593Z"
   },
   {
    "duration": 19,
    "start_time": "2023-02-20T10:27:29.601Z"
   },
   {
    "duration": 23,
    "start_time": "2023-02-20T10:27:29.622Z"
   },
   {
    "duration": 18,
    "start_time": "2023-02-20T10:27:29.647Z"
   },
   {
    "duration": 20,
    "start_time": "2023-02-20T10:27:29.667Z"
   },
   {
    "duration": 18,
    "start_time": "2023-02-20T10:27:29.689Z"
   },
   {
    "duration": 11,
    "start_time": "2023-02-20T10:27:29.708Z"
   },
   {
    "duration": 55,
    "start_time": "2023-02-20T10:27:29.720Z"
   },
   {
    "duration": 16,
    "start_time": "2023-02-20T10:27:29.778Z"
   },
   {
    "duration": 23,
    "start_time": "2023-02-20T10:27:29.796Z"
   },
   {
    "duration": 35,
    "start_time": "2023-02-20T10:27:29.821Z"
   },
   {
    "duration": 20,
    "start_time": "2023-02-20T10:27:29.858Z"
   },
   {
    "duration": 25,
    "start_time": "2023-02-20T10:27:29.879Z"
   },
   {
    "duration": 20,
    "start_time": "2023-02-20T10:27:29.906Z"
   },
   {
    "duration": 18,
    "start_time": "2023-02-20T10:27:29.928Z"
   },
   {
    "duration": 17,
    "start_time": "2023-02-20T10:27:29.948Z"
   },
   {
    "duration": 25,
    "start_time": "2023-02-20T10:27:29.967Z"
   },
   {
    "duration": 9,
    "start_time": "2023-02-20T10:27:29.994Z"
   },
   {
    "duration": 42,
    "start_time": "2023-02-20T10:27:30.005Z"
   },
   {
    "duration": 2446,
    "start_time": "2023-02-20T10:40:24.716Z"
   },
   {
    "duration": 18,
    "start_time": "2023-02-20T13:02:08.611Z"
   },
   {
    "duration": 6,
    "start_time": "2023-02-20T13:23:52.361Z"
   },
   {
    "duration": 13,
    "start_time": "2023-02-20T13:57:25.481Z"
   },
   {
    "duration": 118,
    "start_time": "2023-02-20T14:18:41.216Z"
   },
   {
    "duration": 13,
    "start_time": "2023-02-20T14:18:47.178Z"
   },
   {
    "duration": 34,
    "start_time": "2023-02-20T14:19:59.437Z"
   },
   {
    "duration": 18,
    "start_time": "2023-02-20T14:20:23.957Z"
   },
   {
    "duration": 21,
    "start_time": "2023-02-20T14:21:17.883Z"
   },
   {
    "duration": 12,
    "start_time": "2023-02-20T14:45:27.317Z"
   },
   {
    "duration": 15,
    "start_time": "2023-02-20T14:45:34.189Z"
   },
   {
    "duration": 10,
    "start_time": "2023-02-20T14:47:43.844Z"
   },
   {
    "duration": 10,
    "start_time": "2023-02-20T14:47:51.576Z"
   },
   {
    "duration": 1179,
    "start_time": "2023-02-20T14:48:02.303Z"
   },
   {
    "duration": 47,
    "start_time": "2023-02-20T14:48:03.484Z"
   },
   {
    "duration": 21,
    "start_time": "2023-02-20T14:48:03.532Z"
   },
   {
    "duration": 16,
    "start_time": "2023-02-20T14:48:03.555Z"
   },
   {
    "duration": 18,
    "start_time": "2023-02-20T14:48:03.573Z"
   },
   {
    "duration": 740,
    "start_time": "2023-02-20T14:48:03.593Z"
   },
   {
    "duration": 4,
    "start_time": "2023-02-20T14:48:04.336Z"
   },
   {
    "duration": 47,
    "start_time": "2023-02-20T14:48:04.342Z"
   },
   {
    "duration": 64,
    "start_time": "2023-02-20T14:48:04.391Z"
   },
   {
    "duration": 4,
    "start_time": "2023-02-20T14:48:04.457Z"
   },
   {
    "duration": 8,
    "start_time": "2023-02-20T14:48:04.463Z"
   },
   {
    "duration": 7,
    "start_time": "2023-02-20T14:48:04.472Z"
   },
   {
    "duration": 8,
    "start_time": "2023-02-20T14:48:04.481Z"
   },
   {
    "duration": 4,
    "start_time": "2023-02-20T14:48:04.492Z"
   },
   {
    "duration": 58,
    "start_time": "2023-02-20T14:48:04.498Z"
   },
   {
    "duration": 193,
    "start_time": "2023-02-20T14:48:04.559Z"
   },
   {
    "duration": 159,
    "start_time": "2023-02-20T14:48:04.754Z"
   },
   {
    "duration": 13,
    "start_time": "2023-02-20T14:48:04.914Z"
   },
   {
    "duration": 3,
    "start_time": "2023-02-20T14:48:04.937Z"
   },
   {
    "duration": 24,
    "start_time": "2023-02-20T14:48:04.942Z"
   },
   {
    "duration": 2313,
    "start_time": "2023-02-20T14:48:04.969Z"
   },
   {
    "duration": 4,
    "start_time": "2023-02-20T14:48:07.284Z"
   },
   {
    "duration": 17,
    "start_time": "2023-02-20T14:48:07.290Z"
   },
   {
    "duration": 32,
    "start_time": "2023-02-20T14:48:07.309Z"
   },
   {
    "duration": 7,
    "start_time": "2023-02-20T14:48:07.343Z"
   },
   {
    "duration": 22,
    "start_time": "2023-02-20T14:48:07.351Z"
   },
   {
    "duration": 8,
    "start_time": "2023-02-20T14:48:07.374Z"
   },
   {
    "duration": 40,
    "start_time": "2023-02-20T14:48:07.383Z"
   },
   {
    "duration": 3,
    "start_time": "2023-02-20T14:48:07.425Z"
   },
   {
    "duration": 379,
    "start_time": "2023-02-20T14:48:07.430Z"
   },
   {
    "duration": 4,
    "start_time": "2023-02-20T14:48:07.812Z"
   },
   {
    "duration": 478,
    "start_time": "2023-02-20T14:48:07.818Z"
   },
   {
    "duration": 409,
    "start_time": "2023-02-20T14:48:08.299Z"
   },
   {
    "duration": 11,
    "start_time": "2023-02-20T14:48:08.710Z"
   },
   {
    "duration": 3,
    "start_time": "2023-02-20T14:48:08.737Z"
   },
   {
    "duration": 16,
    "start_time": "2023-02-20T14:48:08.742Z"
   },
   {
    "duration": 19,
    "start_time": "2023-02-20T14:48:08.760Z"
   },
   {
    "duration": 35,
    "start_time": "2023-02-20T14:48:08.782Z"
   },
   {
    "duration": 17,
    "start_time": "2023-02-20T14:48:08.820Z"
   },
   {
    "duration": 7,
    "start_time": "2023-02-20T14:48:08.842Z"
   },
   {
    "duration": 15,
    "start_time": "2023-02-20T14:48:08.855Z"
   },
   {
    "duration": 10,
    "start_time": "2023-02-20T14:48:08.872Z"
   },
   {
    "duration": 177,
    "start_time": "2023-02-20T14:48:08.884Z"
   },
   {
    "duration": 14,
    "start_time": "2023-02-20T14:48:09.063Z"
   },
   {
    "duration": 19,
    "start_time": "2023-02-20T14:48:09.079Z"
   },
   {
    "duration": 16,
    "start_time": "2023-02-20T14:48:09.100Z"
   },
   {
    "duration": 53,
    "start_time": "2023-02-20T14:48:09.118Z"
   },
   {
    "duration": 17,
    "start_time": "2023-02-20T14:48:09.173Z"
   },
   {
    "duration": 16,
    "start_time": "2023-02-20T14:48:09.192Z"
   },
   {
    "duration": 22,
    "start_time": "2023-02-20T14:48:09.210Z"
   },
   {
    "duration": 152,
    "start_time": "2023-02-20T14:48:09.234Z"
   },
   {
    "duration": 12,
    "start_time": "2023-02-20T14:48:09.388Z"
   },
   {
    "duration": 11,
    "start_time": "2023-02-20T14:48:09.402Z"
   },
   {
    "duration": 29,
    "start_time": "2023-02-20T14:48:09.415Z"
   },
   {
    "duration": 49,
    "start_time": "2023-02-20T14:48:09.446Z"
   },
   {
    "duration": 1109,
    "start_time": "2023-02-20T14:48:19.478Z"
   },
   {
    "duration": 49,
    "start_time": "2023-02-20T14:48:20.589Z"
   },
   {
    "duration": 29,
    "start_time": "2023-02-20T14:48:20.642Z"
   },
   {
    "duration": 17,
    "start_time": "2023-02-20T14:48:20.672Z"
   },
   {
    "duration": 28,
    "start_time": "2023-02-20T14:48:20.691Z"
   },
   {
    "duration": 736,
    "start_time": "2023-02-20T14:48:20.738Z"
   },
   {
    "duration": 4,
    "start_time": "2023-02-20T14:48:21.476Z"
   },
   {
    "duration": 49,
    "start_time": "2023-02-20T14:48:21.481Z"
   },
   {
    "duration": 80,
    "start_time": "2023-02-20T14:48:21.533Z"
   },
   {
    "duration": 5,
    "start_time": "2023-02-20T14:48:21.615Z"
   },
   {
    "duration": 5,
    "start_time": "2023-02-20T14:48:21.637Z"
   },
   {
    "duration": 14,
    "start_time": "2023-02-20T14:48:21.644Z"
   },
   {
    "duration": 15,
    "start_time": "2023-02-20T14:48:21.659Z"
   },
   {
    "duration": 7,
    "start_time": "2023-02-20T14:48:21.676Z"
   },
   {
    "duration": 50,
    "start_time": "2023-02-20T14:48:21.685Z"
   },
   {
    "duration": 159,
    "start_time": "2023-02-20T14:48:21.738Z"
   },
   {
    "duration": 125,
    "start_time": "2023-02-20T14:48:21.899Z"
   },
   {
    "duration": 24,
    "start_time": "2023-02-20T14:48:22.025Z"
   },
   {
    "duration": 3,
    "start_time": "2023-02-20T14:48:22.051Z"
   },
   {
    "duration": 48,
    "start_time": "2023-02-20T14:48:22.056Z"
   },
   {
    "duration": 2392,
    "start_time": "2023-02-20T14:48:22.106Z"
   },
   {
    "duration": 3,
    "start_time": "2023-02-20T14:48:24.500Z"
   },
   {
    "duration": 29,
    "start_time": "2023-02-20T14:48:24.504Z"
   },
   {
    "duration": 24,
    "start_time": "2023-02-20T14:48:24.537Z"
   },
   {
    "duration": 3,
    "start_time": "2023-02-20T14:48:24.563Z"
   },
   {
    "duration": 6,
    "start_time": "2023-02-20T14:48:24.568Z"
   },
   {
    "duration": 9,
    "start_time": "2023-02-20T14:48:24.577Z"
   },
   {
    "duration": 61,
    "start_time": "2023-02-20T14:48:24.590Z"
   },
   {
    "duration": 3,
    "start_time": "2023-02-20T14:48:24.653Z"
   },
   {
    "duration": 259,
    "start_time": "2023-02-20T14:48:24.658Z"
   },
   {
    "duration": 2,
    "start_time": "2023-02-20T14:48:24.919Z"
   },
   {
    "duration": 329,
    "start_time": "2023-02-20T14:48:24.927Z"
   },
   {
    "duration": 300,
    "start_time": "2023-02-20T14:48:25.259Z"
   },
   {
    "duration": 11,
    "start_time": "2023-02-20T14:48:25.561Z"
   },
   {
    "duration": 11,
    "start_time": "2023-02-20T14:48:25.574Z"
   },
   {
    "duration": 21,
    "start_time": "2023-02-20T14:48:25.587Z"
   },
   {
    "duration": 19,
    "start_time": "2023-02-20T14:48:25.610Z"
   },
   {
    "duration": 24,
    "start_time": "2023-02-20T14:48:25.631Z"
   },
   {
    "duration": 11,
    "start_time": "2023-02-20T14:48:25.656Z"
   },
   {
    "duration": 17,
    "start_time": "2023-02-20T14:48:25.669Z"
   },
   {
    "duration": 24,
    "start_time": "2023-02-20T14:48:25.688Z"
   },
   {
    "duration": 17,
    "start_time": "2023-02-20T14:48:25.713Z"
   },
   {
    "duration": 173,
    "start_time": "2023-02-20T14:48:25.733Z"
   },
   {
    "duration": 14,
    "start_time": "2023-02-20T14:48:25.908Z"
   },
   {
    "duration": 32,
    "start_time": "2023-02-20T14:48:25.924Z"
   },
   {
    "duration": 27,
    "start_time": "2023-02-20T14:48:25.958Z"
   },
   {
    "duration": 33,
    "start_time": "2023-02-20T14:48:25.988Z"
   },
   {
    "duration": 25,
    "start_time": "2023-02-20T14:48:26.024Z"
   },
   {
    "duration": 18,
    "start_time": "2023-02-20T14:48:26.051Z"
   },
   {
    "duration": 23,
    "start_time": "2023-02-20T14:48:26.071Z"
   },
   {
    "duration": 149,
    "start_time": "2023-02-20T14:48:26.096Z"
   },
   {
    "duration": 21,
    "start_time": "2023-02-20T14:48:26.247Z"
   },
   {
    "duration": 10,
    "start_time": "2023-02-20T14:48:26.269Z"
   },
   {
    "duration": 18,
    "start_time": "2023-02-20T14:48:26.281Z"
   },
   {
    "duration": 110,
    "start_time": "2023-02-20T14:48:54.849Z"
   },
   {
    "duration": 144,
    "start_time": "2023-02-20T14:49:01.121Z"
   },
   {
    "duration": 10,
    "start_time": "2023-02-20T14:49:27.922Z"
   },
   {
    "duration": 10,
    "start_time": "2023-02-20T14:49:34.220Z"
   },
   {
    "duration": 16,
    "start_time": "2023-02-20T14:49:46.010Z"
   },
   {
    "duration": 22,
    "start_time": "2023-02-20T14:51:12.177Z"
   },
   {
    "duration": 135,
    "start_time": "2023-02-20T14:51:20.581Z"
   },
   {
    "duration": 166,
    "start_time": "2023-02-20T14:51:39.947Z"
   },
   {
    "duration": 200,
    "start_time": "2023-02-20T14:52:13.237Z"
   },
   {
    "duration": 162,
    "start_time": "2023-02-20T14:52:20.832Z"
   },
   {
    "duration": 22,
    "start_time": "2023-02-20T14:52:40.944Z"
   },
   {
    "duration": 157,
    "start_time": "2023-02-20T14:52:49.179Z"
   },
   {
    "duration": 166,
    "start_time": "2023-02-20T14:53:00.811Z"
   },
   {
    "duration": 202,
    "start_time": "2023-02-20T14:53:18.255Z"
   },
   {
    "duration": 233,
    "start_time": "2023-02-20T14:53:24.739Z"
   },
   {
    "duration": 18,
    "start_time": "2023-02-20T14:53:42.889Z"
   },
   {
    "duration": 162,
    "start_time": "2023-02-20T14:53:48.114Z"
   },
   {
    "duration": 151,
    "start_time": "2023-02-20T14:54:06.793Z"
   },
   {
    "duration": 202,
    "start_time": "2023-02-20T14:54:41.477Z"
   },
   {
    "duration": 17,
    "start_time": "2023-02-20T14:54:59.537Z"
   },
   {
    "duration": 308,
    "start_time": "2023-02-20T14:55:13.645Z"
   },
   {
    "duration": 206,
    "start_time": "2023-02-20T14:55:26.184Z"
   },
   {
    "duration": 188,
    "start_time": "2023-02-20T14:55:54.577Z"
   },
   {
    "duration": 17,
    "start_time": "2023-02-20T14:57:03.408Z"
   },
   {
    "duration": 17,
    "start_time": "2023-02-20T14:57:21.576Z"
   },
   {
    "duration": 16,
    "start_time": "2023-02-20T15:45:15.027Z"
   },
   {
    "duration": 202,
    "start_time": "2023-02-20T15:45:26.872Z"
   },
   {
    "duration": 141,
    "start_time": "2023-02-20T15:46:46.287Z"
   },
   {
    "duration": 205,
    "start_time": "2023-02-20T15:47:00.334Z"
   },
   {
    "duration": 13,
    "start_time": "2023-02-20T15:54:13.850Z"
   },
   {
    "duration": 56,
    "start_time": "2023-02-20T20:44:15.837Z"
   },
   {
    "duration": 14,
    "start_time": "2023-02-20T20:46:57.100Z"
   },
   {
    "duration": 12,
    "start_time": "2023-02-20T20:47:17.423Z"
   },
   {
    "duration": 347,
    "start_time": "2023-02-20T20:48:47.356Z"
   },
   {
    "duration": 1221,
    "start_time": "2023-02-20T20:50:01.323Z"
   },
   {
    "duration": 74,
    "start_time": "2023-02-20T20:50:02.546Z"
   },
   {
    "duration": 34,
    "start_time": "2023-02-20T20:50:02.622Z"
   },
   {
    "duration": 29,
    "start_time": "2023-02-20T20:50:02.659Z"
   },
   {
    "duration": 17,
    "start_time": "2023-02-20T20:50:02.691Z"
   },
   {
    "duration": 847,
    "start_time": "2023-02-20T20:50:02.710Z"
   },
   {
    "duration": 5,
    "start_time": "2023-02-20T20:50:03.558Z"
   },
   {
    "duration": 34,
    "start_time": "2023-02-20T20:50:03.564Z"
   },
   {
    "duration": 83,
    "start_time": "2023-02-20T20:50:03.601Z"
   },
   {
    "duration": 4,
    "start_time": "2023-02-20T20:50:03.687Z"
   },
   {
    "duration": 7,
    "start_time": "2023-02-20T20:50:03.692Z"
   },
   {
    "duration": 9,
    "start_time": "2023-02-20T20:50:03.700Z"
   },
   {
    "duration": 6,
    "start_time": "2023-02-20T20:50:03.710Z"
   },
   {
    "duration": 24,
    "start_time": "2023-02-20T20:50:03.718Z"
   },
   {
    "duration": 34,
    "start_time": "2023-02-20T20:50:03.749Z"
   },
   {
    "duration": 157,
    "start_time": "2023-02-20T20:50:03.785Z"
   },
   {
    "duration": 113,
    "start_time": "2023-02-20T20:50:03.948Z"
   },
   {
    "duration": 12,
    "start_time": "2023-02-20T20:50:04.063Z"
   },
   {
    "duration": 15,
    "start_time": "2023-02-20T20:50:04.077Z"
   },
   {
    "duration": 2397,
    "start_time": "2023-02-20T20:50:04.094Z"
   },
   {
    "duration": 13,
    "start_time": "2023-02-20T20:50:06.494Z"
   },
   {
    "duration": 30,
    "start_time": "2023-02-20T20:50:06.509Z"
   },
   {
    "duration": 26,
    "start_time": "2023-02-20T20:50:06.541Z"
   },
   {
    "duration": 39,
    "start_time": "2023-02-20T20:50:06.569Z"
   },
   {
    "duration": 249,
    "start_time": "2023-02-20T20:50:06.610Z"
   },
   {
    "duration": 312,
    "start_time": "2023-02-20T20:50:06.861Z"
   },
   {
    "duration": 296,
    "start_time": "2023-02-20T20:50:07.175Z"
   },
   {
    "duration": 13,
    "start_time": "2023-02-20T20:50:07.475Z"
   },
   {
    "duration": 10,
    "start_time": "2023-02-20T20:50:07.491Z"
   },
   {
    "duration": 13,
    "start_time": "2023-02-20T20:50:07.502Z"
   },
   {
    "duration": 38,
    "start_time": "2023-02-20T20:50:07.517Z"
   },
   {
    "duration": 14,
    "start_time": "2023-02-20T20:50:07.559Z"
   },
   {
    "duration": 212,
    "start_time": "2023-02-20T20:50:07.575Z"
   },
   {
    "duration": 11,
    "start_time": "2023-02-20T20:50:07.788Z"
   },
   {
    "duration": 357,
    "start_time": "2023-02-20T20:50:07.801Z"
   },
   {
    "duration": 18,
    "start_time": "2023-02-20T20:50:08.162Z"
   },
   {
    "duration": 16,
    "start_time": "2023-02-20T20:50:08.182Z"
   },
   {
    "duration": 13,
    "start_time": "2023-02-20T20:50:08.200Z"
   },
   {
    "duration": 35,
    "start_time": "2023-02-20T20:50:08.215Z"
   },
   {
    "duration": 13,
    "start_time": "2023-02-20T20:50:08.253Z"
   },
   {
    "duration": 24,
    "start_time": "2023-02-20T20:50:08.268Z"
   },
   {
    "duration": 19,
    "start_time": "2023-02-20T20:50:08.294Z"
   },
   {
    "duration": 67,
    "start_time": "2023-02-20T20:50:08.315Z"
   },
   {
    "duration": 0,
    "start_time": "2023-02-20T20:50:08.384Z"
   },
   {
    "duration": 0,
    "start_time": "2023-02-20T20:50:08.386Z"
   },
   {
    "duration": 0,
    "start_time": "2023-02-20T20:50:08.388Z"
   },
   {
    "duration": 0,
    "start_time": "2023-02-20T20:50:08.389Z"
   },
   {
    "duration": 0,
    "start_time": "2023-02-20T20:50:08.390Z"
   },
   {
    "duration": 0,
    "start_time": "2023-02-20T20:50:08.392Z"
   },
   {
    "duration": 1231,
    "start_time": "2023-02-20T20:52:13.065Z"
   },
   {
    "duration": 50,
    "start_time": "2023-02-20T20:52:14.299Z"
   },
   {
    "duration": 24,
    "start_time": "2023-02-20T20:52:14.351Z"
   },
   {
    "duration": 18,
    "start_time": "2023-02-20T20:52:14.377Z"
   },
   {
    "duration": 15,
    "start_time": "2023-02-20T20:52:14.397Z"
   },
   {
    "duration": 796,
    "start_time": "2023-02-20T20:52:14.414Z"
   },
   {
    "duration": 3,
    "start_time": "2023-02-20T20:52:15.212Z"
   },
   {
    "duration": 40,
    "start_time": "2023-02-20T20:52:15.216Z"
   },
   {
    "duration": 49,
    "start_time": "2023-02-20T20:52:15.257Z"
   },
   {
    "duration": 4,
    "start_time": "2023-02-20T20:52:15.307Z"
   },
   {
    "duration": 7,
    "start_time": "2023-02-20T20:52:15.312Z"
   },
   {
    "duration": 29,
    "start_time": "2023-02-20T20:52:15.320Z"
   },
   {
    "duration": 7,
    "start_time": "2023-02-20T20:52:15.351Z"
   },
   {
    "duration": 5,
    "start_time": "2023-02-20T20:52:15.361Z"
   },
   {
    "duration": 24,
    "start_time": "2023-02-20T20:52:15.367Z"
   },
   {
    "duration": 150,
    "start_time": "2023-02-20T20:52:15.393Z"
   },
   {
    "duration": 126,
    "start_time": "2023-02-20T20:52:15.545Z"
   },
   {
    "duration": 13,
    "start_time": "2023-02-20T20:52:15.673Z"
   },
   {
    "duration": 15,
    "start_time": "2023-02-20T20:52:15.688Z"
   },
   {
    "duration": 2224,
    "start_time": "2023-02-20T20:52:15.705Z"
   },
   {
    "duration": 23,
    "start_time": "2023-02-20T20:52:17.930Z"
   },
   {
    "duration": 20,
    "start_time": "2023-02-20T20:52:17.955Z"
   },
   {
    "duration": 8,
    "start_time": "2023-02-20T20:52:17.977Z"
   },
   {
    "duration": 31,
    "start_time": "2023-02-20T20:52:17.986Z"
   },
   {
    "duration": 231,
    "start_time": "2023-02-20T20:52:18.019Z"
   },
   {
    "duration": 298,
    "start_time": "2023-02-20T20:52:18.252Z"
   },
   {
    "duration": 294,
    "start_time": "2023-02-20T20:52:18.551Z"
   },
   {
    "duration": 11,
    "start_time": "2023-02-20T20:52:18.847Z"
   },
   {
    "duration": 12,
    "start_time": "2023-02-20T20:52:18.859Z"
   },
   {
    "duration": 10,
    "start_time": "2023-02-20T20:52:18.872Z"
   },
   {
    "duration": 10,
    "start_time": "2023-02-20T20:52:18.884Z"
   },
   {
    "duration": 10,
    "start_time": "2023-02-20T20:52:18.895Z"
   },
   {
    "duration": 221,
    "start_time": "2023-02-20T20:52:18.907Z"
   },
   {
    "duration": 22,
    "start_time": "2023-02-20T20:52:19.130Z"
   },
   {
    "duration": 299,
    "start_time": "2023-02-20T20:52:19.153Z"
   },
   {
    "duration": 15,
    "start_time": "2023-02-20T20:52:19.455Z"
   },
   {
    "duration": 21,
    "start_time": "2023-02-20T20:52:19.471Z"
   },
   {
    "duration": 12,
    "start_time": "2023-02-20T20:52:19.493Z"
   },
   {
    "duration": 13,
    "start_time": "2023-02-20T20:52:19.507Z"
   },
   {
    "duration": 28,
    "start_time": "2023-02-20T20:52:19.536Z"
   },
   {
    "duration": 14,
    "start_time": "2023-02-20T20:52:19.568Z"
   },
   {
    "duration": 14,
    "start_time": "2023-02-20T20:52:19.584Z"
   },
   {
    "duration": 51,
    "start_time": "2023-02-20T20:52:19.599Z"
   },
   {
    "duration": 0,
    "start_time": "2023-02-20T20:52:19.651Z"
   },
   {
    "duration": 0,
    "start_time": "2023-02-20T20:52:19.653Z"
   },
   {
    "duration": 0,
    "start_time": "2023-02-20T20:52:19.654Z"
   },
   {
    "duration": 0,
    "start_time": "2023-02-20T20:52:19.655Z"
   },
   {
    "duration": 0,
    "start_time": "2023-02-20T20:52:19.656Z"
   },
   {
    "duration": 0,
    "start_time": "2023-02-20T20:52:19.657Z"
   },
   {
    "duration": 49,
    "start_time": "2023-02-20T21:01:57.181Z"
   },
   {
    "duration": 1062,
    "start_time": "2023-02-20T21:02:59.483Z"
   },
   {
    "duration": 47,
    "start_time": "2023-02-20T21:03:00.547Z"
   },
   {
    "duration": 20,
    "start_time": "2023-02-20T21:03:00.596Z"
   },
   {
    "duration": 25,
    "start_time": "2023-02-20T21:03:00.618Z"
   },
   {
    "duration": 31,
    "start_time": "2023-02-20T21:03:00.645Z"
   },
   {
    "duration": 731,
    "start_time": "2023-02-20T21:03:00.678Z"
   },
   {
    "duration": 4,
    "start_time": "2023-02-20T21:03:01.411Z"
   },
   {
    "duration": 57,
    "start_time": "2023-02-20T21:03:01.417Z"
   },
   {
    "duration": 48,
    "start_time": "2023-02-20T21:03:01.475Z"
   },
   {
    "duration": 3,
    "start_time": "2023-02-20T21:03:01.525Z"
   },
   {
    "duration": 27,
    "start_time": "2023-02-20T21:03:01.530Z"
   },
   {
    "duration": 14,
    "start_time": "2023-02-20T21:03:01.558Z"
   },
   {
    "duration": 19,
    "start_time": "2023-02-20T21:03:01.573Z"
   },
   {
    "duration": 7,
    "start_time": "2023-02-20T21:03:01.594Z"
   },
   {
    "duration": 22,
    "start_time": "2023-02-20T21:03:01.603Z"
   },
   {
    "duration": 138,
    "start_time": "2023-02-20T21:03:01.627Z"
   },
   {
    "duration": 121,
    "start_time": "2023-02-20T21:03:01.766Z"
   },
   {
    "duration": 11,
    "start_time": "2023-02-20T21:03:01.889Z"
   },
   {
    "duration": 14,
    "start_time": "2023-02-20T21:03:01.902Z"
   },
   {
    "duration": 2134,
    "start_time": "2023-02-20T21:03:01.918Z"
   },
   {
    "duration": 11,
    "start_time": "2023-02-20T21:03:04.054Z"
   },
   {
    "duration": 21,
    "start_time": "2023-02-20T21:03:04.066Z"
   },
   {
    "duration": 4,
    "start_time": "2023-02-20T21:03:04.088Z"
   },
   {
    "duration": 56,
    "start_time": "2023-02-20T21:03:04.093Z"
   },
   {
    "duration": 202,
    "start_time": "2023-02-20T21:03:04.151Z"
   },
   {
    "duration": 311,
    "start_time": "2023-02-20T21:03:04.355Z"
   },
   {
    "duration": 261,
    "start_time": "2023-02-20T21:03:04.667Z"
   },
   {
    "duration": 10,
    "start_time": "2023-02-20T21:03:04.937Z"
   },
   {
    "duration": 18,
    "start_time": "2023-02-20T21:03:04.948Z"
   },
   {
    "duration": 13,
    "start_time": "2023-02-20T21:03:04.967Z"
   },
   {
    "duration": 14,
    "start_time": "2023-02-20T21:03:04.981Z"
   },
   {
    "duration": 14,
    "start_time": "2023-02-20T21:03:04.997Z"
   },
   {
    "duration": 204,
    "start_time": "2023-02-20T21:03:05.013Z"
   },
   {
    "duration": 12,
    "start_time": "2023-02-20T21:03:05.218Z"
   },
   {
    "duration": 287,
    "start_time": "2023-02-20T21:03:05.237Z"
   },
   {
    "duration": 17,
    "start_time": "2023-02-20T21:03:05.526Z"
   },
   {
    "duration": 14,
    "start_time": "2023-02-20T21:03:05.545Z"
   },
   {
    "duration": 13,
    "start_time": "2023-02-20T21:03:05.560Z"
   },
   {
    "duration": 14,
    "start_time": "2023-02-20T21:03:05.574Z"
   },
   {
    "duration": 19,
    "start_time": "2023-02-20T21:03:05.590Z"
   },
   {
    "duration": 34,
    "start_time": "2023-02-20T21:03:05.611Z"
   },
   {
    "duration": 15,
    "start_time": "2023-02-20T21:03:05.647Z"
   },
   {
    "duration": 44,
    "start_time": "2023-02-20T21:03:05.664Z"
   },
   {
    "duration": 0,
    "start_time": "2023-02-20T21:03:05.710Z"
   },
   {
    "duration": 0,
    "start_time": "2023-02-20T21:03:05.711Z"
   },
   {
    "duration": 0,
    "start_time": "2023-02-20T21:03:05.712Z"
   },
   {
    "duration": 0,
    "start_time": "2023-02-20T21:03:05.713Z"
   },
   {
    "duration": 0,
    "start_time": "2023-02-20T21:03:05.714Z"
   },
   {
    "duration": 1069,
    "start_time": "2023-02-20T21:06:01.889Z"
   },
   {
    "duration": 47,
    "start_time": "2023-02-20T21:06:02.960Z"
   },
   {
    "duration": 20,
    "start_time": "2023-02-20T21:06:03.008Z"
   },
   {
    "duration": 16,
    "start_time": "2023-02-20T21:06:03.031Z"
   },
   {
    "duration": 15,
    "start_time": "2023-02-20T21:06:03.048Z"
   },
   {
    "duration": 682,
    "start_time": "2023-02-20T21:06:03.065Z"
   },
   {
    "duration": 3,
    "start_time": "2023-02-20T21:06:03.749Z"
   },
   {
    "duration": 29,
    "start_time": "2023-02-20T21:06:03.754Z"
   },
   {
    "duration": 55,
    "start_time": "2023-02-20T21:06:03.785Z"
   },
   {
    "duration": 3,
    "start_time": "2023-02-20T21:06:03.842Z"
   },
   {
    "duration": 8,
    "start_time": "2023-02-20T21:06:03.847Z"
   },
   {
    "duration": 7,
    "start_time": "2023-02-20T21:06:03.857Z"
   },
   {
    "duration": 8,
    "start_time": "2023-02-20T21:06:03.865Z"
   },
   {
    "duration": 5,
    "start_time": "2023-02-20T21:06:03.874Z"
   },
   {
    "duration": 20,
    "start_time": "2023-02-20T21:06:03.881Z"
   },
   {
    "duration": 140,
    "start_time": "2023-02-20T21:06:03.903Z"
   },
   {
    "duration": 121,
    "start_time": "2023-02-20T21:06:04.045Z"
   },
   {
    "duration": 9,
    "start_time": "2023-02-20T21:06:04.168Z"
   },
   {
    "duration": 16,
    "start_time": "2023-02-20T21:06:04.179Z"
   },
   {
    "duration": 2092,
    "start_time": "2023-02-20T21:06:04.197Z"
   },
   {
    "duration": 13,
    "start_time": "2023-02-20T21:06:06.290Z"
   },
   {
    "duration": 22,
    "start_time": "2023-02-20T21:06:06.305Z"
   },
   {
    "duration": 4,
    "start_time": "2023-02-20T21:06:06.336Z"
   },
   {
    "duration": 32,
    "start_time": "2023-02-20T21:06:06.342Z"
   },
   {
    "duration": 211,
    "start_time": "2023-02-20T21:06:06.376Z"
   },
   {
    "duration": 282,
    "start_time": "2023-02-20T21:06:06.589Z"
   },
   {
    "duration": 266,
    "start_time": "2023-02-20T21:06:06.872Z"
   },
   {
    "duration": 9,
    "start_time": "2023-02-20T21:06:07.141Z"
   },
   {
    "duration": 14,
    "start_time": "2023-02-20T21:06:07.152Z"
   },
   {
    "duration": 14,
    "start_time": "2023-02-20T21:06:07.168Z"
   },
   {
    "duration": 10,
    "start_time": "2023-02-20T21:06:07.184Z"
   },
   {
    "duration": 10,
    "start_time": "2023-02-20T21:06:07.196Z"
   },
   {
    "duration": 198,
    "start_time": "2023-02-20T21:06:07.208Z"
   },
   {
    "duration": 11,
    "start_time": "2023-02-20T21:06:07.408Z"
   },
   {
    "duration": 294,
    "start_time": "2023-02-20T21:06:07.420Z"
   },
   {
    "duration": 13,
    "start_time": "2023-02-20T21:06:07.716Z"
   },
   {
    "duration": 12,
    "start_time": "2023-02-20T21:06:07.736Z"
   },
   {
    "duration": 11,
    "start_time": "2023-02-20T21:06:07.750Z"
   },
   {
    "duration": 14,
    "start_time": "2023-02-20T21:06:07.763Z"
   },
   {
    "duration": 19,
    "start_time": "2023-02-20T21:06:07.778Z"
   },
   {
    "duration": 14,
    "start_time": "2023-02-20T21:06:07.799Z"
   },
   {
    "duration": 31,
    "start_time": "2023-02-20T21:06:07.815Z"
   },
   {
    "duration": 11,
    "start_time": "2023-02-20T21:06:07.848Z"
   },
   {
    "duration": 15,
    "start_time": "2023-02-20T21:06:07.861Z"
   },
   {
    "duration": 15,
    "start_time": "2023-02-20T21:06:07.877Z"
   },
   {
    "duration": 6,
    "start_time": "2023-02-20T21:06:07.894Z"
   },
   {
    "duration": 10,
    "start_time": "2023-02-20T21:06:07.901Z"
   },
   {
    "duration": 1933,
    "start_time": "2023-02-20T21:08:42.379Z"
   },
   {
    "duration": 1051,
    "start_time": "2023-02-20T21:09:10.800Z"
   },
   {
    "duration": 45,
    "start_time": "2023-02-20T21:09:11.853Z"
   },
   {
    "duration": 21,
    "start_time": "2023-02-20T21:09:11.900Z"
   },
   {
    "duration": 16,
    "start_time": "2023-02-20T21:09:11.923Z"
   },
   {
    "duration": 20,
    "start_time": "2023-02-20T21:09:11.941Z"
   },
   {
    "duration": 819,
    "start_time": "2023-02-20T21:09:11.963Z"
   },
   {
    "duration": 3,
    "start_time": "2023-02-20T21:09:12.784Z"
   },
   {
    "duration": 28,
    "start_time": "2023-02-20T21:09:12.789Z"
   },
   {
    "duration": 66,
    "start_time": "2023-02-20T21:09:12.819Z"
   },
   {
    "duration": 3,
    "start_time": "2023-02-20T21:09:12.887Z"
   },
   {
    "duration": 7,
    "start_time": "2023-02-20T21:09:12.892Z"
   },
   {
    "duration": 9,
    "start_time": "2023-02-20T21:09:12.901Z"
   },
   {
    "duration": 25,
    "start_time": "2023-02-20T21:09:12.913Z"
   },
   {
    "duration": 6,
    "start_time": "2023-02-20T21:09:12.941Z"
   },
   {
    "duration": 23,
    "start_time": "2023-02-20T21:09:12.949Z"
   },
   {
    "duration": 163,
    "start_time": "2023-02-20T21:09:12.974Z"
   },
   {
    "duration": 128,
    "start_time": "2023-02-20T21:09:13.138Z"
   },
   {
    "duration": 10,
    "start_time": "2023-02-20T21:09:13.268Z"
   },
   {
    "duration": 15,
    "start_time": "2023-02-20T21:09:13.279Z"
   },
   {
    "duration": 2250,
    "start_time": "2023-02-20T21:09:13.295Z"
   },
   {
    "duration": 12,
    "start_time": "2023-02-20T21:09:15.547Z"
   },
   {
    "duration": 22,
    "start_time": "2023-02-20T21:09:15.561Z"
   },
   {
    "duration": 10,
    "start_time": "2023-02-20T21:09:15.585Z"
   },
   {
    "duration": 53,
    "start_time": "2023-02-20T21:09:15.596Z"
   },
   {
    "duration": 236,
    "start_time": "2023-02-20T21:09:15.651Z"
   },
   {
    "duration": 329,
    "start_time": "2023-02-20T21:09:15.888Z"
   },
   {
    "duration": 268,
    "start_time": "2023-02-20T21:09:16.219Z"
   },
   {
    "duration": 9,
    "start_time": "2023-02-20T21:09:16.489Z"
   },
   {
    "duration": 12,
    "start_time": "2023-02-20T21:09:16.500Z"
   },
   {
    "duration": 24,
    "start_time": "2023-02-20T21:09:16.514Z"
   },
   {
    "duration": 9,
    "start_time": "2023-02-20T21:09:16.540Z"
   },
   {
    "duration": 10,
    "start_time": "2023-02-20T21:09:16.550Z"
   },
   {
    "duration": 201,
    "start_time": "2023-02-20T21:09:16.561Z"
   },
   {
    "duration": 12,
    "start_time": "2023-02-20T21:09:16.763Z"
   },
   {
    "duration": 292,
    "start_time": "2023-02-20T21:09:16.776Z"
   },
   {
    "duration": 13,
    "start_time": "2023-02-20T21:09:17.070Z"
   },
   {
    "duration": 14,
    "start_time": "2023-02-20T21:09:17.085Z"
   },
   {
    "duration": 13,
    "start_time": "2023-02-20T21:09:17.100Z"
   },
   {
    "duration": 32,
    "start_time": "2023-02-20T21:09:17.115Z"
   },
   {
    "duration": 16,
    "start_time": "2023-02-20T21:09:17.149Z"
   },
   {
    "duration": 17,
    "start_time": "2023-02-20T21:09:17.168Z"
   },
   {
    "duration": 14,
    "start_time": "2023-02-20T21:09:17.187Z"
   },
   {
    "duration": 18,
    "start_time": "2023-02-20T21:09:17.203Z"
   },
   {
    "duration": 25,
    "start_time": "2023-02-20T21:09:17.223Z"
   },
   {
    "duration": 13,
    "start_time": "2023-02-20T21:09:17.249Z"
   },
   {
    "duration": 7,
    "start_time": "2023-02-20T21:09:17.264Z"
   },
   {
    "duration": 7,
    "start_time": "2023-02-20T21:09:17.273Z"
   },
   {
    "duration": 1094,
    "start_time": "2023-02-21T15:30:10.740Z"
   },
   {
    "duration": 48,
    "start_time": "2023-02-21T15:30:11.836Z"
   },
   {
    "duration": 22,
    "start_time": "2023-02-21T15:30:11.886Z"
   },
   {
    "duration": 17,
    "start_time": "2023-02-21T15:30:11.910Z"
   },
   {
    "duration": 20,
    "start_time": "2023-02-21T15:30:11.929Z"
   },
   {
    "duration": 820,
    "start_time": "2023-02-21T15:30:11.951Z"
   },
   {
    "duration": 2,
    "start_time": "2023-02-21T15:30:12.773Z"
   },
   {
    "duration": 36,
    "start_time": "2023-02-21T15:30:12.777Z"
   },
   {
    "duration": 52,
    "start_time": "2023-02-21T15:30:12.815Z"
   },
   {
    "duration": 4,
    "start_time": "2023-02-21T15:30:12.869Z"
   },
   {
    "duration": 8,
    "start_time": "2023-02-21T15:30:12.874Z"
   },
   {
    "duration": 28,
    "start_time": "2023-02-21T15:30:12.884Z"
   },
   {
    "duration": 5,
    "start_time": "2023-02-21T15:30:12.914Z"
   },
   {
    "duration": 6,
    "start_time": "2023-02-21T15:30:12.922Z"
   },
   {
    "duration": 21,
    "start_time": "2023-02-21T15:30:12.929Z"
   },
   {
    "duration": 167,
    "start_time": "2023-02-21T15:30:12.952Z"
   },
   {
    "duration": 140,
    "start_time": "2023-02-21T15:30:13.120Z"
   },
   {
    "duration": 10,
    "start_time": "2023-02-21T15:30:13.261Z"
   },
   {
    "duration": 15,
    "start_time": "2023-02-21T15:30:13.273Z"
   },
   {
    "duration": 2170,
    "start_time": "2023-02-21T15:30:13.289Z"
   },
   {
    "duration": 13,
    "start_time": "2023-02-21T15:30:15.461Z"
   },
   {
    "duration": 41,
    "start_time": "2023-02-21T15:30:15.476Z"
   },
   {
    "duration": 4,
    "start_time": "2023-02-21T15:30:15.519Z"
   },
   {
    "duration": 30,
    "start_time": "2023-02-21T15:30:15.525Z"
   },
   {
    "duration": 241,
    "start_time": "2023-02-21T15:30:15.557Z"
   },
   {
    "duration": 288,
    "start_time": "2023-02-21T15:30:15.800Z"
   },
   {
    "duration": 270,
    "start_time": "2023-02-21T15:30:16.089Z"
   },
   {
    "duration": 9,
    "start_time": "2023-02-21T15:30:16.361Z"
   },
   {
    "duration": 12,
    "start_time": "2023-02-21T15:30:16.372Z"
   },
   {
    "duration": 25,
    "start_time": "2023-02-21T15:30:16.386Z"
   },
   {
    "duration": 10,
    "start_time": "2023-02-21T15:30:16.412Z"
   },
   {
    "duration": 12,
    "start_time": "2023-02-21T15:30:16.423Z"
   },
   {
    "duration": 230,
    "start_time": "2023-02-21T15:30:16.437Z"
   },
   {
    "duration": 12,
    "start_time": "2023-02-21T15:30:16.668Z"
   },
   {
    "duration": 356,
    "start_time": "2023-02-21T15:30:16.682Z"
   },
   {
    "duration": 16,
    "start_time": "2023-02-21T15:30:17.041Z"
   },
   {
    "duration": 17,
    "start_time": "2023-02-21T15:30:17.058Z"
   },
   {
    "duration": 15,
    "start_time": "2023-02-21T15:30:17.077Z"
   },
   {
    "duration": 13,
    "start_time": "2023-02-21T15:30:17.110Z"
   },
   {
    "duration": 12,
    "start_time": "2023-02-21T15:30:17.124Z"
   },
   {
    "duration": 15,
    "start_time": "2023-02-21T15:30:17.140Z"
   },
   {
    "duration": 34,
    "start_time": "2023-02-21T15:30:17.156Z"
   },
   {
    "duration": 20,
    "start_time": "2023-02-21T15:30:17.191Z"
   },
   {
    "duration": 13,
    "start_time": "2023-02-21T15:30:17.212Z"
   },
   {
    "duration": 14,
    "start_time": "2023-02-21T15:30:17.226Z"
   },
   {
    "duration": 9,
    "start_time": "2023-02-21T15:30:17.241Z"
   },
   {
    "duration": 23,
    "start_time": "2023-02-21T15:30:17.251Z"
   },
   {
    "duration": 111,
    "start_time": "2023-02-21T15:35:16.188Z"
   },
   {
    "duration": 68,
    "start_time": "2023-02-21T15:43:38.284Z"
   },
   {
    "duration": 49,
    "start_time": "2023-02-21T18:07:47.018Z"
   },
   {
    "duration": 1288,
    "start_time": "2023-02-21T18:15:48.261Z"
   },
   {
    "duration": 94,
    "start_time": "2023-02-21T18:15:49.551Z"
   },
   {
    "duration": 22,
    "start_time": "2023-02-21T18:15:49.647Z"
   },
   {
    "duration": 19,
    "start_time": "2023-02-21T18:15:49.671Z"
   },
   {
    "duration": 16,
    "start_time": "2023-02-21T18:15:49.698Z"
   },
   {
    "duration": 868,
    "start_time": "2023-02-21T18:15:49.716Z"
   },
   {
    "duration": 14,
    "start_time": "2023-02-21T18:15:50.586Z"
   },
   {
    "duration": 37,
    "start_time": "2023-02-21T18:15:50.602Z"
   },
   {
    "duration": 66,
    "start_time": "2023-02-21T18:15:50.640Z"
   },
   {
    "duration": 4,
    "start_time": "2023-02-21T18:15:50.708Z"
   },
   {
    "duration": 9,
    "start_time": "2023-02-21T18:15:50.714Z"
   },
   {
    "duration": 12,
    "start_time": "2023-02-21T18:15:50.724Z"
   },
   {
    "duration": 7,
    "start_time": "2023-02-21T18:15:50.738Z"
   },
   {
    "duration": 5,
    "start_time": "2023-02-21T18:15:50.750Z"
   },
   {
    "duration": 61,
    "start_time": "2023-02-21T18:15:50.757Z"
   },
   {
    "duration": 160,
    "start_time": "2023-02-21T18:15:50.821Z"
   },
   {
    "duration": 141,
    "start_time": "2023-02-21T18:15:50.984Z"
   },
   {
    "duration": 11,
    "start_time": "2023-02-21T18:15:51.127Z"
   },
   {
    "duration": 29,
    "start_time": "2023-02-21T18:15:51.140Z"
   },
   {
    "duration": 2434,
    "start_time": "2023-02-21T18:15:51.171Z"
   },
   {
    "duration": 14,
    "start_time": "2023-02-21T18:15:53.607Z"
   },
   {
    "duration": 23,
    "start_time": "2023-02-21T18:15:53.623Z"
   },
   {
    "duration": 5,
    "start_time": "2023-02-21T18:15:53.648Z"
   },
   {
    "duration": 76,
    "start_time": "2023-02-21T18:15:53.655Z"
   },
   {
    "duration": 271,
    "start_time": "2023-02-21T18:15:53.732Z"
   },
   {
    "duration": 353,
    "start_time": "2023-02-21T18:15:54.006Z"
   },
   {
    "duration": 328,
    "start_time": "2023-02-21T18:15:54.361Z"
   },
   {
    "duration": 17,
    "start_time": "2023-02-21T18:15:54.691Z"
   },
   {
    "duration": 21,
    "start_time": "2023-02-21T18:15:54.710Z"
   },
   {
    "duration": 31,
    "start_time": "2023-02-21T18:15:54.733Z"
   },
   {
    "duration": 20,
    "start_time": "2023-02-21T18:15:54.766Z"
   },
   {
    "duration": 24,
    "start_time": "2023-02-21T18:15:54.787Z"
   },
   {
    "duration": 242,
    "start_time": "2023-02-21T18:15:54.813Z"
   },
   {
    "duration": 15,
    "start_time": "2023-02-21T18:15:55.057Z"
   },
   {
    "duration": 381,
    "start_time": "2023-02-21T18:15:55.074Z"
   },
   {
    "duration": 15,
    "start_time": "2023-02-21T18:15:55.456Z"
   },
   {
    "duration": 46,
    "start_time": "2023-02-21T18:15:55.473Z"
   },
   {
    "duration": 13,
    "start_time": "2023-02-21T18:15:55.521Z"
   },
   {
    "duration": 31,
    "start_time": "2023-02-21T18:15:55.536Z"
   },
   {
    "duration": 24,
    "start_time": "2023-02-21T18:15:55.568Z"
   },
   {
    "duration": 23,
    "start_time": "2023-02-21T18:15:55.595Z"
   },
   {
    "duration": 21,
    "start_time": "2023-02-21T18:15:55.620Z"
   },
   {
    "duration": 19,
    "start_time": "2023-02-21T18:15:55.643Z"
   },
   {
    "duration": 23,
    "start_time": "2023-02-21T18:15:55.663Z"
   },
   {
    "duration": 28,
    "start_time": "2023-02-21T18:15:55.688Z"
   },
   {
    "duration": 25,
    "start_time": "2023-02-21T18:15:55.717Z"
   },
   {
    "duration": 24,
    "start_time": "2023-02-21T18:15:55.744Z"
   },
   {
    "duration": 255,
    "start_time": "2023-02-21T18:42:39.228Z"
   },
   {
    "duration": 245,
    "start_time": "2023-02-21T18:42:49.192Z"
   },
   {
    "duration": 285,
    "start_time": "2023-02-21T18:42:54.477Z"
   },
   {
    "duration": 237,
    "start_time": "2023-02-21T18:43:33.565Z"
   },
   {
    "duration": 336,
    "start_time": "2023-02-21T18:44:07.765Z"
   },
   {
    "duration": 332,
    "start_time": "2023-02-21T18:44:13.738Z"
   },
   {
    "duration": 234,
    "start_time": "2023-02-21T18:44:22.252Z"
   },
   {
    "duration": 357,
    "start_time": "2023-02-21T18:44:38.828Z"
   },
   {
    "duration": 272,
    "start_time": "2023-02-21T18:44:47.688Z"
   },
   {
    "duration": 38,
    "start_time": "2023-02-21T18:49:17.269Z"
   },
   {
    "duration": 31,
    "start_time": "2023-02-21T18:58:26.459Z"
   },
   {
    "duration": 32,
    "start_time": "2023-02-21T18:59:11.320Z"
   },
   {
    "duration": 32,
    "start_time": "2023-02-21T18:59:32.751Z"
   },
   {
    "duration": 31,
    "start_time": "2023-02-21T18:59:44.849Z"
   },
   {
    "duration": 30,
    "start_time": "2023-02-21T19:00:11.372Z"
   },
   {
    "duration": 33,
    "start_time": "2023-02-21T19:00:22.583Z"
   },
   {
    "duration": 30,
    "start_time": "2023-02-21T19:25:36.652Z"
   },
   {
    "duration": 42,
    "start_time": "2023-02-21T19:25:47.149Z"
   },
   {
    "duration": 29,
    "start_time": "2023-02-21T19:25:56.175Z"
   },
   {
    "duration": 16,
    "start_time": "2023-02-21T19:26:47.535Z"
   },
   {
    "duration": 34,
    "start_time": "2023-02-21T19:26:53.131Z"
   },
   {
    "duration": 21,
    "start_time": "2023-02-21T19:37:26.310Z"
   },
   {
    "duration": 60,
    "start_time": "2023-02-21T20:01:07.759Z"
   },
   {
    "duration": 1166,
    "start_time": "2023-02-21T20:25:48.504Z"
   },
   {
    "duration": 50,
    "start_time": "2023-02-21T20:25:49.672Z"
   },
   {
    "duration": 23,
    "start_time": "2023-02-21T20:25:49.723Z"
   },
   {
    "duration": 36,
    "start_time": "2023-02-21T20:25:49.748Z"
   },
   {
    "duration": 27,
    "start_time": "2023-02-21T20:25:49.786Z"
   },
   {
    "duration": 864,
    "start_time": "2023-02-21T20:25:49.815Z"
   },
   {
    "duration": 4,
    "start_time": "2023-02-21T20:25:50.680Z"
   },
   {
    "duration": 76,
    "start_time": "2023-02-21T20:25:50.686Z"
   },
   {
    "duration": 58,
    "start_time": "2023-02-21T20:25:50.763Z"
   },
   {
    "duration": 4,
    "start_time": "2023-02-21T20:25:50.824Z"
   },
   {
    "duration": 16,
    "start_time": "2023-02-21T20:25:50.830Z"
   },
   {
    "duration": 18,
    "start_time": "2023-02-21T20:25:50.848Z"
   },
   {
    "duration": 15,
    "start_time": "2023-02-21T20:25:50.867Z"
   },
   {
    "duration": 14,
    "start_time": "2023-02-21T20:25:50.884Z"
   },
   {
    "duration": 31,
    "start_time": "2023-02-21T20:25:50.900Z"
   },
   {
    "duration": 167,
    "start_time": "2023-02-21T20:25:50.933Z"
   },
   {
    "duration": 142,
    "start_time": "2023-02-21T20:25:51.102Z"
   },
   {
    "duration": 14,
    "start_time": "2023-02-21T20:25:51.245Z"
   },
   {
    "duration": 21,
    "start_time": "2023-02-21T20:25:51.261Z"
   },
   {
    "duration": 2536,
    "start_time": "2023-02-21T20:25:51.299Z"
   },
   {
    "duration": 15,
    "start_time": "2023-02-21T20:25:53.837Z"
   },
   {
    "duration": 27,
    "start_time": "2023-02-21T20:25:53.854Z"
   },
   {
    "duration": 15,
    "start_time": "2023-02-21T20:25:53.900Z"
   },
   {
    "duration": 70,
    "start_time": "2023-02-21T20:25:53.917Z"
   },
   {
    "duration": 312,
    "start_time": "2023-02-21T20:25:53.989Z"
   },
   {
    "duration": 327,
    "start_time": "2023-02-21T20:25:54.303Z"
   },
   {
    "duration": 322,
    "start_time": "2023-02-21T20:25:54.632Z"
   },
   {
    "duration": 11,
    "start_time": "2023-02-21T20:25:54.957Z"
   },
   {
    "duration": 30,
    "start_time": "2023-02-21T20:25:54.970Z"
   },
   {
    "duration": 11,
    "start_time": "2023-02-21T20:25:55.002Z"
   },
   {
    "duration": 15,
    "start_time": "2023-02-21T20:25:55.015Z"
   },
   {
    "duration": 19,
    "start_time": "2023-02-21T20:25:55.032Z"
   },
   {
    "duration": 234,
    "start_time": "2023-02-21T20:25:55.053Z"
   },
   {
    "duration": 20,
    "start_time": "2023-02-21T20:25:55.289Z"
   },
   {
    "duration": 323,
    "start_time": "2023-02-21T20:25:55.312Z"
   },
   {
    "duration": 16,
    "start_time": "2023-02-21T20:25:55.637Z"
   },
   {
    "duration": 267,
    "start_time": "2023-02-21T20:25:55.655Z"
   },
   {
    "duration": 21,
    "start_time": "2023-02-21T20:25:55.924Z"
   },
   {
    "duration": 13,
    "start_time": "2023-02-21T20:25:55.947Z"
   },
   {
    "duration": 42,
    "start_time": "2023-02-21T20:25:55.962Z"
   },
   {
    "duration": 16,
    "start_time": "2023-02-21T20:25:56.006Z"
   },
   {
    "duration": 14,
    "start_time": "2023-02-21T20:25:56.023Z"
   },
   {
    "duration": 15,
    "start_time": "2023-02-21T20:25:56.038Z"
   },
   {
    "duration": 15,
    "start_time": "2023-02-21T20:25:56.054Z"
   },
   {
    "duration": 13,
    "start_time": "2023-02-21T20:25:56.100Z"
   },
   {
    "duration": 17,
    "start_time": "2023-02-21T20:25:56.115Z"
   },
   {
    "duration": 14,
    "start_time": "2023-02-21T20:25:56.134Z"
   },
   {
    "duration": 9,
    "start_time": "2023-02-21T20:25:56.149Z"
   },
   {
    "duration": 43,
    "start_time": "2023-02-21T20:25:56.159Z"
   },
   {
    "duration": 40,
    "start_time": "2023-02-21T20:31:01.558Z"
   },
   {
    "duration": 11,
    "start_time": "2023-02-21T21:04:47.430Z"
   },
   {
    "duration": 12,
    "start_time": "2023-02-21T21:04:54.344Z"
   },
   {
    "duration": 14,
    "start_time": "2023-02-21T21:04:59.495Z"
   },
   {
    "duration": 58,
    "start_time": "2023-02-21T21:08:54.690Z"
   },
   {
    "duration": 1131,
    "start_time": "2023-02-21T22:19:25.789Z"
   },
   {
    "duration": 50,
    "start_time": "2023-02-21T22:19:26.924Z"
   },
   {
    "duration": 22,
    "start_time": "2023-02-21T22:19:26.976Z"
   },
   {
    "duration": 28,
    "start_time": "2023-02-21T22:19:27.000Z"
   },
   {
    "duration": 19,
    "start_time": "2023-02-21T22:19:27.030Z"
   },
   {
    "duration": 735,
    "start_time": "2023-02-21T22:19:27.051Z"
   },
   {
    "duration": 11,
    "start_time": "2023-02-21T22:19:27.788Z"
   },
   {
    "duration": 54,
    "start_time": "2023-02-21T22:19:27.800Z"
   },
   {
    "duration": 50,
    "start_time": "2023-02-21T22:19:27.855Z"
   },
   {
    "duration": 4,
    "start_time": "2023-02-21T22:19:27.908Z"
   },
   {
    "duration": 7,
    "start_time": "2023-02-21T22:19:27.914Z"
   },
   {
    "duration": 17,
    "start_time": "2023-02-21T22:19:27.923Z"
   },
   {
    "duration": 13,
    "start_time": "2023-02-21T22:19:27.941Z"
   },
   {
    "duration": 7,
    "start_time": "2023-02-21T22:19:27.956Z"
   },
   {
    "duration": 50,
    "start_time": "2023-02-21T22:19:27.965Z"
   },
   {
    "duration": 135,
    "start_time": "2023-02-21T22:19:28.017Z"
   },
   {
    "duration": 116,
    "start_time": "2023-02-21T22:19:28.154Z"
   },
   {
    "duration": 10,
    "start_time": "2023-02-21T22:19:28.272Z"
   },
   {
    "duration": 28,
    "start_time": "2023-02-21T22:19:28.284Z"
   },
   {
    "duration": 2115,
    "start_time": "2023-02-21T22:19:28.313Z"
   },
   {
    "duration": 12,
    "start_time": "2023-02-21T22:19:30.430Z"
   },
   {
    "duration": 48,
    "start_time": "2023-02-21T22:19:30.444Z"
   },
   {
    "duration": 23,
    "start_time": "2023-02-21T22:19:30.494Z"
   },
   {
    "duration": 65,
    "start_time": "2023-02-21T22:19:30.519Z"
   },
   {
    "duration": 218,
    "start_time": "2023-02-21T22:19:30.586Z"
   },
   {
    "duration": 302,
    "start_time": "2023-02-21T22:19:30.805Z"
   },
   {
    "duration": 265,
    "start_time": "2023-02-21T22:19:31.109Z"
   },
   {
    "duration": 10,
    "start_time": "2023-02-21T22:19:31.377Z"
   },
   {
    "duration": 10,
    "start_time": "2023-02-21T22:19:31.399Z"
   },
   {
    "duration": 22,
    "start_time": "2023-02-21T22:19:31.411Z"
   },
   {
    "duration": 22,
    "start_time": "2023-02-21T22:19:31.435Z"
   },
   {
    "duration": 11,
    "start_time": "2023-02-21T22:19:31.459Z"
   },
   {
    "duration": 206,
    "start_time": "2023-02-21T22:19:31.471Z"
   },
   {
    "duration": 12,
    "start_time": "2023-02-21T22:19:31.678Z"
   },
   {
    "duration": 324,
    "start_time": "2023-02-21T22:19:31.698Z"
   },
   {
    "duration": 16,
    "start_time": "2023-02-21T22:19:32.024Z"
   },
   {
    "duration": 255,
    "start_time": "2023-02-21T22:19:32.041Z"
   },
   {
    "duration": 20,
    "start_time": "2023-02-21T22:19:32.298Z"
   },
   {
    "duration": 13,
    "start_time": "2023-02-21T22:19:32.320Z"
   },
   {
    "duration": 15,
    "start_time": "2023-02-21T22:19:32.334Z"
   },
   {
    "duration": 49,
    "start_time": "2023-02-21T22:19:32.351Z"
   },
   {
    "duration": 12,
    "start_time": "2023-02-21T22:19:32.402Z"
   },
   {
    "duration": 14,
    "start_time": "2023-02-21T22:19:32.415Z"
   },
   {
    "duration": 15,
    "start_time": "2023-02-21T22:19:32.430Z"
   },
   {
    "duration": 13,
    "start_time": "2023-02-21T22:19:32.446Z"
   },
   {
    "duration": 12,
    "start_time": "2023-02-21T22:19:32.500Z"
   },
   {
    "duration": 15,
    "start_time": "2023-02-21T22:19:32.514Z"
   },
   {
    "duration": 8,
    "start_time": "2023-02-21T22:19:32.531Z"
   },
   {
    "duration": 22,
    "start_time": "2023-02-21T22:19:32.540Z"
   }
  ],
  "kernelspec": {
   "display_name": "Python 3 (ipykernel)",
   "language": "python",
   "name": "python3"
  },
  "language_info": {
   "codemirror_mode": {
    "name": "ipython",
    "version": 3
   },
   "file_extension": ".py",
   "mimetype": "text/x-python",
   "name": "python",
   "nbconvert_exporter": "python",
   "pygments_lexer": "ipython3",
   "version": "3.10.9"
  },
  "toc": {
   "base_numbering": 1,
   "nav_menu": {},
   "number_sections": true,
   "sideBar": true,
   "skip_h1_title": true,
   "title_cell": "Table of Contents",
   "title_sidebar": "Contents",
   "toc_cell": false,
   "toc_position": {},
   "toc_section_display": true,
   "toc_window_display": false
  }
 },
 "nbformat": 4,
 "nbformat_minor": 2
}
