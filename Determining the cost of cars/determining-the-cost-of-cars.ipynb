{
 "cells": [
  {
   "cell_type": "markdown",
   "metadata": {},
   "source": [
    "# Определение стоимости автомобилей"
   ]
  },
  {
   "cell_type": "markdown",
   "metadata": {},
   "source": [
    "Сервис по продаже автомобилей с пробегом «Не бит, не крашен» разрабатывает приложение для привлечения новых клиентов. В нём можно быстро узнать рыночную стоимость своего автомобиля. В вашем распоряжении исторические данные: технические характеристики, комплектации и цены автомобилей. Вам нужно построить модель для определения стоимости. \n",
    "\n",
    "Заказчику важны:\n",
    "\n",
    "- качество предсказания;\n",
    "- скорость предсказания;\n",
    "- время обучения."
   ]
  },
  {
   "cell_type": "markdown",
   "metadata": {},
   "source": [
    "Основные шаги:\n",
    "1. Загрузите данные, путь к файлу: /datasets/autos.csv.\n",
    "2. Изучите данные. Заполните пропущенные значения и обработайте аномалии в столбцах. Если среди признаков имеются неинформативные, удалите их.\n",
    "3. Подготовьте выборки для обучения моделей.\n",
    "4. Обучите разные модели, одна из которых — LightGBM, как минимум одна — не бустинг. Для каждой модели попробуйте разные гиперпараметры.\n",
    "5. Проанализируйте время обучения, время предсказания и качество моделей.\n",
    "6. Опираясь на критерии заказчика, выберете лучшую модель, проверьте её качество на тестовой выборке."
   ]
  },
  {
   "cell_type": "markdown",
   "metadata": {},
   "source": [
    "Примечания:\n",
    "- Для оценки качества моделей применяйте метрику RMSE.\n",
    "- Значение метрики RMSE должно быть меньше 2500.\n",
    "- Самостоятельно освойте библиотеку LightGBM и её средствами постройте модели градиентного бустинга.\n",
    "- Время выполнения ячейки кода Jupyter Notebook можно получить специальной командой. Найдите её.\n",
    "- Модель градиентного бустинга может долго обучаться, поэтому измените у неё только два-три параметра.\n",
    "- Если перестанет работать Jupyter Notebook, удалите лишние переменные оператором del."
   ]
  },
  {
   "cell_type": "markdown",
   "metadata": {},
   "source": [
    "Описание данных.\n",
    "Признаки:\n",
    "- DateCrawled — дата скачивания анкеты из базы\n",
    "- VehicleType — тип автомобильного кузова\n",
    "- RegistrationYear — год регистрации автомобиля\n",
    "- Gearbox — тип коробки передач\n",
    "- Power — мощность (л. с.)\n",
    "- Model — модель автомобиля\n",
    "- Kilometer — пробег (км)\n",
    "- RegistrationMonth — месяц регистрации автомобиля\n",
    "- FuelType — тип топлива\n",
    "- Brand — марка автомобиля\n",
    "- Repaired — была машина в ремонте или нет\n",
    "- DateCreated — дата создания анкеты\n",
    "- NumberOfPictures — количество фотографий автомобиля\n",
    "- PostalCode — почтовый индекс владельца анкеты (пользователя)\n",
    "- LastSeen — дата последней активности пользователя\n",
    "Целевой признак:\n",
    "- Price — цена (евро)"
   ]
  },
  {
   "cell_type": "markdown",
   "metadata": {},
   "source": [
    "## Подготовка данных"
   ]
  },
  {
   "cell_type": "code",
   "execution_count": 1,
   "metadata": {},
   "outputs": [
    {
     "name": "stdout",
     "output_type": "stream",
     "text": [
      "Defaulting to user installation because normal site-packages is not writeable\n",
      "Requirement already satisfied: catboost in c:\\users\\vikto\\appdata\\roaming\\python\\python310\\site-packages (1.2)\n",
      "Requirement already satisfied: graphviz in c:\\users\\vikto\\appdata\\roaming\\python\\python310\\site-packages (from catboost) (0.20.1)\n",
      "Requirement already satisfied: six in c:\\programdata\\anaconda3\\lib\\site-packages (from catboost) (1.16.0)\n",
      "Requirement already satisfied: scipy in c:\\programdata\\anaconda3\\lib\\site-packages (from catboost) (1.10.0)\n",
      "Requirement already satisfied: pandas>=0.24 in c:\\programdata\\anaconda3\\lib\\site-packages (from catboost) (1.5.3)\n",
      "Requirement already satisfied: plotly in c:\\programdata\\anaconda3\\lib\\site-packages (from catboost) (5.9.0)\n",
      "Requirement already satisfied: numpy>=1.16.0 in c:\\programdata\\anaconda3\\lib\\site-packages (from catboost) (1.23.5)\n",
      "Requirement already satisfied: matplotlib in c:\\programdata\\anaconda3\\lib\\site-packages (from catboost) (3.7.0)\n",
      "Requirement already satisfied: python-dateutil>=2.8.1 in c:\\programdata\\anaconda3\\lib\\site-packages (from pandas>=0.24->catboost) (2.8.2)\n",
      "Requirement already satisfied: pytz>=2020.1 in c:\\programdata\\anaconda3\\lib\\site-packages (from pandas>=0.24->catboost) (2022.7)\n",
      "Requirement already satisfied: cycler>=0.10 in c:\\programdata\\anaconda3\\lib\\site-packages (from matplotlib->catboost) (0.11.0)\n",
      "Requirement already satisfied: pillow>=6.2.0 in c:\\programdata\\anaconda3\\lib\\site-packages (from matplotlib->catboost) (9.4.0)\n",
      "Requirement already satisfied: contourpy>=1.0.1 in c:\\programdata\\anaconda3\\lib\\site-packages (from matplotlib->catboost) (1.0.5)\n",
      "Requirement already satisfied: pyparsing>=2.3.1 in c:\\programdata\\anaconda3\\lib\\site-packages (from matplotlib->catboost) (3.0.9)\n",
      "Requirement already satisfied: fonttools>=4.22.0 in c:\\programdata\\anaconda3\\lib\\site-packages (from matplotlib->catboost) (4.25.0)\n",
      "Requirement already satisfied: packaging>=20.0 in c:\\programdata\\anaconda3\\lib\\site-packages (from matplotlib->catboost) (22.0)\n",
      "Requirement already satisfied: kiwisolver>=1.0.1 in c:\\programdata\\anaconda3\\lib\\site-packages (from matplotlib->catboost) (1.4.4)\n",
      "Requirement already satisfied: tenacity>=6.2.0 in c:\\programdata\\anaconda3\\lib\\site-packages (from plotly->catboost) (8.0.1)\n",
      "Defaulting to user installation because normal site-packages is not writeable\n",
      "Requirement already satisfied: lightgbm in c:\\users\\vikto\\appdata\\roaming\\python\\python310\\site-packages (3.3.5)\n",
      "Requirement already satisfied: scikit-learn!=0.22.0 in c:\\programdata\\anaconda3\\lib\\site-packages (from lightgbm) (1.2.1)\n",
      "Requirement already satisfied: wheel in c:\\programdata\\anaconda3\\lib\\site-packages (from lightgbm) (0.38.4)\n",
      "Requirement already satisfied: scipy in c:\\programdata\\anaconda3\\lib\\site-packages (from lightgbm) (1.10.0)\n",
      "Requirement already satisfied: numpy in c:\\programdata\\anaconda3\\lib\\site-packages (from lightgbm) (1.23.5)\n",
      "Requirement already satisfied: threadpoolctl>=2.0.0 in c:\\programdata\\anaconda3\\lib\\site-packages (from scikit-learn!=0.22.0->lightgbm) (2.2.0)\n",
      "Requirement already satisfied: joblib>=1.1.1 in c:\\programdata\\anaconda3\\lib\\site-packages (from scikit-learn!=0.22.0->lightgbm) (1.1.1)\n"
     ]
    }
   ],
   "source": [
    "!pip install catboost -U\n",
    "!pip install lightgbm -U\n"
   ]
  },
  {
   "cell_type": "code",
   "execution_count": 2,
   "metadata": {},
   "outputs": [],
   "source": [
    "import pandas as pd\n",
    "import numpy as np\n",
    "from catboost import CatBoostRegressor\n",
    "from lightgbm import LGBMRegressor\n",
    "from random import randint\n",
    "from sklearn.ensemble import RandomForestRegressor\n",
    "from sklearn.metrics import mean_squared_error\n",
    "from sklearn.model_selection import GridSearchCV, KFold, train_test_split\n",
    "from sklearn.preprocessing import OrdinalEncoder, StandardScaler\n",
    "import matplotlib.pyplot as plt\n",
    "import time\n",
    "import warnings\n",
    "warnings.simplefilter(action='ignore', category=UserWarning)"
   ]
  },
  {
   "cell_type": "code",
   "execution_count": 3,
   "metadata": {},
   "outputs": [],
   "source": [
    "try:\n",
    "    data = pd.read_csv('/datasets/autos.csv')\n",
    "except:\n",
    "    data = pd.read_csv('D:/Yandex/autos.csv')"
   ]
  },
  {
   "cell_type": "code",
   "execution_count": 4,
   "metadata": {},
   "outputs": [
    {
     "data": {
      "text/html": [
       "<div>\n",
       "<style scoped>\n",
       "    .dataframe tbody tr th:only-of-type {\n",
       "        vertical-align: middle;\n",
       "    }\n",
       "\n",
       "    .dataframe tbody tr th {\n",
       "        vertical-align: top;\n",
       "    }\n",
       "\n",
       "    .dataframe thead th {\n",
       "        text-align: right;\n",
       "    }\n",
       "</style>\n",
       "<table border=\"1\" class=\"dataframe\">\n",
       "  <thead>\n",
       "    <tr style=\"text-align: right;\">\n",
       "      <th></th>\n",
       "      <th>DateCrawled</th>\n",
       "      <th>Price</th>\n",
       "      <th>VehicleType</th>\n",
       "      <th>RegistrationYear</th>\n",
       "      <th>Gearbox</th>\n",
       "      <th>Power</th>\n",
       "      <th>Model</th>\n",
       "      <th>Kilometer</th>\n",
       "      <th>RegistrationMonth</th>\n",
       "      <th>FuelType</th>\n",
       "      <th>Brand</th>\n",
       "      <th>Repaired</th>\n",
       "      <th>DateCreated</th>\n",
       "      <th>NumberOfPictures</th>\n",
       "      <th>PostalCode</th>\n",
       "      <th>LastSeen</th>\n",
       "    </tr>\n",
       "  </thead>\n",
       "  <tbody>\n",
       "    <tr>\n",
       "      <th>0</th>\n",
       "      <td>2016-03-24 11:52:17</td>\n",
       "      <td>480</td>\n",
       "      <td>NaN</td>\n",
       "      <td>1993</td>\n",
       "      <td>manual</td>\n",
       "      <td>0</td>\n",
       "      <td>golf</td>\n",
       "      <td>150000</td>\n",
       "      <td>0</td>\n",
       "      <td>petrol</td>\n",
       "      <td>volkswagen</td>\n",
       "      <td>NaN</td>\n",
       "      <td>2016-03-24 00:00:00</td>\n",
       "      <td>0</td>\n",
       "      <td>70435</td>\n",
       "      <td>2016-04-07 03:16:57</td>\n",
       "    </tr>\n",
       "    <tr>\n",
       "      <th>1</th>\n",
       "      <td>2016-03-24 10:58:45</td>\n",
       "      <td>18300</td>\n",
       "      <td>coupe</td>\n",
       "      <td>2011</td>\n",
       "      <td>manual</td>\n",
       "      <td>190</td>\n",
       "      <td>NaN</td>\n",
       "      <td>125000</td>\n",
       "      <td>5</td>\n",
       "      <td>gasoline</td>\n",
       "      <td>audi</td>\n",
       "      <td>yes</td>\n",
       "      <td>2016-03-24 00:00:00</td>\n",
       "      <td>0</td>\n",
       "      <td>66954</td>\n",
       "      <td>2016-04-07 01:46:50</td>\n",
       "    </tr>\n",
       "    <tr>\n",
       "      <th>2</th>\n",
       "      <td>2016-03-14 12:52:21</td>\n",
       "      <td>9800</td>\n",
       "      <td>suv</td>\n",
       "      <td>2004</td>\n",
       "      <td>auto</td>\n",
       "      <td>163</td>\n",
       "      <td>grand</td>\n",
       "      <td>125000</td>\n",
       "      <td>8</td>\n",
       "      <td>gasoline</td>\n",
       "      <td>jeep</td>\n",
       "      <td>NaN</td>\n",
       "      <td>2016-03-14 00:00:00</td>\n",
       "      <td>0</td>\n",
       "      <td>90480</td>\n",
       "      <td>2016-04-05 12:47:46</td>\n",
       "    </tr>\n",
       "    <tr>\n",
       "      <th>3</th>\n",
       "      <td>2016-03-17 16:54:04</td>\n",
       "      <td>1500</td>\n",
       "      <td>small</td>\n",
       "      <td>2001</td>\n",
       "      <td>manual</td>\n",
       "      <td>75</td>\n",
       "      <td>golf</td>\n",
       "      <td>150000</td>\n",
       "      <td>6</td>\n",
       "      <td>petrol</td>\n",
       "      <td>volkswagen</td>\n",
       "      <td>no</td>\n",
       "      <td>2016-03-17 00:00:00</td>\n",
       "      <td>0</td>\n",
       "      <td>91074</td>\n",
       "      <td>2016-03-17 17:40:17</td>\n",
       "    </tr>\n",
       "    <tr>\n",
       "      <th>4</th>\n",
       "      <td>2016-03-31 17:25:20</td>\n",
       "      <td>3600</td>\n",
       "      <td>small</td>\n",
       "      <td>2008</td>\n",
       "      <td>manual</td>\n",
       "      <td>69</td>\n",
       "      <td>fabia</td>\n",
       "      <td>90000</td>\n",
       "      <td>7</td>\n",
       "      <td>gasoline</td>\n",
       "      <td>skoda</td>\n",
       "      <td>no</td>\n",
       "      <td>2016-03-31 00:00:00</td>\n",
       "      <td>0</td>\n",
       "      <td>60437</td>\n",
       "      <td>2016-04-06 10:17:21</td>\n",
       "    </tr>\n",
       "  </tbody>\n",
       "</table>\n",
       "</div>"
      ],
      "text/plain": [
       "           DateCrawled  Price VehicleType  RegistrationYear Gearbox  Power  \\\n",
       "0  2016-03-24 11:52:17    480         NaN              1993  manual      0   \n",
       "1  2016-03-24 10:58:45  18300       coupe              2011  manual    190   \n",
       "2  2016-03-14 12:52:21   9800         suv              2004    auto    163   \n",
       "3  2016-03-17 16:54:04   1500       small              2001  manual     75   \n",
       "4  2016-03-31 17:25:20   3600       small              2008  manual     69   \n",
       "\n",
       "   Model  Kilometer  RegistrationMonth  FuelType       Brand Repaired  \\\n",
       "0   golf     150000                  0    petrol  volkswagen      NaN   \n",
       "1    NaN     125000                  5  gasoline        audi      yes   \n",
       "2  grand     125000                  8  gasoline        jeep      NaN   \n",
       "3   golf     150000                  6    petrol  volkswagen       no   \n",
       "4  fabia      90000                  7  gasoline       skoda       no   \n",
       "\n",
       "           DateCreated  NumberOfPictures  PostalCode             LastSeen  \n",
       "0  2016-03-24 00:00:00                 0       70435  2016-04-07 03:16:57  \n",
       "1  2016-03-24 00:00:00                 0       66954  2016-04-07 01:46:50  \n",
       "2  2016-03-14 00:00:00                 0       90480  2016-04-05 12:47:46  \n",
       "3  2016-03-17 00:00:00                 0       91074  2016-03-17 17:40:17  \n",
       "4  2016-03-31 00:00:00                 0       60437  2016-04-06 10:17:21  "
      ]
     },
     "execution_count": 4,
     "metadata": {},
     "output_type": "execute_result"
    }
   ],
   "source": [
    "data.head()"
   ]
  },
  {
   "cell_type": "code",
   "execution_count": 5,
   "metadata": {},
   "outputs": [
    {
     "data": {
      "text/html": [
       "<div>\n",
       "<style scoped>\n",
       "    .dataframe tbody tr th:only-of-type {\n",
       "        vertical-align: middle;\n",
       "    }\n",
       "\n",
       "    .dataframe tbody tr th {\n",
       "        vertical-align: top;\n",
       "    }\n",
       "\n",
       "    .dataframe thead th {\n",
       "        text-align: right;\n",
       "    }\n",
       "</style>\n",
       "<table border=\"1\" class=\"dataframe\">\n",
       "  <thead>\n",
       "    <tr style=\"text-align: right;\">\n",
       "      <th></th>\n",
       "      <th>DateCrawled</th>\n",
       "      <th>Price</th>\n",
       "      <th>VehicleType</th>\n",
       "      <th>RegistrationYear</th>\n",
       "      <th>Gearbox</th>\n",
       "      <th>Power</th>\n",
       "      <th>Model</th>\n",
       "      <th>Kilometer</th>\n",
       "      <th>RegistrationMonth</th>\n",
       "      <th>FuelType</th>\n",
       "      <th>Brand</th>\n",
       "      <th>Repaired</th>\n",
       "      <th>DateCreated</th>\n",
       "      <th>NumberOfPictures</th>\n",
       "      <th>PostalCode</th>\n",
       "      <th>LastSeen</th>\n",
       "    </tr>\n",
       "  </thead>\n",
       "  <tbody>\n",
       "    <tr>\n",
       "      <th>354364</th>\n",
       "      <td>2016-03-21 09:50:58</td>\n",
       "      <td>0</td>\n",
       "      <td>NaN</td>\n",
       "      <td>2005</td>\n",
       "      <td>manual</td>\n",
       "      <td>0</td>\n",
       "      <td>colt</td>\n",
       "      <td>150000</td>\n",
       "      <td>7</td>\n",
       "      <td>petrol</td>\n",
       "      <td>mitsubishi</td>\n",
       "      <td>yes</td>\n",
       "      <td>2016-03-21 00:00:00</td>\n",
       "      <td>0</td>\n",
       "      <td>2694</td>\n",
       "      <td>2016-03-21 10:42:49</td>\n",
       "    </tr>\n",
       "    <tr>\n",
       "      <th>354365</th>\n",
       "      <td>2016-03-14 17:48:27</td>\n",
       "      <td>2200</td>\n",
       "      <td>NaN</td>\n",
       "      <td>2005</td>\n",
       "      <td>NaN</td>\n",
       "      <td>0</td>\n",
       "      <td>NaN</td>\n",
       "      <td>20000</td>\n",
       "      <td>1</td>\n",
       "      <td>NaN</td>\n",
       "      <td>sonstige_autos</td>\n",
       "      <td>NaN</td>\n",
       "      <td>2016-03-14 00:00:00</td>\n",
       "      <td>0</td>\n",
       "      <td>39576</td>\n",
       "      <td>2016-04-06 00:46:52</td>\n",
       "    </tr>\n",
       "    <tr>\n",
       "      <th>354366</th>\n",
       "      <td>2016-03-05 19:56:21</td>\n",
       "      <td>1199</td>\n",
       "      <td>convertible</td>\n",
       "      <td>2000</td>\n",
       "      <td>auto</td>\n",
       "      <td>101</td>\n",
       "      <td>fortwo</td>\n",
       "      <td>125000</td>\n",
       "      <td>3</td>\n",
       "      <td>petrol</td>\n",
       "      <td>smart</td>\n",
       "      <td>no</td>\n",
       "      <td>2016-03-05 00:00:00</td>\n",
       "      <td>0</td>\n",
       "      <td>26135</td>\n",
       "      <td>2016-03-11 18:17:12</td>\n",
       "    </tr>\n",
       "    <tr>\n",
       "      <th>354367</th>\n",
       "      <td>2016-03-19 18:57:12</td>\n",
       "      <td>9200</td>\n",
       "      <td>bus</td>\n",
       "      <td>1996</td>\n",
       "      <td>manual</td>\n",
       "      <td>102</td>\n",
       "      <td>transporter</td>\n",
       "      <td>150000</td>\n",
       "      <td>3</td>\n",
       "      <td>gasoline</td>\n",
       "      <td>volkswagen</td>\n",
       "      <td>no</td>\n",
       "      <td>2016-03-19 00:00:00</td>\n",
       "      <td>0</td>\n",
       "      <td>87439</td>\n",
       "      <td>2016-04-07 07:15:26</td>\n",
       "    </tr>\n",
       "    <tr>\n",
       "      <th>354368</th>\n",
       "      <td>2016-03-20 19:41:08</td>\n",
       "      <td>3400</td>\n",
       "      <td>wagon</td>\n",
       "      <td>2002</td>\n",
       "      <td>manual</td>\n",
       "      <td>100</td>\n",
       "      <td>golf</td>\n",
       "      <td>150000</td>\n",
       "      <td>6</td>\n",
       "      <td>gasoline</td>\n",
       "      <td>volkswagen</td>\n",
       "      <td>NaN</td>\n",
       "      <td>2016-03-20 00:00:00</td>\n",
       "      <td>0</td>\n",
       "      <td>40764</td>\n",
       "      <td>2016-03-24 12:45:21</td>\n",
       "    </tr>\n",
       "  </tbody>\n",
       "</table>\n",
       "</div>"
      ],
      "text/plain": [
       "                DateCrawled  Price  VehicleType  RegistrationYear Gearbox  \\\n",
       "354364  2016-03-21 09:50:58      0          NaN              2005  manual   \n",
       "354365  2016-03-14 17:48:27   2200          NaN              2005     NaN   \n",
       "354366  2016-03-05 19:56:21   1199  convertible              2000    auto   \n",
       "354367  2016-03-19 18:57:12   9200          bus              1996  manual   \n",
       "354368  2016-03-20 19:41:08   3400        wagon              2002  manual   \n",
       "\n",
       "        Power        Model  Kilometer  RegistrationMonth  FuelType  \\\n",
       "354364      0         colt     150000                  7    petrol   \n",
       "354365      0          NaN      20000                  1       NaN   \n",
       "354366    101       fortwo     125000                  3    petrol   \n",
       "354367    102  transporter     150000                  3  gasoline   \n",
       "354368    100         golf     150000                  6  gasoline   \n",
       "\n",
       "                 Brand Repaired          DateCreated  NumberOfPictures  \\\n",
       "354364      mitsubishi      yes  2016-03-21 00:00:00                 0   \n",
       "354365  sonstige_autos      NaN  2016-03-14 00:00:00                 0   \n",
       "354366           smart       no  2016-03-05 00:00:00                 0   \n",
       "354367      volkswagen       no  2016-03-19 00:00:00                 0   \n",
       "354368      volkswagen      NaN  2016-03-20 00:00:00                 0   \n",
       "\n",
       "        PostalCode             LastSeen  \n",
       "354364        2694  2016-03-21 10:42:49  \n",
       "354365       39576  2016-04-06 00:46:52  \n",
       "354366       26135  2016-03-11 18:17:12  \n",
       "354367       87439  2016-04-07 07:15:26  \n",
       "354368       40764  2016-03-24 12:45:21  "
      ]
     },
     "execution_count": 5,
     "metadata": {},
     "output_type": "execute_result"
    }
   ],
   "source": [
    "data.tail()"
   ]
  },
  {
   "cell_type": "code",
   "execution_count": 6,
   "metadata": {},
   "outputs": [
    {
     "name": "stdout",
     "output_type": "stream",
     "text": [
      "<class 'pandas.core.frame.DataFrame'>\n",
      "RangeIndex: 354369 entries, 0 to 354368\n",
      "Data columns (total 16 columns):\n",
      " #   Column             Non-Null Count   Dtype \n",
      "---  ------             --------------   ----- \n",
      " 0   DateCrawled        354369 non-null  object\n",
      " 1   Price              354369 non-null  int64 \n",
      " 2   VehicleType        316879 non-null  object\n",
      " 3   RegistrationYear   354369 non-null  int64 \n",
      " 4   Gearbox            334536 non-null  object\n",
      " 5   Power              354369 non-null  int64 \n",
      " 6   Model              334664 non-null  object\n",
      " 7   Kilometer          354369 non-null  int64 \n",
      " 8   RegistrationMonth  354369 non-null  int64 \n",
      " 9   FuelType           321474 non-null  object\n",
      " 10  Brand              354369 non-null  object\n",
      " 11  Repaired           283215 non-null  object\n",
      " 12  DateCreated        354369 non-null  object\n",
      " 13  NumberOfPictures   354369 non-null  int64 \n",
      " 14  PostalCode         354369 non-null  int64 \n",
      " 15  LastSeen           354369 non-null  object\n",
      "dtypes: int64(7), object(9)\n",
      "memory usage: 43.3+ MB\n"
     ]
    }
   ],
   "source": [
    "data.info()"
   ]
  },
  {
   "cell_type": "code",
   "execution_count": 7,
   "metadata": {},
   "outputs": [
    {
     "data": {
      "text/plain": [
       "4"
      ]
     },
     "execution_count": 7,
     "metadata": {},
     "output_type": "execute_result"
    }
   ],
   "source": [
    "data.duplicated().sum()"
   ]
  },
  {
   "cell_type": "code",
   "execution_count": 8,
   "metadata": {},
   "outputs": [],
   "source": [
    "data = data.drop_duplicates()"
   ]
  },
  {
   "cell_type": "code",
   "execution_count": 9,
   "metadata": {},
   "outputs": [
    {
     "data": {
      "text/plain": [
       "DateCrawled              0\n",
       "Price                    0\n",
       "VehicleType          37490\n",
       "RegistrationYear         0\n",
       "Gearbox              19833\n",
       "Power                    0\n",
       "Model                19705\n",
       "Kilometer                0\n",
       "RegistrationMonth        0\n",
       "FuelType             32895\n",
       "Brand                    0\n",
       "Repaired             71154\n",
       "DateCreated              0\n",
       "NumberOfPictures         0\n",
       "PostalCode               0\n",
       "LastSeen                 0\n",
       "dtype: int64"
      ]
     },
     "execution_count": 9,
     "metadata": {},
     "output_type": "execute_result"
    }
   ],
   "source": [
    "data.isnull().sum()"
   ]
  },
  {
   "cell_type": "code",
   "execution_count": 10,
   "metadata": {
    "scrolled": true
   },
   "outputs": [
    {
     "data": {
      "text/html": [
       "<div>\n",
       "<style scoped>\n",
       "    .dataframe tbody tr th:only-of-type {\n",
       "        vertical-align: middle;\n",
       "    }\n",
       "\n",
       "    .dataframe tbody tr th {\n",
       "        vertical-align: top;\n",
       "    }\n",
       "\n",
       "    .dataframe thead th {\n",
       "        text-align: right;\n",
       "    }\n",
       "</style>\n",
       "<table border=\"1\" class=\"dataframe\">\n",
       "  <thead>\n",
       "    <tr style=\"text-align: right;\">\n",
       "      <th></th>\n",
       "      <th>Price</th>\n",
       "      <th>VehicleType</th>\n",
       "      <th>RegistrationYear</th>\n",
       "      <th>Gearbox</th>\n",
       "      <th>Power</th>\n",
       "      <th>Model</th>\n",
       "      <th>Kilometer</th>\n",
       "      <th>FuelType</th>\n",
       "      <th>Brand</th>\n",
       "      <th>Repaired</th>\n",
       "    </tr>\n",
       "  </thead>\n",
       "  <tbody>\n",
       "    <tr>\n",
       "      <th>0</th>\n",
       "      <td>480</td>\n",
       "      <td>NaN</td>\n",
       "      <td>1993</td>\n",
       "      <td>manual</td>\n",
       "      <td>0</td>\n",
       "      <td>golf</td>\n",
       "      <td>150000</td>\n",
       "      <td>petrol</td>\n",
       "      <td>volkswagen</td>\n",
       "      <td>NaN</td>\n",
       "    </tr>\n",
       "    <tr>\n",
       "      <th>1</th>\n",
       "      <td>18300</td>\n",
       "      <td>coupe</td>\n",
       "      <td>2011</td>\n",
       "      <td>manual</td>\n",
       "      <td>190</td>\n",
       "      <td>NaN</td>\n",
       "      <td>125000</td>\n",
       "      <td>gasoline</td>\n",
       "      <td>audi</td>\n",
       "      <td>yes</td>\n",
       "    </tr>\n",
       "    <tr>\n",
       "      <th>2</th>\n",
       "      <td>9800</td>\n",
       "      <td>suv</td>\n",
       "      <td>2004</td>\n",
       "      <td>auto</td>\n",
       "      <td>163</td>\n",
       "      <td>grand</td>\n",
       "      <td>125000</td>\n",
       "      <td>gasoline</td>\n",
       "      <td>jeep</td>\n",
       "      <td>NaN</td>\n",
       "    </tr>\n",
       "    <tr>\n",
       "      <th>3</th>\n",
       "      <td>1500</td>\n",
       "      <td>small</td>\n",
       "      <td>2001</td>\n",
       "      <td>manual</td>\n",
       "      <td>75</td>\n",
       "      <td>golf</td>\n",
       "      <td>150000</td>\n",
       "      <td>petrol</td>\n",
       "      <td>volkswagen</td>\n",
       "      <td>no</td>\n",
       "    </tr>\n",
       "    <tr>\n",
       "      <th>4</th>\n",
       "      <td>3600</td>\n",
       "      <td>small</td>\n",
       "      <td>2008</td>\n",
       "      <td>manual</td>\n",
       "      <td>69</td>\n",
       "      <td>fabia</td>\n",
       "      <td>90000</td>\n",
       "      <td>gasoline</td>\n",
       "      <td>skoda</td>\n",
       "      <td>no</td>\n",
       "    </tr>\n",
       "  </tbody>\n",
       "</table>\n",
       "</div>"
      ],
      "text/plain": [
       "   Price VehicleType  RegistrationYear Gearbox  Power  Model  Kilometer  \\\n",
       "0    480         NaN              1993  manual      0   golf     150000   \n",
       "1  18300       coupe              2011  manual    190    NaN     125000   \n",
       "2   9800         suv              2004    auto    163  grand     125000   \n",
       "3   1500       small              2001  manual     75   golf     150000   \n",
       "4   3600       small              2008  manual     69  fabia      90000   \n",
       "\n",
       "   FuelType       Brand Repaired  \n",
       "0    petrol  volkswagen      NaN  \n",
       "1  gasoline        audi      yes  \n",
       "2  gasoline        jeep      NaN  \n",
       "3    petrol  volkswagen       no  \n",
       "4  gasoline       skoda       no  "
      ]
     },
     "execution_count": 10,
     "metadata": {},
     "output_type": "execute_result"
    }
   ],
   "source": [
    "# Удалим 6 неинформативных для модели признаков\n",
    "data = data.drop(['DateCrawled', 'RegistrationMonth', 'DateCreated', 'NumberOfPictures', 'PostalCode', 'LastSeen'], axis=1)\n",
    "data.head()"
   ]
  },
  {
   "cell_type": "code",
   "execution_count": 11,
   "metadata": {},
   "outputs": [
    {
     "data": {
      "text/html": [
       "<div>\n",
       "<style scoped>\n",
       "    .dataframe tbody tr th:only-of-type {\n",
       "        vertical-align: middle;\n",
       "    }\n",
       "\n",
       "    .dataframe tbody tr th {\n",
       "        vertical-align: top;\n",
       "    }\n",
       "\n",
       "    .dataframe thead th {\n",
       "        text-align: right;\n",
       "    }\n",
       "</style>\n",
       "<table border=\"1\" class=\"dataframe\">\n",
       "  <thead>\n",
       "    <tr style=\"text-align: right;\">\n",
       "      <th></th>\n",
       "      <th>Price</th>\n",
       "      <th>RegistrationYear</th>\n",
       "      <th>Power</th>\n",
       "      <th>Kilometer</th>\n",
       "    </tr>\n",
       "  </thead>\n",
       "  <tbody>\n",
       "    <tr>\n",
       "      <th>count</th>\n",
       "      <td>354365.000000</td>\n",
       "      <td>354365.000000</td>\n",
       "      <td>354365.000000</td>\n",
       "      <td>354365.000000</td>\n",
       "    </tr>\n",
       "    <tr>\n",
       "      <th>mean</th>\n",
       "      <td>4416.679830</td>\n",
       "      <td>2004.234481</td>\n",
       "      <td>110.093816</td>\n",
       "      <td>128211.363989</td>\n",
       "    </tr>\n",
       "    <tr>\n",
       "      <th>std</th>\n",
       "      <td>4514.176349</td>\n",
       "      <td>90.228466</td>\n",
       "      <td>189.851330</td>\n",
       "      <td>37905.083858</td>\n",
       "    </tr>\n",
       "    <tr>\n",
       "      <th>min</th>\n",
       "      <td>0.000000</td>\n",
       "      <td>1000.000000</td>\n",
       "      <td>0.000000</td>\n",
       "      <td>5000.000000</td>\n",
       "    </tr>\n",
       "    <tr>\n",
       "      <th>25%</th>\n",
       "      <td>1050.000000</td>\n",
       "      <td>1999.000000</td>\n",
       "      <td>69.000000</td>\n",
       "      <td>125000.000000</td>\n",
       "    </tr>\n",
       "    <tr>\n",
       "      <th>50%</th>\n",
       "      <td>2700.000000</td>\n",
       "      <td>2003.000000</td>\n",
       "      <td>105.000000</td>\n",
       "      <td>150000.000000</td>\n",
       "    </tr>\n",
       "    <tr>\n",
       "      <th>75%</th>\n",
       "      <td>6400.000000</td>\n",
       "      <td>2008.000000</td>\n",
       "      <td>143.000000</td>\n",
       "      <td>150000.000000</td>\n",
       "    </tr>\n",
       "    <tr>\n",
       "      <th>max</th>\n",
       "      <td>20000.000000</td>\n",
       "      <td>9999.000000</td>\n",
       "      <td>20000.000000</td>\n",
       "      <td>150000.000000</td>\n",
       "    </tr>\n",
       "  </tbody>\n",
       "</table>\n",
       "</div>"
      ],
      "text/plain": [
       "               Price  RegistrationYear          Power      Kilometer\n",
       "count  354365.000000     354365.000000  354365.000000  354365.000000\n",
       "mean     4416.679830       2004.234481     110.093816  128211.363989\n",
       "std      4514.176349         90.228466     189.851330   37905.083858\n",
       "min         0.000000       1000.000000       0.000000    5000.000000\n",
       "25%      1050.000000       1999.000000      69.000000  125000.000000\n",
       "50%      2700.000000       2003.000000     105.000000  150000.000000\n",
       "75%      6400.000000       2008.000000     143.000000  150000.000000\n",
       "max     20000.000000       9999.000000   20000.000000  150000.000000"
      ]
     },
     "execution_count": 11,
     "metadata": {},
     "output_type": "execute_result"
    }
   ],
   "source": [
    "data.describe()"
   ]
  },
  {
   "cell_type": "code",
   "execution_count": 12,
   "metadata": {},
   "outputs": [
    {
     "data": {
      "image/png": "[encoded data removed]",
      "text/plain": [
       "<Figure size 1500x500 with 1 Axes>"
      ]
     },
     "metadata": {},
     "output_type": "display_data"
    }
   ],
   "source": [
    "# Цена автомобиля\n",
    "data['Price'].hist(figsize=(15, 5), bins=100, alpha=0.7, color='green', edgecolor = 'gold')\n",
    "plt.grid(True)\n",
    "plt.title('Распределение цены автомобиля')\n",
    "plt.show()"
   ]
  },
  {
   "cell_type": "code",
   "execution_count": 13,
   "metadata": {},
   "outputs": [
    {
     "data": {
      "image/png": "[encoded data removed]",
      "text/plain": [
       "<Figure size 1500x500 with 1 Axes>"
      ]
     },
     "metadata": {},
     "output_type": "display_data"
    }
   ],
   "source": [
    "# Цена автомобиля\n",
    "data.boxplot(column='Price', showfliers=False, figsize=(15, 5), color='green')\n",
    "plt.title('Распределение цены автомобиля')\n",
    "plt.show()"
   ]
  },
  {
   "cell_type": "code",
   "execution_count": 14,
   "metadata": {},
   "outputs": [
    {
     "data": {
      "image/png": "[encoded data removed]",
      "text/plain": [
       "<Figure size 1500x500 with 1 Axes>"
      ]
     },
     "metadata": {},
     "output_type": "display_data"
    }
   ],
   "source": [
    "# Год регистрации автомобиля\n",
    "data['RegistrationYear'].hist(figsize=(15, 5), range=(1980, 2020), bins=40, alpha=0.7, color='olive', edgecolor = 'gold')\n",
    "plt.grid(True)\n",
    "plt.title('Распределение года регистрации автомобиля')\n",
    "plt.show()"
   ]
  },
  {
   "cell_type": "code",
   "execution_count": 15,
   "metadata": {},
   "outputs": [
    {
     "data": {
      "image/png": "[encoded data removed]",
      "text/plain": [
       "<Figure size 1500x500 with 1 Axes>"
      ]
     },
     "metadata": {},
     "output_type": "display_data"
    }
   ],
   "source": [
    "# Год регистрации автомобиля\n",
    "data.boxplot(column='RegistrationYear', showfliers=False, figsize=(15, 5), color='olive')\n",
    "plt.title('Распределение года регистрации автомобиля')\n",
    "plt.show()"
   ]
  },
  {
   "cell_type": "code",
   "execution_count": 16,
   "metadata": {},
   "outputs": [
    {
     "data": {
      "image/png": "[encoded data removed]",
      "text/plain": [
       "<Figure size 1500x500 with 1 Axes>"
      ]
     },
     "metadata": {},
     "output_type": "display_data"
    }
   ],
   "source": [
    "# Мощность автомобиля\n",
    "data['Power'].hist(figsize=(15, 5), range=(0, 1000), bins=30, alpha=0.7, color='teal', edgecolor = 'gold')\n",
    "plt.grid(True)\n",
    "plt.title('Распределение мощности автомобиля')\n",
    "plt.show()"
   ]
  },
  {
   "cell_type": "code",
   "execution_count": 17,
   "metadata": {},
   "outputs": [
    {
     "data": {
      "image/png": "[encoded data removed]",
      "text/plain": [
       "<Figure size 1500x500 with 1 Axes>"
      ]
     },
     "metadata": {},
     "output_type": "display_data"
    }
   ],
   "source": [
    "# Мощность автомобиля\n",
    "data.boxplot(column='Power', showfliers=False, figsize=(15, 5), color='teal')\n",
    "plt.title('Распределение мощности автомобиля')\n",
    "plt.show()"
   ]
  },
  {
   "cell_type": "code",
   "execution_count": 18,
   "metadata": {},
   "outputs": [
    {
     "data": {
      "image/png": "[encoded data removed]",
      "text/plain": [
       "<Figure size 1500x500 with 1 Axes>"
      ]
     },
     "metadata": {},
     "output_type": "display_data"
    }
   ],
   "source": [
    "# Пробег автомобиля\n",
    "data['Kilometer'].hist(figsize=(15, 5), bins=20, alpha=0.7, color='navy', edgecolor = 'gold')\n",
    "plt.grid(True)\n",
    "plt.title('Распределение пробега автомобиля')\n",
    "plt.show()"
   ]
  },
  {
   "cell_type": "code",
   "execution_count": 19,
   "metadata": {
    "scrolled": true
   },
   "outputs": [
    {
     "data": {
      "image/png": "[encoded data removed]",
      "text/plain": [
       "<Figure size 1500x500 with 1 Axes>"
      ]
     },
     "metadata": {},
     "output_type": "display_data"
    }
   ],
   "source": [
    "# Пробег автомобиля\n",
    "data.boxplot(column='Kilometer', showfliers=False, figsize=(15, 5), color='navy')\n",
    "plt.title('Распределение пробега автомобиля')\n",
    "plt.show()"
   ]
  },
  {
   "cell_type": "code",
   "execution_count": 20,
   "metadata": {},
   "outputs": [
    {
     "name": "stdout",
     "output_type": "stream",
     "text": [
      "151\n",
      "251\n",
      "40\n"
     ]
    }
   ],
   "source": [
    "print(len(data['RegistrationYear'].unique()))\n",
    "print(len(data['Model'].unique()))\n",
    "print(len(data['Brand'].unique()))"
   ]
  },
  {
   "cell_type": "code",
   "execution_count": 21,
   "metadata": {},
   "outputs": [
    {
     "data": {
      "text/html": [
       "<div>\n",
       "<style scoped>\n",
       "    .dataframe tbody tr th:only-of-type {\n",
       "        vertical-align: middle;\n",
       "    }\n",
       "\n",
       "    .dataframe tbody tr th {\n",
       "        vertical-align: top;\n",
       "    }\n",
       "\n",
       "    .dataframe thead th {\n",
       "        text-align: right;\n",
       "    }\n",
       "</style>\n",
       "<table border=\"1\" class=\"dataframe\">\n",
       "  <thead>\n",
       "    <tr style=\"text-align: right;\">\n",
       "      <th></th>\n",
       "      <th>Price</th>\n",
       "      <th>VehicleType</th>\n",
       "      <th>RegistrationYear</th>\n",
       "      <th>Gearbox</th>\n",
       "      <th>Power</th>\n",
       "      <th>Model</th>\n",
       "      <th>Kilometer</th>\n",
       "      <th>FuelType</th>\n",
       "      <th>Brand</th>\n",
       "      <th>Repaired</th>\n",
       "    </tr>\n",
       "  </thead>\n",
       "  <tbody>\n",
       "    <tr>\n",
       "      <th>0</th>\n",
       "      <td>480</td>\n",
       "      <td>NaN</td>\n",
       "      <td>1993</td>\n",
       "      <td>manual</td>\n",
       "      <td>0</td>\n",
       "      <td>golf</td>\n",
       "      <td>150000</td>\n",
       "      <td>petrol</td>\n",
       "      <td>volkswagen</td>\n",
       "      <td>NaN</td>\n",
       "    </tr>\n",
       "    <tr>\n",
       "      <th>1</th>\n",
       "      <td>18300</td>\n",
       "      <td>coupe</td>\n",
       "      <td>2011</td>\n",
       "      <td>manual</td>\n",
       "      <td>190</td>\n",
       "      <td>NaN</td>\n",
       "      <td>125000</td>\n",
       "      <td>gasoline</td>\n",
       "      <td>audi</td>\n",
       "      <td>yes</td>\n",
       "    </tr>\n",
       "    <tr>\n",
       "      <th>2</th>\n",
       "      <td>9800</td>\n",
       "      <td>suv</td>\n",
       "      <td>2004</td>\n",
       "      <td>auto</td>\n",
       "      <td>163</td>\n",
       "      <td>grand</td>\n",
       "      <td>125000</td>\n",
       "      <td>gasoline</td>\n",
       "      <td>jeep</td>\n",
       "      <td>NaN</td>\n",
       "    </tr>\n",
       "    <tr>\n",
       "      <th>3</th>\n",
       "      <td>1500</td>\n",
       "      <td>small</td>\n",
       "      <td>2001</td>\n",
       "      <td>manual</td>\n",
       "      <td>75</td>\n",
       "      <td>golf</td>\n",
       "      <td>150000</td>\n",
       "      <td>petrol</td>\n",
       "      <td>volkswagen</td>\n",
       "      <td>no</td>\n",
       "    </tr>\n",
       "    <tr>\n",
       "      <th>4</th>\n",
       "      <td>3600</td>\n",
       "      <td>small</td>\n",
       "      <td>2008</td>\n",
       "      <td>manual</td>\n",
       "      <td>69</td>\n",
       "      <td>fabia</td>\n",
       "      <td>90000</td>\n",
       "      <td>gasoline</td>\n",
       "      <td>skoda</td>\n",
       "      <td>no</td>\n",
       "    </tr>\n",
       "    <tr>\n",
       "      <th>...</th>\n",
       "      <td>...</td>\n",
       "      <td>...</td>\n",
       "      <td>...</td>\n",
       "      <td>...</td>\n",
       "      <td>...</td>\n",
       "      <td>...</td>\n",
       "      <td>...</td>\n",
       "      <td>...</td>\n",
       "      <td>...</td>\n",
       "      <td>...</td>\n",
       "    </tr>\n",
       "    <tr>\n",
       "      <th>354364</th>\n",
       "      <td>0</td>\n",
       "      <td>NaN</td>\n",
       "      <td>2005</td>\n",
       "      <td>manual</td>\n",
       "      <td>0</td>\n",
       "      <td>colt</td>\n",
       "      <td>150000</td>\n",
       "      <td>petrol</td>\n",
       "      <td>mitsubishi</td>\n",
       "      <td>yes</td>\n",
       "    </tr>\n",
       "    <tr>\n",
       "      <th>354365</th>\n",
       "      <td>2200</td>\n",
       "      <td>NaN</td>\n",
       "      <td>2005</td>\n",
       "      <td>NaN</td>\n",
       "      <td>0</td>\n",
       "      <td>NaN</td>\n",
       "      <td>20000</td>\n",
       "      <td>NaN</td>\n",
       "      <td>sonstige_autos</td>\n",
       "      <td>NaN</td>\n",
       "    </tr>\n",
       "    <tr>\n",
       "      <th>354366</th>\n",
       "      <td>1199</td>\n",
       "      <td>convertible</td>\n",
       "      <td>2000</td>\n",
       "      <td>auto</td>\n",
       "      <td>101</td>\n",
       "      <td>fortwo</td>\n",
       "      <td>125000</td>\n",
       "      <td>petrol</td>\n",
       "      <td>smart</td>\n",
       "      <td>no</td>\n",
       "    </tr>\n",
       "    <tr>\n",
       "      <th>354367</th>\n",
       "      <td>9200</td>\n",
       "      <td>bus</td>\n",
       "      <td>1996</td>\n",
       "      <td>manual</td>\n",
       "      <td>102</td>\n",
       "      <td>transporter</td>\n",
       "      <td>150000</td>\n",
       "      <td>gasoline</td>\n",
       "      <td>volkswagen</td>\n",
       "      <td>no</td>\n",
       "    </tr>\n",
       "    <tr>\n",
       "      <th>354368</th>\n",
       "      <td>3400</td>\n",
       "      <td>wagon</td>\n",
       "      <td>2002</td>\n",
       "      <td>manual</td>\n",
       "      <td>100</td>\n",
       "      <td>golf</td>\n",
       "      <td>150000</td>\n",
       "      <td>gasoline</td>\n",
       "      <td>volkswagen</td>\n",
       "      <td>NaN</td>\n",
       "    </tr>\n",
       "  </tbody>\n",
       "</table>\n",
       "<p>334387 rows × 10 columns</p>\n",
       "</div>"
      ],
      "text/plain": [
       "        Price  VehicleType  RegistrationYear Gearbox  Power        Model  \\\n",
       "0         480          NaN              1993  manual      0         golf   \n",
       "1       18300        coupe              2011  manual    190          NaN   \n",
       "2        9800          suv              2004    auto    163        grand   \n",
       "3        1500        small              2001  manual     75         golf   \n",
       "4        3600        small              2008  manual     69        fabia   \n",
       "...       ...          ...               ...     ...    ...          ...   \n",
       "354364      0          NaN              2005  manual      0         colt   \n",
       "354365   2200          NaN              2005     NaN      0          NaN   \n",
       "354366   1199  convertible              2000    auto    101       fortwo   \n",
       "354367   9200          bus              1996  manual    102  transporter   \n",
       "354368   3400        wagon              2002  manual    100         golf   \n",
       "\n",
       "        Kilometer  FuelType           Brand Repaired  \n",
       "0          150000    petrol      volkswagen      NaN  \n",
       "1          125000  gasoline            audi      yes  \n",
       "2          125000  gasoline            jeep      NaN  \n",
       "3          150000    petrol      volkswagen       no  \n",
       "4           90000  gasoline           skoda       no  \n",
       "...           ...       ...             ...      ...  \n",
       "354364     150000    petrol      mitsubishi      yes  \n",
       "354365      20000       NaN  sonstige_autos      NaN  \n",
       "354366     125000    petrol           smart       no  \n",
       "354367     150000  gasoline      volkswagen       no  \n",
       "354368     150000  gasoline      volkswagen      NaN  \n",
       "\n",
       "[334387 rows x 10 columns]"
      ]
     },
     "execution_count": 21,
     "metadata": {},
     "output_type": "execute_result"
    }
   ],
   "source": [
    "data = data[(data['RegistrationYear'] >= 1985) & (data['RegistrationYear'] <= 2016)]\n",
    "data"
   ]
  },
  {
   "cell_type": "code",
   "execution_count": 22,
   "metadata": {},
   "outputs": [],
   "source": [
    "# data[data['Power'] == 0].shape"
   ]
  },
  {
   "cell_type": "code",
   "execution_count": 23,
   "metadata": {},
   "outputs": [],
   "source": [
    "# data[data['Power'] >= 250].shape"
   ]
  },
  {
   "cell_type": "code",
   "execution_count": 24,
   "metadata": {},
   "outputs": [
    {
     "data": {
      "text/html": [
       "<div>\n",
       "<style scoped>\n",
       "    .dataframe tbody tr th:only-of-type {\n",
       "        vertical-align: middle;\n",
       "    }\n",
       "\n",
       "    .dataframe tbody tr th {\n",
       "        vertical-align: top;\n",
       "    }\n",
       "\n",
       "    .dataframe thead th {\n",
       "        text-align: right;\n",
       "    }\n",
       "</style>\n",
       "<table border=\"1\" class=\"dataframe\">\n",
       "  <thead>\n",
       "    <tr style=\"text-align: right;\">\n",
       "      <th></th>\n",
       "      <th>Price</th>\n",
       "      <th>VehicleType</th>\n",
       "      <th>RegistrationYear</th>\n",
       "      <th>Gearbox</th>\n",
       "      <th>Power</th>\n",
       "      <th>Model</th>\n",
       "      <th>Kilometer</th>\n",
       "      <th>FuelType</th>\n",
       "      <th>Brand</th>\n",
       "      <th>Repaired</th>\n",
       "    </tr>\n",
       "  </thead>\n",
       "  <tbody>\n",
       "    <tr>\n",
       "      <th>0</th>\n",
       "      <td>480</td>\n",
       "      <td>NaN</td>\n",
       "      <td>1993</td>\n",
       "      <td>manual</td>\n",
       "      <td>0</td>\n",
       "      <td>golf</td>\n",
       "      <td>150000</td>\n",
       "      <td>petrol</td>\n",
       "      <td>volkswagen</td>\n",
       "      <td>NaN</td>\n",
       "    </tr>\n",
       "    <tr>\n",
       "      <th>1</th>\n",
       "      <td>18300</td>\n",
       "      <td>coupe</td>\n",
       "      <td>2011</td>\n",
       "      <td>manual</td>\n",
       "      <td>190</td>\n",
       "      <td>NaN</td>\n",
       "      <td>125000</td>\n",
       "      <td>gasoline</td>\n",
       "      <td>audi</td>\n",
       "      <td>yes</td>\n",
       "    </tr>\n",
       "    <tr>\n",
       "      <th>2</th>\n",
       "      <td>9800</td>\n",
       "      <td>suv</td>\n",
       "      <td>2004</td>\n",
       "      <td>auto</td>\n",
       "      <td>163</td>\n",
       "      <td>grand</td>\n",
       "      <td>125000</td>\n",
       "      <td>gasoline</td>\n",
       "      <td>jeep</td>\n",
       "      <td>NaN</td>\n",
       "    </tr>\n",
       "    <tr>\n",
       "      <th>3</th>\n",
       "      <td>1500</td>\n",
       "      <td>small</td>\n",
       "      <td>2001</td>\n",
       "      <td>manual</td>\n",
       "      <td>75</td>\n",
       "      <td>golf</td>\n",
       "      <td>150000</td>\n",
       "      <td>petrol</td>\n",
       "      <td>volkswagen</td>\n",
       "      <td>no</td>\n",
       "    </tr>\n",
       "    <tr>\n",
       "      <th>4</th>\n",
       "      <td>3600</td>\n",
       "      <td>small</td>\n",
       "      <td>2008</td>\n",
       "      <td>manual</td>\n",
       "      <td>69</td>\n",
       "      <td>fabia</td>\n",
       "      <td>90000</td>\n",
       "      <td>gasoline</td>\n",
       "      <td>skoda</td>\n",
       "      <td>no</td>\n",
       "    </tr>\n",
       "    <tr>\n",
       "      <th>...</th>\n",
       "      <td>...</td>\n",
       "      <td>...</td>\n",
       "      <td>...</td>\n",
       "      <td>...</td>\n",
       "      <td>...</td>\n",
       "      <td>...</td>\n",
       "      <td>...</td>\n",
       "      <td>...</td>\n",
       "      <td>...</td>\n",
       "      <td>...</td>\n",
       "    </tr>\n",
       "    <tr>\n",
       "      <th>324561</th>\n",
       "      <td>1150</td>\n",
       "      <td>bus</td>\n",
       "      <td>2000</td>\n",
       "      <td>manual</td>\n",
       "      <td>0</td>\n",
       "      <td>zafira</td>\n",
       "      <td>150000</td>\n",
       "      <td>petrol</td>\n",
       "      <td>opel</td>\n",
       "      <td>no</td>\n",
       "    </tr>\n",
       "    <tr>\n",
       "      <th>324562</th>\n",
       "      <td>2200</td>\n",
       "      <td>NaN</td>\n",
       "      <td>2005</td>\n",
       "      <td>NaN</td>\n",
       "      <td>0</td>\n",
       "      <td>NaN</td>\n",
       "      <td>20000</td>\n",
       "      <td>NaN</td>\n",
       "      <td>sonstige_autos</td>\n",
       "      <td>NaN</td>\n",
       "    </tr>\n",
       "    <tr>\n",
       "      <th>324563</th>\n",
       "      <td>1199</td>\n",
       "      <td>convertible</td>\n",
       "      <td>2000</td>\n",
       "      <td>auto</td>\n",
       "      <td>101</td>\n",
       "      <td>fortwo</td>\n",
       "      <td>125000</td>\n",
       "      <td>petrol</td>\n",
       "      <td>smart</td>\n",
       "      <td>no</td>\n",
       "    </tr>\n",
       "    <tr>\n",
       "      <th>324564</th>\n",
       "      <td>9200</td>\n",
       "      <td>bus</td>\n",
       "      <td>1996</td>\n",
       "      <td>manual</td>\n",
       "      <td>102</td>\n",
       "      <td>transporter</td>\n",
       "      <td>150000</td>\n",
       "      <td>gasoline</td>\n",
       "      <td>volkswagen</td>\n",
       "      <td>no</td>\n",
       "    </tr>\n",
       "    <tr>\n",
       "      <th>324565</th>\n",
       "      <td>3400</td>\n",
       "      <td>wagon</td>\n",
       "      <td>2002</td>\n",
       "      <td>manual</td>\n",
       "      <td>100</td>\n",
       "      <td>golf</td>\n",
       "      <td>150000</td>\n",
       "      <td>gasoline</td>\n",
       "      <td>volkswagen</td>\n",
       "      <td>NaN</td>\n",
       "    </tr>\n",
       "  </tbody>\n",
       "</table>\n",
       "<p>324566 rows × 10 columns</p>\n",
       "</div>"
      ],
      "text/plain": [
       "        Price  VehicleType  RegistrationYear Gearbox  Power        Model  \\\n",
       "0         480          NaN              1993  manual      0         golf   \n",
       "1       18300        coupe              2011  manual    190          NaN   \n",
       "2        9800          suv              2004    auto    163        grand   \n",
       "3        1500        small              2001  manual     75         golf   \n",
       "4        3600        small              2008  manual     69        fabia   \n",
       "...       ...          ...               ...     ...    ...          ...   \n",
       "324561   1150          bus              2000  manual      0       zafira   \n",
       "324562   2200          NaN              2005     NaN      0          NaN   \n",
       "324563   1199  convertible              2000    auto    101       fortwo   \n",
       "324564   9200          bus              1996  manual    102  transporter   \n",
       "324565   3400        wagon              2002  manual    100         golf   \n",
       "\n",
       "        Kilometer  FuelType           Brand Repaired  \n",
       "0          150000    petrol      volkswagen      NaN  \n",
       "1          125000  gasoline            audi      yes  \n",
       "2          125000  gasoline            jeep      NaN  \n",
       "3          150000    petrol      volkswagen       no  \n",
       "4           90000  gasoline           skoda       no  \n",
       "...           ...       ...             ...      ...  \n",
       "324561     150000    petrol            opel       no  \n",
       "324562      20000       NaN  sonstige_autos      NaN  \n",
       "324563     125000    petrol           smart       no  \n",
       "324564     150000  gasoline      volkswagen       no  \n",
       "324565     150000  gasoline      volkswagen      NaN  \n",
       "\n",
       "[324566 rows x 10 columns]"
      ]
     },
     "execution_count": 24,
     "metadata": {},
     "output_type": "execute_result"
    }
   ],
   "source": [
    "data = data[data['Price'] != 0]\n",
    "data = data[data['Power'] <= 1000]\n",
    "data = data.reset_index(drop=True)\n",
    "data"
   ]
  },
  {
   "cell_type": "code",
   "execution_count": 25,
   "metadata": {},
   "outputs": [],
   "source": [
    "data.loc[data['Power'] == 0, 'Power'] = np.NaN\n",
    "data['Power'] = data['Power'].fillna(data.groupby('Brand')['Power'].transform(lambda x: x.median() if x.median() else np.nan))"
   ]
  },
  {
   "cell_type": "code",
   "execution_count": 26,
   "metadata": {},
   "outputs": [],
   "source": [
    "data['VehicleType'] = data['VehicleType'].fillna('another')\n",
    "data['Model'] = data['Model'].fillna('another')\n",
    "data['FuelType'] = data['FuelType'].fillna('another')"
   ]
  },
  {
   "cell_type": "code",
   "execution_count": 27,
   "metadata": {},
   "outputs": [
    {
     "name": "stdout",
     "output_type": "stream",
     "text": [
      "['manual' 'auto' 0 1]\n",
      "[1 'yes' 0 'no']\n"
     ]
    },
    {
     "data": {
      "text/html": [
       "<div>\n",
       "<style scoped>\n",
       "    .dataframe tbody tr th:only-of-type {\n",
       "        vertical-align: middle;\n",
       "    }\n",
       "\n",
       "    .dataframe tbody tr th {\n",
       "        vertical-align: top;\n",
       "    }\n",
       "\n",
       "    .dataframe thead th {\n",
       "        text-align: right;\n",
       "    }\n",
       "</style>\n",
       "<table border=\"1\" class=\"dataframe\">\n",
       "  <thead>\n",
       "    <tr style=\"text-align: right;\">\n",
       "      <th></th>\n",
       "      <th>Price</th>\n",
       "      <th>VehicleType</th>\n",
       "      <th>RegistrationYear</th>\n",
       "      <th>Gearbox</th>\n",
       "      <th>Power</th>\n",
       "      <th>Model</th>\n",
       "      <th>Kilometer</th>\n",
       "      <th>FuelType</th>\n",
       "      <th>Brand</th>\n",
       "      <th>Repaired</th>\n",
       "    </tr>\n",
       "  </thead>\n",
       "  <tbody>\n",
       "    <tr>\n",
       "      <th>0</th>\n",
       "      <td>480</td>\n",
       "      <td>another</td>\n",
       "      <td>1993</td>\n",
       "      <td>manual</td>\n",
       "      <td>101.0</td>\n",
       "      <td>golf</td>\n",
       "      <td>150000</td>\n",
       "      <td>petrol</td>\n",
       "      <td>volkswagen</td>\n",
       "      <td>1</td>\n",
       "    </tr>\n",
       "    <tr>\n",
       "      <th>1</th>\n",
       "      <td>18300</td>\n",
       "      <td>coupe</td>\n",
       "      <td>2011</td>\n",
       "      <td>manual</td>\n",
       "      <td>190.0</td>\n",
       "      <td>another</td>\n",
       "      <td>125000</td>\n",
       "      <td>gasoline</td>\n",
       "      <td>audi</td>\n",
       "      <td>yes</td>\n",
       "    </tr>\n",
       "    <tr>\n",
       "      <th>2</th>\n",
       "      <td>9800</td>\n",
       "      <td>suv</td>\n",
       "      <td>2004</td>\n",
       "      <td>auto</td>\n",
       "      <td>163.0</td>\n",
       "      <td>grand</td>\n",
       "      <td>125000</td>\n",
       "      <td>gasoline</td>\n",
       "      <td>jeep</td>\n",
       "      <td>0</td>\n",
       "    </tr>\n",
       "    <tr>\n",
       "      <th>3</th>\n",
       "      <td>1500</td>\n",
       "      <td>small</td>\n",
       "      <td>2001</td>\n",
       "      <td>manual</td>\n",
       "      <td>75.0</td>\n",
       "      <td>golf</td>\n",
       "      <td>150000</td>\n",
       "      <td>petrol</td>\n",
       "      <td>volkswagen</td>\n",
       "      <td>no</td>\n",
       "    </tr>\n",
       "    <tr>\n",
       "      <th>4</th>\n",
       "      <td>3600</td>\n",
       "      <td>small</td>\n",
       "      <td>2008</td>\n",
       "      <td>manual</td>\n",
       "      <td>69.0</td>\n",
       "      <td>fabia</td>\n",
       "      <td>90000</td>\n",
       "      <td>gasoline</td>\n",
       "      <td>skoda</td>\n",
       "      <td>no</td>\n",
       "    </tr>\n",
       "    <tr>\n",
       "      <th>...</th>\n",
       "      <td>...</td>\n",
       "      <td>...</td>\n",
       "      <td>...</td>\n",
       "      <td>...</td>\n",
       "      <td>...</td>\n",
       "      <td>...</td>\n",
       "      <td>...</td>\n",
       "      <td>...</td>\n",
       "      <td>...</td>\n",
       "      <td>...</td>\n",
       "    </tr>\n",
       "    <tr>\n",
       "      <th>324561</th>\n",
       "      <td>1150</td>\n",
       "      <td>bus</td>\n",
       "      <td>2000</td>\n",
       "      <td>manual</td>\n",
       "      <td>101.0</td>\n",
       "      <td>zafira</td>\n",
       "      <td>150000</td>\n",
       "      <td>petrol</td>\n",
       "      <td>opel</td>\n",
       "      <td>no</td>\n",
       "    </tr>\n",
       "    <tr>\n",
       "      <th>324562</th>\n",
       "      <td>2200</td>\n",
       "      <td>another</td>\n",
       "      <td>2005</td>\n",
       "      <td>0</td>\n",
       "      <td>148.0</td>\n",
       "      <td>another</td>\n",
       "      <td>20000</td>\n",
       "      <td>another</td>\n",
       "      <td>sonstige_autos</td>\n",
       "      <td>0</td>\n",
       "    </tr>\n",
       "    <tr>\n",
       "      <th>324563</th>\n",
       "      <td>1199</td>\n",
       "      <td>convertible</td>\n",
       "      <td>2000</td>\n",
       "      <td>auto</td>\n",
       "      <td>101.0</td>\n",
       "      <td>fortwo</td>\n",
       "      <td>125000</td>\n",
       "      <td>petrol</td>\n",
       "      <td>smart</td>\n",
       "      <td>no</td>\n",
       "    </tr>\n",
       "    <tr>\n",
       "      <th>324564</th>\n",
       "      <td>9200</td>\n",
       "      <td>bus</td>\n",
       "      <td>1996</td>\n",
       "      <td>manual</td>\n",
       "      <td>102.0</td>\n",
       "      <td>transporter</td>\n",
       "      <td>150000</td>\n",
       "      <td>gasoline</td>\n",
       "      <td>volkswagen</td>\n",
       "      <td>no</td>\n",
       "    </tr>\n",
       "    <tr>\n",
       "      <th>324565</th>\n",
       "      <td>3400</td>\n",
       "      <td>wagon</td>\n",
       "      <td>2002</td>\n",
       "      <td>manual</td>\n",
       "      <td>100.0</td>\n",
       "      <td>golf</td>\n",
       "      <td>150000</td>\n",
       "      <td>gasoline</td>\n",
       "      <td>volkswagen</td>\n",
       "      <td>1</td>\n",
       "    </tr>\n",
       "  </tbody>\n",
       "</table>\n",
       "<p>324566 rows × 10 columns</p>\n",
       "</div>"
      ],
      "text/plain": [
       "        Price  VehicleType  RegistrationYear Gearbox  Power        Model  \\\n",
       "0         480      another              1993  manual  101.0         golf   \n",
       "1       18300        coupe              2011  manual  190.0      another   \n",
       "2        9800          suv              2004    auto  163.0        grand   \n",
       "3        1500        small              2001  manual   75.0         golf   \n",
       "4        3600        small              2008  manual   69.0        fabia   \n",
       "...       ...          ...               ...     ...    ...          ...   \n",
       "324561   1150          bus              2000  manual  101.0       zafira   \n",
       "324562   2200      another              2005       0  148.0      another   \n",
       "324563   1199  convertible              2000    auto  101.0       fortwo   \n",
       "324564   9200          bus              1996  manual  102.0  transporter   \n",
       "324565   3400        wagon              2002  manual  100.0         golf   \n",
       "\n",
       "        Kilometer  FuelType           Brand Repaired  \n",
       "0          150000    petrol      volkswagen        1  \n",
       "1          125000  gasoline            audi      yes  \n",
       "2          125000  gasoline            jeep        0  \n",
       "3          150000    petrol      volkswagen       no  \n",
       "4           90000  gasoline           skoda       no  \n",
       "...           ...       ...             ...      ...  \n",
       "324561     150000    petrol            opel       no  \n",
       "324562      20000   another  sonstige_autos        0  \n",
       "324563     125000    petrol           smart       no  \n",
       "324564     150000  gasoline      volkswagen       no  \n",
       "324565     150000  gasoline      volkswagen        1  \n",
       "\n",
       "[324566 rows x 10 columns]"
      ]
     },
     "metadata": {},
     "output_type": "display_data"
    }
   ],
   "source": [
    "data['Gearbox'] = data['Gearbox'].fillna(pd.Series(np.random.randint(0, 2, size=len(data)), index=data.index))\n",
    "data['Repaired'] = data['Repaired'].fillna(pd.Series(np.random.randint(0, 2, size=len(data)), index=data.index))\n",
    "print(data['Gearbox'].unique())\n",
    "print(data['Repaired'].unique())\n",
    "display(data)"
   ]
  },
  {
   "cell_type": "code",
   "execution_count": 28,
   "metadata": {},
   "outputs": [],
   "source": [
    "data.loc[data['Gearbox'] == 'manual', 'Gearbox'] = 0\n",
    "data.loc[data['Gearbox'] == 'auto', 'Gearbox'] = 1\n",
    "data['Gearbox'] = data['Gearbox'].astype('int64')"
   ]
  },
  {
   "cell_type": "code",
   "execution_count": 29,
   "metadata": {},
   "outputs": [],
   "source": [
    "data.loc[data['Repaired'] == 'no', 'Repaired'] = 0\n",
    "data.loc[data['Repaired'] == 'yes', 'Repaired'] = 1\n",
    "data['Repaired'] = data['Repaired'].astype('int64')"
   ]
  },
  {
   "cell_type": "markdown",
   "metadata": {},
   "source": [
    "- Загрузили и изучили данные.\n",
    "- Явные дубликаты удалены.\n",
    "- Неинформативные признаки удалены.\n",
    "- Обработали аномалии в столбцах.\n",
    "- Заполнили пропущенные значения."
   ]
  },
  {
   "cell_type": "markdown",
   "metadata": {},
   "source": [
    "## Обучение моделей"
   ]
  },
  {
   "cell_type": "code",
   "execution_count": 30,
   "metadata": {},
   "outputs": [],
   "source": [
    "# Разобьём данные, выделив целевой признак\n",
    "features = data.drop('Price', axis=1)\n",
    "target = data['Price']"
   ]
  },
  {
   "cell_type": "code",
   "execution_count": 31,
   "metadata": {},
   "outputs": [],
   "source": [
    "# Разделим данные на выборки\n",
    "features_train_valid, features_test, target_train_valid, target_test = train_test_split(\n",
    "    features,target, test_size=0.25, random_state = 42)"
   ]
  },
  {
   "cell_type": "code",
   "execution_count": 32,
   "metadata": {},
   "outputs": [],
   "source": [
    "features_train, features_valid, target_train, target_valid = train_test_split(\n",
    "    features_train_valid, target_train_valid, test_size=0.25, random_state = 42)"
   ]
  },
  {
   "cell_type": "code",
   "execution_count": 33,
   "metadata": {},
   "outputs": [],
   "source": [
    "# Сбросим индексы\n",
    "features_train = features_train.reset_index(drop=True)\n",
    "target_train = target_train.reset_index(drop=True)\n",
    "features_train_valid = features_train_valid.reset_index(drop=True)\n",
    "target_train_valid = target_train_valid.reset_index(drop=True)\n",
    "features_valid = features_valid.reset_index(drop=True)\n",
    "target_valid = target_valid.reset_index(drop=True)\n",
    "features_test = features_test.reset_index(drop=True)\n",
    "target_test = target_test.reset_index(drop=True)"
   ]
  },
  {
   "cell_type": "code",
   "execution_count": 34,
   "metadata": {},
   "outputs": [],
   "source": [
    "categorical = ['VehicleType', 'Model', 'FuelType', 'Brand']"
   ]
  },
  {
   "cell_type": "code",
   "execution_count": 35,
   "metadata": {},
   "outputs": [
    {
     "data": {
      "text/plain": [
       "\"Выборка 'train'\""
      ]
     },
     "metadata": {},
     "output_type": "display_data"
    },
    {
     "data": {
      "text/html": [
       "<div>\n",
       "<style scoped>\n",
       "    .dataframe tbody tr th:only-of-type {\n",
       "        vertical-align: middle;\n",
       "    }\n",
       "\n",
       "    .dataframe tbody tr th {\n",
       "        vertical-align: top;\n",
       "    }\n",
       "\n",
       "    .dataframe thead th {\n",
       "        text-align: right;\n",
       "    }\n",
       "</style>\n",
       "<table border=\"1\" class=\"dataframe\">\n",
       "  <thead>\n",
       "    <tr style=\"text-align: right;\">\n",
       "      <th></th>\n",
       "      <th>VehicleType</th>\n",
       "      <th>RegistrationYear</th>\n",
       "      <th>Gearbox</th>\n",
       "      <th>Power</th>\n",
       "      <th>Model</th>\n",
       "      <th>Kilometer</th>\n",
       "      <th>FuelType</th>\n",
       "      <th>Brand</th>\n",
       "      <th>Repaired</th>\n",
       "    </tr>\n",
       "  </thead>\n",
       "  <tbody>\n",
       "    <tr>\n",
       "      <th>0</th>\n",
       "      <td>5.0</td>\n",
       "      <td>2011</td>\n",
       "      <td>1</td>\n",
       "      <td>140.0</td>\n",
       "      <td>43.0</td>\n",
       "      <td>100000</td>\n",
       "      <td>7.0</td>\n",
       "      <td>24.0</td>\n",
       "      <td>1</td>\n",
       "    </tr>\n",
       "    <tr>\n",
       "      <th>1</th>\n",
       "      <td>3.0</td>\n",
       "      <td>2001</td>\n",
       "      <td>0</td>\n",
       "      <td>170.0</td>\n",
       "      <td>11.0</td>\n",
       "      <td>150000</td>\n",
       "      <td>7.0</td>\n",
       "      <td>2.0</td>\n",
       "      <td>0</td>\n",
       "    </tr>\n",
       "    <tr>\n",
       "      <th>2</th>\n",
       "      <td>5.0</td>\n",
       "      <td>1995</td>\n",
       "      <td>1</td>\n",
       "      <td>75.0</td>\n",
       "      <td>117.0</td>\n",
       "      <td>100000</td>\n",
       "      <td>7.0</td>\n",
       "      <td>38.0</td>\n",
       "      <td>0</td>\n",
       "    </tr>\n",
       "    <tr>\n",
       "      <th>3</th>\n",
       "      <td>6.0</td>\n",
       "      <td>2011</td>\n",
       "      <td>0</td>\n",
       "      <td>75.0</td>\n",
       "      <td>76.0</td>\n",
       "      <td>60000</td>\n",
       "      <td>7.0</td>\n",
       "      <td>27.0</td>\n",
       "      <td>0</td>\n",
       "    </tr>\n",
       "    <tr>\n",
       "      <th>4</th>\n",
       "      <td>5.0</td>\n",
       "      <td>2010</td>\n",
       "      <td>0</td>\n",
       "      <td>95.0</td>\n",
       "      <td>79.0</td>\n",
       "      <td>50000</td>\n",
       "      <td>7.0</td>\n",
       "      <td>22.0</td>\n",
       "      <td>0</td>\n",
       "    </tr>\n",
       "  </tbody>\n",
       "</table>\n",
       "</div>"
      ],
      "text/plain": [
       "   VehicleType  RegistrationYear  Gearbox  Power  Model  Kilometer  FuelType  \\\n",
       "0          5.0              2011        1  140.0   43.0     100000       7.0   \n",
       "1          3.0              2001        0  170.0   11.0     150000       7.0   \n",
       "2          5.0              1995        1   75.0  117.0     100000       7.0   \n",
       "3          6.0              2011        0   75.0   76.0      60000       7.0   \n",
       "4          5.0              2010        0   95.0   79.0      50000       7.0   \n",
       "\n",
       "   Brand  Repaired  \n",
       "0   24.0         1  \n",
       "1    2.0         0  \n",
       "2   38.0         0  \n",
       "3   27.0         0  \n",
       "4   22.0         0  "
      ]
     },
     "metadata": {},
     "output_type": "display_data"
    },
    {
     "data": {
      "text/plain": [
       "\"Выборка 'train_valid'\""
      ]
     },
     "metadata": {},
     "output_type": "display_data"
    },
    {
     "data": {
      "text/html": [
       "<div>\n",
       "<style scoped>\n",
       "    .dataframe tbody tr th:only-of-type {\n",
       "        vertical-align: middle;\n",
       "    }\n",
       "\n",
       "    .dataframe tbody tr th {\n",
       "        vertical-align: top;\n",
       "    }\n",
       "\n",
       "    .dataframe thead th {\n",
       "        text-align: right;\n",
       "    }\n",
       "</style>\n",
       "<table border=\"1\" class=\"dataframe\">\n",
       "  <thead>\n",
       "    <tr style=\"text-align: right;\">\n",
       "      <th></th>\n",
       "      <th>VehicleType</th>\n",
       "      <th>RegistrationYear</th>\n",
       "      <th>Gearbox</th>\n",
       "      <th>Power</th>\n",
       "      <th>Model</th>\n",
       "      <th>Kilometer</th>\n",
       "      <th>FuelType</th>\n",
       "      <th>Brand</th>\n",
       "      <th>Repaired</th>\n",
       "    </tr>\n",
       "  </thead>\n",
       "  <tbody>\n",
       "    <tr>\n",
       "      <th>0</th>\n",
       "      <td>6.0</td>\n",
       "      <td>2003</td>\n",
       "      <td>0</td>\n",
       "      <td>55.0</td>\n",
       "      <td>84.0</td>\n",
       "      <td>150000</td>\n",
       "      <td>7.0</td>\n",
       "      <td>24.0</td>\n",
       "      <td>0</td>\n",
       "    </tr>\n",
       "    <tr>\n",
       "      <th>1</th>\n",
       "      <td>5.0</td>\n",
       "      <td>1998</td>\n",
       "      <td>1</td>\n",
       "      <td>150.0</td>\n",
       "      <td>33.0</td>\n",
       "      <td>150000</td>\n",
       "      <td>7.0</td>\n",
       "      <td>20.0</td>\n",
       "      <td>1</td>\n",
       "    </tr>\n",
       "    <tr>\n",
       "      <th>2</th>\n",
       "      <td>1.0</td>\n",
       "      <td>2002</td>\n",
       "      <td>0</td>\n",
       "      <td>102.0</td>\n",
       "      <td>221.0</td>\n",
       "      <td>150000</td>\n",
       "      <td>3.0</td>\n",
       "      <td>38.0</td>\n",
       "      <td>0</td>\n",
       "    </tr>\n",
       "    <tr>\n",
       "      <th>3</th>\n",
       "      <td>6.0</td>\n",
       "      <td>2006</td>\n",
       "      <td>1</td>\n",
       "      <td>90.0</td>\n",
       "      <td>242.0</td>\n",
       "      <td>150000</td>\n",
       "      <td>3.0</td>\n",
       "      <td>36.0</td>\n",
       "      <td>1</td>\n",
       "    </tr>\n",
       "    <tr>\n",
       "      <th>4</th>\n",
       "      <td>1.0</td>\n",
       "      <td>2003</td>\n",
       "      <td>0</td>\n",
       "      <td>129.0</td>\n",
       "      <td>210.0</td>\n",
       "      <td>150000</td>\n",
       "      <td>3.0</td>\n",
       "      <td>20.0</td>\n",
       "      <td>0</td>\n",
       "    </tr>\n",
       "  </tbody>\n",
       "</table>\n",
       "</div>"
      ],
      "text/plain": [
       "   VehicleType  RegistrationYear  Gearbox  Power  Model  Kilometer  FuelType  \\\n",
       "0          6.0              2003        0   55.0   84.0     150000       7.0   \n",
       "1          5.0              1998        1  150.0   33.0     150000       7.0   \n",
       "2          1.0              2002        0  102.0  221.0     150000       3.0   \n",
       "3          6.0              2006        1   90.0  242.0     150000       3.0   \n",
       "4          1.0              2003        0  129.0  210.0     150000       3.0   \n",
       "\n",
       "   Brand  Repaired  \n",
       "0   24.0         0  \n",
       "1   20.0         1  \n",
       "2   38.0         0  \n",
       "3   36.0         1  \n",
       "4   20.0         0  "
      ]
     },
     "metadata": {},
     "output_type": "display_data"
    },
    {
     "data": {
      "text/plain": [
       "\"Выборка 'valid'\""
      ]
     },
     "metadata": {},
     "output_type": "display_data"
    },
    {
     "data": {
      "text/html": [
       "<div>\n",
       "<style scoped>\n",
       "    .dataframe tbody tr th:only-of-type {\n",
       "        vertical-align: middle;\n",
       "    }\n",
       "\n",
       "    .dataframe tbody tr th {\n",
       "        vertical-align: top;\n",
       "    }\n",
       "\n",
       "    .dataframe thead th {\n",
       "        text-align: right;\n",
       "    }\n",
       "</style>\n",
       "<table border=\"1\" class=\"dataframe\">\n",
       "  <thead>\n",
       "    <tr style=\"text-align: right;\">\n",
       "      <th></th>\n",
       "      <th>VehicleType</th>\n",
       "      <th>RegistrationYear</th>\n",
       "      <th>Gearbox</th>\n",
       "      <th>Power</th>\n",
       "      <th>Model</th>\n",
       "      <th>Kilometer</th>\n",
       "      <th>FuelType</th>\n",
       "      <th>Brand</th>\n",
       "      <th>Repaired</th>\n",
       "    </tr>\n",
       "  </thead>\n",
       "  <tbody>\n",
       "    <tr>\n",
       "      <th>0</th>\n",
       "      <td>2.0</td>\n",
       "      <td>1996</td>\n",
       "      <td>0</td>\n",
       "      <td>192.0</td>\n",
       "      <td>208.0</td>\n",
       "      <td>90000</td>\n",
       "      <td>7.0</td>\n",
       "      <td>0.0</td>\n",
       "      <td>0</td>\n",
       "    </tr>\n",
       "    <tr>\n",
       "      <th>1</th>\n",
       "      <td>3.0</td>\n",
       "      <td>2009</td>\n",
       "      <td>0</td>\n",
       "      <td>160.0</td>\n",
       "      <td>199.0</td>\n",
       "      <td>90000</td>\n",
       "      <td>7.0</td>\n",
       "      <td>38.0</td>\n",
       "      <td>0</td>\n",
       "    </tr>\n",
       "    <tr>\n",
       "      <th>2</th>\n",
       "      <td>6.0</td>\n",
       "      <td>2005</td>\n",
       "      <td>0</td>\n",
       "      <td>110.0</td>\n",
       "      <td>83.0</td>\n",
       "      <td>70000</td>\n",
       "      <td>7.0</td>\n",
       "      <td>36.0</td>\n",
       "      <td>0</td>\n",
       "    </tr>\n",
       "    <tr>\n",
       "      <th>3</th>\n",
       "      <td>0.0</td>\n",
       "      <td>2004</td>\n",
       "      <td>0</td>\n",
       "      <td>163.0</td>\n",
       "      <td>11.0</td>\n",
       "      <td>150000</td>\n",
       "      <td>3.0</td>\n",
       "      <td>2.0</td>\n",
       "      <td>0</td>\n",
       "    </tr>\n",
       "    <tr>\n",
       "      <th>4</th>\n",
       "      <td>6.0</td>\n",
       "      <td>2011</td>\n",
       "      <td>0</td>\n",
       "      <td>60.0</td>\n",
       "      <td>174.0</td>\n",
       "      <td>90000</td>\n",
       "      <td>7.0</td>\n",
       "      <td>38.0</td>\n",
       "      <td>0</td>\n",
       "    </tr>\n",
       "  </tbody>\n",
       "</table>\n",
       "</div>"
      ],
      "text/plain": [
       "   VehicleType  RegistrationYear  Gearbox  Power  Model  Kilometer  FuelType  \\\n",
       "0          2.0              1996        0  192.0  208.0      90000       7.0   \n",
       "1          3.0              2009        0  160.0  199.0      90000       7.0   \n",
       "2          6.0              2005        0  110.0   83.0      70000       7.0   \n",
       "3          0.0              2004        0  163.0   11.0     150000       3.0   \n",
       "4          6.0              2011        0   60.0  174.0      90000       7.0   \n",
       "\n",
       "   Brand  Repaired  \n",
       "0    0.0         0  \n",
       "1   38.0         0  \n",
       "2   36.0         0  \n",
       "3    2.0         0  \n",
       "4   38.0         0  "
      ]
     },
     "metadata": {},
     "output_type": "display_data"
    },
    {
     "data": {
      "text/plain": [
       "\"Выборка 'test'\""
      ]
     },
     "metadata": {},
     "output_type": "display_data"
    },
    {
     "data": {
      "text/html": [
       "<div>\n",
       "<style scoped>\n",
       "    .dataframe tbody tr th:only-of-type {\n",
       "        vertical-align: middle;\n",
       "    }\n",
       "\n",
       "    .dataframe tbody tr th {\n",
       "        vertical-align: top;\n",
       "    }\n",
       "\n",
       "    .dataframe thead th {\n",
       "        text-align: right;\n",
       "    }\n",
       "</style>\n",
       "<table border=\"1\" class=\"dataframe\">\n",
       "  <thead>\n",
       "    <tr style=\"text-align: right;\">\n",
       "      <th></th>\n",
       "      <th>VehicleType</th>\n",
       "      <th>RegistrationYear</th>\n",
       "      <th>Gearbox</th>\n",
       "      <th>Power</th>\n",
       "      <th>Model</th>\n",
       "      <th>Kilometer</th>\n",
       "      <th>FuelType</th>\n",
       "      <th>Brand</th>\n",
       "      <th>Repaired</th>\n",
       "    </tr>\n",
       "  </thead>\n",
       "  <tbody>\n",
       "    <tr>\n",
       "      <th>0</th>\n",
       "      <td>1.0</td>\n",
       "      <td>2003</td>\n",
       "      <td>0</td>\n",
       "      <td>101.0</td>\n",
       "      <td>151.0</td>\n",
       "      <td>70000</td>\n",
       "      <td>7.0</td>\n",
       "      <td>24.0</td>\n",
       "      <td>1</td>\n",
       "    </tr>\n",
       "    <tr>\n",
       "      <th>1</th>\n",
       "      <td>7.0</td>\n",
       "      <td>2005</td>\n",
       "      <td>1</td>\n",
       "      <td>140.0</td>\n",
       "      <td>206.0</td>\n",
       "      <td>100000</td>\n",
       "      <td>3.0</td>\n",
       "      <td>15.0</td>\n",
       "      <td>0</td>\n",
       "    </tr>\n",
       "    <tr>\n",
       "      <th>2</th>\n",
       "      <td>8.0</td>\n",
       "      <td>2000</td>\n",
       "      <td>0</td>\n",
       "      <td>116.0</td>\n",
       "      <td>11.0</td>\n",
       "      <td>150000</td>\n",
       "      <td>7.0</td>\n",
       "      <td>2.0</td>\n",
       "      <td>0</td>\n",
       "    </tr>\n",
       "    <tr>\n",
       "      <th>3</th>\n",
       "      <td>6.0</td>\n",
       "      <td>2000</td>\n",
       "      <td>0</td>\n",
       "      <td>60.0</td>\n",
       "      <td>174.0</td>\n",
       "      <td>150000</td>\n",
       "      <td>7.0</td>\n",
       "      <td>38.0</td>\n",
       "      <td>1</td>\n",
       "    </tr>\n",
       "    <tr>\n",
       "      <th>4</th>\n",
       "      <td>6.0</td>\n",
       "      <td>1995</td>\n",
       "      <td>0</td>\n",
       "      <td>101.0</td>\n",
       "      <td>40.0</td>\n",
       "      <td>150000</td>\n",
       "      <td>7.0</td>\n",
       "      <td>24.0</td>\n",
       "      <td>1</td>\n",
       "    </tr>\n",
       "  </tbody>\n",
       "</table>\n",
       "</div>"
      ],
      "text/plain": [
       "   VehicleType  RegistrationYear  Gearbox  Power  Model  Kilometer  FuelType  \\\n",
       "0          1.0              2003        0  101.0  151.0      70000       7.0   \n",
       "1          7.0              2005        1  140.0  206.0     100000       3.0   \n",
       "2          8.0              2000        0  116.0   11.0     150000       7.0   \n",
       "3          6.0              2000        0   60.0  174.0     150000       7.0   \n",
       "4          6.0              1995        0  101.0   40.0     150000       7.0   \n",
       "\n",
       "   Brand  Repaired  \n",
       "0   24.0         1  \n",
       "1   15.0         0  \n",
       "2    2.0         0  \n",
       "3   38.0         1  \n",
       "4   24.0         1  "
      ]
     },
     "metadata": {},
     "output_type": "display_data"
    }
   ],
   "source": [
    "# Преобразуем категориальные признаки в численные\n",
    "features_train_ordinal = features_train.copy()\n",
    "features_train_valid_ordinal = features_train_valid.copy()\n",
    "features_valid_ordinal = features_valid.copy()\n",
    "features_test_ordinal = features_test.copy()\n",
    "encoder = OrdinalEncoder(handle_unknown='use_encoded_value', unknown_value=-1) \n",
    "features_train_ordinal[categorical] = encoder.fit_transform(features_train_ordinal[categorical])\n",
    "features_train_valid_ordinal[categorical] = encoder.transform(features_train_valid_ordinal[categorical])\n",
    "features_valid_ordinal[categorical] = encoder.transform(features_valid_ordinal[categorical])\n",
    "features_test_ordinal[categorical] = encoder.transform(features_test_ordinal[categorical])\n",
    "display(\"Выборка 'train'\", features_train_ordinal.head())\n",
    "display(\"Выборка 'train_valid'\", features_train_valid_ordinal.head())\n",
    "display(\"Выборка 'valid'\", features_valid_ordinal.head())\n",
    "display(\"Выборка 'test'\", features_test_ordinal.head())"
   ]
  },
  {
   "cell_type": "code",
   "execution_count": 36,
   "metadata": {},
   "outputs": [
    {
     "data": {
      "text/plain": [
       "Index(['VehicleType', 'RegistrationYear', 'Gearbox', 'Power', 'Model',\n",
       "       'Kilometer', 'FuelType', 'Brand', 'Repaired'],\n",
       "      dtype='object')"
      ]
     },
     "execution_count": 36,
     "metadata": {},
     "output_type": "execute_result"
    }
   ],
   "source": [
    "# Масштабирование численных признаков для моделей LGBMRegressor и RandomForestRegressor\n",
    "numerical = features_train_ordinal.columns\n",
    "numerical"
   ]
  },
  {
   "cell_type": "code",
   "execution_count": 37,
   "metadata": {},
   "outputs": [
    {
     "data": {
      "text/plain": [
       "\"Выборка 'train'\""
      ]
     },
     "metadata": {},
     "output_type": "display_data"
    },
    {
     "data": {
      "text/html": [
       "<div>\n",
       "<style scoped>\n",
       "    .dataframe tbody tr th:only-of-type {\n",
       "        vertical-align: middle;\n",
       "    }\n",
       "\n",
       "    .dataframe tbody tr th {\n",
       "        vertical-align: top;\n",
       "    }\n",
       "\n",
       "    .dataframe thead th {\n",
       "        text-align: right;\n",
       "    }\n",
       "</style>\n",
       "<table border=\"1\" class=\"dataframe\">\n",
       "  <thead>\n",
       "    <tr style=\"text-align: right;\">\n",
       "      <th></th>\n",
       "      <th>VehicleType</th>\n",
       "      <th>RegistrationYear</th>\n",
       "      <th>Gearbox</th>\n",
       "      <th>Power</th>\n",
       "      <th>Model</th>\n",
       "      <th>Kilometer</th>\n",
       "      <th>FuelType</th>\n",
       "      <th>Brand</th>\n",
       "      <th>Repaired</th>\n",
       "    </tr>\n",
       "  </thead>\n",
       "  <tbody>\n",
       "    <tr>\n",
       "      <th>0</th>\n",
       "      <td>0.011403</td>\n",
       "      <td>1.362466</td>\n",
       "      <td>1.917590</td>\n",
       "      <td>0.378666</td>\n",
       "      <td>-0.891589</td>\n",
       "      <td>-0.773508</td>\n",
       "      <td>0.737144</td>\n",
       "      <td>0.241149</td>\n",
       "      <td>2.063454</td>\n",
       "    </tr>\n",
       "    <tr>\n",
       "      <th>1</th>\n",
       "      <td>-0.823190</td>\n",
       "      <td>-0.350060</td>\n",
       "      <td>-0.521488</td>\n",
       "      <td>0.947308</td>\n",
       "      <td>-1.348056</td>\n",
       "      <td>0.575642</td>\n",
       "      <td>0.737144</td>\n",
       "      <td>-1.412114</td>\n",
       "      <td>-0.484624</td>\n",
       "    </tr>\n",
       "    <tr>\n",
       "      <th>2</th>\n",
       "      <td>0.011403</td>\n",
       "      <td>-1.377576</td>\n",
       "      <td>1.917590</td>\n",
       "      <td>-0.853392</td>\n",
       "      <td>0.163991</td>\n",
       "      <td>-0.773508</td>\n",
       "      <td>0.737144</td>\n",
       "      <td>1.293226</td>\n",
       "      <td>-0.484624</td>\n",
       "    </tr>\n",
       "    <tr>\n",
       "      <th>3</th>\n",
       "      <td>0.428700</td>\n",
       "      <td>1.362466</td>\n",
       "      <td>-0.521488</td>\n",
       "      <td>-0.853392</td>\n",
       "      <td>-0.420857</td>\n",
       "      <td>-1.852828</td>\n",
       "      <td>0.737144</td>\n",
       "      <td>0.466594</td>\n",
       "      <td>-0.484624</td>\n",
       "    </tr>\n",
       "    <tr>\n",
       "      <th>4</th>\n",
       "      <td>0.011403</td>\n",
       "      <td>1.191214</td>\n",
       "      <td>-0.521488</td>\n",
       "      <td>-0.474297</td>\n",
       "      <td>-0.378063</td>\n",
       "      <td>-2.122658</td>\n",
       "      <td>0.737144</td>\n",
       "      <td>0.090853</td>\n",
       "      <td>-0.484624</td>\n",
       "    </tr>\n",
       "  </tbody>\n",
       "</table>\n",
       "</div>"
      ],
      "text/plain": [
       "   VehicleType  RegistrationYear   Gearbox     Power     Model  Kilometer  \\\n",
       "0     0.011403          1.362466  1.917590  0.378666 -0.891589  -0.773508   \n",
       "1    -0.823190         -0.350060 -0.521488  0.947308 -1.348056   0.575642   \n",
       "2     0.011403         -1.377576  1.917590 -0.853392  0.163991  -0.773508   \n",
       "3     0.428700          1.362466 -0.521488 -0.853392 -0.420857  -1.852828   \n",
       "4     0.011403          1.191214 -0.521488 -0.474297 -0.378063  -2.122658   \n",
       "\n",
       "   FuelType     Brand  Repaired  \n",
       "0  0.737144  0.241149  2.063454  \n",
       "1  0.737144 -1.412114 -0.484624  \n",
       "2  0.737144  1.293226 -0.484624  \n",
       "3  0.737144  0.466594 -0.484624  \n",
       "4  0.737144  0.090853 -0.484624  "
      ]
     },
     "metadata": {},
     "output_type": "display_data"
    },
    {
     "data": {
      "text/plain": [
       "\"Выборка 'train_valid'\""
      ]
     },
     "metadata": {},
     "output_type": "display_data"
    },
    {
     "data": {
      "text/html": [
       "<div>\n",
       "<style scoped>\n",
       "    .dataframe tbody tr th:only-of-type {\n",
       "        vertical-align: middle;\n",
       "    }\n",
       "\n",
       "    .dataframe tbody tr th {\n",
       "        vertical-align: top;\n",
       "    }\n",
       "\n",
       "    .dataframe thead th {\n",
       "        text-align: right;\n",
       "    }\n",
       "</style>\n",
       "<table border=\"1\" class=\"dataframe\">\n",
       "  <thead>\n",
       "    <tr style=\"text-align: right;\">\n",
       "      <th></th>\n",
       "      <th>VehicleType</th>\n",
       "      <th>RegistrationYear</th>\n",
       "      <th>Gearbox</th>\n",
       "      <th>Power</th>\n",
       "      <th>Model</th>\n",
       "      <th>Kilometer</th>\n",
       "      <th>FuelType</th>\n",
       "      <th>Brand</th>\n",
       "      <th>Repaired</th>\n",
       "    </tr>\n",
       "  </thead>\n",
       "  <tbody>\n",
       "    <tr>\n",
       "      <th>0</th>\n",
       "      <td>0.428700</td>\n",
       "      <td>-0.007555</td>\n",
       "      <td>-0.521488</td>\n",
       "      <td>-1.232487</td>\n",
       "      <td>-0.306740</td>\n",
       "      <td>0.575642</td>\n",
       "      <td>0.737144</td>\n",
       "      <td>0.241149</td>\n",
       "      <td>-0.484624</td>\n",
       "    </tr>\n",
       "    <tr>\n",
       "      <th>1</th>\n",
       "      <td>0.011403</td>\n",
       "      <td>-0.863818</td>\n",
       "      <td>1.917590</td>\n",
       "      <td>0.568213</td>\n",
       "      <td>-1.034235</td>\n",
       "      <td>0.575642</td>\n",
       "      <td>0.737144</td>\n",
       "      <td>-0.059444</td>\n",
       "      <td>2.063454</td>\n",
       "    </tr>\n",
       "    <tr>\n",
       "      <th>2</th>\n",
       "      <td>-1.657783</td>\n",
       "      <td>-0.178807</td>\n",
       "      <td>-0.521488</td>\n",
       "      <td>-0.341614</td>\n",
       "      <td>1.647510</td>\n",
       "      <td>0.575642</td>\n",
       "      <td>-0.988276</td>\n",
       "      <td>1.293226</td>\n",
       "      <td>-0.484624</td>\n",
       "    </tr>\n",
       "    <tr>\n",
       "      <th>3</th>\n",
       "      <td>0.428700</td>\n",
       "      <td>0.506203</td>\n",
       "      <td>1.917590</td>\n",
       "      <td>-0.569071</td>\n",
       "      <td>1.947067</td>\n",
       "      <td>0.575642</td>\n",
       "      <td>-0.988276</td>\n",
       "      <td>1.142929</td>\n",
       "      <td>2.063454</td>\n",
       "    </tr>\n",
       "    <tr>\n",
       "      <th>4</th>\n",
       "      <td>-1.657783</td>\n",
       "      <td>-0.007555</td>\n",
       "      <td>-0.521488</td>\n",
       "      <td>0.170164</td>\n",
       "      <td>1.490599</td>\n",
       "      <td>0.575642</td>\n",
       "      <td>-0.988276</td>\n",
       "      <td>-0.059444</td>\n",
       "      <td>-0.484624</td>\n",
       "    </tr>\n",
       "  </tbody>\n",
       "</table>\n",
       "</div>"
      ],
      "text/plain": [
       "   VehicleType  RegistrationYear   Gearbox     Power     Model  Kilometer  \\\n",
       "0     0.428700         -0.007555 -0.521488 -1.232487 -0.306740   0.575642   \n",
       "1     0.011403         -0.863818  1.917590  0.568213 -1.034235   0.575642   \n",
       "2    -1.657783         -0.178807 -0.521488 -0.341614  1.647510   0.575642   \n",
       "3     0.428700          0.506203  1.917590 -0.569071  1.947067   0.575642   \n",
       "4    -1.657783         -0.007555 -0.521488  0.170164  1.490599   0.575642   \n",
       "\n",
       "   FuelType     Brand  Repaired  \n",
       "0  0.737144  0.241149 -0.484624  \n",
       "1  0.737144 -0.059444  2.063454  \n",
       "2 -0.988276  1.293226 -0.484624  \n",
       "3 -0.988276  1.142929  2.063454  \n",
       "4 -0.988276 -0.059444 -0.484624  "
      ]
     },
     "metadata": {},
     "output_type": "display_data"
    },
    {
     "data": {
      "text/plain": [
       "\"Выборка 'valid'\""
      ]
     },
     "metadata": {},
     "output_type": "display_data"
    },
    {
     "data": {
      "text/html": [
       "<div>\n",
       "<style scoped>\n",
       "    .dataframe tbody tr th:only-of-type {\n",
       "        vertical-align: middle;\n",
       "    }\n",
       "\n",
       "    .dataframe tbody tr th {\n",
       "        vertical-align: top;\n",
       "    }\n",
       "\n",
       "    .dataframe thead th {\n",
       "        text-align: right;\n",
       "    }\n",
       "</style>\n",
       "<table border=\"1\" class=\"dataframe\">\n",
       "  <thead>\n",
       "    <tr style=\"text-align: right;\">\n",
       "      <th></th>\n",
       "      <th>VehicleType</th>\n",
       "      <th>RegistrationYear</th>\n",
       "      <th>Gearbox</th>\n",
       "      <th>Power</th>\n",
       "      <th>Model</th>\n",
       "      <th>Kilometer</th>\n",
       "      <th>FuelType</th>\n",
       "      <th>Brand</th>\n",
       "      <th>Repaired</th>\n",
       "    </tr>\n",
       "  </thead>\n",
       "  <tbody>\n",
       "    <tr>\n",
       "      <th>0</th>\n",
       "      <td>-1.240487</td>\n",
       "      <td>-1.206323</td>\n",
       "      <td>-0.521488</td>\n",
       "      <td>1.364313</td>\n",
       "      <td>1.462070</td>\n",
       "      <td>-1.043338</td>\n",
       "      <td>0.737144</td>\n",
       "      <td>-1.562410</td>\n",
       "      <td>-0.484624</td>\n",
       "    </tr>\n",
       "    <tr>\n",
       "      <th>1</th>\n",
       "      <td>-0.823190</td>\n",
       "      <td>1.019961</td>\n",
       "      <td>-0.521488</td>\n",
       "      <td>0.757761</td>\n",
       "      <td>1.333689</td>\n",
       "      <td>-1.043338</td>\n",
       "      <td>0.737144</td>\n",
       "      <td>1.293226</td>\n",
       "      <td>-0.484624</td>\n",
       "    </tr>\n",
       "    <tr>\n",
       "      <th>2</th>\n",
       "      <td>0.428700</td>\n",
       "      <td>0.334950</td>\n",
       "      <td>-0.521488</td>\n",
       "      <td>-0.189976</td>\n",
       "      <td>-0.321005</td>\n",
       "      <td>-1.582998</td>\n",
       "      <td>0.737144</td>\n",
       "      <td>1.142929</td>\n",
       "      <td>-0.484624</td>\n",
       "    </tr>\n",
       "    <tr>\n",
       "      <th>3</th>\n",
       "      <td>-2.075080</td>\n",
       "      <td>0.163698</td>\n",
       "      <td>-0.521488</td>\n",
       "      <td>0.814625</td>\n",
       "      <td>-1.348056</td>\n",
       "      <td>0.575642</td>\n",
       "      <td>-0.988276</td>\n",
       "      <td>-1.412114</td>\n",
       "      <td>-0.484624</td>\n",
       "    </tr>\n",
       "    <tr>\n",
       "      <th>4</th>\n",
       "      <td>0.428700</td>\n",
       "      <td>1.362466</td>\n",
       "      <td>-0.521488</td>\n",
       "      <td>-1.137713</td>\n",
       "      <td>0.977074</td>\n",
       "      <td>-1.043338</td>\n",
       "      <td>0.737144</td>\n",
       "      <td>1.293226</td>\n",
       "      <td>-0.484624</td>\n",
       "    </tr>\n",
       "  </tbody>\n",
       "</table>\n",
       "</div>"
      ],
      "text/plain": [
       "   VehicleType  RegistrationYear   Gearbox     Power     Model  Kilometer  \\\n",
       "0    -1.240487         -1.206323 -0.521488  1.364313  1.462070  -1.043338   \n",
       "1    -0.823190          1.019961 -0.521488  0.757761  1.333689  -1.043338   \n",
       "2     0.428700          0.334950 -0.521488 -0.189976 -0.321005  -1.582998   \n",
       "3    -2.075080          0.163698 -0.521488  0.814625 -1.348056   0.575642   \n",
       "4     0.428700          1.362466 -0.521488 -1.137713  0.977074  -1.043338   \n",
       "\n",
       "   FuelType     Brand  Repaired  \n",
       "0  0.737144 -1.562410 -0.484624  \n",
       "1  0.737144  1.293226 -0.484624  \n",
       "2  0.737144  1.142929 -0.484624  \n",
       "3 -0.988276 -1.412114 -0.484624  \n",
       "4  0.737144  1.293226 -0.484624  "
      ]
     },
     "metadata": {},
     "output_type": "display_data"
    },
    {
     "data": {
      "text/plain": [
       "\"Выборка 'test'\""
      ]
     },
     "metadata": {},
     "output_type": "display_data"
    },
    {
     "data": {
      "text/html": [
       "<div>\n",
       "<style scoped>\n",
       "    .dataframe tbody tr th:only-of-type {\n",
       "        vertical-align: middle;\n",
       "    }\n",
       "\n",
       "    .dataframe tbody tr th {\n",
       "        vertical-align: top;\n",
       "    }\n",
       "\n",
       "    .dataframe thead th {\n",
       "        text-align: right;\n",
       "    }\n",
       "</style>\n",
       "<table border=\"1\" class=\"dataframe\">\n",
       "  <thead>\n",
       "    <tr style=\"text-align: right;\">\n",
       "      <th></th>\n",
       "      <th>VehicleType</th>\n",
       "      <th>RegistrationYear</th>\n",
       "      <th>Gearbox</th>\n",
       "      <th>Power</th>\n",
       "      <th>Model</th>\n",
       "      <th>Kilometer</th>\n",
       "      <th>FuelType</th>\n",
       "      <th>Brand</th>\n",
       "      <th>Repaired</th>\n",
       "    </tr>\n",
       "  </thead>\n",
       "  <tbody>\n",
       "    <tr>\n",
       "      <th>0</th>\n",
       "      <td>-1.657783</td>\n",
       "      <td>-0.007555</td>\n",
       "      <td>-0.521488</td>\n",
       "      <td>-0.360569</td>\n",
       "      <td>0.648988</td>\n",
       "      <td>-1.582998</td>\n",
       "      <td>0.737144</td>\n",
       "      <td>0.241149</td>\n",
       "      <td>2.063454</td>\n",
       "    </tr>\n",
       "    <tr>\n",
       "      <th>1</th>\n",
       "      <td>0.845997</td>\n",
       "      <td>0.334950</td>\n",
       "      <td>1.917590</td>\n",
       "      <td>0.378666</td>\n",
       "      <td>1.433541</td>\n",
       "      <td>-0.773508</td>\n",
       "      <td>-0.988276</td>\n",
       "      <td>-0.435185</td>\n",
       "      <td>-0.484624</td>\n",
       "    </tr>\n",
       "    <tr>\n",
       "      <th>2</th>\n",
       "      <td>1.263294</td>\n",
       "      <td>-0.521313</td>\n",
       "      <td>-0.521488</td>\n",
       "      <td>-0.076248</td>\n",
       "      <td>-1.348056</td>\n",
       "      <td>0.575642</td>\n",
       "      <td>0.737144</td>\n",
       "      <td>-1.412114</td>\n",
       "      <td>-0.484624</td>\n",
       "    </tr>\n",
       "    <tr>\n",
       "      <th>3</th>\n",
       "      <td>0.428700</td>\n",
       "      <td>-0.521313</td>\n",
       "      <td>-0.521488</td>\n",
       "      <td>-1.137713</td>\n",
       "      <td>0.977074</td>\n",
       "      <td>0.575642</td>\n",
       "      <td>0.737144</td>\n",
       "      <td>1.293226</td>\n",
       "      <td>2.063454</td>\n",
       "    </tr>\n",
       "    <tr>\n",
       "      <th>4</th>\n",
       "      <td>0.428700</td>\n",
       "      <td>-1.377576</td>\n",
       "      <td>-0.521488</td>\n",
       "      <td>-0.360569</td>\n",
       "      <td>-0.934383</td>\n",
       "      <td>0.575642</td>\n",
       "      <td>0.737144</td>\n",
       "      <td>0.241149</td>\n",
       "      <td>2.063454</td>\n",
       "    </tr>\n",
       "  </tbody>\n",
       "</table>\n",
       "</div>"
      ],
      "text/plain": [
       "   VehicleType  RegistrationYear   Gearbox     Power     Model  Kilometer  \\\n",
       "0    -1.657783         -0.007555 -0.521488 -0.360569  0.648988  -1.582998   \n",
       "1     0.845997          0.334950  1.917590  0.378666  1.433541  -0.773508   \n",
       "2     1.263294         -0.521313 -0.521488 -0.076248 -1.348056   0.575642   \n",
       "3     0.428700         -0.521313 -0.521488 -1.137713  0.977074   0.575642   \n",
       "4     0.428700         -1.377576 -0.521488 -0.360569 -0.934383   0.575642   \n",
       "\n",
       "   FuelType     Brand  Repaired  \n",
       "0  0.737144  0.241149  2.063454  \n",
       "1 -0.988276 -0.435185 -0.484624  \n",
       "2  0.737144 -1.412114 -0.484624  \n",
       "3  0.737144  1.293226  2.063454  \n",
       "4  0.737144  0.241149  2.063454  "
      ]
     },
     "metadata": {},
     "output_type": "display_data"
    }
   ],
   "source": [
    "# Преобразуем категориальные признаки в численные\n",
    "features_train_ordinal_scaler = features_train_ordinal.copy()\n",
    "features_train_valid_ordinal_scaler = features_train_valid_ordinal.copy()\n",
    "features_valid_ordinal_scaler = features_valid_ordinal.copy()\n",
    "features_test_ordinal_scaler = features_test_ordinal.copy()\n",
    "pd.options.mode.chained_assignment = None\n",
    "scaler = StandardScaler() \n",
    "scaler.fit(features_train_ordinal_scaler[numerical])\n",
    "features_train_ordinal_scaler[numerical] = scaler.transform(features_train_ordinal_scaler[numerical])\n",
    "features_train_valid_ordinal_scaler[numerical] = scaler.transform(features_train_valid_ordinal_scaler[numerical])\n",
    "features_valid_ordinal_scaler[numerical] = scaler.transform(features_valid_ordinal_scaler[numerical])\n",
    "features_test_ordinal_scaler[numerical] = scaler.transform(features_test_ordinal_scaler[numerical])\n",
    "display(\"Выборка 'train'\", features_train_ordinal_scaler.head())\n",
    "display(\"Выборка 'train_valid'\", features_train_valid_ordinal_scaler.head())\n",
    "display(\"Выборка 'valid'\", features_valid_ordinal_scaler.head())\n",
    "display(\"Выборка 'test'\", features_test_ordinal_scaler.head())"
   ]
  },
  {
   "cell_type": "code",
   "execution_count": 38,
   "metadata": {},
   "outputs": [
    {
     "name": "stdout",
     "output_type": "stream",
     "text": [
      "<class 'pandas.core.frame.DataFrame'>\n",
      "RangeIndex: 182568 entries, 0 to 182567\n",
      "Data columns (total 9 columns):\n",
      " #   Column            Non-Null Count   Dtype  \n",
      "---  ------            --------------   -----  \n",
      " 0   VehicleType       182568 non-null  float64\n",
      " 1   RegistrationYear  182568 non-null  float64\n",
      " 2   Gearbox           182568 non-null  float64\n",
      " 3   Power             182568 non-null  float64\n",
      " 4   Model             182568 non-null  float64\n",
      " 5   Kilometer         182568 non-null  float64\n",
      " 6   FuelType          182568 non-null  float64\n",
      " 7   Brand             182568 non-null  float64\n",
      " 8   Repaired          182568 non-null  float64\n",
      "dtypes: float64(9)\n",
      "memory usage: 12.5 MB\n"
     ]
    }
   ],
   "source": [
    "features_train_ordinal_scaler.info()"
   ]
  },
  {
   "cell_type": "code",
   "execution_count": 39,
   "metadata": {},
   "outputs": [],
   "source": [
    "numerical_2 = ['RegistrationYear', 'Gearbox', 'Power', 'Kilometer', 'Repaired']"
   ]
  },
  {
   "cell_type": "code",
   "execution_count": 40,
   "metadata": {},
   "outputs": [
    {
     "data": {
      "text/plain": [
       "\"Выборка 'train'\""
      ]
     },
     "metadata": {},
     "output_type": "display_data"
    },
    {
     "data": {
      "text/html": [
       "<div>\n",
       "<style scoped>\n",
       "    .dataframe tbody tr th:only-of-type {\n",
       "        vertical-align: middle;\n",
       "    }\n",
       "\n",
       "    .dataframe tbody tr th {\n",
       "        vertical-align: top;\n",
       "    }\n",
       "\n",
       "    .dataframe thead th {\n",
       "        text-align: right;\n",
       "    }\n",
       "</style>\n",
       "<table border=\"1\" class=\"dataframe\">\n",
       "  <thead>\n",
       "    <tr style=\"text-align: right;\">\n",
       "      <th></th>\n",
       "      <th>VehicleType</th>\n",
       "      <th>RegistrationYear</th>\n",
       "      <th>Gearbox</th>\n",
       "      <th>Power</th>\n",
       "      <th>Model</th>\n",
       "      <th>Kilometer</th>\n",
       "      <th>FuelType</th>\n",
       "      <th>Brand</th>\n",
       "      <th>Repaired</th>\n",
       "    </tr>\n",
       "  </thead>\n",
       "  <tbody>\n",
       "    <tr>\n",
       "      <th>0</th>\n",
       "      <td>sedan</td>\n",
       "      <td>1.362466</td>\n",
       "      <td>1.917590</td>\n",
       "      <td>0.378666</td>\n",
       "      <td>astra</td>\n",
       "      <td>-0.773508</td>\n",
       "      <td>petrol</td>\n",
       "      <td>opel</td>\n",
       "      <td>2.063454</td>\n",
       "    </tr>\n",
       "    <tr>\n",
       "      <th>1</th>\n",
       "      <td>coupe</td>\n",
       "      <td>-0.350060</td>\n",
       "      <td>-0.521488</td>\n",
       "      <td>0.947308</td>\n",
       "      <td>3er</td>\n",
       "      <td>0.575642</td>\n",
       "      <td>petrol</td>\n",
       "      <td>bmw</td>\n",
       "      <td>-0.484624</td>\n",
       "    </tr>\n",
       "    <tr>\n",
       "      <th>2</th>\n",
       "      <td>sedan</td>\n",
       "      <td>-1.377576</td>\n",
       "      <td>1.917590</td>\n",
       "      <td>-0.853392</td>\n",
       "      <td>golf</td>\n",
       "      <td>-0.773508</td>\n",
       "      <td>petrol</td>\n",
       "      <td>volkswagen</td>\n",
       "      <td>-0.484624</td>\n",
       "    </tr>\n",
       "    <tr>\n",
       "      <th>3</th>\n",
       "      <td>small</td>\n",
       "      <td>1.362466</td>\n",
       "      <td>-0.521488</td>\n",
       "      <td>-0.853392</td>\n",
       "      <td>clio</td>\n",
       "      <td>-1.852828</td>\n",
       "      <td>petrol</td>\n",
       "      <td>renault</td>\n",
       "      <td>-0.484624</td>\n",
       "    </tr>\n",
       "    <tr>\n",
       "      <th>4</th>\n",
       "      <td>sedan</td>\n",
       "      <td>1.191214</td>\n",
       "      <td>-0.521488</td>\n",
       "      <td>-0.474297</td>\n",
       "      <td>colt</td>\n",
       "      <td>-2.122658</td>\n",
       "      <td>petrol</td>\n",
       "      <td>mitsubishi</td>\n",
       "      <td>-0.484624</td>\n",
       "    </tr>\n",
       "  </tbody>\n",
       "</table>\n",
       "</div>"
      ],
      "text/plain": [
       "  VehicleType  RegistrationYear   Gearbox     Power  Model  Kilometer  \\\n",
       "0       sedan          1.362466  1.917590  0.378666  astra  -0.773508   \n",
       "1       coupe         -0.350060 -0.521488  0.947308    3er   0.575642   \n",
       "2       sedan         -1.377576  1.917590 -0.853392   golf  -0.773508   \n",
       "3       small          1.362466 -0.521488 -0.853392   clio  -1.852828   \n",
       "4       sedan          1.191214 -0.521488 -0.474297   colt  -2.122658   \n",
       "\n",
       "  FuelType       Brand  Repaired  \n",
       "0   petrol        opel  2.063454  \n",
       "1   petrol         bmw -0.484624  \n",
       "2   petrol  volkswagen -0.484624  \n",
       "3   petrol     renault -0.484624  \n",
       "4   petrol  mitsubishi -0.484624  "
      ]
     },
     "metadata": {},
     "output_type": "display_data"
    },
    {
     "data": {
      "text/plain": [
       "\"Выборка 'train_valid'\""
      ]
     },
     "metadata": {},
     "output_type": "display_data"
    },
    {
     "data": {
      "text/html": [
       "<div>\n",
       "<style scoped>\n",
       "    .dataframe tbody tr th:only-of-type {\n",
       "        vertical-align: middle;\n",
       "    }\n",
       "\n",
       "    .dataframe tbody tr th {\n",
       "        vertical-align: top;\n",
       "    }\n",
       "\n",
       "    .dataframe thead th {\n",
       "        text-align: right;\n",
       "    }\n",
       "</style>\n",
       "<table border=\"1\" class=\"dataframe\">\n",
       "  <thead>\n",
       "    <tr style=\"text-align: right;\">\n",
       "      <th></th>\n",
       "      <th>VehicleType</th>\n",
       "      <th>RegistrationYear</th>\n",
       "      <th>Gearbox</th>\n",
       "      <th>Power</th>\n",
       "      <th>Model</th>\n",
       "      <th>Kilometer</th>\n",
       "      <th>FuelType</th>\n",
       "      <th>Brand</th>\n",
       "      <th>Repaired</th>\n",
       "    </tr>\n",
       "  </thead>\n",
       "  <tbody>\n",
       "    <tr>\n",
       "      <th>0</th>\n",
       "      <td>small</td>\n",
       "      <td>-0.007555</td>\n",
       "      <td>-0.521488</td>\n",
       "      <td>-1.232487</td>\n",
       "      <td>corsa</td>\n",
       "      <td>0.575642</td>\n",
       "      <td>petrol</td>\n",
       "      <td>opel</td>\n",
       "      <td>-0.484624</td>\n",
       "    </tr>\n",
       "    <tr>\n",
       "      <th>1</th>\n",
       "      <td>sedan</td>\n",
       "      <td>-0.863818</td>\n",
       "      <td>1.917590</td>\n",
       "      <td>0.568213</td>\n",
       "      <td>a_klasse</td>\n",
       "      <td>0.575642</td>\n",
       "      <td>petrol</td>\n",
       "      <td>mercedes_benz</td>\n",
       "      <td>2.063454</td>\n",
       "    </tr>\n",
       "    <tr>\n",
       "      <th>2</th>\n",
       "      <td>bus</td>\n",
       "      <td>-0.178807</td>\n",
       "      <td>-0.521488</td>\n",
       "      <td>-0.341614</td>\n",
       "      <td>transporter</td>\n",
       "      <td>0.575642</td>\n",
       "      <td>gasoline</td>\n",
       "      <td>volkswagen</td>\n",
       "      <td>-0.484624</td>\n",
       "    </tr>\n",
       "    <tr>\n",
       "      <th>3</th>\n",
       "      <td>small</td>\n",
       "      <td>0.506203</td>\n",
       "      <td>1.917590</td>\n",
       "      <td>-0.569071</td>\n",
       "      <td>yaris</td>\n",
       "      <td>0.575642</td>\n",
       "      <td>gasoline</td>\n",
       "      <td>toyota</td>\n",
       "      <td>2.063454</td>\n",
       "    </tr>\n",
       "    <tr>\n",
       "      <th>4</th>\n",
       "      <td>bus</td>\n",
       "      <td>-0.007555</td>\n",
       "      <td>-0.521488</td>\n",
       "      <td>0.170164</td>\n",
       "      <td>sprinter</td>\n",
       "      <td>0.575642</td>\n",
       "      <td>gasoline</td>\n",
       "      <td>mercedes_benz</td>\n",
       "      <td>-0.484624</td>\n",
       "    </tr>\n",
       "  </tbody>\n",
       "</table>\n",
       "</div>"
      ],
      "text/plain": [
       "  VehicleType  RegistrationYear   Gearbox     Power        Model  Kilometer  \\\n",
       "0       small         -0.007555 -0.521488 -1.232487        corsa   0.575642   \n",
       "1       sedan         -0.863818  1.917590  0.568213     a_klasse   0.575642   \n",
       "2         bus         -0.178807 -0.521488 -0.341614  transporter   0.575642   \n",
       "3       small          0.506203  1.917590 -0.569071        yaris   0.575642   \n",
       "4         bus         -0.007555 -0.521488  0.170164     sprinter   0.575642   \n",
       "\n",
       "   FuelType          Brand  Repaired  \n",
       "0    petrol           opel -0.484624  \n",
       "1    petrol  mercedes_benz  2.063454  \n",
       "2  gasoline     volkswagen -0.484624  \n",
       "3  gasoline         toyota  2.063454  \n",
       "4  gasoline  mercedes_benz -0.484624  "
      ]
     },
     "metadata": {},
     "output_type": "display_data"
    },
    {
     "data": {
      "text/plain": [
       "\"Выборка 'valid'\""
      ]
     },
     "metadata": {},
     "output_type": "display_data"
    },
    {
     "data": {
      "text/html": [
       "<div>\n",
       "<style scoped>\n",
       "    .dataframe tbody tr th:only-of-type {\n",
       "        vertical-align: middle;\n",
       "    }\n",
       "\n",
       "    .dataframe tbody tr th {\n",
       "        vertical-align: top;\n",
       "    }\n",
       "\n",
       "    .dataframe thead th {\n",
       "        text-align: right;\n",
       "    }\n",
       "</style>\n",
       "<table border=\"1\" class=\"dataframe\">\n",
       "  <thead>\n",
       "    <tr style=\"text-align: right;\">\n",
       "      <th></th>\n",
       "      <th>VehicleType</th>\n",
       "      <th>RegistrationYear</th>\n",
       "      <th>Gearbox</th>\n",
       "      <th>Power</th>\n",
       "      <th>Model</th>\n",
       "      <th>Kilometer</th>\n",
       "      <th>FuelType</th>\n",
       "      <th>Brand</th>\n",
       "      <th>Repaired</th>\n",
       "    </tr>\n",
       "  </thead>\n",
       "  <tbody>\n",
       "    <tr>\n",
       "      <th>0</th>\n",
       "      <td>convertible</td>\n",
       "      <td>-1.206323</td>\n",
       "      <td>-0.521488</td>\n",
       "      <td>1.364313</td>\n",
       "      <td>spider</td>\n",
       "      <td>-1.043338</td>\n",
       "      <td>petrol</td>\n",
       "      <td>alfa_romeo</td>\n",
       "      <td>-0.484624</td>\n",
       "    </tr>\n",
       "    <tr>\n",
       "      <th>1</th>\n",
       "      <td>coupe</td>\n",
       "      <td>1.019961</td>\n",
       "      <td>-0.521488</td>\n",
       "      <td>0.757761</td>\n",
       "      <td>scirocco</td>\n",
       "      <td>-1.043338</td>\n",
       "      <td>petrol</td>\n",
       "      <td>volkswagen</td>\n",
       "      <td>-0.484624</td>\n",
       "    </tr>\n",
       "    <tr>\n",
       "      <th>2</th>\n",
       "      <td>small</td>\n",
       "      <td>0.334950</td>\n",
       "      <td>-0.521488</td>\n",
       "      <td>-0.189976</td>\n",
       "      <td>corolla</td>\n",
       "      <td>-1.582998</td>\n",
       "      <td>petrol</td>\n",
       "      <td>toyota</td>\n",
       "      <td>-0.484624</td>\n",
       "    </tr>\n",
       "    <tr>\n",
       "      <th>3</th>\n",
       "      <td>another</td>\n",
       "      <td>0.163698</td>\n",
       "      <td>-0.521488</td>\n",
       "      <td>0.814625</td>\n",
       "      <td>3er</td>\n",
       "      <td>0.575642</td>\n",
       "      <td>gasoline</td>\n",
       "      <td>bmw</td>\n",
       "      <td>-0.484624</td>\n",
       "    </tr>\n",
       "    <tr>\n",
       "      <th>4</th>\n",
       "      <td>small</td>\n",
       "      <td>1.362466</td>\n",
       "      <td>-0.521488</td>\n",
       "      <td>-1.137713</td>\n",
       "      <td>polo</td>\n",
       "      <td>-1.043338</td>\n",
       "      <td>petrol</td>\n",
       "      <td>volkswagen</td>\n",
       "      <td>-0.484624</td>\n",
       "    </tr>\n",
       "  </tbody>\n",
       "</table>\n",
       "</div>"
      ],
      "text/plain": [
       "   VehicleType  RegistrationYear   Gearbox     Power     Model  Kilometer  \\\n",
       "0  convertible         -1.206323 -0.521488  1.364313    spider  -1.043338   \n",
       "1        coupe          1.019961 -0.521488  0.757761  scirocco  -1.043338   \n",
       "2        small          0.334950 -0.521488 -0.189976   corolla  -1.582998   \n",
       "3      another          0.163698 -0.521488  0.814625       3er   0.575642   \n",
       "4        small          1.362466 -0.521488 -1.137713      polo  -1.043338   \n",
       "\n",
       "   FuelType       Brand  Repaired  \n",
       "0    petrol  alfa_romeo -0.484624  \n",
       "1    petrol  volkswagen -0.484624  \n",
       "2    petrol      toyota -0.484624  \n",
       "3  gasoline         bmw -0.484624  \n",
       "4    petrol  volkswagen -0.484624  "
      ]
     },
     "metadata": {},
     "output_type": "display_data"
    },
    {
     "data": {
      "text/plain": [
       "\"Выборка 'test'\""
      ]
     },
     "metadata": {},
     "output_type": "display_data"
    },
    {
     "data": {
      "text/html": [
       "<div>\n",
       "<style scoped>\n",
       "    .dataframe tbody tr th:only-of-type {\n",
       "        vertical-align: middle;\n",
       "    }\n",
       "\n",
       "    .dataframe tbody tr th {\n",
       "        vertical-align: top;\n",
       "    }\n",
       "\n",
       "    .dataframe thead th {\n",
       "        text-align: right;\n",
       "    }\n",
       "</style>\n",
       "<table border=\"1\" class=\"dataframe\">\n",
       "  <thead>\n",
       "    <tr style=\"text-align: right;\">\n",
       "      <th></th>\n",
       "      <th>VehicleType</th>\n",
       "      <th>RegistrationYear</th>\n",
       "      <th>Gearbox</th>\n",
       "      <th>Power</th>\n",
       "      <th>Model</th>\n",
       "      <th>Kilometer</th>\n",
       "      <th>FuelType</th>\n",
       "      <th>Brand</th>\n",
       "      <th>Repaired</th>\n",
       "    </tr>\n",
       "  </thead>\n",
       "  <tbody>\n",
       "    <tr>\n",
       "      <th>0</th>\n",
       "      <td>bus</td>\n",
       "      <td>-0.007555</td>\n",
       "      <td>-0.521488</td>\n",
       "      <td>-0.360569</td>\n",
       "      <td>meriva</td>\n",
       "      <td>-1.582998</td>\n",
       "      <td>petrol</td>\n",
       "      <td>opel</td>\n",
       "      <td>2.063454</td>\n",
       "    </tr>\n",
       "    <tr>\n",
       "      <th>1</th>\n",
       "      <td>suv</td>\n",
       "      <td>0.334950</td>\n",
       "      <td>1.917590</td>\n",
       "      <td>0.378666</td>\n",
       "      <td>sorento</td>\n",
       "      <td>-0.773508</td>\n",
       "      <td>gasoline</td>\n",
       "      <td>kia</td>\n",
       "      <td>-0.484624</td>\n",
       "    </tr>\n",
       "    <tr>\n",
       "      <th>2</th>\n",
       "      <td>wagon</td>\n",
       "      <td>-0.521313</td>\n",
       "      <td>-0.521488</td>\n",
       "      <td>-0.076248</td>\n",
       "      <td>3er</td>\n",
       "      <td>0.575642</td>\n",
       "      <td>petrol</td>\n",
       "      <td>bmw</td>\n",
       "      <td>-0.484624</td>\n",
       "    </tr>\n",
       "    <tr>\n",
       "      <th>3</th>\n",
       "      <td>small</td>\n",
       "      <td>-0.521313</td>\n",
       "      <td>-0.521488</td>\n",
       "      <td>-1.137713</td>\n",
       "      <td>polo</td>\n",
       "      <td>0.575642</td>\n",
       "      <td>petrol</td>\n",
       "      <td>volkswagen</td>\n",
       "      <td>2.063454</td>\n",
       "    </tr>\n",
       "    <tr>\n",
       "      <th>4</th>\n",
       "      <td>small</td>\n",
       "      <td>-1.377576</td>\n",
       "      <td>-0.521488</td>\n",
       "      <td>-0.360569</td>\n",
       "      <td>another</td>\n",
       "      <td>0.575642</td>\n",
       "      <td>petrol</td>\n",
       "      <td>opel</td>\n",
       "      <td>2.063454</td>\n",
       "    </tr>\n",
       "  </tbody>\n",
       "</table>\n",
       "</div>"
      ],
      "text/plain": [
       "  VehicleType  RegistrationYear   Gearbox     Power    Model  Kilometer  \\\n",
       "0         bus         -0.007555 -0.521488 -0.360569   meriva  -1.582998   \n",
       "1         suv          0.334950  1.917590  0.378666  sorento  -0.773508   \n",
       "2       wagon         -0.521313 -0.521488 -0.076248      3er   0.575642   \n",
       "3       small         -0.521313 -0.521488 -1.137713     polo   0.575642   \n",
       "4       small         -1.377576 -0.521488 -0.360569  another   0.575642   \n",
       "\n",
       "   FuelType       Brand  Repaired  \n",
       "0    petrol        opel  2.063454  \n",
       "1  gasoline         kia -0.484624  \n",
       "2    petrol         bmw -0.484624  \n",
       "3    petrol  volkswagen  2.063454  \n",
       "4    petrol        opel  2.063454  "
      ]
     },
     "metadata": {},
     "output_type": "display_data"
    }
   ],
   "source": [
    "# Масштабирование численных признаков для модели CatBoostRegressor\n",
    "features_train_scaler = features_train.copy()\n",
    "features_train_valid_scaler = features_train_valid.copy()\n",
    "features_valid_scaler = features_valid.copy()\n",
    "features_test_scaler = features_test.copy()\n",
    "pd.options.mode.chained_assignment = None\n",
    "scaler = StandardScaler() \n",
    "scaler.fit(features_train_scaler[numerical_2])\n",
    "features_train_scaler[numerical_2] = scaler.transform(features_train_scaler[numerical_2])\n",
    "features_train_valid_scaler[numerical_2] = scaler.transform(features_train_valid_scaler[numerical_2])\n",
    "features_valid_scaler[numerical_2] = scaler.transform(features_valid_scaler[numerical_2])\n",
    "features_test_scaler[numerical_2] = scaler.transform(features_test_scaler[numerical_2])\n",
    "display(\"Выборка 'train'\", features_train_scaler.head())\n",
    "display(\"Выборка 'train_valid'\", features_train_valid_scaler.head())\n",
    "display(\"Выборка 'valid'\", features_valid_scaler.head())\n",
    "display(\"Выборка 'test'\", features_test_scaler.head())"
   ]
  },
  {
   "cell_type": "markdown",
   "metadata": {},
   "source": [
    "- Данные разделены на выборки.\n",
    "- Выполнено кодирование категориальных признаков.\n",
    "- Выполнено масштабирование численных признаков."
   ]
  },
  {
   "cell_type": "code",
   "execution_count": 41,
   "metadata": {},
   "outputs": [],
   "source": [
    "kf = KFold(n_splits=5, random_state=42, shuffle=True)"
   ]
  },
  {
   "cell_type": "code",
   "execution_count": 42,
   "metadata": {},
   "outputs": [
    {
     "name": "stdout",
     "output_type": "stream",
     "text": [
      "[LightGBM] [Warning] num_iterations is set=300, num_boost_round=300 will be ignored. Current value: num_iterations=300\n",
      "[LightGBM] [Warning] early_stopping_round is set=10, early_stopping_rounds=10 will be ignored. Current value: early_stopping_round=10\n",
      "[10]\tvalid_0's rmse: 2251.28\tvalid_0's l2: 5.06827e+06\n",
      "[20]\tvalid_0's rmse: 1899.28\tvalid_0's l2: 3.60726e+06\n",
      "[30]\tvalid_0's rmse: 1802.62\tvalid_0's l2: 3.24945e+06\n",
      "[40]\tvalid_0's rmse: 1756.91\tvalid_0's l2: 3.08675e+06\n",
      "[50]\tvalid_0's rmse: 1727.07\tvalid_0's l2: 2.98278e+06\n",
      "[60]\tvalid_0's rmse: 1707.92\tvalid_0's l2: 2.91699e+06\n",
      "[70]\tvalid_0's rmse: 1693.73\tvalid_0's l2: 2.86871e+06\n",
      "[80]\tvalid_0's rmse: 1681.39\tvalid_0's l2: 2.82708e+06\n",
      "[90]\tvalid_0's rmse: 1671.73\tvalid_0's l2: 2.79467e+06\n",
      "[100]\tvalid_0's rmse: 1662.85\tvalid_0's l2: 2.76508e+06\n",
      "[110]\tvalid_0's rmse: 1656.13\tvalid_0's l2: 2.74276e+06\n",
      "[120]\tvalid_0's rmse: 1649.31\tvalid_0's l2: 2.72024e+06\n",
      "[130]\tvalid_0's rmse: 1644.68\tvalid_0's l2: 2.70498e+06\n",
      "[140]\tvalid_0's rmse: 1640.15\tvalid_0's l2: 2.69008e+06\n",
      "[150]\tvalid_0's rmse: 1635.8\tvalid_0's l2: 2.67585e+06\n",
      "[160]\tvalid_0's rmse: 1631.15\tvalid_0's l2: 2.66066e+06\n",
      "[170]\tvalid_0's rmse: 1625.86\tvalid_0's l2: 2.64341e+06\n",
      "[180]\tvalid_0's rmse: 1622.38\tvalid_0's l2: 2.63213e+06\n",
      "[190]\tvalid_0's rmse: 1618.77\tvalid_0's l2: 2.62041e+06\n",
      "[200]\tvalid_0's rmse: 1616.82\tvalid_0's l2: 2.61412e+06\n",
      "[210]\tvalid_0's rmse: 1613.41\tvalid_0's l2: 2.60309e+06\n",
      "[220]\tvalid_0's rmse: 1610.71\tvalid_0's l2: 2.5944e+06\n",
      "[230]\tvalid_0's rmse: 1609.08\tvalid_0's l2: 2.58912e+06\n",
      "[240]\tvalid_0's rmse: 1606.26\tvalid_0's l2: 2.58006e+06\n",
      "[250]\tvalid_0's rmse: 1603.96\tvalid_0's l2: 2.57269e+06\n",
      "[260]\tvalid_0's rmse: 1600.58\tvalid_0's l2: 2.56185e+06\n",
      "[270]\tvalid_0's rmse: 1599.15\tvalid_0's l2: 2.55728e+06\n",
      "[280]\tvalid_0's rmse: 1596.99\tvalid_0's l2: 2.55038e+06\n",
      "[290]\tvalid_0's rmse: 1595.08\tvalid_0's l2: 2.54428e+06\n",
      "[300]\tvalid_0's rmse: 1592.59\tvalid_0's l2: 2.53633e+06\n",
      "RMSE модели LightGBM: 1593\n",
      "Время обучения модели: 1.91 s\n",
      "Время предсказания модели: 0.18 s\n"
     ]
    }
   ],
   "source": [
    "# Модель LightGBM\n",
    "# %%time\n",
    "model_lgbm = LGBMRegressor(num_boost_round=300, max_depth=10, random_state=42, learning_rate=0.15, early_stopping_rounds=10)\n",
    "start = time.time()\n",
    "model_lgbm.fit(features_train_ordinal_scaler, target_train, eval_set=[(features_valid_ordinal_scaler, target_valid)],\n",
    "               eval_metric='rmse', verbose=10)\n",
    "end = time.time()\n",
    "fit_time_lgbm = end - start\n",
    "predictions = model_lgbm.predict(features_valid_ordinal_scaler)\n",
    "predict_time_lgbm = time.time() - end\n",
    "rmse_lgbm = mean_squared_error(target_valid, predictions, squared=False)\n",
    "print('RMSE модели LightGBM:', f'{rmse_lgbm:.0f}')\n",
    "print('Время обучения модели:', f'{fit_time_lgbm:.2f} s')\n",
    "print('Время предсказания модели:', f'{predict_time_lgbm:.2f} s')"
   ]
  },
  {
   "cell_type": "code",
   "execution_count": 43,
   "metadata": {},
   "outputs": [
    {
     "data": {
      "application/vnd.jupyter.widget-view+json": {
       "model_id": "53a6115fc1b643a58c811c055411f786",
       "version_major": 2,
       "version_minor": 0
      },
      "text/plain": [
       "MetricVisualizer(layout=Layout(align_self='stretch', height='500px'))"
      ]
     },
     "metadata": {},
     "output_type": "display_data"
    },
    {
     "name": "stdout",
     "output_type": "stream",
     "text": [
      "0:\tlearn: 4044.0910096\ttest: 4050.4752146\tbest: 4050.4752146 (0)\ttotal: 256ms\tremaining: 38.1s\n",
      "50:\tlearn: 1652.6260238\ttest: 1689.3958515\tbest: 1689.3958515 (50)\ttotal: 6.03s\tremaining: 11.7s\n",
      "100:\tlearn: 1564.2792623\ttest: 1631.7690406\tbest: 1631.7690406 (100)\ttotal: 11.7s\tremaining: 5.68s\n",
      "149:\tlearn: 1524.1844027\ttest: 1613.7902921\tbest: 1613.7902921 (149)\ttotal: 17.2s\tremaining: 0us\n",
      "\n",
      "bestTest = 1613.790292\n",
      "bestIteration = 149\n",
      "\n",
      "RMSE модели CatBoost: 1614\n",
      "Количество деревьев, после которого наступает переобучение: 150\n",
      "Лучший результат модели: {'learn': {'RMSE': 1524.1844026950353}, 'validation': {'RMSE': 1613.7902920618847}}\n",
      "Время обучения модели: 17.98 s\n",
      "Время предсказания: 0.14 s\n"
     ]
    }
   ],
   "source": [
    "# Модель CatBoostRegressor\n",
    "# %%time\n",
    "model_cat = CatBoostRegressor(loss_function='RMSE', iterations=150, depth=10, random_seed=42, \n",
    "                              learning_rate=0.15, early_stopping_rounds=10, l2_leaf_reg=4, use_best_model=True)\n",
    "start = time.time()\n",
    "model_cat.fit(features_train_scaler, target_train, cat_features=categorical,\n",
    "              eval_set=(features_valid_scaler, target_valid), verbose=50, plot=True)\n",
    "end = time.time()\n",
    "fit_time_cat = end - start\n",
    "predictions = model_cat.predict(features_valid_scaler)\n",
    "predict_time_cat = time.time() - end\n",
    "rmse_cat = mean_squared_error(target_valid, predictions, squared=False)\n",
    "print('RMSE модели CatBoost:', f'{rmse_cat:.0f}')\n",
    "print('Количество деревьев, после которого наступает переобучение:', model_cat.tree_count_)\n",
    "print('Лучший результат модели:', model_cat.get_best_score())\n",
    "print('Время обучения модели:', f'{fit_time_cat:.2f} s')\n",
    "print('Время предсказания:', f'{predict_time_cat:.2f} s')"
   ]
  },
  {
   "cell_type": "code",
   "execution_count": 44,
   "metadata": {},
   "outputs": [
    {
     "name": "stdout",
     "output_type": "stream",
     "text": [
      "Fitting 3 folds for each of 6 candidates, totalling 18 fits\n",
      "Лучшее RMSE: 1859\n",
      "Лучшая модель: RandomForestRegressor(max_depth=10, n_estimators=75, random_state=42)\n",
      "Лучшие параметры: {'max_depth': 10, 'n_estimators': 75}\n"
     ]
    }
   ],
   "source": [
    "# Модель RandomForestRegressor\n",
    "# %%time\n",
    "model_rf = RandomForestRegressor(random_state=42)\n",
    "parameters = {'n_estimators': range (25, 100, 25), 'max_depth': range (5, 15, 5)}  \n",
    "rf_result = GridSearchCV(model_rf, parameters, scoring='neg_root_mean_squared_error', cv=3, n_jobs=-1, verbose=3)\n",
    "rf_result.fit(features_train_valid_ordinal_scaler, target_train_valid)\n",
    "predictions = rf_result.predict(features_train_valid_ordinal_scaler)\n",
    "print('Лучшее RMSE:', f'{abs(rf_result.best_score_):.0f}')\n",
    "print('Лучшая модель:', rf_result.best_estimator_)\n",
    "print('Лучшие параметры:', rf_result.best_params_)"
   ]
  },
  {
   "cell_type": "code",
   "execution_count": 45,
   "metadata": {},
   "outputs": [
    {
     "data": {
      "text/html": [
       "<div>\n",
       "<style scoped>\n",
       "    .dataframe tbody tr th:only-of-type {\n",
       "        vertical-align: middle;\n",
       "    }\n",
       "\n",
       "    .dataframe tbody tr th {\n",
       "        vertical-align: top;\n",
       "    }\n",
       "\n",
       "    .dataframe thead th {\n",
       "        text-align: right;\n",
       "    }\n",
       "</style>\n",
       "<table border=\"1\" class=\"dataframe\">\n",
       "  <thead>\n",
       "    <tr style=\"text-align: right;\">\n",
       "      <th></th>\n",
       "      <th>mean_fit_time</th>\n",
       "      <th>std_fit_time</th>\n",
       "      <th>mean_score_time</th>\n",
       "      <th>std_score_time</th>\n",
       "      <th>param_max_depth</th>\n",
       "      <th>param_n_estimators</th>\n",
       "      <th>params</th>\n",
       "      <th>split0_test_score</th>\n",
       "      <th>split1_test_score</th>\n",
       "      <th>split2_test_score</th>\n",
       "      <th>mean_test_score</th>\n",
       "      <th>std_test_score</th>\n",
       "      <th>rank_test_score</th>\n",
       "    </tr>\n",
       "  </thead>\n",
       "  <tbody>\n",
       "    <tr>\n",
       "      <th>5</th>\n",
       "      <td>46.153801</td>\n",
       "      <td>0.682497</td>\n",
       "      <td>0.673085</td>\n",
       "      <td>0.032301</td>\n",
       "      <td>10</td>\n",
       "      <td>75</td>\n",
       "      <td>{'max_depth': 10, 'n_estimators': 75}</td>\n",
       "      <td>-1853.267217</td>\n",
       "      <td>-1853.745753</td>\n",
       "      <td>-1869.156705</td>\n",
       "      <td>-1858.723225</td>\n",
       "      <td>7.380171</td>\n",
       "      <td>1</td>\n",
       "    </tr>\n",
       "    <tr>\n",
       "      <th>4</th>\n",
       "      <td>41.743822</td>\n",
       "      <td>1.877045</td>\n",
       "      <td>0.677459</td>\n",
       "      <td>0.138140</td>\n",
       "      <td>10</td>\n",
       "      <td>50</td>\n",
       "      <td>{'max_depth': 10, 'n_estimators': 50}</td>\n",
       "      <td>-1852.949971</td>\n",
       "      <td>-1854.006934</td>\n",
       "      <td>-1869.957116</td>\n",
       "      <td>-1858.971340</td>\n",
       "      <td>7.780092</td>\n",
       "      <td>2</td>\n",
       "    </tr>\n",
       "    <tr>\n",
       "      <th>3</th>\n",
       "      <td>23.716870</td>\n",
       "      <td>2.728386</td>\n",
       "      <td>0.503724</td>\n",
       "      <td>0.026805</td>\n",
       "      <td>10</td>\n",
       "      <td>25</td>\n",
       "      <td>{'max_depth': 10, 'n_estimators': 25}</td>\n",
       "      <td>-1854.535797</td>\n",
       "      <td>-1857.309506</td>\n",
       "      <td>-1874.046363</td>\n",
       "      <td>-1861.963889</td>\n",
       "      <td>8.618314</td>\n",
       "      <td>3</td>\n",
       "    </tr>\n",
       "    <tr>\n",
       "      <th>1</th>\n",
       "      <td>28.152230</td>\n",
       "      <td>2.080500</td>\n",
       "      <td>0.569393</td>\n",
       "      <td>0.132710</td>\n",
       "      <td>5</td>\n",
       "      <td>50</td>\n",
       "      <td>{'max_depth': 5, 'n_estimators': 50}</td>\n",
       "      <td>-2363.020846</td>\n",
       "      <td>-2329.887102</td>\n",
       "      <td>-2398.822858</td>\n",
       "      <td>-2363.910269</td>\n",
       "      <td>28.149931</td>\n",
       "      <td>4</td>\n",
       "    </tr>\n",
       "    <tr>\n",
       "      <th>0</th>\n",
       "      <td>13.810975</td>\n",
       "      <td>0.295086</td>\n",
       "      <td>0.269724</td>\n",
       "      <td>0.032212</td>\n",
       "      <td>5</td>\n",
       "      <td>25</td>\n",
       "      <td>{'max_depth': 5, 'n_estimators': 25}</td>\n",
       "      <td>-2363.507586</td>\n",
       "      <td>-2329.395252</td>\n",
       "      <td>-2401.591378</td>\n",
       "      <td>-2364.831405</td>\n",
       "      <td>29.488806</td>\n",
       "      <td>5</td>\n",
       "    </tr>\n",
       "    <tr>\n",
       "      <th>2</th>\n",
       "      <td>40.068083</td>\n",
       "      <td>2.809737</td>\n",
       "      <td>0.670494</td>\n",
       "      <td>0.055593</td>\n",
       "      <td>5</td>\n",
       "      <td>75</td>\n",
       "      <td>{'max_depth': 5, 'n_estimators': 75}</td>\n",
       "      <td>-2368.467739</td>\n",
       "      <td>-2331.128022</td>\n",
       "      <td>-2395.663669</td>\n",
       "      <td>-2365.086477</td>\n",
       "      <td>26.454831</td>\n",
       "      <td>6</td>\n",
       "    </tr>\n",
       "  </tbody>\n",
       "</table>\n",
       "</div>"
      ],
      "text/plain": [
       "   mean_fit_time  std_fit_time  mean_score_time  std_score_time  \\\n",
       "5      46.153801      0.682497         0.673085        0.032301   \n",
       "4      41.743822      1.877045         0.677459        0.138140   \n",
       "3      23.716870      2.728386         0.503724        0.026805   \n",
       "1      28.152230      2.080500         0.569393        0.132710   \n",
       "0      13.810975      0.295086         0.269724        0.032212   \n",
       "2      40.068083      2.809737         0.670494        0.055593   \n",
       "\n",
       "  param_max_depth param_n_estimators                                 params  \\\n",
       "5              10                 75  {'max_depth': 10, 'n_estimators': 75}   \n",
       "4              10                 50  {'max_depth': 10, 'n_estimators': 50}   \n",
       "3              10                 25  {'max_depth': 10, 'n_estimators': 25}   \n",
       "1               5                 50   {'max_depth': 5, 'n_estimators': 50}   \n",
       "0               5                 25   {'max_depth': 5, 'n_estimators': 25}   \n",
       "2               5                 75   {'max_depth': 5, 'n_estimators': 75}   \n",
       "\n",
       "   split0_test_score  split1_test_score  split2_test_score  mean_test_score  \\\n",
       "5       -1853.267217       -1853.745753       -1869.156705     -1858.723225   \n",
       "4       -1852.949971       -1854.006934       -1869.957116     -1858.971340   \n",
       "3       -1854.535797       -1857.309506       -1874.046363     -1861.963889   \n",
       "1       -2363.020846       -2329.887102       -2398.822858     -2363.910269   \n",
       "0       -2363.507586       -2329.395252       -2401.591378     -2364.831405   \n",
       "2       -2368.467739       -2331.128022       -2395.663669     -2365.086477   \n",
       "\n",
       "   std_test_score  rank_test_score  \n",
       "5        7.380171                1  \n",
       "4        7.780092                2  \n",
       "3        8.618314                3  \n",
       "1       28.149931                4  \n",
       "0       29.488806                5  \n",
       "2       26.454831                6  "
      ]
     },
     "execution_count": 45,
     "metadata": {},
     "output_type": "execute_result"
    }
   ],
   "source": [
    "# Время обучения и предсказания модели\n",
    "rf_res = pd.DataFrame(rf_result.cv_results_).sort_values(by='rank_test_score')\n",
    "rf_res"
   ]
  },
  {
   "cell_type": "code",
   "execution_count": 46,
   "metadata": {},
   "outputs": [
    {
     "name": "stdout",
     "output_type": "stream",
     "text": [
      "Время обучения модели: 46.15 s\n",
      "Время предсказания модели: 0.67 s\n"
     ]
    }
   ],
   "source": [
    "print('Время обучения модели:', f'{rf_res.iloc[0][\"mean_fit_time\"]:.2f} s')\n",
    "print('Время предсказания модели:', f'{rf_res.iloc[0][\"mean_score_time\"]:.2f} s')"
   ]
  },
  {
   "cell_type": "code",
   "execution_count": 47,
   "metadata": {},
   "outputs": [
    {
     "name": "stdout",
     "output_type": "stream",
     "text": [
      "Fitting 5 folds for each of 4 candidates, totalling 20 fits\n",
      "[CV 1/5; 1/4] START boosting_type=gbdt, max_depth=5, metric=rmse, n_estimators=100\n",
      "[CV 1/5; 1/4] END boosting_type=gbdt, max_depth=5, metric=rmse, n_estimators=100;, score=-1685.679 total time=   0.6s\n",
      "[CV 2/5; 1/4] START boosting_type=gbdt, max_depth=5, metric=rmse, n_estimators=100\n",
      "[CV 2/5; 1/4] END boosting_type=gbdt, max_depth=5, metric=rmse, n_estimators=100;, score=-1719.028 total time=   0.7s\n",
      "[CV 3/5; 1/4] START boosting_type=gbdt, max_depth=5, metric=rmse, n_estimators=100\n",
      "[CV 3/5; 1/4] END boosting_type=gbdt, max_depth=5, metric=rmse, n_estimators=100;, score=-1700.811 total time=   0.6s\n",
      "[CV 4/5; 1/4] START boosting_type=gbdt, max_depth=5, metric=rmse, n_estimators=100\n",
      "[CV 4/5; 1/4] END boosting_type=gbdt, max_depth=5, metric=rmse, n_estimators=100;, score=-1696.905 total time=   0.7s\n",
      "[CV 5/5; 1/4] START boosting_type=gbdt, max_depth=5, metric=rmse, n_estimators=100\n",
      "[CV 5/5; 1/4] END boosting_type=gbdt, max_depth=5, metric=rmse, n_estimators=100;, score=-1677.375 total time=   0.7s\n",
      "[CV 1/5; 2/4] START boosting_type=gbdt, max_depth=5, metric=rmse, n_estimators=150\n",
      "[CV 1/5; 2/4] END boosting_type=gbdt, max_depth=5, metric=rmse, n_estimators=150;, score=-1653.802 total time=   1.0s\n",
      "[CV 2/5; 2/4] START boosting_type=gbdt, max_depth=5, metric=rmse, n_estimators=150\n",
      "[CV 2/5; 2/4] END boosting_type=gbdt, max_depth=5, metric=rmse, n_estimators=150;, score=-1680.980 total time=   1.0s\n",
      "[CV 3/5; 2/4] START boosting_type=gbdt, max_depth=5, metric=rmse, n_estimators=150\n",
      "[CV 3/5; 2/4] END boosting_type=gbdt, max_depth=5, metric=rmse, n_estimators=150;, score=-1666.838 total time=   1.1s\n",
      "[CV 4/5; 2/4] START boosting_type=gbdt, max_depth=5, metric=rmse, n_estimators=150\n",
      "[CV 4/5; 2/4] END boosting_type=gbdt, max_depth=5, metric=rmse, n_estimators=150;, score=-1662.157 total time=   1.1s\n",
      "[CV 5/5; 2/4] START boosting_type=gbdt, max_depth=5, metric=rmse, n_estimators=150\n",
      "[CV 5/5; 2/4] END boosting_type=gbdt, max_depth=5, metric=rmse, n_estimators=150;, score=-1642.665 total time=   1.0s\n",
      "[CV 1/5; 3/4] START boosting_type=gbdt, max_depth=7, metric=rmse, n_estimators=100\n",
      "[CV 1/5; 3/4] END boosting_type=gbdt, max_depth=7, metric=rmse, n_estimators=100;, score=-1656.414 total time=   0.7s\n",
      "[CV 2/5; 3/4] START boosting_type=gbdt, max_depth=7, metric=rmse, n_estimators=100\n",
      "[CV 2/5; 3/4] END boosting_type=gbdt, max_depth=7, metric=rmse, n_estimators=100;, score=-1681.456 total time=   0.9s\n",
      "[CV 3/5; 3/4] START boosting_type=gbdt, max_depth=7, metric=rmse, n_estimators=100\n",
      "[CV 3/5; 3/4] END boosting_type=gbdt, max_depth=7, metric=rmse, n_estimators=100;, score=-1666.289 total time=   0.9s\n",
      "[CV 4/5; 3/4] START boosting_type=gbdt, max_depth=7, metric=rmse, n_estimators=100\n",
      "[CV 4/5; 3/4] END boosting_type=gbdt, max_depth=7, metric=rmse, n_estimators=100;, score=-1668.775 total time=   0.9s\n",
      "[CV 5/5; 3/4] START boosting_type=gbdt, max_depth=7, metric=rmse, n_estimators=100\n",
      "[CV 5/5; 3/4] END boosting_type=gbdt, max_depth=7, metric=rmse, n_estimators=100;, score=-1654.847 total time=   1.2s\n",
      "[CV 1/5; 4/4] START boosting_type=gbdt, max_depth=7, metric=rmse, n_estimators=150\n",
      "[CV 1/5; 4/4] END boosting_type=gbdt, max_depth=7, metric=rmse, n_estimators=150;, score=-1626.696 total time=   1.0s\n",
      "[CV 2/5; 4/4] START boosting_type=gbdt, max_depth=7, metric=rmse, n_estimators=150\n",
      "[CV 2/5; 4/4] END boosting_type=gbdt, max_depth=7, metric=rmse, n_estimators=150;, score=-1650.963 total time=   1.2s\n",
      "[CV 3/5; 4/4] START boosting_type=gbdt, max_depth=7, metric=rmse, n_estimators=150\n",
      "[CV 3/5; 4/4] END boosting_type=gbdt, max_depth=7, metric=rmse, n_estimators=150;, score=-1639.769 total time=   0.9s\n",
      "[CV 4/5; 4/4] START boosting_type=gbdt, max_depth=7, metric=rmse, n_estimators=150\n",
      "[CV 4/5; 4/4] END boosting_type=gbdt, max_depth=7, metric=rmse, n_estimators=150;, score=-1638.364 total time=   1.1s\n",
      "[CV 5/5; 4/4] START boosting_type=gbdt, max_depth=7, metric=rmse, n_estimators=150\n",
      "[CV 5/5; 4/4] END boosting_type=gbdt, max_depth=7, metric=rmse, n_estimators=150;, score=-1623.063 total time=   1.4s\n",
      "Лучшее RMSE: 1636\n",
      "Лучшая модель: LGBMRegressor(learning_rate=0.15, max_depth=7, metric='rmse', n_estimators=150,\n",
      "              random_state=42)\n",
      "Лучшие параметры: {'boosting_type': 'gbdt', 'max_depth': 7, 'metric': 'rmse', 'n_estimators': 150}\n"
     ]
    }
   ],
   "source": [
    "# модель LightGBM\n",
    "model_lgbm_gscv = LGBMRegressor(learning_rate=0.15, random_state=42)\n",
    "parameters = {'max_depth': [5, 7], 'n_estimators': [100, 150], 'metric': ['rmse'], 'boosting_type': ['gbdt']}\n",
    "lgbm_gscv_result = GridSearchCV(model_lgbm_gscv, parameters, cv=kf, scoring='neg_root_mean_squared_error', verbose=50)\n",
    "lgbm_gscv_result.fit(features_train_valid_ordinal_scaler, target_train_valid)\n",
    "predictions = lgbm_gscv_result.predict(features_train_valid_ordinal_scaler)\n",
    "print('Лучшее RMSE:', f'{abs(lgbm_gscv_result.best_score_):.0f}')\n",
    "print('Лучшая модель:', lgbm_gscv_result.best_estimator_)\n",
    "print('Лучшие параметры:', lgbm_gscv_result.best_params_)"
   ]
  },
  {
   "cell_type": "code",
   "execution_count": 48,
   "metadata": {},
   "outputs": [
    {
     "data": {
      "text/html": [
       "<div>\n",
       "<style scoped>\n",
       "    .dataframe tbody tr th:only-of-type {\n",
       "        vertical-align: middle;\n",
       "    }\n",
       "\n",
       "    .dataframe tbody tr th {\n",
       "        vertical-align: top;\n",
       "    }\n",
       "\n",
       "    .dataframe thead th {\n",
       "        text-align: right;\n",
       "    }\n",
       "</style>\n",
       "<table border=\"1\" class=\"dataframe\">\n",
       "  <thead>\n",
       "    <tr style=\"text-align: right;\">\n",
       "      <th></th>\n",
       "      <th>mean_fit_time</th>\n",
       "      <th>std_fit_time</th>\n",
       "      <th>mean_score_time</th>\n",
       "      <th>std_score_time</th>\n",
       "      <th>param_boosting_type</th>\n",
       "      <th>param_max_depth</th>\n",
       "      <th>param_metric</th>\n",
       "      <th>param_n_estimators</th>\n",
       "      <th>params</th>\n",
       "      <th>split0_test_score</th>\n",
       "      <th>split1_test_score</th>\n",
       "      <th>split2_test_score</th>\n",
       "      <th>split3_test_score</th>\n",
       "      <th>split4_test_score</th>\n",
       "      <th>mean_test_score</th>\n",
       "      <th>std_test_score</th>\n",
       "      <th>rank_test_score</th>\n",
       "    </tr>\n",
       "  </thead>\n",
       "  <tbody>\n",
       "    <tr>\n",
       "      <th>3</th>\n",
       "      <td>1.117928</td>\n",
       "      <td>0.131385</td>\n",
       "      <td>0.098510</td>\n",
       "      <td>0.022027</td>\n",
       "      <td>gbdt</td>\n",
       "      <td>7</td>\n",
       "      <td>rmse</td>\n",
       "      <td>150</td>\n",
       "      <td>{'boosting_type': 'gbdt', 'max_depth': 7, 'met...</td>\n",
       "      <td>-1626.696123</td>\n",
       "      <td>-1650.963029</td>\n",
       "      <td>-1639.769388</td>\n",
       "      <td>-1638.364192</td>\n",
       "      <td>-1623.062762</td>\n",
       "      <td>-1635.771099</td>\n",
       "      <td>9.973587</td>\n",
       "      <td>1</td>\n",
       "    </tr>\n",
       "    <tr>\n",
       "      <th>1</th>\n",
       "      <td>1.042285</td>\n",
       "      <td>0.053250</td>\n",
       "      <td>0.099408</td>\n",
       "      <td>0.019634</td>\n",
       "      <td>gbdt</td>\n",
       "      <td>5</td>\n",
       "      <td>rmse</td>\n",
       "      <td>150</td>\n",
       "      <td>{'boosting_type': 'gbdt', 'max_depth': 5, 'met...</td>\n",
       "      <td>-1653.802499</td>\n",
       "      <td>-1680.980425</td>\n",
       "      <td>-1666.838466</td>\n",
       "      <td>-1662.157280</td>\n",
       "      <td>-1642.665063</td>\n",
       "      <td>-1661.288747</td>\n",
       "      <td>12.823427</td>\n",
       "      <td>2</td>\n",
       "    </tr>\n",
       "    <tr>\n",
       "      <th>2</th>\n",
       "      <td>0.930269</td>\n",
       "      <td>0.149674</td>\n",
       "      <td>0.085602</td>\n",
       "      <td>0.014763</td>\n",
       "      <td>gbdt</td>\n",
       "      <td>7</td>\n",
       "      <td>rmse</td>\n",
       "      <td>100</td>\n",
       "      <td>{'boosting_type': 'gbdt', 'max_depth': 7, 'met...</td>\n",
       "      <td>-1656.413674</td>\n",
       "      <td>-1681.456197</td>\n",
       "      <td>-1666.289353</td>\n",
       "      <td>-1668.774626</td>\n",
       "      <td>-1654.846727</td>\n",
       "      <td>-1665.556115</td>\n",
       "      <td>9.612328</td>\n",
       "      <td>3</td>\n",
       "    </tr>\n",
       "    <tr>\n",
       "      <th>0</th>\n",
       "      <td>0.679046</td>\n",
       "      <td>0.048725</td>\n",
       "      <td>0.068007</td>\n",
       "      <td>0.007457</td>\n",
       "      <td>gbdt</td>\n",
       "      <td>5</td>\n",
       "      <td>rmse</td>\n",
       "      <td>100</td>\n",
       "      <td>{'boosting_type': 'gbdt', 'max_depth': 5, 'met...</td>\n",
       "      <td>-1685.678532</td>\n",
       "      <td>-1719.028394</td>\n",
       "      <td>-1700.811391</td>\n",
       "      <td>-1696.905408</td>\n",
       "      <td>-1677.374848</td>\n",
       "      <td>-1695.959715</td>\n",
       "      <td>14.196458</td>\n",
       "      <td>4</td>\n",
       "    </tr>\n",
       "  </tbody>\n",
       "</table>\n",
       "</div>"
      ],
      "text/plain": [
       "   mean_fit_time  std_fit_time  mean_score_time  std_score_time  \\\n",
       "3       1.117928      0.131385         0.098510        0.022027   \n",
       "1       1.042285      0.053250         0.099408        0.019634   \n",
       "2       0.930269      0.149674         0.085602        0.014763   \n",
       "0       0.679046      0.048725         0.068007        0.007457   \n",
       "\n",
       "  param_boosting_type param_max_depth param_metric param_n_estimators  \\\n",
       "3                gbdt               7         rmse                150   \n",
       "1                gbdt               5         rmse                150   \n",
       "2                gbdt               7         rmse                100   \n",
       "0                gbdt               5         rmse                100   \n",
       "\n",
       "                                              params  split0_test_score  \\\n",
       "3  {'boosting_type': 'gbdt', 'max_depth': 7, 'met...       -1626.696123   \n",
       "1  {'boosting_type': 'gbdt', 'max_depth': 5, 'met...       -1653.802499   \n",
       "2  {'boosting_type': 'gbdt', 'max_depth': 7, 'met...       -1656.413674   \n",
       "0  {'boosting_type': 'gbdt', 'max_depth': 5, 'met...       -1685.678532   \n",
       "\n",
       "   split1_test_score  split2_test_score  split3_test_score  split4_test_score  \\\n",
       "3       -1650.963029       -1639.769388       -1638.364192       -1623.062762   \n",
       "1       -1680.980425       -1666.838466       -1662.157280       -1642.665063   \n",
       "2       -1681.456197       -1666.289353       -1668.774626       -1654.846727   \n",
       "0       -1719.028394       -1700.811391       -1696.905408       -1677.374848   \n",
       "\n",
       "   mean_test_score  std_test_score  rank_test_score  \n",
       "3     -1635.771099        9.973587                1  \n",
       "1     -1661.288747       12.823427                2  \n",
       "2     -1665.556115        9.612328                3  \n",
       "0     -1695.959715       14.196458                4  "
      ]
     },
     "execution_count": 48,
     "metadata": {},
     "output_type": "execute_result"
    }
   ],
   "source": [
    "# время обучения и предсказания модели\n",
    "lgbm_gscv_res = pd.DataFrame(lgbm_gscv_result.cv_results_).sort_values(by='rank_test_score')\n",
    "lgbm_gscv_res"
   ]
  },
  {
   "cell_type": "code",
   "execution_count": 49,
   "metadata": {},
   "outputs": [
    {
     "name": "stdout",
     "output_type": "stream",
     "text": [
      "Время обучения модели: 1.12 s\n",
      "Время предсказания модели: 0.10 s\n"
     ]
    }
   ],
   "source": [
    "print('Время обучения модели:', f'{lgbm_gscv_res.iloc[0][\"mean_fit_time\"]:.2f} s')\n",
    "print('Время предсказания модели:', f'{lgbm_gscv_res.iloc[0][\"mean_score_time\"]:.2f} s')"
   ]
  },
  {
   "cell_type": "code",
   "execution_count": 50,
   "metadata": {},
   "outputs": [
    {
     "name": "stdout",
     "output_type": "stream",
     "text": [
      "0:\tlearn: 4082.5056375\ttotal: 81.3ms\tremaining: 12.1s\n",
      "50:\tlearn: 1759.5782795\ttotal: 4.38s\tremaining: 8.49s\n",
      "100:\tlearn: 1684.8539847\ttotal: 9.16s\tremaining: 4.44s\n",
      "149:\tlearn: 1642.8920634\ttotal: 13.9s\tremaining: 0us\n",
      "Лучшее RMSE: 1666\n",
      "Лучшая модель: <catboost.core.CatBoostRegressor object at 0x0000021703585C30>\n",
      "Лучшие параметры: {'depth': 7, 'iterations': 150, 'verbose': 50}\n"
     ]
    }
   ],
   "source": [
    "# модель CatBoost\n",
    "model_cat_gscv = CatBoostRegressor(learning_rate=0.15, random_seed=42, \n",
    "                                   early_stopping_rounds=10, l2_leaf_reg=4, cat_features=categorical)\n",
    "parameters  = {'depth': [5, 7], 'iterations': [100, 150], 'verbose': [50]}\n",
    "cat_gscv_result = GridSearchCV(model_cat_gscv, parameters, scoring='neg_root_mean_squared_error', cv=3, n_jobs=-1)\n",
    "cat_gscv_result.fit(features_train_valid_scaler, target_train_valid)\n",
    "predictions = cat_gscv_result.predict(features_train_valid_scaler)\n",
    "print('Лучшее RMSE:', f'{abs(cat_gscv_result.best_score_):.0f}')\n",
    "print('Лучшая модель:', cat_gscv_result.best_estimator_)\n",
    "print('Лучшие параметры:', cat_gscv_result.best_params_)"
   ]
  },
  {
   "cell_type": "code",
   "execution_count": 51,
   "metadata": {},
   "outputs": [
    {
     "data": {
      "text/html": [
       "<div>\n",
       "<style scoped>\n",
       "    .dataframe tbody tr th:only-of-type {\n",
       "        vertical-align: middle;\n",
       "    }\n",
       "\n",
       "    .dataframe tbody tr th {\n",
       "        vertical-align: top;\n",
       "    }\n",
       "\n",
       "    .dataframe thead th {\n",
       "        text-align: right;\n",
       "    }\n",
       "</style>\n",
       "<table border=\"1\" class=\"dataframe\">\n",
       "  <thead>\n",
       "    <tr style=\"text-align: right;\">\n",
       "      <th></th>\n",
       "      <th>mean_fit_time</th>\n",
       "      <th>std_fit_time</th>\n",
       "      <th>mean_score_time</th>\n",
       "      <th>std_score_time</th>\n",
       "      <th>param_depth</th>\n",
       "      <th>param_iterations</th>\n",
       "      <th>param_verbose</th>\n",
       "      <th>params</th>\n",
       "      <th>split0_test_score</th>\n",
       "      <th>split1_test_score</th>\n",
       "      <th>split2_test_score</th>\n",
       "      <th>mean_test_score</th>\n",
       "      <th>std_test_score</th>\n",
       "      <th>rank_test_score</th>\n",
       "    </tr>\n",
       "  </thead>\n",
       "  <tbody>\n",
       "    <tr>\n",
       "      <th>3</th>\n",
       "      <td>27.566833</td>\n",
       "      <td>1.582931</td>\n",
       "      <td>0.320692</td>\n",
       "      <td>0.104883</td>\n",
       "      <td>7</td>\n",
       "      <td>150</td>\n",
       "      <td>50</td>\n",
       "      <td>{'depth': 7, 'iterations': 150, 'verbose': 50}</td>\n",
       "      <td>-1659.079905</td>\n",
       "      <td>-1667.011720</td>\n",
       "      <td>-1671.068627</td>\n",
       "      <td>-1665.720084</td>\n",
       "      <td>4.978862</td>\n",
       "      <td>1</td>\n",
       "    </tr>\n",
       "    <tr>\n",
       "      <th>2</th>\n",
       "      <td>27.913306</td>\n",
       "      <td>2.383046</td>\n",
       "      <td>0.629734</td>\n",
       "      <td>0.132657</td>\n",
       "      <td>7</td>\n",
       "      <td>100</td>\n",
       "      <td>50</td>\n",
       "      <td>{'depth': 7, 'iterations': 100, 'verbose': 50}</td>\n",
       "      <td>-1692.004805</td>\n",
       "      <td>-1699.364007</td>\n",
       "      <td>-1703.685561</td>\n",
       "      <td>-1698.351458</td>\n",
       "      <td>4.822099</td>\n",
       "      <td>2</td>\n",
       "    </tr>\n",
       "    <tr>\n",
       "      <th>1</th>\n",
       "      <td>35.306303</td>\n",
       "      <td>1.166876</td>\n",
       "      <td>0.471483</td>\n",
       "      <td>0.081768</td>\n",
       "      <td>5</td>\n",
       "      <td>150</td>\n",
       "      <td>50</td>\n",
       "      <td>{'depth': 5, 'iterations': 150, 'verbose': 50}</td>\n",
       "      <td>-1718.885608</td>\n",
       "      <td>-1731.020397</td>\n",
       "      <td>-1732.546841</td>\n",
       "      <td>-1727.484282</td>\n",
       "      <td>6.112032</td>\n",
       "      <td>3</td>\n",
       "    </tr>\n",
       "    <tr>\n",
       "      <th>0</th>\n",
       "      <td>23.820220</td>\n",
       "      <td>2.193261</td>\n",
       "      <td>0.594088</td>\n",
       "      <td>0.014577</td>\n",
       "      <td>5</td>\n",
       "      <td>100</td>\n",
       "      <td>50</td>\n",
       "      <td>{'depth': 5, 'iterations': 100, 'verbose': 50}</td>\n",
       "      <td>-1755.138545</td>\n",
       "      <td>-1765.209892</td>\n",
       "      <td>-1770.416784</td>\n",
       "      <td>-1763.588407</td>\n",
       "      <td>6.341822</td>\n",
       "      <td>4</td>\n",
       "    </tr>\n",
       "  </tbody>\n",
       "</table>\n",
       "</div>"
      ],
      "text/plain": [
       "   mean_fit_time  std_fit_time  mean_score_time  std_score_time param_depth  \\\n",
       "3      27.566833      1.582931         0.320692        0.104883           7   \n",
       "2      27.913306      2.383046         0.629734        0.132657           7   \n",
       "1      35.306303      1.166876         0.471483        0.081768           5   \n",
       "0      23.820220      2.193261         0.594088        0.014577           5   \n",
       "\n",
       "  param_iterations param_verbose  \\\n",
       "3              150            50   \n",
       "2              100            50   \n",
       "1              150            50   \n",
       "0              100            50   \n",
       "\n",
       "                                           params  split0_test_score  \\\n",
       "3  {'depth': 7, 'iterations': 150, 'verbose': 50}       -1659.079905   \n",
       "2  {'depth': 7, 'iterations': 100, 'verbose': 50}       -1692.004805   \n",
       "1  {'depth': 5, 'iterations': 150, 'verbose': 50}       -1718.885608   \n",
       "0  {'depth': 5, 'iterations': 100, 'verbose': 50}       -1755.138545   \n",
       "\n",
       "   split1_test_score  split2_test_score  mean_test_score  std_test_score  \\\n",
       "3       -1667.011720       -1671.068627     -1665.720084        4.978862   \n",
       "2       -1699.364007       -1703.685561     -1698.351458        4.822099   \n",
       "1       -1731.020397       -1732.546841     -1727.484282        6.112032   \n",
       "0       -1765.209892       -1770.416784     -1763.588407        6.341822   \n",
       "\n",
       "   rank_test_score  \n",
       "3                1  \n",
       "2                2  \n",
       "1                3  \n",
       "0                4  "
      ]
     },
     "execution_count": 51,
     "metadata": {},
     "output_type": "execute_result"
    }
   ],
   "source": [
    "# время обучения и предсказания модели\n",
    "cat_gscv_res = pd.DataFrame(cat_gscv_result.cv_results_).sort_values(by='rank_test_score')\n",
    "cat_gscv_res"
   ]
  },
  {
   "cell_type": "code",
   "execution_count": 52,
   "metadata": {},
   "outputs": [
    {
     "name": "stdout",
     "output_type": "stream",
     "text": [
      "Время обучения модели: 27.57 s\n",
      "Время предсказания модели: 0.32 s\n"
     ]
    }
   ],
   "source": [
    "print('Время обучения модели:', f'{cat_gscv_res.iloc[0][\"mean_fit_time\"]:.2f} s')\n",
    "print('Время предсказания модели:', f'{cat_gscv_res.iloc[0][\"mean_score_time\"]:.2f} s')"
   ]
  },
  {
   "cell_type": "markdown",
   "metadata": {},
   "source": [
    "Обучены следующие модели:\n",
    "\n",
    "- Модель градиентного бустинга LGBMRegressor.\n",
    "- Модель градиентного бустинга CatBoostRegressor.\n",
    "- Модель случайного леса RandomForestRegressor.\n",
    "\n",
    "LightGBM имеет более высокую скорость обучения, предсказания и хорошую точность."
   ]
  },
  {
   "cell_type": "markdown",
   "metadata": {},
   "source": [
    "## Анализ моделей"
   ]
  },
  {
   "cell_type": "markdown",
   "metadata": {},
   "source": [
    "LightGBM имеет более высокую скорость обучения, предсказания и хорошую точность."
   ]
  },
  {
   "cell_type": "code",
   "execution_count": 53,
   "metadata": {},
   "outputs": [
    {
     "name": "stdout",
     "output_type": "stream",
     "text": [
      "RMSE модели LightGBM: 1587\n"
     ]
    }
   ],
   "source": [
    "# Тестируем лучшую модель\n",
    "predictions = model_lgbm.predict(features_test_ordinal_scaler)\n",
    "rmse_lgbm_test = mean_squared_error(target_test, predictions, squared=False) \n",
    "print('RMSE модели LightGBM:', f'{rmse_lgbm_test:.0f}')"
   ]
  },
  {
   "cell_type": "markdown",
   "metadata": {},
   "source": [
    "- Загрузили и изучили данные.\n",
    "- Явные дубликаты удалены.\n",
    "- Неинформативные признаки удалены.\n",
    "- Обработали аномалии в столбцах.\n",
    "- Заполнили пропущенные значения.\n",
    "- Данные разделены на выборки.\n",
    "- Выполнено кодирование категориальных признаков.\n",
    "- Выполнено масштабирование численных признаков.\n",
    "- Обучили три модели:\n",
    "1. Модель градиентного бустинга LGBMRegressor.\n",
    "2. Модель градиентного бустинга CatBoostRegressor.\n",
    "3. Модель случайного леса RandomForestRegressor.\n",
    "- выбрали лучшую модель, проверили её качество на тестовой выборке."
   ]
  },
  {
   "cell_type": "markdown",
   "metadata": {},
   "source": [
    "Сервис по продаже автомобилей с пробегом «Не бит, не крашен» разрабатывает приложение, чтобы привлечь новых клиентов. В нём можно будет узнать рыночную стоимость своего автомобиля. \n",
    "Критерии, которые важны заказчику:\n",
    "- качество предсказания;\n",
    "- время обучения модели;\n",
    "- время предсказания модели.\n",
    "\n",
    "Опираясь на критерии заказчика выбрали лучшую модель, проверили её качество на тестовой выборке.\n",
    "- Во всех моделях значение метрики RMSE не превышает 2500, что соответствует изначальному требованию в условии задачи проекта.\n",
    "- Лучшая модель градиентного бустинга LGBMRegressor на тестовой выборке имеет значение метрики оценки качества RMSE = 1589.\n",
    "- LightGBM имеет более высокую скорость обучения, предсказания и хорошую точность."
   ]
  }
 ],
 "metadata": {
  "ExecuteTimeLog": [
   {
    "duration": 1697,
    "start_time": "2023-05-15T23:49:29.238Z"
   },
   {
    "duration": 3684,
    "start_time": "2023-05-15T23:49:30.938Z"
   },
   {
    "duration": 14,
    "start_time": "2023-05-15T23:49:34.624Z"
   },
   {
    "duration": 149,
    "start_time": "2023-05-15T23:49:34.640Z"
   },
   {
    "duration": 488,
    "start_time": "2023-05-15T23:49:34.794Z"
   },
   {
    "duration": 541,
    "start_time": "2023-05-15T23:49:35.284Z"
   },
   {
    "duration": 162,
    "start_time": "2023-05-15T23:49:35.827Z"
   },
   {
    "duration": 48,
    "start_time": "2023-05-15T23:49:35.991Z"
   },
   {
    "duration": 11,
    "start_time": "2023-05-15T23:52:29.701Z"
   },
   {
    "duration": 1315,
    "start_time": "2023-05-15T23:52:41.624Z"
   },
   {
    "duration": 870,
    "start_time": "2023-05-15T23:52:42.941Z"
   },
   {
    "duration": 16,
    "start_time": "2023-05-15T23:52:43.813Z"
   },
   {
    "duration": 13,
    "start_time": "2023-05-15T23:52:43.831Z"
   },
   {
    "duration": 212,
    "start_time": "2023-05-15T23:52:43.845Z"
   },
   {
    "duration": 562,
    "start_time": "2023-05-15T23:52:44.059Z"
   },
   {
    "duration": 595,
    "start_time": "2023-05-15T23:52:44.623Z"
   },
   {
    "duration": 142,
    "start_time": "2023-05-15T23:52:45.220Z"
   },
   {
    "duration": 54,
    "start_time": "2023-05-15T23:52:45.363Z"
   },
   {
    "duration": 1668,
    "start_time": "2023-05-16T07:44:24.718Z"
   },
   {
    "duration": 2953,
    "start_time": "2023-05-16T07:44:26.389Z"
   },
   {
    "duration": 19,
    "start_time": "2023-05-16T07:44:29.344Z"
   },
   {
    "duration": 17,
    "start_time": "2023-05-16T07:44:29.364Z"
   },
   {
    "duration": 133,
    "start_time": "2023-05-16T07:44:29.384Z"
   },
   {
    "duration": 487,
    "start_time": "2023-05-16T07:44:29.520Z"
   },
   {
    "duration": 514,
    "start_time": "2023-05-16T07:44:30.009Z"
   },
   {
    "duration": 108,
    "start_time": "2023-05-16T07:44:30.525Z"
   },
   {
    "duration": 60,
    "start_time": "2023-05-16T07:44:30.635Z"
   },
   {
    "duration": 51,
    "start_time": "2023-05-16T07:44:30.696Z"
   },
   {
    "duration": 141,
    "start_time": "2023-05-16T07:44:30.749Z"
   },
   {
    "duration": 0,
    "start_time": "2023-05-16T07:44:30.892Z"
   },
   {
    "duration": 0,
    "start_time": "2023-05-16T07:44:30.893Z"
   },
   {
    "duration": 0,
    "start_time": "2023-05-16T07:44:30.895Z"
   },
   {
    "duration": 0,
    "start_time": "2023-05-16T07:44:30.896Z"
   },
   {
    "duration": 0,
    "start_time": "2023-05-16T07:44:30.896Z"
   },
   {
    "duration": 0,
    "start_time": "2023-05-16T07:44:30.897Z"
   },
   {
    "duration": 0,
    "start_time": "2023-05-16T07:44:30.898Z"
   },
   {
    "duration": 1473,
    "start_time": "2023-05-16T07:45:46.887Z"
   },
   {
    "duration": 858,
    "start_time": "2023-05-16T07:45:48.363Z"
   },
   {
    "duration": 22,
    "start_time": "2023-05-16T07:45:49.223Z"
   },
   {
    "duration": 32,
    "start_time": "2023-05-16T07:45:49.247Z"
   },
   {
    "duration": 134,
    "start_time": "2023-05-16T07:45:49.281Z"
   },
   {
    "duration": 512,
    "start_time": "2023-05-16T07:45:49.417Z"
   },
   {
    "duration": 530,
    "start_time": "2023-05-16T07:45:49.931Z"
   },
   {
    "duration": 116,
    "start_time": "2023-05-16T07:45:50.463Z"
   },
   {
    "duration": 45,
    "start_time": "2023-05-16T07:45:50.581Z"
   },
   {
    "duration": 34,
    "start_time": "2023-05-16T07:45:50.628Z"
   },
   {
    "duration": 137,
    "start_time": "2023-05-16T07:45:50.665Z"
   },
   {
    "duration": 0,
    "start_time": "2023-05-16T07:45:50.805Z"
   },
   {
    "duration": 0,
    "start_time": "2023-05-16T07:45:50.806Z"
   },
   {
    "duration": 0,
    "start_time": "2023-05-16T07:45:50.808Z"
   },
   {
    "duration": 0,
    "start_time": "2023-05-16T07:45:50.809Z"
   },
   {
    "duration": 0,
    "start_time": "2023-05-16T07:45:50.811Z"
   },
   {
    "duration": 0,
    "start_time": "2023-05-16T07:45:50.812Z"
   },
   {
    "duration": 0,
    "start_time": "2023-05-16T07:45:50.813Z"
   },
   {
    "duration": 1471,
    "start_time": "2023-05-16T07:46:13.040Z"
   },
   {
    "duration": 814,
    "start_time": "2023-05-16T07:46:14.514Z"
   },
   {
    "duration": 19,
    "start_time": "2023-05-16T07:46:15.330Z"
   },
   {
    "duration": 31,
    "start_time": "2023-05-16T07:46:15.351Z"
   },
   {
    "duration": 130,
    "start_time": "2023-05-16T07:46:15.384Z"
   },
   {
    "duration": 541,
    "start_time": "2023-05-16T07:46:15.516Z"
   },
   {
    "duration": 527,
    "start_time": "2023-05-16T07:46:16.060Z"
   },
   {
    "duration": 113,
    "start_time": "2023-05-16T07:46:16.589Z"
   },
   {
    "duration": 45,
    "start_time": "2023-05-16T07:46:16.704Z"
   },
   {
    "duration": 39,
    "start_time": "2023-05-16T07:46:16.751Z"
   },
   {
    "duration": 86,
    "start_time": "2023-05-16T07:46:16.792Z"
   },
   {
    "duration": 61,
    "start_time": "2023-05-16T07:46:16.880Z"
   },
   {
    "duration": 53,
    "start_time": "2023-05-16T07:46:16.943Z"
   },
   {
    "duration": 4,
    "start_time": "2023-05-16T07:46:16.999Z"
   },
   {
    "duration": 175,
    "start_time": "2023-05-16T07:46:17.004Z"
   },
   {
    "duration": 0,
    "start_time": "2023-05-16T07:46:17.182Z"
   },
   {
    "duration": 0,
    "start_time": "2023-05-16T07:46:17.183Z"
   },
   {
    "duration": 0,
    "start_time": "2023-05-16T07:46:17.185Z"
   },
   {
    "duration": 1638,
    "start_time": "2023-05-16T11:04:36.850Z"
   },
   {
    "duration": 768,
    "start_time": "2023-05-16T11:04:38.490Z"
   },
   {
    "duration": 25,
    "start_time": "2023-05-16T11:04:39.260Z"
   },
   {
    "duration": 14,
    "start_time": "2023-05-16T11:04:39.287Z"
   },
   {
    "duration": 154,
    "start_time": "2023-05-16T11:04:39.303Z"
   },
   {
    "duration": 454,
    "start_time": "2023-05-16T11:04:39.459Z"
   },
   {
    "duration": 516,
    "start_time": "2023-05-16T11:04:39.916Z"
   },
   {
    "duration": 117,
    "start_time": "2023-05-16T11:04:40.434Z"
   },
   {
    "duration": 59,
    "start_time": "2023-05-16T11:04:40.553Z"
   },
   {
    "duration": 105,
    "start_time": "2023-05-16T11:04:40.614Z"
   },
   {
    "duration": 129,
    "start_time": "2023-05-16T11:04:40.721Z"
   },
   {
    "duration": 54,
    "start_time": "2023-05-16T11:04:40.852Z"
   },
   {
    "duration": 16,
    "start_time": "2023-05-16T11:04:40.908Z"
   },
   {
    "duration": 120,
    "start_time": "2023-05-16T11:04:40.926Z"
   },
   {
    "duration": 72,
    "start_time": "2023-05-16T11:04:41.048Z"
   },
   {
    "duration": 56,
    "start_time": "2023-05-16T11:04:41.122Z"
   },
   {
    "duration": 3,
    "start_time": "2023-05-16T11:04:41.180Z"
   },
   {
    "duration": 1203,
    "start_time": "2023-05-16T11:04:41.185Z"
   },
   {
    "duration": 5,
    "start_time": "2023-05-16T11:04:42.389Z"
   },
   {
    "duration": 253,
    "start_time": "2023-05-16T11:04:42.395Z"
   },
   {
    "duration": 0,
    "start_time": "2023-05-16T11:04:42.650Z"
   },
   {
    "duration": 1529,
    "start_time": "2023-05-16T11:11:47.159Z"
   },
   {
    "duration": 842,
    "start_time": "2023-05-16T11:11:48.690Z"
   },
   {
    "duration": 19,
    "start_time": "2023-05-16T11:11:49.534Z"
   },
   {
    "duration": 28,
    "start_time": "2023-05-16T11:11:49.555Z"
   },
   {
    "duration": 119,
    "start_time": "2023-05-16T11:11:49.585Z"
   },
   {
    "duration": 479,
    "start_time": "2023-05-16T11:11:49.706Z"
   },
   {
    "duration": 499,
    "start_time": "2023-05-16T11:11:50.187Z"
   },
   {
    "duration": 105,
    "start_time": "2023-05-16T11:11:50.688Z"
   },
   {
    "duration": 41,
    "start_time": "2023-05-16T11:11:50.795Z"
   },
   {
    "duration": 97,
    "start_time": "2023-05-16T11:11:50.837Z"
   },
   {
    "duration": 110,
    "start_time": "2023-05-16T11:11:50.936Z"
   },
   {
    "duration": 55,
    "start_time": "2023-05-16T11:11:51.047Z"
   },
   {
    "duration": 81,
    "start_time": "2023-05-16T11:11:51.104Z"
   },
   {
    "duration": 104,
    "start_time": "2023-05-16T11:11:51.188Z"
   },
   {
    "duration": 66,
    "start_time": "2023-05-16T11:11:51.294Z"
   },
   {
    "duration": 36,
    "start_time": "2023-05-16T11:11:51.362Z"
   },
   {
    "duration": 85,
    "start_time": "2023-05-16T11:11:51.400Z"
   },
   {
    "duration": 70,
    "start_time": "2023-05-16T11:11:51.486Z"
   },
   {
    "duration": 46,
    "start_time": "2023-05-16T11:11:51.558Z"
   },
   {
    "duration": 3,
    "start_time": "2023-05-16T11:11:51.606Z"
   },
   {
    "duration": 1087,
    "start_time": "2023-05-16T11:11:51.611Z"
   },
   {
    "duration": 6,
    "start_time": "2023-05-16T11:11:52.700Z"
   },
   {
    "duration": 806,
    "start_time": "2023-05-16T11:11:52.708Z"
   },
   {
    "duration": 16,
    "start_time": "2023-05-16T11:11:53.516Z"
   },
   {
    "duration": 2148,
    "start_time": "2023-05-16T12:51:06.357Z"
   },
   {
    "duration": 1109,
    "start_time": "2023-05-16T12:51:08.508Z"
   },
   {
    "duration": 23,
    "start_time": "2023-05-16T12:51:09.623Z"
   },
   {
    "duration": 20,
    "start_time": "2023-05-16T12:51:09.652Z"
   },
   {
    "duration": 225,
    "start_time": "2023-05-16T12:51:09.675Z"
   },
   {
    "duration": 710,
    "start_time": "2023-05-16T12:51:09.911Z"
   },
   {
    "duration": 663,
    "start_time": "2023-05-16T12:51:10.623Z"
   },
   {
    "duration": 176,
    "start_time": "2023-05-16T12:51:11.288Z"
   },
   {
    "duration": 56,
    "start_time": "2023-05-16T12:51:11.466Z"
   },
   {
    "duration": 129,
    "start_time": "2023-05-16T12:51:11.530Z"
   },
   {
    "duration": 190,
    "start_time": "2023-05-16T12:51:11.662Z"
   },
   {
    "duration": 82,
    "start_time": "2023-05-16T12:51:11.854Z"
   },
   {
    "duration": 133,
    "start_time": "2023-05-16T12:51:11.939Z"
   },
   {
    "duration": 154,
    "start_time": "2023-05-16T12:51:12.082Z"
   },
   {
    "duration": 69,
    "start_time": "2023-05-16T12:51:12.240Z"
   },
   {
    "duration": 24,
    "start_time": "2023-05-16T12:51:12.311Z"
   },
   {
    "duration": 120,
    "start_time": "2023-05-16T12:51:12.337Z"
   },
   {
    "duration": 90,
    "start_time": "2023-05-16T12:51:12.460Z"
   },
   {
    "duration": 49,
    "start_time": "2023-05-16T12:51:12.552Z"
   },
   {
    "duration": 11,
    "start_time": "2023-05-16T12:51:12.609Z"
   },
   {
    "duration": 1781,
    "start_time": "2023-05-16T12:51:12.626Z"
   },
   {
    "duration": 6,
    "start_time": "2023-05-16T12:51:14.409Z"
   },
   {
    "duration": 1213,
    "start_time": "2023-05-16T12:51:14.417Z"
   },
   {
    "duration": 24,
    "start_time": "2023-05-16T12:51:15.643Z"
   },
   {
    "duration": 5,
    "start_time": "2023-05-16T12:51:15.677Z"
   },
   {
    "duration": 724,
    "start_time": "2023-05-16T12:51:15.687Z"
   },
   {
    "duration": 201,
    "start_time": "2023-05-16T12:51:16.415Z"
   },
   {
    "duration": 0,
    "start_time": "2023-05-16T12:51:16.618Z"
   },
   {
    "duration": 0,
    "start_time": "2023-05-16T12:51:16.620Z"
   },
   {
    "duration": 1,
    "start_time": "2023-05-16T12:51:16.621Z"
   },
   {
    "duration": 1766,
    "start_time": "2023-05-16T12:54:15.167Z"
   },
   {
    "duration": 983,
    "start_time": "2023-05-16T12:54:16.934Z"
   },
   {
    "duration": 25,
    "start_time": "2023-05-16T12:54:17.918Z"
   },
   {
    "duration": 19,
    "start_time": "2023-05-16T12:54:17.945Z"
   },
   {
    "duration": 210,
    "start_time": "2023-05-16T12:54:17.977Z"
   },
   {
    "duration": 728,
    "start_time": "2023-05-16T12:54:18.194Z"
   },
   {
    "duration": 684,
    "start_time": "2023-05-16T12:54:18.924Z"
   },
   {
    "duration": 147,
    "start_time": "2023-05-16T12:54:19.615Z"
   },
   {
    "duration": 69,
    "start_time": "2023-05-16T12:54:19.764Z"
   },
   {
    "duration": 116,
    "start_time": "2023-05-16T12:54:19.837Z"
   },
   {
    "duration": 168,
    "start_time": "2023-05-16T12:54:19.955Z"
   },
   {
    "duration": 75,
    "start_time": "2023-05-16T12:54:20.127Z"
   },
   {
    "duration": 97,
    "start_time": "2023-05-16T12:54:20.204Z"
   },
   {
    "duration": 137,
    "start_time": "2023-05-16T12:54:20.302Z"
   },
   {
    "duration": 70,
    "start_time": "2023-05-16T12:54:20.442Z"
   },
   {
    "duration": 34,
    "start_time": "2023-05-16T12:54:20.515Z"
   },
   {
    "duration": 108,
    "start_time": "2023-05-16T12:54:20.556Z"
   },
   {
    "duration": 84,
    "start_time": "2023-05-16T12:54:20.667Z"
   },
   {
    "duration": 38,
    "start_time": "2023-05-16T12:54:20.753Z"
   },
   {
    "duration": 6,
    "start_time": "2023-05-16T12:54:20.793Z"
   },
   {
    "duration": 1622,
    "start_time": "2023-05-16T12:54:20.801Z"
   },
   {
    "duration": 7,
    "start_time": "2023-05-16T12:54:22.425Z"
   },
   {
    "duration": 1213,
    "start_time": "2023-05-16T12:54:22.437Z"
   },
   {
    "duration": 24,
    "start_time": "2023-05-16T12:54:23.656Z"
   },
   {
    "duration": 4,
    "start_time": "2023-05-16T12:54:23.686Z"
   },
   {
    "duration": 854,
    "start_time": "2023-05-16T12:54:23.695Z"
   },
   {
    "duration": 164,
    "start_time": "2023-05-16T12:54:24.552Z"
   },
   {
    "duration": 0,
    "start_time": "2023-05-16T12:54:24.722Z"
   },
   {
    "duration": 0,
    "start_time": "2023-05-16T12:54:24.726Z"
   },
   {
    "duration": 0,
    "start_time": "2023-05-16T12:54:24.731Z"
   },
   {
    "duration": 2371,
    "start_time": "2023-05-16T13:21:39.162Z"
   },
   {
    "duration": 1252,
    "start_time": "2023-05-16T13:21:41.538Z"
   },
   {
    "duration": 49,
    "start_time": "2023-05-16T13:21:42.798Z"
   },
   {
    "duration": 59,
    "start_time": "2023-05-16T13:21:42.856Z"
   },
   {
    "duration": 234,
    "start_time": "2023-05-16T13:21:42.932Z"
   },
   {
    "duration": 845,
    "start_time": "2023-05-16T13:21:43.171Z"
   },
   {
    "duration": 877,
    "start_time": "2023-05-16T13:21:44.018Z"
   },
   {
    "duration": 231,
    "start_time": "2023-05-16T13:21:44.906Z"
   },
   {
    "duration": 73,
    "start_time": "2023-05-16T13:21:45.156Z"
   },
   {
    "duration": 152,
    "start_time": "2023-05-16T13:21:45.233Z"
   },
   {
    "duration": 158,
    "start_time": "2023-05-16T13:21:45.391Z"
   },
   {
    "duration": 89,
    "start_time": "2023-05-16T13:21:45.551Z"
   },
   {
    "duration": 150,
    "start_time": "2023-05-16T13:21:45.643Z"
   },
   {
    "duration": 176,
    "start_time": "2023-05-16T13:21:45.801Z"
   },
   {
    "duration": 92,
    "start_time": "2023-05-16T13:21:45.989Z"
   },
   {
    "duration": 50,
    "start_time": "2023-05-16T13:21:46.089Z"
   },
   {
    "duration": 169,
    "start_time": "2023-05-16T13:21:46.152Z"
   },
   {
    "duration": 102,
    "start_time": "2023-05-16T13:21:46.327Z"
   },
   {
    "duration": 49,
    "start_time": "2023-05-16T13:21:46.436Z"
   },
   {
    "duration": 10,
    "start_time": "2023-05-16T13:21:46.491Z"
   },
   {
    "duration": 1883,
    "start_time": "2023-05-16T13:21:46.514Z"
   },
   {
    "duration": 12,
    "start_time": "2023-05-16T13:21:48.403Z"
   },
   {
    "duration": 1393,
    "start_time": "2023-05-16T13:21:48.421Z"
   },
   {
    "duration": 62,
    "start_time": "2023-05-16T13:21:49.825Z"
   },
   {
    "duration": 12,
    "start_time": "2023-05-16T13:21:49.893Z"
   },
   {
    "duration": 828,
    "start_time": "2023-05-16T13:21:49.911Z"
   },
   {
    "duration": 182,
    "start_time": "2023-05-16T13:21:50.744Z"
   },
   {
    "duration": 0,
    "start_time": "2023-05-16T13:21:50.942Z"
   },
   {
    "duration": 0,
    "start_time": "2023-05-16T13:21:50.944Z"
   },
   {
    "duration": 0,
    "start_time": "2023-05-16T13:21:50.946Z"
   },
   {
    "duration": 0,
    "start_time": "2023-05-16T13:21:50.960Z"
   },
   {
    "duration": 2114,
    "start_time": "2023-05-16T13:28:10.626Z"
   },
   {
    "duration": 1475,
    "start_time": "2023-05-16T13:28:12.744Z"
   },
   {
    "duration": 31,
    "start_time": "2023-05-16T13:28:14.221Z"
   },
   {
    "duration": 21,
    "start_time": "2023-05-16T13:28:14.255Z"
   },
   {
    "duration": 175,
    "start_time": "2023-05-16T13:28:14.292Z"
   },
   {
    "duration": 649,
    "start_time": "2023-05-16T13:28:14.469Z"
   },
   {
    "duration": 701,
    "start_time": "2023-05-16T13:28:15.124Z"
   },
   {
    "duration": 187,
    "start_time": "2023-05-16T13:28:15.834Z"
   },
   {
    "duration": 58,
    "start_time": "2023-05-16T13:28:16.027Z"
   },
   {
    "duration": 120,
    "start_time": "2023-05-16T13:28:16.088Z"
   },
   {
    "duration": 154,
    "start_time": "2023-05-16T13:28:16.212Z"
   },
   {
    "duration": 103,
    "start_time": "2023-05-16T13:28:16.368Z"
   },
   {
    "duration": 146,
    "start_time": "2023-05-16T13:28:16.474Z"
   },
   {
    "duration": 160,
    "start_time": "2023-05-16T13:28:16.625Z"
   },
   {
    "duration": 69,
    "start_time": "2023-05-16T13:28:16.787Z"
   },
   {
    "duration": 43,
    "start_time": "2023-05-16T13:28:16.858Z"
   },
   {
    "duration": 137,
    "start_time": "2023-05-16T13:28:16.903Z"
   },
   {
    "duration": 100,
    "start_time": "2023-05-16T13:28:17.043Z"
   },
   {
    "duration": 47,
    "start_time": "2023-05-16T13:28:17.145Z"
   },
   {
    "duration": 4,
    "start_time": "2023-05-16T13:28:17.195Z"
   },
   {
    "duration": 1871,
    "start_time": "2023-05-16T13:28:17.201Z"
   },
   {
    "duration": 20,
    "start_time": "2023-05-16T13:28:19.074Z"
   },
   {
    "duration": 1157,
    "start_time": "2023-05-16T13:28:19.103Z"
   },
   {
    "duration": 31,
    "start_time": "2023-05-16T13:28:20.262Z"
   },
   {
    "duration": 8,
    "start_time": "2023-05-16T13:28:20.308Z"
   },
   {
    "duration": 763,
    "start_time": "2023-05-16T13:28:20.318Z"
   },
   {
    "duration": 5,
    "start_time": "2023-05-16T13:28:21.083Z"
   },
   {
    "duration": 11,
    "start_time": "2023-05-16T13:28:21.091Z"
   },
   {
    "duration": 0,
    "start_time": "2023-05-16T13:28:21.105Z"
   },
   {
    "duration": 0,
    "start_time": "2023-05-16T13:28:21.107Z"
   },
   {
    "duration": 0,
    "start_time": "2023-05-16T13:28:21.109Z"
   },
   {
    "duration": 2306,
    "start_time": "2023-05-16T13:36:07.652Z"
   },
   {
    "duration": 1238,
    "start_time": "2023-05-16T13:36:09.961Z"
   },
   {
    "duration": 26,
    "start_time": "2023-05-16T13:36:11.202Z"
   },
   {
    "duration": 25,
    "start_time": "2023-05-16T13:36:11.231Z"
   },
   {
    "duration": 223,
    "start_time": "2023-05-16T13:36:11.259Z"
   },
   {
    "duration": 684,
    "start_time": "2023-05-16T13:36:11.485Z"
   },
   {
    "duration": 802,
    "start_time": "2023-05-16T13:36:12.171Z"
   },
   {
    "duration": 183,
    "start_time": "2023-05-16T13:36:12.975Z"
   },
   {
    "duration": 63,
    "start_time": "2023-05-16T13:36:13.160Z"
   },
   {
    "duration": 105,
    "start_time": "2023-05-16T13:36:13.225Z"
   },
   {
    "duration": 139,
    "start_time": "2023-05-16T13:36:13.331Z"
   },
   {
    "duration": 68,
    "start_time": "2023-05-16T13:36:13.472Z"
   },
   {
    "duration": 120,
    "start_time": "2023-05-16T13:36:13.542Z"
   },
   {
    "duration": 129,
    "start_time": "2023-05-16T13:36:13.665Z"
   },
   {
    "duration": 67,
    "start_time": "2023-05-16T13:36:13.796Z"
   },
   {
    "duration": 56,
    "start_time": "2023-05-16T13:36:13.865Z"
   },
   {
    "duration": 107,
    "start_time": "2023-05-16T13:36:13.925Z"
   },
   {
    "duration": 92,
    "start_time": "2023-05-16T13:36:14.034Z"
   },
   {
    "duration": 46,
    "start_time": "2023-05-16T13:36:14.128Z"
   },
   {
    "duration": 10,
    "start_time": "2023-05-16T13:36:14.177Z"
   },
   {
    "duration": 1716,
    "start_time": "2023-05-16T13:36:14.190Z"
   },
   {
    "duration": 6,
    "start_time": "2023-05-16T13:36:15.908Z"
   },
   {
    "duration": 1186,
    "start_time": "2023-05-16T13:36:15.917Z"
   },
   {
    "duration": 18,
    "start_time": "2023-05-16T13:36:17.105Z"
   },
   {
    "duration": 13,
    "start_time": "2023-05-16T13:36:17.126Z"
   },
   {
    "duration": 1003,
    "start_time": "2023-05-16T13:36:17.143Z"
   },
   {
    "duration": 4,
    "start_time": "2023-05-16T13:36:18.150Z"
   },
   {
    "duration": 31,
    "start_time": "2023-05-16T13:36:18.156Z"
   },
   {
    "duration": 0,
    "start_time": "2023-05-16T13:36:18.190Z"
   },
   {
    "duration": 0,
    "start_time": "2023-05-16T13:36:18.191Z"
   },
   {
    "duration": 0,
    "start_time": "2023-05-16T13:36:18.192Z"
   },
   {
    "duration": 2885,
    "start_time": "2023-05-16T13:55:15.058Z"
   },
   {
    "duration": 1863,
    "start_time": "2023-05-16T13:55:17.946Z"
   },
   {
    "duration": 53,
    "start_time": "2023-05-16T13:55:19.824Z"
   },
   {
    "duration": 46,
    "start_time": "2023-05-16T13:55:19.883Z"
   },
   {
    "duration": 340,
    "start_time": "2023-05-16T13:55:19.941Z"
   },
   {
    "duration": 1277,
    "start_time": "2023-05-16T13:55:20.288Z"
   },
   {
    "duration": 956,
    "start_time": "2023-05-16T13:55:21.573Z"
   },
   {
    "duration": 254,
    "start_time": "2023-05-16T13:55:22.531Z"
   },
   {
    "duration": 170,
    "start_time": "2023-05-16T13:55:22.787Z"
   },
   {
    "duration": 206,
    "start_time": "2023-05-16T13:55:22.959Z"
   },
   {
    "duration": 209,
    "start_time": "2023-05-16T13:55:23.167Z"
   },
   {
    "duration": 126,
    "start_time": "2023-05-16T13:55:23.381Z"
   },
   {
    "duration": 228,
    "start_time": "2023-05-16T13:55:23.517Z"
   },
   {
    "duration": 243,
    "start_time": "2023-05-16T13:55:23.753Z"
   },
   {
    "duration": 147,
    "start_time": "2023-05-16T13:55:24.002Z"
   },
   {
    "duration": 58,
    "start_time": "2023-05-16T13:55:24.159Z"
   },
   {
    "duration": 246,
    "start_time": "2023-05-16T13:55:24.223Z"
   },
   {
    "duration": 205,
    "start_time": "2023-05-16T13:55:24.484Z"
   },
   {
    "duration": 97,
    "start_time": "2023-05-16T13:55:24.703Z"
   },
   {
    "duration": 5,
    "start_time": "2023-05-16T13:55:24.802Z"
   },
   {
    "duration": 2695,
    "start_time": "2023-05-16T13:55:24.814Z"
   },
   {
    "duration": 21,
    "start_time": "2023-05-16T13:55:27.516Z"
   },
   {
    "duration": 1679,
    "start_time": "2023-05-16T13:55:27.547Z"
   },
   {
    "duration": 34,
    "start_time": "2023-05-16T13:55:29.232Z"
   },
   {
    "duration": 9,
    "start_time": "2023-05-16T13:55:29.272Z"
   },
   {
    "duration": 1326,
    "start_time": "2023-05-16T13:55:29.287Z"
   },
   {
    "duration": 9,
    "start_time": "2023-05-16T13:55:30.624Z"
   },
   {
    "duration": 441,
    "start_time": "2023-05-16T13:55:30.650Z"
   },
   {
    "duration": 0,
    "start_time": "2023-05-16T13:55:31.101Z"
   },
   {
    "duration": 0,
    "start_time": "2023-05-16T13:55:31.110Z"
   },
   {
    "duration": 1,
    "start_time": "2023-05-16T13:55:31.116Z"
   },
   {
    "duration": 1737,
    "start_time": "2023-05-16T16:06:00.821Z"
   },
   {
    "duration": 983,
    "start_time": "2023-05-16T16:06:02.560Z"
   },
   {
    "duration": 29,
    "start_time": "2023-05-16T16:06:03.545Z"
   },
   {
    "duration": 31,
    "start_time": "2023-05-16T16:06:03.588Z"
   },
   {
    "duration": 139,
    "start_time": "2023-05-16T16:06:03.627Z"
   },
   {
    "duration": 640,
    "start_time": "2023-05-16T16:06:03.768Z"
   },
   {
    "duration": 702,
    "start_time": "2023-05-16T16:06:04.416Z"
   },
   {
    "duration": 144,
    "start_time": "2023-05-16T16:06:05.119Z"
   },
   {
    "duration": 81,
    "start_time": "2023-05-16T16:06:05.266Z"
   },
   {
    "duration": 144,
    "start_time": "2023-05-16T16:06:05.349Z"
   },
   {
    "duration": 177,
    "start_time": "2023-05-16T16:06:05.514Z"
   },
   {
    "duration": 85,
    "start_time": "2023-05-16T16:06:05.700Z"
   },
   {
    "duration": 143,
    "start_time": "2023-05-16T16:06:05.794Z"
   },
   {
    "duration": 144,
    "start_time": "2023-05-16T16:06:05.946Z"
   },
   {
    "duration": 73,
    "start_time": "2023-05-16T16:06:06.094Z"
   },
   {
    "duration": 32,
    "start_time": "2023-05-16T16:06:06.169Z"
   },
   {
    "duration": 101,
    "start_time": "2023-05-16T16:06:06.204Z"
   },
   {
    "duration": 68,
    "start_time": "2023-05-16T16:06:06.307Z"
   },
   {
    "duration": 48,
    "start_time": "2023-05-16T16:06:06.377Z"
   },
   {
    "duration": 4,
    "start_time": "2023-05-16T16:06:06.427Z"
   },
   {
    "duration": 1434,
    "start_time": "2023-05-16T16:06:06.433Z"
   },
   {
    "duration": 5,
    "start_time": "2023-05-16T16:06:07.869Z"
   },
   {
    "duration": 985,
    "start_time": "2023-05-16T16:06:07.882Z"
   },
   {
    "duration": 23,
    "start_time": "2023-05-16T16:06:08.881Z"
   },
   {
    "duration": 2,
    "start_time": "2023-05-16T16:06:08.906Z"
   },
   {
    "duration": 605,
    "start_time": "2023-05-16T16:06:08.912Z"
   },
   {
    "duration": 5,
    "start_time": "2023-05-16T16:06:09.524Z"
   },
   {
    "duration": 1440154,
    "start_time": "2023-05-16T16:06:09.533Z"
   },
   {
    "duration": 30,
    "start_time": "2023-05-16T16:30:09.689Z"
   },
   {
    "duration": 0,
    "start_time": "2023-05-16T16:30:09.726Z"
   },
   {
    "duration": 0,
    "start_time": "2023-05-16T16:30:09.728Z"
   },
   {
    "duration": 1664,
    "start_time": "2023-05-16T16:37:04.657Z"
   },
   {
    "duration": 935,
    "start_time": "2023-05-16T16:37:06.323Z"
   },
   {
    "duration": 32,
    "start_time": "2023-05-16T16:37:07.260Z"
   },
   {
    "duration": 28,
    "start_time": "2023-05-16T16:37:07.295Z"
   },
   {
    "duration": 135,
    "start_time": "2023-05-16T16:37:07.325Z"
   },
   {
    "duration": 640,
    "start_time": "2023-05-16T16:37:07.463Z"
   },
   {
    "duration": 648,
    "start_time": "2023-05-16T16:37:08.109Z"
   },
   {
    "duration": 135,
    "start_time": "2023-05-16T16:37:08.759Z"
   },
   {
    "duration": 54,
    "start_time": "2023-05-16T16:37:08.904Z"
   },
   {
    "duration": 99,
    "start_time": "2023-05-16T16:37:08.961Z"
   },
   {
    "duration": 119,
    "start_time": "2023-05-16T16:37:09.061Z"
   },
   {
    "duration": 60,
    "start_time": "2023-05-16T16:37:09.186Z"
   },
   {
    "duration": 98,
    "start_time": "2023-05-16T16:37:09.248Z"
   },
   {
    "duration": 118,
    "start_time": "2023-05-16T16:37:09.349Z"
   },
   {
    "duration": 74,
    "start_time": "2023-05-16T16:37:09.469Z"
   },
   {
    "duration": 38,
    "start_time": "2023-05-16T16:37:09.545Z"
   },
   {
    "duration": 131,
    "start_time": "2023-05-16T16:37:09.587Z"
   },
   {
    "duration": 66,
    "start_time": "2023-05-16T16:37:09.724Z"
   },
   {
    "duration": 39,
    "start_time": "2023-05-16T16:37:09.797Z"
   },
   {
    "duration": 2,
    "start_time": "2023-05-16T16:37:09.838Z"
   },
   {
    "duration": 1402,
    "start_time": "2023-05-16T16:37:09.842Z"
   },
   {
    "duration": 4,
    "start_time": "2023-05-16T16:37:11.246Z"
   },
   {
    "duration": 1077,
    "start_time": "2023-05-16T16:37:11.251Z"
   },
   {
    "duration": 23,
    "start_time": "2023-05-16T16:37:12.332Z"
   },
   {
    "duration": 3,
    "start_time": "2023-05-16T16:37:12.357Z"
   },
   {
    "duration": 626,
    "start_time": "2023-05-16T16:37:12.362Z"
   },
   {
    "duration": 6,
    "start_time": "2023-05-16T16:37:12.990Z"
   },
   {
    "duration": 1125788,
    "start_time": "2023-05-16T16:37:12.998Z"
   },
   {
    "duration": 82802,
    "start_time": "2023-05-16T16:55:58.798Z"
   },
   {
    "duration": 213364,
    "start_time": "2023-05-16T16:57:21.606Z"
   },
   {
    "duration": 1515,
    "start_time": "2023-05-16T17:00:54.971Z"
   },
   {
    "duration": 53,
    "start_time": "2023-05-17T08:41:21.121Z"
   },
   {
    "duration": 2697,
    "start_time": "2023-05-17T08:41:32.072Z"
   },
   {
    "duration": 3161,
    "start_time": "2023-05-17T08:41:34.773Z"
   },
   {
    "duration": 33,
    "start_time": "2023-05-17T08:41:37.937Z"
   },
   {
    "duration": 16,
    "start_time": "2023-05-17T08:41:37.973Z"
   },
   {
    "duration": 150,
    "start_time": "2023-05-17T08:41:37.991Z"
   },
   {
    "duration": 590,
    "start_time": "2023-05-17T08:41:38.143Z"
   },
   {
    "duration": 590,
    "start_time": "2023-05-17T08:41:38.735Z"
   },
   {
    "duration": 148,
    "start_time": "2023-05-17T08:41:39.327Z"
   },
   {
    "duration": 51,
    "start_time": "2023-05-17T08:41:39.477Z"
   },
   {
    "duration": 84,
    "start_time": "2023-05-17T08:41:39.532Z"
   },
   {
    "duration": 94,
    "start_time": "2023-05-17T08:41:39.619Z"
   },
   {
    "duration": 129,
    "start_time": "2023-05-17T08:41:39.715Z"
   },
   {
    "duration": 71,
    "start_time": "2023-05-17T08:41:39.846Z"
   },
   {
    "duration": 85,
    "start_time": "2023-05-17T08:41:39.919Z"
   },
   {
    "duration": 115,
    "start_time": "2023-05-17T08:41:40.005Z"
   },
   {
    "duration": 53,
    "start_time": "2023-05-17T08:41:40.122Z"
   },
   {
    "duration": 23,
    "start_time": "2023-05-17T08:41:40.177Z"
   },
   {
    "duration": 100,
    "start_time": "2023-05-17T08:41:40.202Z"
   },
   {
    "duration": 72,
    "start_time": "2023-05-17T08:41:40.304Z"
   },
   {
    "duration": 34,
    "start_time": "2023-05-17T08:41:40.378Z"
   },
   {
    "duration": 3,
    "start_time": "2023-05-17T08:41:40.414Z"
   },
   {
    "duration": 1380,
    "start_time": "2023-05-17T08:41:40.419Z"
   },
   {
    "duration": 7,
    "start_time": "2023-05-17T08:41:41.800Z"
   },
   {
    "duration": 884,
    "start_time": "2023-05-17T08:41:41.810Z"
   },
   {
    "duration": 16,
    "start_time": "2023-05-17T08:41:42.696Z"
   },
   {
    "duration": 3,
    "start_time": "2023-05-17T08:41:42.714Z"
   },
   {
    "duration": 541,
    "start_time": "2023-05-17T08:41:42.719Z"
   },
   {
    "duration": 3,
    "start_time": "2023-05-17T08:41:43.264Z"
   },
   {
    "duration": 2542,
    "start_time": "2023-05-17T08:52:34.906Z"
   },
   {
    "duration": 2930,
    "start_time": "2023-05-17T08:52:37.450Z"
   },
   {
    "duration": 21,
    "start_time": "2023-05-17T08:52:40.382Z"
   },
   {
    "duration": 16,
    "start_time": "2023-05-17T08:52:40.406Z"
   },
   {
    "duration": 134,
    "start_time": "2023-05-17T08:52:40.423Z"
   },
   {
    "duration": 567,
    "start_time": "2023-05-17T08:52:40.559Z"
   },
   {
    "duration": 572,
    "start_time": "2023-05-17T08:52:41.128Z"
   },
   {
    "duration": 120,
    "start_time": "2023-05-17T08:52:41.702Z"
   },
   {
    "duration": 61,
    "start_time": "2023-05-17T08:52:41.824Z"
   },
   {
    "duration": 76,
    "start_time": "2023-05-17T08:52:41.888Z"
   },
   {
    "duration": 444,
    "start_time": "2023-05-17T08:52:41.965Z"
   },
   {
    "duration": 429,
    "start_time": "2023-05-17T08:52:42.411Z"
   },
   {
    "duration": 331,
    "start_time": "2023-05-17T08:52:42.842Z"
   },
   {
    "duration": 486,
    "start_time": "2023-05-17T08:52:43.175Z"
   },
   {
    "duration": 95,
    "start_time": "2023-05-17T08:52:43.663Z"
   },
   {
    "duration": 119,
    "start_time": "2023-05-17T08:52:43.760Z"
   },
   {
    "duration": 59,
    "start_time": "2023-05-17T08:52:43.880Z"
   },
   {
    "duration": 99,
    "start_time": "2023-05-17T08:52:43.942Z"
   },
   {
    "duration": 112,
    "start_time": "2023-05-17T08:52:44.056Z"
   },
   {
    "duration": 42,
    "start_time": "2023-05-17T08:52:44.170Z"
   },
   {
    "duration": 22,
    "start_time": "2023-05-17T08:52:44.214Z"
   },
   {
    "duration": 87,
    "start_time": "2023-05-17T08:52:44.239Z"
   },
   {
    "duration": 65,
    "start_time": "2023-05-17T08:52:44.328Z"
   },
   {
    "duration": 31,
    "start_time": "2023-05-17T08:52:44.395Z"
   },
   {
    "duration": 3,
    "start_time": "2023-05-17T08:52:44.428Z"
   },
   {
    "duration": 1042,
    "start_time": "2023-05-17T08:52:44.432Z"
   },
   {
    "duration": 4,
    "start_time": "2023-05-17T08:52:45.475Z"
   },
   {
    "duration": 882,
    "start_time": "2023-05-17T08:52:45.482Z"
   },
   {
    "duration": 20,
    "start_time": "2023-05-17T08:52:46.366Z"
   },
   {
    "duration": 3,
    "start_time": "2023-05-17T08:52:46.389Z"
   },
   {
    "duration": 499,
    "start_time": "2023-05-17T08:52:46.394Z"
   },
   {
    "duration": 3,
    "start_time": "2023-05-17T08:52:46.894Z"
   },
   {
    "duration": 122077,
    "start_time": "2023-05-17T08:52:46.899Z"
   },
   {
    "duration": 67729,
    "start_time": "2023-05-17T08:54:48.977Z"
   },
   {
    "duration": 176907,
    "start_time": "2023-05-17T08:55:56.708Z"
   },
   {
    "duration": 1358,
    "start_time": "2023-05-17T08:58:53.617Z"
   },
   {
    "duration": 1873,
    "start_time": "2023-05-17T09:58:03.781Z"
   },
   {
    "duration": 2845,
    "start_time": "2023-05-17T09:58:05.656Z"
   },
   {
    "duration": 17,
    "start_time": "2023-05-17T09:58:08.503Z"
   },
   {
    "duration": 23,
    "start_time": "2023-05-17T09:58:08.522Z"
   },
   {
    "duration": 157,
    "start_time": "2023-05-17T09:58:08.548Z"
   },
   {
    "duration": 521,
    "start_time": "2023-05-17T09:58:08.707Z"
   },
   {
    "duration": 527,
    "start_time": "2023-05-17T09:58:09.230Z"
   },
   {
    "duration": 133,
    "start_time": "2023-05-17T09:58:09.759Z"
   },
   {
    "duration": 46,
    "start_time": "2023-05-17T09:58:09.893Z"
   },
   {
    "duration": 85,
    "start_time": "2023-05-17T09:58:09.941Z"
   },
   {
    "duration": 534,
    "start_time": "2023-05-17T09:58:10.027Z"
   },
   {
    "duration": 556,
    "start_time": "2023-05-17T09:58:10.564Z"
   },
   {
    "duration": 420,
    "start_time": "2023-05-17T09:58:11.122Z"
   },
   {
    "duration": 495,
    "start_time": "2023-05-17T09:58:11.544Z"
   },
   {
    "duration": 89,
    "start_time": "2023-05-17T09:58:12.041Z"
   },
   {
    "duration": 121,
    "start_time": "2023-05-17T09:58:12.132Z"
   },
   {
    "duration": 54,
    "start_time": "2023-05-17T09:58:12.258Z"
   },
   {
    "duration": 103,
    "start_time": "2023-05-17T09:58:12.313Z"
   },
   {
    "duration": 118,
    "start_time": "2023-05-17T09:58:12.418Z"
   },
   {
    "duration": 55,
    "start_time": "2023-05-17T09:58:12.538Z"
   },
   {
    "duration": 25,
    "start_time": "2023-05-17T09:58:12.595Z"
   },
   {
    "duration": 104,
    "start_time": "2023-05-17T09:58:12.622Z"
   },
   {
    "duration": 78,
    "start_time": "2023-05-17T09:58:12.729Z"
   },
   {
    "duration": 35,
    "start_time": "2023-05-17T09:58:12.809Z"
   },
   {
    "duration": 3,
    "start_time": "2023-05-17T09:58:12.846Z"
   },
   {
    "duration": 1250,
    "start_time": "2023-05-17T09:58:12.858Z"
   },
   {
    "duration": 5,
    "start_time": "2023-05-17T09:58:14.110Z"
   },
   {
    "duration": 986,
    "start_time": "2023-05-17T09:58:14.119Z"
   },
   {
    "duration": 14,
    "start_time": "2023-05-17T09:58:15.107Z"
   },
   {
    "duration": 3,
    "start_time": "2023-05-17T09:58:15.123Z"
   },
   {
    "duration": 551,
    "start_time": "2023-05-17T09:58:15.128Z"
   },
   {
    "duration": 3,
    "start_time": "2023-05-17T09:58:15.681Z"
   },
   {
    "duration": 326201,
    "start_time": "2023-05-17T09:58:15.686Z"
   },
   {
    "duration": 0,
    "start_time": "2023-05-17T10:03:41.889Z"
   },
   {
    "duration": 0,
    "start_time": "2023-05-17T10:03:41.890Z"
   },
   {
    "duration": 0,
    "start_time": "2023-05-17T10:03:41.891Z"
   },
   {
    "duration": 1620,
    "start_time": "2023-05-17T10:03:43.750Z"
   },
   {
    "duration": 951,
    "start_time": "2023-05-17T10:03:45.372Z"
   },
   {
    "duration": 18,
    "start_time": "2023-05-17T10:03:46.325Z"
   },
   {
    "duration": 38,
    "start_time": "2023-05-17T10:03:46.345Z"
   },
   {
    "duration": 145,
    "start_time": "2023-05-17T10:03:46.385Z"
   },
   {
    "duration": 523,
    "start_time": "2023-05-17T10:03:46.531Z"
   },
   {
    "duration": 550,
    "start_time": "2023-05-17T10:03:47.057Z"
   },
   {
    "duration": 109,
    "start_time": "2023-05-17T10:03:47.609Z"
   },
   {
    "duration": 60,
    "start_time": "2023-05-17T10:03:47.719Z"
   },
   {
    "duration": 80,
    "start_time": "2023-05-17T10:03:47.782Z"
   },
   {
    "duration": 526,
    "start_time": "2023-05-17T10:03:47.864Z"
   },
   {
    "duration": 453,
    "start_time": "2023-05-17T10:03:48.392Z"
   },
   {
    "duration": 335,
    "start_time": "2023-05-17T10:03:48.846Z"
   },
   {
    "duration": 595,
    "start_time": "2023-05-17T10:03:49.183Z"
   },
   {
    "duration": 107,
    "start_time": "2023-05-17T10:03:49.779Z"
   },
   {
    "duration": 117,
    "start_time": "2023-05-17T10:03:49.887Z"
   },
   {
    "duration": 65,
    "start_time": "2023-05-17T10:03:50.006Z"
   },
   {
    "duration": 81,
    "start_time": "2023-05-17T10:03:50.078Z"
   },
   {
    "duration": 109,
    "start_time": "2023-05-17T10:03:50.160Z"
   },
   {
    "duration": 52,
    "start_time": "2023-05-17T10:03:50.272Z"
   },
   {
    "duration": 41,
    "start_time": "2023-05-17T10:03:50.326Z"
   },
   {
    "duration": 81,
    "start_time": "2023-05-17T10:03:50.369Z"
   },
   {
    "duration": 70,
    "start_time": "2023-05-17T10:03:50.452Z"
   },
   {
    "duration": 46,
    "start_time": "2023-05-17T10:03:50.524Z"
   },
   {
    "duration": 4,
    "start_time": "2023-05-17T10:03:50.572Z"
   },
   {
    "duration": 1289,
    "start_time": "2023-05-17T10:03:50.578Z"
   },
   {
    "duration": 5,
    "start_time": "2023-05-17T10:03:51.873Z"
   },
   {
    "duration": 913,
    "start_time": "2023-05-17T10:03:51.883Z"
   },
   {
    "duration": 18,
    "start_time": "2023-05-17T10:03:52.799Z"
   },
   {
    "duration": 3,
    "start_time": "2023-05-17T10:03:52.819Z"
   },
   {
    "duration": 555,
    "start_time": "2023-05-17T10:03:52.864Z"
   },
   {
    "duration": 4,
    "start_time": "2023-05-17T10:03:53.421Z"
   },
   {
    "duration": 839268,
    "start_time": "2023-05-17T10:03:53.427Z"
   },
   {
    "duration": 49849,
    "start_time": "2023-05-17T10:17:52.697Z"
   },
   {
    "duration": 0,
    "start_time": "2023-05-17T10:18:42.548Z"
   },
   {
    "duration": 0,
    "start_time": "2023-05-17T10:18:42.550Z"
   },
   {
    "duration": 0,
    "start_time": "2023-05-17T10:18:42.552Z"
   },
   {
    "duration": 305,
    "start_time": "2023-05-17T10:18:44.664Z"
   },
   {
    "duration": 468,
    "start_time": "2023-05-17T10:18:59.329Z"
   },
   {
    "duration": 361,
    "start_time": "2023-05-17T10:19:29.743Z"
   },
   {
    "duration": 421,
    "start_time": "2023-05-17T10:19:32.816Z"
   },
   {
    "duration": 272,
    "start_time": "2023-05-17T10:29:18.262Z"
   },
   {
    "duration": 178,
    "start_time": "2023-05-17T10:32:51.431Z"
   },
   {
    "duration": 159,
    "start_time": "2023-05-17T10:34:11.024Z"
   },
   {
    "duration": 195,
    "start_time": "2023-05-17T10:36:46.619Z"
   },
   {
    "duration": 199,
    "start_time": "2023-05-17T10:38:49.179Z"
   },
   {
    "duration": 253,
    "start_time": "2023-05-17T10:39:38.490Z"
   },
   {
    "duration": 1804,
    "start_time": "2023-05-17T10:39:51.979Z"
   },
   {
    "duration": 2944,
    "start_time": "2023-05-17T10:39:53.786Z"
   },
   {
    "duration": 18,
    "start_time": "2023-05-17T10:39:56.734Z"
   },
   {
    "duration": 38,
    "start_time": "2023-05-17T10:39:56.756Z"
   },
   {
    "duration": 134,
    "start_time": "2023-05-17T10:39:56.796Z"
   },
   {
    "duration": 484,
    "start_time": "2023-05-17T10:39:56.932Z"
   },
   {
    "duration": 535,
    "start_time": "2023-05-17T10:39:57.418Z"
   },
   {
    "duration": 109,
    "start_time": "2023-05-17T10:39:57.957Z"
   },
   {
    "duration": 45,
    "start_time": "2023-05-17T10:39:58.070Z"
   },
   {
    "duration": 83,
    "start_time": "2023-05-17T10:39:58.117Z"
   },
   {
    "duration": 351,
    "start_time": "2023-05-17T10:39:58.202Z"
   },
   {
    "duration": 462,
    "start_time": "2023-05-17T10:39:58.558Z"
   },
   {
    "duration": 305,
    "start_time": "2023-05-17T10:39:59.021Z"
   },
   {
    "duration": 437,
    "start_time": "2023-05-17T10:39:59.328Z"
   },
   {
    "duration": 315,
    "start_time": "2023-05-17T10:39:59.767Z"
   },
   {
    "duration": 396,
    "start_time": "2023-05-17T10:40:00.083Z"
   },
   {
    "duration": 93,
    "start_time": "2023-05-17T10:40:00.481Z"
   },
   {
    "duration": 119,
    "start_time": "2023-05-17T10:40:00.576Z"
   },
   {
    "duration": 45,
    "start_time": "2023-05-17T10:40:00.697Z"
   },
   {
    "duration": 84,
    "start_time": "2023-05-17T10:40:00.744Z"
   },
   {
    "duration": 102,
    "start_time": "2023-05-17T10:40:00.830Z"
   },
   {
    "duration": 53,
    "start_time": "2023-05-17T10:40:00.934Z"
   },
   {
    "duration": 28,
    "start_time": "2023-05-17T10:40:00.990Z"
   },
   {
    "duration": 91,
    "start_time": "2023-05-17T10:40:01.020Z"
   },
   {
    "duration": 85,
    "start_time": "2023-05-17T10:40:01.112Z"
   },
   {
    "duration": 38,
    "start_time": "2023-05-17T10:40:01.199Z"
   },
   {
    "duration": 18,
    "start_time": "2023-05-17T10:40:01.241Z"
   },
   {
    "duration": 1228,
    "start_time": "2023-05-17T10:40:01.261Z"
   },
   {
    "duration": 5,
    "start_time": "2023-05-17T10:40:02.491Z"
   },
   {
    "duration": 923,
    "start_time": "2023-05-17T10:40:02.498Z"
   },
   {
    "duration": 34,
    "start_time": "2023-05-17T10:40:03.423Z"
   },
   {
    "duration": 3,
    "start_time": "2023-05-17T10:40:03.459Z"
   },
   {
    "duration": 541,
    "start_time": "2023-05-17T10:40:03.463Z"
   },
   {
    "duration": 6,
    "start_time": "2023-05-17T10:40:04.006Z"
   },
   {
    "duration": 208054,
    "start_time": "2023-05-17T10:40:04.015Z"
   },
   {
    "duration": 66787,
    "start_time": "2023-05-17T10:43:32.071Z"
   },
   {
    "duration": 196520,
    "start_time": "2023-05-17T10:44:38.864Z"
   },
   {
    "duration": 1396,
    "start_time": "2023-05-17T10:47:55.386Z"
   },
   {
    "duration": 221,
    "start_time": "2023-05-17T10:55:40.082Z"
   },
   {
    "duration": 213,
    "start_time": "2023-05-17T10:55:48.928Z"
   },
   {
    "duration": 421,
    "start_time": "2023-05-17T10:56:16.387Z"
   },
   {
    "duration": 382,
    "start_time": "2023-05-17T10:56:41.596Z"
   },
   {
    "duration": 318,
    "start_time": "2023-05-17T10:57:23.269Z"
   },
   {
    "duration": 292,
    "start_time": "2023-05-17T10:57:37.492Z"
   },
   {
    "duration": 300,
    "start_time": "2023-05-17T10:57:43.306Z"
   },
   {
    "duration": 224,
    "start_time": "2023-05-17T10:57:52.708Z"
   },
   {
    "duration": 160,
    "start_time": "2023-05-17T10:58:02.908Z"
   },
   {
    "duration": 149,
    "start_time": "2023-05-17T10:58:12.999Z"
   },
   {
    "duration": 235,
    "start_time": "2023-05-17T10:58:51.376Z"
   },
   {
    "duration": 257,
    "start_time": "2023-05-17T11:06:18.852Z"
   },
   {
    "duration": 367,
    "start_time": "2023-05-17T11:06:29.237Z"
   },
   {
    "duration": 461,
    "start_time": "2023-05-17T11:06:53.852Z"
   },
   {
    "duration": 1340,
    "start_time": "2023-05-17T11:07:14.486Z"
   },
   {
    "duration": 810,
    "start_time": "2023-05-17T11:07:15.828Z"
   },
   {
    "duration": 20,
    "start_time": "2023-05-17T11:07:16.640Z"
   },
   {
    "duration": 18,
    "start_time": "2023-05-17T11:07:16.662Z"
   },
   {
    "duration": 132,
    "start_time": "2023-05-17T11:07:16.683Z"
   },
   {
    "duration": 475,
    "start_time": "2023-05-17T11:07:16.816Z"
   },
   {
    "duration": 565,
    "start_time": "2023-05-17T11:07:17.292Z"
   },
   {
    "duration": 111,
    "start_time": "2023-05-17T11:07:17.859Z"
   },
   {
    "duration": 46,
    "start_time": "2023-05-17T11:07:17.973Z"
   },
   {
    "duration": 83,
    "start_time": "2023-05-17T11:07:18.021Z"
   },
   {
    "duration": 287,
    "start_time": "2023-05-17T11:07:18.106Z"
   },
   {
    "duration": 407,
    "start_time": "2023-05-17T11:07:18.395Z"
   },
   {
    "duration": 235,
    "start_time": "2023-05-17T11:07:18.803Z"
   },
   {
    "duration": 417,
    "start_time": "2023-05-17T11:07:19.042Z"
   },
   {
    "duration": 230,
    "start_time": "2023-05-17T11:07:19.460Z"
   },
   {
    "duration": 315,
    "start_time": "2023-05-17T11:07:19.692Z"
   },
   {
    "duration": 213,
    "start_time": "2023-05-17T11:07:20.010Z"
   },
   {
    "duration": 370,
    "start_time": "2023-05-17T11:07:20.224Z"
   },
   {
    "duration": 93,
    "start_time": "2023-05-17T11:07:20.596Z"
   },
   {
    "duration": 111,
    "start_time": "2023-05-17T11:07:20.691Z"
   },
   {
    "duration": 43,
    "start_time": "2023-05-17T11:07:20.804Z"
   },
   {
    "duration": 74,
    "start_time": "2023-05-17T11:07:20.858Z"
   },
   {
    "duration": 106,
    "start_time": "2023-05-17T11:07:20.934Z"
   },
   {
    "duration": 55,
    "start_time": "2023-05-17T11:07:21.042Z"
   },
   {
    "duration": 22,
    "start_time": "2023-05-17T11:07:21.099Z"
   },
   {
    "duration": 99,
    "start_time": "2023-05-17T11:07:21.122Z"
   },
   {
    "duration": 61,
    "start_time": "2023-05-17T11:07:21.222Z"
   },
   {
    "duration": 33,
    "start_time": "2023-05-17T11:07:21.284Z"
   },
   {
    "duration": 5,
    "start_time": "2023-05-17T11:07:21.319Z"
   },
   {
    "duration": 1059,
    "start_time": "2023-05-17T11:07:21.325Z"
   },
   {
    "duration": 4,
    "start_time": "2023-05-17T11:07:22.386Z"
   },
   {
    "duration": 813,
    "start_time": "2023-05-17T11:07:22.391Z"
   },
   {
    "duration": 14,
    "start_time": "2023-05-17T11:07:23.205Z"
   },
   {
    "duration": 4,
    "start_time": "2023-05-17T11:07:23.220Z"
   },
   {
    "duration": 483,
    "start_time": "2023-05-17T11:07:23.258Z"
   },
   {
    "duration": 4,
    "start_time": "2023-05-17T11:07:23.756Z"
   },
   {
    "duration": 491600,
    "start_time": "2023-05-17T11:07:23.762Z"
   },
   {
    "duration": 67488,
    "start_time": "2023-05-17T11:15:35.364Z"
   },
   {
    "duration": 182952,
    "start_time": "2023-05-17T11:16:42.854Z"
   },
   {
    "duration": 1378,
    "start_time": "2023-05-17T11:19:45.808Z"
   },
   {
    "duration": 184,
    "start_time": "2023-05-17T11:54:13.458Z"
   },
   {
    "duration": 296,
    "start_time": "2023-05-17T11:54:31.397Z"
   },
   {
    "duration": 1559,
    "start_time": "2023-05-17T12:00:41.920Z"
   },
   {
    "duration": 1054,
    "start_time": "2023-05-17T12:00:43.482Z"
   },
   {
    "duration": 23,
    "start_time": "2023-05-17T12:00:44.538Z"
   },
   {
    "duration": 22,
    "start_time": "2023-05-17T12:00:44.566Z"
   },
   {
    "duration": 163,
    "start_time": "2023-05-17T12:00:44.590Z"
   },
   {
    "duration": 602,
    "start_time": "2023-05-17T12:00:44.755Z"
   },
   {
    "duration": 635,
    "start_time": "2023-05-17T12:00:45.365Z"
   },
   {
    "duration": 123,
    "start_time": "2023-05-17T12:00:46.001Z"
   },
   {
    "duration": 75,
    "start_time": "2023-05-17T12:00:46.126Z"
   },
   {
    "duration": 93,
    "start_time": "2023-05-17T12:00:46.205Z"
   },
   {
    "duration": 364,
    "start_time": "2023-05-17T12:00:46.300Z"
   },
   {
    "duration": 531,
    "start_time": "2023-05-17T12:00:46.665Z"
   },
   {
    "duration": 294,
    "start_time": "2023-05-17T12:00:47.198Z"
   },
   {
    "duration": 516,
    "start_time": "2023-05-17T12:00:47.493Z"
   },
   {
    "duration": 276,
    "start_time": "2023-05-17T12:00:48.010Z"
   },
   {
    "duration": 371,
    "start_time": "2023-05-17T12:00:48.293Z"
   },
   {
    "duration": 270,
    "start_time": "2023-05-17T12:00:48.666Z"
   },
   {
    "duration": 455,
    "start_time": "2023-05-17T12:00:48.939Z"
   },
   {
    "duration": 93,
    "start_time": "2023-05-17T12:00:49.396Z"
   },
   {
    "duration": 128,
    "start_time": "2023-05-17T12:00:49.491Z"
   },
   {
    "duration": 83,
    "start_time": "2023-05-17T12:00:49.620Z"
   },
   {
    "duration": 81,
    "start_time": "2023-05-17T12:00:49.704Z"
   },
   {
    "duration": 122,
    "start_time": "2023-05-17T12:00:49.787Z"
   },
   {
    "duration": 58,
    "start_time": "2023-05-17T12:00:49.911Z"
   },
   {
    "duration": 32,
    "start_time": "2023-05-17T12:00:49.974Z"
   },
   {
    "duration": 101,
    "start_time": "2023-05-17T12:00:50.007Z"
   },
   {
    "duration": 87,
    "start_time": "2023-05-17T12:00:50.110Z"
   },
   {
    "duration": 35,
    "start_time": "2023-05-17T12:00:50.201Z"
   },
   {
    "duration": 2,
    "start_time": "2023-05-17T12:00:50.238Z"
   },
   {
    "duration": 1537,
    "start_time": "2023-05-17T12:00:50.242Z"
   },
   {
    "duration": 7,
    "start_time": "2023-05-17T12:00:51.781Z"
   },
   {
    "duration": 1105,
    "start_time": "2023-05-17T12:00:51.792Z"
   },
   {
    "duration": 27,
    "start_time": "2023-05-17T12:00:52.900Z"
   },
   {
    "duration": 4,
    "start_time": "2023-05-17T12:00:52.929Z"
   },
   {
    "duration": 716,
    "start_time": "2023-05-17T12:00:52.936Z"
   },
   {
    "duration": 7,
    "start_time": "2023-05-17T12:00:53.657Z"
   },
   {
    "duration": 1118594,
    "start_time": "2023-05-17T12:00:53.666Z"
   },
   {
    "duration": 108868,
    "start_time": "2023-05-17T12:19:32.262Z"
   },
   {
    "duration": 225964,
    "start_time": "2023-05-17T12:21:21.132Z"
   },
   {
    "duration": 1474,
    "start_time": "2023-05-17T12:25:07.098Z"
   },
   {
    "duration": 558,
    "start_time": "2023-05-17T15:25:21.747Z"
   },
   {
    "duration": 421,
    "start_time": "2023-05-17T15:26:11.025Z"
   },
   {
    "duration": 486,
    "start_time": "2023-05-17T15:27:05.411Z"
   },
   {
    "duration": 279,
    "start_time": "2023-05-17T15:27:17.811Z"
   },
   {
    "duration": 261,
    "start_time": "2023-05-17T15:29:51.399Z"
   },
   {
    "duration": 423,
    "start_time": "2023-05-17T15:30:03.923Z"
   },
   {
    "duration": 515,
    "start_time": "2023-05-17T15:30:48.231Z"
   },
   {
    "duration": 235,
    "start_time": "2023-05-17T15:30:55.906Z"
   },
   {
    "duration": 281,
    "start_time": "2023-05-17T15:31:47.629Z"
   },
   {
    "duration": 500,
    "start_time": "2023-05-17T15:31:58.153Z"
   },
   {
    "duration": 282,
    "start_time": "2023-05-17T15:33:22.811Z"
   },
   {
    "duration": 628,
    "start_time": "2023-05-17T15:33:32.186Z"
   },
   {
    "duration": 491,
    "start_time": "2023-05-17T17:08:32.794Z"
   },
   {
    "duration": 256,
    "start_time": "2023-05-17T17:08:36.531Z"
   },
   {
    "duration": 541,
    "start_time": "2023-05-17T17:08:41.552Z"
   },
   {
    "duration": 302,
    "start_time": "2023-05-17T17:08:44.839Z"
   },
   {
    "duration": 178,
    "start_time": "2023-05-17T17:09:17.401Z"
   },
   {
    "duration": 188,
    "start_time": "2023-05-17T17:09:31.644Z"
   },
   {
    "duration": 222,
    "start_time": "2023-05-17T17:09:38.898Z"
   },
   {
    "duration": 185,
    "start_time": "2023-05-17T17:09:49.050Z"
   },
   {
    "duration": 377,
    "start_time": "2023-05-17T17:10:04.803Z"
   },
   {
    "duration": 46,
    "start_time": "2023-05-17T17:27:11.001Z"
   },
   {
    "duration": 1529,
    "start_time": "2023-05-17T17:27:20.397Z"
   },
   {
    "duration": 3424,
    "start_time": "2023-05-17T17:27:21.927Z"
   },
   {
    "duration": 29,
    "start_time": "2023-05-17T17:27:25.352Z"
   },
   {
    "duration": 20,
    "start_time": "2023-05-17T17:27:25.383Z"
   },
   {
    "duration": 120,
    "start_time": "2023-05-17T17:27:25.406Z"
   },
   {
    "duration": 523,
    "start_time": "2023-05-17T17:27:25.528Z"
   },
   {
    "duration": 564,
    "start_time": "2023-05-17T17:27:26.052Z"
   },
   {
    "duration": 119,
    "start_time": "2023-05-17T17:27:26.618Z"
   },
   {
    "duration": 65,
    "start_time": "2023-05-17T17:27:26.738Z"
   },
   {
    "duration": 80,
    "start_time": "2023-05-17T17:27:26.804Z"
   },
   {
    "duration": 262,
    "start_time": "2023-05-17T17:27:26.886Z"
   },
   {
    "duration": 485,
    "start_time": "2023-05-17T17:27:27.149Z"
   },
   {
    "duration": 266,
    "start_time": "2023-05-17T17:27:27.635Z"
   },
   {
    "duration": 496,
    "start_time": "2023-05-17T17:27:27.904Z"
   },
   {
    "duration": 225,
    "start_time": "2023-05-17T17:27:28.402Z"
   },
   {
    "duration": 376,
    "start_time": "2023-05-17T17:27:28.629Z"
   },
   {
    "duration": 199,
    "start_time": "2023-05-17T17:27:29.007Z"
   },
   {
    "duration": 444,
    "start_time": "2023-05-17T17:27:29.208Z"
   },
   {
    "duration": 79,
    "start_time": "2023-05-17T17:27:29.657Z"
   },
   {
    "duration": 0,
    "start_time": "2023-05-17T17:27:29.738Z"
   },
   {
    "duration": 0,
    "start_time": "2023-05-17T17:27:29.739Z"
   },
   {
    "duration": 0,
    "start_time": "2023-05-17T17:27:29.740Z"
   },
   {
    "duration": 0,
    "start_time": "2023-05-17T17:27:29.741Z"
   },
   {
    "duration": 0,
    "start_time": "2023-05-17T17:27:29.742Z"
   },
   {
    "duration": 0,
    "start_time": "2023-05-17T17:27:29.743Z"
   },
   {
    "duration": 0,
    "start_time": "2023-05-17T17:27:29.745Z"
   },
   {
    "duration": 0,
    "start_time": "2023-05-17T17:27:29.746Z"
   },
   {
    "duration": 0,
    "start_time": "2023-05-17T17:27:29.747Z"
   },
   {
    "duration": 0,
    "start_time": "2023-05-17T17:27:29.748Z"
   },
   {
    "duration": 0,
    "start_time": "2023-05-17T17:27:29.749Z"
   },
   {
    "duration": 0,
    "start_time": "2023-05-17T17:27:29.750Z"
   },
   {
    "duration": 0,
    "start_time": "2023-05-17T17:27:29.751Z"
   },
   {
    "duration": 0,
    "start_time": "2023-05-17T17:27:29.752Z"
   },
   {
    "duration": 0,
    "start_time": "2023-05-17T17:27:29.753Z"
   },
   {
    "duration": 0,
    "start_time": "2023-05-17T17:27:29.754Z"
   },
   {
    "duration": 0,
    "start_time": "2023-05-17T17:27:29.755Z"
   },
   {
    "duration": 0,
    "start_time": "2023-05-17T17:27:29.756Z"
   },
   {
    "duration": 0,
    "start_time": "2023-05-17T17:27:29.762Z"
   },
   {
    "duration": 0,
    "start_time": "2023-05-17T17:27:29.762Z"
   },
   {
    "duration": 0,
    "start_time": "2023-05-17T17:27:29.763Z"
   },
   {
    "duration": 0,
    "start_time": "2023-05-17T17:27:29.764Z"
   },
   {
    "duration": 94,
    "start_time": "2023-05-17T17:42:58.196Z"
   },
   {
    "duration": 61,
    "start_time": "2023-05-17T17:43:39.738Z"
   },
   {
    "duration": 47,
    "start_time": "2023-05-17T17:44:02.521Z"
   },
   {
    "duration": 1555,
    "start_time": "2023-05-17T17:45:50.794Z"
   },
   {
    "duration": 1051,
    "start_time": "2023-05-17T17:45:52.351Z"
   },
   {
    "duration": 19,
    "start_time": "2023-05-17T17:45:53.404Z"
   },
   {
    "duration": 15,
    "start_time": "2023-05-17T17:45:53.425Z"
   },
   {
    "duration": 187,
    "start_time": "2023-05-17T17:45:53.442Z"
   },
   {
    "duration": 638,
    "start_time": "2023-05-17T17:45:53.631Z"
   },
   {
    "duration": 594,
    "start_time": "2023-05-17T17:45:54.270Z"
   },
   {
    "duration": 134,
    "start_time": "2023-05-17T17:45:54.866Z"
   },
   {
    "duration": 48,
    "start_time": "2023-05-17T17:45:55.003Z"
   },
   {
    "duration": 73,
    "start_time": "2023-05-17T17:45:55.052Z"
   },
   {
    "duration": 286,
    "start_time": "2023-05-17T17:45:55.127Z"
   },
   {
    "duration": 508,
    "start_time": "2023-05-17T17:45:55.416Z"
   },
   {
    "duration": 276,
    "start_time": "2023-05-17T17:45:55.926Z"
   },
   {
    "duration": 500,
    "start_time": "2023-05-17T17:45:56.206Z"
   },
   {
    "duration": 229,
    "start_time": "2023-05-17T17:45:56.708Z"
   },
   {
    "duration": 376,
    "start_time": "2023-05-17T17:45:56.939Z"
   },
   {
    "duration": 199,
    "start_time": "2023-05-17T17:45:57.317Z"
   },
   {
    "duration": 471,
    "start_time": "2023-05-17T17:45:57.517Z"
   },
   {
    "duration": 44,
    "start_time": "2023-05-17T17:45:57.991Z"
   },
   {
    "duration": 63,
    "start_time": "2023-05-17T17:45:58.038Z"
   },
   {
    "duration": 94,
    "start_time": "2023-05-17T17:45:58.102Z"
   },
   {
    "duration": 112,
    "start_time": "2023-05-17T17:45:58.198Z"
   },
   {
    "duration": 65,
    "start_time": "2023-05-17T17:45:58.312Z"
   },
   {
    "duration": 92,
    "start_time": "2023-05-17T17:45:58.379Z"
   },
   {
    "duration": 111,
    "start_time": "2023-05-17T17:45:58.472Z"
   },
   {
    "duration": 51,
    "start_time": "2023-05-17T17:45:58.584Z"
   },
   {
    "duration": 39,
    "start_time": "2023-05-17T17:45:58.637Z"
   },
   {
    "duration": 89,
    "start_time": "2023-05-17T17:45:58.682Z"
   },
   {
    "duration": 65,
    "start_time": "2023-05-17T17:45:58.779Z"
   },
   {
    "duration": 38,
    "start_time": "2023-05-17T17:45:58.846Z"
   },
   {
    "duration": 2,
    "start_time": "2023-05-17T17:45:58.886Z"
   },
   {
    "duration": 1305,
    "start_time": "2023-05-17T17:45:58.890Z"
   },
   {
    "duration": 6,
    "start_time": "2023-05-17T17:46:00.196Z"
   },
   {
    "duration": 1001,
    "start_time": "2023-05-17T17:46:00.204Z"
   },
   {
    "duration": 14,
    "start_time": "2023-05-17T17:46:01.206Z"
   },
   {
    "duration": 28,
    "start_time": "2023-05-17T17:46:01.222Z"
   },
   {
    "duration": 615,
    "start_time": "2023-05-17T17:46:01.252Z"
   },
   {
    "duration": 6,
    "start_time": "2023-05-17T17:46:01.868Z"
   },
   {
    "duration": 577303,
    "start_time": "2023-05-17T17:46:01.878Z"
   },
   {
    "duration": 72044,
    "start_time": "2023-05-17T17:55:39.183Z"
   },
   {
    "duration": 192757,
    "start_time": "2023-05-17T17:56:51.231Z"
   },
   {
    "duration": 1316,
    "start_time": "2023-05-17T18:00:03.993Z"
   },
   {
    "duration": 1528,
    "start_time": "2023-05-17T18:22:46.404Z"
   },
   {
    "duration": 940,
    "start_time": "2023-05-17T18:22:47.934Z"
   },
   {
    "duration": 21,
    "start_time": "2023-05-17T18:22:48.875Z"
   },
   {
    "duration": 13,
    "start_time": "2023-05-17T18:22:48.899Z"
   },
   {
    "duration": 134,
    "start_time": "2023-05-17T18:22:48.915Z"
   },
   {
    "duration": 509,
    "start_time": "2023-05-17T18:22:49.050Z"
   },
   {
    "duration": 586,
    "start_time": "2023-05-17T18:22:49.561Z"
   },
   {
    "duration": 116,
    "start_time": "2023-05-17T18:22:50.149Z"
   },
   {
    "duration": 56,
    "start_time": "2023-05-17T18:22:50.268Z"
   },
   {
    "duration": 75,
    "start_time": "2023-05-17T18:22:50.326Z"
   },
   {
    "duration": 261,
    "start_time": "2023-05-17T18:22:50.404Z"
   },
   {
    "duration": 1716,
    "start_time": "2023-05-17T18:42:07.456Z"
   },
   {
    "duration": 3537,
    "start_time": "2023-05-17T18:42:09.173Z"
   },
   {
    "duration": 19,
    "start_time": "2023-05-17T18:42:12.712Z"
   },
   {
    "duration": 14,
    "start_time": "2023-05-17T18:42:12.733Z"
   },
   {
    "duration": 175,
    "start_time": "2023-05-17T18:42:12.748Z"
   },
   {
    "duration": 612,
    "start_time": "2023-05-17T18:42:12.924Z"
   },
   {
    "duration": 700,
    "start_time": "2023-05-17T18:42:13.538Z"
   },
   {
    "duration": 149,
    "start_time": "2023-05-17T18:42:14.240Z"
   },
   {
    "duration": 51,
    "start_time": "2023-05-17T18:42:14.391Z"
   },
   {
    "duration": 71,
    "start_time": "2023-05-17T18:42:14.445Z"
   },
   {
    "duration": 289,
    "start_time": "2023-05-17T18:42:14.517Z"
   },
   {
    "duration": 1761,
    "start_time": "2023-05-17T18:48:40.803Z"
   },
   {
    "duration": 4054,
    "start_time": "2023-05-17T18:48:42.566Z"
   },
   {
    "duration": 16,
    "start_time": "2023-05-17T18:48:46.622Z"
   },
   {
    "duration": 13,
    "start_time": "2023-05-17T18:48:46.640Z"
   },
   {
    "duration": 164,
    "start_time": "2023-05-17T18:48:46.658Z"
   },
   {
    "duration": 594,
    "start_time": "2023-05-17T18:48:46.824Z"
   },
   {
    "duration": 619,
    "start_time": "2023-05-17T18:48:47.421Z"
   },
   {
    "duration": 122,
    "start_time": "2023-05-17T18:48:48.042Z"
   },
   {
    "duration": 56,
    "start_time": "2023-05-17T18:48:48.166Z"
   },
   {
    "duration": 77,
    "start_time": "2023-05-17T18:48:48.224Z"
   },
   {
    "duration": 271,
    "start_time": "2023-05-17T18:48:48.303Z"
   },
   {
    "duration": 1575,
    "start_time": "2023-05-17T19:02:31.250Z"
   },
   {
    "duration": 3507,
    "start_time": "2023-05-17T19:02:32.828Z"
   },
   {
    "duration": 15,
    "start_time": "2023-05-17T19:02:36.337Z"
   },
   {
    "duration": 15,
    "start_time": "2023-05-17T19:02:36.354Z"
   },
   {
    "duration": 134,
    "start_time": "2023-05-17T19:02:36.370Z"
   },
   {
    "duration": 490,
    "start_time": "2023-05-17T19:02:36.506Z"
   },
   {
    "duration": 521,
    "start_time": "2023-05-17T19:02:36.997Z"
   },
   {
    "duration": 122,
    "start_time": "2023-05-17T19:02:37.520Z"
   },
   {
    "duration": 64,
    "start_time": "2023-05-17T19:02:37.644Z"
   },
   {
    "duration": 89,
    "start_time": "2023-05-17T19:02:37.712Z"
   },
   {
    "duration": 269,
    "start_time": "2023-05-17T19:02:37.805Z"
   },
   {
    "duration": 1702,
    "start_time": "2023-05-17T19:06:52.827Z"
   },
   {
    "duration": 3574,
    "start_time": "2023-05-17T19:06:54.531Z"
   },
   {
    "duration": 17,
    "start_time": "2023-05-17T19:06:58.107Z"
   },
   {
    "duration": 15,
    "start_time": "2023-05-17T19:06:58.126Z"
   },
   {
    "duration": 133,
    "start_time": "2023-05-17T19:06:58.143Z"
   },
   {
    "duration": 483,
    "start_time": "2023-05-17T19:06:58.284Z"
   },
   {
    "duration": 549,
    "start_time": "2023-05-17T19:06:58.769Z"
   },
   {
    "duration": 124,
    "start_time": "2023-05-17T19:06:59.320Z"
   },
   {
    "duration": 61,
    "start_time": "2023-05-17T19:06:59.446Z"
   },
   {
    "duration": 88,
    "start_time": "2023-05-17T19:06:59.508Z"
   },
   {
    "duration": 248,
    "start_time": "2023-05-17T19:06:59.597Z"
   },
   {
    "duration": 1574,
    "start_time": "2023-05-17T19:39:13.234Z"
   },
   {
    "duration": 3174,
    "start_time": "2023-05-17T19:39:14.810Z"
   },
   {
    "duration": 17,
    "start_time": "2023-05-17T19:39:17.986Z"
   },
   {
    "duration": 12,
    "start_time": "2023-05-17T19:39:18.005Z"
   },
   {
    "duration": 129,
    "start_time": "2023-05-17T19:39:18.019Z"
   },
   {
    "duration": 549,
    "start_time": "2023-05-17T19:39:18.149Z"
   },
   {
    "duration": 547,
    "start_time": "2023-05-17T19:39:18.700Z"
   },
   {
    "duration": 151,
    "start_time": "2023-05-17T19:39:19.249Z"
   },
   {
    "duration": 42,
    "start_time": "2023-05-17T19:39:19.402Z"
   },
   {
    "duration": 66,
    "start_time": "2023-05-17T19:39:19.460Z"
   },
   {
    "duration": 266,
    "start_time": "2023-05-17T19:39:19.527Z"
   },
   {
    "duration": 1684,
    "start_time": "2023-05-17T19:41:55.619Z"
   },
   {
    "duration": 909,
    "start_time": "2023-05-17T19:41:57.305Z"
   },
   {
    "duration": 15,
    "start_time": "2023-05-17T19:41:58.216Z"
   },
   {
    "duration": 43,
    "start_time": "2023-05-17T19:41:58.233Z"
   },
   {
    "duration": 129,
    "start_time": "2023-05-17T19:41:58.278Z"
   },
   {
    "duration": 510,
    "start_time": "2023-05-17T19:41:58.409Z"
   },
   {
    "duration": 558,
    "start_time": "2023-05-17T19:41:58.920Z"
   },
   {
    "duration": 119,
    "start_time": "2023-05-17T19:41:59.479Z"
   },
   {
    "duration": 46,
    "start_time": "2023-05-17T19:41:59.599Z"
   },
   {
    "duration": 62,
    "start_time": "2023-05-17T19:41:59.666Z"
   },
   {
    "duration": 265,
    "start_time": "2023-05-17T19:41:59.730Z"
   },
   {
    "duration": 52,
    "start_time": "2023-05-17T19:45:19.631Z"
   },
   {
    "duration": 1547,
    "start_time": "2023-05-17T19:45:40.021Z"
   },
   {
    "duration": 3340,
    "start_time": "2023-05-17T19:45:41.571Z"
   },
   {
    "duration": 21,
    "start_time": "2023-05-17T19:45:44.913Z"
   },
   {
    "duration": 27,
    "start_time": "2023-05-17T19:45:44.937Z"
   },
   {
    "duration": 160,
    "start_time": "2023-05-17T19:45:44.966Z"
   },
   {
    "duration": 539,
    "start_time": "2023-05-17T19:45:45.129Z"
   },
   {
    "duration": 541,
    "start_time": "2023-05-17T19:45:45.678Z"
   },
   {
    "duration": 120,
    "start_time": "2023-05-17T19:45:46.220Z"
   },
   {
    "duration": 66,
    "start_time": "2023-05-17T19:45:46.342Z"
   },
   {
    "duration": 78,
    "start_time": "2023-05-17T19:45:46.411Z"
   },
   {
    "duration": 239,
    "start_time": "2023-05-17T19:45:46.491Z"
   },
   {
    "duration": 1510,
    "start_time": "2023-05-17T19:50:15.429Z"
   },
   {
    "duration": 3557,
    "start_time": "2023-05-17T19:50:16.941Z"
   },
   {
    "duration": 19,
    "start_time": "2023-05-17T19:50:20.499Z"
   },
   {
    "duration": 12,
    "start_time": "2023-05-17T19:50:20.520Z"
   },
   {
    "duration": 155,
    "start_time": "2023-05-17T19:50:20.535Z"
   },
   {
    "duration": 513,
    "start_time": "2023-05-17T19:50:20.692Z"
   },
   {
    "duration": 616,
    "start_time": "2023-05-17T19:50:21.207Z"
   },
   {
    "duration": 124,
    "start_time": "2023-05-17T19:50:21.824Z"
   },
   {
    "duration": 59,
    "start_time": "2023-05-17T19:50:21.958Z"
   },
   {
    "duration": 72,
    "start_time": "2023-05-17T19:50:22.021Z"
   },
   {
    "duration": 283,
    "start_time": "2023-05-17T19:50:22.099Z"
   },
   {
    "duration": 550,
    "start_time": "2023-05-17T19:50:22.384Z"
   },
   {
    "duration": 267,
    "start_time": "2023-05-17T19:50:22.936Z"
   },
   {
    "duration": 477,
    "start_time": "2023-05-17T19:50:23.205Z"
   },
   {
    "duration": 237,
    "start_time": "2023-05-17T19:50:23.685Z"
   },
   {
    "duration": 442,
    "start_time": "2023-05-17T19:50:23.924Z"
   },
   {
    "duration": 185,
    "start_time": "2023-05-17T19:50:24.368Z"
   },
   {
    "duration": 528,
    "start_time": "2023-05-17T19:50:24.564Z"
   },
   {
    "duration": 47,
    "start_time": "2023-05-17T19:50:25.097Z"
   },
   {
    "duration": 59,
    "start_time": "2023-05-17T19:50:25.145Z"
   },
   {
    "duration": 112,
    "start_time": "2023-05-17T19:50:25.206Z"
   },
   {
    "duration": 115,
    "start_time": "2023-05-17T19:50:25.320Z"
   },
   {
    "duration": 61,
    "start_time": "2023-05-17T19:50:25.436Z"
   },
   {
    "duration": 93,
    "start_time": "2023-05-17T19:50:25.503Z"
   },
   {
    "duration": 100,
    "start_time": "2023-05-17T19:50:25.597Z"
   },
   {
    "duration": 43,
    "start_time": "2023-05-17T19:50:25.701Z"
   },
   {
    "duration": 29,
    "start_time": "2023-05-17T19:50:25.745Z"
   },
   {
    "duration": 85,
    "start_time": "2023-05-17T19:50:25.777Z"
   },
   {
    "duration": 67,
    "start_time": "2023-05-17T19:50:25.866Z"
   },
   {
    "duration": 36,
    "start_time": "2023-05-17T19:50:25.935Z"
   },
   {
    "duration": 2,
    "start_time": "2023-05-17T19:50:25.972Z"
   },
   {
    "duration": 1309,
    "start_time": "2023-05-17T19:50:25.976Z"
   },
   {
    "duration": 8,
    "start_time": "2023-05-17T19:50:27.286Z"
   },
   {
    "duration": 931,
    "start_time": "2023-05-17T19:50:27.296Z"
   },
   {
    "duration": 14,
    "start_time": "2023-05-17T19:50:28.229Z"
   },
   {
    "duration": 22,
    "start_time": "2023-05-17T19:50:28.244Z"
   },
   {
    "duration": 550,
    "start_time": "2023-05-17T19:50:28.275Z"
   },
   {
    "duration": 3,
    "start_time": "2023-05-17T19:50:28.826Z"
   },
   {
    "duration": 693091,
    "start_time": "2023-05-17T19:50:28.830Z"
   },
   {
    "duration": 74744,
    "start_time": "2023-05-17T20:02:01.923Z"
   },
   {
    "duration": 195646,
    "start_time": "2023-05-17T20:03:16.678Z"
   },
   {
    "duration": 1332,
    "start_time": "2023-05-17T20:06:32.326Z"
   },
   {
    "duration": 59,
    "start_time": "2023-05-18T09:25:58.781Z"
   },
   {
    "duration": 1707,
    "start_time": "2023-05-18T09:26:03.889Z"
   },
   {
    "duration": 3337,
    "start_time": "2023-05-18T09:26:05.598Z"
   },
   {
    "duration": 22,
    "start_time": "2023-05-18T09:26:08.938Z"
   },
   {
    "duration": 35,
    "start_time": "2023-05-18T09:26:08.961Z"
   },
   {
    "duration": 163,
    "start_time": "2023-05-18T09:26:08.999Z"
   },
   {
    "duration": 532,
    "start_time": "2023-05-18T09:26:09.166Z"
   },
   {
    "duration": 579,
    "start_time": "2023-05-18T09:26:09.700Z"
   },
   {
    "duration": 128,
    "start_time": "2023-05-18T09:26:10.285Z"
   },
   {
    "duration": 71,
    "start_time": "2023-05-18T09:26:10.415Z"
   },
   {
    "duration": 79,
    "start_time": "2023-05-18T09:26:10.488Z"
   },
   {
    "duration": 272,
    "start_time": "2023-05-18T09:26:10.570Z"
   },
   {
    "duration": 507,
    "start_time": "2023-05-18T09:26:10.844Z"
   },
   {
    "duration": 192,
    "start_time": "2023-05-18T09:26:11.359Z"
   },
   {
    "duration": 621,
    "start_time": "2023-05-18T09:26:11.558Z"
   },
   {
    "duration": 225,
    "start_time": "2023-05-18T09:26:12.182Z"
   },
   {
    "duration": 378,
    "start_time": "2023-05-18T09:26:12.409Z"
   },
   {
    "duration": 200,
    "start_time": "2023-05-18T09:26:12.788Z"
   },
   {
    "duration": 435,
    "start_time": "2023-05-18T09:26:12.990Z"
   },
   {
    "duration": 60,
    "start_time": "2023-05-18T09:26:13.427Z"
   },
   {
    "duration": 44,
    "start_time": "2023-05-18T09:26:13.491Z"
   },
   {
    "duration": 102,
    "start_time": "2023-05-18T09:26:13.537Z"
   },
   {
    "duration": 125,
    "start_time": "2023-05-18T09:26:13.641Z"
   },
   {
    "duration": 49,
    "start_time": "2023-05-18T09:26:13.770Z"
   },
   {
    "duration": 86,
    "start_time": "2023-05-18T09:26:13.821Z"
   },
   {
    "duration": 112,
    "start_time": "2023-05-18T09:26:13.908Z"
   },
   {
    "duration": 60,
    "start_time": "2023-05-18T09:26:14.022Z"
   },
   {
    "duration": 23,
    "start_time": "2023-05-18T09:26:14.085Z"
   },
   {
    "duration": 96,
    "start_time": "2023-05-18T09:26:14.110Z"
   },
   {
    "duration": 68,
    "start_time": "2023-05-18T09:26:14.208Z"
   },
   {
    "duration": 35,
    "start_time": "2023-05-18T09:26:14.281Z"
   },
   {
    "duration": 10,
    "start_time": "2023-05-18T09:26:14.318Z"
   },
   {
    "duration": 1183,
    "start_time": "2023-05-18T09:26:14.329Z"
   },
   {
    "duration": 4,
    "start_time": "2023-05-18T09:26:15.514Z"
   },
   {
    "duration": 881,
    "start_time": "2023-05-18T09:26:15.519Z"
   },
   {
    "duration": 15,
    "start_time": "2023-05-18T09:26:16.402Z"
   },
   {
    "duration": 2,
    "start_time": "2023-05-18T09:26:16.419Z"
   },
   {
    "duration": 574,
    "start_time": "2023-05-18T09:26:16.423Z"
   },
   {
    "duration": 3,
    "start_time": "2023-05-18T09:26:16.999Z"
   },
   {
    "duration": 442589,
    "start_time": "2023-05-18T09:26:17.003Z"
   },
   {
    "duration": 69584,
    "start_time": "2023-05-18T09:33:39.594Z"
   },
   {
    "duration": 191186,
    "start_time": "2023-05-18T09:34:49.192Z"
   },
   {
    "duration": 1483,
    "start_time": "2023-05-18T09:38:00.380Z"
   },
   {
    "duration": 5,
    "start_time": "2023-05-18T11:30:55.491Z"
   },
   {
    "duration": 77,
    "start_time": "2023-05-18T11:31:25.396Z"
   },
   {
    "duration": 79,
    "start_time": "2023-05-18T11:31:48.082Z"
   },
   {
    "duration": 6,
    "start_time": "2023-05-18T11:59:06.943Z"
   },
   {
    "duration": 5,
    "start_time": "2023-05-18T11:59:19.459Z"
   },
   {
    "duration": 8,
    "start_time": "2023-05-18T11:59:38.074Z"
   },
   {
    "duration": 9,
    "start_time": "2023-05-18T11:59:53.335Z"
   },
   {
    "duration": 12,
    "start_time": "2023-05-18T11:59:57.951Z"
   },
   {
    "duration": 6,
    "start_time": "2023-05-18T12:00:05.088Z"
   },
   {
    "duration": 7,
    "start_time": "2023-05-18T12:01:06.984Z"
   },
   {
    "duration": 12,
    "start_time": "2023-05-18T12:01:14.784Z"
   },
   {
    "duration": 1472,
    "start_time": "2023-05-18T12:09:39.147Z"
   },
   {
    "duration": 897,
    "start_time": "2023-05-18T12:09:40.621Z"
   },
   {
    "duration": 18,
    "start_time": "2023-05-18T12:09:41.519Z"
   },
   {
    "duration": 22,
    "start_time": "2023-05-18T12:09:41.539Z"
   },
   {
    "duration": 131,
    "start_time": "2023-05-18T12:09:41.563Z"
   },
   {
    "duration": 474,
    "start_time": "2023-05-18T12:09:41.696Z"
   },
   {
    "duration": 504,
    "start_time": "2023-05-18T12:09:42.172Z"
   },
   {
    "duration": 100,
    "start_time": "2023-05-18T12:09:42.678Z"
   },
   {
    "duration": 46,
    "start_time": "2023-05-18T12:09:42.780Z"
   },
   {
    "duration": 81,
    "start_time": "2023-05-18T12:09:42.828Z"
   },
   {
    "duration": 246,
    "start_time": "2023-05-18T12:09:42.911Z"
   },
   {
    "duration": 430,
    "start_time": "2023-05-18T12:09:43.158Z"
   },
   {
    "duration": 169,
    "start_time": "2023-05-18T12:09:43.590Z"
   },
   {
    "duration": 478,
    "start_time": "2023-05-18T12:09:43.763Z"
   },
   {
    "duration": 215,
    "start_time": "2023-05-18T12:09:44.243Z"
   },
   {
    "duration": 302,
    "start_time": "2023-05-18T12:09:44.461Z"
   },
   {
    "duration": 178,
    "start_time": "2023-05-18T12:09:44.765Z"
   },
   {
    "duration": 387,
    "start_time": "2023-05-18T12:09:44.945Z"
   },
   {
    "duration": 58,
    "start_time": "2023-05-18T12:09:45.334Z"
   },
   {
    "duration": 43,
    "start_time": "2023-05-18T12:09:45.394Z"
   },
   {
    "duration": 71,
    "start_time": "2023-05-18T12:09:45.439Z"
   },
   {
    "duration": 3,
    "start_time": "2023-05-18T12:09:45.512Z"
   },
   {
    "duration": 5,
    "start_time": "2023-05-18T12:09:45.517Z"
   },
   {
    "duration": 36,
    "start_time": "2023-05-18T12:09:45.524Z"
   },
   {
    "duration": 37,
    "start_time": "2023-05-18T12:09:45.562Z"
   },
   {
    "duration": 21,
    "start_time": "2023-05-18T12:09:45.601Z"
   },
   {
    "duration": 44,
    "start_time": "2023-05-18T12:09:45.624Z"
   },
   {
    "duration": 9,
    "start_time": "2023-05-18T12:09:45.670Z"
   },
   {
    "duration": 18,
    "start_time": "2023-05-18T12:09:45.681Z"
   },
   {
    "duration": 14,
    "start_time": "2023-05-18T12:09:45.701Z"
   },
   {
    "duration": 44,
    "start_time": "2023-05-18T12:09:45.717Z"
   },
   {
    "duration": 3,
    "start_time": "2023-05-18T12:09:45.762Z"
   },
   {
    "duration": 273,
    "start_time": "2023-05-18T12:09:45.767Z"
   },
   {
    "duration": 17,
    "start_time": "2023-05-18T12:09:46.042Z"
   },
   {
    "duration": 233,
    "start_time": "2023-05-18T12:09:46.061Z"
   },
   {
    "duration": 11,
    "start_time": "2023-05-18T12:09:46.296Z"
   },
   {
    "duration": 26,
    "start_time": "2023-05-18T12:09:46.309Z"
   },
   {
    "duration": 152,
    "start_time": "2023-05-18T12:09:46.338Z"
   },
   {
    "duration": 2,
    "start_time": "2023-05-18T12:09:46.492Z"
   },
   {
    "duration": 3173,
    "start_time": "2023-05-18T12:09:46.496Z"
   },
   {
    "duration": 9515,
    "start_time": "2023-05-18T12:09:49.673Z"
   },
   {
    "duration": 30613,
    "start_time": "2023-05-18T12:09:59.190Z"
   },
   {
    "duration": 171,
    "start_time": "2023-05-18T12:10:29.805Z"
   },
   {
    "duration": 1721,
    "start_time": "2023-05-18T12:16:27.247Z"
   },
   {
    "duration": 1028,
    "start_time": "2023-05-18T12:16:28.973Z"
   },
   {
    "duration": 18,
    "start_time": "2023-05-18T12:16:30.003Z"
   },
   {
    "duration": 43,
    "start_time": "2023-05-18T12:16:30.023Z"
   },
   {
    "duration": 170,
    "start_time": "2023-05-18T12:16:30.069Z"
   },
   {
    "duration": 597,
    "start_time": "2023-05-18T12:16:30.241Z"
   },
   {
    "duration": 671,
    "start_time": "2023-05-18T12:16:30.840Z"
   },
   {
    "duration": 132,
    "start_time": "2023-05-18T12:16:31.513Z"
   },
   {
    "duration": 102,
    "start_time": "2023-05-18T12:16:31.647Z"
   },
   {
    "duration": 140,
    "start_time": "2023-05-18T12:16:31.751Z"
   },
   {
    "duration": 303,
    "start_time": "2023-05-18T12:16:31.895Z"
   },
   {
    "duration": 530,
    "start_time": "2023-05-18T12:16:32.200Z"
   },
   {
    "duration": 201,
    "start_time": "2023-05-18T12:16:32.732Z"
   },
   {
    "duration": 685,
    "start_time": "2023-05-18T12:16:32.937Z"
   },
   {
    "duration": 247,
    "start_time": "2023-05-18T12:16:33.624Z"
   },
   {
    "duration": 362,
    "start_time": "2023-05-18T12:16:33.874Z"
   },
   {
    "duration": 204,
    "start_time": "2023-05-18T12:16:34.238Z"
   },
   {
    "duration": 459,
    "start_time": "2023-05-18T12:16:34.444Z"
   },
   {
    "duration": 59,
    "start_time": "2023-05-18T12:16:34.906Z"
   },
   {
    "duration": 48,
    "start_time": "2023-05-18T12:16:34.967Z"
   },
   {
    "duration": 85,
    "start_time": "2023-05-18T12:16:35.018Z"
   },
   {
    "duration": 3,
    "start_time": "2023-05-18T12:16:35.105Z"
   },
   {
    "duration": 12,
    "start_time": "2023-05-18T12:16:35.109Z"
   },
   {
    "duration": 31,
    "start_time": "2023-05-18T12:16:35.123Z"
   },
   {
    "duration": 47,
    "start_time": "2023-05-18T12:16:35.156Z"
   },
   {
    "duration": 25,
    "start_time": "2023-05-18T12:16:35.204Z"
   },
   {
    "duration": 49,
    "start_time": "2023-05-18T12:16:35.232Z"
   },
   {
    "duration": 16,
    "start_time": "2023-05-18T12:16:35.282Z"
   },
   {
    "duration": 34,
    "start_time": "2023-05-18T12:16:35.300Z"
   },
   {
    "duration": 19,
    "start_time": "2023-05-18T12:16:35.357Z"
   },
   {
    "duration": 15,
    "start_time": "2023-05-18T12:16:35.378Z"
   },
   {
    "duration": 9,
    "start_time": "2023-05-18T12:16:35.395Z"
   },
   {
    "duration": 326,
    "start_time": "2023-05-18T12:16:35.406Z"
   },
   {
    "duration": 4,
    "start_time": "2023-05-18T12:16:35.733Z"
   },
   {
    "duration": 298,
    "start_time": "2023-05-18T12:16:35.739Z"
   },
   {
    "duration": 27,
    "start_time": "2023-05-18T12:16:36.038Z"
   },
   {
    "duration": 4,
    "start_time": "2023-05-18T12:16:36.067Z"
   },
   {
    "duration": 235,
    "start_time": "2023-05-18T12:16:36.073Z"
   },
   {
    "duration": 4,
    "start_time": "2023-05-18T12:16:36.311Z"
   },
   {
    "duration": 96858,
    "start_time": "2023-05-18T12:16:36.316Z"
   },
   {
    "duration": 12492,
    "start_time": "2023-05-18T12:18:13.180Z"
   },
   {
    "duration": 10162,
    "start_time": "2023-05-18T12:18:25.674Z"
   },
   {
    "duration": 0,
    "start_time": "2023-05-18T12:18:35.838Z"
   },
   {
    "duration": 1652,
    "start_time": "2023-05-18T12:18:41.351Z"
   },
   {
    "duration": 1084,
    "start_time": "2023-05-18T12:18:43.005Z"
   },
   {
    "duration": 27,
    "start_time": "2023-05-18T12:18:44.091Z"
   },
   {
    "duration": 37,
    "start_time": "2023-05-18T12:18:44.121Z"
   },
   {
    "duration": 134,
    "start_time": "2023-05-18T12:18:44.161Z"
   },
   {
    "duration": 580,
    "start_time": "2023-05-18T12:18:44.297Z"
   },
   {
    "duration": 638,
    "start_time": "2023-05-18T12:18:44.880Z"
   },
   {
    "duration": 124,
    "start_time": "2023-05-18T12:18:45.520Z"
   },
   {
    "duration": 60,
    "start_time": "2023-05-18T12:18:45.646Z"
   },
   {
    "duration": 95,
    "start_time": "2023-05-18T12:18:45.708Z"
   },
   {
    "duration": 349,
    "start_time": "2023-05-18T12:18:45.805Z"
   },
   {
    "duration": 493,
    "start_time": "2023-05-18T12:18:46.157Z"
   },
   {
    "duration": 220,
    "start_time": "2023-05-18T12:18:46.656Z"
   },
   {
    "duration": 684,
    "start_time": "2023-05-18T12:18:46.879Z"
   },
   {
    "duration": 239,
    "start_time": "2023-05-18T12:18:47.566Z"
   },
   {
    "duration": 364,
    "start_time": "2023-05-18T12:18:47.807Z"
   },
   {
    "duration": 201,
    "start_time": "2023-05-18T12:18:48.173Z"
   },
   {
    "duration": 512,
    "start_time": "2023-05-18T12:18:48.375Z"
   },
   {
    "duration": 87,
    "start_time": "2023-05-18T12:18:48.889Z"
   },
   {
    "duration": 66,
    "start_time": "2023-05-18T12:18:48.979Z"
   },
   {
    "duration": 81,
    "start_time": "2023-05-18T12:18:49.058Z"
   },
   {
    "duration": 16,
    "start_time": "2023-05-18T12:18:49.141Z"
   },
   {
    "duration": 6,
    "start_time": "2023-05-18T12:18:49.160Z"
   },
   {
    "duration": 23,
    "start_time": "2023-05-18T12:18:49.171Z"
   },
   {
    "duration": 65,
    "start_time": "2023-05-18T12:18:49.196Z"
   },
   {
    "duration": 31,
    "start_time": "2023-05-18T12:18:49.264Z"
   },
   {
    "duration": 29,
    "start_time": "2023-05-18T12:18:49.297Z"
   },
   {
    "duration": 30,
    "start_time": "2023-05-18T12:18:49.329Z"
   },
   {
    "duration": 23,
    "start_time": "2023-05-18T12:18:49.361Z"
   },
   {
    "duration": 14,
    "start_time": "2023-05-18T12:18:49.386Z"
   },
   {
    "duration": 10,
    "start_time": "2023-05-18T12:18:49.403Z"
   },
   {
    "duration": 24,
    "start_time": "2023-05-18T12:18:49.415Z"
   },
   {
    "duration": 362,
    "start_time": "2023-05-18T12:18:49.456Z"
   },
   {
    "duration": 5,
    "start_time": "2023-05-18T12:18:49.820Z"
   },
   {
    "duration": 288,
    "start_time": "2023-05-18T12:18:49.827Z"
   },
   {
    "duration": 13,
    "start_time": "2023-05-18T12:18:50.118Z"
   },
   {
    "duration": 25,
    "start_time": "2023-05-18T12:18:50.133Z"
   },
   {
    "duration": 203,
    "start_time": "2023-05-18T12:18:50.161Z"
   },
   {
    "duration": 4,
    "start_time": "2023-05-18T12:18:50.366Z"
   },
   {
    "duration": 26206,
    "start_time": "2023-05-18T12:18:50.372Z"
   },
   {
    "duration": 13388,
    "start_time": "2023-05-18T12:19:16.656Z"
   },
   {
    "duration": 6365,
    "start_time": "2023-05-18T12:19:30.045Z"
   },
   {
    "duration": 0,
    "start_time": "2023-05-18T12:19:36.412Z"
   },
   {
    "duration": 1528,
    "start_time": "2023-05-18T12:19:40.211Z"
   },
   {
    "duration": 1000,
    "start_time": "2023-05-18T12:19:41.741Z"
   },
   {
    "duration": 31,
    "start_time": "2023-05-18T12:19:42.744Z"
   },
   {
    "duration": 19,
    "start_time": "2023-05-18T12:19:42.777Z"
   },
   {
    "duration": 136,
    "start_time": "2023-05-18T12:19:42.798Z"
   },
   {
    "duration": 564,
    "start_time": "2023-05-18T12:19:42.936Z"
   },
   {
    "duration": 592,
    "start_time": "2023-05-18T12:19:43.502Z"
   },
   {
    "duration": 119,
    "start_time": "2023-05-18T12:19:44.096Z"
   },
   {
    "duration": 63,
    "start_time": "2023-05-18T12:19:44.217Z"
   },
   {
    "duration": 81,
    "start_time": "2023-05-18T12:19:44.283Z"
   },
   {
    "duration": 272,
    "start_time": "2023-05-18T12:19:44.366Z"
   },
   {
    "duration": 518,
    "start_time": "2023-05-18T12:19:44.639Z"
   },
   {
    "duration": 191,
    "start_time": "2023-05-18T12:19:45.159Z"
   },
   {
    "duration": 606,
    "start_time": "2023-05-18T12:19:45.355Z"
   },
   {
    "duration": 247,
    "start_time": "2023-05-18T12:19:45.963Z"
   },
   {
    "duration": 345,
    "start_time": "2023-05-18T12:19:46.212Z"
   },
   {
    "duration": 179,
    "start_time": "2023-05-18T12:19:46.558Z"
   },
   {
    "duration": 406,
    "start_time": "2023-05-18T12:19:46.739Z"
   },
   {
    "duration": 57,
    "start_time": "2023-05-18T12:19:47.147Z"
   },
   {
    "duration": 69,
    "start_time": "2023-05-18T12:19:47.206Z"
   },
   {
    "duration": 93,
    "start_time": "2023-05-18T12:19:47.276Z"
   },
   {
    "duration": 125,
    "start_time": "2023-05-18T12:19:47.372Z"
   },
   {
    "duration": 45,
    "start_time": "2023-05-18T12:19:47.499Z"
   },
   {
    "duration": 82,
    "start_time": "2023-05-18T12:19:47.546Z"
   },
   {
    "duration": 90,
    "start_time": "2023-05-18T12:19:47.630Z"
   },
   {
    "duration": 82,
    "start_time": "2023-05-18T12:19:47.722Z"
   },
   {
    "duration": 22,
    "start_time": "2023-05-18T12:19:47.806Z"
   },
   {
    "duration": 95,
    "start_time": "2023-05-18T12:19:47.831Z"
   },
   {
    "duration": 70,
    "start_time": "2023-05-18T12:19:47.928Z"
   },
   {
    "duration": 34,
    "start_time": "2023-05-18T12:19:48.000Z"
   },
   {
    "duration": 3,
    "start_time": "2023-05-18T12:19:48.036Z"
   },
   {
    "duration": 1234,
    "start_time": "2023-05-18T12:19:48.056Z"
   },
   {
    "duration": 6,
    "start_time": "2023-05-18T12:19:49.292Z"
   },
   {
    "duration": 914,
    "start_time": "2023-05-18T12:19:49.299Z"
   },
   {
    "duration": 15,
    "start_time": "2023-05-18T12:19:50.214Z"
   },
   {
    "duration": 26,
    "start_time": "2023-05-18T12:19:50.231Z"
   },
   {
    "duration": 512,
    "start_time": "2023-05-18T12:19:50.259Z"
   },
   {
    "duration": 3,
    "start_time": "2023-05-18T12:19:50.773Z"
   },
   {
    "duration": 213181,
    "start_time": "2023-05-18T12:19:50.777Z"
   },
   {
    "duration": 67671,
    "start_time": "2023-05-18T12:23:23.961Z"
   },
   {
    "duration": 182812,
    "start_time": "2023-05-18T12:24:31.634Z"
   },
   {
    "duration": 1433,
    "start_time": "2023-05-18T12:27:34.448Z"
   },
   {
    "duration": 59,
    "start_time": "2023-05-19T10:29:12.197Z"
   },
   {
    "duration": 1598,
    "start_time": "2023-05-19T10:29:39.952Z"
   },
   {
    "duration": 2792,
    "start_time": "2023-05-19T10:29:41.552Z"
   },
   {
    "duration": 20,
    "start_time": "2023-05-19T10:29:44.346Z"
   },
   {
    "duration": 26,
    "start_time": "2023-05-19T10:29:44.368Z"
   },
   {
    "duration": 113,
    "start_time": "2023-05-19T10:29:44.396Z"
   },
   {
    "duration": 497,
    "start_time": "2023-05-19T10:29:44.511Z"
   },
   {
    "duration": 553,
    "start_time": "2023-05-19T10:29:45.010Z"
   },
   {
    "duration": 113,
    "start_time": "2023-05-19T10:29:45.564Z"
   },
   {
    "duration": 43,
    "start_time": "2023-05-19T10:29:45.679Z"
   },
   {
    "duration": 88,
    "start_time": "2023-05-19T10:29:45.725Z"
   },
   {
    "duration": 264,
    "start_time": "2023-05-19T10:29:45.815Z"
   },
   {
    "duration": 407,
    "start_time": "2023-05-19T10:29:46.081Z"
   },
   {
    "duration": 171,
    "start_time": "2023-05-19T10:29:46.489Z"
   },
   {
    "duration": 514,
    "start_time": "2023-05-19T10:29:46.661Z"
   },
   {
    "duration": 211,
    "start_time": "2023-05-19T10:29:47.176Z"
   },
   {
    "duration": 308,
    "start_time": "2023-05-19T10:29:47.388Z"
   },
   {
    "duration": 198,
    "start_time": "2023-05-19T10:29:47.698Z"
   },
   {
    "duration": 384,
    "start_time": "2023-05-19T10:29:47.898Z"
   },
   {
    "duration": 39,
    "start_time": "2023-05-19T10:29:48.283Z"
   },
   {
    "duration": 56,
    "start_time": "2023-05-19T10:29:48.325Z"
   },
   {
    "duration": 91,
    "start_time": "2023-05-19T10:29:48.383Z"
   },
   {
    "duration": 103,
    "start_time": "2023-05-19T10:29:48.475Z"
   },
   {
    "duration": 40,
    "start_time": "2023-05-19T10:29:48.580Z"
   },
   {
    "duration": 80,
    "start_time": "2023-05-19T10:29:48.621Z"
   },
   {
    "duration": 70,
    "start_time": "2023-05-19T10:29:48.703Z"
   },
   {
    "duration": 66,
    "start_time": "2023-05-19T10:29:48.774Z"
   },
   {
    "duration": 34,
    "start_time": "2023-05-19T10:29:48.842Z"
   },
   {
    "duration": 81,
    "start_time": "2023-05-19T10:29:48.879Z"
   },
   {
    "duration": 54,
    "start_time": "2023-05-19T10:29:48.962Z"
   },
   {
    "duration": 45,
    "start_time": "2023-05-19T10:29:49.018Z"
   },
   {
    "duration": 3,
    "start_time": "2023-05-19T10:29:49.065Z"
   },
   {
    "duration": 997,
    "start_time": "2023-05-19T10:29:49.070Z"
   },
   {
    "duration": 3,
    "start_time": "2023-05-19T10:29:50.069Z"
   },
   {
    "duration": 751,
    "start_time": "2023-05-19T10:29:50.074Z"
   },
   {
    "duration": 30,
    "start_time": "2023-05-19T10:29:50.827Z"
   },
   {
    "duration": 2,
    "start_time": "2023-05-19T10:29:50.859Z"
   },
   {
    "duration": 451,
    "start_time": "2023-05-19T10:29:50.863Z"
   },
   {
    "duration": 4,
    "start_time": "2023-05-19T10:29:51.316Z"
   },
   {
    "duration": 8250,
    "start_time": "2023-05-19T10:29:51.322Z"
   },
   {
    "duration": 58732,
    "start_time": "2023-05-19T10:29:59.574Z"
   },
   {
    "duration": 164924,
    "start_time": "2023-05-19T10:30:58.308Z"
   },
   {
    "duration": 825,
    "start_time": "2023-05-19T10:33:43.233Z"
   },
   {
    "duration": 1386,
    "start_time": "2023-05-19T10:44:50.912Z"
   },
   {
    "duration": 822,
    "start_time": "2023-05-19T10:44:52.300Z"
   },
   {
    "duration": 17,
    "start_time": "2023-05-19T10:44:53.123Z"
   },
   {
    "duration": 36,
    "start_time": "2023-05-19T10:44:53.141Z"
   },
   {
    "duration": 126,
    "start_time": "2023-05-19T10:44:53.180Z"
   },
   {
    "duration": 453,
    "start_time": "2023-05-19T10:44:53.308Z"
   },
   {
    "duration": 556,
    "start_time": "2023-05-19T10:44:53.763Z"
   },
   {
    "duration": 116,
    "start_time": "2023-05-19T10:44:54.321Z"
   },
   {
    "duration": 59,
    "start_time": "2023-05-19T10:44:54.440Z"
   },
   {
    "duration": 93,
    "start_time": "2023-05-19T10:44:54.501Z"
   },
   {
    "duration": 290,
    "start_time": "2023-05-19T10:44:54.596Z"
   },
   {
    "duration": 445,
    "start_time": "2023-05-19T10:44:54.888Z"
   },
   {
    "duration": 187,
    "start_time": "2023-05-19T10:44:55.335Z"
   },
   {
    "duration": 546,
    "start_time": "2023-05-19T10:44:55.525Z"
   },
   {
    "duration": 228,
    "start_time": "2023-05-19T10:44:56.073Z"
   },
   {
    "duration": 334,
    "start_time": "2023-05-19T10:44:56.303Z"
   },
   {
    "duration": 184,
    "start_time": "2023-05-19T10:44:56.639Z"
   },
   {
    "duration": 403,
    "start_time": "2023-05-19T10:44:56.825Z"
   },
   {
    "duration": 49,
    "start_time": "2023-05-19T10:44:57.229Z"
   },
   {
    "duration": 42,
    "start_time": "2023-05-19T10:44:57.280Z"
   },
   {
    "duration": 99,
    "start_time": "2023-05-19T10:44:57.324Z"
   },
   {
    "duration": 117,
    "start_time": "2023-05-19T10:44:57.424Z"
   },
   {
    "duration": 51,
    "start_time": "2023-05-19T10:44:57.543Z"
   },
   {
    "duration": 76,
    "start_time": "2023-05-19T10:44:57.596Z"
   },
   {
    "duration": 64,
    "start_time": "2023-05-19T10:44:57.674Z"
   },
   {
    "duration": 71,
    "start_time": "2023-05-19T10:44:57.740Z"
   },
   {
    "duration": 20,
    "start_time": "2023-05-19T10:44:57.813Z"
   },
   {
    "duration": 86,
    "start_time": "2023-05-19T10:44:57.835Z"
   },
   {
    "duration": 63,
    "start_time": "2023-05-19T10:44:57.923Z"
   },
   {
    "duration": 33,
    "start_time": "2023-05-19T10:44:57.988Z"
   },
   {
    "duration": 3,
    "start_time": "2023-05-19T10:44:58.023Z"
   },
   {
    "duration": 1068,
    "start_time": "2023-05-19T10:44:58.027Z"
   },
   {
    "duration": 3,
    "start_time": "2023-05-19T10:44:59.097Z"
   },
   {
    "duration": 918,
    "start_time": "2023-05-19T10:44:59.102Z"
   },
   {
    "duration": 37,
    "start_time": "2023-05-19T10:45:00.022Z"
   },
   {
    "duration": 3,
    "start_time": "2023-05-19T10:45:00.062Z"
   },
   {
    "duration": 471,
    "start_time": "2023-05-19T10:45:00.067Z"
   },
   {
    "duration": 17,
    "start_time": "2023-05-19T10:45:00.540Z"
   },
   {
    "duration": 7710,
    "start_time": "2023-05-19T10:45:00.559Z"
   },
   {
    "duration": 13773,
    "start_time": "2023-05-19T10:45:08.271Z"
   },
   {
    "duration": 165336,
    "start_time": "2023-05-19T10:45:22.047Z"
   },
   {
    "duration": 691,
    "start_time": "2023-05-19T10:48:07.384Z"
   },
   {
    "duration": 13356,
    "start_time": "2023-05-19T11:22:28.802Z"
   },
   {
    "duration": 14752,
    "start_time": "2023-05-19T11:22:49.980Z"
   },
   {
    "duration": 41948,
    "start_time": "2023-05-19T17:32:39.159Z"
   },
   {
    "duration": 14935,
    "start_time": "2023-05-19T17:33:52.825Z"
   },
   {
    "duration": 49,
    "start_time": "2023-05-20T08:11:28.622Z"
   },
   {
    "duration": 2019,
    "start_time": "2023-05-20T08:11:46.311Z"
   },
   {
    "duration": 1396,
    "start_time": "2023-05-20T08:11:48.332Z"
   },
   {
    "duration": 24,
    "start_time": "2023-05-20T08:11:49.730Z"
   },
   {
    "duration": 13,
    "start_time": "2023-05-20T08:11:49.756Z"
   },
   {
    "duration": 195,
    "start_time": "2023-05-20T08:11:49.772Z"
   },
   {
    "duration": 583,
    "start_time": "2023-05-20T08:11:49.969Z"
   },
   {
    "duration": 589,
    "start_time": "2023-05-20T08:11:50.554Z"
   },
   {
    "duration": 163,
    "start_time": "2023-05-20T08:11:51.145Z"
   },
   {
    "duration": 59,
    "start_time": "2023-05-20T08:11:51.321Z"
   },
   {
    "duration": 71,
    "start_time": "2023-05-20T08:11:51.382Z"
   },
   {
    "duration": 296,
    "start_time": "2023-05-20T08:11:51.455Z"
   },
   {
    "duration": 600,
    "start_time": "2023-05-20T08:11:51.752Z"
   },
   {
    "duration": 200,
    "start_time": "2023-05-20T08:11:52.354Z"
   },
   {
    "duration": 609,
    "start_time": "2023-05-20T08:11:52.557Z"
   },
   {
    "duration": 219,
    "start_time": "2023-05-20T08:11:53.168Z"
   },
   {
    "duration": 405,
    "start_time": "2023-05-20T08:11:53.400Z"
   },
   {
    "duration": 211,
    "start_time": "2023-05-20T08:11:53.808Z"
   },
   {
    "duration": 529,
    "start_time": "2023-05-20T08:11:54.021Z"
   },
   {
    "duration": 79,
    "start_time": "2023-05-20T08:11:54.553Z"
   },
   {
    "duration": 49,
    "start_time": "2023-05-20T08:11:54.634Z"
   },
   {
    "duration": 105,
    "start_time": "2023-05-20T08:11:54.695Z"
   },
   {
    "duration": 144,
    "start_time": "2023-05-20T08:11:54.802Z"
   },
   {
    "duration": 59,
    "start_time": "2023-05-20T08:11:54.948Z"
   },
   {
    "duration": 93,
    "start_time": "2023-05-20T08:11:55.009Z"
   },
   {
    "duration": 115,
    "start_time": "2023-05-20T08:11:55.104Z"
   },
   {
    "duration": 114,
    "start_time": "2023-05-20T08:11:55.224Z"
   },
   {
    "duration": 17,
    "start_time": "2023-05-20T08:11:55.340Z"
   },
   {
    "duration": 91,
    "start_time": "2023-05-20T08:11:55.359Z"
   },
   {
    "duration": 54,
    "start_time": "2023-05-20T08:11:55.451Z"
   },
   {
    "duration": 39,
    "start_time": "2023-05-20T08:11:55.507Z"
   },
   {
    "duration": 2,
    "start_time": "2023-05-20T08:11:55.548Z"
   },
   {
    "duration": 1329,
    "start_time": "2023-05-20T08:11:55.552Z"
   },
   {
    "duration": 20,
    "start_time": "2023-05-20T08:11:56.883Z"
   },
   {
    "duration": 1025,
    "start_time": "2023-05-20T08:11:56.906Z"
   },
   {
    "duration": 17,
    "start_time": "2023-05-20T08:11:57.933Z"
   },
   {
    "duration": 85,
    "start_time": "2023-05-20T08:11:57.952Z"
   },
   {
    "duration": 573,
    "start_time": "2023-05-20T08:11:58.039Z"
   },
   {
    "duration": 3,
    "start_time": "2023-05-20T08:11:58.616Z"
   },
   {
    "duration": 57169,
    "start_time": "2023-05-20T08:11:58.622Z"
   },
   {
    "duration": 0,
    "start_time": "2023-05-20T08:12:55.793Z"
   },
   {
    "duration": 0,
    "start_time": "2023-05-20T08:12:55.794Z"
   },
   {
    "duration": 0,
    "start_time": "2023-05-20T08:12:55.796Z"
   },
   {
    "duration": 209,
    "start_time": "2023-05-20T08:13:02.770Z"
   },
   {
    "duration": 220,
    "start_time": "2023-05-20T08:13:13.971Z"
   },
   {
    "duration": 212,
    "start_time": "2023-05-20T08:13:44.373Z"
   },
   {
    "duration": 227,
    "start_time": "2023-05-20T08:13:53.575Z"
   },
   {
    "duration": 209,
    "start_time": "2023-05-20T08:14:10.026Z"
   },
   {
    "duration": 344,
    "start_time": "2023-05-20T08:14:44.016Z"
   },
   {
    "duration": 228,
    "start_time": "2023-05-20T08:15:09.989Z"
   },
   {
    "duration": 173,
    "start_time": "2023-05-20T08:15:21.939Z"
   },
   {
    "duration": 237,
    "start_time": "2023-05-20T08:15:34.973Z"
   },
   {
    "duration": 202,
    "start_time": "2023-05-20T08:15:45.798Z"
   },
   {
    "duration": 188,
    "start_time": "2023-05-20T08:15:57.644Z"
   },
   {
    "duration": 1483,
    "start_time": "2023-05-20T08:16:13.442Z"
   },
   {
    "duration": 913,
    "start_time": "2023-05-20T08:16:14.928Z"
   },
   {
    "duration": 20,
    "start_time": "2023-05-20T08:16:15.843Z"
   },
   {
    "duration": 13,
    "start_time": "2023-05-20T08:16:15.865Z"
   },
   {
    "duration": 161,
    "start_time": "2023-05-20T08:16:15.898Z"
   },
   {
    "duration": 563,
    "start_time": "2023-05-20T08:16:16.061Z"
   },
   {
    "duration": 543,
    "start_time": "2023-05-20T08:16:16.627Z"
   },
   {
    "duration": 184,
    "start_time": "2023-05-20T08:16:17.172Z"
   },
   {
    "duration": 67,
    "start_time": "2023-05-20T08:16:17.358Z"
   },
   {
    "duration": 71,
    "start_time": "2023-05-20T08:16:17.427Z"
   },
   {
    "duration": 248,
    "start_time": "2023-05-20T08:16:17.500Z"
   },
   {
    "duration": 491,
    "start_time": "2023-05-20T08:16:17.749Z"
   },
   {
    "duration": 254,
    "start_time": "2023-05-20T08:16:18.243Z"
   },
   {
    "duration": 576,
    "start_time": "2023-05-20T08:16:18.500Z"
   },
   {
    "duration": 241,
    "start_time": "2023-05-20T08:16:19.078Z"
   },
   {
    "duration": 561,
    "start_time": "2023-05-20T08:16:19.321Z"
   },
   {
    "duration": 192,
    "start_time": "2023-05-20T08:16:19.885Z"
   },
   {
    "duration": 574,
    "start_time": "2023-05-20T08:16:20.079Z"
   },
   {
    "duration": 76,
    "start_time": "2023-05-20T08:16:20.656Z"
   },
   {
    "duration": 49,
    "start_time": "2023-05-20T08:16:20.734Z"
   },
   {
    "duration": 111,
    "start_time": "2023-05-20T08:16:20.785Z"
   },
   {
    "duration": 128,
    "start_time": "2023-05-20T08:16:20.899Z"
   },
   {
    "duration": 52,
    "start_time": "2023-05-20T08:16:21.029Z"
   },
   {
    "duration": 88,
    "start_time": "2023-05-20T08:16:21.088Z"
   },
   {
    "duration": 90,
    "start_time": "2023-05-20T08:16:21.178Z"
   },
   {
    "duration": 93,
    "start_time": "2023-05-20T08:16:21.270Z"
   },
   {
    "duration": 20,
    "start_time": "2023-05-20T08:16:21.364Z"
   },
   {
    "duration": 77,
    "start_time": "2023-05-20T08:16:21.386Z"
   },
   {
    "duration": 66,
    "start_time": "2023-05-20T08:16:21.465Z"
   },
   {
    "duration": 35,
    "start_time": "2023-05-20T08:16:21.533Z"
   },
   {
    "duration": 3,
    "start_time": "2023-05-20T08:16:21.570Z"
   },
   {
    "duration": 1161,
    "start_time": "2023-05-20T08:16:21.575Z"
   },
   {
    "duration": 6,
    "start_time": "2023-05-20T08:16:22.738Z"
   },
   {
    "duration": 874,
    "start_time": "2023-05-20T08:16:22.745Z"
   },
   {
    "duration": 14,
    "start_time": "2023-05-20T08:16:23.620Z"
   },
   {
    "duration": 3,
    "start_time": "2023-05-20T08:16:23.635Z"
   },
   {
    "duration": 501,
    "start_time": "2023-05-20T08:16:23.640Z"
   },
   {
    "duration": 3,
    "start_time": "2023-05-20T08:16:24.144Z"
   },
   {
    "duration": 484255,
    "start_time": "2023-05-20T08:16:24.148Z"
   },
   {
    "duration": 0,
    "start_time": "2023-05-20T08:24:28.405Z"
   },
   {
    "duration": 0,
    "start_time": "2023-05-20T08:24:28.406Z"
   },
   {
    "duration": 0,
    "start_time": "2023-05-20T08:24:28.406Z"
   },
   {
    "duration": 181,
    "start_time": "2023-05-20T08:26:09.848Z"
   },
   {
    "duration": 181,
    "start_time": "2023-05-20T08:26:22.638Z"
   },
   {
    "duration": 188,
    "start_time": "2023-05-20T08:26:43.060Z"
   },
   {
    "duration": 289,
    "start_time": "2023-05-20T08:26:55.032Z"
   },
   {
    "duration": 354,
    "start_time": "2023-05-20T08:27:01.668Z"
   },
   {
    "duration": 274,
    "start_time": "2023-05-20T08:27:08.599Z"
   },
   {
    "duration": 401,
    "start_time": "2023-05-20T08:27:45.515Z"
   },
   {
    "duration": 1715,
    "start_time": "2023-05-20T08:28:02.422Z"
   },
   {
    "duration": 296,
    "start_time": "2023-05-20T08:28:09.325Z"
   },
   {
    "duration": 294,
    "start_time": "2023-05-20T08:28:33.924Z"
   },
   {
    "duration": 260,
    "start_time": "2023-05-20T08:28:40.127Z"
   },
   {
    "duration": 188,
    "start_time": "2023-05-20T08:29:29.912Z"
   },
   {
    "duration": 166,
    "start_time": "2023-05-20T08:29:39.207Z"
   },
   {
    "duration": 418,
    "start_time": "2023-05-20T08:29:57.486Z"
   },
   {
    "duration": 221,
    "start_time": "2023-05-20T08:30:03.421Z"
   },
   {
    "duration": 208,
    "start_time": "2023-05-20T08:30:08.948Z"
   },
   {
    "duration": 242,
    "start_time": "2023-05-20T08:30:18.375Z"
   },
   {
    "duration": 1814,
    "start_time": "2023-05-20T08:31:43.174Z"
   },
   {
    "duration": 1172,
    "start_time": "2023-05-20T08:31:44.990Z"
   },
   {
    "duration": 19,
    "start_time": "2023-05-20T08:31:46.164Z"
   },
   {
    "duration": 21,
    "start_time": "2023-05-20T08:31:46.201Z"
   },
   {
    "duration": 242,
    "start_time": "2023-05-20T08:31:46.225Z"
   },
   {
    "duration": 554,
    "start_time": "2023-05-20T08:31:46.469Z"
   },
   {
    "duration": 524,
    "start_time": "2023-05-20T08:31:47.025Z"
   },
   {
    "duration": 172,
    "start_time": "2023-05-20T08:31:47.550Z"
   },
   {
    "duration": 56,
    "start_time": "2023-05-20T08:31:47.724Z"
   },
   {
    "duration": 71,
    "start_time": "2023-05-20T08:31:47.782Z"
   },
   {
    "duration": 333,
    "start_time": "2023-05-20T08:31:47.855Z"
   },
   {
    "duration": 532,
    "start_time": "2023-05-20T08:31:48.190Z"
   },
   {
    "duration": 316,
    "start_time": "2023-05-20T08:31:48.724Z"
   },
   {
    "duration": 486,
    "start_time": "2023-05-20T08:31:49.044Z"
   },
   {
    "duration": 235,
    "start_time": "2023-05-20T08:31:49.532Z"
   },
   {
    "duration": 439,
    "start_time": "2023-05-20T08:31:49.769Z"
   },
   {
    "duration": 202,
    "start_time": "2023-05-20T08:31:50.209Z"
   },
   {
    "duration": 545,
    "start_time": "2023-05-20T08:31:50.420Z"
   },
   {
    "duration": 73,
    "start_time": "2023-05-20T08:31:50.967Z"
   },
   {
    "duration": 43,
    "start_time": "2023-05-20T08:31:51.042Z"
   },
   {
    "duration": 32,
    "start_time": "2023-05-20T08:31:51.087Z"
   },
   {
    "duration": 101,
    "start_time": "2023-05-20T08:31:51.121Z"
   },
   {
    "duration": 116,
    "start_time": "2023-05-20T08:31:51.224Z"
   },
   {
    "duration": 94,
    "start_time": "2023-05-20T08:31:51.342Z"
   },
   {
    "duration": 136,
    "start_time": "2023-05-20T08:31:51.439Z"
   },
   {
    "duration": 131,
    "start_time": "2023-05-20T08:31:51.577Z"
   },
   {
    "duration": 124,
    "start_time": "2023-05-20T08:31:51.710Z"
   },
   {
    "duration": 25,
    "start_time": "2023-05-20T08:31:51.836Z"
   },
   {
    "duration": 108,
    "start_time": "2023-05-20T08:31:51.864Z"
   },
   {
    "duration": 83,
    "start_time": "2023-05-20T08:31:51.974Z"
   },
   {
    "duration": 57,
    "start_time": "2023-05-20T08:31:52.059Z"
   },
   {
    "duration": 6,
    "start_time": "2023-05-20T08:31:52.118Z"
   },
   {
    "duration": 1244,
    "start_time": "2023-05-20T08:31:52.134Z"
   },
   {
    "duration": 17,
    "start_time": "2023-05-20T08:31:53.395Z"
   },
   {
    "duration": 905,
    "start_time": "2023-05-20T08:31:53.416Z"
   },
   {
    "duration": 12,
    "start_time": "2023-05-20T08:31:54.323Z"
   },
   {
    "duration": 6,
    "start_time": "2023-05-20T08:31:54.337Z"
   },
   {
    "duration": 586,
    "start_time": "2023-05-20T08:31:54.344Z"
   },
   {
    "duration": 4,
    "start_time": "2023-05-20T08:31:54.932Z"
   },
   {
    "duration": 544492,
    "start_time": "2023-05-20T08:31:54.938Z"
   },
   {
    "duration": 0,
    "start_time": "2023-05-20T08:40:59.432Z"
   },
   {
    "duration": 0,
    "start_time": "2023-05-20T08:40:59.433Z"
   },
   {
    "duration": 0,
    "start_time": "2023-05-20T08:40:59.435Z"
   },
   {
    "duration": 1457,
    "start_time": "2023-05-20T08:41:15.716Z"
   },
   {
    "duration": 954,
    "start_time": "2023-05-20T08:41:17.175Z"
   },
   {
    "duration": 22,
    "start_time": "2023-05-20T08:41:18.130Z"
   },
   {
    "duration": 20,
    "start_time": "2023-05-20T08:41:18.154Z"
   },
   {
    "duration": 172,
    "start_time": "2023-05-20T08:41:18.196Z"
   },
   {
    "duration": 539,
    "start_time": "2023-05-20T08:41:18.370Z"
   },
   {
    "duration": 512,
    "start_time": "2023-05-20T08:41:18.916Z"
   },
   {
    "duration": 144,
    "start_time": "2023-05-20T08:41:19.430Z"
   },
   {
    "duration": 58,
    "start_time": "2023-05-20T08:41:19.576Z"
   },
   {
    "duration": 81,
    "start_time": "2023-05-20T08:41:19.636Z"
   },
   {
    "duration": 346,
    "start_time": "2023-05-20T08:41:19.719Z"
   },
   {
    "duration": 493,
    "start_time": "2023-05-20T08:41:20.067Z"
   },
   {
    "duration": 301,
    "start_time": "2023-05-20T08:41:20.561Z"
   },
   {
    "duration": 606,
    "start_time": "2023-05-20T08:41:20.865Z"
   },
   {
    "duration": 315,
    "start_time": "2023-05-20T08:41:21.473Z"
   },
   {
    "duration": 380,
    "start_time": "2023-05-20T08:41:21.794Z"
   },
   {
    "duration": 188,
    "start_time": "2023-05-20T08:41:22.176Z"
   },
   {
    "duration": 440,
    "start_time": "2023-05-20T08:41:22.365Z"
   },
   {
    "duration": 49,
    "start_time": "2023-05-20T08:41:22.810Z"
   },
   {
    "duration": 62,
    "start_time": "2023-05-20T08:41:22.861Z"
   },
   {
    "duration": 11,
    "start_time": "2023-05-20T08:41:22.925Z"
   },
   {
    "duration": 102,
    "start_time": "2023-05-20T08:41:22.937Z"
   },
   {
    "duration": 127,
    "start_time": "2023-05-20T08:41:23.041Z"
   },
   {
    "duration": 70,
    "start_time": "2023-05-20T08:41:23.169Z"
   },
   {
    "duration": 97,
    "start_time": "2023-05-20T08:41:23.241Z"
   },
   {
    "duration": 68,
    "start_time": "2023-05-20T08:41:23.340Z"
   },
   {
    "duration": 74,
    "start_time": "2023-05-20T08:41:23.410Z"
   },
   {
    "duration": 31,
    "start_time": "2023-05-20T08:41:23.486Z"
   },
   {
    "duration": 70,
    "start_time": "2023-05-20T08:41:23.519Z"
   },
   {
    "duration": 57,
    "start_time": "2023-05-20T08:41:23.591Z"
   },
   {
    "duration": 51,
    "start_time": "2023-05-20T08:41:23.650Z"
   },
   {
    "duration": 11,
    "start_time": "2023-05-20T08:41:23.703Z"
   },
   {
    "duration": 1201,
    "start_time": "2023-05-20T08:41:23.716Z"
   },
   {
    "duration": 8,
    "start_time": "2023-05-20T08:41:24.921Z"
   },
   {
    "duration": 1083,
    "start_time": "2023-05-20T08:41:24.936Z"
   },
   {
    "duration": 18,
    "start_time": "2023-05-20T08:41:26.021Z"
   },
   {
    "duration": 5,
    "start_time": "2023-05-20T08:41:26.041Z"
   },
   {
    "duration": 591,
    "start_time": "2023-05-20T08:41:26.048Z"
   },
   {
    "duration": 3,
    "start_time": "2023-05-20T08:41:26.641Z"
   },
   {
    "duration": 1602,
    "start_time": "2023-05-20T08:43:19.453Z"
   },
   {
    "duration": 1059,
    "start_time": "2023-05-20T08:43:21.057Z"
   },
   {
    "duration": 20,
    "start_time": "2023-05-20T08:43:22.118Z"
   },
   {
    "duration": 16,
    "start_time": "2023-05-20T08:43:22.141Z"
   },
   {
    "duration": 256,
    "start_time": "2023-05-20T08:43:22.159Z"
   },
   {
    "duration": 504,
    "start_time": "2023-05-20T08:43:22.417Z"
   },
   {
    "duration": 512,
    "start_time": "2023-05-20T08:43:22.924Z"
   },
   {
    "duration": 162,
    "start_time": "2023-05-20T08:43:23.438Z"
   },
   {
    "duration": 69,
    "start_time": "2023-05-20T08:43:23.603Z"
   },
   {
    "duration": 72,
    "start_time": "2023-05-20T08:43:23.675Z"
   },
   {
    "duration": 315,
    "start_time": "2023-05-20T08:43:23.749Z"
   },
   {
    "duration": 577,
    "start_time": "2023-05-20T08:43:24.065Z"
   },
   {
    "duration": 305,
    "start_time": "2023-05-20T08:43:24.644Z"
   },
   {
    "duration": 696,
    "start_time": "2023-05-20T08:43:24.955Z"
   },
   {
    "duration": 187,
    "start_time": "2023-05-20T08:43:25.653Z"
   },
   {
    "duration": 421,
    "start_time": "2023-05-20T08:43:25.842Z"
   },
   {
    "duration": 241,
    "start_time": "2023-05-20T08:43:26.265Z"
   },
   {
    "duration": 533,
    "start_time": "2023-05-20T08:43:26.508Z"
   },
   {
    "duration": 58,
    "start_time": "2023-05-20T08:43:27.042Z"
   },
   {
    "duration": 51,
    "start_time": "2023-05-20T08:43:27.101Z"
   },
   {
    "duration": 12,
    "start_time": "2023-05-20T08:43:27.154Z"
   },
   {
    "duration": 8,
    "start_time": "2023-05-20T08:43:27.167Z"
   },
   {
    "duration": 125,
    "start_time": "2023-05-20T08:43:27.176Z"
   },
   {
    "duration": 106,
    "start_time": "2023-05-20T08:43:27.302Z"
   },
   {
    "duration": 48,
    "start_time": "2023-05-20T08:43:27.413Z"
   },
   {
    "duration": 88,
    "start_time": "2023-05-20T08:43:27.462Z"
   },
   {
    "duration": 113,
    "start_time": "2023-05-20T08:43:27.552Z"
   },
   {
    "duration": 106,
    "start_time": "2023-05-20T08:43:27.669Z"
   },
   {
    "duration": 32,
    "start_time": "2023-05-20T08:43:27.778Z"
   },
   {
    "duration": 88,
    "start_time": "2023-05-20T08:43:27.812Z"
   },
   {
    "duration": 70,
    "start_time": "2023-05-20T08:43:27.902Z"
   },
   {
    "duration": 42,
    "start_time": "2023-05-20T08:43:27.974Z"
   },
   {
    "duration": 4,
    "start_time": "2023-05-20T08:43:28.019Z"
   },
   {
    "duration": 1134,
    "start_time": "2023-05-20T08:43:28.024Z"
   },
   {
    "duration": 4,
    "start_time": "2023-05-20T08:43:29.160Z"
   },
   {
    "duration": 876,
    "start_time": "2023-05-20T08:43:29.165Z"
   },
   {
    "duration": 16,
    "start_time": "2023-05-20T08:43:30.043Z"
   },
   {
    "duration": 35,
    "start_time": "2023-05-20T08:43:30.061Z"
   },
   {
    "duration": 618,
    "start_time": "2023-05-20T08:43:30.099Z"
   },
   {
    "duration": 3,
    "start_time": "2023-05-20T08:43:30.719Z"
   },
   {
    "duration": 102243,
    "start_time": "2023-05-20T08:43:30.724Z"
   },
   {
    "duration": 0,
    "start_time": "2023-05-20T08:45:12.969Z"
   },
   {
    "duration": 0,
    "start_time": "2023-05-20T08:45:12.970Z"
   },
   {
    "duration": 0,
    "start_time": "2023-05-20T08:45:12.972Z"
   },
   {
    "duration": 0,
    "start_time": "2023-05-20T08:45:12.973Z"
   },
   {
    "duration": 1597,
    "start_time": "2023-05-20T08:45:15.842Z"
   },
   {
    "duration": 882,
    "start_time": "2023-05-20T08:45:17.441Z"
   },
   {
    "duration": 19,
    "start_time": "2023-05-20T08:45:18.325Z"
   },
   {
    "duration": 14,
    "start_time": "2023-05-20T08:45:18.346Z"
   },
   {
    "duration": 261,
    "start_time": "2023-05-20T08:45:18.362Z"
   },
   {
    "duration": 480,
    "start_time": "2023-05-20T08:45:18.625Z"
   },
   {
    "duration": 502,
    "start_time": "2023-05-20T08:45:19.106Z"
   },
   {
    "duration": 204,
    "start_time": "2023-05-20T08:45:19.614Z"
   },
   {
    "duration": 49,
    "start_time": "2023-05-20T08:45:19.820Z"
   },
   {
    "duration": 71,
    "start_time": "2023-05-20T08:45:19.871Z"
   },
   {
    "duration": 480,
    "start_time": "2023-05-20T08:45:19.944Z"
   },
   {
    "duration": 749,
    "start_time": "2023-05-20T08:45:20.429Z"
   },
   {
    "duration": 385,
    "start_time": "2023-05-20T08:45:21.180Z"
   },
   {
    "duration": 798,
    "start_time": "2023-05-20T08:45:21.568Z"
   },
   {
    "duration": 258,
    "start_time": "2023-05-20T08:45:22.368Z"
   },
   {
    "duration": 376,
    "start_time": "2023-05-20T08:45:22.628Z"
   },
   {
    "duration": 172,
    "start_time": "2023-05-20T08:45:23.006Z"
   },
   {
    "duration": 435,
    "start_time": "2023-05-20T08:45:23.180Z"
   },
   {
    "duration": 58,
    "start_time": "2023-05-20T08:45:23.620Z"
   },
   {
    "duration": 56,
    "start_time": "2023-05-20T08:45:23.680Z"
   },
   {
    "duration": 11,
    "start_time": "2023-05-20T08:45:23.737Z"
   },
   {
    "duration": 9,
    "start_time": "2023-05-20T08:45:23.750Z"
   },
   {
    "duration": 126,
    "start_time": "2023-05-20T08:45:23.760Z"
   },
   {
    "duration": 112,
    "start_time": "2023-05-20T08:45:23.888Z"
   },
   {
    "duration": 78,
    "start_time": "2023-05-20T08:45:24.009Z"
   },
   {
    "duration": 123,
    "start_time": "2023-05-20T08:45:24.089Z"
   },
   {
    "duration": 106,
    "start_time": "2023-05-20T08:45:24.213Z"
   },
   {
    "duration": 62,
    "start_time": "2023-05-20T08:45:24.322Z"
   },
   {
    "duration": 29,
    "start_time": "2023-05-20T08:45:24.386Z"
   },
   {
    "duration": 106,
    "start_time": "2023-05-20T08:45:24.419Z"
   },
   {
    "duration": 79,
    "start_time": "2023-05-20T08:45:24.528Z"
   },
   {
    "duration": 37,
    "start_time": "2023-05-20T08:45:24.611Z"
   },
   {
    "duration": 38,
    "start_time": "2023-05-20T08:45:24.650Z"
   },
   {
    "duration": 1283,
    "start_time": "2023-05-20T08:45:24.690Z"
   },
   {
    "duration": 25,
    "start_time": "2023-05-20T08:45:25.975Z"
   },
   {
    "duration": 940,
    "start_time": "2023-05-20T08:45:26.005Z"
   },
   {
    "duration": 15,
    "start_time": "2023-05-20T08:45:26.947Z"
   },
   {
    "duration": 2,
    "start_time": "2023-05-20T08:45:26.964Z"
   },
   {
    "duration": 753,
    "start_time": "2023-05-20T08:45:26.968Z"
   },
   {
    "duration": 7,
    "start_time": "2023-05-20T08:45:27.725Z"
   },
   {
    "duration": 1519,
    "start_time": "2023-05-20T08:47:34.546Z"
   },
   {
    "duration": 900,
    "start_time": "2023-05-20T08:47:36.067Z"
   },
   {
    "duration": 17,
    "start_time": "2023-05-20T08:47:36.968Z"
   },
   {
    "duration": 15,
    "start_time": "2023-05-20T08:47:36.996Z"
   },
   {
    "duration": 148,
    "start_time": "2023-05-20T08:47:37.013Z"
   },
   {
    "duration": 494,
    "start_time": "2023-05-20T08:47:37.163Z"
   },
   {
    "duration": 565,
    "start_time": "2023-05-20T08:47:37.659Z"
   },
   {
    "duration": 143,
    "start_time": "2023-05-20T08:47:38.226Z"
   },
   {
    "duration": 69,
    "start_time": "2023-05-20T08:47:38.370Z"
   },
   {
    "duration": 81,
    "start_time": "2023-05-20T08:47:38.441Z"
   },
   {
    "duration": 323,
    "start_time": "2023-05-20T08:47:38.523Z"
   },
   {
    "duration": 439,
    "start_time": "2023-05-20T08:47:38.848Z"
   },
   {
    "duration": 268,
    "start_time": "2023-05-20T08:47:39.297Z"
   },
   {
    "duration": 460,
    "start_time": "2023-05-20T08:47:39.568Z"
   },
   {
    "duration": 167,
    "start_time": "2023-05-20T08:47:40.030Z"
   },
   {
    "duration": 369,
    "start_time": "2023-05-20T08:47:40.199Z"
   },
   {
    "duration": 185,
    "start_time": "2023-05-20T08:47:40.569Z"
   },
   {
    "duration": 455,
    "start_time": "2023-05-20T08:47:40.756Z"
   },
   {
    "duration": 67,
    "start_time": "2023-05-20T08:47:41.214Z"
   },
   {
    "duration": 52,
    "start_time": "2023-05-20T08:47:41.284Z"
   },
   {
    "duration": 11,
    "start_time": "2023-05-20T08:47:41.338Z"
   },
   {
    "duration": 16,
    "start_time": "2023-05-20T08:47:41.351Z"
   },
   {
    "duration": 95,
    "start_time": "2023-05-20T08:47:41.369Z"
   },
   {
    "duration": 108,
    "start_time": "2023-05-20T08:47:41.466Z"
   },
   {
    "duration": 84,
    "start_time": "2023-05-20T08:47:41.576Z"
   },
   {
    "duration": 85,
    "start_time": "2023-05-20T08:47:41.662Z"
   },
   {
    "duration": 101,
    "start_time": "2023-05-20T08:47:41.750Z"
   },
   {
    "duration": 90,
    "start_time": "2023-05-20T08:47:41.853Z"
   },
   {
    "duration": 20,
    "start_time": "2023-05-20T08:47:41.945Z"
   },
   {
    "duration": 89,
    "start_time": "2023-05-20T08:47:41.967Z"
   },
   {
    "duration": 64,
    "start_time": "2023-05-20T08:47:42.058Z"
   },
   {
    "duration": 35,
    "start_time": "2023-05-20T08:47:42.125Z"
   },
   {
    "duration": 20,
    "start_time": "2023-05-20T08:47:42.162Z"
   },
   {
    "duration": 1392,
    "start_time": "2023-05-20T08:47:42.184Z"
   },
   {
    "duration": 6,
    "start_time": "2023-05-20T08:47:43.595Z"
   },
   {
    "duration": 955,
    "start_time": "2023-05-20T08:47:43.607Z"
   },
   {
    "duration": 22,
    "start_time": "2023-05-20T08:47:44.564Z"
   },
   {
    "duration": 19,
    "start_time": "2023-05-20T08:47:44.595Z"
   },
   {
    "duration": 733,
    "start_time": "2023-05-20T08:47:44.616Z"
   },
   {
    "duration": 4,
    "start_time": "2023-05-20T08:47:45.351Z"
   },
   {
    "duration": 1164769,
    "start_time": "2023-05-20T08:47:45.359Z"
   },
   {
    "duration": 0,
    "start_time": "2023-05-20T09:07:10.134Z"
   },
   {
    "duration": 0,
    "start_time": "2023-05-20T09:07:10.135Z"
   },
   {
    "duration": 1,
    "start_time": "2023-05-20T09:07:10.135Z"
   },
   {
    "duration": 1600,
    "start_time": "2023-05-20T09:11:58.884Z"
   },
   {
    "duration": 983,
    "start_time": "2023-05-20T09:12:00.486Z"
   },
   {
    "duration": 32,
    "start_time": "2023-05-20T09:12:01.471Z"
   },
   {
    "duration": 79,
    "start_time": "2023-05-20T09:12:01.506Z"
   },
   {
    "duration": 316,
    "start_time": "2023-05-20T09:12:01.587Z"
   },
   {
    "duration": 683,
    "start_time": "2023-05-20T09:12:01.905Z"
   },
   {
    "duration": 751,
    "start_time": "2023-05-20T09:12:02.590Z"
   },
   {
    "duration": 231,
    "start_time": "2023-05-20T09:12:03.343Z"
   },
   {
    "duration": 75,
    "start_time": "2023-05-20T09:12:03.576Z"
   },
   {
    "duration": 89,
    "start_time": "2023-05-20T09:12:03.654Z"
   },
   {
    "duration": 387,
    "start_time": "2023-05-20T09:12:03.745Z"
   },
   {
    "duration": 590,
    "start_time": "2023-05-20T09:12:04.134Z"
   },
   {
    "duration": 391,
    "start_time": "2023-05-20T09:12:04.726Z"
   },
   {
    "duration": 680,
    "start_time": "2023-05-20T09:12:05.119Z"
   },
   {
    "duration": 238,
    "start_time": "2023-05-20T09:12:05.801Z"
   },
   {
    "duration": 563,
    "start_time": "2023-05-20T09:12:06.041Z"
   },
   {
    "duration": 263,
    "start_time": "2023-05-20T09:12:06.606Z"
   },
   {
    "duration": 672,
    "start_time": "2023-05-20T09:12:06.871Z"
   },
   {
    "duration": 83,
    "start_time": "2023-05-20T09:12:07.545Z"
   },
   {
    "duration": 56,
    "start_time": "2023-05-20T09:12:07.630Z"
   },
   {
    "duration": 23,
    "start_time": "2023-05-20T09:12:07.698Z"
   },
   {
    "duration": 26,
    "start_time": "2023-05-20T09:12:07.725Z"
   },
   {
    "duration": 119,
    "start_time": "2023-05-20T09:12:07.753Z"
   },
   {
    "duration": 140,
    "start_time": "2023-05-20T09:12:07.874Z"
   },
   {
    "duration": 88,
    "start_time": "2023-05-20T09:12:08.015Z"
   },
   {
    "duration": 122,
    "start_time": "2023-05-20T09:12:08.105Z"
   },
   {
    "duration": 121,
    "start_time": "2023-05-20T09:12:08.229Z"
   },
   {
    "duration": 115,
    "start_time": "2023-05-20T09:12:08.355Z"
   },
   {
    "duration": 23,
    "start_time": "2023-05-20T09:12:08.472Z"
   },
   {
    "duration": 102,
    "start_time": "2023-05-20T09:12:08.497Z"
   },
   {
    "duration": 71,
    "start_time": "2023-05-20T09:12:08.601Z"
   },
   {
    "duration": 50,
    "start_time": "2023-05-20T09:12:08.674Z"
   },
   {
    "duration": 3,
    "start_time": "2023-05-20T09:12:08.732Z"
   },
   {
    "duration": 1338,
    "start_time": "2023-05-20T09:12:08.737Z"
   },
   {
    "duration": 28,
    "start_time": "2023-05-20T09:12:10.076Z"
   },
   {
    "duration": 1129,
    "start_time": "2023-05-20T09:12:10.106Z"
   },
   {
    "duration": 16,
    "start_time": "2023-05-20T09:12:11.237Z"
   },
   {
    "duration": 3,
    "start_time": "2023-05-20T09:12:11.255Z"
   },
   {
    "duration": 636,
    "start_time": "2023-05-20T09:12:11.261Z"
   },
   {
    "duration": 5,
    "start_time": "2023-05-20T09:12:11.899Z"
   },
   {
    "duration": 1335102,
    "start_time": "2023-05-20T09:12:11.905Z"
   },
   {
    "duration": 21206,
    "start_time": "2023-05-20T09:34:27.009Z"
   },
   {
    "duration": 201404,
    "start_time": "2023-05-20T09:34:48.217Z"
   },
   {
    "duration": 1315,
    "start_time": "2023-05-20T09:38:09.623Z"
   },
   {
    "duration": 1598,
    "start_time": "2023-05-20T10:01:40.889Z"
   },
   {
    "duration": 1256,
    "start_time": "2023-05-20T10:01:42.490Z"
   },
   {
    "duration": 19,
    "start_time": "2023-05-20T10:01:43.749Z"
   },
   {
    "duration": 47,
    "start_time": "2023-05-20T10:01:43.770Z"
   },
   {
    "duration": 288,
    "start_time": "2023-05-20T10:01:43.828Z"
   },
   {
    "duration": 780,
    "start_time": "2023-05-20T10:01:44.122Z"
   },
   {
    "duration": 732,
    "start_time": "2023-05-20T10:01:44.909Z"
   },
   {
    "duration": 206,
    "start_time": "2023-05-20T10:01:45.644Z"
   },
   {
    "duration": 69,
    "start_time": "2023-05-20T10:01:45.852Z"
   },
   {
    "duration": 94,
    "start_time": "2023-05-20T10:01:45.924Z"
   },
   {
    "duration": 365,
    "start_time": "2023-05-20T10:01:46.025Z"
   },
   {
    "duration": 705,
    "start_time": "2023-05-20T10:01:46.395Z"
   },
   {
    "duration": 347,
    "start_time": "2023-05-20T10:01:47.104Z"
   },
   {
    "duration": 635,
    "start_time": "2023-05-20T10:01:47.453Z"
   },
   {
    "duration": 250,
    "start_time": "2023-05-20T10:01:48.090Z"
   },
   {
    "duration": 478,
    "start_time": "2023-05-20T10:01:48.342Z"
   },
   {
    "duration": 249,
    "start_time": "2023-05-20T10:01:48.822Z"
   },
   {
    "duration": 737,
    "start_time": "2023-05-20T10:01:49.073Z"
   },
   {
    "duration": 91,
    "start_time": "2023-05-20T10:01:49.812Z"
   },
   {
    "duration": 69,
    "start_time": "2023-05-20T10:01:49.909Z"
   },
   {
    "duration": 14,
    "start_time": "2023-05-20T10:01:49.980Z"
   },
   {
    "duration": 79,
    "start_time": "2023-05-20T10:01:50.000Z"
   },
   {
    "duration": 187,
    "start_time": "2023-05-20T10:01:50.082Z"
   },
   {
    "duration": 151,
    "start_time": "2023-05-20T10:01:50.271Z"
   },
   {
    "duration": 96,
    "start_time": "2023-05-20T10:01:50.427Z"
   },
   {
    "duration": 133,
    "start_time": "2023-05-20T10:01:50.530Z"
   },
   {
    "duration": 112,
    "start_time": "2023-05-20T10:01:50.666Z"
   },
   {
    "duration": 109,
    "start_time": "2023-05-20T10:01:50.783Z"
   },
   {
    "duration": 30,
    "start_time": "2023-05-20T10:01:50.895Z"
   },
   {
    "duration": 134,
    "start_time": "2023-05-20T10:01:50.927Z"
   },
   {
    "duration": 73,
    "start_time": "2023-05-20T10:01:51.063Z"
   },
   {
    "duration": 37,
    "start_time": "2023-05-20T10:01:51.138Z"
   },
   {
    "duration": 3,
    "start_time": "2023-05-20T10:01:51.177Z"
   },
   {
    "duration": 1428,
    "start_time": "2023-05-20T10:01:51.182Z"
   },
   {
    "duration": 5,
    "start_time": "2023-05-20T10:01:52.612Z"
   },
   {
    "duration": 1041,
    "start_time": "2023-05-20T10:01:52.619Z"
   },
   {
    "duration": 13,
    "start_time": "2023-05-20T10:01:53.661Z"
   },
   {
    "duration": 10,
    "start_time": "2023-05-20T10:01:53.696Z"
   },
   {
    "duration": 665,
    "start_time": "2023-05-20T10:01:53.709Z"
   },
   {
    "duration": 3,
    "start_time": "2023-05-20T10:01:54.376Z"
   },
   {
    "duration": 1122670,
    "start_time": "2023-05-20T10:01:54.381Z"
   },
   {
    "duration": 22778,
    "start_time": "2023-05-20T10:20:37.052Z"
   },
   {
    "duration": 201702,
    "start_time": "2023-05-20T10:20:59.832Z"
   },
   {
    "duration": 1396,
    "start_time": "2023-05-20T10:24:21.539Z"
   },
   {
    "duration": 449773,
    "start_time": "2023-05-20T11:29:40.736Z"
   },
   {
    "duration": 61187,
    "start_time": "2023-05-20T11:37:19.030Z"
   },
   {
    "duration": 80680,
    "start_time": "2023-05-20T11:38:44.073Z"
   },
   {
    "duration": 30,
    "start_time": "2023-05-20T11:40:31.898Z"
   },
   {
    "duration": 15,
    "start_time": "2023-05-20T11:45:05.573Z"
   },
   {
    "duration": 5,
    "start_time": "2023-05-20T11:45:13.855Z"
   },
   {
    "duration": 1531,
    "start_time": "2023-05-20T11:47:25.686Z"
   },
   {
    "duration": 908,
    "start_time": "2023-05-20T11:47:27.229Z"
   },
   {
    "duration": 15,
    "start_time": "2023-05-20T11:47:28.139Z"
   },
   {
    "duration": 12,
    "start_time": "2023-05-20T11:47:28.156Z"
   },
   {
    "duration": 186,
    "start_time": "2023-05-20T11:47:28.169Z"
   },
   {
    "duration": 522,
    "start_time": "2023-05-20T11:47:28.357Z"
   },
   {
    "duration": 566,
    "start_time": "2023-05-20T11:47:28.881Z"
   },
   {
    "duration": 156,
    "start_time": "2023-05-20T11:47:29.448Z"
   },
   {
    "duration": 54,
    "start_time": "2023-05-20T11:47:29.606Z"
   },
   {
    "duration": 74,
    "start_time": "2023-05-20T11:47:29.664Z"
   },
   {
    "duration": 301,
    "start_time": "2023-05-20T11:47:29.740Z"
   },
   {
    "duration": 519,
    "start_time": "2023-05-20T11:47:30.043Z"
   },
   {
    "duration": 325,
    "start_time": "2023-05-20T11:47:30.563Z"
   },
   {
    "duration": 538,
    "start_time": "2023-05-20T11:47:30.890Z"
   },
   {
    "duration": 178,
    "start_time": "2023-05-20T11:47:31.433Z"
   },
   {
    "duration": 415,
    "start_time": "2023-05-20T11:47:31.615Z"
   },
   {
    "duration": 220,
    "start_time": "2023-05-20T11:47:32.033Z"
   },
   {
    "duration": 499,
    "start_time": "2023-05-20T11:47:32.255Z"
   },
   {
    "duration": 61,
    "start_time": "2023-05-20T11:47:32.756Z"
   },
   {
    "duration": 63,
    "start_time": "2023-05-20T11:47:32.819Z"
   },
   {
    "duration": 9,
    "start_time": "2023-05-20T11:47:32.884Z"
   },
   {
    "duration": 55,
    "start_time": "2023-05-20T11:47:32.894Z"
   },
   {
    "duration": 94,
    "start_time": "2023-05-20T11:47:32.950Z"
   },
   {
    "duration": 109,
    "start_time": "2023-05-20T11:47:33.046Z"
   },
   {
    "duration": 64,
    "start_time": "2023-05-20T11:47:33.156Z"
   },
   {
    "duration": 87,
    "start_time": "2023-05-20T11:47:33.222Z"
   },
   {
    "duration": 88,
    "start_time": "2023-05-20T11:47:33.311Z"
   },
   {
    "duration": 80,
    "start_time": "2023-05-20T11:47:33.404Z"
   },
   {
    "duration": 27,
    "start_time": "2023-05-20T11:47:33.485Z"
   },
   {
    "duration": 122,
    "start_time": "2023-05-20T11:47:33.515Z"
   },
   {
    "duration": 57,
    "start_time": "2023-05-20T11:47:33.639Z"
   },
   {
    "duration": 46,
    "start_time": "2023-05-20T11:47:33.698Z"
   },
   {
    "duration": 10,
    "start_time": "2023-05-20T11:47:33.745Z"
   },
   {
    "duration": 1301,
    "start_time": "2023-05-20T11:47:33.756Z"
   },
   {
    "duration": 4,
    "start_time": "2023-05-20T11:47:35.058Z"
   },
   {
    "duration": 973,
    "start_time": "2023-05-20T11:47:35.063Z"
   },
   {
    "duration": 12,
    "start_time": "2023-05-20T11:47:36.039Z"
   },
   {
    "duration": 2,
    "start_time": "2023-05-20T11:47:36.052Z"
   },
   {
    "duration": 575,
    "start_time": "2023-05-20T11:47:36.056Z"
   },
   {
    "duration": 3,
    "start_time": "2023-05-20T11:47:36.633Z"
   },
   {
    "duration": 271461,
    "start_time": "2023-05-20T11:47:36.637Z"
   },
   {
    "duration": 16692,
    "start_time": "2023-05-20T11:52:08.099Z"
   },
   {
    "duration": 64421,
    "start_time": "2023-05-20T11:52:24.794Z"
   },
   {
    "duration": 14,
    "start_time": "2023-05-20T11:53:29.217Z"
   },
   {
    "duration": 15,
    "start_time": "2023-05-20T11:53:29.233Z"
   },
   {
    "duration": 771,
    "start_time": "2023-05-20T11:53:29.249Z"
   },
   {
    "duration": 1552,
    "start_time": "2023-05-20T12:03:01.562Z"
   },
   {
    "duration": 934,
    "start_time": "2023-05-20T12:03:03.116Z"
   },
   {
    "duration": 16,
    "start_time": "2023-05-20T12:03:04.052Z"
   },
   {
    "duration": 20,
    "start_time": "2023-05-20T12:03:04.070Z"
   },
   {
    "duration": 183,
    "start_time": "2023-05-20T12:03:04.091Z"
   },
   {
    "duration": 586,
    "start_time": "2023-05-20T12:03:04.275Z"
   },
   {
    "duration": 591,
    "start_time": "2023-05-20T12:03:04.863Z"
   },
   {
    "duration": 148,
    "start_time": "2023-05-20T12:03:05.455Z"
   },
   {
    "duration": 109,
    "start_time": "2023-05-20T12:03:05.604Z"
   },
   {
    "duration": 89,
    "start_time": "2023-05-20T12:03:05.718Z"
   },
   {
    "duration": 329,
    "start_time": "2023-05-20T12:03:05.809Z"
   },
   {
    "duration": 550,
    "start_time": "2023-05-20T12:03:06.140Z"
   },
   {
    "duration": 290,
    "start_time": "2023-05-20T12:03:06.695Z"
   },
   {
    "duration": 482,
    "start_time": "2023-05-20T12:03:06.987Z"
   },
   {
    "duration": 194,
    "start_time": "2023-05-20T12:03:07.471Z"
   },
   {
    "duration": 395,
    "start_time": "2023-05-20T12:03:07.666Z"
   },
   {
    "duration": 193,
    "start_time": "2023-05-20T12:03:08.063Z"
   },
   {
    "duration": 477,
    "start_time": "2023-05-20T12:03:08.257Z"
   },
   {
    "duration": 41,
    "start_time": "2023-05-20T12:03:08.735Z"
   },
   {
    "duration": 64,
    "start_time": "2023-05-20T12:03:08.778Z"
   },
   {
    "duration": 10,
    "start_time": "2023-05-20T12:03:08.843Z"
   },
   {
    "duration": 7,
    "start_time": "2023-05-20T12:03:08.854Z"
   },
   {
    "duration": 109,
    "start_time": "2023-05-20T12:03:08.863Z"
   },
   {
    "duration": 104,
    "start_time": "2023-05-20T12:03:08.973Z"
   },
   {
    "duration": 71,
    "start_time": "2023-05-20T12:03:09.079Z"
   },
   {
    "duration": 91,
    "start_time": "2023-05-20T12:03:09.152Z"
   },
   {
    "duration": 95,
    "start_time": "2023-05-20T12:03:09.245Z"
   },
   {
    "duration": 80,
    "start_time": "2023-05-20T12:03:09.343Z"
   },
   {
    "duration": 20,
    "start_time": "2023-05-20T12:03:09.432Z"
   },
   {
    "duration": 79,
    "start_time": "2023-05-20T12:03:09.453Z"
   },
   {
    "duration": 54,
    "start_time": "2023-05-20T12:03:09.534Z"
   },
   {
    "duration": 35,
    "start_time": "2023-05-20T12:03:09.589Z"
   },
   {
    "duration": 16,
    "start_time": "2023-05-20T12:03:09.626Z"
   },
   {
    "duration": 1153,
    "start_time": "2023-05-20T12:03:09.644Z"
   },
   {
    "duration": 9,
    "start_time": "2023-05-20T12:03:10.798Z"
   },
   {
    "duration": 1007,
    "start_time": "2023-05-20T12:03:10.809Z"
   },
   {
    "duration": 18,
    "start_time": "2023-05-20T12:03:11.817Z"
   },
   {
    "duration": 6,
    "start_time": "2023-05-20T12:03:11.837Z"
   },
   {
    "duration": 538,
    "start_time": "2023-05-20T12:03:11.844Z"
   },
   {
    "duration": 20,
    "start_time": "2023-05-20T12:03:12.383Z"
   },
   {
    "duration": 266196,
    "start_time": "2023-05-20T12:03:12.404Z"
   },
   {
    "duration": 16648,
    "start_time": "2023-05-20T12:07:38.603Z"
   },
   {
    "duration": 170100,
    "start_time": "2023-05-20T12:07:55.253Z"
   },
   {
    "duration": 16,
    "start_time": "2023-05-20T12:10:45.355Z"
   },
   {
    "duration": 16,
    "start_time": "2023-05-20T12:10:45.373Z"
   },
   {
    "duration": 771,
    "start_time": "2023-05-20T12:10:45.390Z"
   },
   {
    "duration": 0,
    "start_time": "2023-05-20T12:12:40.359Z"
   },
   {
    "duration": 4999,
    "start_time": "2023-05-20T12:12:46.443Z"
   },
   {
    "duration": 1592,
    "start_time": "2023-05-20T12:12:55.879Z"
   },
   {
    "duration": 969,
    "start_time": "2023-05-20T12:12:57.473Z"
   },
   {
    "duration": 15,
    "start_time": "2023-05-20T12:12:58.445Z"
   },
   {
    "duration": 14,
    "start_time": "2023-05-20T12:12:58.462Z"
   },
   {
    "duration": 174,
    "start_time": "2023-05-20T12:12:58.478Z"
   },
   {
    "duration": 547,
    "start_time": "2023-05-20T12:12:58.654Z"
   },
   {
    "duration": 673,
    "start_time": "2023-05-20T12:12:59.203Z"
   },
   {
    "duration": 173,
    "start_time": "2023-05-20T12:12:59.878Z"
   },
   {
    "duration": 92,
    "start_time": "2023-05-20T12:13:00.053Z"
   },
   {
    "duration": 72,
    "start_time": "2023-05-20T12:13:00.150Z"
   },
   {
    "duration": 381,
    "start_time": "2023-05-20T12:13:00.224Z"
   },
   {
    "duration": 530,
    "start_time": "2023-05-20T12:13:00.607Z"
   },
   {
    "duration": 310,
    "start_time": "2023-05-20T12:13:01.139Z"
   },
   {
    "duration": 550,
    "start_time": "2023-05-20T12:13:01.451Z"
   },
   {
    "duration": 204,
    "start_time": "2023-05-20T12:13:02.003Z"
   },
   {
    "duration": 380,
    "start_time": "2023-05-20T12:13:02.209Z"
   },
   {
    "duration": 208,
    "start_time": "2023-05-20T12:13:02.591Z"
   },
   {
    "duration": 476,
    "start_time": "2023-05-20T12:13:02.801Z"
   },
   {
    "duration": 80,
    "start_time": "2023-05-20T12:13:03.279Z"
   },
   {
    "duration": 50,
    "start_time": "2023-05-20T12:13:03.360Z"
   },
   {
    "duration": 19,
    "start_time": "2023-05-20T12:13:03.413Z"
   },
   {
    "duration": 16,
    "start_time": "2023-05-20T12:13:03.434Z"
   },
   {
    "duration": 101,
    "start_time": "2023-05-20T12:13:03.452Z"
   },
   {
    "duration": 128,
    "start_time": "2023-05-20T12:13:03.555Z"
   },
   {
    "duration": 68,
    "start_time": "2023-05-20T12:13:03.685Z"
   },
   {
    "duration": 93,
    "start_time": "2023-05-20T12:13:03.754Z"
   },
   {
    "duration": 95,
    "start_time": "2023-05-20T12:13:03.849Z"
   },
   {
    "duration": 83,
    "start_time": "2023-05-20T12:13:03.948Z"
   },
   {
    "duration": 20,
    "start_time": "2023-05-20T12:13:04.033Z"
   },
   {
    "duration": 84,
    "start_time": "2023-05-20T12:13:04.055Z"
   },
   {
    "duration": 47,
    "start_time": "2023-05-20T12:13:04.141Z"
   },
   {
    "duration": 51,
    "start_time": "2023-05-20T12:13:04.190Z"
   },
   {
    "duration": 8,
    "start_time": "2023-05-20T12:13:04.243Z"
   },
   {
    "duration": 1180,
    "start_time": "2023-05-20T12:13:04.252Z"
   },
   {
    "duration": 4,
    "start_time": "2023-05-20T12:13:05.433Z"
   },
   {
    "duration": 964,
    "start_time": "2023-05-20T12:13:05.439Z"
   },
   {
    "duration": 25,
    "start_time": "2023-05-20T12:13:06.405Z"
   },
   {
    "duration": 16,
    "start_time": "2023-05-20T12:13:06.432Z"
   },
   {
    "duration": 550,
    "start_time": "2023-05-20T12:13:06.450Z"
   },
   {
    "duration": 6,
    "start_time": "2023-05-20T12:13:07.001Z"
   },
   {
    "duration": 1669,
    "start_time": "2023-05-20T12:17:28.942Z"
   },
   {
    "duration": 1077,
    "start_time": "2023-05-20T12:17:30.614Z"
   },
   {
    "duration": 27,
    "start_time": "2023-05-20T12:17:31.693Z"
   },
   {
    "duration": 60,
    "start_time": "2023-05-20T12:17:31.723Z"
   },
   {
    "duration": 190,
    "start_time": "2023-05-20T12:17:31.786Z"
   },
   {
    "duration": 615,
    "start_time": "2023-05-20T12:17:31.977Z"
   },
   {
    "duration": 569,
    "start_time": "2023-05-20T12:17:32.595Z"
   },
   {
    "duration": 170,
    "start_time": "2023-05-20T12:17:33.166Z"
   },
   {
    "duration": 43,
    "start_time": "2023-05-20T12:17:33.337Z"
   },
   {
    "duration": 73,
    "start_time": "2023-05-20T12:17:33.382Z"
   },
   {
    "duration": 397,
    "start_time": "2023-05-20T12:17:33.457Z"
   },
   {
    "duration": 530,
    "start_time": "2023-05-20T12:17:33.856Z"
   },
   {
    "duration": 333,
    "start_time": "2023-05-20T12:17:34.388Z"
   },
   {
    "duration": 617,
    "start_time": "2023-05-20T12:17:34.725Z"
   },
   {
    "duration": 200,
    "start_time": "2023-05-20T12:17:35.343Z"
   },
   {
    "duration": 410,
    "start_time": "2023-05-20T12:17:35.544Z"
   },
   {
    "duration": 215,
    "start_time": "2023-05-20T12:17:35.956Z"
   },
   {
    "duration": 574,
    "start_time": "2023-05-20T12:17:36.173Z"
   },
   {
    "duration": 41,
    "start_time": "2023-05-20T12:17:36.748Z"
   },
   {
    "duration": 56,
    "start_time": "2023-05-20T12:17:36.798Z"
   },
   {
    "duration": 2,
    "start_time": "2023-05-20T12:17:36.856Z"
   },
   {
    "duration": 5,
    "start_time": "2023-05-20T12:17:36.859Z"
   },
   {
    "duration": 109,
    "start_time": "2023-05-20T12:17:36.866Z"
   },
   {
    "duration": 111,
    "start_time": "2023-05-20T12:17:36.977Z"
   },
   {
    "duration": 68,
    "start_time": "2023-05-20T12:17:37.089Z"
   },
   {
    "duration": 101,
    "start_time": "2023-05-20T12:17:37.159Z"
   },
   {
    "duration": 90,
    "start_time": "2023-05-20T12:17:37.262Z"
   },
   {
    "duration": 94,
    "start_time": "2023-05-20T12:17:37.354Z"
   },
   {
    "duration": 19,
    "start_time": "2023-05-20T12:17:37.449Z"
   },
   {
    "duration": 90,
    "start_time": "2023-05-20T12:17:37.469Z"
   },
   {
    "duration": 64,
    "start_time": "2023-05-20T12:17:37.561Z"
   },
   {
    "duration": 32,
    "start_time": "2023-05-20T12:17:37.627Z"
   },
   {
    "duration": 2,
    "start_time": "2023-05-20T12:17:37.661Z"
   },
   {
    "duration": 1185,
    "start_time": "2023-05-20T12:17:37.665Z"
   },
   {
    "duration": 4,
    "start_time": "2023-05-20T12:17:38.851Z"
   },
   {
    "duration": 970,
    "start_time": "2023-05-20T12:17:38.856Z"
   },
   {
    "duration": 17,
    "start_time": "2023-05-20T12:17:39.832Z"
   },
   {
    "duration": 3,
    "start_time": "2023-05-20T12:17:39.850Z"
   },
   {
    "duration": 526,
    "start_time": "2023-05-20T12:17:39.854Z"
   },
   {
    "duration": 4,
    "start_time": "2023-05-20T12:17:40.396Z"
   },
   {
    "duration": 369,
    "start_time": "2023-05-20T12:17:40.405Z"
   },
   {
    "duration": 1544,
    "start_time": "2023-05-20T12:19:54.926Z"
   },
   {
    "duration": 939,
    "start_time": "2023-05-20T12:19:56.472Z"
   },
   {
    "duration": 22,
    "start_time": "2023-05-20T12:19:57.413Z"
   },
   {
    "duration": 21,
    "start_time": "2023-05-20T12:19:57.437Z"
   },
   {
    "duration": 196,
    "start_time": "2023-05-20T12:19:57.460Z"
   },
   {
    "duration": 587,
    "start_time": "2023-05-20T12:19:57.657Z"
   },
   {
    "duration": 599,
    "start_time": "2023-05-20T12:19:58.246Z"
   },
   {
    "duration": 140,
    "start_time": "2023-05-20T12:19:58.846Z"
   },
   {
    "duration": 55,
    "start_time": "2023-05-20T12:19:58.988Z"
   },
   {
    "duration": 71,
    "start_time": "2023-05-20T12:19:59.045Z"
   },
   {
    "duration": 360,
    "start_time": "2023-05-20T12:19:59.117Z"
   },
   {
    "duration": 590,
    "start_time": "2023-05-20T12:19:59.479Z"
   },
   {
    "duration": 388,
    "start_time": "2023-05-20T12:20:00.071Z"
   },
   {
    "duration": 572,
    "start_time": "2023-05-20T12:20:00.462Z"
   },
   {
    "duration": 243,
    "start_time": "2023-05-20T12:20:01.039Z"
   },
   {
    "duration": 511,
    "start_time": "2023-05-20T12:20:01.284Z"
   },
   {
    "duration": 246,
    "start_time": "2023-05-20T12:20:01.806Z"
   },
   {
    "duration": 632,
    "start_time": "2023-05-20T12:20:02.053Z"
   },
   {
    "duration": 80,
    "start_time": "2023-05-20T12:20:02.687Z"
   },
   {
    "duration": 70,
    "start_time": "2023-05-20T12:20:02.769Z"
   },
   {
    "duration": 24,
    "start_time": "2023-05-20T12:20:02.842Z"
   },
   {
    "duration": 75,
    "start_time": "2023-05-20T12:20:02.868Z"
   },
   {
    "duration": 150,
    "start_time": "2023-05-20T12:20:02.946Z"
   },
   {
    "duration": 160,
    "start_time": "2023-05-20T12:20:03.101Z"
   },
   {
    "duration": 58,
    "start_time": "2023-05-20T12:20:03.263Z"
   },
   {
    "duration": 128,
    "start_time": "2023-05-20T12:20:03.323Z"
   },
   {
    "duration": 118,
    "start_time": "2023-05-20T12:20:03.453Z"
   },
   {
    "duration": 106,
    "start_time": "2023-05-20T12:20:03.575Z"
   },
   {
    "duration": 28,
    "start_time": "2023-05-20T12:20:03.682Z"
   },
   {
    "duration": 107,
    "start_time": "2023-05-20T12:20:03.712Z"
   },
   {
    "duration": 66,
    "start_time": "2023-05-20T12:20:03.821Z"
   },
   {
    "duration": 51,
    "start_time": "2023-05-20T12:20:03.894Z"
   },
   {
    "duration": 13,
    "start_time": "2023-05-20T12:20:03.949Z"
   },
   {
    "duration": 1372,
    "start_time": "2023-05-20T12:20:03.964Z"
   },
   {
    "duration": 6,
    "start_time": "2023-05-20T12:20:05.337Z"
   },
   {
    "duration": 1036,
    "start_time": "2023-05-20T12:20:05.345Z"
   },
   {
    "duration": 22,
    "start_time": "2023-05-20T12:20:06.395Z"
   },
   {
    "duration": 47,
    "start_time": "2023-05-20T12:20:06.419Z"
   },
   {
    "duration": 680,
    "start_time": "2023-05-20T12:20:06.468Z"
   },
   {
    "duration": 3,
    "start_time": "2023-05-20T12:20:07.150Z"
   },
   {
    "duration": 350861,
    "start_time": "2023-05-20T12:20:07.154Z"
   },
   {
    "duration": 1100026,
    "start_time": "2023-05-20T12:25:58.024Z"
   },
   {
    "duration": 21150,
    "start_time": "2023-05-20T12:44:18.052Z"
   },
   {
    "duration": 211315,
    "start_time": "2023-05-20T12:44:39.207Z"
   },
   {
    "duration": 26,
    "start_time": "2023-05-20T12:48:10.523Z"
   },
   {
    "duration": 7,
    "start_time": "2023-05-20T12:48:10.552Z"
   },
   {
    "duration": 1393,
    "start_time": "2023-05-20T12:48:10.560Z"
   },
   {
    "duration": 1389,
    "start_time": "2023-05-20T16:17:37.469Z"
   },
   {
    "duration": 749,
    "start_time": "2023-05-20T16:17:38.860Z"
   },
   {
    "duration": 15,
    "start_time": "2023-05-20T16:17:39.610Z"
   },
   {
    "duration": 11,
    "start_time": "2023-05-20T16:17:39.626Z"
   },
   {
    "duration": 135,
    "start_time": "2023-05-20T16:17:39.639Z"
   },
   {
    "duration": 431,
    "start_time": "2023-05-20T16:17:39.776Z"
   },
   {
    "duration": 457,
    "start_time": "2023-05-20T16:17:40.209Z"
   },
   {
    "duration": 119,
    "start_time": "2023-05-20T16:17:40.667Z"
   },
   {
    "duration": 63,
    "start_time": "2023-05-20T16:17:40.787Z"
   },
   {
    "duration": 52,
    "start_time": "2023-05-20T16:17:40.852Z"
   },
   {
    "duration": 279,
    "start_time": "2023-05-20T16:17:40.905Z"
   },
   {
    "duration": 398,
    "start_time": "2023-05-20T16:17:41.186Z"
   },
   {
    "duration": 262,
    "start_time": "2023-05-20T16:17:41.585Z"
   },
   {
    "duration": 407,
    "start_time": "2023-05-20T16:17:41.851Z"
   },
   {
    "duration": 171,
    "start_time": "2023-05-20T16:17:42.259Z"
   },
   {
    "duration": 358,
    "start_time": "2023-05-20T16:17:42.432Z"
   },
   {
    "duration": 162,
    "start_time": "2023-05-20T16:17:42.795Z"
   },
   {
    "duration": 405,
    "start_time": "2023-05-20T16:17:42.959Z"
   },
   {
    "duration": 43,
    "start_time": "2023-05-20T16:17:43.366Z"
   },
   {
    "duration": 37,
    "start_time": "2023-05-20T16:17:43.411Z"
   },
   {
    "duration": 2,
    "start_time": "2023-05-20T16:17:43.450Z"
   },
   {
    "duration": 10,
    "start_time": "2023-05-20T16:17:43.454Z"
   },
   {
    "duration": 93,
    "start_time": "2023-05-20T16:17:43.466Z"
   },
   {
    "duration": 112,
    "start_time": "2023-05-20T16:17:43.561Z"
   },
   {
    "duration": 49,
    "start_time": "2023-05-20T16:17:43.675Z"
   },
   {
    "duration": 78,
    "start_time": "2023-05-20T16:17:43.725Z"
   },
   {
    "duration": 90,
    "start_time": "2023-05-20T16:17:43.805Z"
   },
   {
    "duration": 60,
    "start_time": "2023-05-20T16:17:43.896Z"
   },
   {
    "duration": 19,
    "start_time": "2023-05-20T16:17:43.957Z"
   },
   {
    "duration": 76,
    "start_time": "2023-05-20T16:17:43.977Z"
   },
   {
    "duration": 59,
    "start_time": "2023-05-20T16:17:44.055Z"
   },
   {
    "duration": 30,
    "start_time": "2023-05-20T16:17:44.116Z"
   },
   {
    "duration": 2,
    "start_time": "2023-05-20T16:17:44.148Z"
   },
   {
    "duration": 1103,
    "start_time": "2023-05-20T16:17:44.152Z"
   },
   {
    "duration": 4,
    "start_time": "2023-05-20T16:17:45.256Z"
   },
   {
    "duration": 849,
    "start_time": "2023-05-20T16:17:45.262Z"
   },
   {
    "duration": 15,
    "start_time": "2023-05-20T16:17:46.112Z"
   },
   {
    "duration": 7,
    "start_time": "2023-05-20T16:17:46.129Z"
   },
   {
    "duration": 524,
    "start_time": "2023-05-20T16:17:46.137Z"
   },
   {
    "duration": 3,
    "start_time": "2023-05-20T16:17:46.662Z"
   },
   {
    "duration": 14759,
    "start_time": "2023-05-20T16:17:46.669Z"
   },
   {
    "duration": 11604,
    "start_time": "2023-05-20T16:18:01.495Z"
   },
   {
    "duration": 13946,
    "start_time": "2023-05-20T16:18:13.101Z"
   },
   {
    "duration": 148872,
    "start_time": "2023-05-20T16:18:27.049Z"
   },
   {
    "duration": 16,
    "start_time": "2023-05-20T16:20:55.922Z"
   },
   {
    "duration": 18,
    "start_time": "2023-05-20T16:20:55.940Z"
   },
   {
    "duration": 1236,
    "start_time": "2023-05-20T16:20:55.960Z"
   },
   {
    "duration": 1582,
    "start_time": "2023-05-20T20:31:50.857Z"
   },
   {
    "duration": 1064,
    "start_time": "2023-05-20T20:31:52.443Z"
   },
   {
    "duration": 19,
    "start_time": "2023-05-20T20:31:53.509Z"
   },
   {
    "duration": 13,
    "start_time": "2023-05-20T20:31:53.530Z"
   },
   {
    "duration": 136,
    "start_time": "2023-05-20T20:31:53.546Z"
   },
   {
    "duration": 463,
    "start_time": "2023-05-20T20:31:53.685Z"
   },
   {
    "duration": 435,
    "start_time": "2023-05-20T20:31:54.149Z"
   },
   {
    "duration": 139,
    "start_time": "2023-05-20T20:31:54.586Z"
   },
   {
    "duration": 101,
    "start_time": "2023-05-20T20:31:54.728Z"
   },
   {
    "duration": 90,
    "start_time": "2023-05-20T20:31:54.831Z"
   },
   {
    "duration": 303,
    "start_time": "2023-05-20T20:31:54.924Z"
   },
   {
    "duration": 397,
    "start_time": "2023-05-20T20:31:55.235Z"
   },
   {
    "duration": 268,
    "start_time": "2023-05-20T20:31:55.633Z"
   },
   {
    "duration": 422,
    "start_time": "2023-05-20T20:31:55.903Z"
   },
   {
    "duration": 174,
    "start_time": "2023-05-20T20:31:56.327Z"
   },
   {
    "duration": 336,
    "start_time": "2023-05-20T20:31:56.502Z"
   },
   {
    "duration": 179,
    "start_time": "2023-05-20T20:31:56.839Z"
   },
   {
    "duration": 376,
    "start_time": "2023-05-20T20:31:57.020Z"
   },
   {
    "duration": 52,
    "start_time": "2023-05-20T20:31:57.398Z"
   },
   {
    "duration": 40,
    "start_time": "2023-05-20T20:31:57.452Z"
   },
   {
    "duration": 3,
    "start_time": "2023-05-20T20:31:57.493Z"
   },
   {
    "duration": 24,
    "start_time": "2023-05-20T20:31:57.497Z"
   },
   {
    "duration": 107,
    "start_time": "2023-05-20T20:31:57.522Z"
   },
   {
    "duration": 127,
    "start_time": "2023-05-20T20:31:57.631Z"
   },
   {
    "duration": 57,
    "start_time": "2023-05-20T20:31:57.760Z"
   },
   {
    "duration": 76,
    "start_time": "2023-05-20T20:31:57.819Z"
   },
   {
    "duration": 77,
    "start_time": "2023-05-20T20:31:57.897Z"
   },
   {
    "duration": 80,
    "start_time": "2023-05-20T20:31:57.976Z"
   },
   {
    "duration": 25,
    "start_time": "2023-05-20T20:31:58.059Z"
   },
   {
    "duration": 72,
    "start_time": "2023-05-20T20:31:58.086Z"
   },
   {
    "duration": 44,
    "start_time": "2023-05-20T20:31:58.160Z"
   },
   {
    "duration": 41,
    "start_time": "2023-05-20T20:31:58.218Z"
   },
   {
    "duration": 3,
    "start_time": "2023-05-20T20:31:58.260Z"
   },
   {
    "duration": 1010,
    "start_time": "2023-05-20T20:31:58.264Z"
   },
   {
    "duration": 3,
    "start_time": "2023-05-20T20:31:59.276Z"
   },
   {
    "duration": 846,
    "start_time": "2023-05-20T20:31:59.281Z"
   },
   {
    "duration": 18,
    "start_time": "2023-05-20T20:32:00.129Z"
   },
   {
    "duration": 46,
    "start_time": "2023-05-20T20:32:00.149Z"
   },
   {
    "duration": 527,
    "start_time": "2023-05-20T20:32:00.197Z"
   },
   {
    "duration": 4,
    "start_time": "2023-05-20T20:32:00.726Z"
   },
   {
    "duration": 3017603,
    "start_time": "2023-05-20T20:32:00.734Z"
   },
   {
    "duration": 20011,
    "start_time": "2023-05-20T21:22:18.339Z"
   },
   {
    "duration": 179833,
    "start_time": "2023-05-20T21:22:38.352Z"
   },
   {
    "duration": 18,
    "start_time": "2023-05-20T21:25:38.187Z"
   },
   {
    "duration": 33,
    "start_time": "2023-05-20T21:25:38.206Z"
   },
   {
    "duration": 1591,
    "start_time": "2023-05-20T21:25:38.241Z"
   },
   {
    "duration": 27,
    "start_time": "2023-05-20T21:25:39.835Z"
   },
   {
    "duration": 8,
    "start_time": "2023-05-20T21:33:04.444Z"
   },
   {
    "duration": 5,
    "start_time": "2023-05-20T21:33:21.856Z"
   },
   {
    "duration": 4,
    "start_time": "2023-05-20T21:34:25.045Z"
   },
   {
    "duration": 5,
    "start_time": "2023-05-20T21:34:39.846Z"
   },
   {
    "duration": 4,
    "start_time": "2023-05-20T21:35:15.840Z"
   },
   {
    "duration": 8,
    "start_time": "2023-05-20T21:35:41.119Z"
   },
   {
    "duration": 5,
    "start_time": "2023-05-20T21:36:14.647Z"
   },
   {
    "duration": 4,
    "start_time": "2023-05-20T21:36:53.460Z"
   },
   {
    "duration": 3,
    "start_time": "2023-05-20T21:51:21.860Z"
   },
   {
    "duration": 15,
    "start_time": "2023-05-20T22:35:19.755Z"
   },
   {
    "duration": 102,
    "start_time": "2023-05-20T22:45:27.787Z"
   }
  ],
  "kernelspec": {
   "display_name": "Python 3 (ipykernel)",
   "language": "python",
   "name": "python3"
  },
  "language_info": {
   "codemirror_mode": {
    "name": "ipython",
    "version": 3
   },
   "file_extension": ".py",
   "mimetype": "text/x-python",
   "name": "python",
   "nbconvert_exporter": "python",
   "pygments_lexer": "ipython3",
   "version": "3.10.9"
  },
  "toc": {
   "base_numbering": 1,
   "nav_menu": {},
   "number_sections": true,
   "sideBar": true,
   "skip_h1_title": true,
   "title_cell": "Table of Contents",
   "title_sidebar": "Contents",
   "toc_cell": false,
   "toc_position": {},
   "toc_section_display": true,
   "toc_window_display": false
  }
 },
 "nbformat": 4,
 "nbformat_minor": 2
}
