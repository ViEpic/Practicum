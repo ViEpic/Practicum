{
 "cells": [
  {
   "cell_type": "markdown",
   "metadata": {
    "toc": true
   },
   "source": [
    "<h1>Содержание<span class=\"tocSkip\"></span></h1>\n",
    "<div class=\"toc\"><ul class=\"toc-item\"><li><ul class=\"toc-item\"><li><span><a href=\"#Общее-впечатление\" data-toc-modified-id=\"Общее-впечатление-0.1\"><span class=\"toc-item-num\">0.1&nbsp;&nbsp;</span><font color=\"orange\">Общее впечатление</font></a></span></li><li><span><a href=\"#Общее-впечатление-(ревью-2)\" data-toc-modified-id=\"Общее-впечатление-(ревью-2)-0.2\"><span class=\"toc-item-num\">0.2&nbsp;&nbsp;</span><font color=\"orange\">Общее впечатление (ревью 2)</font></a></span></li></ul></li><li><span><a href=\"#Подготовка\" data-toc-modified-id=\"Подготовка-1\"><span class=\"toc-item-num\">1&nbsp;&nbsp;</span>Подготовка</a></span></li><li><span><a href=\"#Обучение\" data-toc-modified-id=\"Обучение-2\"><span class=\"toc-item-num\">2&nbsp;&nbsp;</span>Обучение</a></span></li><li><span><a href=\"#Выводы\" data-toc-modified-id=\"Выводы-3\"><span class=\"toc-item-num\">3&nbsp;&nbsp;</span>Выводы</a></span></li><li><span><a href=\"#Чек-лист-проверки\" data-toc-modified-id=\"Чек-лист-проверки-4\"><span class=\"toc-item-num\">4&nbsp;&nbsp;</span>Чек-лист проверки</a></span></li></ul></div>"
   ]
  },
  {
   "cell_type": "markdown",
   "metadata": {},
   "source": [
    "# Проект для «Викишоп»"
   ]
  },
  {
   "cell_type": "markdown",
   "metadata": {},
   "source": [
    "Интернет-магазин «Викишоп» запускает новый сервис. Теперь пользователи могут редактировать и дополнять описания товаров, как в вики-сообществах. То есть клиенты предлагают свои правки и комментируют изменения других. Магазину нужен инструмент, который будет искать токсичные комментарии и отправлять их на модерацию. \n",
    "\n",
    "Обучите модель классифицировать комментарии на позитивные и негативные. В вашем распоряжении набор данных с разметкой о токсичности правок.\n",
    "\n",
    "Постройте модель со значением метрики качества *F1* не меньше 0.75. \n",
    "\n",
    "**Инструкция по выполнению проекта**\n",
    "\n",
    "1. Загрузите и подготовьте данные.\n",
    "2. Обучите разные модели. \n",
    "3. Сделайте выводы.\n",
    "\n",
    "Для выполнения проекта применять *BERT* необязательно, но вы можете попробовать.\n",
    "\n",
    "**Описание данных**\n",
    "\n",
    "Данные находятся в файле `toxic_comments.csv`. Столбец *text* в нём содержит текст комментария, а *toxic* — целевой признак."
   ]
  },
  {
   "cell_type": "markdown",
   "metadata": {},
   "source": [
    "## Подготовка"
   ]
  },
  {
   "cell_type": "code",
   "execution_count": 1,
   "metadata": {},
   "outputs": [
    {
     "name": "stderr",
     "output_type": "stream",
     "text": [
      "[nltk_data] Downloading package averaged_perceptron_tagger to\n",
      "[nltk_data]     /home/jovyan/nltk_data...\n",
      "[nltk_data]   Unzipping taggers/averaged_perceptron_tagger.zip.\n"
     ]
    },
    {
     "data": {
      "text/plain": [
       "True"
      ]
     },
     "execution_count": 1,
     "metadata": {},
     "output_type": "execute_result"
    }
   ],
   "source": [
    "import pandas as pd\n",
    "import numpy as np\n",
    "import nltk\n",
    "import re\n",
    "from sklearn.model_selection import cross_val_score, KFold, train_test_split\n",
    "from nltk.corpus import stopwords as nltk_stopwords, wordnet\n",
    "from sklearn.feature_extraction.text import TfidfVectorizer \n",
    "from sklearn.linear_model import LogisticRegression\n",
    "from sklearn.tree import DecisionTreeClassifier\n",
    "from nltk.stem import WordNetLemmatizer\n",
    "from sklearn.metrics import f1_score\n",
    "from IPython.display import display\n",
    "from lightgbm import LGBMClassifier\n",
    "from sklearn.utils import shuffle\n",
    "RANDOM_STATE = 42\n",
    "TEST_SIZE = 0.2\n",
    "\n",
    "nltk.download('averaged_perceptron_tagger')"
   ]
  },
  {
   "cell_type": "code",
   "execution_count": 2,
   "metadata": {},
   "outputs": [],
   "source": [
    "try:\n",
    "    data = pd.read_csv('/datasets/toxic_comments.csv')\n",
    "except:\n",
    "    data = pd.read_csv('D:/Yandex/toxic_comments.csv')"
   ]
  },
  {
   "cell_type": "code",
   "execution_count": 3,
   "metadata": {},
   "outputs": [
    {
     "name": "stdout",
     "output_type": "stream",
     "text": [
      "<class 'pandas.core.frame.DataFrame'>\n",
      "RangeIndex: 159292 entries, 0 to 159291\n",
      "Data columns (total 3 columns):\n",
      " #   Column      Non-Null Count   Dtype \n",
      "---  ------      --------------   ----- \n",
      " 0   Unnamed: 0  159292 non-null  int64 \n",
      " 1   text        159292 non-null  object\n",
      " 2   toxic       159292 non-null  int64 \n",
      "dtypes: int64(2), object(1)\n",
      "memory usage: 3.6+ MB\n"
     ]
    }
   ],
   "source": [
    "data.info()"
   ]
  },
  {
   "cell_type": "code",
   "execution_count": 4,
   "metadata": {},
   "outputs": [
    {
     "data": {
      "text/html": [
       "<div>\n",
       "<style scoped>\n",
       "    .dataframe tbody tr th:only-of-type {\n",
       "        vertical-align: middle;\n",
       "    }\n",
       "\n",
       "    .dataframe tbody tr th {\n",
       "        vertical-align: top;\n",
       "    }\n",
       "\n",
       "    .dataframe thead th {\n",
       "        text-align: right;\n",
       "    }\n",
       "</style>\n",
       "<table border=\"1\" class=\"dataframe\">\n",
       "  <thead>\n",
       "    <tr style=\"text-align: right;\">\n",
       "      <th></th>\n",
       "      <th>Unnamed: 0</th>\n",
       "      <th>text</th>\n",
       "      <th>toxic</th>\n",
       "    </tr>\n",
       "  </thead>\n",
       "  <tbody>\n",
       "    <tr>\n",
       "      <th>0</th>\n",
       "      <td>0</td>\n",
       "      <td>Explanation\\nWhy the edits made under my usern...</td>\n",
       "      <td>0</td>\n",
       "    </tr>\n",
       "    <tr>\n",
       "      <th>1</th>\n",
       "      <td>1</td>\n",
       "      <td>D'aww! He matches this background colour I'm s...</td>\n",
       "      <td>0</td>\n",
       "    </tr>\n",
       "    <tr>\n",
       "      <th>2</th>\n",
       "      <td>2</td>\n",
       "      <td>Hey man, I'm really not trying to edit war. It...</td>\n",
       "      <td>0</td>\n",
       "    </tr>\n",
       "    <tr>\n",
       "      <th>3</th>\n",
       "      <td>3</td>\n",
       "      <td>\"\\nMore\\nI can't make any real suggestions on ...</td>\n",
       "      <td>0</td>\n",
       "    </tr>\n",
       "    <tr>\n",
       "      <th>4</th>\n",
       "      <td>4</td>\n",
       "      <td>You, sir, are my hero. Any chance you remember...</td>\n",
       "      <td>0</td>\n",
       "    </tr>\n",
       "  </tbody>\n",
       "</table>\n",
       "</div>"
      ],
      "text/plain": [
       "   Unnamed: 0                                               text  toxic\n",
       "0           0  Explanation\\nWhy the edits made under my usern...      0\n",
       "1           1  D'aww! He matches this background colour I'm s...      0\n",
       "2           2  Hey man, I'm really not trying to edit war. It...      0\n",
       "3           3  \"\\nMore\\nI can't make any real suggestions on ...      0\n",
       "4           4  You, sir, are my hero. Any chance you remember...      0"
      ]
     },
     "metadata": {},
     "output_type": "display_data"
    }
   ],
   "source": [
    "display(data.head())"
   ]
  },
  {
   "cell_type": "code",
   "execution_count": 5,
   "metadata": {},
   "outputs": [
    {
     "data": {
      "text/html": [
       "<div>\n",
       "<style scoped>\n",
       "    .dataframe tbody tr th:only-of-type {\n",
       "        vertical-align: middle;\n",
       "    }\n",
       "\n",
       "    .dataframe tbody tr th {\n",
       "        vertical-align: top;\n",
       "    }\n",
       "\n",
       "    .dataframe thead th {\n",
       "        text-align: right;\n",
       "    }\n",
       "</style>\n",
       "<table border=\"1\" class=\"dataframe\">\n",
       "  <thead>\n",
       "    <tr style=\"text-align: right;\">\n",
       "      <th></th>\n",
       "      <th>Unnamed: 0</th>\n",
       "      <th>text</th>\n",
       "      <th>toxic</th>\n",
       "    </tr>\n",
       "  </thead>\n",
       "  <tbody>\n",
       "    <tr>\n",
       "      <th>159287</th>\n",
       "      <td>159446</td>\n",
       "      <td>\":::::And for the second time of asking, when ...</td>\n",
       "      <td>0</td>\n",
       "    </tr>\n",
       "    <tr>\n",
       "      <th>159288</th>\n",
       "      <td>159447</td>\n",
       "      <td>You should be ashamed of yourself \\n\\nThat is ...</td>\n",
       "      <td>0</td>\n",
       "    </tr>\n",
       "    <tr>\n",
       "      <th>159289</th>\n",
       "      <td>159448</td>\n",
       "      <td>Spitzer \\n\\nUmm, theres no actual article for ...</td>\n",
       "      <td>0</td>\n",
       "    </tr>\n",
       "    <tr>\n",
       "      <th>159290</th>\n",
       "      <td>159449</td>\n",
       "      <td>And it looks like it was actually you who put ...</td>\n",
       "      <td>0</td>\n",
       "    </tr>\n",
       "    <tr>\n",
       "      <th>159291</th>\n",
       "      <td>159450</td>\n",
       "      <td>\"\\nAnd ... I really don't think you understand...</td>\n",
       "      <td>0</td>\n",
       "    </tr>\n",
       "  </tbody>\n",
       "</table>\n",
       "</div>"
      ],
      "text/plain": [
       "        Unnamed: 0                                               text  toxic\n",
       "159287      159446  \":::::And for the second time of asking, when ...      0\n",
       "159288      159447  You should be ashamed of yourself \\n\\nThat is ...      0\n",
       "159289      159448  Spitzer \\n\\nUmm, theres no actual article for ...      0\n",
       "159290      159449  And it looks like it was actually you who put ...      0\n",
       "159291      159450  \"\\nAnd ... I really don't think you understand...      0"
      ]
     },
     "metadata": {},
     "output_type": "display_data"
    }
   ],
   "source": [
    "display(data.tail())"
   ]
  },
  {
   "cell_type": "code",
   "execution_count": 6,
   "metadata": {},
   "outputs": [
    {
     "data": {
      "text/html": [
       "<div>\n",
       "<style scoped>\n",
       "    .dataframe tbody tr th:only-of-type {\n",
       "        vertical-align: middle;\n",
       "    }\n",
       "\n",
       "    .dataframe tbody tr th {\n",
       "        vertical-align: top;\n",
       "    }\n",
       "\n",
       "    .dataframe thead th {\n",
       "        text-align: right;\n",
       "    }\n",
       "</style>\n",
       "<table border=\"1\" class=\"dataframe\">\n",
       "  <thead>\n",
       "    <tr style=\"text-align: right;\">\n",
       "      <th></th>\n",
       "      <th>Unnamed: 0</th>\n",
       "      <th>text</th>\n",
       "      <th>toxic</th>\n",
       "    </tr>\n",
       "  </thead>\n",
       "  <tbody>\n",
       "    <tr>\n",
       "      <th>33683</th>\n",
       "      <td>33723</td>\n",
       "      <td>\"—Preceding unsigned comment added by  (talk •...</td>\n",
       "      <td>0</td>\n",
       "    </tr>\n",
       "    <tr>\n",
       "      <th>55400</th>\n",
       "      <td>55461</td>\n",
       "      <td>Did not know white men like Sitush also live i...</td>\n",
       "      <td>0</td>\n",
       "    </tr>\n",
       "    <tr>\n",
       "      <th>140790</th>\n",
       "      <td>140942</td>\n",
       "      <td>I don't understand. What is a vandalism blackl...</td>\n",
       "      <td>0</td>\n",
       "    </tr>\n",
       "    <tr>\n",
       "      <th>18139</th>\n",
       "      <td>18156</td>\n",
       "      <td>It seems Beve is more interested in having the...</td>\n",
       "      <td>0</td>\n",
       "    </tr>\n",
       "    <tr>\n",
       "      <th>1787</th>\n",
       "      <td>1787</td>\n",
       "      <td>Nope, you're wrong. You can't block all possib...</td>\n",
       "      <td>0</td>\n",
       "    </tr>\n",
       "  </tbody>\n",
       "</table>\n",
       "</div>"
      ],
      "text/plain": [
       "        Unnamed: 0                                               text  toxic\n",
       "33683        33723  \"—Preceding unsigned comment added by  (talk •...      0\n",
       "55400        55461  Did not know white men like Sitush also live i...      0\n",
       "140790      140942  I don't understand. What is a vandalism blackl...      0\n",
       "18139        18156  It seems Beve is more interested in having the...      0\n",
       "1787          1787  Nope, you're wrong. You can't block all possib...      0"
      ]
     },
     "metadata": {},
     "output_type": "display_data"
    }
   ],
   "source": [
    "display(data.sample(5))"
   ]
  },
  {
   "cell_type": "code",
   "execution_count": 7,
   "metadata": {},
   "outputs": [
    {
     "data": {
      "text/html": [
       "<div>\n",
       "<style scoped>\n",
       "    .dataframe tbody tr th:only-of-type {\n",
       "        vertical-align: middle;\n",
       "    }\n",
       "\n",
       "    .dataframe tbody tr th {\n",
       "        vertical-align: top;\n",
       "    }\n",
       "\n",
       "    .dataframe thead th {\n",
       "        text-align: right;\n",
       "    }\n",
       "</style>\n",
       "<table border=\"1\" class=\"dataframe\">\n",
       "  <thead>\n",
       "    <tr style=\"text-align: right;\">\n",
       "      <th></th>\n",
       "      <th>Unnamed: 0</th>\n",
       "      <th>toxic</th>\n",
       "    </tr>\n",
       "  </thead>\n",
       "  <tbody>\n",
       "    <tr>\n",
       "      <th>count</th>\n",
       "      <td>159292.000000</td>\n",
       "      <td>159292.000000</td>\n",
       "    </tr>\n",
       "    <tr>\n",
       "      <th>mean</th>\n",
       "      <td>79725.697242</td>\n",
       "      <td>0.101612</td>\n",
       "    </tr>\n",
       "    <tr>\n",
       "      <th>std</th>\n",
       "      <td>46028.837471</td>\n",
       "      <td>0.302139</td>\n",
       "    </tr>\n",
       "    <tr>\n",
       "      <th>min</th>\n",
       "      <td>0.000000</td>\n",
       "      <td>0.000000</td>\n",
       "    </tr>\n",
       "    <tr>\n",
       "      <th>25%</th>\n",
       "      <td>39872.750000</td>\n",
       "      <td>0.000000</td>\n",
       "    </tr>\n",
       "    <tr>\n",
       "      <th>50%</th>\n",
       "      <td>79721.500000</td>\n",
       "      <td>0.000000</td>\n",
       "    </tr>\n",
       "    <tr>\n",
       "      <th>75%</th>\n",
       "      <td>119573.250000</td>\n",
       "      <td>0.000000</td>\n",
       "    </tr>\n",
       "    <tr>\n",
       "      <th>max</th>\n",
       "      <td>159450.000000</td>\n",
       "      <td>1.000000</td>\n",
       "    </tr>\n",
       "  </tbody>\n",
       "</table>\n",
       "</div>"
      ],
      "text/plain": [
       "          Unnamed: 0          toxic\n",
       "count  159292.000000  159292.000000\n",
       "mean    79725.697242       0.101612\n",
       "std     46028.837471       0.302139\n",
       "min         0.000000       0.000000\n",
       "25%     39872.750000       0.000000\n",
       "50%     79721.500000       0.000000\n",
       "75%    119573.250000       0.000000\n",
       "max    159450.000000       1.000000"
      ]
     },
     "execution_count": 7,
     "metadata": {},
     "output_type": "execute_result"
    }
   ],
   "source": [
    "data.describe()"
   ]
  },
  {
   "cell_type": "code",
   "execution_count": 8,
   "metadata": {},
   "outputs": [
    {
     "data": {
      "text/plain": [
       "0"
      ]
     },
     "execution_count": 8,
     "metadata": {},
     "output_type": "execute_result"
    }
   ],
   "source": [
    "data.duplicated().sum()"
   ]
  },
  {
   "cell_type": "code",
   "execution_count": 9,
   "metadata": {},
   "outputs": [
    {
     "data": {
      "text/plain": [
       "0    143106\n",
       "1     16186\n",
       "Name: toxic, dtype: int64"
      ]
     },
     "execution_count": 9,
     "metadata": {},
     "output_type": "execute_result"
    }
   ],
   "source": [
    "data['toxic'].value_counts()"
   ]
  },
  {
   "cell_type": "code",
   "execution_count": 10,
   "metadata": {},
   "outputs": [],
   "source": [
    "# Переводим буквы в нижний регистр, оставляем только латиницу, удаляет стоп-слова\n",
    "def clear_text(text):\n",
    "    stop_words = set(nltk_stopwords.words('english'))\n",
    "    text = text.lower()\n",
    "    word_list = re.sub(r\"[^a-z ]\", ' ', text).split()\n",
    "    word_notstop_list = [w for w in word_list if not w in stop_words]\n",
    "    return ' '.join(word_notstop_list)"
   ]
  },
  {
   "cell_type": "code",
   "execution_count": 11,
   "metadata": {},
   "outputs": [],
   "source": [
    "# Добавим в датасет новый признак с очищенными комментариями\n",
    "data['clean_text'] = data['text'].apply(clear_text)"
   ]
  },
  {
   "cell_type": "code",
   "execution_count": 12,
   "metadata": {},
   "outputs": [
    {
     "data": {
      "text/html": [
       "<div>\n",
       "<style scoped>\n",
       "    .dataframe tbody tr th:only-of-type {\n",
       "        vertical-align: middle;\n",
       "    }\n",
       "\n",
       "    .dataframe tbody tr th {\n",
       "        vertical-align: top;\n",
       "    }\n",
       "\n",
       "    .dataframe thead th {\n",
       "        text-align: right;\n",
       "    }\n",
       "</style>\n",
       "<table border=\"1\" class=\"dataframe\">\n",
       "  <thead>\n",
       "    <tr style=\"text-align: right;\">\n",
       "      <th></th>\n",
       "      <th>Unnamed: 0</th>\n",
       "      <th>text</th>\n",
       "      <th>toxic</th>\n",
       "      <th>clean_text</th>\n",
       "    </tr>\n",
       "  </thead>\n",
       "  <tbody>\n",
       "    <tr>\n",
       "      <th>131482</th>\n",
       "      <td>131618</td>\n",
       "      <td>Wikipedia= Nazi Germany: Phase 2 \\n\\nHello. I ...</td>\n",
       "      <td>1</td>\n",
       "      <td>wikipedia nazi germany phase hello writing inf...</td>\n",
       "    </tr>\n",
       "    <tr>\n",
       "      <th>145464</th>\n",
       "      <td>145620</td>\n",
       "      <td>\"\\n\\n Yosting it \\n\\nAfter seven months on Wik...</td>\n",
       "      <td>0</td>\n",
       "      <td>yosting seven months wikipedia finally occurre...</td>\n",
       "    </tr>\n",
       "    <tr>\n",
       "      <th>43527</th>\n",
       "      <td>43578</td>\n",
       "      <td>The person who did the cut and paste move was ...</td>\n",
       "      <td>0</td>\n",
       "      <td>person cut paste move admin know trying help a...</td>\n",
       "    </tr>\n",
       "  </tbody>\n",
       "</table>\n",
       "</div>"
      ],
      "text/plain": [
       "        Unnamed: 0                                               text  toxic  \\\n",
       "131482      131618  Wikipedia= Nazi Germany: Phase 2 \\n\\nHello. I ...      1   \n",
       "145464      145620  \"\\n\\n Yosting it \\n\\nAfter seven months on Wik...      0   \n",
       "43527        43578  The person who did the cut and paste move was ...      0   \n",
       "\n",
       "                                               clean_text  \n",
       "131482  wikipedia nazi germany phase hello writing inf...  \n",
       "145464  yosting seven months wikipedia finally occurre...  \n",
       "43527   person cut paste move admin know trying help a...  "
      ]
     },
     "metadata": {},
     "output_type": "display_data"
    }
   ],
   "source": [
    "display(data.sample(3))"
   ]
  },
  {
   "cell_type": "markdown",
   "metadata": {},
   "source": [
    "# Лемматизируем комментарии\n",
    "def lemm_text(text):\n",
    "    lemmatizer = WordNetLemmatizer()\n",
    "    word_list = text.split()\n",
    "    lemmatized_text = ' '.join([lemmatizer.lemmatize(w) for w in word_list])    \n",
    "    return lemmatized_text"
   ]
  },
  {
   "cell_type": "code",
   "execution_count": 13,
   "metadata": {},
   "outputs": [],
   "source": [
    "def wordnet_pos(word):\n",
    "    tag = nltk.pos_tag([word])[0][1][0].upper()\n",
    "    tag_dict = {\"J\": wordnet.ADJ,\n",
    "                \"N\": wordnet.NOUN,\n",
    "                \"V\": wordnet.VERB,\n",
    "                \"R\": wordnet.ADV}\n",
    "    \n",
    "    return tag_dict.get(tag, wordnet.NOUN)"
   ]
  },
  {
   "cell_type": "code",
   "execution_count": 14,
   "metadata": {},
   "outputs": [],
   "source": [
    "def lemm_text(text):\n",
    "    lemmatizer = WordNetLemmatizer()\n",
    "    word_list = text.split()\n",
    "    lemmatized_text = ' '.join([lemmatizer.lemmatize(w, wordnet_pos(w)) for w in word_list])\n",
    "    return lemmatized_text"
   ]
  },
  {
   "cell_type": "code",
   "execution_count": 15,
   "metadata": {},
   "outputs": [],
   "source": [
    "data['cl_text'] = data['clean_text'].apply(lemm_text)"
   ]
  },
  {
   "cell_type": "code",
   "execution_count": 16,
   "metadata": {},
   "outputs": [
    {
     "data": {
      "text/html": [
       "<div>\n",
       "<style scoped>\n",
       "    .dataframe tbody tr th:only-of-type {\n",
       "        vertical-align: middle;\n",
       "    }\n",
       "\n",
       "    .dataframe tbody tr th {\n",
       "        vertical-align: top;\n",
       "    }\n",
       "\n",
       "    .dataframe thead th {\n",
       "        text-align: right;\n",
       "    }\n",
       "</style>\n",
       "<table border=\"1\" class=\"dataframe\">\n",
       "  <thead>\n",
       "    <tr style=\"text-align: right;\">\n",
       "      <th></th>\n",
       "      <th>153229</th>\n",
       "      <th>3637</th>\n",
       "      <th>102805</th>\n",
       "    </tr>\n",
       "  </thead>\n",
       "  <tbody>\n",
       "    <tr>\n",
       "      <th>Unnamed: 0</th>\n",
       "      <td>153386</td>\n",
       "      <td>3637</td>\n",
       "      <td>102902</td>\n",
       "    </tr>\n",
       "    <tr>\n",
       "      <th>text</th>\n",
       "      <td>Fighting freedom-hating wikiterrorist/admins i...</td>\n",
       "      <td>November 2009 (UTC)\\n\\nThe context is evident ...</td>\n",
       "      <td>To reiterate, please use edit summaries. Cheers!</td>\n",
       "    </tr>\n",
       "    <tr>\n",
       "      <th>toxic</th>\n",
       "      <td>1</td>\n",
       "      <td>0</td>\n",
       "      <td>0</td>\n",
       "    </tr>\n",
       "    <tr>\n",
       "      <th>clean_text</th>\n",
       "      <td>fighting freedom hating wikiterrorist admins n...</td>\n",
       "      <td>november utc context evident movie understand ...</td>\n",
       "      <td>reiterate please use edit summaries cheers</td>\n",
       "    </tr>\n",
       "    <tr>\n",
       "      <th>cl_text</th>\n",
       "      <td>fight freedom hat wikiterrorist admins never w...</td>\n",
       "      <td>november utc context evident movie understand ...</td>\n",
       "      <td>reiterate please use edit summary cheer</td>\n",
       "    </tr>\n",
       "  </tbody>\n",
       "</table>\n",
       "</div>"
      ],
      "text/plain": [
       "                                                       153229  \\\n",
       "Unnamed: 0                                             153386   \n",
       "text        Fighting freedom-hating wikiterrorist/admins i...   \n",
       "toxic                                                       1   \n",
       "clean_text  fighting freedom hating wikiterrorist admins n...   \n",
       "cl_text     fight freedom hat wikiterrorist admins never w...   \n",
       "\n",
       "                                                       3637    \\\n",
       "Unnamed: 0                                               3637   \n",
       "text        November 2009 (UTC)\\n\\nThe context is evident ...   \n",
       "toxic                                                       0   \n",
       "clean_text  november utc context evident movie understand ...   \n",
       "cl_text     november utc context evident movie understand ...   \n",
       "\n",
       "                                                      102805  \n",
       "Unnamed: 0                                            102902  \n",
       "text        To reiterate, please use edit summaries. Cheers!  \n",
       "toxic                                                      0  \n",
       "clean_text        reiterate please use edit summaries cheers  \n",
       "cl_text              reiterate please use edit summary cheer  "
      ]
     },
     "metadata": {},
     "output_type": "display_data"
    }
   ],
   "source": [
    "display(data.sample(3).T)"
   ]
  },
  {
   "cell_type": "markdown",
   "metadata": {},
   "source": [
    "- данные изучены\n",
    "- комментарии очищены: буквы переведены в нижний регистр, оставлена только латиница, стоп-слова удалены\n",
    "- комментарии лемматизированы\n",
    "- пропусков и явных дубликатов в данных нет\n",
    "- типы данных соответствуют требованиям для последующей очистки и лемматизации комментариев"
   ]
  },
  {
   "cell_type": "markdown",
   "metadata": {},
   "source": [
    "## Обучение"
   ]
  },
  {
   "cell_type": "code",
   "execution_count": 17,
   "metadata": {},
   "outputs": [],
   "source": [
    "kfold = KFold(n_splits=5, random_state=RANDOM_STATE, shuffle=True)"
   ]
  },
  {
   "cell_type": "code",
   "execution_count": 18,
   "metadata": {},
   "outputs": [],
   "source": [
    "features_train, features_test, target_train, target_test = train_test_split(data['cl_text'], data['toxic'].values, \n",
    "                                                                            test_size=TEST_SIZE, stratify=data['toxic'].values, \n",
    "                                                                            shuffle=True, random_state=RANDOM_STATE)"
   ]
  },
  {
   "cell_type": "code",
   "execution_count": 19,
   "metadata": {},
   "outputs": [],
   "source": [
    "count_tf_idf = TfidfVectorizer()\n",
    "tf_idf_train = count_tf_idf.fit_transform(features_train)\n",
    "tf_idf_test = count_tf_idf.transform(features_test)"
   ]
  },
  {
   "cell_type": "code",
   "execution_count": 20,
   "metadata": {},
   "outputs": [
    {
     "name": "stdout",
     "output_type": "stream",
     "text": [
      "f1: 0.752\n"
     ]
    }
   ],
   "source": [
    "# LogisticRegression\n",
    "model_lr = LogisticRegression(solver='liblinear', class_weight='balanced', random_state=RANDOM_STATE)\n",
    "model_lr.f1 = cross_val_score(model_lr, tf_idf_train, target_train, cv=kfold, scoring='f1')\n",
    "print('f1: %.3f' %(model_lr.f1.mean()))"
   ]
  },
  {
   "cell_type": "code",
   "execution_count": 21,
   "metadata": {},
   "outputs": [
    {
     "name": "stdout",
     "output_type": "stream",
     "text": [
      "f1: 0.613\n"
     ]
    }
   ],
   "source": [
    "# DecisionTreeClassifier\n",
    "model_dt = DecisionTreeClassifier(max_depth=15, class_weight='balanced', random_state=RANDOM_STATE)\n",
    "model_dt.f1 = cross_val_score(model_dt, tf_idf_train, target_train, cv=kfold, scoring='f1')\n",
    "print('f1: %.3f' %(model_dt.f1.mean()))"
   ]
  },
  {
   "cell_type": "code",
   "execution_count": 22,
   "metadata": {},
   "outputs": [
    {
     "name": "stdout",
     "output_type": "stream",
     "text": [
      "f1: 0.766\n"
     ]
    }
   ],
   "source": [
    "# LGBMClassifier\n",
    "model_lgbm = LGBMClassifier(n_estimators=300, max_depth=10, learning_rate=0.15, class_weight='balanced', \n",
    "                               boosting_type='gbdt', objective='binary', random_state=RANDOM_STATE)\n",
    "model_lgbm.f1 = cross_val_score(model_lgbm, tf_idf_train, target_train, cv=kfold, scoring='f1')\n",
    "print('f1: %.3f' %(model_lgbm.f1.mean()))"
   ]
  },
  {
   "cell_type": "markdown",
   "metadata": {},
   "source": [
    "Выберем в качестве лучшей модель градиентного бустинга LGBMClassifier model_lgbm, которая имеет следующее значение метрики оценки качества на обучающей выборке:\n",
    "\n",
    "- метрика f1: 0.766\n",
    "- модель: LGBMClassifier\n",
    "- количество деревьев: n_estimators = 300\n",
    "- глубина дерева: max_depth = 10\n",
    "- коэффициент скорости обучения: learning_rate = 0.15"
   ]
  },
  {
   "cell_type": "markdown",
   "metadata": {},
   "source": [
    "## Выводы"
   ]
  },
  {
   "cell_type": "code",
   "execution_count": 23,
   "metadata": {},
   "outputs": [
    {
     "name": "stdout",
     "output_type": "stream",
     "text": [
      "f1: 0.771\n"
     ]
    }
   ],
   "source": [
    "# Тестирование лучшей модели\n",
    "model_lgbm.fit(tf_idf_train, target_train)\n",
    "model_lgbm.predicted = model_lgbm.predict(tf_idf_test)\n",
    "model_lgbm.test_f1 = f1_score(target_test, model_lgbm.predicted)\n",
    "print('f1: %.3f' %(model_lgbm.test_f1))"
   ]
  },
  {
   "cell_type": "markdown",
   "metadata": {},
   "source": [
    "- данные изучены\n",
    "- комментарии очищены: буквы переведены в нижний регистр, оставлена только латиница, стоп-слова удалены\n",
    "- комментарии лемматизированы\n",
    "- пропусков и явных дубликатов в данных нет\n",
    "- типы данных соответствуют требованиям для последующей очистки и лемматизации комментариев\n",
    "- данные разделены на обучающую и тестовую выборки, рассчитана величина TF-IDF, обучены три модели. \n",
    "- построили модель со значением метрики качества F1 выше 0.75.\n",
    "\n",
    "Лучшая модель градиентного бустинга LGBMClassifier model_lgbm, которая имеет следующее значение метрики оценки качества:\n",
    "\n",
    "- метрика f1 на обучающей выборке: 0.766\n",
    "- метрика f1 на тестовой выборке: 0.771\n",
    "- модель: LGBMClassifier\n",
    "- количество деревьев: n_estimators = 300\n",
    "- глубина дерева: max_depth = 10\n",
    "- коэффициент скорости обучения: learning_rate = 0.15"
   ]
  }
 ],
 "metadata": {
  "ExecuteTimeLog": [
   {
    "duration": 1448,
    "start_time": "2023-06-06T14:23:58.742Z"
   },
   {
    "duration": 2436,
    "start_time": "2023-06-06T14:24:00.192Z"
   },
   {
    "duration": 31,
    "start_time": "2023-06-06T14:24:02.630Z"
   },
   {
    "duration": 28,
    "start_time": "2023-06-06T14:24:02.663Z"
   },
   {
    "duration": 33,
    "start_time": "2023-06-06T14:24:02.692Z"
   },
   {
    "duration": 284,
    "start_time": "2023-06-06T14:24:02.727Z"
   },
   {
    "duration": 6,
    "start_time": "2023-06-06T14:24:03.012Z"
   },
   {
    "duration": 9,
    "start_time": "2023-06-06T14:24:03.019Z"
   },
   {
    "duration": 19081,
    "start_time": "2023-06-06T14:24:03.030Z"
   },
   {
    "duration": 46,
    "start_time": "2023-06-06T14:24:22.113Z"
   },
   {
    "duration": 1395,
    "start_time": "2023-06-07T08:21:01.593Z"
   },
   {
    "duration": 3631,
    "start_time": "2023-06-07T08:21:02.991Z"
   },
   {
    "duration": 32,
    "start_time": "2023-06-07T08:21:06.623Z"
   },
   {
    "duration": 17,
    "start_time": "2023-06-07T08:21:06.656Z"
   },
   {
    "duration": 31,
    "start_time": "2023-06-07T08:21:06.678Z"
   },
   {
    "duration": 238,
    "start_time": "2023-06-07T08:21:06.711Z"
   },
   {
    "duration": 6,
    "start_time": "2023-06-07T08:21:06.950Z"
   },
   {
    "duration": 4,
    "start_time": "2023-06-07T08:21:06.957Z"
   },
   {
    "duration": 19964,
    "start_time": "2023-06-07T08:21:06.982Z"
   },
   {
    "duration": 47,
    "start_time": "2023-06-07T08:21:26.948Z"
   },
   {
    "duration": 7,
    "start_time": "2023-06-07T08:21:26.997Z"
   },
   {
    "duration": 19768,
    "start_time": "2023-06-07T08:21:27.005Z"
   },
   {
    "duration": 7,
    "start_time": "2023-06-07T08:21:46.776Z"
   },
   {
    "duration": 10,
    "start_time": "2023-06-07T08:21:46.790Z"
   },
   {
    "duration": 343,
    "start_time": "2023-06-07T08:21:46.802Z"
   },
   {
    "duration": 0,
    "start_time": "2023-06-07T08:21:47.147Z"
   },
   {
    "duration": 0,
    "start_time": "2023-06-07T08:21:47.150Z"
   },
   {
    "duration": 0,
    "start_time": "2023-06-07T08:21:47.151Z"
   },
   {
    "duration": 0,
    "start_time": "2023-06-07T08:21:47.153Z"
   },
   {
    "duration": 0,
    "start_time": "2023-06-07T08:21:47.155Z"
   },
   {
    "duration": 0,
    "start_time": "2023-06-07T08:21:47.156Z"
   },
   {
    "duration": 0,
    "start_time": "2023-06-07T08:21:47.158Z"
   },
   {
    "duration": 0,
    "start_time": "2023-06-07T08:21:47.160Z"
   },
   {
    "duration": 0,
    "start_time": "2023-06-07T08:21:47.161Z"
   },
   {
    "duration": 0,
    "start_time": "2023-06-07T08:21:47.163Z"
   },
   {
    "duration": 0,
    "start_time": "2023-06-07T08:21:47.165Z"
   },
   {
    "duration": 0,
    "start_time": "2023-06-07T08:21:47.166Z"
   },
   {
    "duration": 0,
    "start_time": "2023-06-07T08:21:47.169Z"
   },
   {
    "duration": 0,
    "start_time": "2023-06-07T08:21:47.170Z"
   },
   {
    "duration": 2186,
    "start_time": "2023-06-07T08:52:16.237Z"
   },
   {
    "duration": 1043,
    "start_time": "2023-06-07T08:52:18.425Z"
   },
   {
    "duration": 45,
    "start_time": "2023-06-07T08:52:19.470Z"
   },
   {
    "duration": 18,
    "start_time": "2023-06-07T08:52:19.518Z"
   },
   {
    "duration": 21,
    "start_time": "2023-06-07T08:52:19.538Z"
   },
   {
    "duration": 270,
    "start_time": "2023-06-07T08:52:19.576Z"
   },
   {
    "duration": 5,
    "start_time": "2023-06-07T08:52:19.848Z"
   },
   {
    "duration": 3,
    "start_time": "2023-06-07T08:52:19.855Z"
   },
   {
    "duration": 21328,
    "start_time": "2023-06-07T08:52:19.860Z"
   },
   {
    "duration": 44,
    "start_time": "2023-06-07T08:52:41.192Z"
   },
   {
    "duration": 3,
    "start_time": "2023-06-07T08:52:41.238Z"
   },
   {
    "duration": 20607,
    "start_time": "2023-06-07T08:52:41.243Z"
   },
   {
    "duration": 3,
    "start_time": "2023-06-07T08:53:01.853Z"
   },
   {
    "duration": 33,
    "start_time": "2023-06-07T08:53:01.858Z"
   },
   {
    "duration": 2753,
    "start_time": "2023-06-07T08:53:01.893Z"
   },
   {
    "duration": 0,
    "start_time": "2023-06-07T08:53:04.647Z"
   },
   {
    "duration": 0,
    "start_time": "2023-06-07T08:53:04.649Z"
   },
   {
    "duration": 0,
    "start_time": "2023-06-07T08:53:04.650Z"
   },
   {
    "duration": 0,
    "start_time": "2023-06-07T08:53:04.651Z"
   },
   {
    "duration": 0,
    "start_time": "2023-06-07T08:53:04.652Z"
   },
   {
    "duration": 0,
    "start_time": "2023-06-07T08:53:04.653Z"
   },
   {
    "duration": 0,
    "start_time": "2023-06-07T08:53:04.654Z"
   },
   {
    "duration": 0,
    "start_time": "2023-06-07T08:53:04.655Z"
   },
   {
    "duration": 0,
    "start_time": "2023-06-07T08:53:04.656Z"
   },
   {
    "duration": 0,
    "start_time": "2023-06-07T08:53:04.657Z"
   },
   {
    "duration": 0,
    "start_time": "2023-06-07T08:53:04.658Z"
   },
   {
    "duration": 0,
    "start_time": "2023-06-07T08:53:04.659Z"
   },
   {
    "duration": 0,
    "start_time": "2023-06-07T08:53:04.660Z"
   },
   {
    "duration": 0,
    "start_time": "2023-06-07T08:53:04.661Z"
   },
   {
    "duration": 2276,
    "start_time": "2023-06-07T08:54:46.560Z"
   },
   {
    "duration": 932,
    "start_time": "2023-06-07T08:54:48.838Z"
   },
   {
    "duration": 42,
    "start_time": "2023-06-07T08:54:49.772Z"
   },
   {
    "duration": 25,
    "start_time": "2023-06-07T08:54:49.816Z"
   },
   {
    "duration": 53,
    "start_time": "2023-06-07T08:54:49.843Z"
   },
   {
    "duration": 294,
    "start_time": "2023-06-07T08:54:49.898Z"
   },
   {
    "duration": 8,
    "start_time": "2023-06-07T08:54:50.194Z"
   },
   {
    "duration": 4,
    "start_time": "2023-06-07T08:54:50.204Z"
   },
   {
    "duration": 20534,
    "start_time": "2023-06-07T08:54:50.210Z"
   },
   {
    "duration": 53,
    "start_time": "2023-06-07T08:55:10.748Z"
   },
   {
    "duration": 4,
    "start_time": "2023-06-07T08:55:10.803Z"
   },
   {
    "duration": 19529,
    "start_time": "2023-06-07T08:55:10.809Z"
   },
   {
    "duration": 5,
    "start_time": "2023-06-07T08:55:30.340Z"
   },
   {
    "duration": 39,
    "start_time": "2023-06-07T08:55:30.347Z"
   },
   {
    "duration": 2754,
    "start_time": "2023-06-07T08:55:30.391Z"
   },
   {
    "duration": 0,
    "start_time": "2023-06-07T08:55:33.148Z"
   },
   {
    "duration": 0,
    "start_time": "2023-06-07T08:55:33.149Z"
   },
   {
    "duration": 0,
    "start_time": "2023-06-07T08:55:33.151Z"
   },
   {
    "duration": 0,
    "start_time": "2023-06-07T08:55:33.153Z"
   },
   {
    "duration": 0,
    "start_time": "2023-06-07T08:55:33.154Z"
   },
   {
    "duration": 0,
    "start_time": "2023-06-07T08:55:33.156Z"
   },
   {
    "duration": 0,
    "start_time": "2023-06-07T08:55:33.156Z"
   },
   {
    "duration": 0,
    "start_time": "2023-06-07T08:55:33.158Z"
   },
   {
    "duration": 0,
    "start_time": "2023-06-07T08:55:33.159Z"
   },
   {
    "duration": 0,
    "start_time": "2023-06-07T08:55:33.160Z"
   },
   {
    "duration": 0,
    "start_time": "2023-06-07T08:55:33.162Z"
   },
   {
    "duration": 0,
    "start_time": "2023-06-07T08:55:33.163Z"
   },
   {
    "duration": 0,
    "start_time": "2023-06-07T08:55:33.164Z"
   },
   {
    "duration": 0,
    "start_time": "2023-06-07T08:55:33.166Z"
   },
   {
    "duration": 0,
    "start_time": "2023-06-07T08:55:33.167Z"
   },
   {
    "duration": 1652,
    "start_time": "2023-06-07T08:56:59.161Z"
   },
   {
    "duration": 980,
    "start_time": "2023-06-07T08:57:00.815Z"
   },
   {
    "duration": 41,
    "start_time": "2023-06-07T08:57:01.799Z"
   },
   {
    "duration": 59,
    "start_time": "2023-06-07T08:57:01.843Z"
   },
   {
    "duration": 35,
    "start_time": "2023-06-07T08:57:01.905Z"
   },
   {
    "duration": 300,
    "start_time": "2023-06-07T08:57:01.942Z"
   },
   {
    "duration": 6,
    "start_time": "2023-06-07T08:57:02.244Z"
   },
   {
    "duration": 33,
    "start_time": "2023-06-07T08:57:02.251Z"
   },
   {
    "duration": 20381,
    "start_time": "2023-06-07T08:57:02.286Z"
   },
   {
    "duration": 52,
    "start_time": "2023-06-07T08:57:22.676Z"
   },
   {
    "duration": 3,
    "start_time": "2023-06-07T08:57:22.730Z"
   },
   {
    "duration": 19176,
    "start_time": "2023-06-07T08:57:22.735Z"
   },
   {
    "duration": 3,
    "start_time": "2023-06-07T08:57:41.913Z"
   },
   {
    "duration": 27,
    "start_time": "2023-06-07T08:57:41.917Z"
   },
   {
    "duration": 824,
    "start_time": "2023-06-07T08:57:41.945Z"
   },
   {
    "duration": 0,
    "start_time": "2023-06-07T08:57:42.770Z"
   },
   {
    "duration": 0,
    "start_time": "2023-06-07T08:57:42.771Z"
   },
   {
    "duration": 0,
    "start_time": "2023-06-07T08:57:42.772Z"
   },
   {
    "duration": 0,
    "start_time": "2023-06-07T08:57:42.774Z"
   },
   {
    "duration": 0,
    "start_time": "2023-06-07T08:57:42.777Z"
   },
   {
    "duration": 0,
    "start_time": "2023-06-07T08:57:42.777Z"
   },
   {
    "duration": 0,
    "start_time": "2023-06-07T08:57:42.778Z"
   },
   {
    "duration": 0,
    "start_time": "2023-06-07T08:57:42.779Z"
   },
   {
    "duration": 0,
    "start_time": "2023-06-07T08:57:42.779Z"
   },
   {
    "duration": 0,
    "start_time": "2023-06-07T08:57:42.780Z"
   },
   {
    "duration": 0,
    "start_time": "2023-06-07T08:57:42.791Z"
   },
   {
    "duration": 0,
    "start_time": "2023-06-07T08:57:42.792Z"
   },
   {
    "duration": 0,
    "start_time": "2023-06-07T08:57:42.793Z"
   },
   {
    "duration": 0,
    "start_time": "2023-06-07T08:57:42.794Z"
   },
   {
    "duration": 0,
    "start_time": "2023-06-07T08:57:42.796Z"
   },
   {
    "duration": 1565,
    "start_time": "2023-06-07T09:04:02.733Z"
   },
   {
    "duration": 1094,
    "start_time": "2023-06-07T09:04:04.301Z"
   },
   {
    "duration": 34,
    "start_time": "2023-06-07T09:04:05.397Z"
   },
   {
    "duration": 47,
    "start_time": "2023-06-07T09:04:05.433Z"
   },
   {
    "duration": 32,
    "start_time": "2023-06-07T09:04:05.487Z"
   },
   {
    "duration": 279,
    "start_time": "2023-06-07T09:04:05.520Z"
   },
   {
    "duration": 9,
    "start_time": "2023-06-07T09:04:05.802Z"
   },
   {
    "duration": 14,
    "start_time": "2023-06-07T09:04:05.814Z"
   },
   {
    "duration": 20947,
    "start_time": "2023-06-07T09:04:05.831Z"
   },
   {
    "duration": 54,
    "start_time": "2023-06-07T09:04:26.784Z"
   },
   {
    "duration": 3,
    "start_time": "2023-06-07T09:04:26.840Z"
   },
   {
    "duration": 20983,
    "start_time": "2023-06-07T09:04:26.845Z"
   },
   {
    "duration": 4,
    "start_time": "2023-06-07T09:04:47.830Z"
   },
   {
    "duration": 9,
    "start_time": "2023-06-07T09:04:47.838Z"
   },
   {
    "duration": 15,
    "start_time": "2023-06-07T09:04:47.850Z"
   },
   {
    "duration": 79,
    "start_time": "2023-06-07T09:04:47.867Z"
   },
   {
    "duration": 3,
    "start_time": "2023-06-07T09:04:47.949Z"
   },
   {
    "duration": 96,
    "start_time": "2023-06-07T09:04:47.954Z"
   },
   {
    "duration": 1279,
    "start_time": "2023-06-07T09:04:48.052Z"
   },
   {
    "duration": 0,
    "start_time": "2023-06-07T09:04:49.334Z"
   },
   {
    "duration": 0,
    "start_time": "2023-06-07T09:04:49.335Z"
   },
   {
    "duration": 0,
    "start_time": "2023-06-07T09:04:49.337Z"
   },
   {
    "duration": 0,
    "start_time": "2023-06-07T09:04:49.338Z"
   },
   {
    "duration": 0,
    "start_time": "2023-06-07T09:04:49.340Z"
   },
   {
    "duration": 0,
    "start_time": "2023-06-07T09:04:49.341Z"
   },
   {
    "duration": 0,
    "start_time": "2023-06-07T09:04:49.342Z"
   },
   {
    "duration": 0,
    "start_time": "2023-06-07T09:04:49.343Z"
   },
   {
    "duration": 0,
    "start_time": "2023-06-07T09:04:49.344Z"
   },
   {
    "duration": 0,
    "start_time": "2023-06-07T09:04:49.345Z"
   },
   {
    "duration": 1825,
    "start_time": "2023-06-07T09:14:08.070Z"
   },
   {
    "duration": 1020,
    "start_time": "2023-06-07T09:14:09.899Z"
   },
   {
    "duration": 35,
    "start_time": "2023-06-07T09:14:10.920Z"
   },
   {
    "duration": 32,
    "start_time": "2023-06-07T09:14:10.958Z"
   },
   {
    "duration": 26,
    "start_time": "2023-06-07T09:14:10.992Z"
   },
   {
    "duration": 291,
    "start_time": "2023-06-07T09:14:11.020Z"
   },
   {
    "duration": 9,
    "start_time": "2023-06-07T09:14:11.313Z"
   },
   {
    "duration": 18,
    "start_time": "2023-06-07T09:14:11.324Z"
   },
   {
    "duration": 20164,
    "start_time": "2023-06-07T09:14:11.344Z"
   },
   {
    "duration": 41,
    "start_time": "2023-06-07T09:14:31.511Z"
   },
   {
    "duration": 16,
    "start_time": "2023-06-07T09:14:31.554Z"
   },
   {
    "duration": 20260,
    "start_time": "2023-06-07T09:14:31.575Z"
   },
   {
    "duration": 4,
    "start_time": "2023-06-07T09:14:51.837Z"
   },
   {
    "duration": 26,
    "start_time": "2023-06-07T09:14:51.843Z"
   },
   {
    "duration": 387,
    "start_time": "2023-06-07T09:14:51.871Z"
   },
   {
    "duration": 0,
    "start_time": "2023-06-07T09:14:52.260Z"
   },
   {
    "duration": 0,
    "start_time": "2023-06-07T09:14:52.262Z"
   },
   {
    "duration": 0,
    "start_time": "2023-06-07T09:14:52.263Z"
   },
   {
    "duration": 0,
    "start_time": "2023-06-07T09:14:52.264Z"
   },
   {
    "duration": 0,
    "start_time": "2023-06-07T09:14:52.265Z"
   },
   {
    "duration": 0,
    "start_time": "2023-06-07T09:14:52.266Z"
   },
   {
    "duration": 0,
    "start_time": "2023-06-07T09:14:52.267Z"
   },
   {
    "duration": 0,
    "start_time": "2023-06-07T09:14:52.269Z"
   },
   {
    "duration": 0,
    "start_time": "2023-06-07T09:14:52.270Z"
   },
   {
    "duration": 0,
    "start_time": "2023-06-07T09:14:52.271Z"
   },
   {
    "duration": 0,
    "start_time": "2023-06-07T09:14:52.272Z"
   },
   {
    "duration": 0,
    "start_time": "2023-06-07T09:14:52.274Z"
   },
   {
    "duration": 0,
    "start_time": "2023-06-07T09:14:52.275Z"
   },
   {
    "duration": 0,
    "start_time": "2023-06-07T09:14:52.277Z"
   },
   {
    "duration": 0,
    "start_time": "2023-06-07T09:14:52.278Z"
   },
   {
    "duration": 1531,
    "start_time": "2023-06-07T09:15:39.856Z"
   },
   {
    "duration": 970,
    "start_time": "2023-06-07T09:15:41.389Z"
   },
   {
    "duration": 36,
    "start_time": "2023-06-07T09:15:42.360Z"
   },
   {
    "duration": 18,
    "start_time": "2023-06-07T09:15:42.398Z"
   },
   {
    "duration": 22,
    "start_time": "2023-06-07T09:15:42.418Z"
   },
   {
    "duration": 284,
    "start_time": "2023-06-07T09:15:42.442Z"
   },
   {
    "duration": 5,
    "start_time": "2023-06-07T09:15:42.728Z"
   },
   {
    "duration": 12,
    "start_time": "2023-06-07T09:15:42.735Z"
   },
   {
    "duration": 21646,
    "start_time": "2023-06-07T09:15:42.748Z"
   },
   {
    "duration": 40,
    "start_time": "2023-06-07T09:16:04.399Z"
   },
   {
    "duration": 3,
    "start_time": "2023-06-07T09:16:04.441Z"
   },
   {
    "duration": 20125,
    "start_time": "2023-06-07T09:16:04.446Z"
   },
   {
    "duration": 9,
    "start_time": "2023-06-07T09:16:24.572Z"
   },
   {
    "duration": 12,
    "start_time": "2023-06-07T09:16:24.585Z"
   },
   {
    "duration": 5,
    "start_time": "2023-06-07T09:16:24.600Z"
   },
   {
    "duration": 47,
    "start_time": "2023-06-07T09:16:24.609Z"
   },
   {
    "duration": 2,
    "start_time": "2023-06-07T09:16:24.658Z"
   },
   {
    "duration": 76,
    "start_time": "2023-06-07T09:16:24.662Z"
   },
   {
    "duration": 5149,
    "start_time": "2023-06-07T09:16:24.740Z"
   },
   {
    "duration": 130,
    "start_time": "2023-06-07T09:16:29.895Z"
   },
   {
    "duration": 0,
    "start_time": "2023-06-07T09:16:30.026Z"
   },
   {
    "duration": 0,
    "start_time": "2023-06-07T09:16:30.027Z"
   },
   {
    "duration": 0,
    "start_time": "2023-06-07T09:16:30.028Z"
   },
   {
    "duration": 0,
    "start_time": "2023-06-07T09:16:30.029Z"
   },
   {
    "duration": 0,
    "start_time": "2023-06-07T09:16:30.030Z"
   },
   {
    "duration": 0,
    "start_time": "2023-06-07T09:16:30.031Z"
   },
   {
    "duration": 0,
    "start_time": "2023-06-07T09:16:30.032Z"
   },
   {
    "duration": 0,
    "start_time": "2023-06-07T09:16:30.033Z"
   },
   {
    "duration": 1597,
    "start_time": "2023-06-07T09:20:57.227Z"
   },
   {
    "duration": 1041,
    "start_time": "2023-06-07T09:20:58.826Z"
   },
   {
    "duration": 41,
    "start_time": "2023-06-07T09:20:59.869Z"
   },
   {
    "duration": 17,
    "start_time": "2023-06-07T09:20:59.913Z"
   },
   {
    "duration": 23,
    "start_time": "2023-06-07T09:20:59.932Z"
   },
   {
    "duration": 296,
    "start_time": "2023-06-07T09:20:59.975Z"
   },
   {
    "duration": 10,
    "start_time": "2023-06-07T09:21:00.273Z"
   },
   {
    "duration": 32,
    "start_time": "2023-06-07T09:21:00.285Z"
   },
   {
    "duration": 21764,
    "start_time": "2023-06-07T09:21:00.320Z"
   },
   {
    "duration": 60,
    "start_time": "2023-06-07T09:21:22.086Z"
   },
   {
    "duration": 3,
    "start_time": "2023-06-07T09:21:22.148Z"
   },
   {
    "duration": 21748,
    "start_time": "2023-06-07T09:21:22.153Z"
   },
   {
    "duration": 3,
    "start_time": "2023-06-07T09:21:43.903Z"
   },
   {
    "duration": 6,
    "start_time": "2023-06-07T09:21:43.909Z"
   },
   {
    "duration": 8,
    "start_time": "2023-06-07T09:21:43.917Z"
   },
   {
    "duration": 91,
    "start_time": "2023-06-07T09:21:43.927Z"
   },
   {
    "duration": 12,
    "start_time": "2023-06-07T09:21:44.020Z"
   },
   {
    "duration": 115,
    "start_time": "2023-06-07T09:21:44.034Z"
   },
   {
    "duration": 5460,
    "start_time": "2023-06-07T09:21:44.152Z"
   },
   {
    "duration": 56721,
    "start_time": "2023-06-07T09:21:49.614Z"
   },
   {
    "duration": 145,
    "start_time": "2023-06-07T09:22:46.338Z"
   },
   {
    "duration": 0,
    "start_time": "2023-06-07T09:22:46.485Z"
   },
   {
    "duration": 0,
    "start_time": "2023-06-07T09:22:46.486Z"
   },
   {
    "duration": 0,
    "start_time": "2023-06-07T09:22:46.487Z"
   },
   {
    "duration": 0,
    "start_time": "2023-06-07T09:22:46.489Z"
   },
   {
    "duration": 0,
    "start_time": "2023-06-07T09:22:46.490Z"
   },
   {
    "duration": 0,
    "start_time": "2023-06-07T09:22:46.491Z"
   },
   {
    "duration": 1286,
    "start_time": "2023-06-07T09:32:40.726Z"
   },
   {
    "duration": 902,
    "start_time": "2023-06-07T09:32:42.014Z"
   },
   {
    "duration": 29,
    "start_time": "2023-06-07T09:32:42.917Z"
   },
   {
    "duration": 15,
    "start_time": "2023-06-07T09:32:42.948Z"
   },
   {
    "duration": 25,
    "start_time": "2023-06-07T09:32:42.975Z"
   },
   {
    "duration": 240,
    "start_time": "2023-06-07T09:32:43.002Z"
   },
   {
    "duration": 6,
    "start_time": "2023-06-07T09:32:43.243Z"
   },
   {
    "duration": 3,
    "start_time": "2023-06-07T09:32:43.250Z"
   },
   {
    "duration": 7712,
    "start_time": "2023-06-07T09:32:43.254Z"
   },
   {
    "duration": 0,
    "start_time": "2023-06-07T09:32:50.968Z"
   },
   {
    "duration": 0,
    "start_time": "2023-06-07T09:32:50.969Z"
   },
   {
    "duration": 0,
    "start_time": "2023-06-07T09:32:50.970Z"
   },
   {
    "duration": 0,
    "start_time": "2023-06-07T09:32:50.971Z"
   },
   {
    "duration": 0,
    "start_time": "2023-06-07T09:32:50.972Z"
   },
   {
    "duration": 0,
    "start_time": "2023-06-07T09:32:50.973Z"
   },
   {
    "duration": 0,
    "start_time": "2023-06-07T09:32:50.974Z"
   },
   {
    "duration": 0,
    "start_time": "2023-06-07T09:32:50.975Z"
   },
   {
    "duration": 0,
    "start_time": "2023-06-07T09:32:50.975Z"
   },
   {
    "duration": 0,
    "start_time": "2023-06-07T09:32:50.979Z"
   },
   {
    "duration": 0,
    "start_time": "2023-06-07T09:32:50.980Z"
   },
   {
    "duration": 0,
    "start_time": "2023-06-07T09:32:50.980Z"
   },
   {
    "duration": 0,
    "start_time": "2023-06-07T09:32:50.982Z"
   },
   {
    "duration": 0,
    "start_time": "2023-06-07T09:32:50.984Z"
   },
   {
    "duration": 0,
    "start_time": "2023-06-07T09:32:50.985Z"
   },
   {
    "duration": 0,
    "start_time": "2023-06-07T09:32:50.986Z"
   },
   {
    "duration": 0,
    "start_time": "2023-06-07T09:32:50.990Z"
   },
   {
    "duration": 1324,
    "start_time": "2023-06-07T09:33:14.220Z"
   },
   {
    "duration": 904,
    "start_time": "2023-06-07T09:33:15.546Z"
   },
   {
    "duration": 35,
    "start_time": "2023-06-07T09:33:16.452Z"
   },
   {
    "duration": 16,
    "start_time": "2023-06-07T09:33:16.489Z"
   },
   {
    "duration": 20,
    "start_time": "2023-06-07T09:33:16.506Z"
   },
   {
    "duration": 263,
    "start_time": "2023-06-07T09:33:16.528Z"
   },
   {
    "duration": 5,
    "start_time": "2023-06-07T09:33:16.793Z"
   },
   {
    "duration": 4,
    "start_time": "2023-06-07T09:33:16.800Z"
   },
   {
    "duration": 19198,
    "start_time": "2023-06-07T09:33:16.806Z"
   },
   {
    "duration": 39,
    "start_time": "2023-06-07T09:33:36.007Z"
   },
   {
    "duration": 4,
    "start_time": "2023-06-07T09:33:36.047Z"
   },
   {
    "duration": 18437,
    "start_time": "2023-06-07T09:33:36.053Z"
   },
   {
    "duration": 3,
    "start_time": "2023-06-07T09:33:54.492Z"
   },
   {
    "duration": 10,
    "start_time": "2023-06-07T09:33:54.497Z"
   },
   {
    "duration": 12,
    "start_time": "2023-06-07T09:33:54.508Z"
   },
   {
    "duration": 65,
    "start_time": "2023-06-07T09:33:54.522Z"
   },
   {
    "duration": 2,
    "start_time": "2023-06-07T09:33:54.589Z"
   },
   {
    "duration": 60,
    "start_time": "2023-06-07T09:33:54.592Z"
   },
   {
    "duration": 4839,
    "start_time": "2023-06-07T09:33:54.654Z"
   },
   {
    "duration": 57619,
    "start_time": "2023-06-07T09:33:59.494Z"
   },
   {
    "duration": 81683,
    "start_time": "2023-06-07T09:34:57.114Z"
   },
   {
    "duration": 7578436,
    "start_time": "2023-06-07T09:36:18.799Z"
   },
   {
    "duration": 140,
    "start_time": "2023-06-07T11:42:37.236Z"
   },
   {
    "duration": 0,
    "start_time": "2023-06-07T11:42:37.377Z"
   },
   {
    "duration": 3,
    "start_time": "2023-06-07T11:50:45.591Z"
   },
   {
    "duration": 10,
    "start_time": "2023-06-07T11:50:53.897Z"
   },
   {
    "duration": 1416,
    "start_time": "2023-06-07T11:59:51.743Z"
   },
   {
    "duration": 928,
    "start_time": "2023-06-07T11:59:53.161Z"
   },
   {
    "duration": 40,
    "start_time": "2023-06-07T11:59:54.091Z"
   },
   {
    "duration": 21,
    "start_time": "2023-06-07T11:59:54.134Z"
   },
   {
    "duration": 42,
    "start_time": "2023-06-07T11:59:54.157Z"
   },
   {
    "duration": 264,
    "start_time": "2023-06-07T11:59:54.201Z"
   },
   {
    "duration": 11,
    "start_time": "2023-06-07T11:59:54.466Z"
   },
   {
    "duration": 4,
    "start_time": "2023-06-07T11:59:54.478Z"
   },
   {
    "duration": 18651,
    "start_time": "2023-06-07T11:59:54.483Z"
   },
   {
    "duration": 47,
    "start_time": "2023-06-07T12:00:13.136Z"
   },
   {
    "duration": 3,
    "start_time": "2023-06-07T12:00:13.185Z"
   },
   {
    "duration": 18093,
    "start_time": "2023-06-07T12:00:13.189Z"
   },
   {
    "duration": 3,
    "start_time": "2023-06-07T12:00:31.284Z"
   },
   {
    "duration": 29,
    "start_time": "2023-06-07T12:00:31.290Z"
   },
   {
    "duration": 52,
    "start_time": "2023-06-07T12:00:31.320Z"
   },
   {
    "duration": 91,
    "start_time": "2023-06-07T12:00:31.374Z"
   },
   {
    "duration": 3,
    "start_time": "2023-06-07T12:00:31.466Z"
   },
   {
    "duration": 88,
    "start_time": "2023-06-07T12:00:31.471Z"
   },
   {
    "duration": 4604,
    "start_time": "2023-06-07T12:00:31.561Z"
   },
   {
    "duration": 61734,
    "start_time": "2023-06-07T12:00:36.166Z"
   },
   {
    "duration": 75963,
    "start_time": "2023-06-07T12:01:37.902Z"
   },
   {
    "duration": 6806534,
    "start_time": "2023-06-07T12:02:53.867Z"
   },
   {
    "duration": 2,
    "start_time": "2023-06-07T13:56:20.403Z"
   },
   {
    "duration": 23,
    "start_time": "2023-06-07T13:56:20.407Z"
   },
   {
    "duration": 1659,
    "start_time": "2023-06-07T19:38:02.426Z"
   },
   {
    "duration": 3952,
    "start_time": "2023-06-07T19:38:04.088Z"
   },
   {
    "duration": 38,
    "start_time": "2023-06-07T19:38:08.043Z"
   },
   {
    "duration": 22,
    "start_time": "2023-06-07T19:38:08.084Z"
   },
   {
    "duration": 49,
    "start_time": "2023-06-07T19:38:08.108Z"
   },
   {
    "duration": 320,
    "start_time": "2023-06-07T19:38:08.160Z"
   },
   {
    "duration": 8,
    "start_time": "2023-06-07T19:38:08.482Z"
   },
   {
    "duration": 7,
    "start_time": "2023-06-07T19:38:08.492Z"
   },
   {
    "duration": 19240,
    "start_time": "2023-06-07T19:38:08.502Z"
   },
   {
    "duration": 45,
    "start_time": "2023-06-07T19:38:27.744Z"
   },
   {
    "duration": 4,
    "start_time": "2023-06-07T19:38:27.790Z"
   },
   {
    "duration": 20561,
    "start_time": "2023-06-07T19:38:27.795Z"
   },
   {
    "duration": 5,
    "start_time": "2023-06-07T19:38:48.372Z"
   },
   {
    "duration": 57,
    "start_time": "2023-06-07T19:38:48.378Z"
   },
   {
    "duration": 3,
    "start_time": "2023-06-07T19:38:48.436Z"
   },
   {
    "duration": 82,
    "start_time": "2023-06-07T19:38:48.441Z"
   },
   {
    "duration": 5090,
    "start_time": "2023-06-07T19:38:48.525Z"
   },
   {
    "duration": 57991,
    "start_time": "2023-06-07T19:38:53.617Z"
   },
   {
    "duration": 83086,
    "start_time": "2023-06-07T19:39:51.610Z"
   },
   {
    "duration": 7406710,
    "start_time": "2023-06-07T19:41:14.699Z"
   },
   {
    "duration": 3,
    "start_time": "2023-06-07T21:44:41.457Z"
   },
   {
    "duration": 15,
    "start_time": "2023-06-07T21:44:41.461Z"
   },
   {
    "duration": 1357,
    "start_time": "2023-06-08T07:13:15.689Z"
   },
   {
    "duration": 2380,
    "start_time": "2023-06-08T07:13:17.048Z"
   },
   {
    "duration": 23,
    "start_time": "2023-06-08T07:13:19.429Z"
   },
   {
    "duration": 15,
    "start_time": "2023-06-08T07:13:19.453Z"
   },
   {
    "duration": 31,
    "start_time": "2023-06-08T07:13:19.470Z"
   },
   {
    "duration": 227,
    "start_time": "2023-06-08T07:13:19.502Z"
   },
   {
    "duration": 5,
    "start_time": "2023-06-08T07:13:19.730Z"
   },
   {
    "duration": 12,
    "start_time": "2023-06-08T07:13:19.736Z"
   },
   {
    "duration": 16935,
    "start_time": "2023-06-08T07:13:19.750Z"
   },
   {
    "duration": 27,
    "start_time": "2023-06-08T07:13:36.687Z"
   },
   {
    "duration": 8,
    "start_time": "2023-06-08T07:13:36.715Z"
   },
   {
    "duration": 16807,
    "start_time": "2023-06-08T07:13:36.724Z"
   },
   {
    "duration": 34,
    "start_time": "2023-06-08T07:13:53.533Z"
   },
   {
    "duration": 2,
    "start_time": "2023-06-08T07:13:53.569Z"
   },
   {
    "duration": 69,
    "start_time": "2023-06-08T07:13:53.585Z"
   },
   {
    "duration": 4079,
    "start_time": "2023-06-08T07:13:53.655Z"
   },
   {
    "duration": 51563,
    "start_time": "2023-06-08T07:13:57.736Z"
   },
   {
    "duration": 74160,
    "start_time": "2023-06-08T07:14:49.301Z"
   },
   {
    "duration": 5472450,
    "start_time": "2023-06-08T07:16:03.464Z"
   },
   {
    "duration": 3,
    "start_time": "2023-06-08T08:47:15.915Z"
   },
   {
    "duration": 67,
    "start_time": "2023-06-08T08:47:15.919Z"
   },
   {
    "duration": 1332,
    "start_time": "2023-06-08T09:33:23.545Z"
   },
   {
    "duration": 866,
    "start_time": "2023-06-08T09:33:24.880Z"
   },
   {
    "duration": 26,
    "start_time": "2023-06-08T09:33:25.748Z"
   },
   {
    "duration": 24,
    "start_time": "2023-06-08T09:33:25.776Z"
   },
   {
    "duration": 20,
    "start_time": "2023-06-08T09:33:25.802Z"
   },
   {
    "duration": 290,
    "start_time": "2023-06-08T09:33:25.824Z"
   },
   {
    "duration": 9,
    "start_time": "2023-06-08T09:33:26.116Z"
   },
   {
    "duration": 23,
    "start_time": "2023-06-08T09:33:26.128Z"
   },
   {
    "duration": 17383,
    "start_time": "2023-06-08T09:33:26.153Z"
   },
   {
    "duration": 29,
    "start_time": "2023-06-08T09:33:43.539Z"
   },
   {
    "duration": 15,
    "start_time": "2023-06-08T09:33:43.570Z"
   },
   {
    "duration": 18490,
    "start_time": "2023-06-08T09:33:43.586Z"
   },
   {
    "duration": 38,
    "start_time": "2023-06-08T09:34:02.078Z"
   },
   {
    "duration": 38,
    "start_time": "2023-06-08T09:34:02.117Z"
   },
   {
    "duration": 94,
    "start_time": "2023-06-08T09:34:02.157Z"
   },
   {
    "duration": 4330,
    "start_time": "2023-06-08T09:34:02.252Z"
   },
   {
    "duration": 50215,
    "start_time": "2023-06-08T09:34:06.584Z"
   },
   {
    "duration": 76260,
    "start_time": "2023-06-08T09:34:56.801Z"
   },
   {
    "duration": 8355641,
    "start_time": "2023-06-08T09:36:13.063Z"
   },
   {
    "duration": 8,
    "start_time": "2023-06-08T11:55:28.705Z"
   },
   {
    "duration": 15,
    "start_time": "2023-06-08T11:55:28.714Z"
   },
   {
    "duration": 1538,
    "start_time": "2023-06-08T13:30:04.997Z"
   },
   {
    "duration": 863,
    "start_time": "2023-06-08T13:30:06.536Z"
   },
   {
    "duration": 22,
    "start_time": "2023-06-08T13:30:07.401Z"
   },
   {
    "duration": 20,
    "start_time": "2023-06-08T13:30:07.425Z"
   },
   {
    "duration": 19,
    "start_time": "2023-06-08T13:30:07.448Z"
   },
   {
    "duration": 254,
    "start_time": "2023-06-08T13:30:07.469Z"
   },
   {
    "duration": 5,
    "start_time": "2023-06-08T13:30:07.725Z"
   },
   {
    "duration": 16,
    "start_time": "2023-06-08T13:30:07.731Z"
   },
   {
    "duration": 16639,
    "start_time": "2023-06-08T13:30:07.748Z"
   },
   {
    "duration": 29,
    "start_time": "2023-06-08T13:30:24.399Z"
   },
   {
    "duration": 3,
    "start_time": "2023-06-08T13:30:24.429Z"
   },
   {
    "duration": 18580,
    "start_time": "2023-06-08T13:30:24.433Z"
   },
   {
    "duration": 34,
    "start_time": "2023-06-08T13:30:43.015Z"
   },
   {
    "duration": 3,
    "start_time": "2023-06-08T13:30:43.051Z"
   },
   {
    "duration": 95,
    "start_time": "2023-06-08T13:30:43.055Z"
   },
   {
    "duration": 4128,
    "start_time": "2023-06-08T13:30:43.152Z"
   },
   {
    "duration": 53722,
    "start_time": "2023-06-08T13:30:47.281Z"
   },
   {
    "duration": 73336,
    "start_time": "2023-06-08T13:31:41.005Z"
   },
   {
    "duration": 1382,
    "start_time": "2023-06-09T06:18:38.893Z"
   },
   {
    "duration": 3554,
    "start_time": "2023-06-09T06:18:40.276Z"
   },
   {
    "duration": 32,
    "start_time": "2023-06-09T06:18:43.832Z"
   },
   {
    "duration": 18,
    "start_time": "2023-06-09T06:18:43.866Z"
   },
   {
    "duration": 22,
    "start_time": "2023-06-09T06:18:43.885Z"
   },
   {
    "duration": 296,
    "start_time": "2023-06-09T06:18:43.909Z"
   },
   {
    "duration": 7,
    "start_time": "2023-06-09T06:18:44.207Z"
   },
   {
    "duration": 4,
    "start_time": "2023-06-09T06:18:44.216Z"
   },
   {
    "duration": 19358,
    "start_time": "2023-06-09T06:18:44.221Z"
   },
   {
    "duration": 39,
    "start_time": "2023-06-09T06:19:03.582Z"
   },
   {
    "duration": 3,
    "start_time": "2023-06-09T06:19:03.623Z"
   },
   {
    "duration": 19164,
    "start_time": "2023-06-09T06:19:03.628Z"
   },
   {
    "duration": 46,
    "start_time": "2023-06-09T06:19:22.794Z"
   },
   {
    "duration": 2,
    "start_time": "2023-06-09T06:19:22.842Z"
   },
   {
    "duration": 71,
    "start_time": "2023-06-09T06:19:22.846Z"
   },
   {
    "duration": 4519,
    "start_time": "2023-06-09T06:19:22.919Z"
   },
   {
    "duration": 61170,
    "start_time": "2023-06-09T06:19:27.440Z"
   },
   {
    "duration": 82767,
    "start_time": "2023-06-09T06:20:28.612Z"
   },
   {
    "duration": 8883561,
    "start_time": "2023-06-09T06:21:51.381Z"
   },
   {
    "duration": 0,
    "start_time": "2023-06-09T08:49:54.944Z"
   },
   {
    "duration": 0,
    "start_time": "2023-06-09T08:49:54.945Z"
   },
   {
    "duration": 4600,
    "start_time": "2023-06-09T08:50:15.139Z"
   },
   {
    "duration": 4501,
    "start_time": "2023-06-09T08:50:19.740Z"
   },
   {
    "duration": 39,
    "start_time": "2023-06-09T08:50:24.243Z"
   },
   {
    "duration": 29,
    "start_time": "2023-06-09T08:50:24.283Z"
   },
   {
    "duration": 29,
    "start_time": "2023-06-09T08:50:24.315Z"
   },
   {
    "duration": 278,
    "start_time": "2023-06-09T08:50:24.346Z"
   },
   {
    "duration": 5,
    "start_time": "2023-06-09T08:50:24.626Z"
   },
   {
    "duration": 3,
    "start_time": "2023-06-09T08:50:24.633Z"
   },
   {
    "duration": 22409,
    "start_time": "2023-06-09T08:50:24.638Z"
   },
   {
    "duration": 56,
    "start_time": "2023-06-09T08:50:47.049Z"
   },
   {
    "duration": 4,
    "start_time": "2023-06-09T08:50:47.108Z"
   },
   {
    "duration": 21758,
    "start_time": "2023-06-09T08:50:47.114Z"
   },
   {
    "duration": 61,
    "start_time": "2023-06-09T08:51:08.875Z"
   },
   {
    "duration": 2,
    "start_time": "2023-06-09T08:51:08.939Z"
   },
   {
    "duration": 87,
    "start_time": "2023-06-09T08:51:08.942Z"
   },
   {
    "duration": 5608,
    "start_time": "2023-06-09T08:51:09.031Z"
   },
   {
    "duration": 55275,
    "start_time": "2023-06-09T08:51:14.641Z"
   },
   {
    "duration": 98746,
    "start_time": "2023-06-09T08:52:09.918Z"
   },
   {
    "duration": 924204,
    "start_time": "2023-06-09T08:53:48.666Z"
   },
   {
    "duration": 0,
    "start_time": "2023-06-09T09:09:12.872Z"
   },
   {
    "duration": 0,
    "start_time": "2023-06-09T09:09:12.874Z"
   },
   {
    "duration": 0,
    "start_time": "2023-06-09T09:09:12.875Z"
   },
   {
    "duration": 2532,
    "start_time": "2023-06-09T09:11:00.133Z"
   },
   {
    "duration": 4630,
    "start_time": "2023-06-09T09:11:02.667Z"
   },
   {
    "duration": 35,
    "start_time": "2023-06-09T09:11:07.304Z"
   },
   {
    "duration": 11,
    "start_time": "2023-06-09T09:11:07.342Z"
   },
   {
    "duration": 42,
    "start_time": "2023-06-09T09:11:07.355Z"
   },
   {
    "duration": 21,
    "start_time": "2023-06-09T09:11:07.399Z"
   },
   {
    "duration": 21,
    "start_time": "2023-06-09T09:11:07.421Z"
   },
   {
    "duration": 272,
    "start_time": "2023-06-09T09:11:07.444Z"
   },
   {
    "duration": 8,
    "start_time": "2023-06-09T09:11:07.717Z"
   },
   {
    "duration": 10,
    "start_time": "2023-06-09T09:11:07.728Z"
   },
   {
    "duration": 21912,
    "start_time": "2023-06-09T09:11:07.739Z"
   },
   {
    "duration": 58,
    "start_time": "2023-06-09T09:11:29.653Z"
   },
   {
    "duration": 4,
    "start_time": "2023-06-09T09:11:29.713Z"
   },
   {
    "duration": 21660,
    "start_time": "2023-06-09T09:11:29.718Z"
   },
   {
    "duration": 65,
    "start_time": "2023-06-09T09:11:51.380Z"
   },
   {
    "duration": 3,
    "start_time": "2023-06-09T09:11:51.446Z"
   },
   {
    "duration": 91,
    "start_time": "2023-06-09T09:11:51.450Z"
   },
   {
    "duration": 5505,
    "start_time": "2023-06-09T09:11:51.543Z"
   },
   {
    "duration": 56987,
    "start_time": "2023-06-09T09:11:57.050Z"
   },
   {
    "duration": 86818,
    "start_time": "2023-06-09T09:12:54.039Z"
   },
   {
    "duration": 843583,
    "start_time": "2023-06-09T09:14:20.859Z"
   },
   {
    "duration": 0,
    "start_time": "2023-06-09T09:28:24.444Z"
   },
   {
    "duration": 0,
    "start_time": "2023-06-09T09:28:24.445Z"
   },
   {
    "duration": 0,
    "start_time": "2023-06-09T09:28:24.446Z"
   },
   {
    "duration": 1444,
    "start_time": "2023-06-09T09:29:10.075Z"
   },
   {
    "duration": 997,
    "start_time": "2023-06-09T09:29:11.521Z"
   },
   {
    "duration": 29,
    "start_time": "2023-06-09T09:29:12.520Z"
   },
   {
    "duration": 41,
    "start_time": "2023-06-09T09:29:12.550Z"
   },
   {
    "duration": 7,
    "start_time": "2023-06-09T09:29:12.593Z"
   },
   {
    "duration": 14,
    "start_time": "2023-06-09T09:29:12.601Z"
   },
   {
    "duration": 24,
    "start_time": "2023-06-09T09:29:12.617Z"
   },
   {
    "duration": 276,
    "start_time": "2023-06-09T09:29:12.642Z"
   },
   {
    "duration": 7,
    "start_time": "2023-06-09T09:29:12.920Z"
   },
   {
    "duration": 29,
    "start_time": "2023-06-09T09:29:12.929Z"
   },
   {
    "duration": 21297,
    "start_time": "2023-06-09T09:29:12.960Z"
   },
   {
    "duration": 52,
    "start_time": "2023-06-09T09:29:34.259Z"
   },
   {
    "duration": 4,
    "start_time": "2023-06-09T09:29:34.313Z"
   },
   {
    "duration": 20301,
    "start_time": "2023-06-09T09:29:34.321Z"
   },
   {
    "duration": 69,
    "start_time": "2023-06-09T09:29:54.624Z"
   },
   {
    "duration": 3,
    "start_time": "2023-06-09T09:29:54.695Z"
   },
   {
    "duration": 63,
    "start_time": "2023-06-09T09:29:54.699Z"
   },
   {
    "duration": 5167,
    "start_time": "2023-06-09T09:29:54.764Z"
   },
   {
    "duration": 22314,
    "start_time": "2023-06-09T09:29:59.933Z"
   },
   {
    "duration": 0,
    "start_time": "2023-06-09T09:30:22.249Z"
   },
   {
    "duration": 0,
    "start_time": "2023-06-09T09:30:22.251Z"
   },
   {
    "duration": 0,
    "start_time": "2023-06-09T09:30:22.253Z"
   },
   {
    "duration": 1491,
    "start_time": "2023-06-09T09:30:25.494Z"
   },
   {
    "duration": 1020,
    "start_time": "2023-06-09T09:30:26.991Z"
   },
   {
    "duration": 35,
    "start_time": "2023-06-09T09:30:28.012Z"
   },
   {
    "duration": 34,
    "start_time": "2023-06-09T09:30:28.049Z"
   },
   {
    "duration": 10,
    "start_time": "2023-06-09T09:30:28.093Z"
   },
   {
    "duration": 19,
    "start_time": "2023-06-09T09:30:28.105Z"
   },
   {
    "duration": 32,
    "start_time": "2023-06-09T09:30:28.127Z"
   },
   {
    "duration": 290,
    "start_time": "2023-06-09T09:30:28.161Z"
   },
   {
    "duration": 9,
    "start_time": "2023-06-09T09:30:28.453Z"
   },
   {
    "duration": 10,
    "start_time": "2023-06-09T09:30:28.478Z"
   },
   {
    "duration": 20524,
    "start_time": "2023-06-09T09:30:28.490Z"
   },
   {
    "duration": 41,
    "start_time": "2023-06-09T09:30:49.015Z"
   },
   {
    "duration": 13,
    "start_time": "2023-06-09T09:30:49.057Z"
   },
   {
    "duration": 19632,
    "start_time": "2023-06-09T09:30:49.075Z"
   },
   {
    "duration": 56,
    "start_time": "2023-06-09T09:31:08.709Z"
   },
   {
    "duration": 14,
    "start_time": "2023-06-09T09:31:08.766Z"
   },
   {
    "duration": 74,
    "start_time": "2023-06-09T09:31:08.788Z"
   },
   {
    "duration": 5271,
    "start_time": "2023-06-09T09:31:08.863Z"
   },
   {
    "duration": 1508,
    "start_time": "2023-06-09T09:31:18.942Z"
   },
   {
    "duration": 1009,
    "start_time": "2023-06-09T09:31:20.451Z"
   },
   {
    "duration": 41,
    "start_time": "2023-06-09T09:31:21.461Z"
   },
   {
    "duration": 14,
    "start_time": "2023-06-09T09:31:21.503Z"
   },
   {
    "duration": 7,
    "start_time": "2023-06-09T09:31:21.519Z"
   },
   {
    "duration": 20,
    "start_time": "2023-06-09T09:31:21.528Z"
   },
   {
    "duration": 51,
    "start_time": "2023-06-09T09:31:21.550Z"
   },
   {
    "duration": 269,
    "start_time": "2023-06-09T09:31:21.602Z"
   },
   {
    "duration": 18,
    "start_time": "2023-06-09T09:31:21.873Z"
   },
   {
    "duration": 4,
    "start_time": "2023-06-09T09:31:21.895Z"
   },
   {
    "duration": 20629,
    "start_time": "2023-06-09T09:31:21.901Z"
   },
   {
    "duration": 40,
    "start_time": "2023-06-09T09:31:42.532Z"
   },
   {
    "duration": 11,
    "start_time": "2023-06-09T09:31:42.579Z"
   },
   {
    "duration": 20302,
    "start_time": "2023-06-09T09:31:42.592Z"
   },
   {
    "duration": 50,
    "start_time": "2023-06-09T09:32:02.897Z"
   },
   {
    "duration": 3,
    "start_time": "2023-06-09T09:32:02.949Z"
   },
   {
    "duration": 103,
    "start_time": "2023-06-09T09:32:02.954Z"
   },
   {
    "duration": 5235,
    "start_time": "2023-06-09T09:32:03.058Z"
   },
   {
    "duration": 55204,
    "start_time": "2023-06-09T09:32:08.296Z"
   },
   {
    "duration": 92348,
    "start_time": "2023-06-09T09:33:03.503Z"
   },
   {
    "duration": 1419,
    "start_time": "2023-06-09T09:37:54.768Z"
   },
   {
    "duration": 978,
    "start_time": "2023-06-09T09:37:56.189Z"
   },
   {
    "duration": 35,
    "start_time": "2023-06-09T09:37:57.168Z"
   },
   {
    "duration": 14,
    "start_time": "2023-06-09T09:37:57.205Z"
   },
   {
    "duration": 8,
    "start_time": "2023-06-09T09:37:57.221Z"
   },
   {
    "duration": 44,
    "start_time": "2023-06-09T09:37:57.231Z"
   },
   {
    "duration": 28,
    "start_time": "2023-06-09T09:37:57.277Z"
   },
   {
    "duration": 261,
    "start_time": "2023-06-09T09:37:57.306Z"
   },
   {
    "duration": 11,
    "start_time": "2023-06-09T09:37:57.568Z"
   },
   {
    "duration": 4,
    "start_time": "2023-06-09T09:37:57.581Z"
   },
   {
    "duration": 19140,
    "start_time": "2023-06-09T09:37:57.586Z"
   },
   {
    "duration": 39,
    "start_time": "2023-06-09T09:38:16.728Z"
   },
   {
    "duration": 7,
    "start_time": "2023-06-09T09:38:16.769Z"
   },
   {
    "duration": 18922,
    "start_time": "2023-06-09T09:38:16.778Z"
   },
   {
    "duration": 54,
    "start_time": "2023-06-09T09:38:35.703Z"
   },
   {
    "duration": 3,
    "start_time": "2023-06-09T09:38:35.758Z"
   },
   {
    "duration": 70,
    "start_time": "2023-06-09T09:38:35.774Z"
   },
   {
    "duration": 4884,
    "start_time": "2023-06-09T09:38:35.846Z"
   },
   {
    "duration": 63164,
    "start_time": "2023-06-09T09:38:40.732Z"
   },
   {
    "duration": 82866,
    "start_time": "2023-06-09T09:39:43.897Z"
   },
   {
    "duration": 3930460,
    "start_time": "2023-06-09T09:41:06.764Z"
   },
   {
    "duration": 1270241,
    "start_time": "2023-06-09T10:46:37.226Z"
   },
   {
    "duration": 6468017,
    "start_time": "2023-06-09T11:09:50.246Z"
   },
   {
    "duration": 2512,
    "start_time": "2023-06-09T18:41:57.958Z"
   },
   {
    "duration": 2986,
    "start_time": "2023-06-09T18:42:00.472Z"
   },
   {
    "duration": 36,
    "start_time": "2023-06-09T18:42:03.460Z"
   },
   {
    "duration": 26,
    "start_time": "2023-06-09T18:42:03.498Z"
   },
   {
    "duration": 24,
    "start_time": "2023-06-09T18:42:03.526Z"
   },
   {
    "duration": 36,
    "start_time": "2023-06-09T18:42:03.553Z"
   },
   {
    "duration": 37,
    "start_time": "2023-06-09T18:42:03.590Z"
   },
   {
    "duration": 266,
    "start_time": "2023-06-09T18:42:03.629Z"
   },
   {
    "duration": 9,
    "start_time": "2023-06-09T18:42:03.897Z"
   },
   {
    "duration": 49,
    "start_time": "2023-06-09T18:42:03.910Z"
   },
   {
    "duration": 20699,
    "start_time": "2023-06-09T18:42:03.961Z"
   },
   {
    "duration": 47,
    "start_time": "2023-06-09T18:42:24.663Z"
   },
   {
    "duration": 5,
    "start_time": "2023-06-09T18:42:24.712Z"
   },
   {
    "duration": 21164,
    "start_time": "2023-06-09T18:42:24.719Z"
   },
   {
    "duration": 86,
    "start_time": "2023-06-09T18:42:45.885Z"
   },
   {
    "duration": 3,
    "start_time": "2023-06-09T18:42:45.973Z"
   },
   {
    "duration": 94,
    "start_time": "2023-06-09T18:42:45.978Z"
   },
   {
    "duration": 5429,
    "start_time": "2023-06-09T18:42:46.074Z"
   },
   {
    "duration": 58879,
    "start_time": "2023-06-09T18:42:51.505Z"
   },
   {
    "duration": 91933,
    "start_time": "2023-06-09T18:43:50.387Z"
   },
   {
    "duration": 7544175,
    "start_time": "2023-06-09T18:45:22.322Z"
   },
   {
    "duration": 1213998,
    "start_time": "2023-06-09T20:51:06.499Z"
   },
   {
    "duration": 47,
    "start_time": "2023-06-10T10:14:46.792Z"
   },
   {
    "duration": 1746,
    "start_time": "2023-06-10T10:18:31.641Z"
   },
   {
    "duration": 2531,
    "start_time": "2023-06-10T10:18:33.389Z"
   },
   {
    "duration": 33,
    "start_time": "2023-06-10T10:18:35.921Z"
   },
   {
    "duration": 11,
    "start_time": "2023-06-10T10:18:35.956Z"
   },
   {
    "duration": 20,
    "start_time": "2023-06-10T10:18:35.971Z"
   },
   {
    "duration": 34,
    "start_time": "2023-06-10T10:18:35.992Z"
   },
   {
    "duration": 23,
    "start_time": "2023-06-10T10:18:36.027Z"
   },
   {
    "duration": 230,
    "start_time": "2023-06-10T10:18:36.052Z"
   },
   {
    "duration": 5,
    "start_time": "2023-06-10T10:18:36.283Z"
   },
   {
    "duration": 3,
    "start_time": "2023-06-10T10:18:36.290Z"
   },
   {
    "duration": 16493,
    "start_time": "2023-06-10T10:18:36.295Z"
   },
   {
    "duration": 42,
    "start_time": "2023-06-10T10:18:52.790Z"
   },
   {
    "duration": 3,
    "start_time": "2023-06-10T10:18:52.834Z"
   },
   {
    "duration": 16510,
    "start_time": "2023-06-10T10:18:52.839Z"
   },
   {
    "duration": 57,
    "start_time": "2023-06-10T10:19:09.351Z"
   },
   {
    "duration": 2,
    "start_time": "2023-06-10T10:19:09.410Z"
   },
   {
    "duration": 137,
    "start_time": "2023-06-10T10:19:09.414Z"
   },
   {
    "duration": 4173,
    "start_time": "2023-06-10T10:19:09.552Z"
   },
   {
    "duration": 60461,
    "start_time": "2023-06-10T10:19:13.727Z"
   },
   {
    "duration": 65788,
    "start_time": "2023-06-10T10:20:14.190Z"
   },
   {
    "duration": 1062446,
    "start_time": "2023-06-10T10:21:19.980Z"
   },
   {
    "duration": 386681,
    "start_time": "2023-06-10T10:39:02.428Z"
   },
   {
    "duration": 1607381,
    "start_time": "2023-06-10T12:18:58.604Z"
   },
   {
    "duration": 1380,
    "start_time": "2023-06-10T21:08:47.327Z"
   },
   {
    "duration": 860,
    "start_time": "2023-06-10T21:08:48.709Z"
   },
   {
    "duration": 35,
    "start_time": "2023-06-10T21:08:49.571Z"
   },
   {
    "duration": 11,
    "start_time": "2023-06-10T21:08:49.608Z"
   },
   {
    "duration": 11,
    "start_time": "2023-06-10T21:08:49.621Z"
   },
   {
    "duration": 11,
    "start_time": "2023-06-10T21:08:49.633Z"
   },
   {
    "duration": 46,
    "start_time": "2023-06-10T21:08:49.646Z"
   },
   {
    "duration": 240,
    "start_time": "2023-06-10T21:08:49.694Z"
   },
   {
    "duration": 6,
    "start_time": "2023-06-10T21:08:49.935Z"
   },
   {
    "duration": 4,
    "start_time": "2023-06-10T21:08:49.943Z"
   },
   {
    "duration": 18945,
    "start_time": "2023-06-10T21:08:49.948Z"
   },
   {
    "duration": 43,
    "start_time": "2023-06-10T21:09:08.896Z"
   },
   {
    "duration": 3,
    "start_time": "2023-06-10T21:09:08.941Z"
   },
   {
    "duration": 19489,
    "start_time": "2023-06-10T21:09:08.946Z"
   },
   {
    "duration": 65,
    "start_time": "2023-06-10T21:09:28.436Z"
   },
   {
    "duration": 2,
    "start_time": "2023-06-10T21:09:28.504Z"
   },
   {
    "duration": 70,
    "start_time": "2023-06-10T21:09:28.508Z"
   },
   {
    "duration": 4614,
    "start_time": "2023-06-10T21:09:28.580Z"
   },
   {
    "duration": 56586,
    "start_time": "2023-06-10T21:09:33.196Z"
   },
   {
    "duration": 71628,
    "start_time": "2023-06-10T21:10:29.784Z"
   },
   {
    "duration": 1336,
    "start_time": "2023-06-10T21:11:56.416Z"
   },
   {
    "duration": 809,
    "start_time": "2023-06-10T21:11:57.754Z"
   },
   {
    "duration": 42,
    "start_time": "2023-06-10T21:11:58.565Z"
   },
   {
    "duration": 11,
    "start_time": "2023-06-10T21:11:58.609Z"
   },
   {
    "duration": 13,
    "start_time": "2023-06-10T21:11:58.622Z"
   },
   {
    "duration": 20,
    "start_time": "2023-06-10T21:11:58.636Z"
   },
   {
    "duration": 59,
    "start_time": "2023-06-10T21:11:58.658Z"
   },
   {
    "duration": 233,
    "start_time": "2023-06-10T21:11:58.718Z"
   },
   {
    "duration": 6,
    "start_time": "2023-06-10T21:11:58.952Z"
   },
   {
    "duration": 24,
    "start_time": "2023-06-10T21:11:58.959Z"
   },
   {
    "duration": 18572,
    "start_time": "2023-06-10T21:11:58.984Z"
   },
   {
    "duration": 50,
    "start_time": "2023-06-10T21:12:17.558Z"
   },
   {
    "duration": 6,
    "start_time": "2023-06-10T21:12:17.610Z"
   },
   {
    "duration": 18355,
    "start_time": "2023-06-10T21:12:17.618Z"
   },
   {
    "duration": 57,
    "start_time": "2023-06-10T21:12:35.975Z"
   },
   {
    "duration": 2,
    "start_time": "2023-06-10T21:12:36.034Z"
   },
   {
    "duration": 81,
    "start_time": "2023-06-10T21:12:36.038Z"
   },
   {
    "duration": 4580,
    "start_time": "2023-06-10T21:12:36.121Z"
   },
   {
    "duration": 56609,
    "start_time": "2023-06-10T21:12:40.704Z"
   },
   {
    "duration": 74021,
    "start_time": "2023-06-10T21:13:37.314Z"
   },
   {
    "duration": 6215888,
    "start_time": "2023-06-10T21:14:51.337Z"
   },
   {
    "duration": 1367292,
    "start_time": "2023-06-10T22:58:27.227Z"
   },
   {
    "duration": 1378,
    "start_time": "2023-06-11T14:08:31.281Z"
   },
   {
    "duration": 3386,
    "start_time": "2023-06-11T14:08:32.661Z"
   },
   {
    "duration": 36,
    "start_time": "2023-06-11T14:08:36.049Z"
   },
   {
    "duration": 52,
    "start_time": "2023-06-11T14:08:36.088Z"
   },
   {
    "duration": 51,
    "start_time": "2023-06-11T14:08:36.141Z"
   },
   {
    "duration": 41,
    "start_time": "2023-06-11T14:08:36.194Z"
   },
   {
    "duration": 67,
    "start_time": "2023-06-11T14:08:36.237Z"
   },
   {
    "duration": 266,
    "start_time": "2023-06-11T14:08:36.306Z"
   },
   {
    "duration": 6,
    "start_time": "2023-06-11T14:08:36.574Z"
   },
   {
    "duration": 7,
    "start_time": "2023-06-11T14:08:36.583Z"
   },
   {
    "duration": 17609,
    "start_time": "2023-06-11T14:08:36.592Z"
   },
   {
    "duration": 56,
    "start_time": "2023-06-11T14:08:54.203Z"
   },
   {
    "duration": 4,
    "start_time": "2023-06-11T14:08:54.261Z"
   },
   {
    "duration": 17852,
    "start_time": "2023-06-11T14:08:54.267Z"
   },
   {
    "duration": 60,
    "start_time": "2023-06-11T14:09:12.121Z"
   },
   {
    "duration": 3,
    "start_time": "2023-06-11T14:09:12.183Z"
   },
   {
    "duration": 84,
    "start_time": "2023-06-11T14:09:12.187Z"
   },
   {
    "duration": 4564,
    "start_time": "2023-06-11T14:09:12.273Z"
   },
   {
    "duration": 62538,
    "start_time": "2023-06-11T14:09:16.838Z"
   },
   {
    "duration": 73583,
    "start_time": "2023-06-11T14:10:19.377Z"
   },
   {
    "duration": 1874562,
    "start_time": "2023-06-11T14:11:32.962Z"
   },
   {
    "duration": 1388,
    "start_time": "2023-06-11T14:43:14.487Z"
   },
   {
    "duration": 835,
    "start_time": "2023-06-11T14:43:15.877Z"
   },
   {
    "duration": 45,
    "start_time": "2023-06-11T14:43:16.714Z"
   },
   {
    "duration": 13,
    "start_time": "2023-06-11T14:43:16.762Z"
   },
   {
    "duration": 6,
    "start_time": "2023-06-11T14:43:16.777Z"
   },
   {
    "duration": 15,
    "start_time": "2023-06-11T14:43:16.785Z"
   },
   {
    "duration": 23,
    "start_time": "2023-06-11T14:43:16.802Z"
   },
   {
    "duration": 280,
    "start_time": "2023-06-11T14:43:16.826Z"
   },
   {
    "duration": 6,
    "start_time": "2023-06-11T14:43:17.108Z"
   },
   {
    "duration": 12,
    "start_time": "2023-06-11T14:43:17.116Z"
   },
   {
    "duration": 17748,
    "start_time": "2023-06-11T14:43:17.129Z"
   },
   {
    "duration": 42,
    "start_time": "2023-06-11T14:43:34.879Z"
   },
   {
    "duration": 43,
    "start_time": "2023-06-11T14:43:34.923Z"
   },
   {
    "duration": 18017,
    "start_time": "2023-06-11T14:43:34.968Z"
   },
   {
    "duration": 58,
    "start_time": "2023-06-11T14:43:52.986Z"
   },
   {
    "duration": 4,
    "start_time": "2023-06-11T14:43:53.056Z"
   },
   {
    "duration": 92,
    "start_time": "2023-06-11T14:43:53.062Z"
   },
   {
    "duration": 4654,
    "start_time": "2023-06-11T14:43:53.156Z"
   },
   {
    "duration": 62172,
    "start_time": "2023-06-11T14:43:57.812Z"
   },
   {
    "duration": 72310,
    "start_time": "2023-06-11T14:44:59.985Z"
   },
   {
    "duration": 2255407,
    "start_time": "2023-06-11T14:46:12.297Z"
   },
   {
    "duration": 530557,
    "start_time": "2023-06-11T15:23:47.706Z"
   },
   {
    "duration": 1381,
    "start_time": "2023-06-11T21:08:14.139Z"
   },
   {
    "duration": 3313,
    "start_time": "2023-06-11T21:08:15.522Z"
   },
   {
    "duration": 34,
    "start_time": "2023-06-11T21:08:18.837Z"
   },
   {
    "duration": 13,
    "start_time": "2023-06-11T21:08:18.873Z"
   },
   {
    "duration": 8,
    "start_time": "2023-06-11T21:08:18.888Z"
   },
   {
    "duration": 12,
    "start_time": "2023-06-11T21:08:18.897Z"
   },
   {
    "duration": 51,
    "start_time": "2023-06-11T21:08:18.911Z"
   },
   {
    "duration": 244,
    "start_time": "2023-06-11T21:08:18.963Z"
   },
   {
    "duration": 7,
    "start_time": "2023-06-11T21:08:19.209Z"
   },
   {
    "duration": 4,
    "start_time": "2023-06-11T21:08:19.218Z"
   },
   {
    "duration": 17789,
    "start_time": "2023-06-11T21:08:19.223Z"
   },
   {
    "duration": 46,
    "start_time": "2023-06-11T21:08:37.014Z"
   },
   {
    "duration": 4,
    "start_time": "2023-06-11T21:08:37.062Z"
   },
   {
    "duration": 20,
    "start_time": "2023-06-11T21:08:37.068Z"
   },
   {
    "duration": 343,
    "start_time": "2023-06-11T21:08:37.090Z"
   },
   {
    "duration": 0,
    "start_time": "2023-06-11T21:08:37.435Z"
   },
   {
    "duration": 0,
    "start_time": "2023-06-11T21:08:37.437Z"
   },
   {
    "duration": 0,
    "start_time": "2023-06-11T21:08:37.438Z"
   },
   {
    "duration": 0,
    "start_time": "2023-06-11T21:08:37.439Z"
   },
   {
    "duration": 0,
    "start_time": "2023-06-11T21:08:37.440Z"
   },
   {
    "duration": 0,
    "start_time": "2023-06-11T21:08:37.441Z"
   },
   {
    "duration": 0,
    "start_time": "2023-06-11T21:08:37.442Z"
   },
   {
    "duration": 0,
    "start_time": "2023-06-11T21:08:37.443Z"
   },
   {
    "duration": 1325,
    "start_time": "2023-06-11T21:36:22.366Z"
   },
   {
    "duration": 831,
    "start_time": "2023-06-11T21:36:23.693Z"
   },
   {
    "duration": 37,
    "start_time": "2023-06-11T21:36:24.525Z"
   },
   {
    "duration": 13,
    "start_time": "2023-06-11T21:36:24.564Z"
   },
   {
    "duration": 8,
    "start_time": "2023-06-11T21:36:24.579Z"
   },
   {
    "duration": 18,
    "start_time": "2023-06-11T21:36:24.588Z"
   },
   {
    "duration": 22,
    "start_time": "2023-06-11T21:36:24.608Z"
   },
   {
    "duration": 257,
    "start_time": "2023-06-11T21:36:24.632Z"
   },
   {
    "duration": 6,
    "start_time": "2023-06-11T21:36:24.891Z"
   },
   {
    "duration": 43,
    "start_time": "2023-06-11T21:36:24.900Z"
   },
   {
    "duration": 0,
    "start_time": "2023-06-11T21:36:24.945Z"
   },
   {
    "duration": 0,
    "start_time": "2023-06-11T21:36:24.946Z"
   },
   {
    "duration": 0,
    "start_time": "2023-06-11T21:36:24.947Z"
   },
   {
    "duration": 0,
    "start_time": "2023-06-11T21:36:24.949Z"
   },
   {
    "duration": 0,
    "start_time": "2023-06-11T21:36:24.950Z"
   },
   {
    "duration": 0,
    "start_time": "2023-06-11T21:36:24.951Z"
   },
   {
    "duration": 0,
    "start_time": "2023-06-11T21:36:24.953Z"
   },
   {
    "duration": 0,
    "start_time": "2023-06-11T21:36:24.955Z"
   },
   {
    "duration": 0,
    "start_time": "2023-06-11T21:36:24.956Z"
   },
   {
    "duration": 0,
    "start_time": "2023-06-11T21:36:24.958Z"
   },
   {
    "duration": 0,
    "start_time": "2023-06-11T21:36:24.960Z"
   },
   {
    "duration": 0,
    "start_time": "2023-06-11T21:36:24.961Z"
   },
   {
    "duration": 0,
    "start_time": "2023-06-11T21:36:24.962Z"
   },
   {
    "duration": 0,
    "start_time": "2023-06-11T21:36:24.963Z"
   },
   {
    "duration": 36,
    "start_time": "2023-06-11T21:56:06.583Z"
   },
   {
    "duration": 1274,
    "start_time": "2023-06-11T21:56:12.579Z"
   },
   {
    "duration": 810,
    "start_time": "2023-06-11T21:56:13.855Z"
   },
   {
    "duration": 34,
    "start_time": "2023-06-11T21:56:14.667Z"
   },
   {
    "duration": 24,
    "start_time": "2023-06-11T21:56:14.703Z"
   },
   {
    "duration": 15,
    "start_time": "2023-06-11T21:56:14.729Z"
   },
   {
    "duration": 16,
    "start_time": "2023-06-11T21:56:14.746Z"
   },
   {
    "duration": 23,
    "start_time": "2023-06-11T21:56:14.763Z"
   },
   {
    "duration": 242,
    "start_time": "2023-06-11T21:56:14.788Z"
   },
   {
    "duration": 5,
    "start_time": "2023-06-11T21:56:15.032Z"
   },
   {
    "duration": 60,
    "start_time": "2023-06-11T21:56:15.039Z"
   },
   {
    "duration": 3,
    "start_time": "2023-06-11T21:56:15.101Z"
   },
   {
    "duration": 16686,
    "start_time": "2023-06-11T21:56:15.106Z"
   },
   {
    "duration": 42,
    "start_time": "2023-06-11T21:56:31.794Z"
   },
   {
    "duration": 21,
    "start_time": "2023-06-11T21:56:31.839Z"
   },
   {
    "duration": 29,
    "start_time": "2023-06-11T21:56:31.862Z"
   },
   {
    "duration": 327,
    "start_time": "2023-06-11T21:56:31.893Z"
   },
   {
    "duration": 0,
    "start_time": "2023-06-11T21:56:32.222Z"
   },
   {
    "duration": 0,
    "start_time": "2023-06-11T21:56:32.224Z"
   },
   {
    "duration": 0,
    "start_time": "2023-06-11T21:56:32.225Z"
   },
   {
    "duration": 0,
    "start_time": "2023-06-11T21:56:32.226Z"
   },
   {
    "duration": 0,
    "start_time": "2023-06-11T21:56:32.228Z"
   },
   {
    "duration": 0,
    "start_time": "2023-06-11T21:56:32.230Z"
   },
   {
    "duration": 0,
    "start_time": "2023-06-11T21:56:32.231Z"
   },
   {
    "duration": 0,
    "start_time": "2023-06-11T21:56:32.233Z"
   },
   {
    "duration": 1801,
    "start_time": "2023-06-11T23:00:52.617Z"
   },
   {
    "duration": 817,
    "start_time": "2023-06-11T23:00:54.420Z"
   },
   {
    "duration": 34,
    "start_time": "2023-06-11T23:00:55.238Z"
   },
   {
    "duration": 19,
    "start_time": "2023-06-11T23:00:55.274Z"
   },
   {
    "duration": 15,
    "start_time": "2023-06-11T23:00:55.295Z"
   },
   {
    "duration": 11,
    "start_time": "2023-06-11T23:00:55.312Z"
   },
   {
    "duration": 22,
    "start_time": "2023-06-11T23:00:55.324Z"
   },
   {
    "duration": 247,
    "start_time": "2023-06-11T23:00:55.347Z"
   },
   {
    "duration": 6,
    "start_time": "2023-06-11T23:00:55.595Z"
   },
   {
    "duration": 37,
    "start_time": "2023-06-11T23:00:55.604Z"
   },
   {
    "duration": 3,
    "start_time": "2023-06-11T23:00:55.657Z"
   },
   {
    "duration": 16618,
    "start_time": "2023-06-11T23:00:55.661Z"
   },
   {
    "duration": 39,
    "start_time": "2023-06-11T23:01:12.281Z"
   },
   {
    "duration": 4,
    "start_time": "2023-06-11T23:01:12.322Z"
   },
   {
    "duration": 12,
    "start_time": "2023-06-11T23:01:12.328Z"
   },
   {
    "duration": 614668,
    "start_time": "2023-06-11T23:01:12.341Z"
   },
   {
    "duration": 59,
    "start_time": "2023-06-11T23:11:27.011Z"
   },
   {
    "duration": 3,
    "start_time": "2023-06-11T23:11:27.072Z"
   },
   {
    "duration": 61,
    "start_time": "2023-06-11T23:11:27.076Z"
   },
   {
    "duration": 4590,
    "start_time": "2023-06-11T23:11:27.139Z"
   },
   {
    "duration": 66645,
    "start_time": "2023-06-11T23:11:31.731Z"
   },
   {
    "duration": 67432,
    "start_time": "2023-06-11T23:12:38.378Z"
   },
   {
    "duration": 931943,
    "start_time": "2023-06-11T23:13:45.811Z"
   },
   {
    "duration": 0,
    "start_time": "2023-06-11T23:29:17.757Z"
   },
   {
    "duration": 1462,
    "start_time": "2023-06-11T23:29:34.108Z"
   },
   {
    "duration": 785,
    "start_time": "2023-06-11T23:29:35.572Z"
   },
   {
    "duration": 34,
    "start_time": "2023-06-11T23:29:36.359Z"
   },
   {
    "duration": 8,
    "start_time": "2023-06-11T23:29:36.395Z"
   },
   {
    "duration": 7,
    "start_time": "2023-06-11T23:29:36.405Z"
   },
   {
    "duration": 10,
    "start_time": "2023-06-11T23:29:36.413Z"
   },
   {
    "duration": 51,
    "start_time": "2023-06-11T23:29:36.424Z"
   },
   {
    "duration": 244,
    "start_time": "2023-06-11T23:29:36.476Z"
   },
   {
    "duration": 6,
    "start_time": "2023-06-11T23:29:36.721Z"
   },
   {
    "duration": 3,
    "start_time": "2023-06-11T23:29:36.729Z"
   },
   {
    "duration": 16816,
    "start_time": "2023-06-11T23:29:36.734Z"
   },
   {
    "duration": 39,
    "start_time": "2023-06-11T23:29:53.552Z"
   },
   {
    "duration": 3,
    "start_time": "2023-06-11T23:29:53.593Z"
   },
   {
    "duration": 13,
    "start_time": "2023-06-11T23:29:53.597Z"
   },
   {
    "duration": 609087,
    "start_time": "2023-06-11T23:29:53.612Z"
   },
   {
    "duration": 59,
    "start_time": "2023-06-11T23:40:02.701Z"
   },
   {
    "duration": 3,
    "start_time": "2023-06-11T23:40:02.761Z"
   },
   {
    "duration": 82,
    "start_time": "2023-06-11T23:40:02.765Z"
   },
   {
    "duration": 4118,
    "start_time": "2023-06-11T23:40:02.848Z"
   },
   {
    "duration": 66110,
    "start_time": "2023-06-11T23:40:06.967Z"
   },
   {
    "duration": 67243,
    "start_time": "2023-06-11T23:41:13.079Z"
   },
   {
    "duration": 1145458,
    "start_time": "2023-06-11T23:42:20.324Z"
   },
   {
    "duration": 280083,
    "start_time": "2023-06-12T00:01:25.784Z"
   },
   {
    "duration": 3732,
    "start_time": "2023-06-12T21:45:38.784Z"
   },
   {
    "duration": 5625,
    "start_time": "2023-06-12T21:45:42.518Z"
   },
   {
    "duration": 53,
    "start_time": "2023-06-12T21:45:48.155Z"
   },
   {
    "duration": 10,
    "start_time": "2023-06-12T21:45:48.210Z"
   },
   {
    "duration": 14,
    "start_time": "2023-06-12T21:45:48.222Z"
   },
   {
    "duration": 24,
    "start_time": "2023-06-12T21:45:48.239Z"
   },
   {
    "duration": 34,
    "start_time": "2023-06-12T21:45:48.271Z"
   },
   {
    "duration": 313,
    "start_time": "2023-06-12T21:45:48.307Z"
   },
   {
    "duration": 25,
    "start_time": "2023-06-12T21:45:48.622Z"
   },
   {
    "duration": 25,
    "start_time": "2023-06-12T21:45:48.652Z"
   },
   {
    "duration": 35547,
    "start_time": "2023-06-12T21:45:48.680Z"
   },
   {
    "duration": 67,
    "start_time": "2023-06-12T21:46:24.232Z"
   },
   {
    "duration": 8,
    "start_time": "2023-06-12T21:46:24.301Z"
   },
   {
    "duration": 26,
    "start_time": "2023-06-12T21:46:24.315Z"
   },
   {
    "duration": 1216781,
    "start_time": "2023-06-12T21:46:24.344Z"
   },
   {
    "duration": 137,
    "start_time": "2023-06-12T22:06:41.128Z"
   },
   {
    "duration": 8,
    "start_time": "2023-06-12T22:06:41.267Z"
   },
   {
    "duration": 355,
    "start_time": "2023-06-12T22:06:41.279Z"
   },
   {
    "duration": 10948,
    "start_time": "2023-06-12T22:06:41.646Z"
   },
   {
    "duration": 79209,
    "start_time": "2023-06-12T22:06:52.601Z"
   },
   {
    "duration": 132448,
    "start_time": "2023-06-12T22:08:11.813Z"
   },
   {
    "duration": 3613437,
    "start_time": "2023-06-12T22:10:24.263Z"
   },
   {
    "duration": 0,
    "start_time": "2023-06-12T23:10:37.703Z"
   },
   {
    "duration": 2941,
    "start_time": "2023-06-13T07:23:46.926Z"
   },
   {
    "duration": 3557,
    "start_time": "2023-06-13T07:23:49.876Z"
   },
   {
    "duration": 45,
    "start_time": "2023-06-13T07:23:53.436Z"
   },
   {
    "duration": 58,
    "start_time": "2023-06-13T07:23:53.485Z"
   },
   {
    "duration": 26,
    "start_time": "2023-06-13T07:23:53.556Z"
   },
   {
    "duration": 37,
    "start_time": "2023-06-13T07:23:53.591Z"
   },
   {
    "duration": 44,
    "start_time": "2023-06-13T07:23:53.630Z"
   },
   {
    "duration": 370,
    "start_time": "2023-06-13T07:23:53.676Z"
   },
   {
    "duration": 15,
    "start_time": "2023-06-13T07:23:54.048Z"
   },
   {
    "duration": 46,
    "start_time": "2023-06-13T07:23:54.067Z"
   },
   {
    "duration": 29790,
    "start_time": "2023-06-13T07:23:54.116Z"
   },
   {
    "duration": 64,
    "start_time": "2023-06-13T07:24:23.909Z"
   },
   {
    "duration": 13,
    "start_time": "2023-06-13T07:24:23.976Z"
   },
   {
    "duration": 33,
    "start_time": "2023-06-13T07:24:23.991Z"
   },
   {
    "duration": 897804,
    "start_time": "2023-06-13T07:24:24.026Z"
   },
   {
    "duration": 85,
    "start_time": "2023-06-13T07:39:21.832Z"
   },
   {
    "duration": 35,
    "start_time": "2023-06-13T07:39:21.919Z"
   },
   {
    "duration": 163,
    "start_time": "2023-06-13T07:39:21.959Z"
   },
   {
    "duration": 6094,
    "start_time": "2023-06-13T07:39:22.125Z"
   },
   {
    "duration": 59374,
    "start_time": "2023-06-13T07:39:28.221Z"
   },
   {
    "duration": 93870,
    "start_time": "2023-06-13T07:40:27.597Z"
   },
   {
    "duration": 7973211,
    "start_time": "2023-06-13T07:42:01.469Z"
   },
   {
    "duration": 1511807,
    "start_time": "2023-06-13T09:54:54.684Z"
   }
  ],
  "kernelspec": {
   "display_name": "Python 3 (ipykernel)",
   "language": "python",
   "name": "python3"
  },
  "language_info": {
   "codemirror_mode": {
    "name": "ipython",
    "version": 3
   },
   "file_extension": ".py",
   "mimetype": "text/x-python",
   "name": "python",
   "nbconvert_exporter": "python",
   "pygments_lexer": "ipython3",
   "version": "3.10.9"
  },
  "toc": {
   "base_numbering": 1,
   "nav_menu": {},
   "number_sections": true,
   "sideBar": true,
   "skip_h1_title": true,
   "title_cell": "Содержание",
   "title_sidebar": "Contents",
   "toc_cell": true,
   "toc_position": {
    "height": "calc(100% - 180px)",
    "left": "10px",
    "top": "150px",
    "width": "302.391px"
   },
   "toc_section_display": true,
   "toc_window_display": false
  }
 },
 "nbformat": 4,
 "nbformat_minor": 2
}
