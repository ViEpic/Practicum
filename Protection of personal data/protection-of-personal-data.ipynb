{
 "cells": [
  {
   "cell_type": "markdown",
   "metadata": {},
   "source": [
    "# Защита персональных данных клиентов"
   ]
  },
  {
   "cell_type": "markdown",
   "metadata": {},
   "source": [
    "Вам нужно защитить данные клиентов страховой компании «Хоть потоп». Разработайте такой метод преобразования данных, чтобы по ним было сложно восстановить персональную информацию. Обоснуйте корректность его работы.\n",
    "\n",
    "Нужно защитить данные, чтобы при преобразовании качество моделей машинного обучения не ухудшилось. Подбирать наилучшую модель не требуется."
   ]
  },
  {
   "cell_type": "markdown",
   "metadata": {},
   "source": [
    "# Инструкция по выполнению проекта"
   ]
  },
  {
   "cell_type": "markdown",
   "metadata": {},
   "source": [
    "1. Загрузите и изучите данные.\n",
    "2. Ответьте на вопрос и обоснуйте решение. \n",
    " Признаки умножают на обратимую матрицу. Изменится ли качество линейной регрессии? (Её можно обучить заново.)\n",
    "- Изменится. Приведите примеры матриц.\n",
    "- Не изменится. Укажите, как связаны параметры линейной регрессии в исходной задаче и в преобразованной.\n",
    "3. Предложите алгоритм преобразования данных для решения задачи. Обоснуйте, почему качество линейной регрессии не поменяется.\n",
    "4. Запрограммируйте этот алгоритм, применив матричные операции. Проверьте, что качество линейной регрессии из sklearn не отличается до и после преобразования. Примените метрику R2."
   ]
  },
  {
   "cell_type": "markdown",
   "metadata": {},
   "source": [
    "# Описание данных"
   ]
  },
  {
   "cell_type": "markdown",
   "metadata": {},
   "source": [
    "- Признаки: пол, возраст и зарплата застрахованного, количество членов его семьи.\n",
    "- Целевой признак: количество страховых выплат клиенту за последние 5 лет."
   ]
  },
  {
   "cell_type": "markdown",
   "metadata": {},
   "source": [
    "## Загрузка данных"
   ]
  },
  {
   "cell_type": "code",
   "execution_count": 1,
   "metadata": {},
   "outputs": [],
   "source": [
    "import pandas as pd\n",
    "import numpy as np\n",
    "from sklearn.model_selection import train_test_split\n",
    "from sklearn.linear_model import LinearRegression\n",
    "from sklearn.metrics import r2_score\n",
    "import warnings\n",
    "warnings.simplefilter(action='ignore', category=UserWarning)"
   ]
  },
  {
   "cell_type": "code",
   "execution_count": 2,
   "metadata": {},
   "outputs": [],
   "source": [
    "try:\n",
    "    df = pd.read_csv('/datasets/insurance.csv')\n",
    "except:\n",
    "    df = pd.read_csv('D:/Yandex/insurance.csv')"
   ]
  },
  {
   "cell_type": "code",
   "execution_count": 3,
   "metadata": {},
   "outputs": [
    {
     "data": {
      "text/html": [
       "<div>\n",
       "<style scoped>\n",
       "    .dataframe tbody tr th:only-of-type {\n",
       "        vertical-align: middle;\n",
       "    }\n",
       "\n",
       "    .dataframe tbody tr th {\n",
       "        vertical-align: top;\n",
       "    }\n",
       "\n",
       "    .dataframe thead th {\n",
       "        text-align: right;\n",
       "    }\n",
       "</style>\n",
       "<table border=\"1\" class=\"dataframe\">\n",
       "  <thead>\n",
       "    <tr style=\"text-align: right;\">\n",
       "      <th></th>\n",
       "      <th>Пол</th>\n",
       "      <th>Возраст</th>\n",
       "      <th>Зарплата</th>\n",
       "      <th>Члены семьи</th>\n",
       "      <th>Страховые выплаты</th>\n",
       "    </tr>\n",
       "  </thead>\n",
       "  <tbody>\n",
       "    <tr>\n",
       "      <th>0</th>\n",
       "      <td>1</td>\n",
       "      <td>41.0</td>\n",
       "      <td>49600.0</td>\n",
       "      <td>1</td>\n",
       "      <td>0</td>\n",
       "    </tr>\n",
       "    <tr>\n",
       "      <th>1</th>\n",
       "      <td>0</td>\n",
       "      <td>46.0</td>\n",
       "      <td>38000.0</td>\n",
       "      <td>1</td>\n",
       "      <td>1</td>\n",
       "    </tr>\n",
       "    <tr>\n",
       "      <th>2</th>\n",
       "      <td>0</td>\n",
       "      <td>29.0</td>\n",
       "      <td>21000.0</td>\n",
       "      <td>0</td>\n",
       "      <td>0</td>\n",
       "    </tr>\n",
       "    <tr>\n",
       "      <th>3</th>\n",
       "      <td>0</td>\n",
       "      <td>21.0</td>\n",
       "      <td>41700.0</td>\n",
       "      <td>2</td>\n",
       "      <td>0</td>\n",
       "    </tr>\n",
       "    <tr>\n",
       "      <th>4</th>\n",
       "      <td>1</td>\n",
       "      <td>28.0</td>\n",
       "      <td>26100.0</td>\n",
       "      <td>0</td>\n",
       "      <td>0</td>\n",
       "    </tr>\n",
       "  </tbody>\n",
       "</table>\n",
       "</div>"
      ],
      "text/plain": [
       "   Пол  Возраст  Зарплата  Члены семьи  Страховые выплаты\n",
       "0    1     41.0   49600.0            1                  0\n",
       "1    0     46.0   38000.0            1                  1\n",
       "2    0     29.0   21000.0            0                  0\n",
       "3    0     21.0   41700.0            2                  0\n",
       "4    1     28.0   26100.0            0                  0"
      ]
     },
     "execution_count": 3,
     "metadata": {},
     "output_type": "execute_result"
    }
   ],
   "source": [
    "df.head()"
   ]
  },
  {
   "cell_type": "code",
   "execution_count": 4,
   "metadata": {},
   "outputs": [
    {
     "name": "stdout",
     "output_type": "stream",
     "text": [
      "<class 'pandas.core.frame.DataFrame'>\n",
      "RangeIndex: 5000 entries, 0 to 4999\n",
      "Data columns (total 5 columns):\n",
      " #   Column             Non-Null Count  Dtype  \n",
      "---  ------             --------------  -----  \n",
      " 0   Пол                5000 non-null   int64  \n",
      " 1   Возраст            5000 non-null   float64\n",
      " 2   Зарплата           5000 non-null   float64\n",
      " 3   Члены семьи        5000 non-null   int64  \n",
      " 4   Страховые выплаты  5000 non-null   int64  \n",
      "dtypes: float64(2), int64(3)\n",
      "memory usage: 195.4 KB\n"
     ]
    }
   ],
   "source": [
    "df.info()"
   ]
  },
  {
   "cell_type": "code",
   "execution_count": 5,
   "metadata": {},
   "outputs": [
    {
     "data": {
      "text/html": [
       "<div>\n",
       "<style scoped>\n",
       "    .dataframe tbody tr th:only-of-type {\n",
       "        vertical-align: middle;\n",
       "    }\n",
       "\n",
       "    .dataframe tbody tr th {\n",
       "        vertical-align: top;\n",
       "    }\n",
       "\n",
       "    .dataframe thead th {\n",
       "        text-align: right;\n",
       "    }\n",
       "</style>\n",
       "<table border=\"1\" class=\"dataframe\">\n",
       "  <thead>\n",
       "    <tr style=\"text-align: right;\">\n",
       "      <th></th>\n",
       "      <th>Пол</th>\n",
       "      <th>Возраст</th>\n",
       "      <th>Зарплата</th>\n",
       "      <th>Члены семьи</th>\n",
       "      <th>Страховые выплаты</th>\n",
       "    </tr>\n",
       "  </thead>\n",
       "  <tbody>\n",
       "    <tr>\n",
       "      <th>count</th>\n",
       "      <td>5000.000000</td>\n",
       "      <td>5000.000000</td>\n",
       "      <td>5000.000000</td>\n",
       "      <td>5000.000000</td>\n",
       "      <td>5000.000000</td>\n",
       "    </tr>\n",
       "    <tr>\n",
       "      <th>mean</th>\n",
       "      <td>0.499000</td>\n",
       "      <td>30.952800</td>\n",
       "      <td>39916.360000</td>\n",
       "      <td>1.194200</td>\n",
       "      <td>0.148000</td>\n",
       "    </tr>\n",
       "    <tr>\n",
       "      <th>std</th>\n",
       "      <td>0.500049</td>\n",
       "      <td>8.440807</td>\n",
       "      <td>9900.083569</td>\n",
       "      <td>1.091387</td>\n",
       "      <td>0.463183</td>\n",
       "    </tr>\n",
       "    <tr>\n",
       "      <th>min</th>\n",
       "      <td>0.000000</td>\n",
       "      <td>18.000000</td>\n",
       "      <td>5300.000000</td>\n",
       "      <td>0.000000</td>\n",
       "      <td>0.000000</td>\n",
       "    </tr>\n",
       "    <tr>\n",
       "      <th>25%</th>\n",
       "      <td>0.000000</td>\n",
       "      <td>24.000000</td>\n",
       "      <td>33300.000000</td>\n",
       "      <td>0.000000</td>\n",
       "      <td>0.000000</td>\n",
       "    </tr>\n",
       "    <tr>\n",
       "      <th>50%</th>\n",
       "      <td>0.000000</td>\n",
       "      <td>30.000000</td>\n",
       "      <td>40200.000000</td>\n",
       "      <td>1.000000</td>\n",
       "      <td>0.000000</td>\n",
       "    </tr>\n",
       "    <tr>\n",
       "      <th>75%</th>\n",
       "      <td>1.000000</td>\n",
       "      <td>37.000000</td>\n",
       "      <td>46600.000000</td>\n",
       "      <td>2.000000</td>\n",
       "      <td>0.000000</td>\n",
       "    </tr>\n",
       "    <tr>\n",
       "      <th>max</th>\n",
       "      <td>1.000000</td>\n",
       "      <td>65.000000</td>\n",
       "      <td>79000.000000</td>\n",
       "      <td>6.000000</td>\n",
       "      <td>5.000000</td>\n",
       "    </tr>\n",
       "  </tbody>\n",
       "</table>\n",
       "</div>"
      ],
      "text/plain": [
       "               Пол      Возраст      Зарплата  Члены семьи  Страховые выплаты\n",
       "count  5000.000000  5000.000000   5000.000000  5000.000000        5000.000000\n",
       "mean      0.499000    30.952800  39916.360000     1.194200           0.148000\n",
       "std       0.500049     8.440807   9900.083569     1.091387           0.463183\n",
       "min       0.000000    18.000000   5300.000000     0.000000           0.000000\n",
       "25%       0.000000    24.000000  33300.000000     0.000000           0.000000\n",
       "50%       0.000000    30.000000  40200.000000     1.000000           0.000000\n",
       "75%       1.000000    37.000000  46600.000000     2.000000           0.000000\n",
       "max       1.000000    65.000000  79000.000000     6.000000           5.000000"
      ]
     },
     "execution_count": 5,
     "metadata": {},
     "output_type": "execute_result"
    }
   ],
   "source": [
    "df.describe()"
   ]
  },
  {
   "cell_type": "code",
   "execution_count": 6,
   "metadata": {},
   "outputs": [
    {
     "data": {
      "text/html": [
       "<div>\n",
       "<style scoped>\n",
       "    .dataframe tbody tr th:only-of-type {\n",
       "        vertical-align: middle;\n",
       "    }\n",
       "\n",
       "    .dataframe tbody tr th {\n",
       "        vertical-align: top;\n",
       "    }\n",
       "\n",
       "    .dataframe thead th {\n",
       "        text-align: right;\n",
       "    }\n",
       "</style>\n",
       "<table border=\"1\" class=\"dataframe\">\n",
       "  <thead>\n",
       "    <tr style=\"text-align: right;\">\n",
       "      <th></th>\n",
       "      <th>Пол</th>\n",
       "      <th>Возраст</th>\n",
       "      <th>Зарплата</th>\n",
       "      <th>Члены семьи</th>\n",
       "      <th>Страховые выплаты</th>\n",
       "    </tr>\n",
       "  </thead>\n",
       "  <tbody>\n",
       "    <tr>\n",
       "      <th>Пол</th>\n",
       "      <td>1.000000</td>\n",
       "      <td>0.002074</td>\n",
       "      <td>0.014910</td>\n",
       "      <td>-0.008991</td>\n",
       "      <td>0.010140</td>\n",
       "    </tr>\n",
       "    <tr>\n",
       "      <th>Возраст</th>\n",
       "      <td>0.002074</td>\n",
       "      <td>1.000000</td>\n",
       "      <td>-0.019093</td>\n",
       "      <td>-0.006692</td>\n",
       "      <td>0.651030</td>\n",
       "    </tr>\n",
       "    <tr>\n",
       "      <th>Зарплата</th>\n",
       "      <td>0.014910</td>\n",
       "      <td>-0.019093</td>\n",
       "      <td>1.000000</td>\n",
       "      <td>-0.030296</td>\n",
       "      <td>-0.014963</td>\n",
       "    </tr>\n",
       "    <tr>\n",
       "      <th>Члены семьи</th>\n",
       "      <td>-0.008991</td>\n",
       "      <td>-0.006692</td>\n",
       "      <td>-0.030296</td>\n",
       "      <td>1.000000</td>\n",
       "      <td>-0.036290</td>\n",
       "    </tr>\n",
       "    <tr>\n",
       "      <th>Страховые выплаты</th>\n",
       "      <td>0.010140</td>\n",
       "      <td>0.651030</td>\n",
       "      <td>-0.014963</td>\n",
       "      <td>-0.036290</td>\n",
       "      <td>1.000000</td>\n",
       "    </tr>\n",
       "  </tbody>\n",
       "</table>\n",
       "</div>"
      ],
      "text/plain": [
       "                        Пол   Возраст  Зарплата  Члены семьи  \\\n",
       "Пол                1.000000  0.002074  0.014910    -0.008991   \n",
       "Возраст            0.002074  1.000000 -0.019093    -0.006692   \n",
       "Зарплата           0.014910 -0.019093  1.000000    -0.030296   \n",
       "Члены семьи       -0.008991 -0.006692 -0.030296     1.000000   \n",
       "Страховые выплаты  0.010140  0.651030 -0.014963    -0.036290   \n",
       "\n",
       "                   Страховые выплаты  \n",
       "Пол                         0.010140  \n",
       "Возраст                     0.651030  \n",
       "Зарплата                   -0.014963  \n",
       "Члены семьи                -0.036290  \n",
       "Страховые выплаты           1.000000  "
      ]
     },
     "execution_count": 6,
     "metadata": {},
     "output_type": "execute_result"
    }
   ],
   "source": [
    "df.corr()"
   ]
  },
  {
   "cell_type": "code",
   "execution_count": 7,
   "metadata": {},
   "outputs": [
    {
     "data": {
      "text/plain": [
       "153"
      ]
     },
     "execution_count": 7,
     "metadata": {},
     "output_type": "execute_result"
    }
   ],
   "source": [
    "df.duplicated().sum()"
   ]
  },
  {
   "cell_type": "code",
   "execution_count": 8,
   "metadata": {},
   "outputs": [],
   "source": [
    "df = df.drop_duplicates()"
   ]
  },
  {
   "cell_type": "code",
   "execution_count": 9,
   "metadata": {
    "scrolled": true
   },
   "outputs": [
    {
     "data": {
      "text/plain": [
       "Пол                  0\n",
       "Возраст              0\n",
       "Зарплата             0\n",
       "Члены семьи          0\n",
       "Страховые выплаты    0\n",
       "dtype: int64"
      ]
     },
     "execution_count": 9,
     "metadata": {},
     "output_type": "execute_result"
    }
   ],
   "source": [
    "df.isnull().sum()"
   ]
  },
  {
   "cell_type": "markdown",
   "metadata": {},
   "source": [
    "- Загрузили и изучили данные\n",
    "- Пропусков в данных нет\n",
    "- Удалили явные дубликаты"
   ]
  },
  {
   "cell_type": "markdown",
   "metadata": {},
   "source": [
    "## Умножение матриц"
   ]
  },
  {
   "cell_type": "markdown",
   "metadata": {},
   "source": [
    "В этом задании вы можете записывать формулы в *Jupyter Notebook.*\n",
    "\n",
    "Чтобы записать формулу внутри текста, окружите её символами доллара \\\\$; если снаружи —  двойными символами \\\\$\\\\$. Эти формулы записываются на языке вёрстки *LaTeX.* \n",
    "\n",
    "Для примера мы записали формулы линейной регрессии. Можете их скопировать и отредактировать, чтобы решить задачу.\n",
    "\n",
    "Работать в *LaTeX* необязательно."
   ]
  },
  {
   "cell_type": "markdown",
   "metadata": {},
   "source": [
    "Обозначения:\n",
    "\n",
    "- $X$ — матрица признаков (нулевой столбец состоит из единиц)\n",
    "\n",
    "- $y$ — вектор целевого признака\n",
    "\n",
    "- $P$ — матрица, на которую умножаются признаки\n",
    "\n",
    "- $w$ — вектор весов линейной регрессии (нулевой элемент равен сдвигу)"
   ]
  },
  {
   "cell_type": "markdown",
   "metadata": {},
   "source": [
    "Предсказания:\n",
    "\n",
    "$$\n",
    "a = Xw\n",
    "$$\n",
    "\n",
    "Задача обучения:\n",
    "\n",
    "$$\n",
    "w = \\arg\\min_w MSE(Xw, y)\n",
    "$$\n",
    "\n",
    "Формула обучения:\n",
    "\n",
    "$$\n",
    "w = (X^T X)^{-1} X^T y\n",
    "$$"
   ]
  },
  {
   "cell_type": "markdown",
   "metadata": {},
   "source": [
    "**Ответ:** не изменится.\n",
    "\n",
    "**Обоснование:** Изменение качества предсказания линейной регрессии не происходит при умножении признаков исходных данных, на обратимую матрицу, т.к. параметры линейной регрессии в исходной задаче и в преобразованной связаны между собой алгоритмом преобразования признаков, по результату работы которого предсказание вычисляется методом умножения признаков исходных данных на вектор по длине равный ширине таблицы признаков, который в свою очередь умножается на целевые признаки. По результату скалярного умножения создаётся число, на которое умножается тестовая выборка, и если эта выборка была преобразована умножением на ту же матрицу, то качество предсказания не изменится.\n",
    "\n",
    "Таким образом, если изменить исходные данные методом умножения признаков на обратимую матрицу, не изменяя значений целевого признака, качество предсказания модели не изменится."
   ]
  },
  {
   "cell_type": "markdown",
   "metadata": {},
   "source": [
    "$$\n",
    "AA^{-1} = A^{-1}A = E\n",
    "$$\n",
    "$$\n",
    "AE = EA = A\n",
    "$$\n",
    "$$\n",
    "w_{new} = ((XP)^T (XP))^{-1} (XP)^T y\n",
    "$$\n",
    "$$\n",
    "w_{new} = (P^T X^T XP)^{-1} P^T X^T y\n",
    "$$\n",
    "$$\n",
    "w_{new} = (P^T X^T XP)^{-1} P^T X^T y\n",
    "$$\n",
    "$$\n",
    "w_{new} = (P^T (X^T X) P)^{-1} P^T X^T y\n",
    "$$\n",
    "$$\n",
    "w_{new} = P^{-1} (X^T X)^{-1} (P^T)^{-1} P^T X^T y\n",
    "$$\n",
    "$$\n",
    "w_{new} = P^{-1} X^{-1} (X^T)^{-1} X^T y\n",
    "$$\n",
    "$$\n",
    "w_{new} = P^{-1} (X^T X)^{-1} X^T y\n",
    "$$\n",
    "$$\n",
    "w_{new} = P^{-1} w\n",
    "$$\n",
    "$$\n",
    "a_{new} = X P w_{new} a_{new} = X P P^{-1} w a_{new} = X w = a\n",
    "$$"
   ]
  },
  {
   "cell_type": "markdown",
   "metadata": {},
   "source": [
    "$$ \n",
    "w_{new} = (X_{new}^T X_{new})^{-1} X_{new}^Ty\n",
    "$$\n",
    "$$\n",
    "w_{new} = ((X P)^T (X P))^{-1} (X P)^T y\n",
    "$$\n",
    "$$\n",
    "((XP)^T (XP))^{-1} (XP)^T y =\n",
    "$$\n",
    "$$\n",
    "(P^T X^T X P)^{-1} P^T X^T y =\n",
    "$$\n",
    "$$\n",
    "(P^T (X^T X) P)^{-1} P^T X^T y =\n",
    "$$\n",
    "$$\n",
    "P^{-1} (P^T (X^T X))^{-1} P^T X^T y =\n",
    "$$\n",
    "$$\n",
    "P^{-1} (X^TX)^{-1} (P^T)^{-1} P^T X^T y =\n",
    "$$\n",
    "$$\n",
    "P^{-1} (X^TX)^{-1} E X^T y =\n",
    "$$\n",
    "$$\n",
    "P^{-1} (X^TX)^{-1} X^T y\n",
    "$$\n",
    "$$\n",
    "w_{new} = P^{-1} (X^T X)^{-1} X^T y\n",
    "$$\n",
    "$$\n",
    "w_{new} = P^{-1}w\n",
    "$$\n",
    "$$\n",
    "a_{new} = X_{new}w_{new}\n",
    "$$\n",
    "$$\n",
    "a_{new} = XPP^{-1} (X^T X)^{-1} X^T y\n",
    "$$\n",
    "$$\n",
    "a_{new} = XE(X^T X)^{-1} X^T y\n",
    "$$\n",
    "$$\n",
    "a_{new} = X(X^T X)^{-1} X^T y\n",
    "$$\n",
    "$$\n",
    "a_{new} = Xw = a\n",
    "$$"
   ]
  },
  {
   "cell_type": "markdown",
   "metadata": {},
   "source": [
    "## Алгоритм преобразования"
   ]
  },
  {
   "cell_type": "markdown",
   "metadata": {},
   "source": [
    "**Алгоритм**\n",
    "\n",
    "- Разобьём исходные данные, выделив целевой признак.\n",
    "- Разделим данные на обучающую и тестовую выборки.\n",
    "- Создадим класс модели машинного обучения LinearRegression и получим значение метрики R2.\n",
    "- Сгенерируем случайную обратимую матрицу.\n",
    "- Преобразовываем данные с помощью умножения матрицы.\n",
    "- Получим значение метрики R2 для линейной регрессии после преобразования."
   ]
  },
  {
   "cell_type": "markdown",
   "metadata": {},
   "source": [
    "**Обоснование:** если мы произведём умножение признаков тренировочной и тестовой выборок на одну и ту же обратимую матрицу, то результатом предсказания будет произведение нашей изменённой таблицы с признаками на вектор, который был получен из той же таблицы с изменёнными данными увеличенную на ту же величину, что и признаки тренировочных данных."
   ]
  },
  {
   "cell_type": "markdown",
   "metadata": {},
   "source": [
    "## Проверка алгоритма"
   ]
  },
  {
   "cell_type": "code",
   "execution_count": 10,
   "metadata": {},
   "outputs": [],
   "source": [
    "# Разобьём исходные данные, выделив целевой признак. Разделим данные на обучающую и тестовую выборки.\n",
    "features = df.drop(columns='Страховые выплаты', axis=1)\n",
    "target = df['Страховые выплаты']\n",
    "features_train, features_test, target_train, target_test = train_test_split(features, target, \n",
    "                                                                            random_state=42, shuffle=True, test_size=0.25)"
   ]
  },
  {
   "cell_type": "code",
   "execution_count": 11,
   "metadata": {},
   "outputs": [
    {
     "name": "stdout",
     "output_type": "stream",
     "text": [
      "Значение метрики R2 для линейной регрессии 0.44346330831611946\n"
     ]
    }
   ],
   "source": [
    "# Создадим класс модели машинного обучения LinearRegression и получим значение метрики R2.\n",
    "class LinearRegression:\n",
    "    def fit(self, train_features, train_target):\n",
    "        X = np.concatenate((np.ones((train_features.shape[0], 1)), train_features), axis=1)\n",
    "        y = train_target\n",
    "        w =  np.linalg.inv(X.T.dot(X)).dot(X.T).dot(y)\n",
    "        self.w = w[1:]\n",
    "        self.w0 = w[0]\n",
    "\n",
    "    def predict(self, test_features):\n",
    "        return test_features.dot(self.w) + self.w0\n",
    "    \n",
    "model = LinearRegression()\n",
    "model.fit(features_train, target_train)\n",
    "predictions = model.predict(features_test)\n",
    "print('Значение метрики R2 для линейной регрессии',r2_score(target_test, predictions))"
   ]
  },
  {
   "cell_type": "code",
   "execution_count": 12,
   "metadata": {},
   "outputs": [
    {
     "data": {
      "text/plain": [
       "array([[-0.66031676,  0.76629148,  0.70688524, -1.85128135],\n",
       "       [ 0.35816094, -0.11203008,  1.58740246, -1.2503016 ],\n",
       "       [-0.99758324, -1.73262118, -1.71496034, -0.00283675],\n",
       "       [ 0.70991419, -0.94265005, -1.98011614, -2.32976042]])"
      ]
     },
     "metadata": {},
     "output_type": "display_data"
    }
   ],
   "source": [
    "# Сгенерируем матрицу.\n",
    "random_matrix = np.random.normal(size=(df.shape[1] - 1, df.shape[1] - 1))\n",
    "display(random_matrix)"
   ]
  },
  {
   "cell_type": "code",
   "execution_count": 13,
   "metadata": {},
   "outputs": [
    {
     "data": {
      "text/plain": [
       "array([[ 1., -0., -0.,  0.],\n",
       "       [ 0.,  1.,  0.,  0.],\n",
       "       [-0.,  0.,  1.,  0.],\n",
       "       [ 0.,  0.,  0.,  1.]])"
      ]
     },
     "metadata": {},
     "output_type": "display_data"
    }
   ],
   "source": [
    "# Проверка обратимости матрицы.\n",
    "display(np.round(random_matrix @ np.linalg.inv(random_matrix)))"
   ]
  },
  {
   "cell_type": "code",
   "execution_count": 14,
   "metadata": {},
   "outputs": [
    {
     "name": "stdout",
     "output_type": "stream",
     "text": [
      "Значение метрики R2 для линейной регрессии после преобразования 0.44346330860359207\n"
     ]
    }
   ],
   "source": [
    "# Получим значение метрики R2 для линейной регрессии после преобразования.\n",
    "features_train = features_train.dot(random_matrix)\n",
    "features_test = features_test.dot(random_matrix)\n",
    "    \n",
    "model = LinearRegression()\n",
    "model.fit(features_train, target_train)\n",
    "predictions = model.predict(features_test)\n",
    "print('Значение метрики R2 для линейной регрессии после преобразования',r2_score(target_test, predictions))"
   ]
  },
  {
   "cell_type": "markdown",
   "metadata": {},
   "source": [
    "Применив метрику R2, мы проверили, что качество линейной регрессии из sklearn не отличается до и после преобразования исходной матрицы."
   ]
  },
  {
   "cell_type": "markdown",
   "metadata": {},
   "source": [
    "Разработан такой метод преобразования данных, чтобы по ним было сложно восстановить персональную информацию.\n",
    "\n",
    "Входные данные - данные клиентов страховой компании «Хоть потоп».\n",
    "\n",
    "Результаты исследования позволят защитить данные клиентов страховой компании «Хоть потоп».\n",
    "\n",
    "Перед проведением исследования была сформулирована гипотеза:\n",
    "\n",
    "Гипотеза: при умножении признаков на обратимую матрицу качество линейной регрессии не меняется.\n",
    "В результате удалось получить следующие результаты.\n",
    "\n",
    "Гипотеза подтверждена:\n",
    "\n",
    "0.44 - значение метрики R2 модели для исходной матрицы;\n",
    "0.44 - значение метрики R2 модели для преобразованной матрицы."
   ]
  },
  {
   "cell_type": "markdown",
   "metadata": {},
   "source": [
    "Можно применять разработанный метод преобразования данных - умножение матрицы признаков исходного датасета на случайную матрицу, так как при преобразовании качество моделей машинного обучения не ухудшается."
   ]
  }
 ],
 "metadata": {
  "ExecuteTimeLog": [
   {
    "duration": 1551,
    "start_time": "2023-05-02T22:51:25.254Z"
   },
   {
    "duration": 82,
    "start_time": "2023-05-02T22:51:26.807Z"
   },
   {
    "duration": 13,
    "start_time": "2023-05-02T22:51:26.891Z"
   },
   {
    "duration": 12,
    "start_time": "2023-05-02T22:51:26.906Z"
   },
   {
    "duration": 35,
    "start_time": "2023-05-02T22:51:26.920Z"
   },
   {
    "duration": 35,
    "start_time": "2023-05-02T22:51:26.957Z"
   },
   {
    "duration": 5,
    "start_time": "2023-05-02T22:51:26.994Z"
   },
   {
    "duration": 118,
    "start_time": "2023-05-02T22:51:27.001Z"
   },
   {
    "duration": 0,
    "start_time": "2023-05-02T22:51:27.120Z"
   },
   {
    "duration": 1442,
    "start_time": "2023-05-02T22:52:45.576Z"
   },
   {
    "duration": 24,
    "start_time": "2023-05-02T22:52:47.021Z"
   },
   {
    "duration": 20,
    "start_time": "2023-05-02T22:52:47.047Z"
   },
   {
    "duration": 18,
    "start_time": "2023-05-02T22:52:47.069Z"
   },
   {
    "duration": 26,
    "start_time": "2023-05-02T22:52:47.092Z"
   },
   {
    "duration": 11,
    "start_time": "2023-05-02T22:52:47.120Z"
   },
   {
    "duration": 7,
    "start_time": "2023-05-02T22:52:47.133Z"
   },
   {
    "duration": 19,
    "start_time": "2023-05-02T22:52:47.142Z"
   },
   {
    "duration": 13,
    "start_time": "2023-05-02T22:52:47.163Z"
   },
   {
    "duration": 1555,
    "start_time": "2023-05-08T11:05:44.034Z"
   },
   {
    "duration": 80,
    "start_time": "2023-05-08T11:05:45.592Z"
   },
   {
    "duration": 13,
    "start_time": "2023-05-08T11:05:45.674Z"
   },
   {
    "duration": 17,
    "start_time": "2023-05-08T11:05:45.689Z"
   },
   {
    "duration": 22,
    "start_time": "2023-05-08T11:05:45.708Z"
   },
   {
    "duration": 24,
    "start_time": "2023-05-08T11:05:45.732Z"
   },
   {
    "duration": 6,
    "start_time": "2023-05-08T11:05:45.758Z"
   },
   {
    "duration": 10,
    "start_time": "2023-05-08T11:05:45.766Z"
   },
   {
    "duration": 8,
    "start_time": "2023-05-08T11:05:45.778Z"
   },
   {
    "duration": 130,
    "start_time": "2023-05-08T11:05:45.789Z"
   },
   {
    "duration": 0,
    "start_time": "2023-05-08T11:05:45.921Z"
   },
   {
    "duration": 0,
    "start_time": "2023-05-08T11:05:45.921Z"
   },
   {
    "duration": 0,
    "start_time": "2023-05-08T11:05:45.923Z"
   },
   {
    "duration": 1291,
    "start_time": "2023-05-08T11:06:28.274Z"
   },
   {
    "duration": 24,
    "start_time": "2023-05-08T11:06:29.567Z"
   },
   {
    "duration": 13,
    "start_time": "2023-05-08T11:06:29.592Z"
   },
   {
    "duration": 11,
    "start_time": "2023-05-08T11:06:29.608Z"
   },
   {
    "duration": 26,
    "start_time": "2023-05-08T11:06:29.621Z"
   },
   {
    "duration": 15,
    "start_time": "2023-05-08T11:06:29.649Z"
   },
   {
    "duration": 9,
    "start_time": "2023-05-08T11:06:29.665Z"
   },
   {
    "duration": 9,
    "start_time": "2023-05-08T11:06:29.675Z"
   },
   {
    "duration": 6,
    "start_time": "2023-05-08T11:06:29.685Z"
   },
   {
    "duration": 6,
    "start_time": "2023-05-08T11:06:29.694Z"
   },
   {
    "duration": 21,
    "start_time": "2023-05-08T11:06:29.701Z"
   },
   {
    "duration": 135,
    "start_time": "2023-05-08T11:06:29.724Z"
   },
   {
    "duration": 0,
    "start_time": "2023-05-08T11:06:29.860Z"
   },
   {
    "duration": 1358,
    "start_time": "2023-05-08T11:08:05.126Z"
   },
   {
    "duration": 23,
    "start_time": "2023-05-08T11:08:06.486Z"
   },
   {
    "duration": 15,
    "start_time": "2023-05-08T11:08:06.513Z"
   },
   {
    "duration": 11,
    "start_time": "2023-05-08T11:08:06.530Z"
   },
   {
    "duration": 31,
    "start_time": "2023-05-08T11:08:06.543Z"
   },
   {
    "duration": 10,
    "start_time": "2023-05-08T11:08:06.575Z"
   },
   {
    "duration": 5,
    "start_time": "2023-05-08T11:08:06.586Z"
   },
   {
    "duration": 6,
    "start_time": "2023-05-08T11:08:06.593Z"
   },
   {
    "duration": 14,
    "start_time": "2023-05-08T11:08:06.602Z"
   },
   {
    "duration": 3,
    "start_time": "2023-05-08T11:08:06.618Z"
   },
   {
    "duration": 33,
    "start_time": "2023-05-08T11:08:06.623Z"
   },
   {
    "duration": 5,
    "start_time": "2023-05-08T11:08:06.657Z"
   },
   {
    "duration": 94,
    "start_time": "2023-05-08T11:08:06.663Z"
   },
   {
    "duration": 1331,
    "start_time": "2023-05-08T11:19:57.584Z"
   },
   {
    "duration": 26,
    "start_time": "2023-05-08T11:19:58.919Z"
   },
   {
    "duration": 13,
    "start_time": "2023-05-08T11:19:58.948Z"
   },
   {
    "duration": 12,
    "start_time": "2023-05-08T11:19:58.963Z"
   },
   {
    "duration": 24,
    "start_time": "2023-05-08T11:19:58.976Z"
   },
   {
    "duration": 13,
    "start_time": "2023-05-08T11:19:59.002Z"
   },
   {
    "duration": 39,
    "start_time": "2023-05-08T11:19:59.018Z"
   },
   {
    "duration": 6,
    "start_time": "2023-05-08T11:19:59.059Z"
   },
   {
    "duration": 7,
    "start_time": "2023-05-08T11:19:59.067Z"
   },
   {
    "duration": 4,
    "start_time": "2023-05-08T11:19:59.077Z"
   },
   {
    "duration": 6,
    "start_time": "2023-05-08T11:19:59.082Z"
   },
   {
    "duration": 5,
    "start_time": "2023-05-08T11:19:59.090Z"
   },
   {
    "duration": 165,
    "start_time": "2023-05-08T11:19:59.096Z"
   },
   {
    "duration": 6,
    "start_time": "2023-05-08T11:19:59.264Z"
   },
   {
    "duration": 84,
    "start_time": "2023-05-08T11:19:59.272Z"
   },
   {
    "duration": 24,
    "start_time": "2023-05-08T11:19:59.358Z"
   },
   {
    "duration": 7,
    "start_time": "2023-05-08T11:19:59.384Z"
   },
   {
    "duration": 6,
    "start_time": "2023-05-08T11:19:59.457Z"
   },
   {
    "duration": 91,
    "start_time": "2023-05-08T11:19:59.465Z"
   },
   {
    "duration": 14,
    "start_time": "2023-05-08T11:19:59.558Z"
   },
   {
    "duration": 258,
    "start_time": "2023-05-08T11:19:59.574Z"
   },
   {
    "duration": 0,
    "start_time": "2023-05-08T11:19:59.834Z"
   },
   {
    "duration": 0,
    "start_time": "2023-05-08T11:19:59.836Z"
   },
   {
    "duration": 0,
    "start_time": "2023-05-08T11:19:59.837Z"
   },
   {
    "duration": 0,
    "start_time": "2023-05-08T11:19:59.839Z"
   },
   {
    "duration": 0,
    "start_time": "2023-05-08T11:19:59.855Z"
   },
   {
    "duration": 0,
    "start_time": "2023-05-08T11:19:59.857Z"
   },
   {
    "duration": 0,
    "start_time": "2023-05-08T11:19:59.858Z"
   },
   {
    "duration": 1289,
    "start_time": "2023-05-08T11:21:28.018Z"
   },
   {
    "duration": 26,
    "start_time": "2023-05-08T11:21:29.312Z"
   },
   {
    "duration": 17,
    "start_time": "2023-05-08T11:21:29.340Z"
   },
   {
    "duration": 26,
    "start_time": "2023-05-08T11:21:29.359Z"
   },
   {
    "duration": 37,
    "start_time": "2023-05-08T11:21:29.387Z"
   },
   {
    "duration": 21,
    "start_time": "2023-05-08T11:21:29.426Z"
   },
   {
    "duration": 16,
    "start_time": "2023-05-08T11:21:29.448Z"
   },
   {
    "duration": 23,
    "start_time": "2023-05-08T11:21:29.466Z"
   },
   {
    "duration": 16,
    "start_time": "2023-05-08T11:21:29.492Z"
   },
   {
    "duration": 8,
    "start_time": "2023-05-08T11:21:29.511Z"
   },
   {
    "duration": 6,
    "start_time": "2023-05-08T11:21:29.521Z"
   },
   {
    "duration": 12,
    "start_time": "2023-05-08T11:21:29.529Z"
   },
   {
    "duration": 30,
    "start_time": "2023-05-08T11:21:29.543Z"
   },
   {
    "duration": 6,
    "start_time": "2023-05-08T11:21:29.575Z"
   },
   {
    "duration": 4,
    "start_time": "2023-05-08T11:21:29.657Z"
   },
   {
    "duration": 92,
    "start_time": "2023-05-08T11:21:29.663Z"
   },
   {
    "duration": 6,
    "start_time": "2023-05-08T11:21:29.758Z"
   },
   {
    "duration": 7,
    "start_time": "2023-05-08T11:21:29.768Z"
   },
   {
    "duration": 5,
    "start_time": "2023-05-08T11:21:29.857Z"
   },
   {
    "duration": 107,
    "start_time": "2023-05-08T11:21:29.864Z"
   },
   {
    "duration": 291,
    "start_time": "2023-05-08T11:21:29.975Z"
   },
   {
    "duration": 0,
    "start_time": "2023-05-08T11:21:30.268Z"
   },
   {
    "duration": 0,
    "start_time": "2023-05-08T11:21:30.270Z"
   },
   {
    "duration": 0,
    "start_time": "2023-05-08T11:21:30.271Z"
   },
   {
    "duration": 0,
    "start_time": "2023-05-08T11:21:30.272Z"
   },
   {
    "duration": 0,
    "start_time": "2023-05-08T11:21:30.273Z"
   },
   {
    "duration": 0,
    "start_time": "2023-05-08T11:21:30.275Z"
   },
   {
    "duration": 0,
    "start_time": "2023-05-08T11:21:30.276Z"
   },
   {
    "duration": 1300,
    "start_time": "2023-05-08T21:03:30.686Z"
   },
   {
    "duration": 24,
    "start_time": "2023-05-08T21:03:31.989Z"
   },
   {
    "duration": 49,
    "start_time": "2023-05-08T21:03:32.015Z"
   },
   {
    "duration": 20,
    "start_time": "2023-05-08T21:03:32.066Z"
   },
   {
    "duration": 37,
    "start_time": "2023-05-08T21:03:32.087Z"
   },
   {
    "duration": 11,
    "start_time": "2023-05-08T21:03:32.126Z"
   },
   {
    "duration": 17,
    "start_time": "2023-05-08T21:03:32.138Z"
   },
   {
    "duration": 17,
    "start_time": "2023-05-08T21:03:32.157Z"
   },
   {
    "duration": 36,
    "start_time": "2023-05-08T21:03:32.175Z"
   },
   {
    "duration": 35,
    "start_time": "2023-05-08T21:03:32.213Z"
   },
   {
    "duration": 18,
    "start_time": "2023-05-08T21:03:32.250Z"
   },
   {
    "duration": 120,
    "start_time": "2023-05-08T21:03:32.270Z"
   },
   {
    "duration": 1269,
    "start_time": "2023-05-08T21:03:58.400Z"
   },
   {
    "duration": 23,
    "start_time": "2023-05-08T21:03:59.672Z"
   },
   {
    "duration": 12,
    "start_time": "2023-05-08T21:03:59.697Z"
   },
   {
    "duration": 11,
    "start_time": "2023-05-08T21:03:59.710Z"
   },
   {
    "duration": 22,
    "start_time": "2023-05-08T21:03:59.723Z"
   },
   {
    "duration": 18,
    "start_time": "2023-05-08T21:03:59.746Z"
   },
   {
    "duration": 5,
    "start_time": "2023-05-08T21:03:59.765Z"
   },
   {
    "duration": 4,
    "start_time": "2023-05-08T21:03:59.772Z"
   },
   {
    "duration": 6,
    "start_time": "2023-05-08T21:03:59.777Z"
   },
   {
    "duration": 10,
    "start_time": "2023-05-08T21:03:59.785Z"
   },
   {
    "duration": 8,
    "start_time": "2023-05-08T21:03:59.797Z"
   },
   {
    "duration": 4,
    "start_time": "2023-05-08T21:03:59.807Z"
   },
   {
    "duration": 1340,
    "start_time": "2023-05-08T21:12:21.412Z"
   },
   {
    "duration": 24,
    "start_time": "2023-05-08T21:12:22.755Z"
   },
   {
    "duration": 12,
    "start_time": "2023-05-08T21:12:22.781Z"
   },
   {
    "duration": 35,
    "start_time": "2023-05-08T21:12:22.796Z"
   },
   {
    "duration": 26,
    "start_time": "2023-05-08T21:12:22.833Z"
   },
   {
    "duration": 12,
    "start_time": "2023-05-08T21:12:22.860Z"
   },
   {
    "duration": 20,
    "start_time": "2023-05-08T21:12:22.874Z"
   },
   {
    "duration": 6,
    "start_time": "2023-05-08T21:12:22.895Z"
   },
   {
    "duration": 15,
    "start_time": "2023-05-08T21:12:22.903Z"
   },
   {
    "duration": 11,
    "start_time": "2023-05-08T21:12:22.921Z"
   },
   {
    "duration": 6,
    "start_time": "2023-05-08T21:12:22.934Z"
   },
   {
    "duration": 14,
    "start_time": "2023-05-08T21:12:22.942Z"
   },
   {
    "duration": 4,
    "start_time": "2023-05-08T21:12:22.958Z"
   },
   {
    "duration": 8,
    "start_time": "2023-05-08T21:12:22.964Z"
   },
   {
    "duration": 23,
    "start_time": "2023-05-08T21:12:22.974Z"
   },
   {
    "duration": 261,
    "start_time": "2023-05-08T21:12:23.000Z"
   },
   {
    "duration": 0,
    "start_time": "2023-05-08T21:12:23.263Z"
   },
   {
    "duration": 0,
    "start_time": "2023-05-08T21:12:23.264Z"
   },
   {
    "duration": 0,
    "start_time": "2023-05-08T21:12:23.265Z"
   },
   {
    "duration": 0,
    "start_time": "2023-05-08T21:12:23.267Z"
   },
   {
    "duration": 0,
    "start_time": "2023-05-08T21:12:23.269Z"
   },
   {
    "duration": 1324,
    "start_time": "2023-05-08T21:16:58.708Z"
   },
   {
    "duration": 25,
    "start_time": "2023-05-08T21:17:00.036Z"
   },
   {
    "duration": 15,
    "start_time": "2023-05-08T21:17:00.062Z"
   },
   {
    "duration": 31,
    "start_time": "2023-05-08T21:17:00.079Z"
   },
   {
    "duration": 42,
    "start_time": "2023-05-08T21:17:00.112Z"
   },
   {
    "duration": 21,
    "start_time": "2023-05-08T21:17:00.155Z"
   },
   {
    "duration": 32,
    "start_time": "2023-05-08T21:17:00.177Z"
   },
   {
    "duration": 34,
    "start_time": "2023-05-08T21:17:00.210Z"
   },
   {
    "duration": 31,
    "start_time": "2023-05-08T21:17:00.246Z"
   },
   {
    "duration": 23,
    "start_time": "2023-05-08T21:17:00.280Z"
   },
   {
    "duration": 16,
    "start_time": "2023-05-08T21:17:00.305Z"
   },
   {
    "duration": 121,
    "start_time": "2023-05-08T21:17:00.322Z"
   },
   {
    "duration": 0,
    "start_time": "2023-05-08T21:17:00.444Z"
   },
   {
    "duration": 0,
    "start_time": "2023-05-08T21:17:00.445Z"
   },
   {
    "duration": 0,
    "start_time": "2023-05-08T21:17:00.455Z"
   },
   {
    "duration": 1,
    "start_time": "2023-05-08T21:17:00.456Z"
   },
   {
    "duration": 0,
    "start_time": "2023-05-08T21:17:00.458Z"
   },
   {
    "duration": 0,
    "start_time": "2023-05-08T21:17:00.459Z"
   },
   {
    "duration": 0,
    "start_time": "2023-05-08T21:17:00.460Z"
   },
   {
    "duration": 0,
    "start_time": "2023-05-08T21:17:00.461Z"
   },
   {
    "duration": 0,
    "start_time": "2023-05-08T21:17:00.462Z"
   },
   {
    "duration": 0,
    "start_time": "2023-05-08T21:17:00.464Z"
   },
   {
    "duration": 0,
    "start_time": "2023-05-08T21:17:00.465Z"
   },
   {
    "duration": 1353,
    "start_time": "2023-05-08T21:17:34.693Z"
   },
   {
    "duration": 24,
    "start_time": "2023-05-08T21:17:36.050Z"
   },
   {
    "duration": 13,
    "start_time": "2023-05-08T21:17:36.077Z"
   },
   {
    "duration": 16,
    "start_time": "2023-05-08T21:17:36.092Z"
   },
   {
    "duration": 24,
    "start_time": "2023-05-08T21:17:36.110Z"
   },
   {
    "duration": 10,
    "start_time": "2023-05-08T21:17:36.136Z"
   },
   {
    "duration": 12,
    "start_time": "2023-05-08T21:17:36.148Z"
   },
   {
    "duration": 4,
    "start_time": "2023-05-08T21:17:36.162Z"
   },
   {
    "duration": 6,
    "start_time": "2023-05-08T21:17:36.168Z"
   },
   {
    "duration": 10,
    "start_time": "2023-05-08T21:17:36.176Z"
   },
   {
    "duration": 8,
    "start_time": "2023-05-08T21:17:36.187Z"
   },
   {
    "duration": 5,
    "start_time": "2023-05-08T21:17:36.197Z"
   },
   {
    "duration": 12,
    "start_time": "2023-05-08T21:17:36.203Z"
   },
   {
    "duration": 4,
    "start_time": "2023-05-08T21:17:36.217Z"
   },
   {
    "duration": 5,
    "start_time": "2023-05-08T21:17:36.255Z"
   },
   {
    "duration": 5,
    "start_time": "2023-05-08T21:17:36.261Z"
   },
   {
    "duration": 11,
    "start_time": "2023-05-08T21:17:36.268Z"
   },
   {
    "duration": 267,
    "start_time": "2023-05-08T21:17:36.281Z"
   },
   {
    "duration": 0,
    "start_time": "2023-05-08T21:17:36.556Z"
   },
   {
    "duration": 0,
    "start_time": "2023-05-08T21:17:36.558Z"
   },
   {
    "duration": 0,
    "start_time": "2023-05-08T21:17:36.559Z"
   },
   {
    "duration": 0,
    "start_time": "2023-05-08T21:17:36.560Z"
   },
   {
    "duration": 0,
    "start_time": "2023-05-08T21:17:36.561Z"
   },
   {
    "duration": 1278,
    "start_time": "2023-05-08T21:19:41.214Z"
   },
   {
    "duration": 23,
    "start_time": "2023-05-08T21:19:42.495Z"
   },
   {
    "duration": 12,
    "start_time": "2023-05-08T21:19:42.519Z"
   },
   {
    "duration": 11,
    "start_time": "2023-05-08T21:19:42.533Z"
   },
   {
    "duration": 27,
    "start_time": "2023-05-08T21:19:42.545Z"
   },
   {
    "duration": 9,
    "start_time": "2023-05-08T21:19:42.574Z"
   },
   {
    "duration": 5,
    "start_time": "2023-05-08T21:19:42.584Z"
   },
   {
    "duration": 4,
    "start_time": "2023-05-08T21:19:42.591Z"
   },
   {
    "duration": 5,
    "start_time": "2023-05-08T21:19:42.596Z"
   },
   {
    "duration": 3,
    "start_time": "2023-05-08T21:19:42.604Z"
   },
   {
    "duration": 7,
    "start_time": "2023-05-08T21:19:42.609Z"
   },
   {
    "duration": 39,
    "start_time": "2023-05-08T21:19:42.617Z"
   },
   {
    "duration": 10,
    "start_time": "2023-05-08T21:19:42.657Z"
   },
   {
    "duration": 17,
    "start_time": "2023-05-08T21:19:42.668Z"
   },
   {
    "duration": 5,
    "start_time": "2023-05-08T21:19:42.686Z"
   },
   {
    "duration": 6,
    "start_time": "2023-05-08T21:19:42.692Z"
   },
   {
    "duration": 5,
    "start_time": "2023-05-08T21:19:42.700Z"
   },
   {
    "duration": 49,
    "start_time": "2023-05-08T21:19:42.707Z"
   },
   {
    "duration": 7,
    "start_time": "2023-05-08T21:19:42.758Z"
   },
   {
    "duration": 90,
    "start_time": "2023-05-08T21:19:42.766Z"
   },
   {
    "duration": 198,
    "start_time": "2023-05-08T21:19:42.858Z"
   },
   {
    "duration": 0,
    "start_time": "2023-05-08T21:19:43.058Z"
   },
   {
    "duration": 0,
    "start_time": "2023-05-08T21:19:43.059Z"
   },
   {
    "duration": 0,
    "start_time": "2023-05-08T21:19:43.060Z"
   },
   {
    "duration": 1354,
    "start_time": "2023-05-08T21:22:08.272Z"
   },
   {
    "duration": 25,
    "start_time": "2023-05-08T21:22:09.629Z"
   },
   {
    "duration": 12,
    "start_time": "2023-05-08T21:22:09.656Z"
   },
   {
    "duration": 11,
    "start_time": "2023-05-08T21:22:09.670Z"
   },
   {
    "duration": 36,
    "start_time": "2023-05-08T21:22:09.683Z"
   },
   {
    "duration": 10,
    "start_time": "2023-05-08T21:22:09.720Z"
   },
   {
    "duration": 5,
    "start_time": "2023-05-08T21:22:09.731Z"
   },
   {
    "duration": 17,
    "start_time": "2023-05-08T21:22:09.738Z"
   },
   {
    "duration": 6,
    "start_time": "2023-05-08T21:22:09.757Z"
   },
   {
    "duration": 6,
    "start_time": "2023-05-08T21:22:09.765Z"
   },
   {
    "duration": 8,
    "start_time": "2023-05-08T21:22:09.772Z"
   },
   {
    "duration": 15,
    "start_time": "2023-05-08T21:22:09.781Z"
   },
   {
    "duration": 14,
    "start_time": "2023-05-08T21:22:09.797Z"
   },
   {
    "duration": 13,
    "start_time": "2023-05-08T21:22:09.812Z"
   },
   {
    "duration": 6,
    "start_time": "2023-05-08T21:22:09.826Z"
   },
   {
    "duration": 23,
    "start_time": "2023-05-08T21:22:09.834Z"
   },
   {
    "duration": 9,
    "start_time": "2023-05-08T21:22:09.858Z"
   },
   {
    "duration": 21,
    "start_time": "2023-05-08T21:22:09.868Z"
   },
   {
    "duration": 70,
    "start_time": "2023-05-08T21:22:09.891Z"
   },
   {
    "duration": 10,
    "start_time": "2023-05-08T21:22:09.963Z"
   },
   {
    "duration": 367,
    "start_time": "2023-05-08T21:22:10.057Z"
   },
   {
    "duration": 0,
    "start_time": "2023-05-08T21:22:10.426Z"
   },
   {
    "duration": 0,
    "start_time": "2023-05-08T21:22:10.427Z"
   },
   {
    "duration": 0,
    "start_time": "2023-05-08T21:22:10.428Z"
   },
   {
    "duration": 1357,
    "start_time": "2023-05-08T21:23:53.243Z"
   },
   {
    "duration": 24,
    "start_time": "2023-05-08T21:23:54.604Z"
   },
   {
    "duration": 14,
    "start_time": "2023-05-08T21:23:54.630Z"
   },
   {
    "duration": 14,
    "start_time": "2023-05-08T21:23:54.646Z"
   },
   {
    "duration": 24,
    "start_time": "2023-05-08T21:23:54.662Z"
   },
   {
    "duration": 10,
    "start_time": "2023-05-08T21:23:54.687Z"
   },
   {
    "duration": 5,
    "start_time": "2023-05-08T21:23:54.699Z"
   },
   {
    "duration": 5,
    "start_time": "2023-05-08T21:23:54.705Z"
   },
   {
    "duration": 11,
    "start_time": "2023-05-08T21:23:54.711Z"
   },
   {
    "duration": 4,
    "start_time": "2023-05-08T21:23:54.725Z"
   },
   {
    "duration": 6,
    "start_time": "2023-05-08T21:23:54.756Z"
   },
   {
    "duration": 5,
    "start_time": "2023-05-08T21:23:54.764Z"
   },
   {
    "duration": 12,
    "start_time": "2023-05-08T21:23:54.770Z"
   },
   {
    "duration": 9,
    "start_time": "2023-05-08T21:23:54.783Z"
   },
   {
    "duration": 4,
    "start_time": "2023-05-08T21:23:54.793Z"
   },
   {
    "duration": 3,
    "start_time": "2023-05-08T21:23:54.799Z"
   },
   {
    "duration": 9,
    "start_time": "2023-05-08T21:23:54.803Z"
   },
   {
    "duration": 45,
    "start_time": "2023-05-08T21:23:54.813Z"
   },
   {
    "duration": 7,
    "start_time": "2023-05-08T21:23:54.860Z"
   },
   {
    "duration": 88,
    "start_time": "2023-05-08T21:23:54.868Z"
   },
   {
    "duration": 8,
    "start_time": "2023-05-08T21:23:54.958Z"
   },
   {
    "duration": 102,
    "start_time": "2023-05-08T21:23:54.968Z"
   },
   {
    "duration": 99,
    "start_time": "2023-05-08T21:23:55.071Z"
   },
   {
    "duration": 111,
    "start_time": "2023-05-08T21:23:55.171Z"
   },
   {
    "duration": 1262,
    "start_time": "2023-05-08T21:25:56.599Z"
   },
   {
    "duration": 23,
    "start_time": "2023-05-08T21:25:57.863Z"
   },
   {
    "duration": 12,
    "start_time": "2023-05-08T21:25:57.888Z"
   },
   {
    "duration": 11,
    "start_time": "2023-05-08T21:25:57.902Z"
   },
   {
    "duration": 21,
    "start_time": "2023-05-08T21:25:57.915Z"
   },
   {
    "duration": 20,
    "start_time": "2023-05-08T21:25:57.938Z"
   },
   {
    "duration": 5,
    "start_time": "2023-05-08T21:25:57.960Z"
   },
   {
    "duration": 5,
    "start_time": "2023-05-08T21:25:57.967Z"
   },
   {
    "duration": 5,
    "start_time": "2023-05-08T21:25:57.973Z"
   },
   {
    "duration": 4,
    "start_time": "2023-05-08T21:25:57.980Z"
   },
   {
    "duration": 5,
    "start_time": "2023-05-08T21:25:57.985Z"
   },
   {
    "duration": 15,
    "start_time": "2023-05-08T21:25:57.992Z"
   },
   {
    "duration": 9,
    "start_time": "2023-05-08T21:25:58.008Z"
   },
   {
    "duration": 38,
    "start_time": "2023-05-08T21:25:58.019Z"
   },
   {
    "duration": 5,
    "start_time": "2023-05-08T21:25:58.059Z"
   },
   {
    "duration": 4,
    "start_time": "2023-05-08T21:25:58.066Z"
   },
   {
    "duration": 8,
    "start_time": "2023-05-08T21:25:58.071Z"
   },
   {
    "duration": 10,
    "start_time": "2023-05-08T21:25:58.081Z"
   },
   {
    "duration": 68,
    "start_time": "2023-05-08T21:25:58.092Z"
   },
   {
    "duration": 9,
    "start_time": "2023-05-08T21:25:58.162Z"
   },
   {
    "duration": 9,
    "start_time": "2023-05-08T21:25:58.255Z"
   },
   {
    "duration": 101,
    "start_time": "2023-05-08T21:25:58.266Z"
   },
   {
    "duration": 108,
    "start_time": "2023-05-08T21:25:58.369Z"
   },
   {
    "duration": 12,
    "start_time": "2023-05-08T21:25:58.478Z"
   },
   {
    "duration": 1327,
    "start_time": "2023-05-08T21:45:37.480Z"
   },
   {
    "duration": 23,
    "start_time": "2023-05-08T21:45:38.810Z"
   },
   {
    "duration": 14,
    "start_time": "2023-05-08T21:45:38.835Z"
   },
   {
    "duration": 11,
    "start_time": "2023-05-08T21:45:38.850Z"
   },
   {
    "duration": 22,
    "start_time": "2023-05-08T21:45:38.864Z"
   },
   {
    "duration": 11,
    "start_time": "2023-05-08T21:45:38.888Z"
   },
   {
    "duration": 6,
    "start_time": "2023-05-08T21:45:38.900Z"
   },
   {
    "duration": 5,
    "start_time": "2023-05-08T21:45:38.908Z"
   },
   {
    "duration": 44,
    "start_time": "2023-05-08T21:45:38.915Z"
   },
   {
    "duration": 5,
    "start_time": "2023-05-08T21:45:38.960Z"
   },
   {
    "duration": 8,
    "start_time": "2023-05-08T21:45:38.967Z"
   },
   {
    "duration": 7,
    "start_time": "2023-05-08T21:45:38.977Z"
   },
   {
    "duration": 12,
    "start_time": "2023-05-08T21:45:38.985Z"
   },
   {
    "duration": 10,
    "start_time": "2023-05-08T21:45:38.999Z"
   },
   {
    "duration": 8,
    "start_time": "2023-05-08T21:45:39.010Z"
   },
   {
    "duration": 4,
    "start_time": "2023-05-08T21:45:39.020Z"
   },
   {
    "duration": 33,
    "start_time": "2023-05-08T21:45:39.026Z"
   },
   {
    "duration": 15,
    "start_time": "2023-05-08T21:45:39.061Z"
   },
   {
    "duration": 77,
    "start_time": "2023-05-08T21:45:39.078Z"
   },
   {
    "duration": 8,
    "start_time": "2023-05-08T21:45:39.158Z"
   },
   {
    "duration": 92,
    "start_time": "2023-05-08T21:45:39.168Z"
   },
   {
    "duration": 103,
    "start_time": "2023-05-08T21:45:39.262Z"
   },
   {
    "duration": 101,
    "start_time": "2023-05-08T21:45:39.368Z"
   },
   {
    "duration": 9,
    "start_time": "2023-05-08T21:45:39.470Z"
   },
   {
    "duration": 1317,
    "start_time": "2023-05-08T22:13:04.757Z"
   },
   {
    "duration": 24,
    "start_time": "2023-05-08T22:13:06.079Z"
   },
   {
    "duration": 12,
    "start_time": "2023-05-08T22:13:06.106Z"
   },
   {
    "duration": 11,
    "start_time": "2023-05-08T22:13:06.120Z"
   },
   {
    "duration": 36,
    "start_time": "2023-05-08T22:13:06.132Z"
   },
   {
    "duration": 11,
    "start_time": "2023-05-08T22:13:06.170Z"
   },
   {
    "duration": 5,
    "start_time": "2023-05-08T22:13:06.183Z"
   },
   {
    "duration": 30,
    "start_time": "2023-05-08T22:13:06.190Z"
   },
   {
    "duration": 23,
    "start_time": "2023-05-08T22:13:06.222Z"
   },
   {
    "duration": 5,
    "start_time": "2023-05-08T22:13:06.246Z"
   },
   {
    "duration": 11,
    "start_time": "2023-05-08T22:13:06.252Z"
   },
   {
    "duration": 15,
    "start_time": "2023-05-08T22:13:06.264Z"
   },
   {
    "duration": 20,
    "start_time": "2023-05-08T22:13:06.281Z"
   },
   {
    "duration": 12,
    "start_time": "2023-05-08T22:13:06.303Z"
   },
   {
    "duration": 15,
    "start_time": "2023-05-08T22:13:06.316Z"
   },
   {
    "duration": 4,
    "start_time": "2023-05-08T22:13:06.333Z"
   },
   {
    "duration": 21,
    "start_time": "2023-05-08T22:13:06.339Z"
   },
   {
    "duration": 10,
    "start_time": "2023-05-08T22:13:06.362Z"
   },
   {
    "duration": 6,
    "start_time": "2023-05-08T22:13:06.375Z"
   },
   {
    "duration": 75,
    "start_time": "2023-05-08T22:13:06.383Z"
   },
   {
    "duration": 101,
    "start_time": "2023-05-08T22:13:06.460Z"
   },
   {
    "duration": 99,
    "start_time": "2023-05-08T22:13:06.564Z"
   },
   {
    "duration": 98,
    "start_time": "2023-05-08T22:13:06.665Z"
   },
   {
    "duration": 24,
    "start_time": "2023-05-08T22:13:06.765Z"
   },
   {
    "duration": 1074,
    "start_time": "2023-05-08T22:19:17.745Z"
   },
   {
    "duration": 23,
    "start_time": "2023-05-08T22:19:18.822Z"
   },
   {
    "duration": 16,
    "start_time": "2023-05-08T22:19:18.847Z"
   },
   {
    "duration": 14,
    "start_time": "2023-05-08T22:19:18.865Z"
   },
   {
    "duration": 32,
    "start_time": "2023-05-08T22:19:18.880Z"
   },
   {
    "duration": 11,
    "start_time": "2023-05-08T22:19:18.913Z"
   },
   {
    "duration": 9,
    "start_time": "2023-05-08T22:19:18.925Z"
   },
   {
    "duration": 25,
    "start_time": "2023-05-08T22:19:18.935Z"
   },
   {
    "duration": 28,
    "start_time": "2023-05-08T22:19:18.962Z"
   },
   {
    "duration": 27,
    "start_time": "2023-05-08T22:19:18.993Z"
   },
   {
    "duration": 17,
    "start_time": "2023-05-08T22:19:19.022Z"
   },
   {
    "duration": 24,
    "start_time": "2023-05-08T22:19:19.040Z"
   },
   {
    "duration": 12,
    "start_time": "2023-05-08T22:19:19.066Z"
   },
   {
    "duration": 19,
    "start_time": "2023-05-08T22:19:19.080Z"
   },
   {
    "duration": 6,
    "start_time": "2023-05-08T22:19:19.101Z"
   },
   {
    "duration": 14,
    "start_time": "2023-05-08T22:19:19.108Z"
   },
   {
    "duration": 25,
    "start_time": "2023-05-08T22:19:19.124Z"
   },
   {
    "duration": 14,
    "start_time": "2023-05-08T22:19:19.150Z"
   },
   {
    "duration": 7,
    "start_time": "2023-05-08T22:19:19.165Z"
   },
   {
    "duration": 5,
    "start_time": "2023-05-08T22:19:19.255Z"
   },
   {
    "duration": 99,
    "start_time": "2023-05-08T22:19:19.262Z"
   },
   {
    "duration": 101,
    "start_time": "2023-05-08T22:19:19.363Z"
   },
   {
    "duration": 99,
    "start_time": "2023-05-08T22:19:19.465Z"
   },
   {
    "duration": 7,
    "start_time": "2023-05-08T22:19:19.565Z"
   },
   {
    "duration": 987,
    "start_time": "2023-05-08T23:50:57.796Z"
   },
   {
    "duration": 23,
    "start_time": "2023-05-08T23:50:58.785Z"
   },
   {
    "duration": 15,
    "start_time": "2023-05-08T23:50:58.810Z"
   },
   {
    "duration": 10,
    "start_time": "2023-05-08T23:50:58.827Z"
   },
   {
    "duration": 29,
    "start_time": "2023-05-08T23:50:58.839Z"
   },
   {
    "duration": 11,
    "start_time": "2023-05-08T23:50:58.870Z"
   },
   {
    "duration": 5,
    "start_time": "2023-05-08T23:50:58.883Z"
   },
   {
    "duration": 5,
    "start_time": "2023-05-08T23:50:58.890Z"
   },
   {
    "duration": 6,
    "start_time": "2023-05-08T23:50:58.897Z"
   },
   {
    "duration": 6,
    "start_time": "2023-05-08T23:50:58.906Z"
   },
   {
    "duration": 45,
    "start_time": "2023-05-08T23:50:58.914Z"
   },
   {
    "duration": 5,
    "start_time": "2023-05-08T23:50:58.961Z"
   },
   {
    "duration": 91,
    "start_time": "2023-05-08T23:50:58.968Z"
   },
   {
    "duration": 16,
    "start_time": "2023-05-08T23:50:59.061Z"
   },
   {
    "duration": 7,
    "start_time": "2023-05-08T23:50:59.156Z"
   },
   {
    "duration": 1079,
    "start_time": "2023-05-09T08:27:40.621Z"
   },
   {
    "duration": 86,
    "start_time": "2023-05-09T08:27:41.702Z"
   },
   {
    "duration": 15,
    "start_time": "2023-05-09T08:27:41.790Z"
   },
   {
    "duration": 20,
    "start_time": "2023-05-09T08:27:41.807Z"
   },
   {
    "duration": 28,
    "start_time": "2023-05-09T08:27:41.829Z"
   },
   {
    "duration": 11,
    "start_time": "2023-05-09T08:27:41.859Z"
   },
   {
    "duration": 20,
    "start_time": "2023-05-09T08:27:41.872Z"
   },
   {
    "duration": 7,
    "start_time": "2023-05-09T08:27:41.894Z"
   },
   {
    "duration": 19,
    "start_time": "2023-05-09T08:27:41.902Z"
   },
   {
    "duration": 48,
    "start_time": "2023-05-09T08:27:41.924Z"
   },
   {
    "duration": 0,
    "start_time": "2023-05-09T08:27:41.973Z"
   },
   {
    "duration": 0,
    "start_time": "2023-05-09T08:27:41.975Z"
   },
   {
    "duration": 0,
    "start_time": "2023-05-09T08:27:41.976Z"
   },
   {
    "duration": 0,
    "start_time": "2023-05-09T08:27:41.977Z"
   },
   {
    "duration": 0,
    "start_time": "2023-05-09T08:27:41.978Z"
   },
   {
    "duration": 0,
    "start_time": "2023-05-09T08:27:41.979Z"
   },
   {
    "duration": 1032,
    "start_time": "2023-05-09T08:27:58.634Z"
   },
   {
    "duration": 25,
    "start_time": "2023-05-09T08:27:59.668Z"
   },
   {
    "duration": 16,
    "start_time": "2023-05-09T08:27:59.697Z"
   },
   {
    "duration": 11,
    "start_time": "2023-05-09T08:27:59.714Z"
   },
   {
    "duration": 23,
    "start_time": "2023-05-09T08:27:59.727Z"
   },
   {
    "duration": 10,
    "start_time": "2023-05-09T08:27:59.752Z"
   },
   {
    "duration": 5,
    "start_time": "2023-05-09T08:27:59.792Z"
   },
   {
    "duration": 4,
    "start_time": "2023-05-09T08:27:59.799Z"
   },
   {
    "duration": 5,
    "start_time": "2023-05-09T08:27:59.805Z"
   },
   {
    "duration": 6,
    "start_time": "2023-05-09T08:27:59.811Z"
   },
   {
    "duration": 10,
    "start_time": "2023-05-09T08:27:59.819Z"
   },
   {
    "duration": 5,
    "start_time": "2023-05-09T08:27:59.892Z"
   },
   {
    "duration": 6,
    "start_time": "2023-05-09T08:27:59.899Z"
   },
   {
    "duration": 109,
    "start_time": "2023-05-09T08:27:59.906Z"
   },
   {
    "duration": 76,
    "start_time": "2023-05-09T08:28:00.017Z"
   },
   {
    "duration": 1112,
    "start_time": "2023-05-09T08:29:40.265Z"
   },
   {
    "duration": 26,
    "start_time": "2023-05-09T08:29:41.379Z"
   },
   {
    "duration": 16,
    "start_time": "2023-05-09T08:29:41.407Z"
   },
   {
    "duration": 13,
    "start_time": "2023-05-09T08:29:41.425Z"
   },
   {
    "duration": 23,
    "start_time": "2023-05-09T08:29:41.440Z"
   },
   {
    "duration": 29,
    "start_time": "2023-05-09T08:29:41.464Z"
   },
   {
    "duration": 6,
    "start_time": "2023-05-09T08:29:41.495Z"
   },
   {
    "duration": 6,
    "start_time": "2023-05-09T08:29:41.502Z"
   },
   {
    "duration": 7,
    "start_time": "2023-05-09T08:29:41.509Z"
   },
   {
    "duration": 15,
    "start_time": "2023-05-09T08:29:41.518Z"
   },
   {
    "duration": 13,
    "start_time": "2023-05-09T08:29:41.535Z"
   },
   {
    "duration": 183,
    "start_time": "2023-05-09T08:29:41.592Z"
   },
   {
    "duration": 0,
    "start_time": "2023-05-09T08:29:41.777Z"
   },
   {
    "duration": 0,
    "start_time": "2023-05-09T08:29:41.778Z"
   },
   {
    "duration": 0,
    "start_time": "2023-05-09T08:29:41.779Z"
   },
   {
    "duration": 1031,
    "start_time": "2023-05-09T08:30:24.641Z"
   },
   {
    "duration": 25,
    "start_time": "2023-05-09T08:30:25.674Z"
   },
   {
    "duration": 16,
    "start_time": "2023-05-09T08:30:25.700Z"
   },
   {
    "duration": 11,
    "start_time": "2023-05-09T08:30:25.718Z"
   },
   {
    "duration": 26,
    "start_time": "2023-05-09T08:30:25.731Z"
   },
   {
    "duration": 10,
    "start_time": "2023-05-09T08:30:25.759Z"
   },
   {
    "duration": 27,
    "start_time": "2023-05-09T08:30:25.770Z"
   },
   {
    "duration": 5,
    "start_time": "2023-05-09T08:30:25.798Z"
   },
   {
    "duration": 9,
    "start_time": "2023-05-09T08:30:25.805Z"
   },
   {
    "duration": 6,
    "start_time": "2023-05-09T08:30:25.815Z"
   },
   {
    "duration": 9,
    "start_time": "2023-05-09T08:30:25.823Z"
   },
   {
    "duration": 363,
    "start_time": "2023-05-09T08:30:25.893Z"
   },
   {
    "duration": 1,
    "start_time": "2023-05-09T08:30:26.257Z"
   },
   {
    "duration": 0,
    "start_time": "2023-05-09T08:30:26.259Z"
   },
   {
    "duration": 0,
    "start_time": "2023-05-09T08:30:26.259Z"
   },
   {
    "duration": 1065,
    "start_time": "2023-05-09T08:32:06.105Z"
   },
   {
    "duration": 25,
    "start_time": "2023-05-09T08:32:07.172Z"
   },
   {
    "duration": 16,
    "start_time": "2023-05-09T08:32:07.199Z"
   },
   {
    "duration": 11,
    "start_time": "2023-05-09T08:32:07.217Z"
   },
   {
    "duration": 27,
    "start_time": "2023-05-09T08:32:07.230Z"
   },
   {
    "duration": 9,
    "start_time": "2023-05-09T08:32:07.259Z"
   },
   {
    "duration": 6,
    "start_time": "2023-05-09T08:32:07.292Z"
   },
   {
    "duration": 6,
    "start_time": "2023-05-09T08:32:07.300Z"
   },
   {
    "duration": 30,
    "start_time": "2023-05-09T08:32:07.308Z"
   },
   {
    "duration": 21,
    "start_time": "2023-05-09T08:32:07.341Z"
   },
   {
    "duration": 32,
    "start_time": "2023-05-09T08:32:07.364Z"
   },
   {
    "duration": 7,
    "start_time": "2023-05-09T08:32:07.398Z"
   },
   {
    "duration": 89,
    "start_time": "2023-05-09T08:32:07.407Z"
   },
   {
    "duration": 112,
    "start_time": "2023-05-09T08:32:07.498Z"
   },
   {
    "duration": 85,
    "start_time": "2023-05-09T08:32:07.612Z"
   },
   {
    "duration": 1114,
    "start_time": "2023-05-09T08:34:18.490Z"
   },
   {
    "duration": 25,
    "start_time": "2023-05-09T08:34:19.607Z"
   },
   {
    "duration": 16,
    "start_time": "2023-05-09T08:34:19.633Z"
   },
   {
    "duration": 12,
    "start_time": "2023-05-09T08:34:19.650Z"
   },
   {
    "duration": 22,
    "start_time": "2023-05-09T08:34:19.664Z"
   },
   {
    "duration": 12,
    "start_time": "2023-05-09T08:34:19.688Z"
   },
   {
    "duration": 6,
    "start_time": "2023-05-09T08:34:19.701Z"
   },
   {
    "duration": 7,
    "start_time": "2023-05-09T08:34:19.708Z"
   },
   {
    "duration": 30,
    "start_time": "2023-05-09T08:34:19.717Z"
   },
   {
    "duration": 8,
    "start_time": "2023-05-09T08:34:19.748Z"
   },
   {
    "duration": 37,
    "start_time": "2023-05-09T08:34:19.757Z"
   },
   {
    "duration": 8,
    "start_time": "2023-05-09T08:34:19.796Z"
   },
   {
    "duration": 90,
    "start_time": "2023-05-09T08:34:19.806Z"
   },
   {
    "duration": 101,
    "start_time": "2023-05-09T08:34:19.898Z"
   },
   {
    "duration": 18,
    "start_time": "2023-05-09T08:34:20.001Z"
   },
   {
    "duration": 1047,
    "start_time": "2023-05-09T08:36:03.144Z"
   },
   {
    "duration": 25,
    "start_time": "2023-05-09T08:36:04.193Z"
   },
   {
    "duration": 17,
    "start_time": "2023-05-09T08:36:04.220Z"
   },
   {
    "duration": 12,
    "start_time": "2023-05-09T08:36:04.239Z"
   },
   {
    "duration": 25,
    "start_time": "2023-05-09T08:36:04.253Z"
   },
   {
    "duration": 23,
    "start_time": "2023-05-09T08:36:04.280Z"
   },
   {
    "duration": 6,
    "start_time": "2023-05-09T08:36:04.305Z"
   },
   {
    "duration": 6,
    "start_time": "2023-05-09T08:36:04.313Z"
   },
   {
    "duration": 7,
    "start_time": "2023-05-09T08:36:04.321Z"
   },
   {
    "duration": 11,
    "start_time": "2023-05-09T08:36:04.331Z"
   },
   {
    "duration": 53,
    "start_time": "2023-05-09T08:36:04.343Z"
   },
   {
    "duration": 5,
    "start_time": "2023-05-09T08:36:04.397Z"
   },
   {
    "duration": 90,
    "start_time": "2023-05-09T08:36:04.404Z"
   },
   {
    "duration": 6,
    "start_time": "2023-05-09T08:36:04.497Z"
   },
   {
    "duration": 5,
    "start_time": "2023-05-09T08:36:04.505Z"
   },
   {
    "duration": 14,
    "start_time": "2023-05-09T08:36:04.592Z"
   },
   {
    "duration": 123,
    "start_time": "2023-05-09T08:36:04.607Z"
   },
   {
    "duration": 1060,
    "start_time": "2023-05-09T08:38:01.035Z"
   },
   {
    "duration": 26,
    "start_time": "2023-05-09T08:38:02.097Z"
   },
   {
    "duration": 16,
    "start_time": "2023-05-09T08:38:02.125Z"
   },
   {
    "duration": 21,
    "start_time": "2023-05-09T08:38:02.143Z"
   },
   {
    "duration": 48,
    "start_time": "2023-05-09T08:38:02.167Z"
   },
   {
    "duration": 13,
    "start_time": "2023-05-09T08:38:02.217Z"
   },
   {
    "duration": 15,
    "start_time": "2023-05-09T08:38:02.232Z"
   },
   {
    "duration": 35,
    "start_time": "2023-05-09T08:38:02.249Z"
   },
   {
    "duration": 26,
    "start_time": "2023-05-09T08:38:02.286Z"
   },
   {
    "duration": 17,
    "start_time": "2023-05-09T08:38:02.314Z"
   },
   {
    "duration": 11,
    "start_time": "2023-05-09T08:38:02.333Z"
   },
   {
    "duration": 50,
    "start_time": "2023-05-09T08:38:02.346Z"
   },
   {
    "duration": 7,
    "start_time": "2023-05-09T08:38:02.398Z"
   },
   {
    "duration": 16,
    "start_time": "2023-05-09T08:38:02.491Z"
   },
   {
    "duration": 84,
    "start_time": "2023-05-09T08:38:02.509Z"
   },
   {
    "duration": 13,
    "start_time": "2023-05-09T08:38:02.596Z"
   },
   {
    "duration": 89,
    "start_time": "2023-05-09T08:38:02.611Z"
   },
   {
    "duration": 91,
    "start_time": "2023-05-09T08:38:02.702Z"
   },
   {
    "duration": 1051,
    "start_time": "2023-05-09T08:41:14.137Z"
   },
   {
    "duration": 26,
    "start_time": "2023-05-09T08:41:15.190Z"
   },
   {
    "duration": 16,
    "start_time": "2023-05-09T08:41:15.217Z"
   },
   {
    "duration": 19,
    "start_time": "2023-05-09T08:41:15.235Z"
   },
   {
    "duration": 23,
    "start_time": "2023-05-09T08:41:15.256Z"
   },
   {
    "duration": 11,
    "start_time": "2023-05-09T08:41:15.281Z"
   },
   {
    "duration": 15,
    "start_time": "2023-05-09T08:41:15.293Z"
   },
   {
    "duration": 5,
    "start_time": "2023-05-09T08:41:15.310Z"
   },
   {
    "duration": 12,
    "start_time": "2023-05-09T08:41:15.316Z"
   },
   {
    "duration": 6,
    "start_time": "2023-05-09T08:41:15.330Z"
   },
   {
    "duration": 10,
    "start_time": "2023-05-09T08:41:15.337Z"
   },
   {
    "duration": 16,
    "start_time": "2023-05-09T08:41:15.392Z"
   },
   {
    "duration": 195,
    "start_time": "2023-05-09T08:41:15.410Z"
   },
   {
    "duration": 0,
    "start_time": "2023-05-09T08:41:15.607Z"
   },
   {
    "duration": 0,
    "start_time": "2023-05-09T08:41:15.609Z"
   },
   {
    "duration": 1074,
    "start_time": "2023-05-09T08:41:32.799Z"
   },
   {
    "duration": 26,
    "start_time": "2023-05-09T08:41:33.875Z"
   },
   {
    "duration": 16,
    "start_time": "2023-05-09T08:41:33.902Z"
   },
   {
    "duration": 15,
    "start_time": "2023-05-09T08:41:33.919Z"
   },
   {
    "duration": 24,
    "start_time": "2023-05-09T08:41:33.936Z"
   },
   {
    "duration": 31,
    "start_time": "2023-05-09T08:41:33.962Z"
   },
   {
    "duration": 6,
    "start_time": "2023-05-09T08:41:33.994Z"
   },
   {
    "duration": 9,
    "start_time": "2023-05-09T08:41:34.001Z"
   },
   {
    "duration": 6,
    "start_time": "2023-05-09T08:41:34.012Z"
   },
   {
    "duration": 6,
    "start_time": "2023-05-09T08:41:34.019Z"
   },
   {
    "duration": 8,
    "start_time": "2023-05-09T08:41:34.026Z"
   },
   {
    "duration": 236,
    "start_time": "2023-05-09T08:41:34.036Z"
   },
   {
    "duration": 0,
    "start_time": "2023-05-09T08:41:34.274Z"
   },
   {
    "duration": 0,
    "start_time": "2023-05-09T08:41:34.275Z"
   },
   {
    "duration": 0,
    "start_time": "2023-05-09T08:41:34.276Z"
   },
   {
    "duration": 1010,
    "start_time": "2023-05-09T08:41:55.451Z"
   },
   {
    "duration": 26,
    "start_time": "2023-05-09T08:41:56.463Z"
   },
   {
    "duration": 17,
    "start_time": "2023-05-09T08:41:56.490Z"
   },
   {
    "duration": 12,
    "start_time": "2023-05-09T08:41:56.509Z"
   },
   {
    "duration": 24,
    "start_time": "2023-05-09T08:41:56.523Z"
   },
   {
    "duration": 10,
    "start_time": "2023-05-09T08:41:56.549Z"
   },
   {
    "duration": 35,
    "start_time": "2023-05-09T08:41:56.561Z"
   },
   {
    "duration": 5,
    "start_time": "2023-05-09T08:41:56.598Z"
   },
   {
    "duration": 7,
    "start_time": "2023-05-09T08:41:56.605Z"
   },
   {
    "duration": 7,
    "start_time": "2023-05-09T08:41:56.614Z"
   },
   {
    "duration": 13,
    "start_time": "2023-05-09T08:41:56.623Z"
   },
   {
    "duration": 68,
    "start_time": "2023-05-09T08:41:56.637Z"
   },
   {
    "duration": 88,
    "start_time": "2023-05-09T08:41:56.707Z"
   },
   {
    "duration": 18,
    "start_time": "2023-05-09T08:41:56.797Z"
   },
   {
    "duration": 9,
    "start_time": "2023-05-09T08:41:56.892Z"
   },
   {
    "duration": 1142,
    "start_time": "2023-05-09T08:45:47.799Z"
   },
   {
    "duration": 25,
    "start_time": "2023-05-09T08:45:48.943Z"
   },
   {
    "duration": 18,
    "start_time": "2023-05-09T08:45:48.970Z"
   },
   {
    "duration": 12,
    "start_time": "2023-05-09T08:45:48.990Z"
   },
   {
    "duration": 27,
    "start_time": "2023-05-09T08:45:49.005Z"
   },
   {
    "duration": 12,
    "start_time": "2023-05-09T08:45:49.034Z"
   },
   {
    "duration": 8,
    "start_time": "2023-05-09T08:45:49.049Z"
   },
   {
    "duration": 33,
    "start_time": "2023-05-09T08:45:49.059Z"
   },
   {
    "duration": 18,
    "start_time": "2023-05-09T08:45:49.093Z"
   },
   {
    "duration": 15,
    "start_time": "2023-05-09T08:45:49.113Z"
   },
   {
    "duration": 11,
    "start_time": "2023-05-09T08:45:49.130Z"
   },
   {
    "duration": 8,
    "start_time": "2023-05-09T08:45:49.192Z"
   },
   {
    "duration": 92,
    "start_time": "2023-05-09T08:45:49.202Z"
   },
   {
    "duration": 107,
    "start_time": "2023-05-09T08:45:49.297Z"
   },
   {
    "duration": 23,
    "start_time": "2023-05-09T08:45:49.406Z"
   },
   {
    "duration": 1145,
    "start_time": "2023-05-09T08:48:04.725Z"
   },
   {
    "duration": 28,
    "start_time": "2023-05-09T08:48:05.873Z"
   },
   {
    "duration": 23,
    "start_time": "2023-05-09T08:48:05.903Z"
   },
   {
    "duration": 15,
    "start_time": "2023-05-09T08:48:05.928Z"
   },
   {
    "duration": 53,
    "start_time": "2023-05-09T08:48:05.945Z"
   },
   {
    "duration": 14,
    "start_time": "2023-05-09T08:48:06.000Z"
   },
   {
    "duration": 8,
    "start_time": "2023-05-09T08:48:06.016Z"
   },
   {
    "duration": 5,
    "start_time": "2023-05-09T08:48:06.026Z"
   },
   {
    "duration": 11,
    "start_time": "2023-05-09T08:48:06.032Z"
   },
   {
    "duration": 7,
    "start_time": "2023-05-09T08:48:06.045Z"
   },
   {
    "duration": 41,
    "start_time": "2023-05-09T08:48:06.054Z"
   },
   {
    "duration": 6,
    "start_time": "2023-05-09T08:48:06.100Z"
   },
   {
    "duration": 85,
    "start_time": "2023-05-09T08:48:06.108Z"
   },
   {
    "duration": 102,
    "start_time": "2023-05-09T08:48:06.196Z"
   },
   {
    "duration": 8,
    "start_time": "2023-05-09T08:48:06.300Z"
   },
   {
    "duration": 1136,
    "start_time": "2023-05-09T08:51:42.953Z"
   },
   {
    "duration": 25,
    "start_time": "2023-05-09T08:51:44.091Z"
   },
   {
    "duration": 15,
    "start_time": "2023-05-09T08:51:44.118Z"
   },
   {
    "duration": 11,
    "start_time": "2023-05-09T08:51:44.136Z"
   },
   {
    "duration": 21,
    "start_time": "2023-05-09T08:51:44.149Z"
   },
   {
    "duration": 20,
    "start_time": "2023-05-09T08:51:44.172Z"
   },
   {
    "duration": 6,
    "start_time": "2023-05-09T08:51:44.194Z"
   },
   {
    "duration": 5,
    "start_time": "2023-05-09T08:51:44.201Z"
   },
   {
    "duration": 9,
    "start_time": "2023-05-09T08:51:44.208Z"
   },
   {
    "duration": 7,
    "start_time": "2023-05-09T08:51:44.219Z"
   },
   {
    "duration": 11,
    "start_time": "2023-05-09T08:51:44.227Z"
   },
   {
    "duration": 7,
    "start_time": "2023-05-09T08:51:44.292Z"
   },
   {
    "duration": 6,
    "start_time": "2023-05-09T08:51:44.301Z"
   },
   {
    "duration": 16,
    "start_time": "2023-05-09T08:51:44.392Z"
   },
   {
    "duration": 89,
    "start_time": "2023-05-09T08:51:44.409Z"
   },
   {
    "duration": 1040,
    "start_time": "2023-05-09T09:06:20.132Z"
   },
   {
    "duration": 26,
    "start_time": "2023-05-09T09:06:21.174Z"
   },
   {
    "duration": 17,
    "start_time": "2023-05-09T09:06:21.202Z"
   },
   {
    "duration": 10,
    "start_time": "2023-05-09T09:06:21.221Z"
   },
   {
    "duration": 24,
    "start_time": "2023-05-09T09:06:21.233Z"
   },
   {
    "duration": 10,
    "start_time": "2023-05-09T09:06:21.258Z"
   },
   {
    "duration": 25,
    "start_time": "2023-05-09T09:06:21.270Z"
   },
   {
    "duration": 5,
    "start_time": "2023-05-09T09:06:21.297Z"
   },
   {
    "duration": 8,
    "start_time": "2023-05-09T09:06:21.303Z"
   },
   {
    "duration": 7,
    "start_time": "2023-05-09T09:06:21.313Z"
   },
   {
    "duration": 10,
    "start_time": "2023-05-09T09:06:21.321Z"
   },
   {
    "duration": 6,
    "start_time": "2023-05-09T09:06:21.392Z"
   },
   {
    "duration": 4,
    "start_time": "2023-05-09T09:06:21.401Z"
   },
   {
    "duration": 102,
    "start_time": "2023-05-09T09:06:21.407Z"
   },
   {
    "duration": 87,
    "start_time": "2023-05-09T09:06:21.511Z"
   },
   {
    "duration": 7,
    "start_time": "2023-05-09T09:07:55.627Z"
   },
   {
    "duration": 1233,
    "start_time": "2023-05-09T09:17:15.884Z"
   },
   {
    "duration": 27,
    "start_time": "2023-05-09T09:17:17.119Z"
   },
   {
    "duration": 18,
    "start_time": "2023-05-09T09:17:17.148Z"
   },
   {
    "duration": 13,
    "start_time": "2023-05-09T09:17:17.167Z"
   },
   {
    "duration": 37,
    "start_time": "2023-05-09T09:17:17.183Z"
   },
   {
    "duration": 11,
    "start_time": "2023-05-09T09:17:17.222Z"
   },
   {
    "duration": 6,
    "start_time": "2023-05-09T09:17:17.235Z"
   },
   {
    "duration": 23,
    "start_time": "2023-05-09T09:17:17.242Z"
   },
   {
    "duration": 6,
    "start_time": "2023-05-09T09:17:17.267Z"
   },
   {
    "duration": 27,
    "start_time": "2023-05-09T09:17:17.274Z"
   },
   {
    "duration": 14,
    "start_time": "2023-05-09T09:17:17.302Z"
   },
   {
    "duration": 79,
    "start_time": "2023-05-09T09:17:17.318Z"
   },
   {
    "duration": 12,
    "start_time": "2023-05-09T09:17:17.400Z"
   },
   {
    "duration": 98,
    "start_time": "2023-05-09T09:17:17.415Z"
   },
   {
    "duration": 95,
    "start_time": "2023-05-09T09:17:17.516Z"
   },
   {
    "duration": 7,
    "start_time": "2023-05-09T09:17:17.614Z"
   },
   {
    "duration": 248,
    "start_time": "2023-05-09T09:17:17.625Z"
   },
   {
    "duration": 10,
    "start_time": "2023-05-09T09:19:43.345Z"
   },
   {
    "duration": 1192,
    "start_time": "2023-05-09T09:24:14.563Z"
   },
   {
    "duration": 27,
    "start_time": "2023-05-09T09:24:15.757Z"
   },
   {
    "duration": 20,
    "start_time": "2023-05-09T09:24:15.785Z"
   },
   {
    "duration": 13,
    "start_time": "2023-05-09T09:24:15.807Z"
   },
   {
    "duration": 25,
    "start_time": "2023-05-09T09:24:15.822Z"
   },
   {
    "duration": 11,
    "start_time": "2023-05-09T09:24:15.849Z"
   },
   {
    "duration": 6,
    "start_time": "2023-05-09T09:24:15.891Z"
   },
   {
    "duration": 8,
    "start_time": "2023-05-09T09:24:15.899Z"
   },
   {
    "duration": 6,
    "start_time": "2023-05-09T09:24:15.909Z"
   },
   {
    "duration": 15,
    "start_time": "2023-05-09T09:24:15.917Z"
   },
   {
    "duration": 57,
    "start_time": "2023-05-09T09:24:15.934Z"
   },
   {
    "duration": 14,
    "start_time": "2023-05-09T09:24:15.994Z"
   },
   {
    "duration": 7,
    "start_time": "2023-05-09T09:24:16.093Z"
   },
   {
    "duration": 91,
    "start_time": "2023-05-09T09:24:16.102Z"
   },
   {
    "duration": 9,
    "start_time": "2023-05-09T09:24:16.195Z"
   },
   {
    "duration": 1128,
    "start_time": "2023-05-09T09:34:52.646Z"
   },
   {
    "duration": 34,
    "start_time": "2023-05-09T09:34:53.777Z"
   },
   {
    "duration": 16,
    "start_time": "2023-05-09T09:34:53.813Z"
   },
   {
    "duration": 14,
    "start_time": "2023-05-09T09:34:53.831Z"
   },
   {
    "duration": 32,
    "start_time": "2023-05-09T09:34:53.848Z"
   },
   {
    "duration": 27,
    "start_time": "2023-05-09T09:34:53.882Z"
   },
   {
    "duration": 7,
    "start_time": "2023-05-09T09:34:53.911Z"
   },
   {
    "duration": 8,
    "start_time": "2023-05-09T09:34:53.920Z"
   },
   {
    "duration": 9,
    "start_time": "2023-05-09T09:34:53.930Z"
   },
   {
    "duration": 7,
    "start_time": "2023-05-09T09:34:53.942Z"
   },
   {
    "duration": 52,
    "start_time": "2023-05-09T09:34:53.951Z"
   },
   {
    "duration": 10,
    "start_time": "2023-05-09T09:34:54.005Z"
   },
   {
    "duration": 87,
    "start_time": "2023-05-09T09:34:54.017Z"
   },
   {
    "duration": 10,
    "start_time": "2023-05-09T09:34:54.106Z"
   },
   {
    "duration": 1085,
    "start_time": "2023-05-09T09:43:35.228Z"
   },
   {
    "duration": 26,
    "start_time": "2023-05-09T09:43:36.315Z"
   },
   {
    "duration": 30,
    "start_time": "2023-05-09T09:43:36.343Z"
   },
   {
    "duration": 12,
    "start_time": "2023-05-09T09:43:36.376Z"
   },
   {
    "duration": 31,
    "start_time": "2023-05-09T09:43:36.390Z"
   },
   {
    "duration": 15,
    "start_time": "2023-05-09T09:43:36.423Z"
   },
   {
    "duration": 10,
    "start_time": "2023-05-09T09:43:36.440Z"
   },
   {
    "duration": 9,
    "start_time": "2023-05-09T09:43:36.452Z"
   },
   {
    "duration": 30,
    "start_time": "2023-05-09T09:43:36.463Z"
   },
   {
    "duration": 14,
    "start_time": "2023-05-09T09:43:36.496Z"
   },
   {
    "duration": 21,
    "start_time": "2023-05-09T09:43:36.512Z"
   },
   {
    "duration": 58,
    "start_time": "2023-05-09T09:43:36.536Z"
   },
   {
    "duration": 98,
    "start_time": "2023-05-09T09:43:36.596Z"
   },
   {
    "duration": 21,
    "start_time": "2023-05-09T09:43:36.695Z"
   },
   {
    "duration": 1056,
    "start_time": "2023-05-09T09:46:21.498Z"
   },
   {
    "duration": 25,
    "start_time": "2023-05-09T09:46:22.556Z"
   },
   {
    "duration": 16,
    "start_time": "2023-05-09T09:46:22.582Z"
   },
   {
    "duration": 10,
    "start_time": "2023-05-09T09:46:22.600Z"
   },
   {
    "duration": 23,
    "start_time": "2023-05-09T09:46:22.612Z"
   },
   {
    "duration": 10,
    "start_time": "2023-05-09T09:46:22.637Z"
   },
   {
    "duration": 6,
    "start_time": "2023-05-09T09:46:22.649Z"
   },
   {
    "duration": 39,
    "start_time": "2023-05-09T09:46:22.656Z"
   },
   {
    "duration": 6,
    "start_time": "2023-05-09T09:46:22.697Z"
   },
   {
    "duration": 10,
    "start_time": "2023-05-09T09:46:22.706Z"
   },
   {
    "duration": 20,
    "start_time": "2023-05-09T09:46:22.717Z"
   },
   {
    "duration": 56,
    "start_time": "2023-05-09T09:46:22.739Z"
   },
   {
    "duration": 7,
    "start_time": "2023-05-09T09:46:22.797Z"
   },
   {
    "duration": 93,
    "start_time": "2023-05-09T09:46:22.806Z"
   },
   {
    "duration": 1783,
    "start_time": "2023-05-09T10:01:49.515Z"
   },
   {
    "duration": 83,
    "start_time": "2023-05-09T10:01:51.301Z"
   },
   {
    "duration": 18,
    "start_time": "2023-05-09T10:01:51.385Z"
   },
   {
    "duration": 21,
    "start_time": "2023-05-09T10:01:51.405Z"
   },
   {
    "duration": 25,
    "start_time": "2023-05-09T10:01:51.428Z"
   },
   {
    "duration": 11,
    "start_time": "2023-05-09T10:01:51.455Z"
   },
   {
    "duration": 23,
    "start_time": "2023-05-09T10:01:51.467Z"
   },
   {
    "duration": 6,
    "start_time": "2023-05-09T10:01:51.491Z"
   },
   {
    "duration": 23,
    "start_time": "2023-05-09T10:01:51.498Z"
   },
   {
    "duration": 17,
    "start_time": "2023-05-09T10:01:51.524Z"
   },
   {
    "duration": 17,
    "start_time": "2023-05-09T10:01:51.543Z"
   },
   {
    "duration": 17,
    "start_time": "2023-05-09T10:01:51.590Z"
   },
   {
    "duration": 6,
    "start_time": "2023-05-09T10:01:51.691Z"
   },
   {
    "duration": 94,
    "start_time": "2023-05-09T10:01:51.699Z"
   },
   {
    "duration": 8,
    "start_time": "2023-05-09T10:37:19.641Z"
   },
   {
    "duration": 5,
    "start_time": "2023-05-09T10:37:24.752Z"
   },
   {
    "duration": 13,
    "start_time": "2023-05-09T10:37:32.257Z"
   },
   {
    "duration": 8,
    "start_time": "2023-05-09T10:37:53.134Z"
   },
   {
    "duration": 17,
    "start_time": "2023-05-09T10:37:54.701Z"
   },
   {
    "duration": 8,
    "start_time": "2023-05-09T10:37:59.313Z"
   },
   {
    "duration": 14,
    "start_time": "2023-05-09T10:38:00.962Z"
   },
   {
    "duration": 6,
    "start_time": "2023-05-09T10:38:44.932Z"
   },
   {
    "duration": 15,
    "start_time": "2023-05-09T10:38:47.175Z"
   },
   {
    "duration": 1972,
    "start_time": "2023-05-09T10:39:08.864Z"
   },
   {
    "duration": 24,
    "start_time": "2023-05-09T10:39:10.838Z"
   },
   {
    "duration": 16,
    "start_time": "2023-05-09T10:39:10.864Z"
   },
   {
    "duration": 18,
    "start_time": "2023-05-09T10:39:10.882Z"
   },
   {
    "duration": 32,
    "start_time": "2023-05-09T10:39:10.902Z"
   },
   {
    "duration": 11,
    "start_time": "2023-05-09T10:39:10.936Z"
   },
   {
    "duration": 6,
    "start_time": "2023-05-09T10:39:10.949Z"
   },
   {
    "duration": 35,
    "start_time": "2023-05-09T10:39:10.957Z"
   },
   {
    "duration": 18,
    "start_time": "2023-05-09T10:39:10.995Z"
   },
   {
    "duration": 21,
    "start_time": "2023-05-09T10:39:11.016Z"
   },
   {
    "duration": 16,
    "start_time": "2023-05-09T10:39:11.039Z"
   },
   {
    "duration": 27,
    "start_time": "2023-05-09T10:39:11.089Z"
   },
   {
    "duration": 17,
    "start_time": "2023-05-09T10:39:11.191Z"
   },
   {
    "duration": 83,
    "start_time": "2023-05-09T10:39:11.213Z"
   },
   {
    "duration": 81,
    "start_time": "2023-05-09T16:57:24.855Z"
   },
   {
    "duration": 86,
    "start_time": "2023-05-09T18:51:34.086Z"
   },
   {
    "duration": 1108,
    "start_time": "2023-05-09T20:34:20.434Z"
   },
   {
    "duration": 86,
    "start_time": "2023-05-09T20:34:21.544Z"
   },
   {
    "duration": 17,
    "start_time": "2023-05-09T20:34:21.635Z"
   },
   {
    "duration": 18,
    "start_time": "2023-05-09T20:34:21.655Z"
   },
   {
    "duration": 26,
    "start_time": "2023-05-09T20:34:21.675Z"
   },
   {
    "duration": 11,
    "start_time": "2023-05-09T20:34:21.703Z"
   },
   {
    "duration": 27,
    "start_time": "2023-05-09T20:34:21.715Z"
   },
   {
    "duration": 7,
    "start_time": "2023-05-09T20:34:21.743Z"
   },
   {
    "duration": 19,
    "start_time": "2023-05-09T20:34:21.751Z"
   },
   {
    "duration": 18,
    "start_time": "2023-05-09T20:34:21.772Z"
   },
   {
    "duration": 20,
    "start_time": "2023-05-09T20:34:21.791Z"
   },
   {
    "duration": 10,
    "start_time": "2023-05-09T20:34:21.841Z"
   },
   {
    "duration": 89,
    "start_time": "2023-05-09T20:34:21.855Z"
   },
   {
    "duration": 14,
    "start_time": "2023-05-09T20:34:21.946Z"
   },
   {
    "duration": 1108,
    "start_time": "2023-05-09T20:41:39.498Z"
   },
   {
    "duration": 30,
    "start_time": "2023-05-09T20:41:40.608Z"
   },
   {
    "duration": 20,
    "start_time": "2023-05-09T20:41:40.644Z"
   },
   {
    "duration": 13,
    "start_time": "2023-05-09T20:41:40.666Z"
   },
   {
    "duration": 24,
    "start_time": "2023-05-09T20:41:40.681Z"
   },
   {
    "duration": 47,
    "start_time": "2023-05-09T20:41:40.707Z"
   },
   {
    "duration": 11,
    "start_time": "2023-05-09T20:41:40.756Z"
   },
   {
    "duration": 12,
    "start_time": "2023-05-09T20:41:40.768Z"
   },
   {
    "duration": 8,
    "start_time": "2023-05-09T20:41:40.783Z"
   },
   {
    "duration": 7,
    "start_time": "2023-05-09T20:41:40.793Z"
   },
   {
    "duration": 52,
    "start_time": "2023-05-09T20:41:40.802Z"
   },
   {
    "duration": 86,
    "start_time": "2023-05-09T20:41:40.857Z"
   },
   {
    "duration": 9,
    "start_time": "2023-05-09T20:41:40.945Z"
   },
   {
    "duration": 85,
    "start_time": "2023-05-09T20:41:40.956Z"
   },
   {
    "duration": 1264,
    "start_time": "2023-05-09T20:50:38.138Z"
   },
   {
    "duration": 30,
    "start_time": "2023-05-09T20:50:39.405Z"
   },
   {
    "duration": 31,
    "start_time": "2023-05-09T20:50:39.437Z"
   },
   {
    "duration": 25,
    "start_time": "2023-05-09T20:50:39.473Z"
   },
   {
    "duration": 30,
    "start_time": "2023-05-09T20:50:39.499Z"
   },
   {
    "duration": 30,
    "start_time": "2023-05-09T20:50:39.531Z"
   },
   {
    "duration": 27,
    "start_time": "2023-05-09T20:50:39.563Z"
   },
   {
    "duration": 16,
    "start_time": "2023-05-09T20:50:39.593Z"
   },
   {
    "duration": 27,
    "start_time": "2023-05-09T20:50:39.611Z"
   },
   {
    "duration": 42,
    "start_time": "2023-05-09T20:50:39.642Z"
   },
   {
    "duration": 20,
    "start_time": "2023-05-09T20:50:39.686Z"
   },
   {
    "duration": 146,
    "start_time": "2023-05-09T20:50:39.708Z"
   },
   {
    "duration": 12,
    "start_time": "2023-05-09T20:50:39.856Z"
   },
   {
    "duration": 173,
    "start_time": "2023-05-09T20:50:39.870Z"
   },
   {
    "duration": 1424,
    "start_time": "2023-05-09T20:51:13.816Z"
   },
   {
    "duration": 41,
    "start_time": "2023-05-09T20:51:15.251Z"
   },
   {
    "duration": 16,
    "start_time": "2023-05-09T20:51:15.294Z"
   },
   {
    "duration": 27,
    "start_time": "2023-05-09T20:51:15.313Z"
   },
   {
    "duration": 65,
    "start_time": "2023-05-09T20:51:15.348Z"
   },
   {
    "duration": 16,
    "start_time": "2023-05-09T20:51:15.416Z"
   },
   {
    "duration": 62,
    "start_time": "2023-05-09T20:51:15.434Z"
   },
   {
    "duration": 23,
    "start_time": "2023-05-09T20:51:15.499Z"
   },
   {
    "duration": 15,
    "start_time": "2023-05-09T20:51:15.524Z"
   },
   {
    "duration": 66,
    "start_time": "2023-05-09T20:51:15.541Z"
   },
   {
    "duration": 16,
    "start_time": "2023-05-09T20:51:15.610Z"
   },
   {
    "duration": 15,
    "start_time": "2023-05-09T20:51:15.630Z"
   },
   {
    "duration": 141,
    "start_time": "2023-05-09T20:51:15.648Z"
   },
   {
    "duration": 68,
    "start_time": "2023-05-09T20:51:15.792Z"
   },
   {
    "duration": 1300,
    "start_time": "2023-05-10T10:23:16.424Z"
   },
   {
    "duration": 110,
    "start_time": "2023-05-10T10:23:17.726Z"
   },
   {
    "duration": 28,
    "start_time": "2023-05-10T10:23:17.838Z"
   },
   {
    "duration": 15,
    "start_time": "2023-05-10T10:23:17.869Z"
   },
   {
    "duration": 35,
    "start_time": "2023-05-10T10:23:17.886Z"
   },
   {
    "duration": 31,
    "start_time": "2023-05-10T10:23:17.923Z"
   },
   {
    "duration": 7,
    "start_time": "2023-05-10T10:23:17.957Z"
   },
   {
    "duration": 25,
    "start_time": "2023-05-10T10:23:17.965Z"
   },
   {
    "duration": 23,
    "start_time": "2023-05-10T10:23:17.992Z"
   },
   {
    "duration": 15,
    "start_time": "2023-05-10T10:23:18.019Z"
   },
   {
    "duration": 38,
    "start_time": "2023-05-10T10:23:18.036Z"
   },
   {
    "duration": 87,
    "start_time": "2023-05-10T10:23:18.077Z"
   },
   {
    "duration": 17,
    "start_time": "2023-05-10T10:23:18.246Z"
   },
   {
    "duration": 90,
    "start_time": "2023-05-10T10:23:18.265Z"
   },
   {
    "duration": 1603,
    "start_time": "2023-05-10T15:45:49.005Z"
   },
   {
    "duration": 115,
    "start_time": "2023-05-10T15:45:50.609Z"
   },
   {
    "duration": 21,
    "start_time": "2023-05-10T15:45:50.727Z"
   },
   {
    "duration": 10,
    "start_time": "2023-05-10T15:45:50.751Z"
   },
   {
    "duration": 22,
    "start_time": "2023-05-10T15:45:50.762Z"
   },
   {
    "duration": 15,
    "start_time": "2023-05-10T15:45:50.785Z"
   },
   {
    "duration": 5,
    "start_time": "2023-05-10T15:45:50.802Z"
   },
   {
    "duration": 5,
    "start_time": "2023-05-10T15:45:50.808Z"
   },
   {
    "duration": 22,
    "start_time": "2023-05-10T15:45:50.814Z"
   },
   {
    "duration": 10,
    "start_time": "2023-05-10T15:45:50.838Z"
   },
   {
    "duration": 10,
    "start_time": "2023-05-10T15:45:50.849Z"
   },
   {
    "duration": 6,
    "start_time": "2023-05-10T15:45:50.894Z"
   },
   {
    "duration": 98,
    "start_time": "2023-05-10T15:45:50.901Z"
   },
   {
    "duration": 95,
    "start_time": "2023-05-10T15:45:51.001Z"
   }
  ],
  "kernelspec": {
   "display_name": "Python 3 (ipykernel)",
   "language": "python",
   "name": "python3"
  },
  "language_info": {
   "codemirror_mode": {
    "name": "ipython",
    "version": 3
   },
   "file_extension": ".py",
   "mimetype": "text/x-python",
   "name": "python",
   "nbconvert_exporter": "python",
   "pygments_lexer": "ipython3",
   "version": "3.10.9"
  },
  "toc": {
   "base_numbering": 1,
   "nav_menu": {},
   "number_sections": true,
   "sideBar": true,
   "skip_h1_title": true,
   "title_cell": "Содержание",
   "title_sidebar": "Contents",
   "toc_cell": true,
   "toc_position": {},
   "toc_section_display": true,
   "toc_window_display": true
  }
 },
 "nbformat": 4,
 "nbformat_minor": 2
}
