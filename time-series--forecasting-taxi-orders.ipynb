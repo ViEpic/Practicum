{
 "cells": [
  {
   "cell_type": "markdown",
   "metadata": {
    "toc": true
   },
   "source": [
    "<h1>Содержание<span class=\"tocSkip\"></span></h1>\n",
    "<div class=\"toc\"><ul class=\"toc-item\"><li><span><a href=\"#Финальный-комментарий\" data-toc-modified-id=\"Финальный-комментарий-1\"><span class=\"toc-item-num\">1&nbsp;&nbsp;</span><span style=\"color: green\">Финальный комментарий<span></span></span></a></span></li><li><span><a href=\"#Комментарий-ревьювера\" data-toc-modified-id=\"Комментарий-ревьювера-2\"><span class=\"toc-item-num\">2&nbsp;&nbsp;</span>Комментарий ревьювера</a></span></li><li><span><a href=\"#Подготовка\" data-toc-modified-id=\"Подготовка-3\"><span class=\"toc-item-num\">3&nbsp;&nbsp;</span>Подготовка</a></span></li><li><span><a href=\"#Анализ\" data-toc-modified-id=\"Анализ-4\"><span class=\"toc-item-num\">4&nbsp;&nbsp;</span>Анализ</a></span></li><li><span><a href=\"#Обучение\" data-toc-modified-id=\"Обучение-5\"><span class=\"toc-item-num\">5&nbsp;&nbsp;</span>Обучение</a></span></li><li><span><a href=\"#Тестирование\" data-toc-modified-id=\"Тестирование-6\"><span class=\"toc-item-num\">6&nbsp;&nbsp;</span>Тестирование</a></span></li><li><span><a href=\"#Общий-комментарий\" data-toc-modified-id=\"Общий-комментарий-7\"><span class=\"toc-item-num\">7&nbsp;&nbsp;</span>Общий комментарий</a></span></li><li><span><a href=\"#Чек-лист-проверки\" data-toc-modified-id=\"Чек-лист-проверки-8\"><span class=\"toc-item-num\">8&nbsp;&nbsp;</span>Чек-лист проверки</a></span></li></ul></div>"
   ]
  },
  {
   "cell_type": "markdown",
   "metadata": {},
   "source": [
    "#  Прогнозирование заказов такси"
   ]
  },
  {
   "cell_type": "markdown",
   "metadata": {},
   "source": [
    "Компания «Чётенькое такси» собрала исторические данные о заказах такси в аэропортах. Чтобы привлекать больше водителей в период пиковой нагрузки, нужно спрогнозировать количество заказов такси на следующий час. Постройте модель для такого предсказания.\n",
    "\n",
    "Значение метрики *RMSE* на тестовой выборке должно быть не больше 48.\n",
    "\n",
    "Вам нужно:\n",
    "\n",
    "1. Загрузить данные и выполнить их ресемплирование по одному часу.\n",
    "2. Проанализировать данные.\n",
    "3. Обучить разные модели с различными гиперпараметрами. Сделать тестовую выборку размером 10% от исходных данных.\n",
    "4. Проверить данные на тестовой выборке и сделать выводы.\n",
    "\n",
    "\n",
    "Данные лежат в файле `taxi.csv`. Количество заказов находится в столбце `num_orders` (от англ. *number of orders*, «число заказов»)."
   ]
  },
  {
   "cell_type": "markdown",
   "metadata": {},
   "source": [
    "## Подготовка"
   ]
  },
  {
   "cell_type": "code",
   "execution_count": 1,
   "metadata": {},
   "outputs": [],
   "source": [
    "import numpy as np\n",
    "import pandas as pd\n",
    "import seaborn as sns\n",
    "import matplotlib.pyplot as plt\n",
    "from catboost import CatBoostRegressor\n",
    "from lightgbm import LGBMRegressor\n",
    "from sklearn.ensemble import RandomForestRegressor\n",
    "from sklearn.linear_model import LinearRegression\n",
    "from sklearn.metrics import mean_squared_error\n",
    "from sklearn.model_selection import cross_val_score, GridSearchCV, TimeSeriesSplit, train_test_split\n",
    "from sklearn.pipeline import Pipeline\n",
    "from statsmodels.tsa.seasonal import seasonal_decompose\n",
    "RANDOM_STATE = 42\n",
    "TEST_SIZE = 0.1"
   ]
  },
  {
   "cell_type": "code",
   "execution_count": 2,
   "metadata": {},
   "outputs": [],
   "source": [
    "try:\n",
    "    data = pd.read_csv('/datasets/taxi.csv', index_col=[0], parse_dates=[0])\n",
    "except:\n",
    "    data = pd.read_csv('D:/Yandex/taxi.csv', index_col=[0], parse_dates=[0])"
   ]
  },
  {
   "cell_type": "code",
   "execution_count": 3,
   "metadata": {},
   "outputs": [
    {
     "data": {
      "text/html": [
       "<div>\n",
       "<style scoped>\n",
       "    .dataframe tbody tr th:only-of-type {\n",
       "        vertical-align: middle;\n",
       "    }\n",
       "\n",
       "    .dataframe tbody tr th {\n",
       "        vertical-align: top;\n",
       "    }\n",
       "\n",
       "    .dataframe thead th {\n",
       "        text-align: right;\n",
       "    }\n",
       "</style>\n",
       "<table border=\"1\" class=\"dataframe\">\n",
       "  <thead>\n",
       "    <tr style=\"text-align: right;\">\n",
       "      <th></th>\n",
       "      <th>num_orders</th>\n",
       "    </tr>\n",
       "    <tr>\n",
       "      <th>datetime</th>\n",
       "      <th></th>\n",
       "    </tr>\n",
       "  </thead>\n",
       "  <tbody>\n",
       "    <tr>\n",
       "      <th>2018-03-01 00:00:00</th>\n",
       "      <td>9</td>\n",
       "    </tr>\n",
       "    <tr>\n",
       "      <th>2018-03-01 00:10:00</th>\n",
       "      <td>14</td>\n",
       "    </tr>\n",
       "    <tr>\n",
       "      <th>2018-03-01 00:20:00</th>\n",
       "      <td>28</td>\n",
       "    </tr>\n",
       "    <tr>\n",
       "      <th>2018-03-01 00:30:00</th>\n",
       "      <td>20</td>\n",
       "    </tr>\n",
       "    <tr>\n",
       "      <th>2018-03-01 00:40:00</th>\n",
       "      <td>32</td>\n",
       "    </tr>\n",
       "  </tbody>\n",
       "</table>\n",
       "</div>"
      ],
      "text/plain": [
       "                     num_orders\n",
       "datetime                       \n",
       "2018-03-01 00:00:00           9\n",
       "2018-03-01 00:10:00          14\n",
       "2018-03-01 00:20:00          28\n",
       "2018-03-01 00:30:00          20\n",
       "2018-03-01 00:40:00          32"
      ]
     },
     "execution_count": 3,
     "metadata": {},
     "output_type": "execute_result"
    }
   ],
   "source": [
    "data.head()"
   ]
  },
  {
   "cell_type": "code",
   "execution_count": 4,
   "metadata": {},
   "outputs": [
    {
     "data": {
      "text/html": [
       "<div>\n",
       "<style scoped>\n",
       "    .dataframe tbody tr th:only-of-type {\n",
       "        vertical-align: middle;\n",
       "    }\n",
       "\n",
       "    .dataframe tbody tr th {\n",
       "        vertical-align: top;\n",
       "    }\n",
       "\n",
       "    .dataframe thead th {\n",
       "        text-align: right;\n",
       "    }\n",
       "</style>\n",
       "<table border=\"1\" class=\"dataframe\">\n",
       "  <thead>\n",
       "    <tr style=\"text-align: right;\">\n",
       "      <th></th>\n",
       "      <th>num_orders</th>\n",
       "    </tr>\n",
       "    <tr>\n",
       "      <th>datetime</th>\n",
       "      <th></th>\n",
       "    </tr>\n",
       "  </thead>\n",
       "  <tbody>\n",
       "    <tr>\n",
       "      <th>2018-08-31 23:10:00</th>\n",
       "      <td>32</td>\n",
       "    </tr>\n",
       "    <tr>\n",
       "      <th>2018-08-31 23:20:00</th>\n",
       "      <td>24</td>\n",
       "    </tr>\n",
       "    <tr>\n",
       "      <th>2018-08-31 23:30:00</th>\n",
       "      <td>27</td>\n",
       "    </tr>\n",
       "    <tr>\n",
       "      <th>2018-08-31 23:40:00</th>\n",
       "      <td>39</td>\n",
       "    </tr>\n",
       "    <tr>\n",
       "      <th>2018-08-31 23:50:00</th>\n",
       "      <td>53</td>\n",
       "    </tr>\n",
       "  </tbody>\n",
       "</table>\n",
       "</div>"
      ],
      "text/plain": [
       "                     num_orders\n",
       "datetime                       \n",
       "2018-08-31 23:10:00          32\n",
       "2018-08-31 23:20:00          24\n",
       "2018-08-31 23:30:00          27\n",
       "2018-08-31 23:40:00          39\n",
       "2018-08-31 23:50:00          53"
      ]
     },
     "execution_count": 4,
     "metadata": {},
     "output_type": "execute_result"
    }
   ],
   "source": [
    "data.tail()"
   ]
  },
  {
   "cell_type": "code",
   "execution_count": 5,
   "metadata": {},
   "outputs": [
    {
     "name": "stdout",
     "output_type": "stream",
     "text": [
      "<class 'pandas.core.frame.DataFrame'>\n",
      "DatetimeIndex: 26496 entries, 2018-03-01 00:00:00 to 2018-08-31 23:50:00\n",
      "Data columns (total 1 columns):\n",
      " #   Column      Non-Null Count  Dtype\n",
      "---  ------      --------------  -----\n",
      " 0   num_orders  26496 non-null  int64\n",
      "dtypes: int64(1)\n",
      "memory usage: 414.0 KB\n"
     ]
    }
   ],
   "source": [
    "data.info()"
   ]
  },
  {
   "cell_type": "code",
   "execution_count": 6,
   "metadata": {},
   "outputs": [
    {
     "name": "stdout",
     "output_type": "stream",
     "text": [
      "True\n",
      "<class 'pandas.core.frame.DataFrame'>\n",
      "DatetimeIndex: 26496 entries, 2018-03-01 00:00:00 to 2018-08-31 23:50:00\n",
      "Data columns (total 1 columns):\n",
      " #   Column      Non-Null Count  Dtype\n",
      "---  ------      --------------  -----\n",
      " 0   num_orders  26496 non-null  int64\n",
      "dtypes: int64(1)\n",
      "memory usage: 414.0 KB\n"
     ]
    }
   ],
   "source": [
    "# Чтобы работать с временными рядами, необходимо проверить, в хронологическом ли порядке расположены даты и время\n",
    "data.sort_index(inplace=True)\n",
    "print(data.index.is_monotonic)\n",
    "data.info()"
   ]
  },
  {
   "cell_type": "code",
   "execution_count": 7,
   "metadata": {},
   "outputs": [
    {
     "data": {
      "text/html": [
       "<div>\n",
       "<style scoped>\n",
       "    .dataframe tbody tr th:only-of-type {\n",
       "        vertical-align: middle;\n",
       "    }\n",
       "\n",
       "    .dataframe tbody tr th {\n",
       "        vertical-align: top;\n",
       "    }\n",
       "\n",
       "    .dataframe thead th {\n",
       "        text-align: right;\n",
       "    }\n",
       "</style>\n",
       "<table border=\"1\" class=\"dataframe\">\n",
       "  <thead>\n",
       "    <tr style=\"text-align: right;\">\n",
       "      <th></th>\n",
       "      <th>num_orders</th>\n",
       "    </tr>\n",
       "    <tr>\n",
       "      <th>datetime</th>\n",
       "      <th></th>\n",
       "    </tr>\n",
       "  </thead>\n",
       "  <tbody>\n",
       "    <tr>\n",
       "      <th>2018-03-01 00:00:00</th>\n",
       "      <td>124</td>\n",
       "    </tr>\n",
       "    <tr>\n",
       "      <th>2018-03-01 01:00:00</th>\n",
       "      <td>85</td>\n",
       "    </tr>\n",
       "    <tr>\n",
       "      <th>2018-03-01 02:00:00</th>\n",
       "      <td>71</td>\n",
       "    </tr>\n",
       "    <tr>\n",
       "      <th>2018-03-01 03:00:00</th>\n",
       "      <td>66</td>\n",
       "    </tr>\n",
       "    <tr>\n",
       "      <th>2018-03-01 04:00:00</th>\n",
       "      <td>43</td>\n",
       "    </tr>\n",
       "  </tbody>\n",
       "</table>\n",
       "</div>"
      ],
      "text/plain": [
       "                     num_orders\n",
       "datetime                       \n",
       "2018-03-01 00:00:00         124\n",
       "2018-03-01 01:00:00          85\n",
       "2018-03-01 02:00:00          71\n",
       "2018-03-01 03:00:00          66\n",
       "2018-03-01 04:00:00          43"
      ]
     },
     "execution_count": 7,
     "metadata": {},
     "output_type": "execute_result"
    }
   ],
   "source": [
    "# Ресемплирование\n",
    "data = data.resample('1H').sum()\n",
    "data.head()"
   ]
  },
  {
   "cell_type": "code",
   "execution_count": 8,
   "metadata": {},
   "outputs": [],
   "source": [
    "# Создание признаков\n",
    "def make_features(data, max_lag, rolling_mean_size):\n",
    "    result = data.copy()\n",
    "    result['dayofweek'] = data.index.dayofweek\n",
    "    result['hour'] = data.index.hour\n",
    "    for lag in range(1, max_lag + 1):\n",
    "        result['lag_{}'.format(lag)] = data['num_orders'].shift(lag)\n",
    "    result['rolling_mean'] = data['num_orders'].shift().\\\n",
    "    rolling(rolling_mean_size).mean()\n",
    "    return result"
   ]
  },
  {
   "cell_type": "code",
   "execution_count": 9,
   "metadata": {},
   "outputs": [
    {
     "data": {
      "text/html": [
       "<div>\n",
       "<style scoped>\n",
       "    .dataframe tbody tr th:only-of-type {\n",
       "        vertical-align: middle;\n",
       "    }\n",
       "\n",
       "    .dataframe tbody tr th {\n",
       "        vertical-align: top;\n",
       "    }\n",
       "\n",
       "    .dataframe thead th {\n",
       "        text-align: right;\n",
       "    }\n",
       "</style>\n",
       "<table border=\"1\" class=\"dataframe\">\n",
       "  <thead>\n",
       "    <tr style=\"text-align: right;\">\n",
       "      <th></th>\n",
       "      <th>num_orders</th>\n",
       "      <th>dayofweek</th>\n",
       "      <th>hour</th>\n",
       "      <th>lag_1</th>\n",
       "      <th>lag_2</th>\n",
       "      <th>rolling_mean</th>\n",
       "    </tr>\n",
       "    <tr>\n",
       "      <th>datetime</th>\n",
       "      <th></th>\n",
       "      <th></th>\n",
       "      <th></th>\n",
       "      <th></th>\n",
       "      <th></th>\n",
       "      <th></th>\n",
       "    </tr>\n",
       "  </thead>\n",
       "  <tbody>\n",
       "    <tr>\n",
       "      <th>2018-03-01 00:00:00</th>\n",
       "      <td>124</td>\n",
       "      <td>3</td>\n",
       "      <td>0</td>\n",
       "      <td>NaN</td>\n",
       "      <td>NaN</td>\n",
       "      <td>NaN</td>\n",
       "    </tr>\n",
       "    <tr>\n",
       "      <th>2018-03-01 01:00:00</th>\n",
       "      <td>85</td>\n",
       "      <td>3</td>\n",
       "      <td>1</td>\n",
       "      <td>124.0</td>\n",
       "      <td>NaN</td>\n",
       "      <td>NaN</td>\n",
       "    </tr>\n",
       "    <tr>\n",
       "      <th>2018-03-01 02:00:00</th>\n",
       "      <td>71</td>\n",
       "      <td>3</td>\n",
       "      <td>2</td>\n",
       "      <td>85.0</td>\n",
       "      <td>124.0</td>\n",
       "      <td>NaN</td>\n",
       "    </tr>\n",
       "    <tr>\n",
       "      <th>2018-03-01 03:00:00</th>\n",
       "      <td>66</td>\n",
       "      <td>3</td>\n",
       "      <td>3</td>\n",
       "      <td>71.0</td>\n",
       "      <td>85.0</td>\n",
       "      <td>NaN</td>\n",
       "    </tr>\n",
       "    <tr>\n",
       "      <th>2018-03-01 04:00:00</th>\n",
       "      <td>43</td>\n",
       "      <td>3</td>\n",
       "      <td>4</td>\n",
       "      <td>66.0</td>\n",
       "      <td>71.0</td>\n",
       "      <td>NaN</td>\n",
       "    </tr>\n",
       "    <tr>\n",
       "      <th>...</th>\n",
       "      <td>...</td>\n",
       "      <td>...</td>\n",
       "      <td>...</td>\n",
       "      <td>...</td>\n",
       "      <td>...</td>\n",
       "      <td>...</td>\n",
       "    </tr>\n",
       "    <tr>\n",
       "      <th>2018-08-31 19:00:00</th>\n",
       "      <td>136</td>\n",
       "      <td>4</td>\n",
       "      <td>19</td>\n",
       "      <td>207.0</td>\n",
       "      <td>217.0</td>\n",
       "      <td>164.875000</td>\n",
       "    </tr>\n",
       "    <tr>\n",
       "      <th>2018-08-31 20:00:00</th>\n",
       "      <td>154</td>\n",
       "      <td>4</td>\n",
       "      <td>20</td>\n",
       "      <td>136.0</td>\n",
       "      <td>207.0</td>\n",
       "      <td>167.541667</td>\n",
       "    </tr>\n",
       "    <tr>\n",
       "      <th>2018-08-31 21:00:00</th>\n",
       "      <td>159</td>\n",
       "      <td>4</td>\n",
       "      <td>21</td>\n",
       "      <td>154.0</td>\n",
       "      <td>136.0</td>\n",
       "      <td>168.041667</td>\n",
       "    </tr>\n",
       "    <tr>\n",
       "      <th>2018-08-31 22:00:00</th>\n",
       "      <td>223</td>\n",
       "      <td>4</td>\n",
       "      <td>22</td>\n",
       "      <td>159.0</td>\n",
       "      <td>154.0</td>\n",
       "      <td>166.416667</td>\n",
       "    </tr>\n",
       "    <tr>\n",
       "      <th>2018-08-31 23:00:00</th>\n",
       "      <td>205</td>\n",
       "      <td>4</td>\n",
       "      <td>23</td>\n",
       "      <td>223.0</td>\n",
       "      <td>159.0</td>\n",
       "      <td>169.125000</td>\n",
       "    </tr>\n",
       "  </tbody>\n",
       "</table>\n",
       "<p>4416 rows × 6 columns</p>\n",
       "</div>"
      ],
      "text/plain": [
       "                     num_orders  dayofweek  hour  lag_1  lag_2  rolling_mean\n",
       "datetime                                                                    \n",
       "2018-03-01 00:00:00         124          3     0    NaN    NaN           NaN\n",
       "2018-03-01 01:00:00          85          3     1  124.0    NaN           NaN\n",
       "2018-03-01 02:00:00          71          3     2   85.0  124.0           NaN\n",
       "2018-03-01 03:00:00          66          3     3   71.0   85.0           NaN\n",
       "2018-03-01 04:00:00          43          3     4   66.0   71.0           NaN\n",
       "...                         ...        ...   ...    ...    ...           ...\n",
       "2018-08-31 19:00:00         136          4    19  207.0  217.0    164.875000\n",
       "2018-08-31 20:00:00         154          4    20  136.0  207.0    167.541667\n",
       "2018-08-31 21:00:00         159          4    21  154.0  136.0    168.041667\n",
       "2018-08-31 22:00:00         223          4    22  159.0  154.0    166.416667\n",
       "2018-08-31 23:00:00         205          4    23  223.0  159.0    169.125000\n",
       "\n",
       "[4416 rows x 6 columns]"
      ]
     },
     "execution_count": 9,
     "metadata": {},
     "output_type": "execute_result"
    }
   ],
   "source": [
    "data_plus = make_features(data, 2, 24)\n",
    "data_plus"
   ]
  },
  {
   "cell_type": "markdown",
   "metadata": {},
   "source": [
    "- данные прочитаны, в качестве индекса мы установили признак datetime и изменили тип данных datetime с object на datetime64;\n",
    "- выполнено ресемплирование данных по одному часу;\n",
    "- созданы новые признаки: календарные признаки (день недели и час), отстающие значения, скользящее среднее."
   ]
  },
  {
   "cell_type": "markdown",
   "metadata": {},
   "source": [
    "## Анализ"
   ]
  },
  {
   "cell_type": "markdown",
   "metadata": {},
   "source": [
    "Тренд"
   ]
  },
  {
   "cell_type": "code",
   "execution_count": 10,
   "metadata": {},
   "outputs": [],
   "source": [
    "decomposed_day = seasonal_decompose(data.resample('1D').sum())"
   ]
  },
  {
   "cell_type": "code",
   "execution_count": 11,
   "metadata": {},
   "outputs": [
    {
     "data": {
      "image/png": "[encoded data removed]",
      "text/plain": [
       "<Figure size 1080x360 with 1 Axes>"
      ]
     },
     "metadata": {
      "needs_background": "light"
     },
     "output_type": "display_data"
    }
   ],
   "source": [
    "plt.figure(figsize=(15, 5))\n",
    "decomposed_day.trend.plot(title='Trend')\n",
    "plt.xlabel(\"Месяц\")\n",
    "plt.ylabel('Количество заказов')\n",
    "plt.show()"
   ]
  },
  {
   "cell_type": "markdown",
   "metadata": {},
   "source": [
    "На графике хорошо прослеживается рост числа заказов такси в аэропорт за полгода."
   ]
  },
  {
   "cell_type": "markdown",
   "metadata": {},
   "source": [
    "Сезонность"
   ]
  },
  {
   "cell_type": "code",
   "execution_count": 12,
   "metadata": {},
   "outputs": [
    {
     "data": {
      "image/png": "[encoded data removed]",
      "text/plain": [
       "<Figure size 1080x360 with 1 Axes>"
      ]
     },
     "metadata": {
      "needs_background": "light"
     },
     "output_type": "display_data"
    }
   ],
   "source": [
    "plt.figure(figsize=(15, 5))\n",
    "decomposed_day.seasonal['2018-03-01':'2018-03-15'].plot(title='Weekly seasonality')\n",
    "plt.xlabel(\"День\")\n",
    "plt.ylabel('Количество заказов')\n",
    "plt.show()"
   ]
  },
  {
   "cell_type": "markdown",
   "metadata": {},
   "source": [
    "Здесь видны пики во вторник и пятницу. То есть больше всего заказов такси в аэропорт приходится на начало и конец рабочей недели."
   ]
  },
  {
   "cell_type": "code",
   "execution_count": 13,
   "metadata": {},
   "outputs": [],
   "source": [
    "decomposed_hour = seasonal_decompose(data)"
   ]
  },
  {
   "cell_type": "code",
   "execution_count": 14,
   "metadata": {},
   "outputs": [
    {
     "data": {
      "image/png": "[encoded data removed]",
      "text/plain": [
       "<Figure size 1080x360 with 1 Axes>"
      ]
     },
     "metadata": {
      "needs_background": "light"
     },
     "output_type": "display_data"
    }
   ],
   "source": [
    "plt.figure(figsize=(15, 5))\n",
    "decomposed_hour.seasonal['2018-03-01':'2018-03-2'].plot(title='Daily seasonality')\n",
    "plt.xlabel(\"Час\")\n",
    "plt.ylabel('Количество заказов')\n",
    "plt.show()"
   ]
  },
  {
   "cell_type": "markdown",
   "metadata": {},
   "source": [
    "На графике видно, что самое непопулярное время - 6:00. Затем в течение дня наблюдаются несколько пиков: в 10:00 в 16:00 и самое загруженное время - в 00:00."
   ]
  },
  {
   "cell_type": "markdown",
   "metadata": {},
   "source": [
    "- в течение всего полугодового периода с 1 марта по 31 августа 2018 года прослеживается рост числа заказов такси в аэропорт;\n",
    "- в пределах недели: больше всего заказов такси в аэропорт приходится на вторник и пятницу;\n",
    "- в пределах дня: самое непопулярное время - 6:00. Затем в течение дня наблюдаются несколько пиков: в 10:00 в 16:00 и самое загруженное время - в 00:00."
   ]
  },
  {
   "cell_type": "markdown",
   "metadata": {},
   "source": [
    "## Обучение"
   ]
  },
  {
   "cell_type": "code",
   "execution_count": 15,
   "metadata": {},
   "outputs": [],
   "source": [
    "# Разделим данных на выборки\n",
    "data_plus.dropna(inplace=True)\n",
    "X = data_plus.drop('num_orders', axis=1)\n",
    "y = data_plus['num_orders']\n",
    "X_train, X_test, y_train, y_test = train_test_split(X, y, shuffle=False, test_size=TEST_SIZE)"
   ]
  },
  {
   "cell_type": "code",
   "execution_count": 16,
   "metadata": {
    "scrolled": true
   },
   "outputs": [
    {
     "name": "stdout",
     "output_type": "stream",
     "text": [
      "Размеры выборок:\n",
      "train: 3952 - 89%\n",
      "test: 440 - 10%\n"
     ]
    }
   ],
   "source": [
    "print('Размеры выборок:')\n",
    "print(f'train: {len(X_train)} - {len(X_train)/len(data):.0%}')\n",
    "print(f'test: {len(X_test)} - {len(X_test)/len(data):.0%}')"
   ]
  },
  {
   "cell_type": "code",
   "execution_count": 17,
   "metadata": {},
   "outputs": [],
   "source": [
    "# Функция для обучения моделей\n",
    "tscv = TimeSeriesSplit(n_splits=4)"
   ]
  },
  {
   "cell_type": "code",
   "execution_count": 18,
   "metadata": {},
   "outputs": [],
   "source": [
    "def fit_model(estimator, param_grid, X_train, y_train):\n",
    "    model = GridSearchCV(estimator=estimator, param_grid=param_grid, n_jobs=-1, cv=tscv, scoring='neg_root_mean_squared_error')\n",
    "    model.fit(X_train, y_train)\n",
    "    best_rmse = abs(round(model.best_score_, 1))\n",
    "    print(f'Best RMSE: {best_rmse}')\n",
    "    print(f'Best params: {model.best_params_}')\n",
    "    return model.best_estimator_, best_rmse"
   ]
  },
  {
   "cell_type": "code",
   "execution_count": 19,
   "metadata": {},
   "outputs": [
    {
     "name": "stdout",
     "output_type": "stream",
     "text": [
      "RMSE: 32.1\n"
     ]
    }
   ],
   "source": [
    "# LinearRegression\n",
    "lr_estimator = Pipeline([('lr', LinearRegression())])\n",
    "scores = cross_val_score(lr_estimator, X_train, y_train, scoring='neg_root_mean_squared_error', cv=tscv)\n",
    "rmse_lr = abs(scores.mean())\n",
    "print(f'RMSE: {rmse_lr:.1f}')"
   ]
  },
  {
   "cell_type": "code",
   "execution_count": 20,
   "metadata": {},
   "outputs": [
    {
     "name": "stdout",
     "output_type": "stream",
     "text": [
      "Best RMSE: 26.5\n",
      "Best params: {'max_depth': 11, 'n_estimators': 120}\n"
     ]
    }
   ],
   "source": [
    "# RandomForestRegressor\n",
    "rf_param_grid = {'max_depth': list(range(5, 12, 2)), 'n_estimators': list(range(50, 121, 10))}\n",
    "rf_best_model = fit_model(estimator=RandomForestRegressor(random_state=RANDOM_STATE, n_jobs=-1),\n",
    "    param_grid=rf_param_grid, X_train=X_train, y_train=y_train)"
   ]
  },
  {
   "cell_type": "code",
   "execution_count": 21,
   "metadata": {},
   "outputs": [
    {
     "name": "stdout",
     "output_type": "stream",
     "text": [
      "Best RMSE: 26.0\n",
      "Best params: {'learning_rate': 0.05, 'max_depth': 8, 'n_estimators': 100}\n"
     ]
    }
   ],
   "source": [
    "# LGBMRegressor\n",
    "lgbm_param_grid = {'max_depth': range(4, 9, 2), 'n_estimators': range(100, 201, 50), 'learning_rate': [0.01, 0.05, 0.1]}\n",
    "lgbm_best_model = fit_model(estimator=LGBMRegressor(random_state=RANDOM_STATE, n_jobs=-1), \n",
    "                            param_grid=lgbm_param_grid, X_train=X_train, y_train=y_train)"
   ]
  },
  {
   "cell_type": "code",
   "execution_count": 22,
   "metadata": {},
   "outputs": [
    {
     "name": "stdout",
     "output_type": "stream",
     "text": [
      "Best RMSE: 26.4\n",
      "Best params: {'depth': 2, 'iterations': 250, 'learning_rate': 0.15}\n"
     ]
    }
   ],
   "source": [
    "# CatBoostRegressor\n",
    "catboost_param_grid = {'depth': range(2, 12, 3), 'iterations': range(250, 301, 50), 'learning_rate': [0.05, 0.1, 0.15], }\n",
    "catboost_best_model = fit_model(estimator=CatBoostRegressor(random_state=RANDOM_STATE, verbose=False, allow_writing_files=False),\n",
    "    param_grid=catboost_param_grid, X_train=X_train, y_train=y_train)"
   ]
  },
  {
   "cell_type": "code",
   "execution_count": 23,
   "metadata": {},
   "outputs": [
    {
     "data": {
      "text/html": [
       "<div>\n",
       "<style scoped>\n",
       "    .dataframe tbody tr th:only-of-type {\n",
       "        vertical-align: middle;\n",
       "    }\n",
       "\n",
       "    .dataframe tbody tr th {\n",
       "        vertical-align: top;\n",
       "    }\n",
       "\n",
       "    .dataframe thead th {\n",
       "        text-align: right;\n",
       "    }\n",
       "</style>\n",
       "<table border=\"1\" class=\"dataframe\">\n",
       "  <thead>\n",
       "    <tr style=\"text-align: right;\">\n",
       "      <th></th>\n",
       "      <th>model</th>\n",
       "      <th>RMSE</th>\n",
       "    </tr>\n",
       "  </thead>\n",
       "  <tbody>\n",
       "    <tr>\n",
       "      <th>0</th>\n",
       "      <td>LinearRegression</td>\n",
       "      <td>32.1</td>\n",
       "    </tr>\n",
       "    <tr>\n",
       "      <th>1</th>\n",
       "      <td>RandomForestRegressor</td>\n",
       "      <td>26.5</td>\n",
       "    </tr>\n",
       "    <tr>\n",
       "      <th>2</th>\n",
       "      <td>LGBMRegressor</td>\n",
       "      <td>26.0</td>\n",
       "    </tr>\n",
       "    <tr>\n",
       "      <th>3</th>\n",
       "      <td>CatBoostRegressor</td>\n",
       "      <td>26.4</td>\n",
       "    </tr>\n",
       "  </tbody>\n",
       "</table>\n",
       "</div>"
      ],
      "text/plain": [
       "                   model  RMSE\n",
       "0       LinearRegression  32.1\n",
       "1  RandomForestRegressor  26.5\n",
       "2          LGBMRegressor  26.0\n",
       "3      CatBoostRegressor  26.4"
      ]
     },
     "execution_count": 23,
     "metadata": {},
     "output_type": "execute_result"
    }
   ],
   "source": [
    "# Сравнение моделей\n",
    "table = pd.DataFrame([['LinearRegression', f'{rmse_lr:.1f}'], ['RandomForestRegressor', f'{rf_best_model[1]:.1f}'], \n",
    "                      ['LGBMRegressor', f'{lgbm_best_model[1]:.1f}'], ['CatBoostRegressor', f'{catboost_best_model[1]:.1f}']],\n",
    "columns=['model', 'RMSE'])\n",
    "table"
   ]
  },
  {
   "cell_type": "markdown",
   "metadata": {},
   "source": [
    "Лучшая модель градиентного бустинга LGBMRegressor на обучающей выборке имеет значение метрики оценки качества *RMSE = 26.0* при следующих параметрах:\n",
    "глубина дерева: max_depth = 8;\n",
    "количество деревьев (итераций): n_estimators = 100;\n",
    "коэффициент скорости обучения (размер шага градиентного спуска): learning_rate = 0.05."
   ]
  },
  {
   "cell_type": "markdown",
   "metadata": {},
   "source": [
    "## Тестирование"
   ]
  },
  {
   "cell_type": "code",
   "execution_count": 24,
   "metadata": {},
   "outputs": [
    {
     "name": "stdout",
     "output_type": "stream",
     "text": [
      "RMSE на тестовой выборке: 44.8\n"
     ]
    }
   ],
   "source": [
    "# Проверим качесто выбранной модели градиентного бустинга LGBMRegressor на тестовой выборке\n",
    "pred = lgbm_best_model[0].predict(X_test)\n",
    "# параметр squared=False возвращает метрику RMSE\n",
    "rmse = mean_squared_error(y_test, pred, squared=False) \n",
    "print(f'RMSE на тестовой выборке: {rmse:.1f}')"
   ]
  },
  {
   "cell_type": "markdown",
   "metadata": {},
   "source": [
    "- лучшая модель градиентного бустинга LGBMRegressor на тестовой выборке имеет значение метрики оценки качества *RMSE = 44.8*;\n",
    "- значение метрики *RMSE* на тестовой выборке не превышает *48*, что соответствует изначальному требованию в условии задачи проекта"
   ]
  },
  {
   "cell_type": "code",
   "execution_count": 25,
   "metadata": {},
   "outputs": [
    {
     "data": {
      "image/png": "[encoded data removed]",
      "text/plain": [
       "<Figure size 1080x360 with 1 Axes>"
      ]
     },
     "metadata": {
      "needs_background": "light"
     },
     "output_type": "display_data"
    }
   ],
   "source": [
    "pred = pd.Series(pred, index=y_test.index)\n",
    "plt.figure(figsize=(15, 5))\n",
    "y_test.plot(label='true', title='Test')\n",
    "pred.plot(label='predicted')\n",
    "plt.legend()\n",
    "plt.xlabel(\"Дни\")\n",
    "plt.ylabel('Количество заказов')\n",
    "plt.show()"
   ]
  },
  {
   "cell_type": "markdown",
   "metadata": {},
   "source": [
    "<hr style=\"border: 2px solid green;\" />\n",
    "\n",
    "## Общий комментарий\n",
    "Спасибо за проделанную работу🤝\n",
    "\n",
    "Виктор, проект выполнен хорошо, тебе удалось построить качественную модель👌\n",
    "\n",
    "Осталось визуализировать график прогноз-факт\n",
    "\n",
    "Исправляй и отправляй на проверку🛠"
   ]
  }
 ],
 "metadata": {
  "ExecuteTimeLog": [
   {
    "duration": 1571,
    "start_time": "2023-05-28T23:29:46.950Z"
   },
   {
    "duration": 186,
    "start_time": "2023-05-28T23:29:48.523Z"
   },
   {
    "duration": 9,
    "start_time": "2023-05-28T23:29:48.710Z"
   },
   {
    "duration": 11,
    "start_time": "2023-05-28T23:29:48.721Z"
   },
   {
    "duration": 20,
    "start_time": "2023-05-28T23:29:48.733Z"
   },
   {
    "duration": 4,
    "start_time": "2023-05-28T23:29:48.755Z"
   },
   {
    "duration": 13,
    "start_time": "2023-05-28T23:29:48.760Z"
   },
   {
    "duration": 13,
    "start_time": "2023-05-28T23:29:48.775Z"
   },
   {
    "duration": 1380,
    "start_time": "2023-05-28T23:54:55.150Z"
   },
   {
    "duration": 46,
    "start_time": "2023-05-28T23:54:56.532Z"
   },
   {
    "duration": 13,
    "start_time": "2023-05-28T23:54:56.579Z"
   },
   {
    "duration": 11,
    "start_time": "2023-05-28T23:54:56.594Z"
   },
   {
    "duration": 9,
    "start_time": "2023-05-28T23:54:56.608Z"
   },
   {
    "duration": 11,
    "start_time": "2023-05-28T23:54:56.618Z"
   },
   {
    "duration": 3,
    "start_time": "2023-05-28T23:54:56.630Z"
   },
   {
    "duration": 20,
    "start_time": "2023-05-28T23:54:56.635Z"
   },
   {
    "duration": 1855,
    "start_time": "2023-05-29T07:23:24.796Z"
   },
   {
    "duration": 195,
    "start_time": "2023-05-29T07:23:26.653Z"
   },
   {
    "duration": 18,
    "start_time": "2023-05-29T07:23:26.850Z"
   },
   {
    "duration": 17,
    "start_time": "2023-05-29T07:23:26.875Z"
   },
   {
    "duration": 12,
    "start_time": "2023-05-29T07:23:26.899Z"
   },
   {
    "duration": 12,
    "start_time": "2023-05-29T07:23:26.913Z"
   },
   {
    "duration": 17,
    "start_time": "2023-05-29T07:23:26.926Z"
   },
   {
    "duration": 18,
    "start_time": "2023-05-29T07:23:26.944Z"
   },
   {
    "duration": 51,
    "start_time": "2023-05-29T07:23:26.963Z"
   },
   {
    "duration": 1782,
    "start_time": "2023-05-29T07:27:39.349Z"
   },
   {
    "duration": 98,
    "start_time": "2023-05-29T07:27:41.133Z"
   },
   {
    "duration": 15,
    "start_time": "2023-05-29T07:27:41.236Z"
   },
   {
    "duration": 20,
    "start_time": "2023-05-29T07:27:41.253Z"
   },
   {
    "duration": 42,
    "start_time": "2023-05-29T07:27:41.275Z"
   },
   {
    "duration": 14,
    "start_time": "2023-05-29T07:27:41.323Z"
   },
   {
    "duration": 30,
    "start_time": "2023-05-29T07:27:41.340Z"
   },
   {
    "duration": 18,
    "start_time": "2023-05-29T07:27:41.372Z"
   },
   {
    "duration": 53,
    "start_time": "2023-05-29T07:27:41.398Z"
   },
   {
    "duration": 1678,
    "start_time": "2023-05-29T10:26:23.921Z"
   },
   {
    "duration": 47,
    "start_time": "2023-05-29T10:26:25.606Z"
   },
   {
    "duration": 16,
    "start_time": "2023-05-29T10:26:25.655Z"
   },
   {
    "duration": 8,
    "start_time": "2023-05-29T10:26:25.675Z"
   },
   {
    "duration": 13,
    "start_time": "2023-05-29T10:26:25.686Z"
   },
   {
    "duration": 13,
    "start_time": "2023-05-29T10:26:25.700Z"
   },
   {
    "duration": 13,
    "start_time": "2023-05-29T10:26:25.715Z"
   },
   {
    "duration": 46,
    "start_time": "2023-05-29T10:26:25.729Z"
   },
   {
    "duration": 35,
    "start_time": "2023-05-29T10:26:25.777Z"
   },
   {
    "duration": 9,
    "start_time": "2023-05-29T10:26:25.815Z"
   },
   {
    "duration": 298,
    "start_time": "2023-05-29T10:26:25.826Z"
   },
   {
    "duration": 228,
    "start_time": "2023-05-29T10:26:26.126Z"
   },
   {
    "duration": 13,
    "start_time": "2023-05-29T10:26:26.356Z"
   },
   {
    "duration": 302,
    "start_time": "2023-05-29T10:26:26.371Z"
   },
   {
    "duration": 15,
    "start_time": "2023-05-29T10:26:26.677Z"
   },
   {
    "duration": 8,
    "start_time": "2023-05-29T10:26:26.702Z"
   },
   {
    "duration": 5,
    "start_time": "2023-05-29T10:26:26.712Z"
   },
   {
    "duration": 4,
    "start_time": "2023-05-29T10:26:26.719Z"
   },
   {
    "duration": 5,
    "start_time": "2023-05-29T10:26:26.725Z"
   },
   {
    "duration": 0,
    "start_time": "2023-05-29T10:26:26.732Z"
   },
   {
    "duration": 0,
    "start_time": "2023-05-29T10:26:26.734Z"
   },
   {
    "duration": 0,
    "start_time": "2023-05-29T10:26:26.735Z"
   },
   {
    "duration": 0,
    "start_time": "2023-05-29T10:26:26.736Z"
   },
   {
    "duration": 0,
    "start_time": "2023-05-29T10:26:26.738Z"
   },
   {
    "duration": 1642,
    "start_time": "2023-05-29T10:44:17.008Z"
   },
   {
    "duration": 75,
    "start_time": "2023-05-29T10:44:18.652Z"
   },
   {
    "duration": 12,
    "start_time": "2023-05-29T10:44:18.729Z"
   },
   {
    "duration": 11,
    "start_time": "2023-05-29T10:44:18.743Z"
   },
   {
    "duration": 23,
    "start_time": "2023-05-29T10:44:18.756Z"
   },
   {
    "duration": 20,
    "start_time": "2023-05-29T10:44:18.782Z"
   },
   {
    "duration": 26,
    "start_time": "2023-05-29T10:44:18.804Z"
   },
   {
    "duration": 4,
    "start_time": "2023-05-29T10:44:18.832Z"
   },
   {
    "duration": 56,
    "start_time": "2023-05-29T10:44:18.837Z"
   },
   {
    "duration": 8,
    "start_time": "2023-05-29T10:44:18.896Z"
   },
   {
    "duration": 259,
    "start_time": "2023-05-29T10:44:18.906Z"
   },
   {
    "duration": 237,
    "start_time": "2023-05-29T10:44:19.168Z"
   },
   {
    "duration": 10,
    "start_time": "2023-05-29T10:44:19.408Z"
   },
   {
    "duration": 313,
    "start_time": "2023-05-29T10:44:19.420Z"
   },
   {
    "duration": 11,
    "start_time": "2023-05-29T10:44:19.735Z"
   },
   {
    "duration": 23,
    "start_time": "2023-05-29T10:44:19.748Z"
   },
   {
    "duration": 17,
    "start_time": "2023-05-29T10:44:19.772Z"
   },
   {
    "duration": 23,
    "start_time": "2023-05-29T10:44:19.791Z"
   },
   {
    "duration": 36,
    "start_time": "2023-05-29T10:44:19.816Z"
   },
   {
    "duration": 43233,
    "start_time": "2023-05-29T10:44:19.854Z"
   },
   {
    "duration": 3710516,
    "start_time": "2023-05-29T10:45:03.090Z"
   },
   {
    "duration": 0,
    "start_time": "2023-05-29T11:46:53.610Z"
   },
   {
    "duration": 0,
    "start_time": "2023-05-29T11:46:53.611Z"
   },
   {
    "duration": 0,
    "start_time": "2023-05-29T11:46:53.613Z"
   },
   {
    "duration": 1985,
    "start_time": "2023-05-29T11:47:00.437Z"
   },
   {
    "duration": 69,
    "start_time": "2023-05-29T11:47:02.425Z"
   },
   {
    "duration": 88,
    "start_time": "2023-05-29T11:47:02.497Z"
   },
   {
    "duration": 156,
    "start_time": "2023-05-29T11:47:02.587Z"
   },
   {
    "duration": 52,
    "start_time": "2023-05-29T11:47:02.746Z"
   },
   {
    "duration": 23,
    "start_time": "2023-05-29T11:47:02.800Z"
   },
   {
    "duration": 51,
    "start_time": "2023-05-29T11:47:02.825Z"
   },
   {
    "duration": 15,
    "start_time": "2023-05-29T11:47:02.878Z"
   },
   {
    "duration": 72,
    "start_time": "2023-05-29T11:47:02.897Z"
   },
   {
    "duration": 19,
    "start_time": "2023-05-29T11:47:02.972Z"
   },
   {
    "duration": 359,
    "start_time": "2023-05-29T11:47:02.994Z"
   },
   {
    "duration": 273,
    "start_time": "2023-05-29T11:47:03.355Z"
   },
   {
    "duration": 12,
    "start_time": "2023-05-29T11:47:03.631Z"
   },
   {
    "duration": 379,
    "start_time": "2023-05-29T11:47:03.648Z"
   },
   {
    "duration": 13,
    "start_time": "2023-05-29T11:47:04.030Z"
   },
   {
    "duration": 21,
    "start_time": "2023-05-29T11:47:04.046Z"
   },
   {
    "duration": 4,
    "start_time": "2023-05-29T11:47:04.069Z"
   },
   {
    "duration": 9,
    "start_time": "2023-05-29T11:47:04.075Z"
   },
   {
    "duration": 57,
    "start_time": "2023-05-29T11:47:04.086Z"
   },
   {
    "duration": 45187,
    "start_time": "2023-05-29T11:47:04.145Z"
   },
   {
    "duration": 8373728,
    "start_time": "2023-05-29T11:47:49.334Z"
   },
   {
    "duration": 111784,
    "start_time": "2023-05-29T14:07:23.063Z"
   },
   {
    "duration": 11,
    "start_time": "2023-05-29T14:09:14.850Z"
   },
   {
    "duration": 12,
    "start_time": "2023-05-29T14:09:14.863Z"
   },
   {
    "duration": 1645,
    "start_time": "2023-05-29T22:22:07.314Z"
   },
   {
    "duration": 138,
    "start_time": "2023-05-29T22:22:08.961Z"
   },
   {
    "duration": 15,
    "start_time": "2023-05-29T22:22:09.101Z"
   },
   {
    "duration": 16,
    "start_time": "2023-05-29T22:22:09.118Z"
   },
   {
    "duration": 16,
    "start_time": "2023-05-29T22:22:09.137Z"
   },
   {
    "duration": 13,
    "start_time": "2023-05-29T22:22:09.155Z"
   },
   {
    "duration": 18,
    "start_time": "2023-05-29T22:22:09.169Z"
   },
   {
    "duration": 4,
    "start_time": "2023-05-29T22:22:09.189Z"
   },
   {
    "duration": 23,
    "start_time": "2023-05-29T22:22:09.194Z"
   },
   {
    "duration": 10,
    "start_time": "2023-05-29T22:22:09.219Z"
   },
   {
    "duration": 263,
    "start_time": "2023-05-29T22:22:09.231Z"
   },
   {
    "duration": 191,
    "start_time": "2023-05-29T22:22:09.496Z"
   },
   {
    "duration": 8,
    "start_time": "2023-05-29T22:22:09.689Z"
   },
   {
    "duration": 283,
    "start_time": "2023-05-29T22:22:09.699Z"
   },
   {
    "duration": 11,
    "start_time": "2023-05-29T22:22:09.986Z"
   },
   {
    "duration": 19,
    "start_time": "2023-05-29T22:22:10.001Z"
   },
   {
    "duration": 8,
    "start_time": "2023-05-29T22:22:10.022Z"
   },
   {
    "duration": 15,
    "start_time": "2023-05-29T22:22:10.032Z"
   },
   {
    "duration": 32,
    "start_time": "2023-05-29T22:22:10.049Z"
   },
   {
    "duration": 40152,
    "start_time": "2023-05-29T22:22:10.083Z"
   },
   {
    "duration": 1541,
    "start_time": "2023-05-29T22:23:43.736Z"
   },
   {
    "duration": 52,
    "start_time": "2023-05-29T22:23:45.279Z"
   },
   {
    "duration": 10,
    "start_time": "2023-05-29T22:23:45.333Z"
   },
   {
    "duration": 13,
    "start_time": "2023-05-29T22:23:45.345Z"
   },
   {
    "duration": 31,
    "start_time": "2023-05-29T22:23:45.360Z"
   },
   {
    "duration": 16,
    "start_time": "2023-05-29T22:23:45.392Z"
   },
   {
    "duration": 22,
    "start_time": "2023-05-29T22:23:45.410Z"
   },
   {
    "duration": 6,
    "start_time": "2023-05-29T22:23:45.434Z"
   },
   {
    "duration": 43,
    "start_time": "2023-05-29T22:23:45.442Z"
   },
   {
    "duration": 10,
    "start_time": "2023-05-29T22:23:45.488Z"
   },
   {
    "duration": 243,
    "start_time": "2023-05-29T22:23:45.500Z"
   },
   {
    "duration": 207,
    "start_time": "2023-05-29T22:23:45.745Z"
   },
   {
    "duration": 6,
    "start_time": "2023-05-29T22:23:45.954Z"
   },
   {
    "duration": 262,
    "start_time": "2023-05-29T22:23:45.962Z"
   },
   {
    "duration": 9,
    "start_time": "2023-05-29T22:23:46.226Z"
   },
   {
    "duration": 19,
    "start_time": "2023-05-29T22:23:46.237Z"
   },
   {
    "duration": 15,
    "start_time": "2023-05-29T22:23:46.258Z"
   },
   {
    "duration": 22,
    "start_time": "2023-05-29T22:23:46.275Z"
   },
   {
    "duration": 68,
    "start_time": "2023-05-29T22:23:46.299Z"
   },
   {
    "duration": 40160,
    "start_time": "2023-05-29T22:23:46.369Z"
   },
   {
    "duration": 83748,
    "start_time": "2023-05-29T22:24:26.531Z"
   },
   {
    "duration": 102428,
    "start_time": "2023-05-29T22:25:50.281Z"
   },
   {
    "duration": 9,
    "start_time": "2023-05-29T22:27:32.711Z"
   },
   {
    "duration": 57,
    "start_time": "2023-05-29T22:27:32.722Z"
   },
   {
    "duration": 43,
    "start_time": "2023-05-30T08:16:25.292Z"
   },
   {
    "duration": 1496,
    "start_time": "2023-05-30T08:17:21.383Z"
   },
   {
    "duration": 144,
    "start_time": "2023-05-30T08:17:22.881Z"
   },
   {
    "duration": 10,
    "start_time": "2023-05-30T08:17:23.027Z"
   },
   {
    "duration": 6,
    "start_time": "2023-05-30T08:17:23.039Z"
   },
   {
    "duration": 14,
    "start_time": "2023-05-30T08:17:23.047Z"
   },
   {
    "duration": 10,
    "start_time": "2023-05-30T08:17:23.062Z"
   },
   {
    "duration": 38,
    "start_time": "2023-05-30T08:17:23.073Z"
   },
   {
    "duration": 5,
    "start_time": "2023-05-30T08:17:23.113Z"
   },
   {
    "duration": 32,
    "start_time": "2023-05-30T08:17:23.120Z"
   },
   {
    "duration": 8,
    "start_time": "2023-05-30T08:17:23.156Z"
   },
   {
    "duration": 240,
    "start_time": "2023-05-30T08:17:23.166Z"
   },
   {
    "duration": 205,
    "start_time": "2023-05-30T08:17:23.407Z"
   },
   {
    "duration": 8,
    "start_time": "2023-05-30T08:17:23.613Z"
   },
   {
    "duration": 233,
    "start_time": "2023-05-30T08:17:23.623Z"
   },
   {
    "duration": 10,
    "start_time": "2023-05-30T08:17:23.857Z"
   },
   {
    "duration": 4,
    "start_time": "2023-05-30T08:17:23.869Z"
   },
   {
    "duration": 14,
    "start_time": "2023-05-30T08:17:23.875Z"
   },
   {
    "duration": 15,
    "start_time": "2023-05-30T08:17:23.890Z"
   },
   {
    "duration": 43,
    "start_time": "2023-05-30T08:17:23.907Z"
   },
   {
    "duration": 33365,
    "start_time": "2023-05-30T08:17:24.007Z"
   },
   {
    "duration": 7116832,
    "start_time": "2023-05-30T08:17:57.374Z"
   },
   {
    "duration": 96734,
    "start_time": "2023-05-30T10:16:34.209Z"
   },
   {
    "duration": 8,
    "start_time": "2023-05-30T10:18:10.945Z"
   },
   {
    "duration": 53,
    "start_time": "2023-05-30T10:18:10.954Z"
   },
   {
    "duration": 304,
    "start_time": "2023-05-30T10:18:11.009Z"
   }
  ],
  "kernelspec": {
   "display_name": "Python 3 (ipykernel)",
   "language": "python",
   "name": "python3"
  },
  "language_info": {
   "codemirror_mode": {
    "name": "ipython",
    "version": 3
   },
   "file_extension": ".py",
   "mimetype": "text/x-python",
   "name": "python",
   "nbconvert_exporter": "python",
   "pygments_lexer": "ipython3",
   "version": "3.10.9"
  },
  "toc": {
   "base_numbering": 1,
   "nav_menu": {},
   "number_sections": true,
   "sideBar": true,
   "skip_h1_title": true,
   "title_cell": "Содержание",
   "title_sidebar": "Contents",
   "toc_cell": true,
   "toc_position": {},
   "toc_section_display": true,
   "toc_window_display": true
  }
 },
 "nbformat": 4,
 "nbformat_minor": 2
}
